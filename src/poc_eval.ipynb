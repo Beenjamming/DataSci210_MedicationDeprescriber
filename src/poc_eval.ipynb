{
 "cells": [
  {
   "cell_type": "code",
   "execution_count": 1,
   "metadata": {},
   "outputs": [
    {
     "name": "stderr",
     "output_type": "stream",
     "text": [
      "/Users/reedevans/Documents/mids/deprescribe_main/DataSci210_MedicationDeprescriber/src/extraction.py:15: LangChainDeprecationWarning: The class `HuggingFaceEmbeddings` was deprecated in LangChain 0.2.2 and will be removed in 1.0. An updated version of the class exists in the :class:`~langchain-huggingface package and should be used instead. To use it run `pip install -U :class:`~langchain-huggingface` and import as `from :class:`~langchain_huggingface import HuggingFaceEmbeddings``.\n",
      "  embeddings = HuggingFaceEmbeddings(model_name=\"NeuML/pubmedbert-base-embeddings\")\n",
      "/Library/Frameworks/Python.framework/Versions/3.12/lib/python3.12/site-packages/sentence_transformers/cross_encoder/CrossEncoder.py:13: TqdmExperimentalWarning: Using `tqdm.autonotebook.tqdm` in notebook mode. Use `tqdm.tqdm` instead to force console mode (e.g. in jupyter console)\n",
      "  from tqdm.autonotebook import tqdm, trange\n"
     ]
    }
   ],
   "source": [
    "import os\n",
    "from pathlib import Path\n",
    "from dotenv import load_dotenv\n",
    "import pandas as pd\n",
    "\n",
    "from main import main\n",
    "\n",
    "from query import DataLoader\n",
    "\n",
    "load_dotenv()\n",
    "\n",
    "groq_key = os.environ['groqkey']\n",
    "\n",
    "data_path = Path(os.environ['data_path'])\n"
   ]
  },
  {
   "cell_type": "code",
   "execution_count": 16,
   "metadata": {},
   "outputs": [
    {
     "data": {
      "text/html": [
       "<div>\n",
       "<style scoped>\n",
       "    .dataframe tbody tr th:only-of-type {\n",
       "        vertical-align: middle;\n",
       "    }\n",
       "\n",
       "    .dataframe tbody tr th {\n",
       "        vertical-align: top;\n",
       "    }\n",
       "\n",
       "    .dataframe thead th {\n",
       "        text-align: right;\n",
       "    }\n",
       "</style>\n",
       "<table border=\"1\" class=\"dataframe\">\n",
       "  <thead>\n",
       "    <tr style=\"text-align: right;\">\n",
       "      <th></th>\n",
       "      <th>review_by</th>\n",
       "      <th>validated_by</th>\n",
       "      <th>key</th>\n",
       "      <th>reason</th>\n",
       "      <th>recommendation</th>\n",
       "      <th>diagnosis</th>\n",
       "      <th>GS_response</th>\n",
       "      <th>Note</th>\n",
       "    </tr>\n",
       "  </thead>\n",
       "  <tbody>\n",
       "    <tr>\n",
       "      <th>0</th>\n",
       "      <td>Ben</td>\n",
       "      <td>NaN</td>\n",
       "      <td>D6253A5CE371EA</td>\n",
       "      <td>example with gastrointestinal bleed should con...</td>\n",
       "      <td>continue</td>\n",
       "      <td>3-Upper GI Bleed</td>\n",
       "      <td>This patient has a history of a gastrointestin...</td>\n",
       "      <td>NaN</td>\n",
       "    </tr>\n",
       "    <tr>\n",
       "      <th>1</th>\n",
       "      <td>Ben</td>\n",
       "      <td>NaN</td>\n",
       "      <td>DFAFED1811B871</td>\n",
       "      <td>example with a documented history of a GI blee...</td>\n",
       "      <td>continue</td>\n",
       "      <td>3-Upper GI Bleed</td>\n",
       "      <td>This patient has a history of a gastrointestin...</td>\n",
       "      <td>NaN</td>\n",
       "    </tr>\n",
       "    <tr>\n",
       "      <th>2</th>\n",
       "      <td>Ben</td>\n",
       "      <td>NaN</td>\n",
       "      <td>D4865B8BBB294E</td>\n",
       "      <td>example with GI bleeding that occurred during ...</td>\n",
       "      <td>continue</td>\n",
       "      <td>3-Upper GI Bleed</td>\n",
       "      <td>GI bleeding developed during hospital stay and...</td>\n",
       "      <td>NaN</td>\n",
       "    </tr>\n",
       "    <tr>\n",
       "      <th>3</th>\n",
       "      <td>Ben</td>\n",
       "      <td>NaN</td>\n",
       "      <td>D00F3A8D5F43B2</td>\n",
       "      <td>example with symptoms of heartburn (upper GI s...</td>\n",
       "      <td>deprescribe</td>\n",
       "      <td>9-Treated GERD</td>\n",
       "      <td>09/20/2023 inpatient nursing note mentions use...</td>\n",
       "      <td>NaN</td>\n",
       "    </tr>\n",
       "    <tr>\n",
       "      <th>4</th>\n",
       "      <td>Ben</td>\n",
       "      <td>NaN</td>\n",
       "      <td>DA15CCF42ACF8B</td>\n",
       "      <td>Barrett's esophagus, continue PPI</td>\n",
       "      <td>continue</td>\n",
       "      <td>0-Barrett's Esophagus</td>\n",
       "      <td>Patient should continue lansoprazole 30mg ever...</td>\n",
       "      <td>NaN</td>\n",
       "    </tr>\n",
       "  </tbody>\n",
       "</table>\n",
       "</div>"
      ],
      "text/plain": [
       "  review_by  validated_by             key  \\\n",
       "0       Ben           NaN  D6253A5CE371EA   \n",
       "1       Ben           NaN  DFAFED1811B871   \n",
       "2       Ben           NaN  D4865B8BBB294E   \n",
       "3       Ben           NaN  D00F3A8D5F43B2   \n",
       "4       Ben           NaN  DA15CCF42ACF8B   \n",
       "\n",
       "                                              reason recommendation  \\\n",
       "0  example with gastrointestinal bleed should con...       continue   \n",
       "1  example with a documented history of a GI blee...       continue   \n",
       "2  example with GI bleeding that occurred during ...       continue   \n",
       "3  example with symptoms of heartburn (upper GI s...    deprescribe   \n",
       "4                  Barrett's esophagus, continue PPI       continue   \n",
       "\n",
       "               diagnosis                                        GS_response  \\\n",
       "0       3-Upper GI Bleed  This patient has a history of a gastrointestin...   \n",
       "1       3-Upper GI Bleed  This patient has a history of a gastrointestin...   \n",
       "2       3-Upper GI Bleed  GI bleeding developed during hospital stay and...   \n",
       "3         9-Treated GERD  09/20/2023 inpatient nursing note mentions use...   \n",
       "4  0-Barrett's Esophagus  Patient should continue lansoprazole 30mg ever...   \n",
       "\n",
       "  Note  \n",
       "0  NaN  \n",
       "1  NaN  \n",
       "2  NaN  \n",
       "3  NaN  \n",
       "4  NaN  "
      ]
     },
     "execution_count": 16,
     "metadata": {},
     "output_type": "execute_result"
    }
   ],
   "source": [
    "dl = DataLoader(data_path)\n",
    "\n",
    "labeled_df = dl.get_label_df()\n",
    "#labeled_df = labeled_df.sample(10)\n",
    "labeled_df.head()"
   ]
  },
  {
   "cell_type": "code",
   "execution_count": 18,
   "metadata": {},
   "outputs": [],
   "source": [
    "notes = pd.read_csv(dl.data_path / \"labled_notes_w_summary.csv\")"
   ]
  },
  {
   "cell_type": "code",
   "execution_count": null,
   "metadata": {},
   "outputs": [],
   "source": []
  },
  {
   "cell_type": "code",
   "execution_count": 24,
   "metadata": {},
   "outputs": [
    {
     "data": {
      "text/html": [
       "<div>\n",
       "<style scoped>\n",
       "    .dataframe tbody tr th:only-of-type {\n",
       "        vertical-align: middle;\n",
       "    }\n",
       "\n",
       "    .dataframe tbody tr th {\n",
       "        vertical-align: top;\n",
       "    }\n",
       "\n",
       "    .dataframe thead th {\n",
       "        text-align: right;\n",
       "    }\n",
       "</style>\n",
       "<table border=\"1\" class=\"dataframe\">\n",
       "  <thead>\n",
       "    <tr style=\"text-align: right;\">\n",
       "      <th></th>\n",
       "      <th>review_by</th>\n",
       "      <th>validated_by</th>\n",
       "      <th>key_x</th>\n",
       "      <th>reason</th>\n",
       "      <th>recommendation</th>\n",
       "      <th>diagnosis</th>\n",
       "      <th>GS_response</th>\n",
       "      <th>Note</th>\n",
       "      <th>deid_note_key</th>\n",
       "      <th>EncounterKey</th>\n",
       "      <th>...</th>\n",
       "      <th>DepartmentSpecialty</th>\n",
       "      <th>ProviderSpecialty</th>\n",
       "      <th>ProviderType</th>\n",
       "      <th>NoteText</th>\n",
       "      <th>is_on_last_note_date</th>\n",
       "      <th>key_y</th>\n",
       "      <th>PtDischargeDate</th>\n",
       "      <th>discharge_text</th>\n",
       "      <th>llm_summary</th>\n",
       "      <th>_merge</th>\n",
       "    </tr>\n",
       "  </thead>\n",
       "  <tbody>\n",
       "    <tr>\n",
       "      <th>1513</th>\n",
       "      <td>Ben</td>\n",
       "      <td>NaN</td>\n",
       "      <td>SyntheticPt6</td>\n",
       "      <td>no notes about esomeprazole 40mg</td>\n",
       "      <td>deprescribe</td>\n",
       "      <td>10-No Diagnosis</td>\n",
       "      <td>No indication why patient is taking</td>\n",
       "      <td>NaN</td>\n",
       "      <td>NaN</td>\n",
       "      <td>NaN</td>\n",
       "      <td>...</td>\n",
       "      <td>NaN</td>\n",
       "      <td>NaN</td>\n",
       "      <td>NaN</td>\n",
       "      <td>NaN</td>\n",
       "      <td>NaN</td>\n",
       "      <td>NaN</td>\n",
       "      <td>NaN</td>\n",
       "      <td>NaN</td>\n",
       "      <td>NaN</td>\n",
       "      <td>left_only</td>\n",
       "    </tr>\n",
       "  </tbody>\n",
       "</table>\n",
       "<p>1 rows × 21 columns</p>\n",
       "</div>"
      ],
      "text/plain": [
       "     review_by  validated_by         key_x                            reason  \\\n",
       "1513       Ben           NaN  SyntheticPt6  no notes about esomeprazole 40mg   \n",
       "\n",
       "     recommendation        diagnosis                          GS_response  \\\n",
       "1513    deprescribe  10-No Diagnosis  No indication why patient is taking   \n",
       "\n",
       "     Note deid_note_key EncounterKey  ... DepartmentSpecialty  \\\n",
       "1513  NaN           NaN          NaN  ...                 NaN   \n",
       "\n",
       "     ProviderSpecialty ProviderType NoteText is_on_last_note_date  key_y  \\\n",
       "1513               NaN          NaN      NaN                  NaN    NaN   \n",
       "\n",
       "     PtDischargeDate discharge_text  llm_summary     _merge  \n",
       "1513             NaN            NaN          NaN  left_only  \n",
       "\n",
       "[1 rows x 21 columns]"
      ]
     },
     "execution_count": 24,
     "metadata": {},
     "output_type": "execute_result"
    }
   ],
   "source": [
    "unmatched_df = labeled_df.merge(notes, left_on='key', right_on='EncounterKey', how='left', indicator=True)\n",
    "unmatched_rows = unmatched_df[unmatched_df['_merge'] == 'left_only']\n",
    "\n",
    "# Display the unmatched rows\n",
    "unmatched_rows"
   ]
  },
  {
   "cell_type": "code",
   "execution_count": 3,
   "metadata": {},
   "outputs": [
    {
     "name": "stdout",
     "output_type": "stream",
     "text": [
      "deprescribe\n",
      "stop\n",
      "deprescribe\n",
      "continue\n",
      "deprescribe\n"
     ]
    },
    {
     "ename": "IndexError",
     "evalue": "list index out of range",
     "output_type": "error",
     "traceback": [
      "\u001b[0;31m---------------------------------------------------------------------------\u001b[0m",
      "\u001b[0;31mIndexError\u001b[0m                                Traceback (most recent call last)",
      "Cell \u001b[0;32mIn[3], line 3\u001b[0m\n\u001b[1;32m      1\u001b[0m \u001b[38;5;28;01mfor\u001b[39;00m index, row \u001b[38;5;129;01min\u001b[39;00m labeled_df\u001b[38;5;241m.\u001b[39miterrows():\n\u001b[1;32m      2\u001b[0m     encounter_key \u001b[38;5;241m=\u001b[39m row[\u001b[38;5;124m\"\u001b[39m\u001b[38;5;124mkey\u001b[39m\u001b[38;5;124m\"\u001b[39m]\n\u001b[0;32m----> 3\u001b[0m     ret_recommendation, ret_reasoning, token_usage, search_history_so_far, token_count_history \u001b[38;5;241m=\u001b[39m \u001b[43mmain\u001b[49m\u001b[43m(\u001b[49m\n\u001b[1;32m      4\u001b[0m \u001b[43m        \u001b[49m\u001b[43mgroq_key\u001b[49m\u001b[38;5;241;43m=\u001b[39;49m\u001b[43mgroq_key\u001b[49m\u001b[43m,\u001b[49m\u001b[43m \u001b[49m\u001b[43mdata_path\u001b[49m\u001b[38;5;241;43m=\u001b[39;49m\u001b[43mdata_path\u001b[49m\u001b[43m,\u001b[49m\u001b[43m \u001b[49m\u001b[43mencounter_key\u001b[49m\u001b[38;5;241;43m=\u001b[39;49m\u001b[43mencounter_key\u001b[49m\n\u001b[1;32m      5\u001b[0m \u001b[43m    \u001b[49m\u001b[43m)\u001b[49m\n\u001b[1;32m      6\u001b[0m     \u001b[38;5;28mprint\u001b[39m(ret_recommendation)\n\u001b[1;32m      7\u001b[0m     labeled_df\u001b[38;5;241m.\u001b[39mat[index, \u001b[38;5;124m'\u001b[39m\u001b[38;5;124mret_recommendation\u001b[39m\u001b[38;5;124m'\u001b[39m] \u001b[38;5;241m=\u001b[39m ret_recommendation\n",
      "File \u001b[0;32m~/Documents/mids/deprescribe_main/DataSci210_MedicationDeprescriber/src/main.py:192\u001b[0m, in \u001b[0;36mmain\u001b[0;34m(groq_key, data_path, encounter_key)\u001b[0m\n\u001b[1;32m    190\u001b[0m noteText \u001b[38;5;241m=\u001b[39m llm_agent\u001b[38;5;241m.\u001b[39mget_data(encounter_key\u001b[38;5;241m=\u001b[39mencounter_key, source\u001b[38;5;241m=\u001b[39m\u001b[38;5;124m\"\u001b[39m\u001b[38;5;124mnotes\u001b[39m\u001b[38;5;124m\"\u001b[39m)\n\u001b[1;32m    191\u001b[0m \u001b[38;5;66;03m#setup vectore store retriever with noteText\u001b[39;00m\n\u001b[0;32m--> 192\u001b[0m \u001b[43mllm_agent\u001b[49m\u001b[38;5;241;43m.\u001b[39;49m\u001b[43mset_retriever\u001b[49m\u001b[43m(\u001b[49m\u001b[43mnoteText\u001b[49m\u001b[43m)\u001b[49m\n\u001b[1;32m    193\u001b[0m \u001b[38;5;66;03m# extract information\u001b[39;00m\n\u001b[1;32m    194\u001b[0m notes_dict, notes_token_count \u001b[38;5;241m=\u001b[39m llm_agent\u001b[38;5;241m.\u001b[39mextract_RAG(\n\u001b[1;32m    195\u001b[0m      diagnosis_searched_for\u001b[38;5;241m=\u001b[39mdiagnosis_list\n\u001b[1;32m    196\u001b[0m )\n",
      "File \u001b[0;32m~/Documents/mids/deprescribe_main/DataSci210_MedicationDeprescriber/src/extraction.py:106\u001b[0m, in \u001b[0;36mllmAgent.set_retriever\u001b[0;34m(self, noteText)\u001b[0m\n\u001b[1;32m    100\u001b[0m loader \u001b[38;5;241m=\u001b[39m DataFrameLoader(\n\u001b[1;32m    101\u001b[0m     data_frame\u001b[38;5;241m=\u001b[39mnoteText,\n\u001b[1;32m    102\u001b[0m     page_content_column\u001b[38;5;241m=\u001b[39m\u001b[38;5;124m\"\u001b[39m\u001b[38;5;124mNoteText\u001b[39m\u001b[38;5;124m\"\u001b[39m,\n\u001b[1;32m    103\u001b[0m     engine\u001b[38;5;241m=\u001b[39m\u001b[38;5;124m\"\u001b[39m\u001b[38;5;124mpandas\u001b[39m\u001b[38;5;124m\"\u001b[39m,\n\u001b[1;32m    104\u001b[0m )\n\u001b[1;32m    105\u001b[0m documents \u001b[38;5;241m=\u001b[39m loader\u001b[38;5;241m.\u001b[39mload_and_split()\n\u001b[0;32m--> 106\u001b[0m vector_store \u001b[38;5;241m=\u001b[39m \u001b[43mFAISS\u001b[49m\u001b[38;5;241;43m.\u001b[39;49m\u001b[43mfrom_documents\u001b[49m\u001b[43m(\u001b[49m\u001b[43mdocuments\u001b[49m\u001b[43m,\u001b[49m\u001b[43m \u001b[49m\u001b[43membeddings\u001b[49m\u001b[43m)\u001b[49m\n\u001b[1;32m    107\u001b[0m \u001b[38;5;28mself\u001b[39m\u001b[38;5;241m.\u001b[39mretriever \u001b[38;5;241m=\u001b[39m vector_store\u001b[38;5;241m.\u001b[39mas_retriever(search_type\u001b[38;5;241m=\u001b[39m\u001b[38;5;124m\"\u001b[39m\u001b[38;5;124msimilarity\u001b[39m\u001b[38;5;124m\"\u001b[39m, k\u001b[38;5;241m=\u001b[39m\u001b[38;5;241m5\u001b[39m)\n",
      "File \u001b[0;32m/Library/Frameworks/Python.framework/Versions/3.12/lib/python3.12/site-packages/langchain_core/vectorstores/base.py:852\u001b[0m, in \u001b[0;36mVectorStore.from_documents\u001b[0;34m(cls, documents, embedding, **kwargs)\u001b[0m\n\u001b[1;32m    849\u001b[0m     \u001b[38;5;28;01mif\u001b[39;00m \u001b[38;5;28many\u001b[39m(ids):\n\u001b[1;32m    850\u001b[0m         kwargs[\u001b[38;5;124m\"\u001b[39m\u001b[38;5;124mids\u001b[39m\u001b[38;5;124m\"\u001b[39m] \u001b[38;5;241m=\u001b[39m ids\n\u001b[0;32m--> 852\u001b[0m \u001b[38;5;28;01mreturn\u001b[39;00m \u001b[38;5;28;43mcls\u001b[39;49m\u001b[38;5;241;43m.\u001b[39;49m\u001b[43mfrom_texts\u001b[49m\u001b[43m(\u001b[49m\u001b[43mtexts\u001b[49m\u001b[43m,\u001b[49m\u001b[43m \u001b[49m\u001b[43membedding\u001b[49m\u001b[43m,\u001b[49m\u001b[43m \u001b[49m\u001b[43mmetadatas\u001b[49m\u001b[38;5;241;43m=\u001b[39;49m\u001b[43mmetadatas\u001b[49m\u001b[43m,\u001b[49m\u001b[43m \u001b[49m\u001b[38;5;241;43m*\u001b[39;49m\u001b[38;5;241;43m*\u001b[39;49m\u001b[43mkwargs\u001b[49m\u001b[43m)\u001b[49m\n",
      "File \u001b[0;32m/Library/Frameworks/Python.framework/Versions/3.12/lib/python3.12/site-packages/langchain_community/vectorstores/faiss.py:1042\u001b[0m, in \u001b[0;36mFAISS.from_texts\u001b[0;34m(cls, texts, embedding, metadatas, ids, **kwargs)\u001b[0m\n\u001b[1;32m   1023\u001b[0m \u001b[38;5;250m\u001b[39m\u001b[38;5;124;03m\"\"\"Construct FAISS wrapper from raw documents.\u001b[39;00m\n\u001b[1;32m   1024\u001b[0m \n\u001b[1;32m   1025\u001b[0m \u001b[38;5;124;03mThis is a user friendly interface that:\u001b[39;00m\n\u001b[0;32m   (...)\u001b[0m\n\u001b[1;32m   1039\u001b[0m \u001b[38;5;124;03m        faiss = FAISS.from_texts(texts, embeddings)\u001b[39;00m\n\u001b[1;32m   1040\u001b[0m \u001b[38;5;124;03m\"\"\"\u001b[39;00m\n\u001b[1;32m   1041\u001b[0m embeddings \u001b[38;5;241m=\u001b[39m embedding\u001b[38;5;241m.\u001b[39membed_documents(texts)\n\u001b[0;32m-> 1042\u001b[0m \u001b[38;5;28;01mreturn\u001b[39;00m \u001b[38;5;28;43mcls\u001b[39;49m\u001b[38;5;241;43m.\u001b[39;49m\u001b[43m__from\u001b[49m\u001b[43m(\u001b[49m\n\u001b[1;32m   1043\u001b[0m \u001b[43m    \u001b[49m\u001b[43mtexts\u001b[49m\u001b[43m,\u001b[49m\n\u001b[1;32m   1044\u001b[0m \u001b[43m    \u001b[49m\u001b[43membeddings\u001b[49m\u001b[43m,\u001b[49m\n\u001b[1;32m   1045\u001b[0m \u001b[43m    \u001b[49m\u001b[43membedding\u001b[49m\u001b[43m,\u001b[49m\n\u001b[1;32m   1046\u001b[0m \u001b[43m    \u001b[49m\u001b[43mmetadatas\u001b[49m\u001b[38;5;241;43m=\u001b[39;49m\u001b[43mmetadatas\u001b[49m\u001b[43m,\u001b[49m\n\u001b[1;32m   1047\u001b[0m \u001b[43m    \u001b[49m\u001b[43mids\u001b[49m\u001b[38;5;241;43m=\u001b[39;49m\u001b[43mids\u001b[49m\u001b[43m,\u001b[49m\n\u001b[1;32m   1048\u001b[0m \u001b[43m    \u001b[49m\u001b[38;5;241;43m*\u001b[39;49m\u001b[38;5;241;43m*\u001b[39;49m\u001b[43mkwargs\u001b[49m\u001b[43m,\u001b[49m\n\u001b[1;32m   1049\u001b[0m \u001b[43m\u001b[49m\u001b[43m)\u001b[49m\n",
      "File \u001b[0;32m/Library/Frameworks/Python.framework/Versions/3.12/lib/python3.12/site-packages/langchain_community/vectorstores/faiss.py:999\u001b[0m, in \u001b[0;36mFAISS.__from\u001b[0;34m(cls, texts, embeddings, embedding, metadatas, ids, normalize_L2, distance_strategy, **kwargs)\u001b[0m\n\u001b[1;32m    996\u001b[0m     index \u001b[38;5;241m=\u001b[39m faiss\u001b[38;5;241m.\u001b[39mIndexFlatIP(\u001b[38;5;28mlen\u001b[39m(embeddings[\u001b[38;5;241m0\u001b[39m]))\n\u001b[1;32m    997\u001b[0m \u001b[38;5;28;01melse\u001b[39;00m:\n\u001b[1;32m    998\u001b[0m     \u001b[38;5;66;03m# Default to L2, currently other metric types not initialized.\u001b[39;00m\n\u001b[0;32m--> 999\u001b[0m     index \u001b[38;5;241m=\u001b[39m faiss\u001b[38;5;241m.\u001b[39mIndexFlatL2(\u001b[38;5;28mlen\u001b[39m(\u001b[43membeddings\u001b[49m\u001b[43m[\u001b[49m\u001b[38;5;241;43m0\u001b[39;49m\u001b[43m]\u001b[49m))\n\u001b[1;32m   1000\u001b[0m docstore \u001b[38;5;241m=\u001b[39m kwargs\u001b[38;5;241m.\u001b[39mpop(\u001b[38;5;124m\"\u001b[39m\u001b[38;5;124mdocstore\u001b[39m\u001b[38;5;124m\"\u001b[39m, InMemoryDocstore())\n\u001b[1;32m   1001\u001b[0m index_to_docstore_id \u001b[38;5;241m=\u001b[39m kwargs\u001b[38;5;241m.\u001b[39mpop(\u001b[38;5;124m\"\u001b[39m\u001b[38;5;124mindex_to_docstore_id\u001b[39m\u001b[38;5;124m\"\u001b[39m, {})\n",
      "\u001b[0;31mIndexError\u001b[0m: list index out of range"
     ]
    }
   ],
   "source": [
    "for index, row in labeled_df.iterrows():\n",
    "    encounter_key = row[\"key\"]\n",
    "    ret_recommendation, ret_reasoning, token_usage, search_history_so_far, token_count_history = main(\n",
    "        groq_key=groq_key, data_path=data_path, encounter_key=encounter_key\n",
    "    )\n",
    "    print(ret_recommendation)\n",
    "    labeled_df.at[index, 'ret_recommendation'] = ret_recommendation\n",
    "    labeled_df.at[index, 'ret_reasoning'] = ret_reasoning\n",
    "    labeled_df.at[index, 'token_usage'] = token_usage\n",
    "    labeled_df.at[index, 'search_history_so_far'] = str(search_history_so_far)\n",
    "    labeled_df.at[index, 'token_count_history'] = str(token_count_history)\n",
    "\n"
   ]
  },
  {
   "cell_type": "code",
   "execution_count": 6,
   "metadata": {},
   "outputs": [],
   "source": [
    "labeled_df = labeled_df[labeled_df.token_usage > 0]"
   ]
  },
  {
   "cell_type": "code",
   "execution_count": 7,
   "metadata": {},
   "outputs": [
    {
     "name": "stdout",
     "output_type": "stream",
     "text": [
      "Accuracy: 1.0000\n",
      "Precision (Macro Avg): 1.0000\n",
      "Recall (Macro Avg): 1.0000\n",
      "F1 Score (Macro Avg): 1.0000\n",
      "\n",
      "Classification Report:\n",
      "               precision    recall  f1-score   support\n",
      "\n",
      "    continue       1.00      1.00      1.00         1\n",
      " deprescribe       1.00      1.00      1.00         3\n",
      "        stop       1.00      1.00      1.00         1\n",
      "\n",
      "    accuracy                           1.00         5\n",
      "   macro avg       1.00      1.00      1.00         5\n",
      "weighted avg       1.00      1.00      1.00         5\n",
      "\n"
     ]
    },
    {
     "data": {
      "image/png": "[encoded data removed]",
      "text/plain": [
       "<Figure size 800x600 with 2 Axes>"
      ]
     },
     "metadata": {},
     "output_type": "display_data"
    }
   ],
   "source": [
    "from eval import evaluate_multiclass_classification, get_best_diagnosis_match\n",
    "\n",
    "y_true = labeled_df['recommendation']\n",
    "y_pred = labeled_df['ret_recommendation']\n",
    "class_labels = ['continue', 'deprescribe', 'stop']\n",
    "\n",
    "# Evaluate the model\n",
    "metrics = evaluate_multiclass_classification(y_true, y_pred, class_labels)"
   ]
  },
  {
   "cell_type": "code",
   "execution_count": 11,
   "metadata": {},
   "outputs": [
    {
     "name": "stderr",
     "output_type": "stream",
     "text": [
      "/var/folders/8w/6bqg5xh14393yv1z0lhtm2z40000gn/T/ipykernel_57421/3775046982.py:1: SettingWithCopyWarning: \n",
      "A value is trying to be set on a copy of a slice from a DataFrame.\n",
      "Try using .loc[row_indexer,col_indexer] = value instead\n",
      "\n",
      "See the caveats in the documentation: https://pandas.pydata.org/pandas-docs/stable/user_guide/indexing.html#returning-a-view-versus-a-copy\n",
      "  labeled_df['diagnosis_key'] = labeled_df['diagnosis'].str.split('-').str[0]\n"
     ]
    }
   ],
   "source": [
    "labeled_df['diagnosis_key'] = labeled_df['diagnosis'].str.split('-').str[0]"
   ]
  },
  {
   "cell_type": "code",
   "execution_count": 12,
   "metadata": {},
   "outputs": [],
   "source": [
    "for index, row in labeled_df.iterrows():\n",
    "    matched_diagnosis_key, matched_diagnosis_label = get_best_diagnosis_match(row.ret_reasoning)\n",
    "    labeled_df.at[index, 'matched_diagnosis_key'] = matched_diagnosis_key\n",
    "    labeled_df.at[index, 'matched_diagnosis_label'] = matched_diagnosis_label\n",
    "    "
   ]
  },
  {
   "cell_type": "code",
   "execution_count": 15,
   "metadata": {},
   "outputs": [],
   "source": [
    "labeled_df.to_csv('sample_results.csv', index=False)"
   ]
  },
  {
   "cell_type": "code",
   "execution_count": null,
   "metadata": {},
   "outputs": [],
   "source": []
  }
 ],
 "metadata": {
  "kernelspec": {
   "display_name": "capstone",
   "language": "python",
   "name": "python3"
  },
  "language_info": {
   "codemirror_mode": {
    "name": "ipython",
    "version": 3
   },
   "file_extension": ".py",
   "mimetype": "text/x-python",
   "name": "python",
   "nbconvert_exporter": "python",
   "pygments_lexer": "ipython3",
   "version": "3.12.0"
  }
 },
 "nbformat": 4,
 "nbformat_minor": 2
}
