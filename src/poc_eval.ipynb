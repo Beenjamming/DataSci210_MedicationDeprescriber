{
 "cells": [
  {
   "cell_type": "code",
   "execution_count": 1,
   "metadata": {},
   "outputs": [],
   "source": [
    "import pandas as pd\n",
    "import numpy as np\n",
    "from langchain_core.prompts import ChatPromptTemplate\n",
    "from langchain_groq import ChatGroq\n",
    "import os\n",
    "import json\n",
    "from pathlib import Path\n",
    "\n",
    "# # define groq key\n",
    "# groq_key = (\n",
    "#      os.environ['groqkey']\n",
    "# )\n",
    "# groq_key"
   ]
  },
  {
   "cell_type": "code",
   "execution_count": 2,
   "metadata": {},
   "outputs": [],
   "source": [
    "from dotenv import load_dotenv\n",
    "\n",
    "load_dotenv()\n",
    "\n",
    "groq_key = os.environ['groqkey']\n",
    "\n",
    "data_path = Path(os.environ['data_path'])\n"
   ]
  },
  {
   "cell_type": "code",
   "execution_count": 3,
   "metadata": {},
   "outputs": [
    {
     "name": "stderr",
     "output_type": "stream",
     "text": [
      "/Users/reedevans/Documents/mids/deprescribe_main/DataSci210_MedicationDeprescriber/src/extraction.py:15: LangChainDeprecationWarning: The class `HuggingFaceEmbeddings` was deprecated in LangChain 0.2.2 and will be removed in 1.0. An updated version of the class exists in the :class:`~langchain-huggingface package and should be used instead. To use it run `pip install -U :class:`~langchain-huggingface` and import as `from :class:`~langchain_huggingface import HuggingFaceEmbeddings``.\n",
      "  embeddings = HuggingFaceEmbeddings(model_name=\"NeuML/pubmedbert-base-embeddings\")\n",
      "/Library/Frameworks/Python.framework/Versions/3.12/lib/python3.12/site-packages/sentence_transformers/cross_encoder/CrossEncoder.py:13: TqdmExperimentalWarning: Using `tqdm.autonotebook.tqdm` in notebook mode. Use `tqdm.tqdm` instead to force console mode (e.g. in jupyter console)\n",
      "  from tqdm.autonotebook import tqdm, trange\n"
     ]
    }
   ],
   "source": [
    "from extraction import llmAgent\n",
    "from query import DataLoader\n",
    "from main import main"
   ]
  },
  {
   "cell_type": "code",
   "execution_count": 4,
   "metadata": {},
   "outputs": [],
   "source": [
    "recommendation_dict = {\n",
    "        \"continue\": [\n",
    "            \"Barretts Esophagus or esophageal cell changes\",\n",
    "            \"Chronic Non-Steroidal Anti Inflammatory (NSAID) use or GI prophylaxis NSAID use\",\n",
    "            \"Severe esophagitis including bleeding esophagitis or esophageal ulcer\",\n",
    "            \"History of gastrointestinal bleeding, gastric ulcer, upper GI bleed, or peptic ulcer hemorrhage\",\n",
    "        ],\n",
    "        \"stop\": [\n",
    "            \"Peptic Ulcer Disease or Gastroduodenal ulcer treated for 2 - 12 weeks caused from H Pylori infection or NSAID use without bleeding\",\n",
    "            \"Upper GI Symptoms such as reflux, difficulty swallowing, nausea, or vomiting without endoscopy - asymptomatic for 3 consecutive days\",\n",
    "            \"ICU Stress Ulcer Prophylaxis\",\n",
    "            \"Completed Heliobacter Pylori (H. Pylori) infection treated for 14 days with combination therapy\",\n",
    "        ],\n",
    "        \"deprescribe\": [\n",
    "            \"Mild to moderate esophagitis or esophageal inflammation\",\n",
    "            \"Treated Gastroesophageal Reflux Disease (GERD) or reflux symptoms such as acid reflux, heartburn, or regurgitation\",\n",
    "        ],\n",
    "    }"
   ]
  },
  {
   "cell_type": "code",
   "execution_count": 8,
   "metadata": {},
   "outputs": [],
   "source": []
  },
  {
   "cell_type": "code",
   "execution_count": 5,
   "metadata": {},
   "outputs": [],
   "source": [
    "encounter_key = \"D6253A5CE371EA\""
   ]
  },
  {
   "cell_type": "code",
   "execution_count": 6,
   "metadata": {},
   "outputs": [],
   "source": [
    "final_recommendation, final_reasoning, token_usage, search_history_so_far, token_count_history = main(\n",
    "    groq_key=groq_key, data_path=data_path, encounter_key=encounter_key\n",
    ")"
   ]
  },
  {
   "cell_type": "code",
   "execution_count": 7,
   "metadata": {},
   "outputs": [
    {
     "data": {
      "text/plain": [
       "'continue'"
      ]
     },
     "execution_count": 7,
     "metadata": {},
     "output_type": "execute_result"
    }
   ],
   "source": [
    "final_recommendation"
   ]
  },
  {
   "cell_type": "code",
   "execution_count": 8,
   "metadata": {},
   "outputs": [
    {
     "data": {
      "text/plain": [
       "\"The patient's PPI medication should be continued due to a documented history of gastrointestinal bleeding (GIB) on admit, which supports its ongoing use.\""
      ]
     },
     "execution_count": 8,
     "metadata": {},
     "output_type": "execute_result"
    }
   ],
   "source": [
    "final_reasoning "
   ]
  },
  {
   "cell_type": "code",
   "execution_count": 22,
   "metadata": {},
   "outputs": [
    {
     "ename": "IndexError",
     "evalue": "list index out of range",
     "output_type": "error",
     "traceback": [
      "\u001b[0;31m---------------------------------------------------------------------------\u001b[0m",
      "\u001b[0;31mIndexError\u001b[0m                                Traceback (most recent call last)",
      "Cell \u001b[0;32mIn[22], line 29\u001b[0m\n\u001b[1;32m     26\u001b[0m     \u001b[38;5;28;01mreturn\u001b[39;00m matched_key, best_match[\u001b[38;5;241m0\u001b[39m] \u001b[38;5;66;03m# Return the matched key and label\u001b[39;00m\n\u001b[1;32m     28\u001b[0m \u001b[38;5;66;03m# Call the function with final_reasoning and diagnosis_label_key\u001b[39;00m\n\u001b[0;32m---> 29\u001b[0m matched_diagnosis, best_match \u001b[38;5;241m=\u001b[39m \u001b[43mget_best_match\u001b[49m\u001b[43m(\u001b[49m\u001b[43mfinal_reasoning\u001b[49m\u001b[43m,\u001b[49m\u001b[43m \u001b[49m\u001b[43mdiagnosis_label_key\u001b[49m\u001b[43m)\u001b[49m\n\u001b[1;32m     30\u001b[0m \u001b[38;5;28mprint\u001b[39m(matched_diagnosis, \u001b[38;5;124m\"\u001b[39m\u001b[38;5;124m:\u001b[39m\u001b[38;5;124m\"\u001b[39m,best_match)\n",
      "Cell \u001b[0;32mIn[22], line 26\u001b[0m, in \u001b[0;36mget_best_match\u001b[0;34m(reasoning, diagnosis_dict)\u001b[0m\n\u001b[1;32m     22\u001b[0m best_match \u001b[38;5;241m=\u001b[39m get_close_matches(reasoning, labels, n\u001b[38;5;241m=\u001b[39m\u001b[38;5;241m1\u001b[39m, cutoff\u001b[38;5;241m=\u001b[39m\u001b[38;5;241m0.6\u001b[39m) \n\u001b[1;32m     23\u001b[0m matched_key \u001b[38;5;241m=\u001b[39m \u001b[38;5;28mlist\u001b[39m(diagnosis_dict\u001b[38;5;241m.\u001b[39mkeys())[\u001b[38;5;28mlist\u001b[39m(diagnosis_dict\u001b[38;5;241m.\u001b[39mvalues())\u001b[38;5;241m.\u001b[39mindex(best_match[\u001b[38;5;241m0\u001b[39m])] \u001b[38;5;28;01mif\u001b[39;00m best_match \u001b[38;5;28;01melse\u001b[39;00m \u001b[38;5;28;01mNone\u001b[39;00m\n\u001b[0;32m---> 26\u001b[0m \u001b[38;5;28;01mreturn\u001b[39;00m matched_key, \u001b[43mbest_match\u001b[49m\u001b[43m[\u001b[49m\u001b[38;5;241;43m0\u001b[39;49m\u001b[43m]\u001b[49m\n",
      "\u001b[0;31mIndexError\u001b[0m: list index out of range"
     ]
    }
   ],
   "source": [
    "from fuzzywuzzy import process  # Import fuzzy matching library\n",
    "\n",
    "diagnosis_label_key = {\n",
    "    0:\"Barretts Esophagus or esophageal cell changes\",\n",
    "    1:\"Chronic Non-Steroidal Anti Inflammatory (NSAID) use or GI prophylaxis NSAID use\",\n",
    "    2:\"Severe esophagitis including bleeding esophagitis or esophageal ulcer\",\n",
    "    3:\"History of gastrointestinal bleeding, gastric ulcer, upper GI bleed, or peptic ulcer hemorrhage\",\n",
    "    4:\"Peptic Ulcer Disease or Gastroduodenal ulcer treated for 2 - 12 weeks caused from H Pylori infection or NSAID use without bleeding\",\n",
    "    5:\"Upper GI Symptoms such as reflux, difficulty swallowing, nausea, or vomiting without endoscopy - asymptomatic for 3 consecutive days\",\n",
    "    6:\"ICU Stress Ulcer Prophylaxis\",\n",
    "    7:\"Completed Heliobacter Pylori (H. Pylori) infection treated for 14 days with combination therapy\",\n",
    "    8:\"Mild to moderate esophagitis or esophageal inflammation\",\n",
    "    9:\"Treated Gastroesophageal Reflux Disease (GERD) or reflux symptoms such as acid reflux, heartburn, or regurgitation\",\n",
    "    10:\"No clear evidence found\"\n",
    "}\n",
    "\n",
    "def get_best_match(reasoning, diagnosis_dict):\n",
    "    # Extract the diagnosis labels from the dictionary\n",
    "    labels = list(diagnosis_dict.values())\n",
    "    # Use fuzzy matching to find the best match\n",
    "    from difflib import get_close_matches\n",
    "    best_match = get_close_matches(reasoning, labels, n=1, cutoff=0.6) \n",
    "    matched_key = list(diagnosis_dict.keys())[list(diagnosis_dict.values()).index(best_match[0])] if best_match else None\n",
    "    \n",
    "    \n",
    "    return matched_key, best_match[0] # Return the matched key and label\n",
    "\n",
    "# Call the function with final_reasoning and diagnosis_label_key\n",
    "matched_diagnosis, best_match = get_best_match(final_reasoning, diagnosis_label_key)\n",
    "print(matched_diagnosis, \":\",best_match)"
   ]
  },
  {
   "cell_type": "code",
   "execution_count": 10,
   "metadata": {},
   "outputs": [
    {
     "data": {
      "text/plain": [
       "'History of gastrointestinal bleeding, gastric ulcer, upper GI bleed, or peptic ulcer hemorrhage'"
      ]
     },
     "execution_count": 10,
     "metadata": {},
     "output_type": "execute_result"
    }
   ],
   "source": [
    "get_best_match('History of gastrointestinal bleeding, gastric ulcer, upper GI bleed, or peptic ulcer hemorrhage',diagnosis_label_key)"
   ]
  },
  {
   "cell_type": "code",
   "execution_count": null,
   "metadata": {},
   "outputs": [],
   "source": [
    "diagnosis_label_key = {\n",
    "    0:\"Barretts Esophagus or esophageal cell changes\",\n",
    "    2:\"Severe esophagitis including bleeding esophagitis or esophageal ulcer\",\n",
    "    3:\"History of gastrointestinal bleeding, gastric ulcer, upper GI bleed, or peptic ulcer hemorrhage\",\n",
    "    4:\"Peptic Ulcer Disease or Gastroduodenal ulcer treated for 2 - 12 weeks caused from H Pylori infection or NSAID use without bleeding\",\n",
    "    5:\"Upper GI Symptoms such as reflux, difficulty swallowing, nausea, or vomiting without endoscopy - asymptomatic for 3 consecutive days\",\n",
    "    6:\"ICU Stress Ulcer Prophylaxis\",\n",
    "    7:\"Completed Heliobacter Pylori (H. Pylori) infection treated for 14 days with combination therapy\",\n",
    "    8:\"Mild to moderate esophagitis or esophageal inflammation\",\n",
    "    9:\"Treated Gastroesophageal Reflux Disease (GERD) or reflux symptoms such as acid reflux, heartburn, or regurgitation\",\n",
    "    10:\"No clear evidence found\"\n",
    "}"
   ]
  }
 ],
 "metadata": {
  "kernelspec": {
   "display_name": "capstone",
   "language": "python",
   "name": "python3"
  },
  "language_info": {
   "codemirror_mode": {
    "name": "ipython",
    "version": 3
   },
   "file_extension": ".py",
   "mimetype": "text/x-python",
   "name": "python",
   "nbconvert_exporter": "python",
   "pygments_lexer": "ipython3",
   "version": "3.12.0"
  }
 },
 "nbformat": 4,
 "nbformat_minor": 2
}
