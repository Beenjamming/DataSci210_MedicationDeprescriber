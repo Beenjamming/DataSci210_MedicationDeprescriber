{
 "cells": [
  {
   "cell_type": "code",
   "execution_count": 4,
   "metadata": {},
   "outputs": [],
   "source": [
    "import pandas as pd\n",
    "import numpy as np\n",
    "from langchain_core.prompts import ChatPromptTemplate\n",
    "from langchain_groq import ChatGroq\n",
    "import os\n",
    "import json\n",
    "from pathlib import Path\n"
   ]
  },
  {
   "cell_type": "code",
   "execution_count": 5,
   "metadata": {},
   "outputs": [],
   "source": [
    "#from dotenv import load_dotenv\n",
    "\n",
    "#load_dotenv()\n",
    "\n",
    "groq_key = os.environ['groqkey']\n",
    "\n",
    "data_path = Path(os.environ['data_path'])\n"
   ]
  },
  {
   "cell_type": "code",
   "execution_count": 6,
   "metadata": {},
   "outputs": [
    {
     "name": "stderr",
     "output_type": "stream",
     "text": [
      "f:\\LangChain\\Reed\\DataSci210_MedicationDeprescriber\\src\\extraction.py:15: LangChainDeprecationWarning: The class `HuggingFaceEmbeddings` was deprecated in LangChain 0.2.2 and will be removed in 1.0. An updated version of the class exists in the langchain-huggingface package and should be used instead. To use it run `pip install -U langchain-huggingface` and import as `from langchain_huggingface import HuggingFaceEmbeddings`.\n",
      "  embeddings = HuggingFaceEmbeddings(model_name=\"NeuML/pubmedbert-base-embeddings\")\n",
      "f:\\LangChain\\.venv\\lib\\site-packages\\sentence_transformers\\cross_encoder\\CrossEncoder.py:13: TqdmExperimentalWarning: Using `tqdm.autonotebook.tqdm` in notebook mode. Use `tqdm.tqdm` instead to force console mode (e.g. in jupyter console)\n",
      "  from tqdm.autonotebook import tqdm, trange\n"
     ]
    }
   ],
   "source": [
    "from extraction import llmAgent\n",
    "from query import DataLoader\n",
    "from main import main"
   ]
  },
  {
   "cell_type": "code",
   "execution_count": 7,
   "metadata": {},
   "outputs": [],
   "source": [
    "encounter_key = \"SyntheticPt1\""
   ]
  },
  {
   "cell_type": "code",
   "execution_count": 8,
   "metadata": {},
   "outputs": [],
   "source": [
    "final_recommendation, final_reasoning, token_usage, search_history_so_far, token_count_history = main(\n",
    "    groq_key=groq_key, data_path=data_path, encounter_key=encounter_key\n",
    ")"
   ]
  },
  {
   "cell_type": "code",
   "execution_count": 9,
   "metadata": {},
   "outputs": [
    {
     "data": {
      "text/plain": [
       "'stop'"
      ]
     },
     "execution_count": 9,
     "metadata": {},
     "output_type": "execute_result"
    }
   ],
   "source": [
    "final_recommendation"
   ]
  },
  {
   "cell_type": "code",
   "execution_count": 10,
   "metadata": {},
   "outputs": [
    {
     "data": {
      "text/plain": [
       "'The recommendation is to stop the PPI due to evidence of a completed Helicobacter Pylori (H. Pylori) infection treatment with combination therapy, indicating that the PPI is no longer necessary for this condition.'"
      ]
     },
     "execution_count": 10,
     "metadata": {},
     "output_type": "execute_result"
    }
   ],
   "source": [
    "final_reasoning "
   ]
  },
  {
   "cell_type": "code",
   "execution_count": 11,
   "metadata": {},
   "outputs": [
    {
     "data": {
      "text/plain": [
       "{'diagnosis_source_continue': {'diagnosis_boolean': '0',\n",
       "  'explanation': \"There is no evidence of the specific conditions in the provided information. The patient's diagnoses include Type 1 Diabetes Mellitus, H. Pylori Infection, and Chronic Migraines, but none of the conditions that would indicate a need to continue, reduce, or stop the PPI are present.\"},\n",
       " 'encounters_source_continue': {'diagnosis_boolean': '0',\n",
       "  'explanation': \"There is no evidence in the provided information to support the presence of 'Barretts Esophagus or esophageal cell changes', 'Chronic Non-Steroidal Anti Inflammatory (NSAID) use or GI prophylaxis NSAID use', 'Severe esophagitis including bleeding esophagitis or esophageal ulcer', or 'History of gastrointestinal bleeding, gastric ulcer, upper GI bleed, or peptic ulcer hemorrhage'. The primary diagnosis is Diabetic Ketoacidosis, and there is no mention of any gastrointestinal conditions that would warrant the use of a PPI.\"},\n",
       " 'diagnosis_source_stop': {'diagnosis_boolean': '0',\n",
       "  'explanation': 'There is no direct evidence of Peptic Ulcer Disease or Gastroduodenal ulcer, Upper GI Symptoms, ICU Stress Ulcer Prophylaxis, or Completed Heliobacter Pylori (H. Pylori) infection treated for 14 days with combination therapy. However, the patient has a diagnosis of H. Pylori Infection, which is a common cause of Peptic Ulcer Disease. But without further information about the treatment duration or presence of ulcers, we cannot confirm the diagnosis of Peptic Ulcer Disease or Gastroduodenal ulcer treated for 2 - 12 weeks caused from H Pylori infection or NSAID use without bleeding.'},\n",
       " 'encounters_source_stop': {'diagnosis_boolean': '0',\n",
       "  'explanation': 'There is no evidence in the provided information to support the diagnosis of Peptic Ulcer Disease or Gastroduodenal ulcer treated for 2 - 12 weeks caused from H Pylori infection or NSAID use without bleeding, Upper GI Symptoms such as reflux, difficulty swallowing, nausea, or vomiting without endoscopy - asymptomatic for 3 consecutive days, ICU Stress Ulcer Prophylaxis, or Completed Heliobacter Pylori (H. Pylori) infection treated for 14 days with combination therapy. The primary diagnosis is Diabetic Ketoacidosis, and there is no mention of any gastrointestinal conditions or symptoms that would indicate the need for a PPI.'},\n",
       " 'diagnosis_source_deprescribe': {'diagnosis_boolean': '0',\n",
       "  'explanation': \"There is no direct evidence of 'Mild to moderate esophagitis or esophageal inflammation' or 'Treated Gastroesophageal Reflux Disease (GERD) or reflux symptoms such as acid reflux, heartburn, or regurgitation' in the provided information. The patient has a diagnosis of 'H. Pylori Infection', which may be a reason for PPI prescription, but it does not directly confirm the presence of esophagitis or GERD. Further information is needed to confirm the diagnosis.\"},\n",
       " 'encounters_source_deprescribe': {'diagnosis_boolean': '0',\n",
       "  'explanation': \"There is no evidence in the provided information to support a diagnosis of 'Mild to moderate esophagitis or esophageal inflammation' or 'Treated Gastroesophageal Reflux Disease (GERD) or reflux symptoms such as acid reflux, heartburn, or regurgitation'. The primary diagnosis listed is 'Diabetic Ketoacidosis', and there is no mention of esophagitis, GERD, or reflux symptoms.\"},\n",
       " 'notes_source_continue': {'diagnosis_boolean': '0',\n",
       "  'explanation': \"There is no evidence in the provided notes to support a diagnosis of Barrett's Esophagus or esophageal cell changes, Chronic Non-Steroidal Anti-Inflammatory (NSAID) use or GI prophylaxis NSAID use, Severe esophagitis including bleeding esophagitis or esophageal ulcer, or History of gastrointestinal bleeding, gastric ulcer, upper GI bleed, or peptic ulcer hemorrhage. The patient's treatment for H. pylori infection and resolution of symptoms suggest a different underlying condition.\"},\n",
       " 'notes_source_stop': {'diagnosis_boolean': '1',\n",
       "  'explanation': 'There is evidence of a Completed Helicobacter Pylori (H. Pylori) infection being treated with combination therapy. The patient is currently on Day 10 of a 14-day treatment course involving omeprazole, clarithromycin, and amoxicillin, which is a standard triple therapy regimen for H. Pylori eradication. The note recommends a follow-up H. Pylori test in 4 weeks to confirm successful treatment.'}}"
      ]
     },
     "execution_count": 11,
     "metadata": {},
     "output_type": "execute_result"
    }
   ],
   "source": [
    "search_history_so_far"
   ]
  },
  {
   "cell_type": "markdown",
   "metadata": {},
   "source": [
    "### test data retrieval"
   ]
  },
  {
   "cell_type": "code",
   "execution_count": 11,
   "metadata": {},
   "outputs": [],
   "source": [
    "llm_agent = llmAgent(groq_key=groq_key, data_path=data_path)"
   ]
  },
  {
   "cell_type": "code",
   "execution_count": 12,
   "metadata": {},
   "outputs": [
    {
     "data": {
      "text/plain": [
       "{'hospitalAcquiredDx': '[{\"EncounterKey\":\"SyntheticPt2\",\"DxName\":\"Pressure Ulcer\"}]',\n",
       " 'presentOnAdmitDx': '[{\"EncounterKey\":\"SyntheticPt2\",\"DxName\":\"Chronic Obstructive Pulmonary Disease\"},{\"EncounterKey\":\"SyntheticPt2\",\"DxName\":\"Hypertension\"},{\"EncounterKey\":\"SyntheticPt2\",\"DxName\":\"Hyperlipidemia\"},{\"EncounterKey\":\"SyntheticPt2\",\"DxName\":\"Gastroesophageal Reflux Disease\"}]'}"
      ]
     },
     "execution_count": 12,
     "metadata": {},
     "output_type": "execute_result"
    }
   ],
   "source": [
    "diagnosis_data_dict = llm_agent.get_data(\n",
    "    encounter_key=encounter_key, source=\"diagnosis\"\n",
    ")\n",
    "diagnosis_data_dict"
   ]
  },
  {
   "cell_type": "code",
   "execution_count": 13,
   "metadata": {},
   "outputs": [
    {
     "data": {
      "text/plain": [
       "'[{\"EncounterKey\":\"SyntheticPt2\",\"PatientKey\":\"SyntheticPt2\",\"Sex\":\"M\",\"Age_y\":67,\"BirthDate\":\"1956-09-15\",\"PtAdmitDate\":\"2024-09-15\",\"PtDischargeDate\":\"2024-09-20\",\"DRG\":\"123\",\"FinancialClass\":\"Medicare\",\"AdmissionOrigin\":\"Emergency\",\"AdmissionSource\":\"Referral\",\"AdmissionType\":\"Emergency\",\"PrimaryDx\":\"COPD exacerbation\",\"PresentOnAdmissionDiagnosisComboKey\":1,\"HospitalAcquiredDiagnosisComboKey\":0,\"DischargeDisposition\":\"Home\",\"DischargePatientClass\":\"Inpatient\"}]'"
      ]
     },
     "execution_count": 13,
     "metadata": {},
     "output_type": "execute_result"
    }
   ],
   "source": [
    "encounters_data_dict = llm_agent.get_data(\n",
    "    encounter_key=encounter_key, source=\"encounters\"\n",
    ")\n",
    "encounters_data_dict"
   ]
  },
  {
   "cell_type": "code",
   "execution_count": 14,
   "metadata": {},
   "outputs": [
    {
     "data": {
      "text/html": [
       "<div>\n",
       "<style scoped>\n",
       "    .dataframe tbody tr th:only-of-type {\n",
       "        vertical-align: middle;\n",
       "    }\n",
       "\n",
       "    .dataframe tbody tr th {\n",
       "        vertical-align: top;\n",
       "    }\n",
       "\n",
       "    .dataframe thead th {\n",
       "        text-align: right;\n",
       "    }\n",
       "</style>\n",
       "<table border=\"1\" class=\"dataframe\">\n",
       "  <thead>\n",
       "    <tr style=\"text-align: right;\">\n",
       "      <th></th>\n",
       "      <th>deid_note_key</th>\n",
       "      <th>EncounterKey</th>\n",
       "      <th>NoteDate</th>\n",
       "      <th>DepartmentSpecialty</th>\n",
       "      <th>ProviderSpecialty</th>\n",
       "      <th>ProviderType</th>\n",
       "      <th>NoteText</th>\n",
       "      <th>is_on_last_note_date</th>\n",
       "      <th>key</th>\n",
       "      <th>PtDischargeDate</th>\n",
       "      <th>discharge_text</th>\n",
       "      <th>llm_summary</th>\n",
       "    </tr>\n",
       "  </thead>\n",
       "  <tbody>\n",
       "    <tr>\n",
       "      <th>1501</th>\n",
       "      <td>SyntheticPt2_Note1</td>\n",
       "      <td>SyntheticPt2</td>\n",
       "      <td>9/15/2024</td>\n",
       "      <td>Inpatient Nursing</td>\n",
       "      <td>Pulmonary Medicine</td>\n",
       "      <td>Resident</td>\n",
       "      <td>Yes, based on the clinician note, I found the ...</td>\n",
       "      <td>0.0</td>\n",
       "      <td>SyntheticPt2</td>\n",
       "      <td>9/20/2024</td>\n",
       "      <td>NaN</td>\n",
       "      <td>Yes, based on the clinician note, I found the ...</td>\n",
       "    </tr>\n",
       "    <tr>\n",
       "      <th>1504</th>\n",
       "      <td>SyntheticPt2_Note4</td>\n",
       "      <td>SyntheticPt2</td>\n",
       "      <td>9/18/2024</td>\n",
       "      <td>Inpatient Nursing</td>\n",
       "      <td>Pulmonary Medicine</td>\n",
       "      <td>Resident</td>\n",
       "      <td>Yes, there is a potential match for the diagno...</td>\n",
       "      <td>0.0</td>\n",
       "      <td>SyntheticPt2</td>\n",
       "      <td>9/20/2024</td>\n",
       "      <td>NaN</td>\n",
       "      <td>Yes, there is a potential match for the diagno...</td>\n",
       "    </tr>\n",
       "    <tr>\n",
       "      <th>1505</th>\n",
       "      <td>SyntheticPt2_Note5</td>\n",
       "      <td>SyntheticPt2</td>\n",
       "      <td>9/20/2024</td>\n",
       "      <td>Inpatient Nursing</td>\n",
       "      <td>Pulmonary Medicine</td>\n",
       "      <td>Resident</td>\n",
       "      <td>Yes, based on the clinician note, there are a ...</td>\n",
       "      <td>1.0</td>\n",
       "      <td>SyntheticPt2</td>\n",
       "      <td>9/20/2024</td>\n",
       "      <td>NaN</td>\n",
       "      <td>Yes, based on the clinician note, there are a ...</td>\n",
       "    </tr>\n",
       "  </tbody>\n",
       "</table>\n",
       "</div>"
      ],
      "text/plain": [
       "           deid_note_key  EncounterKey   NoteDate DepartmentSpecialty  \\\n",
       "1501  SyntheticPt2_Note1  SyntheticPt2  9/15/2024   Inpatient Nursing   \n",
       "1504  SyntheticPt2_Note4  SyntheticPt2  9/18/2024   Inpatient Nursing   \n",
       "1505  SyntheticPt2_Note5  SyntheticPt2  9/20/2024   Inpatient Nursing   \n",
       "\n",
       "       ProviderSpecialty ProviderType  \\\n",
       "1501  Pulmonary Medicine     Resident   \n",
       "1504  Pulmonary Medicine     Resident   \n",
       "1505  Pulmonary Medicine     Resident   \n",
       "\n",
       "                                               NoteText  is_on_last_note_date  \\\n",
       "1501  Yes, based on the clinician note, I found the ...                   0.0   \n",
       "1504  Yes, there is a potential match for the diagno...                   0.0   \n",
       "1505  Yes, based on the clinician note, there are a ...                   1.0   \n",
       "\n",
       "               key PtDischargeDate  discharge_text  \\\n",
       "1501  SyntheticPt2       9/20/2024             NaN   \n",
       "1504  SyntheticPt2       9/20/2024             NaN   \n",
       "1505  SyntheticPt2       9/20/2024             NaN   \n",
       "\n",
       "                                            llm_summary  \n",
       "1501  Yes, based on the clinician note, I found the ...  \n",
       "1504  Yes, there is a potential match for the diagno...  \n",
       "1505  Yes, based on the clinician note, there are a ...  "
      ]
     },
     "execution_count": 14,
     "metadata": {},
     "output_type": "execute_result"
    }
   ],
   "source": [
    "noteText = llm_agent.get_data(encounter_key=encounter_key, source=\"notes\")\n",
    "noteText"
   ]
  },
  {
   "cell_type": "markdown",
   "metadata": {},
   "source": [
    "# Test extraction"
   ]
  },
  {
   "cell_type": "code",
   "execution_count": 10,
   "metadata": {},
   "outputs": [],
   "source": [
    "diagnosis = \"Barretts Esophagus\""
   ]
  },
  {
   "cell_type": "code",
   "execution_count": 14,
   "metadata": {},
   "outputs": [],
   "source": [
    "from pydantic import BaseModel, Field\n",
    "from langchain_core.output_parsers import JsonOutputParser\n",
    "\n",
    "\n",
    "class DiagnosisSearchDict(BaseModel):\n",
    "    diagnosis_boolean: str = Field(\n",
    "        description=\"True if the diagnosis is found, else False\"\n",
    "    )\n",
    "    explanation: str = Field(\n",
    "        description=\"A concise explanation for how the determination of the diagnosis was made\"\n",
    "    )"
   ]
  },
  {
   "cell_type": "code",
   "execution_count": 15,
   "metadata": {},
   "outputs": [],
   "source": [
    "parser = JsonOutputParser(pydantic_object=DiagnosisSearchDict)"
   ]
  },
  {
   "cell_type": "code",
   "execution_count": 16,
   "metadata": {},
   "outputs": [],
   "source": [
    "from langchain_core.prompts import PromptTemplate\n",
    "\n",
    "prompt = PromptTemplate(\n",
    "    template=\"You are a knowledgeable medical provider who specializes in medication management. In the following case, your patient is prescribed a PPI (proton pump inhibitor) and need to make a decision to continue, reduce, or stop the PPI. Determine if there is evidence of the specific condition which will help determine whether to continue, reduce, or stop the medication on discharge.\\n{format_instructions}\\n{query}\\n\",\n",
    "    input_variables=[\"query\"],\n",
    "    partial_variables={\"format_instructions\": parser.get_format_instructions()},\n",
    ")"
   ]
  },
  {
   "cell_type": "code",
   "execution_count": 17,
   "metadata": {},
   "outputs": [],
   "source": [
    "chain = prompt | llm_agent.llm | parser"
   ]
  },
  {
   "cell_type": "code",
   "execution_count": 18,
   "metadata": {},
   "outputs": [],
   "source": [
    "output = chain.invoke(\n",
    "    {\n",
    "        \"query\": f\"Based on the provided information here: {diagnosis_data_dict}, is there evidence of {diagnosis}? Do NOT assume a condition based on prescribed medication. We know all of these patients are prescribed a ppi, but we need to know why. Be very sure of a diagnosis.\"\n",
    "    }\n",
    ")"
   ]
  },
  {
   "cell_type": "code",
   "execution_count": 19,
   "metadata": {},
   "outputs": [
    {
     "data": {
      "text/plain": [
       "{'diagnosis_boolean': 'False',\n",
       " 'explanation': \"The patient's diagnoses include Gastrointestinal Bleeding (GIB), but there is no mention of Barrett's Esophagus.\"}"
      ]
     },
     "execution_count": 19,
     "metadata": {},
     "output_type": "execute_result"
    }
   ],
   "source": [
    "output"
   ]
  },
  {
   "cell_type": "code",
   "execution_count": null,
   "metadata": {},
   "outputs": [
    {
     "data": {
      "text/plain": [
       "487"
      ]
     },
     "execution_count": 33,
     "metadata": {},
     "output_type": "execute_result"
    }
   ],
   "source": [
    "# output.usage_metadata['total_tokens']"
   ]
  },
  {
   "cell_type": "code",
   "execution_count": 11,
   "metadata": {},
   "outputs": [
    {
     "data": {
      "text/plain": [
       "{'diagnosis_boolean': 'False',\n",
       " 'explanation': \"The patient has a diagnosis of Gastrointestinal Bleeding (GIB), but there is no evidence of Barrett's Esophagus in the provided information.\"}"
      ]
     },
     "execution_count": 11,
     "metadata": {},
     "output_type": "execute_result"
    }
   ],
   "source": [
    "llm_agent.extract_diagnosis(\n",
    "    diagnosis_data_dict=diagnosis_data_dict, diagnosis=diagnosis\n",
    ")"
   ]
  },
  {
   "cell_type": "code",
   "execution_count": 12,
   "metadata": {},
   "outputs": [
    {
     "data": {
      "text/plain": [
       "{'diagnosis_boolean': 'False',\n",
       " 'explanation': \"The primary diagnosis is gastrointestinal hemorrhage, unspecified, which does not provide direct evidence of Barrett's Esophagus.\"}"
      ]
     },
     "execution_count": 12,
     "metadata": {},
     "output_type": "execute_result"
    }
   ],
   "source": [
    "llm_agent.extract_encounter(\n",
    "    encounters_data_dict=encounters_data_dict, diagnosis=diagnosis\n",
    ")"
   ]
  },
  {
   "cell_type": "code",
   "execution_count": null,
   "metadata": {},
   "outputs": [],
   "source": []
  },
  {
   "cell_type": "markdown",
   "metadata": {},
   "source": [
    "# Test notes extraction"
   ]
  },
  {
   "cell_type": "code",
   "execution_count": null,
   "metadata": {},
   "outputs": [
    {
     "data": {
      "text/plain": [
       "{'diagnosis_boolean': 'False',\n",
       " 'explanation': \"There is no evidence of Barrett's Esophagus in the provided information. The EGD and Colonoscopy results from 03/10/14 and the recent EGD results mention a normal esophagus, and there is no mention of Barrett's Esophagus or any other esophageal abnormalities that would suggest this diagnosis.\"}"
      ]
     },
     "execution_count": 16,
     "metadata": {},
     "output_type": "execute_result"
    }
   ],
   "source": [
    "llm_agent.extract_notes(noteText=noteText, diagnosis=diagnosis)"
   ]
  },
  {
   "cell_type": "code",
   "execution_count": 38,
   "metadata": {},
   "outputs": [],
   "source": [
    "from langchain.output_parsers import PydanticOutputParser\n",
    "from langchain_community.document_loaders import DataFrameLoader\n",
    "from langchain_community.embeddings import HuggingFaceEmbeddings\n",
    "from langchain_community.vectorstores import FAISS\n",
    "from langchain_core.prompts import ChatPromptTemplate, PromptTemplate\n",
    "from langchain_core.runnables import RunnablePassthrough\n",
    "from langchain_groq import ChatGroq\n",
    "from langchain_text_splitters import RecursiveCharacterTextSplitter\n",
    "from pydantic import BaseModel, Field\n",
    "\n",
    "\n",
    "embeddings = HuggingFaceEmbeddings(model_name=\"NeuML/pubmedbert-base-embeddings\")\n",
    "text_splitter = RecursiveCharacterTextSplitter()\n",
    "\n",
    "loader = DataFrameLoader(\n",
    "    data_frame=noteText,\n",
    "    page_content_column=\"NoteText\",\n",
    "    engine=\"pandas\",\n",
    ")\n",
    "\n",
    "documents = loader.load_and_split()\n",
    "\n",
    "vector_store = FAISS.from_documents(documents, embeddings)\n",
    "\n",
    "retriever = vector_store.as_retriever(search_type=\"similarity\", k=5)\n",
    "\n",
    "parser = JsonOutputParser(pydantic_object=DiagnosisSearchDict)\n",
    "# parser = PydanticOutputParser(pydantic_object=DiagnosisSearchDict)"
   ]
  },
  {
   "cell_type": "code",
   "execution_count": 39,
   "metadata": {},
   "outputs": [],
   "source": [
    "def format_docs(docs):\n",
    "    return \"\\n\\n\".join(doc.page_content for doc in docs)"
   ]
  },
  {
   "cell_type": "code",
   "execution_count": 40,
   "metadata": {},
   "outputs": [],
   "source": [
    "from langchain_core.runnables import RunnablePassthrough\n",
    "\n",
    "prompt = PromptTemplate(\n",
    "    template=\"You are a knowledgeable medical provider who specializes in medication management. In the following case, your patient is prescribed a PPI (proton pump inhibitor) and need to make a decision to continue, reduce, or stop the PPI. Determine if there is evidence of the specific condition which will help determine whether to continue, reduce, or stop the medication on discharge.\\n{format_instructions}\\nUse this information for your answer: {context}\\n{query}\\n\",\n",
    "    input_variables=[\"context\", \"query\"],\n",
    "    partial_variables={\"format_instructions\": parser.get_format_instructions()},\n",
    ")\n",
    "\n",
    "# rag_chain = (\n",
    "#     RunnablePassthrough.assign(\n",
    "#         context=(lambda x: llmAgent.format_docs(x[\"context\"]))\n",
    "#     )\n",
    "#     | prompt\n",
    "#     | llm_agent.llm\n",
    "# )\n",
    "\n",
    "rag_chain = (\n",
    "    {\"context\": retriever | format_docs, \"query\": RunnablePassthrough()}\n",
    "    | prompt\n",
    "    | llm_agent.llm\n",
    "    | parser\n",
    ")\n"
   ]
  },
  {
   "cell_type": "code",
   "execution_count": null,
   "metadata": {},
   "outputs": [
    {
     "data": {
      "text/plain": [
       "{'diagnosis_boolean': 'False',\n",
       " 'explanation': \"There is no evidence of Barrett's Esophagus in the provided information. The EGD and Colonoscopy results from 03/10/14 and the recent EGD results mention a normal esophagus, and there is no mention of Barrett's Esophagus or any other esophageal abnormalities that would suggest this diagnosis.\"}"
      ]
     },
     "execution_count": 41,
     "metadata": {},
     "output_type": "execute_result"
    }
   ],
   "source": [
    "rag_chain.invoke(\n",
    "    f\"Is there evidence of {diagnosis}? Do NOT assume a condition based on prescribed medication. We know all of these patients are prescribed a ppi, but we need to know why. Be very sure of a diagnosis.\"\n",
    ")"
   ]
  },
  {
   "cell_type": "code",
   "execution_count": null,
   "metadata": {},
   "outputs": [
    {
     "data": {
      "text/plain": [
       "RunnableAssign(mapper={\n",
       "  context: RunnableLambda(lambda x: x['query'])\n",
       "           | VectorStoreRetriever(tags=['FAISS', 'HuggingFaceEmbeddings'], vectorstore=<langchain_community.vectorstores.faiss.FAISS object at 0x3a5d84bf0>, search_kwargs={})\n",
       "})\n",
       "| RunnableAssign(mapper={\n",
       "    answer: RunnableAssign(mapper={\n",
       "              context: RunnableLambda(lambda x: llmAgent.format_docs(x['context']))\n",
       "            })\n",
       "            | PromptTemplate(input_variables=['query'], input_types={}, partial_variables={'format_instructions': 'The output should be formatted as a JSON instance that conforms to the JSON schema below.\\n\\nAs an example, for the schema {\"properties\": {\"foo\": {\"title\": \"Foo\", \"description\": \"a list of strings\", \"type\": \"array\", \"items\": {\"type\": \"string\"}}}, \"required\": [\"foo\"]}\\nthe object {\"foo\": [\"bar\", \"baz\"]} is a well-formatted instance of the schema. The object {\"properties\": {\"foo\": [\"bar\", \"baz\"]}} is not well-formatted.\\n\\nHere is the output schema:\\n```\\n{\"properties\": {\"diagnosis_boolean\": {\"description\": \"True if the diagnosis is found, else False\", \"title\": \"Diagnosis Boolean\", \"type\": \"string\"}, \"explanation\": {\"description\": \"A concise explanation for how the determination of the diagnosis was made\", \"title\": \"Explanation\", \"type\": \"string\"}}, \"required\": [\"diagnosis_boolean\", \"explanation\"]}\\n```'}, template='You are a knowledgeable medical provider who specializes in medication management. In the following case, your patient is prescribed a PPI (proton pump inhibitor) and need to make a decision to continue, reduce, or stop the PPI. Determine if there is evidence of the specific condition which will help determine whether to continue, reduce, or stop the medication on discharge.\\n{format_instructions}\\n{query}\\n')\n",
       "            | ChatGroq(client=<groq.resources.chat.completions.Completions object at 0x32b428a10>, async_client=<groq.resources.chat.completions.AsyncCompletions object at 0x32b4293d0>, model_name='llama-3.1-70b-versatile', temperature=1e-08, model_kwargs={}, groq_api_key=SecretStr('**********'))\n",
       "  })"
      ]
     },
     "execution_count": 47,
     "metadata": {},
     "output_type": "execute_result"
    }
   ],
   "source": [
    "retrieve_docs = (lambda x: x[\"query\"]) | retriever\n",
    "chain = RunnablePassthrough.assign(context=retrieve_docs).assign(answer=rag_chain)"
   ]
  },
  {
   "cell_type": "code",
   "execution_count": 44,
   "metadata": {},
   "outputs": [],
   "source": [
    "# chain = chain | parser"
   ]
  },
  {
   "cell_type": "code",
   "execution_count": 46,
   "metadata": {},
   "outputs": [
    {
     "data": {
      "text/plain": [
       "{'query': 'Based on the provided information here: {context}, is there evidence of {diagnosis}? Do NOT assume a condition based on prescribed medication. We know all of these patients are prescribed a ppi, but we need to know why. Be very sure of a diagnosis.',\n",
       " 'context': [Document(metadata={'deid_note_key': 'D345CFCA85F004', 'EncounterKey': 'D6253A5CE371EA', 'NoteDate': Timestamp('2023-09-18 00:00:00'), 'DepartmentSpecialty': 'Inpatient Nursing', 'ProviderSpecialty': 'UCSF', 'ProviderType': 'Resident', 'is_on_last_note_date': 0, 'key': 'D6253A5CE371EA', 'PtDischargeDate': Timestamp('2023-09-21 00:00:00'), 'discharge_text': None}, page_content='with quadruple therapy  - OK for AC and AP from ***** perspective - would reinitiate all indicated AC/AP under observation  - would hold oral iron - if he requires iron would prefer IV iron inpatient to allow for better assessment of stools for UGIB  - maintain 2 ***** while AC/AP reinitiated  - maintain active T&S  - agree with evaluation \" for IVC filter should patient not tolerate AC  - transfuse to goal of hgb>7 plt>50 INR<2 and fibrinogen>100 or with hemodynamic instability ongoing bleeding  - continue PPI BID - would complete 8 week course followed by daily indefinitely  - if patient has evidence of active bleed please re-engage our team for reconsideration of EGD - if patient has ***** stools please place photo ***** chart for evaluation  - if patient has brisk bleed and hemodynamic instability consider CTA-AP and consider IR investigation    This case was discussed with service attending *****. ***** ***** ***** 09/18/23.    Thank you for involving us in the care of ***** ***** *****.  We will sign off. Please don\\'t hesitate to page *****-***** with any questions or concerns.    ***** *****-***** MD PhD  Gastroenterology Fellow    \"'),\n",
       "  Document(metadata={'deid_note_key': 'D94398F225EEFB', 'EncounterKey': 'D6253A5CE371EA', 'NoteDate': Timestamp('2023-09-17 00:00:00'), 'DepartmentSpecialty': 'Inpatient Nursing', 'ProviderSpecialty': 'UCSF', 'ProviderType': 'Resident', 'is_on_last_note_date': 0, 'key': 'D6253A5CE371EA', 'PtDischargeDate': Timestamp('2023-09-21 00:00:00'), 'discharge_text': None}, page_content='patient was started on ASA. Evaluated by SLP and placed on modified diet. Per OSH neuro can start on AC 2 weeks from the date of the stroke (August 31).   Dx  [ ] SLP eval   Tx  - s/p \" mechanical thrombectomy at *****   - cont atorva 80 mg at bedtime (seems to be increased from home 20 mg at bedtime)    # Urethral trauma  Per ***** review during OSH admission unable to place foley after multiple straight caths on admission. Urology consulted and now s/p foley ***** with plan for the foley to stay after discharge with outpatient follow up with urology.   - cont ***** 0.4 mg at bedtime (unsure of dosing)    # UTI  Patient had UTI with urine growing ESBL Ecoli at *****. He is now s/p 7 day course of meropenem which ***** on September 15.    # Anemia   Patient here with Hgb 8.4 and normal MCV. Likely November 27 ongoing bleeding from ***** +/- GU source. Iron studies reportedly with c/f ***** at *****.   Dx  [ ] iron studies   - T&S September 17  Tx  - transfuse for Hgb goal > 7     # DM  Unsure if on any DM medications at home.   Dx  [ ] A1c  Tx  - ISS NPO      # HFrEF (35-40%)  # HTN   Per OSH records had repeat TTE which showed EF 3-40% RV mildly reduced no e/o ASD/PFO mild *****. ***** was low with normal T4. Seems to be on entresto spironolactone and metoprolol as outpatient though unclear what doses.   Dx  - I/Os  - daily weights   Tx  - cont metop 25 mg BID   - cont entresto 49-51  - cont lasix 40 mg PO daily   - cont amlodipine 5 mg daily       # Afib  Appears to have previously been on apixaban but now holding iso *****.   Dx  - tele  Tx  - metop 25 mg BID (though notes from prior hospital shows 50 BID in meds but 25 BID in med list)   [ ] confirm in AM  - holding AC iso *****     H&P Inpatient Checklist  Code Status Order (From admission onward)               FULL CODE                          Level of care: TCU   Vital Signs: Q4H  Monitoring: Telemetry  Diet: NPO: pending procedure  DVT prophylaxis: contraindicated  *****:    Delirium bundle: Ordered  *****: likely home; PT/OT: Ordered    ***** ***** MD  UCSF Internal Medicine PGY-3   09/18/23   \"'),\n",
       "  Document(metadata={'deid_note_key': 'D77C9EE884C673', 'EncounterKey': 'D6253A5CE371EA', 'NoteDate': Timestamp('2023-09-19 00:00:00'), 'DepartmentSpecialty': 'Inpatient Nursing', 'ProviderSpecialty': 'Hospital Medicine', 'ProviderType': 'Physician', 'is_on_last_note_date': 0, 'key': 'D6253A5CE371EA', 'PtDischargeDate': Timestamp('2023-09-21 00:00:00'), 'discharge_text': None}, page_content='for ivc filter if we have to stop anticoagulation.    ***** scan pt radiology cd from ***** into our \" pacs.   -reason for dvt unknown but pt saw hematology at *****. ***** recommend outpt follow up closer to home.     R MCA stroke with mild left facial droop only residua.   Patient is now s/p mechanical thrombectomy of M1 segment of R MCA at ***** with improvement in his NIHSS from 12 -->May 02. Per report initial CT brain with no ICH but suggested an evolving acute/subacute infarct in the R MCA territory with slight mass effect. He had repeat CT brain which showed a resolved trace SAH and was otherwise stable and patient was started on ASA. Evaluated by SLP and placed on modified diet. Per OSH neuro can start on AC 2 weeks from the date of the stroke (August 31).    -swallow eval done at *****. Ok for reg diet thin liquids and aspiration precautions.     # Urethral trauma following foley placement for obstructed urinary tract. Per chart review during OSH admission unable to place foley after multiple straight caths on admission. Urology consulted and now s/p foley placement with plan for the foley to stay after discharge with outpatient follow up with urology.   - cont flomax 0.4 mg at bedtime (unsure of dosing)  -keep foley in for dc. Outpt follow up with urology.        HFrEF (35-40%)  # HTN  Per OSH records had repeat TTE which showed EF 3-40% RV mildly reduced no e/o ASD/PFO mild *****. ***** was low with normal T4. Seems to be on entresto spironolactone and metoprolol as outpatient though unclear what doses. bnp mildly elevated 274. Clinically not hypoxic or shortness of breath.   -I/Os  - daily weights   Tx  - cont metop 25 mg BID   - cont entresto 49-51  - cont lasix 40 mg PO daily   - cont amlodipine 5 mg daily  Continue home diuretics.      # UTI  Patient had UTI with urine growing ESBL Ecoli at *****. He is now s/p 7 day course of meropenem which ***** on September 15    # Afib with pacer rate controlled  Appears to have previously been on apixaban but now holding iso *****.   - metop 25 mg BID-->12.5 as pt v paced this \" am.       Med ***** ***** ***** pending.     Inpatient Checklist  Code Status Order (From admission onward)               FULL CODE                          Vital Signs: Q4H  Monitoring: Telemetry  Diet: Carbohydrate Controlled Diet 80 Carb gms/*****   DVT prophylaxis: already on therapeutic anticoagulation  *****: indwelling  Delirium: AWOL: (!) 2; Nu-DESC: 0; Order Set ordered: Yes  *****: anticipate 11.25 afternoon if no rebleeding. Pt will talk to his son.             During this hospitalization the patient is also being treated for:  Diabetes type 2 associated with cerebrovascular disease  Heart Failure: HFrEF: chronic left-sided  Hypoalbuminemia (present on admission)         ***** ***** ***** MD        MDM Complexity Data  Of the results reviewed the following key test results: hemoglobin creatinine Ordered/recommended ordering the following tests: dvt us repeat and Reviewed clinical notes outside my specialty: GI  Spoke with GI team from ***** regarding resuming anticoagulation no scopes.     MDM Complexity of Problems  Illness/injury posing threat to life or bodily function: bleeding in setting of dvt     MDM Complexity Risk  Other: requires 48 hours monitoring for bleeding on anticoagulation      \"'),\n",
       "  Document(metadata={'deid_note_key': 'D8AB522482708A', 'EncounterKey': 'D6253A5CE371EA', 'NoteDate': Timestamp('2023-09-20 00:00:00'), 'DepartmentSpecialty': 'Inpatient Nursing', 'ProviderSpecialty': 'Hospital Medicine', 'ProviderType': 'Physician', 'is_on_last_note_date': 0, 'key': 'D6253A5CE371EA', 'PtDischargeDate': Timestamp('2023-09-21 00:00:00'), 'discharge_text': None}, page_content='Dear .NAME / *****(a) ***** ***** *****     You were admitted for ***** (gastrointestinal bleeding).  / Fue *****(a) por ***** (gastrointestinal bleeding).    In the hospital we monitored you for bleeding but you did not have any. You did not get any procedures at *****.   …  / En el hospital *****  (tests and interventions provided / pruebas e ***** *****)     Key information for you to know: / Información ***** para usted:     MEDICATION CHANGES (for dosing see complete medication list below) /   CAMBIOS ***** ***** MEDICACIÓN (para ***** *****ón ***** ***** ***** completa de medicamentos a *****ón):  - Please STOP taking  / ***** favor ***** de ***** iron. basaglar insulin was not needed for your sugars in the hospital. If your sugars are running high >200s at home you can resume this.   - Please START taking / ***** favor ***** a ***** apixaban amlodipine flomax  - The following medications have CHANGES ***** ***** / Los ***** medicamentos tienen CAMBIOS ***** ***** ***** metoprolol lipitor     FOLLOW-UP INSTRUCTIONS / INSTRUCCIONES DE SEGUIMIENTO:  - After you leave the hospital you need to get the labs and imaging studies listed in the summary because / Después de salir ***** hospital debe ***** las pruebas y los estudios de radiología ***** en el ***** porque You will need follow up with a gastroenterologist to schedule endoscopy and colonoscopy to look for source of bleeding. You will need follow up with urology to reassess whether your foley catheter can be removed.     - Follow-up appointments with your outpatient providers are listed below. /  ***** citas de seguimiento con los proveedores ***** se ***** a *****ón.   You will need follow up with your primary care doctor   RETURN INSTRUCTIONS / INSTRUCCIONES PARA REGRESAR:  - Please contact a healthcare provider or return to the emergency room for bleeding light headedness dizziness fainting changes in \" strength/weakness shortness of breath. If you have any bleeding or black stool stop eliquis and seek medical help. / ***** favor *****í***** con un proveedor médico o regrese a la ***** de emergencias si *****: *****  - If you have questions please contact your primary care provider or hospital team (phone numbers above). / Si ***** ***** ***** *****í***** con su proveedor ***** o su equipo ***** hospital (a los números *****ó***** ***** *****)     It was a pleasure taking care of you.  / Fue un ***** *****.     Sincerely / *****     Dr. ***** ***** .***** - Attending physician / Médico supervisor    Patient and Family Advisory *****    Would you like to have the opportunity to improve the care experience of patients who are in the hospital? The UCSF Division of Hospital Medicine is actively recruiting members for a Patient and Family Advisory ***** (*****). The ***** is comprised of a group of patients and/or loved ones who meet monthly to discuss hospital initiatives and improvements. Please email *****.*****@*****.***** for further information or visit our website at *****://*****.*****/*****.  \"')],\n",
       " 'answer': AIMessage(content=\"I'm ready to help. However, I don't see any context information provided. Please provide the context information about the patient, including their medical history, symptoms, and any relevant test results. I will then determine if there is evidence of a specific condition that warrants continuing, reducing, or stopping the PPI.\\n\\nOnce I have the context information, I will provide a response in the format of a JSON instance that conforms to the provided schema.\\n\\nPlease provide the context information.\", additional_kwargs={}, response_metadata={'token_usage': {'completion_tokens': 96, 'prompt_tokens': 363, 'total_tokens': 459, 'completion_time': 0.384, 'prompt_time': 0.067629903, 'queue_time': 0.0035226099999999955, 'total_time': 0.451629903}, 'model_name': 'llama-3.1-70b-versatile', 'system_fingerprint': 'fp_5c5d1b5cfb', 'finish_reason': 'stop', 'logprobs': None}, id='run-0d0c7680-800e-4e62-acd6-30b227c9ae71-0', usage_metadata={'input_tokens': 363, 'output_tokens': 96, 'total_tokens': 459})}"
      ]
     },
     "execution_count": 46,
     "metadata": {},
     "output_type": "execute_result"
    }
   ],
   "source": [
    "chain.invoke(\n",
    "    {\n",
    "        \"query\": \"Based on the provided information here: {context}, is there evidence of {diagnosis}? Do NOT assume a condition based on prescribed medication. We know all of these patients are prescribed a ppi, but we need to know why. Be very sure of a diagnosis.\"\n",
    "    }\n",
    ")"
   ]
  },
  {
   "cell_type": "code",
   "execution_count": null,
   "metadata": {},
   "outputs": [],
   "source": []
  },
  {
   "cell_type": "code",
   "execution_count": null,
   "metadata": {},
   "outputs": [],
   "source": []
  },
  {
   "cell_type": "code",
   "execution_count": 6,
   "metadata": {},
   "outputs": [
    {
     "name": "stdout",
     "output_type": "stream",
     "text": [
      "final token count: 812\n",
      "Recommendation: \n",
      "continue\n",
      "\n",
      "Reasoning: \n",
      "The patient has a documented history of gastrointestinal bleeding (GIB) and a history of bleeding GI ulcer, which suggests they may be at risk for upper GI symptoms and bleeding GI ulcers. The patient's primary diagnosis is gastrointestinal hemorrhage, and their age and hospital admission for this condition may indicate a higher risk for certain conditions. However, there is no specific information about other conditions such as mild to moderate esophagitis, GERD, peptic ulcer disease, Barrett's esophagus, chronic NSAID use with bleeding risk, severe esophagitis, and H pylori infection. The patient's history of bleeding and anemia suggests a possible risk for future bleeding events.\n",
      "\n",
      "Label df: \n",
      "              key                                             reason  \\\n",
      "0  D6253A5CE371EA  example with gastrointestinal bleed should con...   \n",
      "\n",
      "  recommendation  \n",
      "0       continue  \n"
     ]
    }
   ],
   "source": [
    "main(groq_key=groq_key, data_path=data_path, encounter_key=encounter_key)"
   ]
  },
  {
   "cell_type": "code",
   "execution_count": null,
   "metadata": {},
   "outputs": [],
   "source": []
  },
  {
   "cell_type": "code",
   "execution_count": 7,
   "metadata": {},
   "outputs": [],
   "source": [
    "llm_agent = llmAgent(groq_key=groq_key, data_path=data_path)"
   ]
  },
  {
   "cell_type": "code",
   "execution_count": 8,
   "metadata": {},
   "outputs": [
    {
     "data": {
      "text/plain": [
       "({'Mild to moderate esophagitis': False,\n",
       "  'GERD': False,\n",
       "  'Peptic Ulcer Disease': False,\n",
       "  'Upper GI symptoms': True,\n",
       "  'ICU Stress Ulcer Prophylaxis': False,\n",
       "  'Barretts Esophagus': False,\n",
       "  'Chronic NSAID use with bleeding risk': False,\n",
       "  'Severe esophagitis': False,\n",
       "  'Documented history of bleeding GI ulcer': True,\n",
       "  'H pylori infection': False,\n",
       "  'Reasoning': 'The patient has a documented history of gastrointestinal bleeding (GIB), which suggests that they may have experienced upper GI symptoms and may have a history of bleeding GI ulcer. However, there is no specific information about the other conditions. The presence of GIB does not necessarily imply the presence of the other conditions, but it does suggest that the patient may be at risk for upper GI symptoms and bleeding GI ulcers.'},\n",
       " 617)"
      ]
     },
     "execution_count": 8,
     "metadata": {},
     "output_type": "execute_result"
    }
   ],
   "source": [
    "diagnosis_json = llm_agent.extract_diagnosis(encounter_key=encounter_key)\n",
    "diagnosis_json"
   ]
  },
  {
   "cell_type": "code",
   "execution_count": 9,
   "metadata": {},
   "outputs": [
    {
     "data": {
      "text/plain": [
       "({'Mild to moderate esophagitis': False,\n",
       "  'GERD': False,\n",
       "  'Peptic Ulcer Disease': False,\n",
       "  'Upper GI symptoms': False,\n",
       "  'ICU Stress Ulcer Prophylaxis': False,\n",
       "  'Barretts Esophagus': False,\n",
       "  'Chronic NSAID use with bleeding risk': False,\n",
       "  'Severe esophagitis': False,\n",
       "  'Documented history of bleeding GI ulcer': False,\n",
       "  'H pylori infection': False,\n",
       "  'Reasoning': \"The primary diagnosis is listed as 'Gastrointestinal hemorrhage, unspecified', which suggests that the patient experienced bleeding in the gastrointestinal tract, but the exact cause or underlying condition is not specified. There is no direct mention of any of the listed conditions in the provided JSON information. Therefore, it is not possible to confirm the presence of any of these conditions based on the available data.\"},\n",
       " 649)"
      ]
     },
     "execution_count": 9,
     "metadata": {},
     "output_type": "execute_result"
    }
   ],
   "source": [
    "encounter_json = llm_agent.extract_encounter_info(encounter_key=encounter_key)\n",
    "encounter_json"
   ]
  },
  {
   "cell_type": "code",
   "execution_count": 10,
   "metadata": {},
   "outputs": [
    {
     "data": {
      "text/plain": [
       "({'Mild to moderate esophagitis': False,\n",
       "  'GERD': False,\n",
       "  'Peptic Ulcer Disease': False,\n",
       "  'Upper GI symptoms': False,\n",
       "  'ICU Stress Ulcer Prophylaxis': False,\n",
       "  'Barretts Esophagus': False,\n",
       "  'Chronic NSAID use with bleeding risk': False,\n",
       "  'Severe esophagitis': False,\n",
       "  'Documented history of bleeding GI ulcer': True,\n",
       "  'H pylori infection': True,\n",
       "  'Reasoning': \"The patient has a history of gastrointestinal bleeding and has been diagnosed with H. pylori infection. The patient's recent endoscopy results show mild antral erythema and a punctate area of submucosal erythema in the gastric body. The patient's symptoms and test results suggest a high risk for gastrointestinal bleeding, and therefore, the patient's H. pylori infection and history of bleeding GI ulcer are relevant to the diagnosis.\"},\n",
       " 3996,\n",
       " [Document(metadata={'deid_note_key': 'D345CFCA85F004', 'EncounterKey': 'D6253A5CE371EA', 'NoteDate': Timestamp('2023-09-18 00:00:00'), 'DepartmentSpecialty': 'Inpatient Nursing', 'ProviderSpecialty': 'UCSF', 'ProviderType': 'Resident', 'is_on_last_note_date': 0, 'key': 'D6253A5CE371EA', 'PtDischargeDate': Timestamp('2023-09-21 00:00:00'), 'discharge_text': None}, page_content='with quadruple therapy  - OK for AC and AP from ***** perspective - would reinitiate all indicated AC/AP under observation  - would hold oral iron - if he requires iron would prefer IV iron inpatient to allow for better assessment of stools for UGIB  - maintain 2 ***** while AC/AP reinitiated  - maintain active T&S  - agree with evaluation \" for IVC filter should patient not tolerate AC  - transfuse to goal of hgb>7 plt>50 INR<2 and fibrinogen>100 or with hemodynamic instability ongoing bleeding  - continue PPI BID - would complete 8 week course followed by daily indefinitely  - if patient has evidence of active bleed please re-engage our team for reconsideration of EGD - if patient has ***** stools please place photo ***** chart for evaluation  - if patient has brisk bleed and hemodynamic instability consider CTA-AP and consider IR investigation    This case was discussed with service attending *****. ***** ***** ***** 09/18/23.    Thank you for involving us in the care of ***** ***** *****.  We will sign off. Please don\\'t hesitate to page *****-***** with any questions or concerns.    ***** *****-***** MD PhD  Gastroenterology Fellow    \"'),\n",
       "  Document(metadata={'deid_note_key': 'D345CFCA85F004', 'EncounterKey': 'D6253A5CE371EA', 'NoteDate': Timestamp('2023-09-18 00:00:00'), 'DepartmentSpecialty': 'Inpatient Nursing', 'ProviderSpecialty': 'UCSF', 'ProviderType': 'Resident', 'is_on_last_note_date': 0, 'key': 'D6253A5CE371EA', 'PtDischargeDate': Timestamp('2023-09-21 00:00:00'), 'discharge_text': None}, page_content='Notation was made of a shallow and narrow mouthed antral erythema   There was a punctate area of submucosal erythema seen in the   gastric body. This was palpated with a closed biopsy forceps. No   active bleeding *****       Procedures:  \" RANDOM BIOPSY:  Random biopsies were taken from   the gastric body and antrum for  ***** test     DUODENUM - The duodenum was normal without ulcers erosions   AVMs strictures or masses seen       Procedures:  RANDOM BIOPSY:  Random biopsies were taken from   the duodenum for  histology     EGD BIOPSY SPECIMENS:    #1 Location:   Duodenum   Specimen:   Normal mucosa   Antrum for ***** test                                                   COLONOSCOPY     PROCEDURE: Colonoscopy     COLONOSCOPY INDICATION:  Anemia     DESCRIPTION:   The patient was placed in the left lateral   decubitus position and IV sedation was administered. A rectal   examination was performed and the  colonoscope was introduced and   advanced.     FINDINGS AND PROCEDURES DURING INSERTION:  The colon was   relatively straight requiring minimal maneuvers for insertion     EXTENT OF INSERTION:  The scope was advanced to the terminal   ileum   The colonoscope was withdrawn slowly carefully rotating it   circumferentially to observe all the walls during *****.      PREPARATION: Very good with small amounts of easily aspirated   fluid     FINDINGS:   TERMINAL ILEUM:   Findings: Normal   Procedures: None     CECUM AND ASCENDING COLON:   ---Findings:  Normal   ---Procedures:  None     TRANSVERSE COLON:   ---Findings:  Normal   ---Procedures:  None     DESCENDING COLON:   ---Findings:  Normal   ---Procedures:  None     SIGMOID COLON:   ---Findings:  Normal   ---Procedures:  None     RECTUM:  The scope was retroflexed in the rectum.   ---Findings:  Hemorrhoids-- Small internal hemorrhoids   ---Procedures: None     Assessment/Plan:   ***** ***** ***** is a ***** y.o. man with HFrEF (35-40%) T2DM HTN HLD Afib (intermittently on AC) and recurrent slow UGIB (prior AVMs 2014 s/p APC) presenting to ***** ***** -> Good Samaritan w/ R MCA stroke s/p thrombectomy course c/b hematuria/scrotal swelling s/p tx to ***** for urologic eval course further \" c/b bl DVT (on AC) now transferred from ***** due to melena and anemia s/p 2 u pRBC. GI consulted for *****.    Patient transferred to ***** after he was witnessed to have dark stools with acute-on-chronic anemia while at *****. Reassuringly patient remains hemodynamically stable BUN 14:Cr 1 (reassuring against active UGIB) Hgb ***** 8.0 ->8.4 -> 8.7 and stools have remained brown. Last transfused September 11 and September 03. While patient has a history of mild gastritis and small AVMs (in 2014 - January 2022 reports not available to me) low concern for active ***** at this time. Appreciate patient AC has been limited by slow ooze in the past (since 2014). Differential includes AVMs gastritis duodenitis; less likely esophagitis new ulcer formation; unlikely new malignancy or sequelae of portal HTN given recent normal EGD and clinical picture.    Given his recent stroke and SAH patient remains a relatively high risk candidate for both anesthesia and endoscopy. As he is stable from ***** perspective would restart necessary AC and AP that he is indicated for under close observation (at least 48 hours after initiation) of stools hemodynamics and Hgb. Should patient re-demonstrate UGIB with ***** stools will reconsider upper endoscopy at this time. Reassured that he had reportedly normal EGD/colonoscopy last January 2022.    Appreciate team has sent H pylori for evaluation as prior ***** test not available to me.     Recommendations:  - please obtain reports for EGD/colonoscopy in January 2022 at *****  - send and follow-up H pylori - appreciate both serum and stool sent; if positive please treat with quadruple therapy  - OK for AC and AP from ***** perspective - would reinitiate all indicated AC/AP under observation  - would hold oral iron - if he requires iron would prefer IV iron inpatient'),\n",
       "  Document(metadata={'deid_note_key': 'D8AB522482708A', 'EncounterKey': 'D6253A5CE371EA', 'NoteDate': Timestamp('2023-09-20 00:00:00'), 'DepartmentSpecialty': 'Inpatient Nursing', 'ProviderSpecialty': 'Hospital Medicine', 'ProviderType': 'Physician', 'is_on_last_note_date': 0, 'key': 'D6253A5CE371EA', 'PtDischargeDate': Timestamp('2023-09-21 00:00:00'), 'discharge_text': None}, page_content='Dear .NAME / *****(a) ***** ***** *****     You were admitted for ***** (gastrointestinal bleeding).  / Fue *****(a) por ***** (gastrointestinal bleeding).    In the hospital we monitored you for bleeding but you did not have any. You did not get any procedures at *****.   …  / En el hospital *****  (tests and interventions provided / pruebas e ***** *****)     Key information for you to know: / Información ***** para usted:     MEDICATION CHANGES (for dosing see complete medication list below) /   CAMBIOS ***** ***** MEDICACIÓN (para ***** *****ón ***** ***** ***** completa de medicamentos a *****ón):  - Please STOP taking  / ***** favor ***** de ***** iron. basaglar insulin was not needed for your sugars in the hospital. If your sugars are running high >200s at home you can resume this.   - Please START taking / ***** favor ***** a ***** apixaban amlodipine flomax  - The following medications have CHANGES ***** ***** / Los ***** medicamentos tienen CAMBIOS ***** ***** ***** metoprolol lipitor     FOLLOW-UP INSTRUCTIONS / INSTRUCCIONES DE SEGUIMIENTO:  - After you leave the hospital you need to get the labs and imaging studies listed in the summary because / Después de salir ***** hospital debe ***** las pruebas y los estudios de radiología ***** en el ***** porque You will need follow up with a gastroenterologist to schedule endoscopy and colonoscopy to look for source of bleeding. You will need follow up with urology to reassess whether your foley catheter can be removed.     - Follow-up appointments with your outpatient providers are listed below. /  ***** citas de seguimiento con los proveedores ***** se ***** a *****ón.   You will need follow up with your primary care doctor   RETURN INSTRUCTIONS / INSTRUCCIONES PARA REGRESAR:  - Please contact a healthcare provider or return to the emergency room for bleeding light headedness dizziness fainting changes in \" strength/weakness shortness of breath. If you have any bleeding or black stool stop eliquis and seek medical help. / ***** favor *****í***** con un proveedor médico o regrese a la ***** de emergencias si *****: *****  - If you have questions please contact your primary care provider or hospital team (phone numbers above). / Si ***** ***** ***** *****í***** con su proveedor ***** o su equipo ***** hospital (a los números *****ó***** ***** *****)     It was a pleasure taking care of you.  / Fue un ***** *****.     Sincerely / *****     Dr. ***** ***** .***** - Attending physician / Médico supervisor    Patient and Family Advisory *****    Would you like to have the opportunity to improve the care experience of patients who are in the hospital? The UCSF Division of Hospital Medicine is actively recruiting members for a Patient and Family Advisory ***** (*****). The ***** is comprised of a group of patients and/or loved ones who meet monthly to discuss hospital initiatives and improvements. Please email *****.*****@*****.***** for further information or visit our website at *****://*****.*****/*****.  \"'),\n",
       "  Document(metadata={'deid_note_key': 'D345CFCA85F004', 'EncounterKey': 'D6253A5CE371EA', 'NoteDate': Timestamp('2023-09-18 00:00:00'), 'DepartmentSpecialty': 'Inpatient Nursing', 'ProviderSpecialty': 'UCSF', 'ProviderType': 'Resident', 'is_on_last_note_date': 0, 'key': 'D6253A5CE371EA', 'PtDischargeDate': Timestamp('2023-09-21 00:00:00'), 'discharge_text': None}, page_content='6.4   HGB 8.7***** 8.4*****   HCT 28.1***** 27.8*****   MCV 95 96   PLT ***** *****     Recent Labs     09/17/23  2035   INR 1.3*****   PTT 26.8       Microbiology:  Microbiology Results (last 72 \" hours)       Procedure Component Value Units Date/Time    MRSA Culture [*****] Collected: 09/18/23 0507    Order Status: Sent Specimen: Anterior Nares Swab Updated: 09/18/23 0820    COVID-19 RNA RT-PCR/Nucleic Acid Amplification Screening (Asymptomatic and No Specific COVID-19 Suspicion); No [*****] Collected: 09/18/23 0507    Order Status: Sent Specimen: Not Applicable from ***** ***** ***** +/- ***** Swab Updated: 09/18/23 0816    Helicobacter pylori IgG Antibody [*****] Collected: 09/17/23 2035    Order Status: Sent Specimen: Blood from ***** *****: 09/17/23 2313    Helicobacter pylori Antigen [*****]     Order Status: Sent Specimen: Stool     Helicobacter pylori Antigen [*****]     Order Status: Canceled Specimen: Stool             Radiology:   Radiology Results (last 72 hours)       Procedure Component Value Units Date/Time    XR Chest 1 View (AP Portable) [*****] Collected: 09/17/23 2110    Order Status: Completed Updated: 09/17/23 2116    Narrative:      XR CHEST 1 VIEW   09/17/2023 9:02 PM    HISTORY: confirm lines    COMPARISON: None.      Impression:      FINDINGS/IMPRESSION:    Pacemaker lead terminates at the right atrium and ventricle.    Bilateral patchy consolidations and small right pleural effusion concerning for infection or pulmonary edema. No pneumothorax. Borderline cardiomegaly.    Report dictated by: ***** ***** ***** MD signed by: ***** ***** ***** MD  Department of Radiology and Biomedical Imaging            Endoscopies:    Small bowel enteroscopy 03/14/2014  ESOPHAGUS - The mucosa had no ulcers or erosions strictures   masses or varices.   The diaphragmatic impression was located at 40 cm   The LES impression and Z-line were located at 40 cm       Procedures:  None     STOMACH - Minimal clear fluid was found in the stomach and easily   aspirated   The mucosa was abnormal with a 2 mm size distal gastric body AVM   and erosions in the gastric body and a small \" ulceration in the   antrum likely related to the previously taken biopsies no   polyps or masses seen       Procedures:  APC CAUTERY PROCEDURE:  The  APC probe was   passed and AVM was completely obliterated.     DUODENUM - The duodenum was abnormal with erosions at the   recently taken biopsy sites otherwise without ulcers AVMs   strictures or masses seen       Procedures:  None     JEJUNUM - The jejunum was abnormal with a small 2 mm size AVM   however this did not appear to be the same AVM identified on   capsule endoscopy the examination was done up to 40 cm beyond   pylorus further examination could not be possible secondary to   looping no strictures or masses seen       Procedures:  APC CAUTERY PROCEDURE:  The  APC probe was   passed and AVM was completely obliterated.       Complications:  None   Estimated blood loss: None     MEDICATIONS:  Demerol  100 mg and Versed  4.0 mg     BIOPSY SPECIMENS: None     IMPRESSION:    Normal esophagus   Erosions/ulceration at the site of recently taken biopsy in the   stomach   A small 2 mm distal gastric body nonbleeding AVM ablated with   APC   Erosions at the site of biopsies in the duodenum   Jejunum AVM 2 mm nonbleeding treated with APC   The AVM seen on can study was not able to be reached on capsule   endoscopy   Push enteroscopy possible up to 40 cm beyond pylorus       EGD and Colonoscopy 03/10/14:    FINDINGS:   ESOPHAGUS - The mucosa had no ulcers or erosions strictures   masses or varices.       Procedures:  None     STOMACH - Minimal clear fluid was found in the stomach and easily   aspirated   The mucosa was normal with no ulcers erosions AVM\\'s polyps or   masses seen   Mild antral erythema was seen   Notation was made of a shallow and narrow mouthed antral erythema   There was a punctate area of submucosal erythema seen in the   gastric body. This was palpated with a closed biopsy forceps. No')])"
      ]
     },
     "execution_count": 10,
     "metadata": {},
     "output_type": "execute_result"
    }
   ],
   "source": [
    "notes = llm_agent.extract_notes(encounter_key=encounter_key)\n",
    "notes"
   ]
  },
  {
   "cell_type": "code",
   "execution_count": null,
   "metadata": {},
   "outputs": [],
   "source": []
  },
  {
   "cell_type": "code",
   "execution_count": null,
   "metadata": {},
   "outputs": [],
   "source": []
  },
  {
   "cell_type": "code",
   "execution_count": null,
   "metadata": {},
   "outputs": [
    {
     "data": {
      "text/plain": [
       "'Based on the provided information, here is a JSON instance that conforms to the given schema:\\n\\n```\\n{\\n  \"Mild_to_moderate_esophagitis\": false,\\n  \"GERD\": false,\\n  \"Peptic_Ulcer_Disease\": false,\\n  \"Upper_GI_symptoms\": true,\\n  \"ICU_Stress_Ulcer_Prophylaxis\": false,\\n  \"Barretts_Esophagus\": false,\\n  \"Chronic_NSAID_use_with_bleeding_risk\": false,\\n  \"Severe_esophagitis\": false,\\n  \"Documented_history_of_bleeding_GI_ulcer\": true,\\n  \"H_pylori_infection\": true,\\n  \"Reasoning\": \"The patient has a history of gastrointestinal bleeding and has been diagnosed with H. pylori infection. The patient\\'s recent labs show a low hemoglobin level and a positive Helicobacter pylori IgG antibody test. The patient\\'s endoscopy results show mild antral erythema and a punctate area of submucosal erythema in the gastric body. The patient\\'s symptoms and test results suggest that they have upper GI symptoms and a documented history of bleeding GI ulcer.\"\\n}\\n```\\n\\nNote that some of the fields in the JSON instance are set to false, as there is no information in the provided text to suggest that the patient has those conditions. The \"Reasoning\" field is a summary of the patient\\'s symptoms and test results, and is based on the information provided in the text.'"
      ]
     },
     "execution_count": 15,
     "metadata": {},
     "output_type": "execute_result"
    }
   ],
   "source": [
    "notes_json[\"answer\"].content  # this is the json"
   ]
  },
  {
   "cell_type": "code",
   "execution_count": 12,
   "metadata": {},
   "outputs": [
    {
     "data": {
      "text/plain": [
       "{'input': 'Based on the information from the note {context}, does the patient have any of the following:\\n              1. Mild to moderate esophagitis\\n              2. GERD \\n              3. Peptic Ulcer Disease\\n              4. Upper GI symptoms\\n              5. ICU Stress Ulcer Prophylaxis\\n              6. Barretts Esophagus\\n              7. Chronic NSAID use with bleeding risk\\n              8. Severe esophagitis\\n              9. Documented history of bleeding GI ulcer\\n              10. H pylori infection\\n              11. Explain the reasoning for your answer\\n            Return the answer for each of these as a formatted JSON object with the key being the condition and the value being a boolean value for the first 10.  For the final question, return a string with the reasoning for your answer.',\n",
       " 'context': [Document(metadata={'deid_note_key': 'D345CFCA85F004', 'EncounterKey': 'D6253A5CE371EA', 'NoteDate': '2023-09-18', 'DepartmentSpecialty': 'Inpatient Nursing', 'ProviderSpecialty': 'UCSF', 'ProviderType': 'Resident', 'is_on_last_note_date': 0, 'key': 'D6253A5CE371EA', 'PtDischargeDate': '2023-09-21', 'discharge_text': None}, page_content='with quadruple therapy  - OK for AC and AP from ***** perspective - would reinitiate all indicated AC/AP under observation  - would hold oral iron - if he requires iron would prefer IV iron inpatient to allow for better assessment of stools for UGIB  - maintain 2 ***** while AC/AP reinitiated  - maintain active T&S  - agree with evaluation \" for IVC filter should patient not tolerate AC  - transfuse to goal of hgb>7 plt>50 INR<2 and fibrinogen>100 or with hemodynamic instability ongoing bleeding  - continue PPI BID - would complete 8 week course followed by daily indefinitely  - if patient has evidence of active bleed please re-engage our team for reconsideration of EGD - if patient has ***** stools please place photo ***** chart for evaluation  - if patient has brisk bleed and hemodynamic instability consider CTA-AP and consider IR investigation    This case was discussed with service attending *****. ***** ***** ***** 09/18/23.    Thank you for involving us in the care of ***** ***** *****.  We will sign off. Please don\\'t hesitate to page *****-***** with any questions or concerns.    ***** *****-***** MD PhD  Gastroenterology Fellow    \"'),\n",
       "  Document(metadata={'deid_note_key': 'D345CFCA85F004', 'EncounterKey': 'D6253A5CE371EA', 'NoteDate': '2023-09-18', 'DepartmentSpecialty': 'Inpatient Nursing', 'ProviderSpecialty': 'UCSF', 'ProviderType': 'Resident', 'is_on_last_note_date': 0, 'key': 'D6253A5CE371EA', 'PtDischargeDate': '2023-09-21', 'discharge_text': None}, page_content='Notation was made of a shallow and narrow mouthed antral erythema   There was a punctate area of submucosal erythema seen in the   gastric body. This was palpated with a closed biopsy forceps. No   active bleeding *****       Procedures:  \" RANDOM BIOPSY:  Random biopsies were taken from   the gastric body and antrum for  ***** test     DUODENUM - The duodenum was normal without ulcers erosions   AVMs strictures or masses seen       Procedures:  RANDOM BIOPSY:  Random biopsies were taken from   the duodenum for  histology     EGD BIOPSY SPECIMENS:    #1 Location:   Duodenum   Specimen:   Normal mucosa   Antrum for ***** test                                                   COLONOSCOPY     PROCEDURE: Colonoscopy     COLONOSCOPY INDICATION:  Anemia     DESCRIPTION:   The patient was placed in the left lateral   decubitus position and IV sedation was administered. A rectal   examination was performed and the  colonoscope was introduced and   advanced.     FINDINGS AND PROCEDURES DURING INSERTION:  The colon was   relatively straight requiring minimal maneuvers for insertion     EXTENT OF INSERTION:  The scope was advanced to the terminal   ileum   The colonoscope was withdrawn slowly carefully rotating it   circumferentially to observe all the walls during *****.      PREPARATION: Very good with small amounts of easily aspirated   fluid     FINDINGS:   TERMINAL ILEUM:   Findings: Normal   Procedures: None     CECUM AND ASCENDING COLON:   ---Findings:  Normal   ---Procedures:  None     TRANSVERSE COLON:   ---Findings:  Normal   ---Procedures:  None     DESCENDING COLON:   ---Findings:  Normal   ---Procedures:  None     SIGMOID COLON:   ---Findings:  Normal   ---Procedures:  None     RECTUM:  The scope was retroflexed in the rectum.   ---Findings:  Hemorrhoids-- Small internal hemorrhoids   ---Procedures: None     Assessment/Plan:   ***** ***** ***** is a ***** y.o. man with HFrEF (35-40%) T2DM HTN HLD Afib (intermittently on AC) and recurrent slow UGIB (prior AVMs 2014 s/p APC) presenting to ***** ***** -> Good Samaritan w/ R MCA stroke s/p thrombectomy course c/b hematuria/scrotal swelling s/p tx to ***** for urologic eval course further \" c/b bl DVT (on AC) now transferred from ***** due to melena and anemia s/p 2 u pRBC. GI consulted for *****.    Patient transferred to ***** after he was witnessed to have dark stools with acute-on-chronic anemia while at *****. Reassuringly patient remains hemodynamically stable BUN 14:Cr 1 (reassuring against active UGIB) Hgb ***** 8.0 ->8.4 -> 8.7 and stools have remained brown. Last transfused September 11 and September 03. While patient has a history of mild gastritis and small AVMs (in 2014 - January 2022 reports not available to me) low concern for active ***** at this time. Appreciate patient AC has been limited by slow ooze in the past (since 2014). Differential includes AVMs gastritis duodenitis; less likely esophagitis new ulcer formation; unlikely new malignancy or sequelae of portal HTN given recent normal EGD and clinical picture.    Given his recent stroke and SAH patient remains a relatively high risk candidate for both anesthesia and endoscopy. As he is stable from ***** perspective would restart necessary AC and AP that he is indicated for under close observation (at least 48 hours after initiation) of stools hemodynamics and Hgb. Should patient re-demonstrate UGIB with ***** stools will reconsider upper endoscopy at this time. Reassured that he had reportedly normal EGD/colonoscopy last January 2022.    Appreciate team has sent H pylori for evaluation as prior ***** test not available to me.     Recommendations:  - please obtain reports for EGD/colonoscopy in January 2022 at *****  - send and follow-up H pylori - appreciate both serum and stool sent; if positive please treat with quadruple therapy  - OK for AC and AP from ***** perspective - would reinitiate all indicated AC/AP under observation  - would hold oral iron - if he requires iron would prefer IV iron inpatient'),\n",
       "  Document(metadata={'deid_note_key': 'D8AB522482708A', 'EncounterKey': 'D6253A5CE371EA', 'NoteDate': '2023-09-20', 'DepartmentSpecialty': 'Inpatient Nursing', 'ProviderSpecialty': 'Hospital Medicine', 'ProviderType': 'Physician', 'is_on_last_note_date': 0, 'key': 'D6253A5CE371EA', 'PtDischargeDate': '2023-09-21', 'discharge_text': None}, page_content='Dear .NAME / *****(a) ***** ***** *****     You were admitted for ***** (gastrointestinal bleeding).  / Fue *****(a) por ***** (gastrointestinal bleeding).    In the hospital we monitored you for bleeding but you did not have any. You did not get any procedures at *****.   …  / En el hospital *****  (tests and interventions provided / pruebas e ***** *****)     Key information for you to know: / Información ***** para usted:     MEDICATION CHANGES (for dosing see complete medication list below) /   CAMBIOS ***** ***** MEDICACIÓN (para ***** *****ón ***** ***** ***** completa de medicamentos a *****ón):  - Please STOP taking  / ***** favor ***** de ***** iron. basaglar insulin was not needed for your sugars in the hospital. If your sugars are running high >200s at home you can resume this.   - Please START taking / ***** favor ***** a ***** apixaban amlodipine flomax  - The following medications have CHANGES ***** ***** / Los ***** medicamentos tienen CAMBIOS ***** ***** ***** metoprolol lipitor     FOLLOW-UP INSTRUCTIONS / INSTRUCCIONES DE SEGUIMIENTO:  - After you leave the hospital you need to get the labs and imaging studies listed in the summary because / Después de salir ***** hospital debe ***** las pruebas y los estudios de radiología ***** en el ***** porque You will need follow up with a gastroenterologist to schedule endoscopy and colonoscopy to look for source of bleeding. You will need follow up with urology to reassess whether your foley catheter can be removed.     - Follow-up appointments with your outpatient providers are listed below. /  ***** citas de seguimiento con los proveedores ***** se ***** a *****ón.   You will need follow up with your primary care doctor   RETURN INSTRUCTIONS / INSTRUCCIONES PARA REGRESAR:  - Please contact a healthcare provider or return to the emergency room for bleeding light headedness dizziness fainting changes in \" strength/weakness shortness of breath. If you have any bleeding or black stool stop eliquis and seek medical help. / ***** favor *****í***** con un proveedor médico o regrese a la ***** de emergencias si *****: *****  - If you have questions please contact your primary care provider or hospital team (phone numbers above). / Si ***** ***** ***** *****í***** con su proveedor ***** o su equipo ***** hospital (a los números *****ó***** ***** *****)     It was a pleasure taking care of you.  / Fue un ***** *****.     Sincerely / *****     Dr. ***** ***** .***** - Attending physician / Médico supervisor    Patient and Family Advisory *****    Would you like to have the opportunity to improve the care experience of patients who are in the hospital? The UCSF Division of Hospital Medicine is actively recruiting members for a Patient and Family Advisory ***** (*****). The ***** is comprised of a group of patients and/or loved ones who meet monthly to discuss hospital initiatives and improvements. Please email *****.*****@*****.***** for further information or visit our website at *****://*****.*****/*****.  \"'),\n",
       "  Document(metadata={'deid_note_key': 'D345CFCA85F004', 'EncounterKey': 'D6253A5CE371EA', 'NoteDate': '2023-09-18', 'DepartmentSpecialty': 'Inpatient Nursing', 'ProviderSpecialty': 'UCSF', 'ProviderType': 'Resident', 'is_on_last_note_date': 0, 'key': 'D6253A5CE371EA', 'PtDischargeDate': '2023-09-21', 'discharge_text': None}, page_content='6.4   HGB 8.7***** 8.4*****   HCT 28.1***** 27.8*****   MCV 95 96   PLT ***** *****     Recent Labs     09/17/23  2035   INR 1.3*****   PTT 26.8       Microbiology:  Microbiology Results (last 72 \" hours)       Procedure Component Value Units Date/Time    MRSA Culture [*****] Collected: 09/18/23 0507    Order Status: Sent Specimen: Anterior Nares Swab Updated: 09/18/23 0820    COVID-19 RNA RT-PCR/Nucleic Acid Amplification Screening (Asymptomatic and No Specific COVID-19 Suspicion); No [*****] Collected: 09/18/23 0507    Order Status: Sent Specimen: Not Applicable from ***** ***** ***** +/- ***** Swab Updated: 09/18/23 0816    Helicobacter pylori IgG Antibody [*****] Collected: 09/17/23 2035    Order Status: Sent Specimen: Blood from ***** *****: 09/17/23 2313    Helicobacter pylori Antigen [*****]     Order Status: Sent Specimen: Stool     Helicobacter pylori Antigen [*****]     Order Status: Canceled Specimen: Stool             Radiology:   Radiology Results (last 72 hours)       Procedure Component Value Units Date/Time    XR Chest 1 View (AP Portable) [*****] Collected: 09/17/23 2110    Order Status: Completed Updated: 09/17/23 2116    Narrative:      XR CHEST 1 VIEW   09/17/2023 9:02 PM    HISTORY: confirm lines    COMPARISON: None.      Impression:      FINDINGS/IMPRESSION:    Pacemaker lead terminates at the right atrium and ventricle.    Bilateral patchy consolidations and small right pleural effusion concerning for infection or pulmonary edema. No pneumothorax. Borderline cardiomegaly.    Report dictated by: ***** ***** ***** MD signed by: ***** ***** ***** MD  Department of Radiology and Biomedical Imaging            Endoscopies:    Small bowel enteroscopy 03/14/2014  ESOPHAGUS - The mucosa had no ulcers or erosions strictures   masses or varices.   The diaphragmatic impression was located at 40 cm   The LES impression and Z-line were located at 40 cm       Procedures:  None     STOMACH - Minimal clear fluid was found in the stomach and easily   aspirated   The mucosa was abnormal with a 2 mm size distal gastric body AVM   and erosions in the gastric body and a small \" ulceration in the   antrum likely related to the previously taken biopsies no   polyps or masses seen       Procedures:  APC CAUTERY PROCEDURE:  The  APC probe was   passed and AVM was completely obliterated.     DUODENUM - The duodenum was abnormal with erosions at the   recently taken biopsy sites otherwise without ulcers AVMs   strictures or masses seen       Procedures:  None     JEJUNUM - The jejunum was abnormal with a small 2 mm size AVM   however this did not appear to be the same AVM identified on   capsule endoscopy the examination was done up to 40 cm beyond   pylorus further examination could not be possible secondary to   looping no strictures or masses seen       Procedures:  APC CAUTERY PROCEDURE:  The  APC probe was   passed and AVM was completely obliterated.       Complications:  None   Estimated blood loss: None     MEDICATIONS:  Demerol  100 mg and Versed  4.0 mg     BIOPSY SPECIMENS: None     IMPRESSION:    Normal esophagus   Erosions/ulceration at the site of recently taken biopsy in the   stomach   A small 2 mm distal gastric body nonbleeding AVM ablated with   APC   Erosions at the site of biopsies in the duodenum   Jejunum AVM 2 mm nonbleeding treated with APC   The AVM seen on can study was not able to be reached on capsule   endoscopy   Push enteroscopy possible up to 40 cm beyond pylorus       EGD and Colonoscopy 03/10/14:    FINDINGS:   ESOPHAGUS - The mucosa had no ulcers or erosions strictures   masses or varices.       Procedures:  None     STOMACH - Minimal clear fluid was found in the stomach and easily   aspirated   The mucosa was normal with no ulcers erosions AVM\\'s polyps or   masses seen   Mild antral erythema was seen   Notation was made of a shallow and narrow mouthed antral erythema   There was a punctate area of submucosal erythema seen in the   gastric body. This was palpated with a closed biopsy forceps. No')],\n",
       " 'answer': AIMessage(content='```\\n{\\n  \"Mild_to_moderate_esophagitis\": false,\\n  \"GERD\": false,\\n  \"Peptic_Ulcer_Disease\": false,\\n  \"Upper_GI_symptoms\": false,\\n  \"ICU_Stress_Ulcer_Prophylaxis\": false,\\n  \"Barretts_Esophagus\": false,\\n  \"Chronic_NSAID_use_with_bleeding_risk\": false,\\n  \"Severe_esophagitis\": false,\\n  \"Documented_history_of_bleeding_GI_ulcer\": true,\\n  \"H_pylori_infection\": true,\\n  \"Reasoning\": \"The patient has a history of gastrointestinal bleeding and has been diagnosed with H. pylori infection. The patient\\'s recent labs show a low hemoglobin level, indicating anemia. The patient\\'s endoscopy results show mild antral erythema and a punctate area of submucosal erythema in the gastric body. The patient\\'s medical history and current symptoms suggest a high risk for gastrointestinal bleeding.\"\\n}\\n```', response_metadata={'token_usage': {'completion_tokens': 220, 'prompt_tokens': 3677, 'total_tokens': 3897, 'completion_time': 0.895978307, 'prompt_time': 0.961791377, 'queue_time': 0.005710650000000039, 'total_time': 1.857769684}, 'model_name': 'llama-3.1-70b-versatile', 'system_fingerprint': 'fp_b3ae7e594e', 'finish_reason': 'stop', 'logprobs': None}, id='run-96bea565-9385-4a48-9785-378d7bb03b74-0', usage_metadata={'input_tokens': 3677, 'output_tokens': 220, 'total_tokens': 3897})}"
      ]
     },
     "execution_count": 12,
     "metadata": {},
     "output_type": "execute_result"
    }
   ],
   "source": [
    "notes_json"
   ]
  },
  {
   "cell_type": "code",
   "execution_count": null,
   "metadata": {},
   "outputs": [],
   "source": [
    "def replace_underscores_in_keys(json_obj):\n",
    "    if isinstance(json_obj, dict):\n",
    "        new_obj = {}\n",
    "        for key, value in json_obj.items():\n",
    "            new_key = key.replace(\"_\", \" \")\n",
    "            new_obj[new_key] = replace_underscores_in_keys(value)\n",
    "        return new_obj\n",
    "    elif isinstance(json_obj, list):\n",
    "        return [replace_underscores_in_keys(item) for item in json_obj]\n",
    "    else:\n",
    "        return json_obj"
   ]
  },
  {
   "cell_type": "code",
   "execution_count": null,
   "metadata": {},
   "outputs": [],
   "source": [
    "notes_json = replace_underscores_in_keys(notes_json)\n",
    "notes_json"
   ]
  },
  {
   "cell_type": "code",
   "execution_count": null,
   "metadata": {},
   "outputs": [],
   "source": [
    "import re\n",
    "\n",
    "\n",
    "def extract_json_content(response):\n",
    "    # Extract content between the curly braces\n",
    "    match = re.search(r\"\\{(.*)\\}\", response, re.DOTALL)\n",
    "    if match:\n",
    "        return match.group(1).strip()\n",
    "    else:\n",
    "        raise ValueError(\"No JSON content found between curly braces.\")\n",
    "\n",
    "\n",
    "def convert_to_json(response):\n",
    "    # Remove comments from the string\n",
    "    cleaned_response = re.sub(r\"//.*\", \"\", response)\n",
    "    # Add curly braces to form a valid JSON object\n",
    "    json_string = \"{\" + cleaned_response.strip() + \"}\"\n",
    "    # Parse the JSON string into a dictionary\n",
    "    response_dict = json.loads(json_string)\n",
    "    return response_dict\n"
   ]
  },
  {
   "cell_type": "code",
   "execution_count": null,
   "metadata": {},
   "outputs": [],
   "source": [
    "notes_json_parsed = extract_json_content(notes_json)\n",
    "final_json = convert_to_json(notes_json_parsed)"
   ]
  },
  {
   "cell_type": "code",
   "execution_count": null,
   "metadata": {},
   "outputs": [],
   "source": [
    "system = (\n",
    "    \"You are a knowledgeable medical provider who specializes in medication management.\"\n",
    ")\n",
    "human = \"{text}\"\n",
    "prompt = ChatPromptTemplate.from_messages([(\"system\", system), (\"human\", human)])\n",
    "\n",
    "chain = prompt | llm_agent.llm\n",
    "response = chain.invoke(\n",
    "    {\n",
    "        \"text\": f\"\"\"Based on the following json files, please provide a single explanation of the reasoning given by the 'Reasoning' key. Summarize given equal \n",
    "        weight to each. Do not add any additional information, only summarize what is given.\n",
    "        {diagnosis_json}\n",
    "        {encounter_json}\n",
    "        {notes_json}\"\"\"\n",
    "    }\n",
    ")"
   ]
  },
  {
   "cell_type": "code",
   "execution_count": null,
   "metadata": {},
   "outputs": [],
   "source": [
    "response.pretty_print()"
   ]
  },
  {
   "cell_type": "code",
   "execution_count": null,
   "metadata": {},
   "outputs": [],
   "source": [
    "response.content"
   ]
  },
  {
   "cell_type": "code",
   "execution_count": null,
   "metadata": {},
   "outputs": [],
   "source": [
    "from typing import List\n",
    "from langchain.output_parsers import PydanticOutputParser\n",
    "from langchain_core.prompts import PromptTemplate\n",
    "from langchain_core.pydantic_v1 import BaseModel, Field, validator\n",
    "\n",
    "\n",
    "class NoteResponse(BaseModel):\n",
    "    Mild_to_moderate_esoophagitis: bool = Field(\n",
    "        description=\"Mild to moderate esoophagitis\"\n",
    "    )\n",
    "    GERD: bool = Field(description=\"GERD\")\n",
    "    Peptic_Ulcer_Disease: bool = Field(description=\"Peptic Ulcer Disease\")\n",
    "    Upper_GI_symptoms: bool = Field(description=\"Upper GI symptoms\")\n",
    "    ICU_Stress_Ulcer_Prophylaxis: bool = Field(\n",
    "        description=\"ICU Stress Ulcer Prophylaxis\"\n",
    "    )\n",
    "    Barretts_Esophagus: bool = Field(description=\"Barrett's Esophagus\")\n",
    "    Chronic_NSAID_use_with_bleeding_risk: bool = Field(\n",
    "        description=\"Chronic NSAID use with bleeding risk\"\n",
    "    )\n",
    "    Severe_esophagitis: bool = Field(description=\"Severe esophagitis\")\n",
    "    Documented_history_of_bleeding_GI_ulcer: bool = Field(\n",
    "        description=\"Documented history of bleeding GI ulcer\"\n",
    "    )\n",
    "    Reasoning: str = Field(description=\"Explain the reasoning for your answer\")"
   ]
  },
  {
   "cell_type": "code",
   "execution_count": 17,
   "metadata": {},
   "outputs": [
    {
     "data": {
      "text/plain": [
       "'{\\n  \"title\": \"NoteResponse\",\\n  \"type\": \"object\",\\n  \"properties\": {\\n    \"Mild_to_moderate_esoophagitis\": {\\n      \"title\": \"Mild To Moderate Esoophagitis\",\\n      \"description\": \"Mild to moderate esoophagitis\",\\n      \"type\": \"boolean\"\\n    },\\n    \"GERD\": {\\n      \"title\": \"Gerd\",\\n      \"description\": \"GERD\",\\n      \"type\": \"boolean\"\\n    },\\n    \"Peptic_Ulcer_Disease\": {\\n      \"title\": \"Peptic Ulcer Disease\",\\n      \"description\": \"Peptic Ulcer Disease\",\\n      \"type\": \"boolean\"\\n    },\\n    \"Upper_GI_symptoms\": {\\n      \"title\": \"Upper Gi Symptoms\",\\n      \"description\": \"Upper GI symptoms\",\\n      \"type\": \"boolean\"\\n    },\\n    \"ICU_Stress_Ulcer_Prophylaxis\": {\\n      \"title\": \"Icu Stress Ulcer Prophylaxis\",\\n      \"description\": \"ICU Stress Ulcer Prophylaxis\",\\n      \"type\": \"boolean\"\\n    },\\n    \"Barretts_Esophagus\": {\\n      \"title\": \"Barretts Esophagus\",\\n      \"description\": \"Barrett\\'s Esophagus\",\\n      \"type\": \"boolean\"\\n    },\\n    \"Chronic_NSAID_use_with_bleeding_risk\": {\\n      \"title\": \"Chronic Nsaid Use With Bleeding Risk\",\\n      \"description\": \"Chronic NSAID use with bleeding risk\",\\n      \"type\": \"boolean\"\\n    },\\n    \"Severe_esophagitis\": {\\n      \"title\": \"Severe Esophagitis\",\\n      \"description\": \"Severe esophagitis\",\\n      \"type\": \"boolean\"\\n    },\\n    \"Documented_history_of_bleeding_GI_ulcer\": {\\n      \"title\": \"Documented History Of Bleeding Gi Ulcer\",\\n      \"description\": \"Documented history of bleeding GI ulcer\",\\n      \"type\": \"boolean\"\\n    },\\n    \"Reasoning\": {\\n      \"title\": \"Reasoning\",\\n      \"description\": \"Explain the reasoning for your answer\",\\n      \"type\": \"string\"\\n    }\\n  },\\n  \"required\": [\\n    \"Mild_to_moderate_esoophagitis\",\\n    \"GERD\",\\n    \"Peptic_Ulcer_Disease\",\\n    \"Upper_GI_symptoms\",\\n    \"ICU_Stress_Ulcer_Prophylaxis\",\\n    \"Barretts_Esophagus\",\\n    \"Chronic_NSAID_use_with_bleeding_risk\",\\n    \"Severe_esophagitis\",\\n    \"Documented_history_of_bleeding_GI_ulcer\",\\n    \"Reasoning\"\\n  ]\\n}'"
      ]
     },
     "execution_count": 17,
     "metadata": {},
     "output_type": "execute_result"
    }
   ],
   "source": []
  },
  {
   "cell_type": "code",
   "execution_count": null,
   "metadata": {},
   "outputs": [],
   "source": [
    "final_dict = {}\n",
    "for key in diagnosis_json.keys():\n",
    "    # print(key)\n",
    "    if not key == \"Reasoning\":\n",
    "        diagnosis_bool = diagnosis_json[key]\n",
    "        encounter_bool = encounter_json[key]\n",
    "        notes_bool = notes_json[key]\n",
    "\n",
    "        final_dict[key] = diagnosis_bool or encounter_bool or notes_bool\n",
    "\n",
    "final_dict"
   ]
  },
  {
   "cell_type": "code",
   "execution_count": null,
   "metadata": {},
   "outputs": [],
   "source": []
  },
  {
   "cell_type": "code",
   "execution_count": 9,
   "metadata": {},
   "outputs": [],
   "source": [
    "# DL = DataLoader(data_path=base_path)"
   ]
  },
  {
   "cell_type": "code",
   "execution_count": 10,
   "metadata": {},
   "outputs": [],
   "source": [
    "# DL.get_label(encounter_key=encounter_key)"
   ]
  },
  {
   "cell_type": "code",
   "execution_count": 11,
   "metadata": {},
   "outputs": [],
   "source": [
    "# DL.get_diagnosis_data(encounter_key=encounter_key)"
   ]
  },
  {
   "cell_type": "code",
   "execution_count": 12,
   "metadata": {},
   "outputs": [],
   "source": [
    "# DL.get_encounter_data(encounter_key=encounter_key)"
   ]
  },
  {
   "cell_type": "code",
   "execution_count": null,
   "metadata": {},
   "outputs": [],
   "source": []
  },
  {
   "cell_type": "code",
   "execution_count": null,
   "metadata": {},
   "outputs": [],
   "source": []
  },
  {
   "cell_type": "code",
   "execution_count": null,
   "metadata": {},
   "outputs": [],
   "source": []
  }
 ],
 "metadata": {
  "kernelspec": {
   "display_name": ".venv",
   "language": "python",
   "name": "python3"
  },
  "language_info": {
   "codemirror_mode": {
    "name": "ipython",
    "version": 3
   },
   "file_extension": ".py",
   "mimetype": "text/x-python",
   "name": "python",
   "nbconvert_exporter": "python",
   "pygments_lexer": "ipython3",
   "version": "3.10.10"
  }
 },
 "nbformat": 4,
 "nbformat_minor": 2
}
