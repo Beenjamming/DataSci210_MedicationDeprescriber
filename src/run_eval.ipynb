{
 "cells": [
  {
   "cell_type": "code",
   "execution_count": 11,
   "metadata": {},
   "outputs": [],
   "source": [
    "import pandas as pd\n",
    "import numpy as np\n",
    "from langchain_core.prompts import ChatPromptTemplate\n",
    "from langchain_groq import ChatGroq\n",
    "import os\n",
    "import json\n",
    "from pathlib import Path\n",
    "import pprint\n",
    "import time"
   ]
  },
  {
   "cell_type": "code",
   "execution_count": 12,
   "metadata": {},
   "outputs": [],
   "source": [
    "from dotenv import load_dotenv\n",
    "load_dotenv()\n",
    "\n",
    "groq_key = os.getenv(\"groq_key_paid\")\n",
    "\n",
    "data_path = os.getenv(\"data_path\")\n",
    "data_path = Path(data_path)"
   ]
  },
  {
   "cell_type": "code",
   "execution_count": 13,
   "metadata": {},
   "outputs": [],
   "source": [
    "from main import main\n",
    "from query import DataLoader"
   ]
  },
  {
   "cell_type": "code",
   "execution_count": 14,
   "metadata": {},
   "outputs": [],
   "source": [
    "data_loader = DataLoader(data_path)"
   ]
  },
  {
   "cell_type": "code",
   "execution_count": 15,
   "metadata": {},
   "outputs": [],
   "source": [
    "llm_name = \"llama-3.1-70b-versatile\" # \"llama-3.3-70b-versatile\" # \"llama-3.1-70b-versatile\"\n",
    "\n",
    "context_column = \"llm_summary\""
   ]
  },
  {
   "cell_type": "code",
   "execution_count": 16,
   "metadata": {},
   "outputs": [
    {
     "data": {
      "text/plain": [
       "'exp1_llm-llama-3.1-70b-versatile_context-llm_summary'"
      ]
     },
     "execution_count": 16,
     "metadata": {},
     "output_type": "execute_result"
    }
   ],
   "source": [
    "experiment_name = f\"exp1_llm-{llm_name}_context-{context_column}\"\n",
    "experiment_name"
   ]
  },
  {
   "cell_type": "code",
   "execution_count": 17,
   "metadata": {},
   "outputs": [],
   "source": [
    "def load_or_create_csv(experiment_name, df):\n",
    "    try:\n",
    "        # Attempt to read the CSV file\n",
    "        curr_experiment = pd.read_csv(data_path / \"Experiments\" / f\"{experiment_name}.csv\")\n",
    "        return curr_experiment\n",
    "    except FileNotFoundError:\n",
    "        # If the file does not exist, create it from the incoming DataFrame\n",
    "        df.to_csv(data_path / \"Experiments\" / f\"{experiment_name}.csv\", index=False)\n",
    "        return df"
   ]
  },
  {
   "cell_type": "code",
   "execution_count": 18,
   "metadata": {},
   "outputs": [],
   "source": [
    "labeled_df = data_loader.get_label_df()"
   ]
  },
  {
   "cell_type": "code",
   "execution_count": 19,
   "metadata": {},
   "outputs": [],
   "source": [
    "labeled_df = load_or_create_csv(experiment_name, labeled_df)"
   ]
  },
  {
   "cell_type": "code",
   "execution_count": 20,
   "metadata": {},
   "outputs": [
    {
     "name": "stdout",
     "output_type": "stream",
     "text": [
      "label_index: 0  key: D6253A5CE371EA\n",
      "continue\n",
      "label_index: 1  key: DFAFED1811B871\n",
      "continue\n",
      "label_index: 2  key: D4865B8BBB294E\n",
      "deprescribe\n",
      "label_index: 3  key: D00F3A8D5F43B2\n",
      "deprescribe\n",
      "label_index: 4  key: DA15CCF42ACF8B\n",
      "continue\n",
      "label_index: 5  key: DFB07E6B8F0957\n",
      "deprescribe\n",
      "label_index: 6  key: D1BD3665C06499\n",
      "deprescribe\n",
      "label_index: 7  key: D068E26FFF9F43\n",
      "deprescribe\n",
      "label_index: 8  key: D0E44FD0BBD96F\n",
      "deprescribe\n",
      "label_index: 9  key: D17AFAD1D7BB68\n",
      "deprescribe\n",
      "label_index: 10  key: DAA6DE9D2EC973\n",
      "stop\n",
      "label_index: 11  key: D5A7045ED60A2E\n",
      "deprescribe\n",
      "label_index: 12  key: D4BAEF91CA7588\n",
      "deprescribe\n",
      "label_index: 13  key: DACBDED2F35C67\n",
      "deprescribe\n",
      "label_index: 14  key: DA44DBBF3CCE49\n",
      "deprescribe\n",
      "label_index: 15  key: DAABF28BCE02C7\n",
      "continue\n",
      "label_index: 16  key: DB1D9E08BBEC87\n",
      "continue\n",
      "label_index: 17  key: D6F69E18CCF3AE\n",
      "deprescribe\n",
      "label_index: 18  key: D35D002F7350C0\n",
      "deprescribe\n",
      "label_index: 19  key: DF655634638393\n",
      "deprescribe\n",
      "label_index: 20  key: D8204A1E91DE84\n",
      "deprescribe\n",
      "label_index: 21  key: DD952F0D84745E\n",
      "continue\n",
      "label_index: 22  key: D68D537D96A1B6\n",
      "deprescribe\n",
      "label_index: 23  key: DBAA0A10220A8D\n",
      "deprescribe\n",
      "label_index: 24  key: D267D1234A0576\n",
      "deprescribe\n",
      "label_index: 25  key: DC2661C3B5DC2A\n",
      "deprescribe\n",
      "label_index: 26  key: D57176E8D660E4\n",
      "deprescribe\n",
      "label_index: 27  key: D188F3E1578728\n",
      "deprescribe\n",
      "label_index: 28  key: D6C6E04C56E5D7\n",
      "deprescribe\n",
      "label_index: 29  key: DF66490AD8A6B6\n",
      "deprescribe\n",
      "label_index: 30  key: D02DC627A3743A\n",
      "deprescribe\n",
      "label_index: 31  key: D01FCB9EFFD6D5\n",
      "deprescribe\n",
      "label_index: 32  key: D03868A75BBE62\n",
      "stop\n",
      "label_index: 33  key: D038C6CE0A2867\n",
      "deprescribe\n",
      "label_index: 34  key: D03999FEAA1FCD\n",
      "deprescribe\n",
      "label_index: 35  key: D67731C3136779\n",
      "deprescribe\n",
      "label_index: 36  key: D5A533360225FF\n",
      "deprescribe\n",
      "label_index: 37  key: SyntheticPt1\n",
      "stop\n",
      "label_index: 38  key: SyntheticPt2\n",
      "continue\n",
      "label_index: 39  key: SyntheticPt3\n",
      "stop\n",
      "label_index: 40  key: SyntheticPt4\n",
      "deprescribe\n",
      "label_index: 41  key: SyntheticPt5\n",
      "deprescribe\n",
      "label_index: 42  key: SyntheticPt6\n",
      "deprescribe\n"
     ]
    }
   ],
   "source": [
    "# Check if 'token_usage' column exists, if not create it\n",
    "if 'token_usage' not in labeled_df.columns:\n",
    "    labeled_df['token_usage'] = 0  # Initialize with zeros or any default value\n",
    "\n",
    "\n",
    "for index, row in labeled_df.iterrows():\n",
    "    if row[\"token_usage\"] > 0:\n",
    "        print('skip:',index)\n",
    "        continue\n",
    "    else:\n",
    "        encounter_key = row[\"key\"]\n",
    "        print(\"label_index:\",index,\" key:\",encounter_key)\n",
    "        (\n",
    "            ret_recommendation,\n",
    "            ret_reasoning,\n",
    "            token_usage,\n",
    "            search_history_so_far,\n",
    "            token_count_history,\n",
    "        ) = main(\n",
    "            groq_key=groq_key, \n",
    "            data_path=data_path, \n",
    "            encounter_key=encounter_key,\n",
    "            llm_name=llm_name,\n",
    "            context_column=context_column,\n",
    "        )\n",
    "        \n",
    "        print(ret_recommendation)\n",
    "        labeled_df.at[index, 'ret_recommendation'] = ret_recommendation\n",
    "        labeled_df.at[index, 'ret_reasoning'] = ret_reasoning\n",
    "        labeled_df.at[index, 'token_usage'] = token_usage\n",
    "        labeled_df.at[index, 'search_history_so_far'] = str(search_history_so_far)\n",
    "        labeled_df.at[index, 'token_count_history'] = str(token_count_history)\n",
    "        \n",
    "        labeled_df.to_csv(data_path / \"Experiments\" / f'{experiment_name}.csv', index=False)\n",
    "        \n",
    "        # # # # # # # # # # # # #\n",
    "        time.sleep(60) # s\n",
    "        # # # # # # # # # # # # #"
   ]
  },
  {
   "cell_type": "code",
   "execution_count": null,
   "metadata": {},
   "outputs": [],
   "source": [
    "labeled_df"
   ]
  },
  {
   "cell_type": "code",
   "execution_count": 23,
   "metadata": {},
   "outputs": [
    {
     "data": {
      "text/plain": [
       "'Based on the provided context, I will determine if there is evidence of the specific conditions to help decide whether to continue, reduce, or stop the PPI.\\n\\nHere is the output in the required JSON format:\\n\\n```\\n{\\n  \"diagnosis_boolean\": \"1\",\\n  \"explanation\": \"There is evidence of a history of gastrointestinal bleeding, as the patient experienced a lower GI bleed following a colonoscopy with polyp removal. Although the note does not definitively confirm severe esophagitis, bleeding esophagitis, or peptic ulcer disease, it mentions a GI bleed related to polyp removal, which suggests a history of gastrointestinal bleeding.\"\\n}\\n```\\n\\nHowever, to fully address the question, I must consider each condition individually:\\n\\n1. **Barretts Esophagus or esophageal cell changes**: There is no definitive evidence of Barretts Esophagus, but the upper endoscopy report mentions \"mild esophageal changes\" and \"scattered 2-4 mm globules of white exudate,\" which may indicate some esophageal inflammation or changes.\\n\\n2. **Chronic Non-Steroidal Anti-Inflammatory (NSAID) use or GI prophylaxis NSAID use**: There is no mention of NSAID use in the provided context.\\n\\n3. **Severe esophagitis including bleeding esophagitis or esophageal ulcer**: The note does not definitively diagnose severe esophagitis, bleeding esophagitis, or esophageal ulcer.\\n\\n4. **History of gastrointestinal bleeding, gastric ulcer, upper GI bleed, or peptic ulcer hemorrhage**: There is evidence of a lower GI bleed following a colonoscopy with polyp removal, which suggests a history of gastrointestinal bleeding.\\n\\nGiven the information, the most relevant condition to the decision of continuing, reducing, or stopping the PPI is the history of gastrointestinal bleeding. The presence of mild esophageal changes and potential reflux symptoms also supports the use of a PPI but is not as directly relevant to the conditions listed in the question. \\n\\nTherefore, focusing on the condition with the most direct evidence:\\n\\n```\\n{\\n  \"diagnosis_boolean\": \"1\",\\n  \"explanation\": \"There is evidence of a history of gastrointestinal bleeding due to a lower GI bleed following a colonoscopy with polyp removal.\"\\n}\\n'"
      ]
     },
     "execution_count": 23,
     "metadata": {},
     "output_type": "execute_result"
    }
   ],
   "source": [
    "text = str(\"\"\"Based on the provided context, I will determine if there is evidence of the specific conditions to help decide whether to continue, reduce, or stop the PPI.\\n\\nHere is the output in the required JSON format:\\n\\n```\\n{\\n  \"diagnosis_boolean\": \"1\",\\n  \"explanation\": \"There is evidence of a history of gastrointestinal bleeding, as the patient experienced a lower GI bleed following a colonoscopy with polyp removal. Although the note does not definitively confirm severe esophagitis, bleeding esophagitis, or peptic ulcer disease, it mentions a GI bleed related to polyp removal, which suggests a history of gastrointestinal bleeding.\"\\n}\\n```\\n\\nHowever, to fully address the question, I must consider each condition individually:\\n\\n1. **Barretts Esophagus or esophageal cell changes**: There is no definitive evidence of Barretts Esophagus, but the upper endoscopy report mentions \"mild esophageal changes\" and \"scattered 2-4 mm globules of white exudate,\" which may indicate some esophageal inflammation or changes.\\n\\n2. **Chronic Non-Steroidal Anti-Inflammatory (NSAID) use or GI prophylaxis NSAID use**: There is no mention of NSAID use in the provided context.\\n\\n3. **Severe esophagitis including bleeding esophagitis or esophageal ulcer**: The note does not definitively diagnose severe esophagitis, bleeding esophagitis, or esophageal ulcer.\\n\\n4. **History of gastrointestinal bleeding, gastric ulcer, upper GI bleed, or peptic ulcer hemorrhage**: There is evidence of a lower GI bleed following a colonoscopy with polyp removal, which suggests a history of gastrointestinal bleeding.\\n\\nGiven the information, the most relevant condition to the decision of continuing, reducing, or stopping the PPI is the history of gastrointestinal bleeding. The presence of mild esophageal changes and potential reflux symptoms also supports the use of a PPI but is not as directly relevant to the conditions listed in the question. \\n\\nTherefore, focusing on the condition with the most direct evidence:\\n\\n```\\n{\\n  \"diagnosis_boolean\": \"1\",\\n  \"explanation\": \"There is evidence of a history of gastrointestinal bleeding due to a lower GI bleed following a colonoscopy with polyp removal.\"\\n}\\n\"\"\")\n",
    "text"
   ]
  },
  {
   "cell_type": "code",
   "execution_count": 24,
   "metadata": {},
   "outputs": [],
   "source": [
    "# A simpler regex to match JSON-like structures\n",
    "json_pattern = r'\\{[\\s\\S]*?\\}'\n",
    "\n",
    "# Find all matches in the text\n",
    "matches = re.findall(json_pattern, text, re.DOTALL)"
   ]
  },
  {
   "cell_type": "code",
   "execution_count": 25,
   "metadata": {},
   "outputs": [
    {
     "name": "stdout",
     "output_type": "stream",
     "text": [
      "{\n",
      "  \"diagnosis_boolean\": \"1\",\n",
      "  \"explanation\": \"There is evidence of a history of gastrointestinal bleeding, as the patient experienced a lower GI bleed following a colonoscopy with polyp removal. Although the note does not definitively confirm severe esophagitis, bleeding esophagitis, or peptic ulcer disease, it mentions a GI bleed related to polyp removal, which suggests a history of gastrointestinal bleeding.\"\n",
      "}\n",
      "{\n",
      "  \"diagnosis_boolean\": \"1\",\n",
      "  \"explanation\": \"There is evidence of a history of gastrointestinal bleeding due to a lower GI bleed following a colonoscopy with polyp removal.\"\n",
      "}\n"
     ]
    }
   ],
   "source": [
    "for match in matches:\n",
    "    print(match)"
   ]
  },
  {
   "cell_type": "code",
   "execution_count": 26,
   "metadata": {},
   "outputs": [
    {
     "name": "stdout",
     "output_type": "stream",
     "text": [
      "{\n",
      "  \"diagnosis_boolean\": \"1\",\n",
      "  \"explanation\": \"There is evidence of a history of gastrointestinal bleeding due to a lower GI bleed following a colonoscopy with polyp removal.\"\n",
      "}\n"
     ]
    }
   ],
   "source": [
    "print(matches[-1])"
   ]
  },
  {
   "cell_type": "code",
   "execution_count": 17,
   "metadata": {},
   "outputs": [
    {
     "data": {
      "text/plain": [
       "<re.Match object; span=(211, 2163), match='{\\n  \"diagnosis_boolean\": \"1\",\\n  \"explanation\": >"
      ]
     },
     "execution_count": 17,
     "metadata": {},
     "output_type": "execute_result"
    }
   ],
   "source": [
    "import re\n",
    "match = re.search(json_pattern, text, re.DOTALL)\n",
    "match"
   ]
  },
  {
   "cell_type": "code",
   "execution_count": 20,
   "metadata": {},
   "outputs": [
    {
     "data": {
      "text/plain": [
       "'{\\n  \"diagnosis_boolean\": \"1\",\\n  \"explanation\": \"There is evidence of a history of gastrointestinal bleeding, as the patient experienced a lower GI bleed following a colonoscopy with polyp removal. Although the note does not definitively confirm severe esophagitis, bleeding esophagitis, or peptic ulcer disease, it mentions a GI bleed related to polyp removal, which suggests a history of gastrointestinal bleeding.\"\\n}\\n```\\n\\nHowever, to fully address the question, I must consider each condition individually:\\n\\n1. **Barretts Esophagus or esophageal cell changes**: There is no definitive evidence of Barretts Esophagus, but the upper endoscopy report mentions \"mild esophageal changes\" and \"scattered 2-4 mm globules of white exudate,\" which may indicate some esophageal inflammation or changes.\\n\\n2. **Chronic Non-Steroidal Anti-Inflammatory (NSAID) use or GI prophylaxis NSAID use**: There is no mention of NSAID use in the provided context.\\n\\n3. **Severe esophagitis including bleeding esophagitis or esophageal ulcer**: The note does not definitively diagnose severe esophagitis, bleeding esophagitis, or esophageal ulcer.\\n\\n4. **History of gastrointestinal bleeding, gastric ulcer, upper GI bleed, or peptic ulcer hemorrhage**: There is evidence of a lower GI bleed following a colonoscopy with polyp removal, which suggests a history of gastrointestinal bleeding.\\n\\nGiven the information, the most relevant condition to the decision of continuing, reducing, or stopping the PPI is the history of gastrointestinal bleeding. The presence of mild esophageal changes and potential reflux symptoms also supports the use of a PPI but is not as directly relevant to the conditions listed in the question. \\n\\nTherefore, focusing on the condition with the most direct evidence:\\n\\n```\\n{\\n  \"diagnosis_boolean\": \"1\",\\n  \"explanation\": \"There is evidence of a history of gastrointestinal bleeding due to a lower GI bleed following a colonoscopy with polyp removal.\"\\n}'"
      ]
     },
     "execution_count": 20,
     "metadata": {},
     "output_type": "execute_result"
    }
   ],
   "source": [
    "match.group()"
   ]
  },
  {
   "cell_type": "code",
   "execution_count": null,
   "metadata": {},
   "outputs": [],
   "source": []
  },
  {
   "cell_type": "code",
   "execution_count": null,
   "metadata": {},
   "outputs": [],
   "source": [
    "encounter_key = \"SyntheticPt5\""
   ]
  },
  {
   "cell_type": "code",
   "execution_count": null,
   "metadata": {},
   "outputs": [],
   "source": [
    "(\n",
    "    final_recommendation,\n",
    "    final_explanation,\n",
    "    token_usage,\n",
    "    search_history_thus_far_list,\n",
    "    token_count_history,\n",
    ") = main(groq_key=groq_key, data_path=data_path, encounter_key=encounter_key)"
   ]
  },
  {
   "cell_type": "code",
   "execution_count": null,
   "metadata": {},
   "outputs": [],
   "source": [
    "final_recommendation"
   ]
  },
  {
   "cell_type": "code",
   "execution_count": null,
   "metadata": {},
   "outputs": [],
   "source": [
    "pprint.pprint(final_explanation)"
   ]
  },
  {
   "cell_type": "code",
   "execution_count": null,
   "metadata": {},
   "outputs": [],
   "source": [
    "token_usage"
   ]
  },
  {
   "cell_type": "code",
   "execution_count": null,
   "metadata": {},
   "outputs": [],
   "source": [
    "pprint.pprint(search_history_thus_far_list)"
   ]
  },
  {
   "cell_type": "code",
   "execution_count": null,
   "metadata": {},
   "outputs": [],
   "source": [
    "pprint.pprint(token_count_history)"
   ]
  },
  {
   "cell_type": "code",
   "execution_count": null,
   "metadata": {},
   "outputs": [],
   "source": []
  },
  {
   "cell_type": "code",
   "execution_count": null,
   "metadata": {},
   "outputs": [],
   "source": []
  },
  {
   "cell_type": "code",
   "execution_count": null,
   "metadata": {},
   "outputs": [],
   "source": []
  }
 ],
 "metadata": {
  "kernelspec": {
   "display_name": "capstone",
   "language": "python",
   "name": "python3"
  },
  "language_info": {
   "codemirror_mode": {
    "name": "ipython",
    "version": 3
   },
   "file_extension": ".py",
   "mimetype": "text/x-python",
   "name": "python",
   "nbconvert_exporter": "python",
   "pygments_lexer": "ipython3",
   "version": "3.12.5"
  }
 },
 "nbformat": 4,
 "nbformat_minor": 2
}
