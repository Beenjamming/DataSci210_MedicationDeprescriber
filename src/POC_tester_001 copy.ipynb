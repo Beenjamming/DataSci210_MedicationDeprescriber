{
 "cells": [
  {
   "cell_type": "code",
   "execution_count": 1,
   "metadata": {},
   "outputs": [],
   "source": [
    "import pandas as pd\n",
    "import numpy as np\n",
    "from langchain_core.prompts import ChatPromptTemplate\n",
    "from langchain_groq import ChatGroq\n",
    "import os\n",
    "import json\n",
    "from pathlib import Path\n",
    "\n",
    "# define groq key\n",
    "# groq_key = (\n",
    "#      os.environ['groqkey']\n",
    "# )"
   ]
  },
  {
   "cell_type": "code",
   "execution_count": 2,
   "metadata": {},
   "outputs": [],
   "source": [
    "groq_key = \"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\""
   ]
  },
  {
   "cell_type": "code",
   "execution_count": 3,
   "metadata": {},
   "outputs": [
    {
     "name": "stderr",
     "output_type": "stream",
     "text": [
      "c:\\Users\\grays\\anaconda3\\envs\\capstone\\Lib\\site-packages\\pydantic\\_internal\\_fields.py:161: UserWarning: Field \"model_name\" has conflict with protected namespace \"model_\".\n",
      "\n",
      "You may be able to resolve this warning by setting `model_config['protected_namespaces'] = ()`.\n",
      "  warnings.warn(\n",
      "c:\\Users\\grays\\OneDrive\\Documents\\GitHub\\DataSci210_MedicationDeprescriber\\src\\extraction.py:16: LangChainDeprecationWarning: The class `HuggingFaceEmbeddings` was deprecated in LangChain 0.2.2 and will be removed in 1.0. An updated version of the class exists in the :class:`~langchain-huggingface package and should be used instead. To use it run `pip install -U :class:`~langchain-huggingface` and import as `from :class:`~langchain_huggingface import HuggingFaceEmbeddings``.\n",
      "  embeddings = HuggingFaceEmbeddings(model_name=\"NeuML/pubmedbert-base-embeddings\")\n",
      "c:\\Users\\grays\\anaconda3\\envs\\capstone\\Lib\\site-packages\\sentence_transformers\\cross_encoder\\CrossEncoder.py:13: TqdmExperimentalWarning: Using `tqdm.autonotebook.tqdm` in notebook mode. Use `tqdm.tqdm` instead to force console mode (e.g. in jupyter console)\n",
      "  from tqdm.autonotebook import tqdm, trange\n"
     ]
    }
   ],
   "source": [
    "from extraction import llmAgent\n",
    "from query import DataLoader\n",
    "from main import main"
   ]
  },
  {
   "cell_type": "code",
   "execution_count": 4,
   "metadata": {},
   "outputs": [],
   "source": [
    "data_path = Path(\n",
    "    r\"C:\\Users\\grays\\OneDrive\\Documents\\GitHub\\DataSci210_MedicationDeprescriber\\Data\"\n",
    ")\n",
    "# data_path = Path(\n",
    "#     r\"F:\\LangChain\\data\"\n",
    "# )"
   ]
  },
  {
   "cell_type": "code",
   "execution_count": 5,
   "metadata": {},
   "outputs": [],
   "source": [
    "encounter_key=\"D6253A5CE371EA\""
   ]
  },
  {
   "cell_type": "code",
   "execution_count": 6,
   "metadata": {},
   "outputs": [],
   "source": [
    "#main(groq_key=groq_key, data_path=data_path,key=encounter_key)"
   ]
  },
  {
   "cell_type": "code",
   "execution_count": 7,
   "metadata": {},
   "outputs": [],
   "source": [
    "llm_agent = llmAgent(groq_key=groq_key, data_path=data_path)"
   ]
  },
  {
   "cell_type": "code",
   "execution_count": 8,
   "metadata": {},
   "outputs": [
    {
     "data": {
      "text/plain": [
       "AIMessage(content='Based on the provided JSON information, here is the response in the requested format:\\n\\n```\\n{\\n  \"Mild to moderate esophagitis\": false,\\n  \"GERD\": false,\\n  \"Peptic Ulcer Disease\": false,\\n  \"Upper GI symptoms\": true,\\n  \"ICU Stress Ulcer Prophylaxis\": false,\\n  \"Barretts Esophagus\": false,\\n  \"Chronic NSAID use with bleeding risk\": false,\\n  \"Severe esophagitis\": false,\\n  \"Documented history of bleeding GI ulcer\": true,\\n  \"H pylori infection\": false,\\n  \"Reasoning\": \"The patient has a diagnosis of gastrointestinal bleeding (GIB), which suggests that they are experiencing upper GI symptoms and have a documented history of bleeding GI ulcer. However, there is no specific information provided about the other conditions listed.\"\\n}\\n```\\n\\nThe reasoning behind this response is that the diagnosis of gastrointestinal bleeding (GIB) implies that the patient is experiencing upper GI symptoms and has a documented history of bleeding GI ulcer. However, the provided information does not specifically mention the other conditions listed, so they are assumed to be false.', additional_kwargs={}, response_metadata={'token_usage': {'completion_tokens': 238, 'prompt_tokens': 287, 'total_tokens': 525, 'completion_time': 0.952, 'prompt_time': 0.052876047, 'queue_time': 0.0034667580000000003, 'total_time': 1.004876047}, 'model_name': 'llama-3.1-70b-versatile', 'system_fingerprint': 'fp_9260b4bb2e', 'finish_reason': 'stop', 'logprobs': None}, id='run-61a43298-0584-4c77-a4f6-bcac50f1895d-0', usage_metadata={'input_tokens': 287, 'output_tokens': 238, 'total_tokens': 525})"
      ]
     },
     "execution_count": 8,
     "metadata": {},
     "output_type": "execute_result"
    }
   ],
   "source": [
    "diagnosis_json = llm_agent.extract_diagnosis(encounter_key=encounter_key)\n",
    "diagnosis_json"
   ]
  },
  {
   "cell_type": "code",
   "execution_count": 9,
   "metadata": {},
   "outputs": [
    {
     "data": {
      "text/plain": [
       "'Based on the provided JSON information, here is the response in the requested format:\\n\\n```\\n{\\n  \"Mild to moderate esophagitis\": false,\\n  \"GERD\": false,\\n  \"Peptic Ulcer Disease\": false,\\n  \"Upper GI symptoms\": true,\\n  \"ICU Stress Ulcer Prophylaxis\": false,\\n  \"Barretts Esophagus\": false,\\n  \"Chronic NSAID use with bleeding risk\": false,\\n  \"Severe esophagitis\": false,\\n  \"Documented history of bleeding GI ulcer\": true,\\n  \"H pylori infection\": false,\\n  \"Reasoning\": \"The patient has a diagnosis of gastrointestinal bleeding (GIB), which suggests that they are experiencing upper GI symptoms and have a documented history of bleeding GI ulcer. However, there is no specific information provided about the other conditions listed.\"\\n}\\n```\\n\\nThe reasoning behind this response is that the diagnosis of gastrointestinal bleeding (GIB) implies that the patient is experiencing upper GI symptoms and has a documented history of bleeding GI ulcer. However, the provided information does not specifically mention the other conditions listed, so they are assumed to be false.'"
      ]
     },
     "execution_count": 9,
     "metadata": {},
     "output_type": "execute_result"
    }
   ],
   "source": [
    "diagnosis_json.content"
   ]
  },
  {
   "cell_type": "code",
   "execution_count": 10,
   "metadata": {},
   "outputs": [
    {
     "data": {
      "text/plain": [
       "91"
      ]
     },
     "execution_count": 10,
     "metadata": {},
     "output_type": "execute_result"
    }
   ],
   "source": [
    "diagnosis_json.content.find(\"{\")"
   ]
  },
  {
   "cell_type": "code",
   "execution_count": 11,
   "metadata": {},
   "outputs": [
    {
     "data": {
      "text/plain": [
       "727"
      ]
     },
     "execution_count": 11,
     "metadata": {},
     "output_type": "execute_result"
    }
   ],
   "source": [
    "diagnosis_json.content.rfind(\"}\") + 1"
   ]
  },
  {
   "cell_type": "code",
   "execution_count": 12,
   "metadata": {},
   "outputs": [
    {
     "data": {
      "text/plain": [
       "{'Mild to moderate esophagitis': False,\n",
       " 'GERD': False,\n",
       " 'Peptic Ulcer Disease': False,\n",
       " 'Upper GI symptoms': True,\n",
       " 'ICU Stress Ulcer Prophylaxis': False,\n",
       " 'Barretts Esophagus': False,\n",
       " 'Chronic NSAID use with bleeding risk': False,\n",
       " 'Severe esophagitis': False,\n",
       " 'Documented history of bleeding GI ulcer': True,\n",
       " 'H pylori infection': False,\n",
       " 'Reasoning': 'The patient has a diagnosis of gastrointestinal bleeding (GIB), which suggests that they are experiencing upper GI symptoms and have a documented history of bleeding GI ulcer. However, there is no specific information provided about the other conditions listed.'}"
      ]
     },
     "execution_count": 12,
     "metadata": {},
     "output_type": "execute_result"
    }
   ],
   "source": [
    "llmAgent.extract_json_from_content(diagnosis_json.content)"
   ]
  },
  {
   "cell_type": "code",
   "execution_count": 13,
   "metadata": {},
   "outputs": [
    {
     "data": {
      "text/plain": [
       "('Based on the provided JSON information, here is the response in the requested format:\\n\\n```\\n{\\n  \"Mild to moderate esophagitis\": false,\\n  \"GERD\": false,\\n  \"Peptic Ulcer Disease\": false,\\n  \"Upper GI symptoms\": false,\\n  \"ICU Stress Ulcer Prophylaxis\": false,\\n  \"Barretts Esophagus\": false,\\n  \"Chronic NSAID use with bleeding risk\": false,\\n  \"Severe esophagitis\": false,\\n  \"Documented history of bleeding GI ulcer\": true,\\n  \"H pylori infection\": false,\\n  \"Reasoning\": \"The patient\\'s primary diagnosis is listed as \\'Gastrointestinal hemorrhage, unspecified\\', which suggests a history of bleeding in the gastrointestinal tract. However, there is no specific information provided about the other conditions listed. Therefore, the only condition that can be confirmed based on the provided information is a documented history of bleeding GI ulcer.\"\\n}\\n```\\n\\nNote that the information provided does not explicitly mention any of the other conditions, so they are all marked as false. The only condition that can be inferred based on the primary diagnosis is a documented history of bleeding GI ulcer.',\n",
       " {'Mild to moderate esophagitis': False,\n",
       "  'GERD': False,\n",
       "  'Peptic Ulcer Disease': False,\n",
       "  'Upper GI symptoms': False,\n",
       "  'ICU Stress Ulcer Prophylaxis': False,\n",
       "  'Barretts Esophagus': False,\n",
       "  'Chronic NSAID use with bleeding risk': False,\n",
       "  'Severe esophagitis': False,\n",
       "  'Documented history of bleeding GI ulcer': True,\n",
       "  'H pylori infection': False,\n",
       "  'Reasoning': \"The patient's primary diagnosis is listed as 'Gastrointestinal hemorrhage, unspecified', which suggests a history of bleeding in the gastrointestinal tract. However, there is no specific information provided about the other conditions listed. Therefore, the only condition that can be confirmed based on the provided information is a documented history of bleeding GI ulcer.\"},\n",
       " 659)"
      ]
     },
     "execution_count": 13,
     "metadata": {},
     "output_type": "execute_result"
    }
   ],
   "source": [
    "encounter_json = llm_agent.extract_encounter_info(encounter_key=encounter_key)\n",
    "encounter_json"
   ]
  },
  {
   "cell_type": "code",
   "execution_count": 14,
   "metadata": {},
   "outputs": [
    {
     "data": {
      "text/plain": [
       "({'Mild to moderate esophagitis': False,\n",
       "  'GERD': False,\n",
       "  'Peptic Ulcer Disease': False,\n",
       "  'Upper GI symptoms': True,\n",
       "  'ICU Stress Ulcer Prophylaxis': False,\n",
       "  'Barretts Esophagus': False,\n",
       "  'Chronic NSAID use with bleeding risk': False,\n",
       "  'Severe esophagitis': False,\n",
       "  'Documented history of bleeding GI ulcer': True,\n",
       "  'H pylori infection': False,\n",
       "  'Reasoning': \"The patient has a history of gastrointestinal bleeding and has been diagnosed with AVMs in the past. The patient's current symptoms and lab results suggest that they are at risk for upper GI bleeding. The patient's H. pylori status is currently unknown, but it is being tested. The patient's condition is being monitored closely, and they are being treated with quadruple therapy to prevent further bleeding.\"},\n",
       " 3983,\n",
       " [Document(metadata={'deid_note_key': 'D345CFCA85F004', 'EncounterKey': 'D6253A5CE371EA', 'NoteDate': Timestamp('2023-09-18 00:00:00'), 'DepartmentSpecialty': 'Inpatient Nursing', 'ProviderSpecialty': 'UCSF', 'ProviderType': 'Resident', 'is_on_last_note_date': 0, 'key': 'D6253A5CE371EA', 'PtDischargeDate': Timestamp('2023-09-21 00:00:00'), 'discharge_text': None}, page_content='with quadruple therapy  - OK for AC and AP from ***** perspective - would reinitiate all indicated AC/AP under observation  - would hold oral iron - if he requires iron would prefer IV iron inpatient to allow for better assessment of stools for UGIB  - maintain 2 ***** while AC/AP reinitiated  - maintain active T&S  - agree with evaluation \" for IVC filter should patient not tolerate AC  - transfuse to goal of hgb>7 plt>50 INR<2 and fibrinogen>100 or with hemodynamic instability ongoing bleeding  - continue PPI BID - would complete 8 week course followed by daily indefinitely  - if patient has evidence of active bleed please re-engage our team for reconsideration of EGD - if patient has ***** stools please place photo ***** chart for evaluation  - if patient has brisk bleed and hemodynamic instability consider CTA-AP and consider IR investigation    This case was discussed with service attending *****. ***** ***** ***** 09/18/23.    Thank you for involving us in the care of ***** ***** *****.  We will sign off. Please don\\'t hesitate to page *****-***** with any questions or concerns.    ***** *****-***** MD PhD  Gastroenterology Fellow    \"'),\n",
       "  Document(metadata={'deid_note_key': 'D345CFCA85F004', 'EncounterKey': 'D6253A5CE371EA', 'NoteDate': Timestamp('2023-09-18 00:00:00'), 'DepartmentSpecialty': 'Inpatient Nursing', 'ProviderSpecialty': 'UCSF', 'ProviderType': 'Resident', 'is_on_last_note_date': 0, 'key': 'D6253A5CE371EA', 'PtDischargeDate': Timestamp('2023-09-21 00:00:00'), 'discharge_text': None}, page_content='Notation was made of a shallow and narrow mouthed antral erythema   There was a punctate area of submucosal erythema seen in the   gastric body. This was palpated with a closed biopsy forceps. No   active bleeding *****       Procedures:  \" RANDOM BIOPSY:  Random biopsies were taken from   the gastric body and antrum for  ***** test     DUODENUM - The duodenum was normal without ulcers erosions   AVMs strictures or masses seen       Procedures:  RANDOM BIOPSY:  Random biopsies were taken from   the duodenum for  histology     EGD BIOPSY SPECIMENS:    #1 Location:   Duodenum   Specimen:   Normal mucosa   Antrum for ***** test                                                   COLONOSCOPY     PROCEDURE: Colonoscopy     COLONOSCOPY INDICATION:  Anemia     DESCRIPTION:   The patient was placed in the left lateral   decubitus position and IV sedation was administered. A rectal   examination was performed and the  colonoscope was introduced and   advanced.     FINDINGS AND PROCEDURES DURING INSERTION:  The colon was   relatively straight requiring minimal maneuvers for insertion     EXTENT OF INSERTION:  The scope was advanced to the terminal   ileum   The colonoscope was withdrawn slowly carefully rotating it   circumferentially to observe all the walls during *****.      PREPARATION: Very good with small amounts of easily aspirated   fluid     FINDINGS:   TERMINAL ILEUM:   Findings: Normal   Procedures: None     CECUM AND ASCENDING COLON:   ---Findings:  Normal   ---Procedures:  None     TRANSVERSE COLON:   ---Findings:  Normal   ---Procedures:  None     DESCENDING COLON:   ---Findings:  Normal   ---Procedures:  None     SIGMOID COLON:   ---Findings:  Normal   ---Procedures:  None     RECTUM:  The scope was retroflexed in the rectum.   ---Findings:  Hemorrhoids-- Small internal hemorrhoids   ---Procedures: None     Assessment/Plan:   ***** ***** ***** is a ***** y.o. man with HFrEF (35-40%) T2DM HTN HLD Afib (intermittently on AC) and recurrent slow UGIB (prior AVMs 2014 s/p APC) presenting to ***** ***** -> Good Samaritan w/ R MCA stroke s/p thrombectomy course c/b hematuria/scrotal swelling s/p tx to ***** for urologic eval course further \" c/b bl DVT (on AC) now transferred from ***** due to melena and anemia s/p 2 u pRBC. GI consulted for *****.    Patient transferred to ***** after he was witnessed to have dark stools with acute-on-chronic anemia while at *****. Reassuringly patient remains hemodynamically stable BUN 14:Cr 1 (reassuring against active UGIB) Hgb ***** 8.0 ->8.4 -> 8.7 and stools have remained brown. Last transfused September 11 and September 03. While patient has a history of mild gastritis and small AVMs (in 2014 - January 2022 reports not available to me) low concern for active ***** at this time. Appreciate patient AC has been limited by slow ooze in the past (since 2014). Differential includes AVMs gastritis duodenitis; less likely esophagitis new ulcer formation; unlikely new malignancy or sequelae of portal HTN given recent normal EGD and clinical picture.    Given his recent stroke and SAH patient remains a relatively high risk candidate for both anesthesia and endoscopy. As he is stable from ***** perspective would restart necessary AC and AP that he is indicated for under close observation (at least 48 hours after initiation) of stools hemodynamics and Hgb. Should patient re-demonstrate UGIB with ***** stools will reconsider upper endoscopy at this time. Reassured that he had reportedly normal EGD/colonoscopy last January 2022.    Appreciate team has sent H pylori for evaluation as prior ***** test not available to me.     Recommendations:  - please obtain reports for EGD/colonoscopy in January 2022 at *****  - send and follow-up H pylori - appreciate both serum and stool sent; if positive please treat with quadruple therapy  - OK for AC and AP from ***** perspective - would reinitiate all indicated AC/AP under observation  - would hold oral iron - if he requires iron would prefer IV iron inpatient'),\n",
       "  Document(metadata={'deid_note_key': 'D8AB522482708A', 'EncounterKey': 'D6253A5CE371EA', 'NoteDate': Timestamp('2023-09-20 00:00:00'), 'DepartmentSpecialty': 'Inpatient Nursing', 'ProviderSpecialty': 'Hospital Medicine', 'ProviderType': 'Physician', 'is_on_last_note_date': 0, 'key': 'D6253A5CE371EA', 'PtDischargeDate': Timestamp('2023-09-21 00:00:00'), 'discharge_text': None}, page_content='Dear .NAME / *****(a) ***** ***** *****     You were admitted for ***** (gastrointestinal bleeding).  / Fue *****(a) por ***** (gastrointestinal bleeding).    In the hospital we monitored you for bleeding but you did not have any. You did not get any procedures at *****.   …  / En el hospital *****  (tests and interventions provided / pruebas e ***** *****)     Key information for you to know: / Información ***** para usted:     MEDICATION CHANGES (for dosing see complete medication list below) /   CAMBIOS ***** ***** MEDICACIÓN (para ***** *****ón ***** ***** ***** completa de medicamentos a *****ón):  - Please STOP taking  / ***** favor ***** de ***** iron. basaglar insulin was not needed for your sugars in the hospital. If your sugars are running high >200s at home you can resume this.   - Please START taking / ***** favor ***** a ***** apixaban amlodipine flomax  - The following medications have CHANGES ***** ***** / Los ***** medicamentos tienen CAMBIOS ***** ***** ***** metoprolol lipitor     FOLLOW-UP INSTRUCTIONS / INSTRUCCIONES DE SEGUIMIENTO:  - After you leave the hospital you need to get the labs and imaging studies listed in the summary because / Después de salir ***** hospital debe ***** las pruebas y los estudios de radiología ***** en el ***** porque You will need follow up with a gastroenterologist to schedule endoscopy and colonoscopy to look for source of bleeding. You will need follow up with urology to reassess whether your foley catheter can be removed.     - Follow-up appointments with your outpatient providers are listed below. /  ***** citas de seguimiento con los proveedores ***** se ***** a *****ón.   You will need follow up with your primary care doctor   RETURN INSTRUCTIONS / INSTRUCCIONES PARA REGRESAR:  - Please contact a healthcare provider or return to the emergency room for bleeding light headedness dizziness fainting changes in \" strength/weakness shortness of breath. If you have any bleeding or black stool stop eliquis and seek medical help. / ***** favor *****í***** con un proveedor médico o regrese a la ***** de emergencias si *****: *****  - If you have questions please contact your primary care provider or hospital team (phone numbers above). / Si ***** ***** ***** *****í***** con su proveedor ***** o su equipo ***** hospital (a los números *****ó***** ***** *****)     It was a pleasure taking care of you.  / Fue un ***** *****.     Sincerely / *****     Dr. ***** ***** .***** - Attending physician / Médico supervisor    Patient and Family Advisory *****    Would you like to have the opportunity to improve the care experience of patients who are in the hospital? The UCSF Division of Hospital Medicine is actively recruiting members for a Patient and Family Advisory ***** (*****). The ***** is comprised of a group of patients and/or loved ones who meet monthly to discuss hospital initiatives and improvements. Please email *****.*****@*****.***** for further information or visit our website at *****://*****.*****/*****.  \"'),\n",
       "  Document(metadata={'deid_note_key': 'D345CFCA85F004', 'EncounterKey': 'D6253A5CE371EA', 'NoteDate': Timestamp('2023-09-18 00:00:00'), 'DepartmentSpecialty': 'Inpatient Nursing', 'ProviderSpecialty': 'UCSF', 'ProviderType': 'Resident', 'is_on_last_note_date': 0, 'key': 'D6253A5CE371EA', 'PtDischargeDate': Timestamp('2023-09-21 00:00:00'), 'discharge_text': None}, page_content='6.4   HGB 8.7***** 8.4*****   HCT 28.1***** 27.8*****   MCV 95 96   PLT ***** *****     Recent Labs     09/17/23  2035   INR 1.3*****   PTT 26.8       Microbiology:  Microbiology Results (last 72 \" hours)       Procedure Component Value Units Date/Time    MRSA Culture [*****] Collected: 09/18/23 0507    Order Status: Sent Specimen: Anterior Nares Swab Updated: 09/18/23 0820    COVID-19 RNA RT-PCR/Nucleic Acid Amplification Screening (Asymptomatic and No Specific COVID-19 Suspicion); No [*****] Collected: 09/18/23 0507    Order Status: Sent Specimen: Not Applicable from ***** ***** ***** +/- ***** Swab Updated: 09/18/23 0816    Helicobacter pylori IgG Antibody [*****] Collected: 09/17/23 2035    Order Status: Sent Specimen: Blood from ***** *****: 09/17/23 2313    Helicobacter pylori Antigen [*****]     Order Status: Sent Specimen: Stool     Helicobacter pylori Antigen [*****]     Order Status: Canceled Specimen: Stool             Radiology:   Radiology Results (last 72 hours)       Procedure Component Value Units Date/Time    XR Chest 1 View (AP Portable) [*****] Collected: 09/17/23 2110    Order Status: Completed Updated: 09/17/23 2116    Narrative:      XR CHEST 1 VIEW   09/17/2023 9:02 PM    HISTORY: confirm lines    COMPARISON: None.      Impression:      FINDINGS/IMPRESSION:    Pacemaker lead terminates at the right atrium and ventricle.    Bilateral patchy consolidations and small right pleural effusion concerning for infection or pulmonary edema. No pneumothorax. Borderline cardiomegaly.    Report dictated by: ***** ***** ***** MD signed by: ***** ***** ***** MD  Department of Radiology and Biomedical Imaging            Endoscopies:    Small bowel enteroscopy 03/14/2014  ESOPHAGUS - The mucosa had no ulcers or erosions strictures   masses or varices.   The diaphragmatic impression was located at 40 cm   The LES impression and Z-line were located at 40 cm       Procedures:  None     STOMACH - Minimal clear fluid was found in the stomach and easily   aspirated   The mucosa was abnormal with a 2 mm size distal gastric body AVM   and erosions in the gastric body and a small \" ulceration in the   antrum likely related to the previously taken biopsies no   polyps or masses seen       Procedures:  APC CAUTERY PROCEDURE:  The  APC probe was   passed and AVM was completely obliterated.     DUODENUM - The duodenum was abnormal with erosions at the   recently taken biopsy sites otherwise without ulcers AVMs   strictures or masses seen       Procedures:  None     JEJUNUM - The jejunum was abnormal with a small 2 mm size AVM   however this did not appear to be the same AVM identified on   capsule endoscopy the examination was done up to 40 cm beyond   pylorus further examination could not be possible secondary to   looping no strictures or masses seen       Procedures:  APC CAUTERY PROCEDURE:  The  APC probe was   passed and AVM was completely obliterated.       Complications:  None   Estimated blood loss: None     MEDICATIONS:  Demerol  100 mg and Versed  4.0 mg     BIOPSY SPECIMENS: None     IMPRESSION:    Normal esophagus   Erosions/ulceration at the site of recently taken biopsy in the   stomach   A small 2 mm distal gastric body nonbleeding AVM ablated with   APC   Erosions at the site of biopsies in the duodenum   Jejunum AVM 2 mm nonbleeding treated with APC   The AVM seen on can study was not able to be reached on capsule   endoscopy   Push enteroscopy possible up to 40 cm beyond pylorus       EGD and Colonoscopy 03/10/14:    FINDINGS:   ESOPHAGUS - The mucosa had no ulcers or erosions strictures   masses or varices.       Procedures:  None     STOMACH - Minimal clear fluid was found in the stomach and easily   aspirated   The mucosa was normal with no ulcers erosions AVM\\'s polyps or   masses seen   Mild antral erythema was seen   Notation was made of a shallow and narrow mouthed antral erythema   There was a punctate area of submucosal erythema seen in the   gastric body. This was palpated with a closed biopsy forceps. No')])"
      ]
     },
     "execution_count": 14,
     "metadata": {},
     "output_type": "execute_result"
    }
   ],
   "source": [
    "notes = llm_agent.extract_notes(encounter_key=encounter_key)\n",
    "notes"
   ]
  },
  {
   "cell_type": "code",
   "execution_count": 13,
   "metadata": {},
   "outputs": [
    {
     "data": {
      "text/plain": [
       "[Document(metadata={'deid_note_key': 'D345CFCA85F004', 'EncounterKey': 'D6253A5CE371EA', 'NoteDate': Timestamp('2023-09-18 00:00:00'), 'DepartmentSpecialty': 'Inpatient Nursing', 'ProviderSpecialty': 'UCSF', 'ProviderType': 'Resident', 'is_on_last_note_date': 0, 'key': 'D6253A5CE371EA', 'PtDischargeDate': Timestamp('2023-09-21 00:00:00'), 'discharge_text': None}, page_content='with quadruple therapy  - OK for AC and AP from ***** perspective - would reinitiate all indicated AC/AP under observation  - would hold oral iron - if he requires iron would prefer IV iron inpatient to allow for better assessment of stools for UGIB  - maintain 2 ***** while AC/AP reinitiated  - maintain active T&S  - agree with evaluation \" for IVC filter should patient not tolerate AC  - transfuse to goal of hgb>7 plt>50 INR<2 and fibrinogen>100 or with hemodynamic instability ongoing bleeding  - continue PPI BID - would complete 8 week course followed by daily indefinitely  - if patient has evidence of active bleed please re-engage our team for reconsideration of EGD - if patient has ***** stools please place photo ***** chart for evaluation  - if patient has brisk bleed and hemodynamic instability consider CTA-AP and consider IR investigation    This case was discussed with service attending *****. ***** ***** ***** 09/18/23.    Thank you for involving us in the care of ***** ***** *****.  We will sign off. Please don\\'t hesitate to page *****-***** with any questions or concerns.    ***** *****-***** MD PhD  Gastroenterology Fellow    \"'),\n",
       " Document(metadata={'deid_note_key': 'D345CFCA85F004', 'EncounterKey': 'D6253A5CE371EA', 'NoteDate': Timestamp('2023-09-18 00:00:00'), 'DepartmentSpecialty': 'Inpatient Nursing', 'ProviderSpecialty': 'UCSF', 'ProviderType': 'Resident', 'is_on_last_note_date': 0, 'key': 'D6253A5CE371EA', 'PtDischargeDate': Timestamp('2023-09-21 00:00:00'), 'discharge_text': None}, page_content='Notation was made of a shallow and narrow mouthed antral erythema   There was a punctate area of submucosal erythema seen in the   gastric body. This was palpated with a closed biopsy forceps. No   active bleeding *****       Procedures:  \" RANDOM BIOPSY:  Random biopsies were taken from   the gastric body and antrum for  ***** test     DUODENUM - The duodenum was normal without ulcers erosions   AVMs strictures or masses seen       Procedures:  RANDOM BIOPSY:  Random biopsies were taken from   the duodenum for  histology     EGD BIOPSY SPECIMENS:    #1 Location:   Duodenum   Specimen:   Normal mucosa   Antrum for ***** test                                                   COLONOSCOPY     PROCEDURE: Colonoscopy     COLONOSCOPY INDICATION:  Anemia     DESCRIPTION:   The patient was placed in the left lateral   decubitus position and IV sedation was administered. A rectal   examination was performed and the  colonoscope was introduced and   advanced.     FINDINGS AND PROCEDURES DURING INSERTION:  The colon was   relatively straight requiring minimal maneuvers for insertion     EXTENT OF INSERTION:  The scope was advanced to the terminal   ileum   The colonoscope was withdrawn slowly carefully rotating it   circumferentially to observe all the walls during *****.      PREPARATION: Very good with small amounts of easily aspirated   fluid     FINDINGS:   TERMINAL ILEUM:   Findings: Normal   Procedures: None     CECUM AND ASCENDING COLON:   ---Findings:  Normal   ---Procedures:  None     TRANSVERSE COLON:   ---Findings:  Normal   ---Procedures:  None     DESCENDING COLON:   ---Findings:  Normal   ---Procedures:  None     SIGMOID COLON:   ---Findings:  Normal   ---Procedures:  None     RECTUM:  The scope was retroflexed in the rectum.   ---Findings:  Hemorrhoids-- Small internal hemorrhoids   ---Procedures: None     Assessment/Plan:   ***** ***** ***** is a ***** y.o. man with HFrEF (35-40%) T2DM HTN HLD Afib (intermittently on AC) and recurrent slow UGIB (prior AVMs 2014 s/p APC) presenting to ***** ***** -> Good Samaritan w/ R MCA stroke s/p thrombectomy course c/b hematuria/scrotal swelling s/p tx to ***** for urologic eval course further \" c/b bl DVT (on AC) now transferred from ***** due to melena and anemia s/p 2 u pRBC. GI consulted for *****.    Patient transferred to ***** after he was witnessed to have dark stools with acute-on-chronic anemia while at *****. Reassuringly patient remains hemodynamically stable BUN 14:Cr 1 (reassuring against active UGIB) Hgb ***** 8.0 ->8.4 -> 8.7 and stools have remained brown. Last transfused September 11 and September 03. While patient has a history of mild gastritis and small AVMs (in 2014 - January 2022 reports not available to me) low concern for active ***** at this time. Appreciate patient AC has been limited by slow ooze in the past (since 2014). Differential includes AVMs gastritis duodenitis; less likely esophagitis new ulcer formation; unlikely new malignancy or sequelae of portal HTN given recent normal EGD and clinical picture.    Given his recent stroke and SAH patient remains a relatively high risk candidate for both anesthesia and endoscopy. As he is stable from ***** perspective would restart necessary AC and AP that he is indicated for under close observation (at least 48 hours after initiation) of stools hemodynamics and Hgb. Should patient re-demonstrate UGIB with ***** stools will reconsider upper endoscopy at this time. Reassured that he had reportedly normal EGD/colonoscopy last January 2022.    Appreciate team has sent H pylori for evaluation as prior ***** test not available to me.     Recommendations:  - please obtain reports for EGD/colonoscopy in January 2022 at *****  - send and follow-up H pylori - appreciate both serum and stool sent; if positive please treat with quadruple therapy  - OK for AC and AP from ***** perspective - would reinitiate all indicated AC/AP under observation  - would hold oral iron - if he requires iron would prefer IV iron inpatient'),\n",
       " Document(metadata={'deid_note_key': 'D8AB522482708A', 'EncounterKey': 'D6253A5CE371EA', 'NoteDate': Timestamp('2023-09-20 00:00:00'), 'DepartmentSpecialty': 'Inpatient Nursing', 'ProviderSpecialty': 'Hospital Medicine', 'ProviderType': 'Physician', 'is_on_last_note_date': 0, 'key': 'D6253A5CE371EA', 'PtDischargeDate': Timestamp('2023-09-21 00:00:00'), 'discharge_text': None}, page_content='Dear .NAME / *****(a) ***** ***** *****     You were admitted for ***** (gastrointestinal bleeding).  / Fue *****(a) por ***** (gastrointestinal bleeding).    In the hospital we monitored you for bleeding but you did not have any. You did not get any procedures at *****.   …  / En el hospital *****  (tests and interventions provided / pruebas e ***** *****)     Key information for you to know: / Información ***** para usted:     MEDICATION CHANGES (for dosing see complete medication list below) /   CAMBIOS ***** ***** MEDICACIÓN (para ***** *****ón ***** ***** ***** completa de medicamentos a *****ón):  - Please STOP taking  / ***** favor ***** de ***** iron. basaglar insulin was not needed for your sugars in the hospital. If your sugars are running high >200s at home you can resume this.   - Please START taking / ***** favor ***** a ***** apixaban amlodipine flomax  - The following medications have CHANGES ***** ***** / Los ***** medicamentos tienen CAMBIOS ***** ***** ***** metoprolol lipitor     FOLLOW-UP INSTRUCTIONS / INSTRUCCIONES DE SEGUIMIENTO:  - After you leave the hospital you need to get the labs and imaging studies listed in the summary because / Después de salir ***** hospital debe ***** las pruebas y los estudios de radiología ***** en el ***** porque You will need follow up with a gastroenterologist to schedule endoscopy and colonoscopy to look for source of bleeding. You will need follow up with urology to reassess whether your foley catheter can be removed.     - Follow-up appointments with your outpatient providers are listed below. /  ***** citas de seguimiento con los proveedores ***** se ***** a *****ón.   You will need follow up with your primary care doctor   RETURN INSTRUCTIONS / INSTRUCCIONES PARA REGRESAR:  - Please contact a healthcare provider or return to the emergency room for bleeding light headedness dizziness fainting changes in \" strength/weakness shortness of breath. If you have any bleeding or black stool stop eliquis and seek medical help. / ***** favor *****í***** con un proveedor médico o regrese a la ***** de emergencias si *****: *****  - If you have questions please contact your primary care provider or hospital team (phone numbers above). / Si ***** ***** ***** *****í***** con su proveedor ***** o su equipo ***** hospital (a los números *****ó***** ***** *****)     It was a pleasure taking care of you.  / Fue un ***** *****.     Sincerely / *****     Dr. ***** ***** .***** - Attending physician / Médico supervisor    Patient and Family Advisory *****    Would you like to have the opportunity to improve the care experience of patients who are in the hospital? The UCSF Division of Hospital Medicine is actively recruiting members for a Patient and Family Advisory ***** (*****). The ***** is comprised of a group of patients and/or loved ones who meet monthly to discuss hospital initiatives and improvements. Please email *****.*****@*****.***** for further information or visit our website at *****://*****.*****/*****.  \"'),\n",
       " Document(metadata={'deid_note_key': 'D345CFCA85F004', 'EncounterKey': 'D6253A5CE371EA', 'NoteDate': Timestamp('2023-09-18 00:00:00'), 'DepartmentSpecialty': 'Inpatient Nursing', 'ProviderSpecialty': 'UCSF', 'ProviderType': 'Resident', 'is_on_last_note_date': 0, 'key': 'D6253A5CE371EA', 'PtDischargeDate': Timestamp('2023-09-21 00:00:00'), 'discharge_text': None}, page_content='6.4   HGB 8.7***** 8.4*****   HCT 28.1***** 27.8*****   MCV 95 96   PLT ***** *****     Recent Labs     09/17/23  2035   INR 1.3*****   PTT 26.8       Microbiology:  Microbiology Results (last 72 \" hours)       Procedure Component Value Units Date/Time    MRSA Culture [*****] Collected: 09/18/23 0507    Order Status: Sent Specimen: Anterior Nares Swab Updated: 09/18/23 0820    COVID-19 RNA RT-PCR/Nucleic Acid Amplification Screening (Asymptomatic and No Specific COVID-19 Suspicion); No [*****] Collected: 09/18/23 0507    Order Status: Sent Specimen: Not Applicable from ***** ***** ***** +/- ***** Swab Updated: 09/18/23 0816    Helicobacter pylori IgG Antibody [*****] Collected: 09/17/23 2035    Order Status: Sent Specimen: Blood from ***** *****: 09/17/23 2313    Helicobacter pylori Antigen [*****]     Order Status: Sent Specimen: Stool     Helicobacter pylori Antigen [*****]     Order Status: Canceled Specimen: Stool             Radiology:   Radiology Results (last 72 hours)       Procedure Component Value Units Date/Time    XR Chest 1 View (AP Portable) [*****] Collected: 09/17/23 2110    Order Status: Completed Updated: 09/17/23 2116    Narrative:      XR CHEST 1 VIEW   09/17/2023 9:02 PM    HISTORY: confirm lines    COMPARISON: None.      Impression:      FINDINGS/IMPRESSION:    Pacemaker lead terminates at the right atrium and ventricle.    Bilateral patchy consolidations and small right pleural effusion concerning for infection or pulmonary edema. No pneumothorax. Borderline cardiomegaly.    Report dictated by: ***** ***** ***** MD signed by: ***** ***** ***** MD  Department of Radiology and Biomedical Imaging            Endoscopies:    Small bowel enteroscopy 03/14/2014  ESOPHAGUS - The mucosa had no ulcers or erosions strictures   masses or varices.   The diaphragmatic impression was located at 40 cm   The LES impression and Z-line were located at 40 cm       Procedures:  None     STOMACH - Minimal clear fluid was found in the stomach and easily   aspirated   The mucosa was abnormal with a 2 mm size distal gastric body AVM   and erosions in the gastric body and a small \" ulceration in the   antrum likely related to the previously taken biopsies no   polyps or masses seen       Procedures:  APC CAUTERY PROCEDURE:  The  APC probe was   passed and AVM was completely obliterated.     DUODENUM - The duodenum was abnormal with erosions at the   recently taken biopsy sites otherwise without ulcers AVMs   strictures or masses seen       Procedures:  None     JEJUNUM - The jejunum was abnormal with a small 2 mm size AVM   however this did not appear to be the same AVM identified on   capsule endoscopy the examination was done up to 40 cm beyond   pylorus further examination could not be possible secondary to   looping no strictures or masses seen       Procedures:  APC CAUTERY PROCEDURE:  The  APC probe was   passed and AVM was completely obliterated.       Complications:  None   Estimated blood loss: None     MEDICATIONS:  Demerol  100 mg and Versed  4.0 mg     BIOPSY SPECIMENS: None     IMPRESSION:    Normal esophagus   Erosions/ulceration at the site of recently taken biopsy in the   stomach   A small 2 mm distal gastric body nonbleeding AVM ablated with   APC   Erosions at the site of biopsies in the duodenum   Jejunum AVM 2 mm nonbleeding treated with APC   The AVM seen on can study was not able to be reached on capsule   endoscopy   Push enteroscopy possible up to 40 cm beyond pylorus       EGD and Colonoscopy 03/10/14:    FINDINGS:   ESOPHAGUS - The mucosa had no ulcers or erosions strictures   masses or varices.       Procedures:  None     STOMACH - Minimal clear fluid was found in the stomach and easily   aspirated   The mucosa was normal with no ulcers erosions AVM\\'s polyps or   masses seen   Mild antral erythema was seen   Notation was made of a shallow and narrow mouthed antral erythema   There was a punctate area of submucosal erythema seen in the   gastric body. This was palpated with a closed biopsy forceps. No')]"
      ]
     },
     "execution_count": 13,
     "metadata": {},
     "output_type": "execute_result"
    }
   ],
   "source": [
    "notes[0][\"context\"]"
   ]
  },
  {
   "cell_type": "code",
   "execution_count": 18,
   "metadata": {},
   "outputs": [
    {
     "data": {
      "text/plain": [
       "3994"
      ]
     },
     "execution_count": 18,
     "metadata": {},
     "output_type": "execute_result"
    }
   ],
   "source": [
    "notes_json['answer'].response_metadata['token_usage']['total_tokens']"
   ]
  },
  {
   "cell_type": "code",
   "execution_count": 15,
   "metadata": {},
   "outputs": [
    {
     "data": {
      "text/plain": [
       "'Based on the provided information, here is a JSON instance that conforms to the given schema:\\n\\n```\\n{\\n  \"Mild_to_moderate_esophagitis\": false,\\n  \"GERD\": false,\\n  \"Peptic_Ulcer_Disease\": false,\\n  \"Upper_GI_symptoms\": true,\\n  \"ICU_Stress_Ulcer_Prophylaxis\": false,\\n  \"Barretts_Esophagus\": false,\\n  \"Chronic_NSAID_use_with_bleeding_risk\": false,\\n  \"Severe_esophagitis\": false,\\n  \"Documented_history_of_bleeding_GI_ulcer\": true,\\n  \"H_pylori_infection\": true,\\n  \"Reasoning\": \"The patient has a history of gastrointestinal bleeding and has been diagnosed with H. pylori infection. The patient\\'s recent labs show a low hemoglobin level and a positive Helicobacter pylori IgG antibody test. The patient\\'s endoscopy results show mild antral erythema and a punctate area of submucosal erythema in the gastric body. The patient\\'s symptoms and test results suggest that they have upper GI symptoms and a documented history of bleeding GI ulcer.\"\\n}\\n```\\n\\nNote that some of the fields in the JSON instance are set to false, as there is no information in the provided text to suggest that the patient has those conditions. The \"Reasoning\" field is a summary of the patient\\'s symptoms and test results, and is based on the information provided in the text.'"
      ]
     },
     "execution_count": 15,
     "metadata": {},
     "output_type": "execute_result"
    }
   ],
   "source": [
    "notes_json['answer'].content #this is the json"
   ]
  },
  {
   "cell_type": "code",
   "execution_count": 12,
   "metadata": {},
   "outputs": [
    {
     "data": {
      "text/plain": [
       "{'input': 'Based on the information from the note {context}, does the patient have any of the following:\\n              1. Mild to moderate esophagitis\\n              2. GERD \\n              3. Peptic Ulcer Disease\\n              4. Upper GI symptoms\\n              5. ICU Stress Ulcer Prophylaxis\\n              6. Barretts Esophagus\\n              7. Chronic NSAID use with bleeding risk\\n              8. Severe esophagitis\\n              9. Documented history of bleeding GI ulcer\\n              10. H pylori infection\\n              11. Explain the reasoning for your answer\\n            Return the answer for each of these as a formatted JSON object with the key being the condition and the value being a boolean value for the first 10.  For the final question, return a string with the reasoning for your answer.',\n",
       " 'context': [Document(metadata={'deid_note_key': 'D345CFCA85F004', 'EncounterKey': 'D6253A5CE371EA', 'NoteDate': '2023-09-18', 'DepartmentSpecialty': 'Inpatient Nursing', 'ProviderSpecialty': 'UCSF', 'ProviderType': 'Resident', 'is_on_last_note_date': 0, 'key': 'D6253A5CE371EA', 'PtDischargeDate': '2023-09-21', 'discharge_text': None}, page_content='with quadruple therapy  - OK for AC and AP from ***** perspective - would reinitiate all indicated AC/AP under observation  - would hold oral iron - if he requires iron would prefer IV iron inpatient to allow for better assessment of stools for UGIB  - maintain 2 ***** while AC/AP reinitiated  - maintain active T&S  - agree with evaluation \" for IVC filter should patient not tolerate AC  - transfuse to goal of hgb>7 plt>50 INR<2 and fibrinogen>100 or with hemodynamic instability ongoing bleeding  - continue PPI BID - would complete 8 week course followed by daily indefinitely  - if patient has evidence of active bleed please re-engage our team for reconsideration of EGD - if patient has ***** stools please place photo ***** chart for evaluation  - if patient has brisk bleed and hemodynamic instability consider CTA-AP and consider IR investigation    This case was discussed with service attending *****. ***** ***** ***** 09/18/23.    Thank you for involving us in the care of ***** ***** *****.  We will sign off. Please don\\'t hesitate to page *****-***** with any questions or concerns.    ***** *****-***** MD PhD  Gastroenterology Fellow    \"'),\n",
       "  Document(metadata={'deid_note_key': 'D345CFCA85F004', 'EncounterKey': 'D6253A5CE371EA', 'NoteDate': '2023-09-18', 'DepartmentSpecialty': 'Inpatient Nursing', 'ProviderSpecialty': 'UCSF', 'ProviderType': 'Resident', 'is_on_last_note_date': 0, 'key': 'D6253A5CE371EA', 'PtDischargeDate': '2023-09-21', 'discharge_text': None}, page_content='Notation was made of a shallow and narrow mouthed antral erythema   There was a punctate area of submucosal erythema seen in the   gastric body. This was palpated with a closed biopsy forceps. No   active bleeding *****       Procedures:  \" RANDOM BIOPSY:  Random biopsies were taken from   the gastric body and antrum for  ***** test     DUODENUM - The duodenum was normal without ulcers erosions   AVMs strictures or masses seen       Procedures:  RANDOM BIOPSY:  Random biopsies were taken from   the duodenum for  histology     EGD BIOPSY SPECIMENS:    #1 Location:   Duodenum   Specimen:   Normal mucosa   Antrum for ***** test                                                   COLONOSCOPY     PROCEDURE: Colonoscopy     COLONOSCOPY INDICATION:  Anemia     DESCRIPTION:   The patient was placed in the left lateral   decubitus position and IV sedation was administered. A rectal   examination was performed and the  colonoscope was introduced and   advanced.     FINDINGS AND PROCEDURES DURING INSERTION:  The colon was   relatively straight requiring minimal maneuvers for insertion     EXTENT OF INSERTION:  The scope was advanced to the terminal   ileum   The colonoscope was withdrawn slowly carefully rotating it   circumferentially to observe all the walls during *****.      PREPARATION: Very good with small amounts of easily aspirated   fluid     FINDINGS:   TERMINAL ILEUM:   Findings: Normal   Procedures: None     CECUM AND ASCENDING COLON:   ---Findings:  Normal   ---Procedures:  None     TRANSVERSE COLON:   ---Findings:  Normal   ---Procedures:  None     DESCENDING COLON:   ---Findings:  Normal   ---Procedures:  None     SIGMOID COLON:   ---Findings:  Normal   ---Procedures:  None     RECTUM:  The scope was retroflexed in the rectum.   ---Findings:  Hemorrhoids-- Small internal hemorrhoids   ---Procedures: None     Assessment/Plan:   ***** ***** ***** is a ***** y.o. man with HFrEF (35-40%) T2DM HTN HLD Afib (intermittently on AC) and recurrent slow UGIB (prior AVMs 2014 s/p APC) presenting to ***** ***** -> Good Samaritan w/ R MCA stroke s/p thrombectomy course c/b hematuria/scrotal swelling s/p tx to ***** for urologic eval course further \" c/b bl DVT (on AC) now transferred from ***** due to melena and anemia s/p 2 u pRBC. GI consulted for *****.    Patient transferred to ***** after he was witnessed to have dark stools with acute-on-chronic anemia while at *****. Reassuringly patient remains hemodynamically stable BUN 14:Cr 1 (reassuring against active UGIB) Hgb ***** 8.0 ->8.4 -> 8.7 and stools have remained brown. Last transfused September 11 and September 03. While patient has a history of mild gastritis and small AVMs (in 2014 - January 2022 reports not available to me) low concern for active ***** at this time. Appreciate patient AC has been limited by slow ooze in the past (since 2014). Differential includes AVMs gastritis duodenitis; less likely esophagitis new ulcer formation; unlikely new malignancy or sequelae of portal HTN given recent normal EGD and clinical picture.    Given his recent stroke and SAH patient remains a relatively high risk candidate for both anesthesia and endoscopy. As he is stable from ***** perspective would restart necessary AC and AP that he is indicated for under close observation (at least 48 hours after initiation) of stools hemodynamics and Hgb. Should patient re-demonstrate UGIB with ***** stools will reconsider upper endoscopy at this time. Reassured that he had reportedly normal EGD/colonoscopy last January 2022.    Appreciate team has sent H pylori for evaluation as prior ***** test not available to me.     Recommendations:  - please obtain reports for EGD/colonoscopy in January 2022 at *****  - send and follow-up H pylori - appreciate both serum and stool sent; if positive please treat with quadruple therapy  - OK for AC and AP from ***** perspective - would reinitiate all indicated AC/AP under observation  - would hold oral iron - if he requires iron would prefer IV iron inpatient'),\n",
       "  Document(metadata={'deid_note_key': 'D8AB522482708A', 'EncounterKey': 'D6253A5CE371EA', 'NoteDate': '2023-09-20', 'DepartmentSpecialty': 'Inpatient Nursing', 'ProviderSpecialty': 'Hospital Medicine', 'ProviderType': 'Physician', 'is_on_last_note_date': 0, 'key': 'D6253A5CE371EA', 'PtDischargeDate': '2023-09-21', 'discharge_text': None}, page_content='Dear .NAME / *****(a) ***** ***** *****     You were admitted for ***** (gastrointestinal bleeding).  / Fue *****(a) por ***** (gastrointestinal bleeding).    In the hospital we monitored you for bleeding but you did not have any. You did not get any procedures at *****.   …  / En el hospital *****  (tests and interventions provided / pruebas e ***** *****)     Key information for you to know: / Información ***** para usted:     MEDICATION CHANGES (for dosing see complete medication list below) /   CAMBIOS ***** ***** MEDICACIÓN (para ***** *****ón ***** ***** ***** completa de medicamentos a *****ón):  - Please STOP taking  / ***** favor ***** de ***** iron. basaglar insulin was not needed for your sugars in the hospital. If your sugars are running high >200s at home you can resume this.   - Please START taking / ***** favor ***** a ***** apixaban amlodipine flomax  - The following medications have CHANGES ***** ***** / Los ***** medicamentos tienen CAMBIOS ***** ***** ***** metoprolol lipitor     FOLLOW-UP INSTRUCTIONS / INSTRUCCIONES DE SEGUIMIENTO:  - After you leave the hospital you need to get the labs and imaging studies listed in the summary because / Después de salir ***** hospital debe ***** las pruebas y los estudios de radiología ***** en el ***** porque You will need follow up with a gastroenterologist to schedule endoscopy and colonoscopy to look for source of bleeding. You will need follow up with urology to reassess whether your foley catheter can be removed.     - Follow-up appointments with your outpatient providers are listed below. /  ***** citas de seguimiento con los proveedores ***** se ***** a *****ón.   You will need follow up with your primary care doctor   RETURN INSTRUCTIONS / INSTRUCCIONES PARA REGRESAR:  - Please contact a healthcare provider or return to the emergency room for bleeding light headedness dizziness fainting changes in \" strength/weakness shortness of breath. If you have any bleeding or black stool stop eliquis and seek medical help. / ***** favor *****í***** con un proveedor médico o regrese a la ***** de emergencias si *****: *****  - If you have questions please contact your primary care provider or hospital team (phone numbers above). / Si ***** ***** ***** *****í***** con su proveedor ***** o su equipo ***** hospital (a los números *****ó***** ***** *****)     It was a pleasure taking care of you.  / Fue un ***** *****.     Sincerely / *****     Dr. ***** ***** .***** - Attending physician / Médico supervisor    Patient and Family Advisory *****    Would you like to have the opportunity to improve the care experience of patients who are in the hospital? The UCSF Division of Hospital Medicine is actively recruiting members for a Patient and Family Advisory ***** (*****). The ***** is comprised of a group of patients and/or loved ones who meet monthly to discuss hospital initiatives and improvements. Please email *****.*****@*****.***** for further information or visit our website at *****://*****.*****/*****.  \"'),\n",
       "  Document(metadata={'deid_note_key': 'D345CFCA85F004', 'EncounterKey': 'D6253A5CE371EA', 'NoteDate': '2023-09-18', 'DepartmentSpecialty': 'Inpatient Nursing', 'ProviderSpecialty': 'UCSF', 'ProviderType': 'Resident', 'is_on_last_note_date': 0, 'key': 'D6253A5CE371EA', 'PtDischargeDate': '2023-09-21', 'discharge_text': None}, page_content='6.4   HGB 8.7***** 8.4*****   HCT 28.1***** 27.8*****   MCV 95 96   PLT ***** *****     Recent Labs     09/17/23  2035   INR 1.3*****   PTT 26.8       Microbiology:  Microbiology Results (last 72 \" hours)       Procedure Component Value Units Date/Time    MRSA Culture [*****] Collected: 09/18/23 0507    Order Status: Sent Specimen: Anterior Nares Swab Updated: 09/18/23 0820    COVID-19 RNA RT-PCR/Nucleic Acid Amplification Screening (Asymptomatic and No Specific COVID-19 Suspicion); No [*****] Collected: 09/18/23 0507    Order Status: Sent Specimen: Not Applicable from ***** ***** ***** +/- ***** Swab Updated: 09/18/23 0816    Helicobacter pylori IgG Antibody [*****] Collected: 09/17/23 2035    Order Status: Sent Specimen: Blood from ***** *****: 09/17/23 2313    Helicobacter pylori Antigen [*****]     Order Status: Sent Specimen: Stool     Helicobacter pylori Antigen [*****]     Order Status: Canceled Specimen: Stool             Radiology:   Radiology Results (last 72 hours)       Procedure Component Value Units Date/Time    XR Chest 1 View (AP Portable) [*****] Collected: 09/17/23 2110    Order Status: Completed Updated: 09/17/23 2116    Narrative:      XR CHEST 1 VIEW   09/17/2023 9:02 PM    HISTORY: confirm lines    COMPARISON: None.      Impression:      FINDINGS/IMPRESSION:    Pacemaker lead terminates at the right atrium and ventricle.    Bilateral patchy consolidations and small right pleural effusion concerning for infection or pulmonary edema. No pneumothorax. Borderline cardiomegaly.    Report dictated by: ***** ***** ***** MD signed by: ***** ***** ***** MD  Department of Radiology and Biomedical Imaging            Endoscopies:    Small bowel enteroscopy 03/14/2014  ESOPHAGUS - The mucosa had no ulcers or erosions strictures   masses or varices.   The diaphragmatic impression was located at 40 cm   The LES impression and Z-line were located at 40 cm       Procedures:  None     STOMACH - Minimal clear fluid was found in the stomach and easily   aspirated   The mucosa was abnormal with a 2 mm size distal gastric body AVM   and erosions in the gastric body and a small \" ulceration in the   antrum likely related to the previously taken biopsies no   polyps or masses seen       Procedures:  APC CAUTERY PROCEDURE:  The  APC probe was   passed and AVM was completely obliterated.     DUODENUM - The duodenum was abnormal with erosions at the   recently taken biopsy sites otherwise without ulcers AVMs   strictures or masses seen       Procedures:  None     JEJUNUM - The jejunum was abnormal with a small 2 mm size AVM   however this did not appear to be the same AVM identified on   capsule endoscopy the examination was done up to 40 cm beyond   pylorus further examination could not be possible secondary to   looping no strictures or masses seen       Procedures:  APC CAUTERY PROCEDURE:  The  APC probe was   passed and AVM was completely obliterated.       Complications:  None   Estimated blood loss: None     MEDICATIONS:  Demerol  100 mg and Versed  4.0 mg     BIOPSY SPECIMENS: None     IMPRESSION:    Normal esophagus   Erosions/ulceration at the site of recently taken biopsy in the   stomach   A small 2 mm distal gastric body nonbleeding AVM ablated with   APC   Erosions at the site of biopsies in the duodenum   Jejunum AVM 2 mm nonbleeding treated with APC   The AVM seen on can study was not able to be reached on capsule   endoscopy   Push enteroscopy possible up to 40 cm beyond pylorus       EGD and Colonoscopy 03/10/14:    FINDINGS:   ESOPHAGUS - The mucosa had no ulcers or erosions strictures   masses or varices.       Procedures:  None     STOMACH - Minimal clear fluid was found in the stomach and easily   aspirated   The mucosa was normal with no ulcers erosions AVM\\'s polyps or   masses seen   Mild antral erythema was seen   Notation was made of a shallow and narrow mouthed antral erythema   There was a punctate area of submucosal erythema seen in the   gastric body. This was palpated with a closed biopsy forceps. No')],\n",
       " 'answer': AIMessage(content='```\\n{\\n  \"Mild_to_moderate_esophagitis\": false,\\n  \"GERD\": false,\\n  \"Peptic_Ulcer_Disease\": false,\\n  \"Upper_GI_symptoms\": false,\\n  \"ICU_Stress_Ulcer_Prophylaxis\": false,\\n  \"Barretts_Esophagus\": false,\\n  \"Chronic_NSAID_use_with_bleeding_risk\": false,\\n  \"Severe_esophagitis\": false,\\n  \"Documented_history_of_bleeding_GI_ulcer\": true,\\n  \"H_pylori_infection\": true,\\n  \"Reasoning\": \"The patient has a history of gastrointestinal bleeding and has been diagnosed with H. pylori infection. The patient\\'s recent labs show a low hemoglobin level, indicating anemia. The patient\\'s endoscopy results show mild antral erythema and a punctate area of submucosal erythema in the gastric body. The patient\\'s medical history and current symptoms suggest a high risk for gastrointestinal bleeding.\"\\n}\\n```', response_metadata={'token_usage': {'completion_tokens': 220, 'prompt_tokens': 3677, 'total_tokens': 3897, 'completion_time': 0.895978307, 'prompt_time': 0.961791377, 'queue_time': 0.005710650000000039, 'total_time': 1.857769684}, 'model_name': 'llama-3.1-70b-versatile', 'system_fingerprint': 'fp_b3ae7e594e', 'finish_reason': 'stop', 'logprobs': None}, id='run-96bea565-9385-4a48-9785-378d7bb03b74-0', usage_metadata={'input_tokens': 3677, 'output_tokens': 220, 'total_tokens': 3897})}"
      ]
     },
     "execution_count": 12,
     "metadata": {},
     "output_type": "execute_result"
    }
   ],
   "source": [
    "notes_json"
   ]
  },
  {
   "cell_type": "code",
   "execution_count": 10,
   "metadata": {},
   "outputs": [],
   "source": [
    "def replace_underscores_in_keys(json_obj):\n",
    "    if isinstance(json_obj, dict):\n",
    "        new_obj = {}\n",
    "        for key, value in json_obj.items():\n",
    "            new_key = key.replace('_', ' ')\n",
    "            new_obj[new_key] = replace_underscores_in_keys(value)\n",
    "        return new_obj\n",
    "    elif isinstance(json_obj, list):\n",
    "        return [replace_underscores_in_keys(item) for item in json_obj]\n",
    "    else:\n",
    "        return json_obj"
   ]
  },
  {
   "cell_type": "code",
   "execution_count": null,
   "metadata": {},
   "outputs": [],
   "source": [
    "notes_json = replace_underscores_in_keys(notes_json)\n",
    "notes_json"
   ]
  },
  {
   "cell_type": "code",
   "execution_count": 24,
   "metadata": {},
   "outputs": [],
   "source": [
    "import re\n",
    "\n",
    "def extract_json_content(response):\n",
    "    # Extract content between the curly braces\n",
    "    match = re.search(r'\\{(.*)\\}', response, re.DOTALL)\n",
    "    if match:\n",
    "        return match.group(1).strip()\n",
    "    else:\n",
    "        raise ValueError(\"No JSON content found between curly braces.\")\n",
    "\n",
    "def convert_to_json(response):\n",
    "    # Remove comments from the string\n",
    "    cleaned_response = re.sub(r'//.*', '', response)\n",
    "    # Add curly braces to form a valid JSON object\n",
    "    json_string = '{' + cleaned_response.strip() + '}'\n",
    "    # Parse the JSON string into a dictionary\n",
    "    response_dict = json.loads(json_string)\n",
    "    return response_dict\n"
   ]
  },
  {
   "cell_type": "code",
   "execution_count": null,
   "metadata": {},
   "outputs": [],
   "source": [
    "notes_json_parsed = extract_json_content(notes_json)\n",
    "final_json = convert_to_json(notes_json_parsed)"
   ]
  },
  {
   "cell_type": "code",
   "execution_count": 23,
   "metadata": {},
   "outputs": [],
   "source": [
    "system = \"You are a knowledgeable medical provider who specializes in medication management.\"\n",
    "human = \"{text}\"\n",
    "prompt = ChatPromptTemplate.from_messages(\n",
    "    [(\"system\", system), (\"human\", human)]\n",
    ")\n",
    "\n",
    "chain = prompt | llm_agent.llm\n",
    "response = chain.invoke(\n",
    "    {\n",
    "        \"text\": f\"\"\"Based on the following json files, please provide a single explanation of the reasoning given by the 'Reasoning' key. Summarize given equal \n",
    "        weight to each. Do not add any additional information, only summarize what is given.\n",
    "        {diagnosis_json}\n",
    "        {encounter_json}\n",
    "        {notes_json}\"\"\"\n",
    "    }\n",
    ")"
   ]
  },
  {
   "cell_type": "code",
   "execution_count": null,
   "metadata": {},
   "outputs": [],
   "source": [
    "response.pretty_print()"
   ]
  },
  {
   "cell_type": "code",
   "execution_count": null,
   "metadata": {},
   "outputs": [],
   "source": [
    "response.content"
   ]
  },
  {
   "cell_type": "code",
   "execution_count": 13,
   "metadata": {},
   "outputs": [],
   "source": [
    "from typing import List\n",
    "from langchain.output_parsers import PydanticOutputParser\n",
    "from langchain_core.prompts import PromptTemplate\n",
    "from langchain_core.pydantic_v1 import BaseModel, Field, validator\n",
    "class NoteResponse(BaseModel):\n",
    "            Mild_to_moderate_esoophagitis: bool = Field(description=\"Mild to moderate esoophagitis\")\n",
    "            GERD: bool = Field(description=\"GERD\")\n",
    "            Peptic_Ulcer_Disease: bool = Field(description=\"Peptic Ulcer Disease\")\n",
    "            Upper_GI_symptoms: bool = Field(description=\"Upper GI symptoms\")\n",
    "            ICU_Stress_Ulcer_Prophylaxis: bool = Field(description=\"ICU Stress Ulcer Prophylaxis\")\n",
    "            Barretts_Esophagus: bool = Field(description=\"Barrett's Esophagus\")\n",
    "            Chronic_NSAID_use_with_bleeding_risk: bool = Field(description=\"Chronic NSAID use with bleeding risk\")\n",
    "            Severe_esophagitis: bool = Field(description=\"Severe esophagitis\")\n",
    "            Documented_history_of_bleeding_GI_ulcer: bool = Field(description=\"Documented history of bleeding GI ulcer\")\n",
    "            Reasoning: str = Field(description=\"Explain the reasoning for your answer\")"
   ]
  },
  {
   "cell_type": "code",
   "execution_count": 17,
   "metadata": {},
   "outputs": [
    {
     "data": {
      "text/plain": [
       "'{\\n  \"title\": \"NoteResponse\",\\n  \"type\": \"object\",\\n  \"properties\": {\\n    \"Mild_to_moderate_esoophagitis\": {\\n      \"title\": \"Mild To Moderate Esoophagitis\",\\n      \"description\": \"Mild to moderate esoophagitis\",\\n      \"type\": \"boolean\"\\n    },\\n    \"GERD\": {\\n      \"title\": \"Gerd\",\\n      \"description\": \"GERD\",\\n      \"type\": \"boolean\"\\n    },\\n    \"Peptic_Ulcer_Disease\": {\\n      \"title\": \"Peptic Ulcer Disease\",\\n      \"description\": \"Peptic Ulcer Disease\",\\n      \"type\": \"boolean\"\\n    },\\n    \"Upper_GI_symptoms\": {\\n      \"title\": \"Upper Gi Symptoms\",\\n      \"description\": \"Upper GI symptoms\",\\n      \"type\": \"boolean\"\\n    },\\n    \"ICU_Stress_Ulcer_Prophylaxis\": {\\n      \"title\": \"Icu Stress Ulcer Prophylaxis\",\\n      \"description\": \"ICU Stress Ulcer Prophylaxis\",\\n      \"type\": \"boolean\"\\n    },\\n    \"Barretts_Esophagus\": {\\n      \"title\": \"Barretts Esophagus\",\\n      \"description\": \"Barrett\\'s Esophagus\",\\n      \"type\": \"boolean\"\\n    },\\n    \"Chronic_NSAID_use_with_bleeding_risk\": {\\n      \"title\": \"Chronic Nsaid Use With Bleeding Risk\",\\n      \"description\": \"Chronic NSAID use with bleeding risk\",\\n      \"type\": \"boolean\"\\n    },\\n    \"Severe_esophagitis\": {\\n      \"title\": \"Severe Esophagitis\",\\n      \"description\": \"Severe esophagitis\",\\n      \"type\": \"boolean\"\\n    },\\n    \"Documented_history_of_bleeding_GI_ulcer\": {\\n      \"title\": \"Documented History Of Bleeding Gi Ulcer\",\\n      \"description\": \"Documented history of bleeding GI ulcer\",\\n      \"type\": \"boolean\"\\n    },\\n    \"Reasoning\": {\\n      \"title\": \"Reasoning\",\\n      \"description\": \"Explain the reasoning for your answer\",\\n      \"type\": \"string\"\\n    }\\n  },\\n  \"required\": [\\n    \"Mild_to_moderate_esoophagitis\",\\n    \"GERD\",\\n    \"Peptic_Ulcer_Disease\",\\n    \"Upper_GI_symptoms\",\\n    \"ICU_Stress_Ulcer_Prophylaxis\",\\n    \"Barretts_Esophagus\",\\n    \"Chronic_NSAID_use_with_bleeding_risk\",\\n    \"Severe_esophagitis\",\\n    \"Documented_history_of_bleeding_GI_ulcer\",\\n    \"Reasoning\"\\n  ]\\n}'"
      ]
     },
     "execution_count": 17,
     "metadata": {},
     "output_type": "execute_result"
    }
   ],
   "source": []
  },
  {
   "cell_type": "code",
   "execution_count": null,
   "metadata": {},
   "outputs": [],
   "source": [
    "final_dict = {}\n",
    "for key in diagnosis_json.keys():\n",
    "    #print(key)\n",
    "    if not key == \"Reasoning\":\n",
    "        diagnosis_bool = diagnosis_json[key]\n",
    "        encounter_bool = encounter_json[key]\n",
    "        notes_bool = notes_json[key]\n",
    "        \n",
    "        final_dict[key] = diagnosis_bool or encounter_bool or notes_bool\n",
    "    \n",
    "final_dict"
   ]
  },
  {
   "cell_type": "code",
   "execution_count": null,
   "metadata": {},
   "outputs": [],
   "source": []
  },
  {
   "cell_type": "code",
   "execution_count": 9,
   "metadata": {},
   "outputs": [],
   "source": [
    "# DL = DataLoader(data_path=base_path)"
   ]
  },
  {
   "cell_type": "code",
   "execution_count": 10,
   "metadata": {},
   "outputs": [],
   "source": [
    "# DL.get_label(encounter_key=encounter_key)"
   ]
  },
  {
   "cell_type": "code",
   "execution_count": 11,
   "metadata": {},
   "outputs": [],
   "source": [
    "# DL.get_diagnosis_data(encounter_key=encounter_key)"
   ]
  },
  {
   "cell_type": "code",
   "execution_count": 12,
   "metadata": {},
   "outputs": [],
   "source": [
    "# DL.get_encounter_data(encounter_key=encounter_key)"
   ]
  },
  {
   "cell_type": "code",
   "execution_count": null,
   "metadata": {},
   "outputs": [],
   "source": []
  },
  {
   "cell_type": "code",
   "execution_count": null,
   "metadata": {},
   "outputs": [],
   "source": []
  },
  {
   "cell_type": "code",
   "execution_count": null,
   "metadata": {},
   "outputs": [],
   "source": []
  }
 ],
 "metadata": {
  "kernelspec": {
   "display_name": "capstone",
   "language": "python",
   "name": "python3"
  },
  "language_info": {
   "codemirror_mode": {
    "name": "ipython",
    "version": 3
   },
   "file_extension": ".py",
   "mimetype": "text/x-python",
   "name": "python",
   "nbconvert_exporter": "python",
   "pygments_lexer": "ipython3",
   "version": "3.12.5"
  }
 },
 "nbformat": 4,
 "nbformat_minor": 2
}
