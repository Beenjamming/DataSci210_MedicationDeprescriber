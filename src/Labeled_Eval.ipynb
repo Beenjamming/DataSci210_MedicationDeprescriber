{
 "cells": [
  {
   "cell_type": "code",
   "execution_count": 1,
   "metadata": {},
   "outputs": [
    {
     "name": "stderr",
     "output_type": "stream",
     "text": [
      "f:\\LangChain\\DataSci210_MedicationDeprescriber\\src\\extraction.py:11: LangChainDeprecationWarning: The class `HuggingFaceEmbeddings` was deprecated in LangChain 0.2.2 and will be removed in 1.0. An updated version of the class exists in the langchain-huggingface package and should be used instead. To use it run `pip install -U langchain-huggingface` and import as `from langchain_huggingface import HuggingFaceEmbeddings`.\n",
      "  embeddings = HuggingFaceEmbeddings(model_name=\"NeuML/pubmedbert-base-embeddings\")\n",
      "f:\\LangChain\\.venv\\lib\\site-packages\\sentence_transformers\\cross_encoder\\CrossEncoder.py:13: TqdmExperimentalWarning: Using `tqdm.autonotebook.tqdm` in notebook mode. Use `tqdm.tqdm` instead to force console mode (e.g. in jupyter console)\n",
      "  from tqdm.autonotebook import tqdm, trange\n"
     ]
    }
   ],
   "source": [
    "# 1. Library imports\n",
    "import pandas as pd\n",
    "from IPython.display import Markdown, display\n",
    "from extraction import llmAgent\n",
    "from ppi_deprescribe import merge_results, ppi_deprescribe\n",
    "import os \n",
    "from pathlib import Path \n"
   ]
  },
  {
   "cell_type": "code",
   "execution_count": 2,
   "metadata": {},
   "outputs": [],
   "source": [
    "\n",
    "path = Path('F:/LangChain/data')\n",
    "groq = os.environ['groqkey']\n",
    "pd.set_option('display.max_colwidth', None)"
   ]
  },
  {
   "cell_type": "code",
   "execution_count": 3,
   "metadata": {},
   "outputs": [],
   "source": [
    "\n",
    "def deprescribe(key):\n",
    "    # extract information\n",
    "    llm_agent = llmAgent(groq_key=groq, data_path=path)\n",
    "\n",
    "    results_dict = {\n",
    "        \"diagnosis_dict\": llm_agent.extract_diagnosis(encounter_key=key),\n",
    "        \"encounter_dict\": llm_agent.extract_encounter_info(encounter_key=key),\n",
    "        # Is the reasoning in the json or sepearte?\n",
    "        # Should the reasoning be included in any of them or just the diangosis with the reasoning seperate?\n",
    "        \"notes_dict\": llm_agent.extract_notes(encounter_key=key),\n",
    "    }\n",
    "    print(results_dict['notes_dict'])\n",
    "    # # #   master formatter step   # # #\n",
    "    # merge the diagnosis booleans (just use OR logic for now)\n",
    "    # make a final \"reasoning\" behind the recommendation\n",
    "    final_dict = merge_results(results_dict=results_dict)\n",
    "\n",
    "    # feed the three reasonings to LLM to get a single summary\n",
    "    final_reasoning = llm_agent.summarize_reasonings(results_dict=results_dict)\n",
    "\n",
    "    # # #   get recommendation from PPI algorithm   # # #\n",
    "    recommendation_str = ppi_deprescribe(patient_diagnosis=final_dict)\n",
    "    return recommendation_str, final_reasoning\n",
    "    "
   ]
  },
  {
   "cell_type": "code",
   "execution_count": 4,
   "metadata": {},
   "outputs": [
    {
     "data": {
      "text/html": [
       "<div>\n",
       "<style scoped>\n",
       "    .dataframe tbody tr th:only-of-type {\n",
       "        vertical-align: middle;\n",
       "    }\n",
       "\n",
       "    .dataframe tbody tr th {\n",
       "        vertical-align: top;\n",
       "    }\n",
       "\n",
       "    .dataframe thead th {\n",
       "        text-align: right;\n",
       "    }\n",
       "</style>\n",
       "<table border=\"1\" class=\"dataframe\">\n",
       "  <thead>\n",
       "    <tr style=\"text-align: right;\">\n",
       "      <th></th>\n",
       "      <th>key</th>\n",
       "      <th>reason</th>\n",
       "      <th>recommendation</th>\n",
       "      <th>GS_response</th>\n",
       "      <th>Note</th>\n",
       "    </tr>\n",
       "  </thead>\n",
       "  <tbody>\n",
       "    <tr>\n",
       "      <th>0</th>\n",
       "      <td>D6253A5CE371EA</td>\n",
       "      <td>example with gastrointestinal bleed should continue PPI</td>\n",
       "      <td>continue</td>\n",
       "      <td>This patient has a history of a gastrointestinal bleeding which was present on the admission diagnosis.  The pantoprazole 20mg taken twice daily should be continued.  The GI bleed is mentioned in the note from 09/14/2023, on 09/17/2023, and on 09/20/2023.</td>\n",
       "      <td>NaN</td>\n",
       "    </tr>\n",
       "  </tbody>\n",
       "</table>\n",
       "</div>"
      ],
      "text/plain": [
       "              key                                                   reason  \\\n",
       "0  D6253A5CE371EA  example with gastrointestinal bleed should continue PPI   \n",
       "\n",
       "  recommendation  \\\n",
       "0       continue   \n",
       "\n",
       "                                                                                                                                                                                                                                                       GS_response  \\\n",
       "0  This patient has a history of a gastrointestinal bleeding which was present on the admission diagnosis.  The pantoprazole 20mg taken twice daily should be continued.  The GI bleed is mentioned in the note from 09/14/2023, on 09/17/2023, and on 09/20/2023.   \n",
       "\n",
       "  Note  \n",
       "0  NaN  "
      ]
     },
     "execution_count": 4,
     "metadata": {},
     "output_type": "execute_result"
    }
   ],
   "source": [
    "labeled_data = pd.read_csv('F:/LangChain/data/LabeledResponses.csv')\n",
    "labeled_data = labeled_data.head(1)\n",
    "labeled_data.head()"
   ]
  },
  {
   "cell_type": "code",
   "execution_count": 5,
   "metadata": {},
   "outputs": [
    {
     "name": "stdout",
     "output_type": "stream",
     "text": [
      "{'Mild to moderate esophagitis': False, 'GERD': False, 'Peptic Ulcer Disease': False, 'Upper GI symptoms': False, 'ICU Stress Ulcer Prophylaxis': False, 'Barretts Esophagus': False, 'Chronic NSAID use with bleeding risk': False, 'Severe esophagitis': False, 'Documented history of bleeding GI ulcer': True, 'H pylori infection': True, 'Reasoning': \"The patient has a history of gastrointestinal bleeding and has been diagnosed with H. pylori infection. The patient's recent labs show a low hemoglobin level and a positive H. pylori IgG antibody test. The patient's endoscopy results show a small AVM in the stomach and erosions in the duodenum. The patient's symptoms and test results suggest a high risk for gastrointestinal bleeding.\"}\n"
     ]
    }
   ],
   "source": [
    "def apply_deprescribe(row):\n",
    "    try:\n",
    "        recommendation_str, final_reasoning = deprescribe(row['key'])\n",
    "        return pd.Series([recommendation_str, final_reasoning])\n",
    "    except:\n",
    "        return pd.Series([None, None])\n",
    "\n",
    "labeled_data[['Rec_Returned', 'Reasoning']] = labeled_data.apply(apply_deprescribe, axis=1)"
   ]
  },
  {
   "cell_type": "code",
   "execution_count": 6,
   "metadata": {},
   "outputs": [
    {
     "data": {
      "text/html": [
       "<div>\n",
       "<style scoped>\n",
       "    .dataframe tbody tr th:only-of-type {\n",
       "        vertical-align: middle;\n",
       "    }\n",
       "\n",
       "    .dataframe tbody tr th {\n",
       "        vertical-align: top;\n",
       "    }\n",
       "\n",
       "    .dataframe thead th {\n",
       "        text-align: right;\n",
       "    }\n",
       "</style>\n",
       "<table border=\"1\" class=\"dataframe\">\n",
       "  <thead>\n",
       "    <tr style=\"text-align: right;\">\n",
       "      <th></th>\n",
       "      <th>key</th>\n",
       "      <th>reason</th>\n",
       "      <th>recommendation</th>\n",
       "      <th>GS_response</th>\n",
       "      <th>Note</th>\n",
       "      <th>Rec_Returned</th>\n",
       "      <th>Reasoning</th>\n",
       "    </tr>\n",
       "  </thead>\n",
       "  <tbody>\n",
       "    <tr>\n",
       "      <th>0</th>\n",
       "      <td>D6253A5CE371EA</td>\n",
       "      <td>example with gastrointestinal bleed should continue PPI</td>\n",
       "      <td>continue</td>\n",
       "      <td>This patient has a history of a gastrointestinal bleeding which was present on the admission diagnosis.  The pantoprazole 20mg taken twice daily should be continued.  The GI bleed is mentioned in the note from 09/14/2023, on 09/17/2023, and on 09/20/2023.</td>\n",
       "      <td>NaN</td>\n",
       "      <td>continue</td>\n",
       "      <td>The patient has a documented history of bleeding GI ulcer, as indicated by a primary diagnosis of gastrointestinal hemorrhage, history of gastrointestinal bleeding, and presence of upper GI symptoms. The patient's lab results and endoscopy findings also support this diagnosis. There is no specific information provided about the other conditions, so they are marked as false, except for H. pylori infection in one case, which is confirmed by lab results and endoscopy findings.</td>\n",
       "    </tr>\n",
       "  </tbody>\n",
       "</table>\n",
       "</div>"
      ],
      "text/plain": [
       "              key                                                   reason  \\\n",
       "0  D6253A5CE371EA  example with gastrointestinal bleed should continue PPI   \n",
       "\n",
       "  recommendation  \\\n",
       "0       continue   \n",
       "\n",
       "                                                                                                                                                                                                                                                       GS_response  \\\n",
       "0  This patient has a history of a gastrointestinal bleeding which was present on the admission diagnosis.  The pantoprazole 20mg taken twice daily should be continued.  The GI bleed is mentioned in the note from 09/14/2023, on 09/17/2023, and on 09/20/2023.   \n",
       "\n",
       "  Note Rec_Returned  \\\n",
       "0  NaN     continue   \n",
       "\n",
       "                                                                                                                                                                                                                                                                                                                                                                                                                                                                                        Reasoning  \n",
       "0  The patient has a documented history of bleeding GI ulcer, as indicated by a primary diagnosis of gastrointestinal hemorrhage, history of gastrointestinal bleeding, and presence of upper GI symptoms. The patient's lab results and endoscopy findings also support this diagnosis. There is no specific information provided about the other conditions, so they are marked as false, except for H. pylori infection in one case, which is confirmed by lab results and endoscopy findings.  "
      ]
     },
     "execution_count": 6,
     "metadata": {},
     "output_type": "execute_result"
    }
   ],
   "source": [
    "labeled_data.head()"
   ]
  },
  {
   "cell_type": "code",
   "execution_count": 7,
   "metadata": {},
   "outputs": [],
   "source": [
    "labeled_data.to_csv('F:/LangChain/data/LabeledResponses_ReturnedResponse.csv', index=False)"
   ]
  },
  {
   "cell_type": "code",
   "execution_count": null,
   "metadata": {},
   "outputs": [],
   "source": []
  }
 ],
 "metadata": {
  "kernelspec": {
   "display_name": ".venv",
   "language": "python",
   "name": "python3"
  },
  "language_info": {
   "codemirror_mode": {
    "name": "ipython",
    "version": 3
   },
   "file_extension": ".py",
   "mimetype": "text/x-python",
   "name": "python",
   "nbconvert_exporter": "python",
   "pygments_lexer": "ipython3",
   "version": "3.10.10"
  }
 },
 "nbformat": 4,
 "nbformat_minor": 2
}
