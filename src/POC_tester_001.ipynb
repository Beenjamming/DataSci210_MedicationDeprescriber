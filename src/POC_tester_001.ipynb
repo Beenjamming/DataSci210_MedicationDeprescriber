{
 "cells": [
  {
   "cell_type": "code",
   "execution_count": 1,
   "metadata": {},
   "outputs": [],
   "source": [
    "import pandas as pd\n",
    "import numpy as np\n",
    "from langchain_core.prompts import ChatPromptTemplate\n",
    "from langchain_groq import ChatGroq\n",
    "import os\n",
    "import json\n",
    "from pathlib import Path\n",
    "\n",
    "# define groq key\n",
    "groq_key = (\n",
    "    \"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\"  # os.environ['groqkey']\n",
    ")"
   ]
  },
  {
   "cell_type": "code",
   "execution_count": 2,
   "metadata": {},
   "outputs": [
    {
     "name": "stderr",
     "output_type": "stream",
     "text": [
      "c:\\Users\\grays\\anaconda3\\envs\\capstone\\Lib\\site-packages\\pydantic\\_internal\\_fields.py:161: UserWarning: Field \"model_name\" has conflict with protected namespace \"model_\".\n",
      "\n",
      "You may be able to resolve this warning by setting `model_config['protected_namespaces'] = ()`.\n",
      "  warnings.warn(\n",
      "c:\\Users\\grays\\OneDrive\\Documents\\GitHub\\DataSci210_MedicationDeprescriber\\src\\extraction.py:11: LangChainDeprecationWarning: The class `HuggingFaceEmbeddings` was deprecated in LangChain 0.2.2 and will be removed in 1.0. An updated version of the class exists in the :class:`~langchain-huggingface package and should be used instead. To use it run `pip install -U :class:`~langchain-huggingface` and import as `from :class:`~langchain_huggingface import HuggingFaceEmbeddings``.\n",
      "  embeddings = HuggingFaceEmbeddings(model_name=\"NeuML/pubmedbert-base-embeddings\")\n",
      "c:\\Users\\grays\\anaconda3\\envs\\capstone\\Lib\\site-packages\\sentence_transformers\\cross_encoder\\CrossEncoder.py:13: TqdmExperimentalWarning: Using `tqdm.autonotebook.tqdm` in notebook mode. Use `tqdm.tqdm` instead to force console mode (e.g. in jupyter console)\n",
      "  from tqdm.autonotebook import tqdm, trange\n"
     ]
    }
   ],
   "source": [
    "from extraction import llmAgent\n",
    "from query import DataLoader\n",
    "from main import main"
   ]
  },
  {
   "cell_type": "code",
   "execution_count": 3,
   "metadata": {},
   "outputs": [],
   "source": [
    "# data_path = Path(\n",
    "#     \"/Users/yarg/Library/CloudStorage/OneDrive-Personal/Documents/GitHub/DataSci210_MedicationDeprescriber/Data\"\n",
    "# )\n",
    "data_path = Path(\n",
    "    r\"C:\\Users\\grays\\OneDrive\\Documents\\GitHub\\DataSci210_MedicationDeprescriber\\Data\"\n",
    ")"
   ]
  },
  {
   "cell_type": "code",
   "execution_count": 4,
   "metadata": {},
   "outputs": [],
   "source": [
    "encounter_key=\"D6253A5CE371EA\""
   ]
  },
  {
   "cell_type": "code",
   "execution_count": 5,
   "metadata": {},
   "outputs": [
    {
     "name": "stdout",
     "output_type": "stream",
     "text": [
      "retrieve_docs\n",
      "first=RunnableLambda(lambda x: x['input']) middle=[] last=VectorStoreRetriever(tags=['FAISS', 'HuggingFaceEmbeddings'], vectorstore=<langchain_community.vectorstores.faiss.FAISS object at 0x0000021A57B9F770>, search_kwargs={})\n"
     ]
    },
    {
     "ename": "KeyError",
     "evalue": "'Mild to moderate esoophagitis'",
     "output_type": "error",
     "traceback": [
      "\u001b[1;31m---------------------------------------------------------------------------\u001b[0m",
      "\u001b[1;31mKeyError\u001b[0m                                  Traceback (most recent call last)",
      "Cell \u001b[1;32mIn[5], line 1\u001b[0m\n\u001b[1;32m----> 1\u001b[0m main(groq_key\u001b[38;5;241m=\u001b[39mgroq_key, data_path\u001b[38;5;241m=\u001b[39mdata_path)\n",
      "File \u001b[1;32mc:\\Users\\grays\\OneDrive\\Documents\\GitHub\\DataSci210_MedicationDeprescriber\\src\\main.py:29\u001b[0m, in \u001b[0;36mmain\u001b[1;34m(groq_key, data_path)\u001b[0m\n\u001b[0;32m     18\u001b[0m results_dict \u001b[38;5;241m=\u001b[39m {\n\u001b[0;32m     19\u001b[0m     \u001b[38;5;124m\"\u001b[39m\u001b[38;5;124mdiagnosis_dict\u001b[39m\u001b[38;5;124m\"\u001b[39m: llm_agent\u001b[38;5;241m.\u001b[39mextract_diagnosis(encounter_key\u001b[38;5;241m=\u001b[39mencounter_key),\n\u001b[0;32m     20\u001b[0m     \u001b[38;5;124m\"\u001b[39m\u001b[38;5;124mencounter_dict\u001b[39m\u001b[38;5;124m\"\u001b[39m: llm_agent\u001b[38;5;241m.\u001b[39mextract_encounter_info(encounter_key\u001b[38;5;241m=\u001b[39mencounter_key),\n\u001b[1;32m   (...)\u001b[0m\n\u001b[0;32m     23\u001b[0m     \u001b[38;5;124m\"\u001b[39m\u001b[38;5;124mnotes_dict\u001b[39m\u001b[38;5;124m\"\u001b[39m: llm_agent\u001b[38;5;241m.\u001b[39mextract_notes(encounter_key\u001b[38;5;241m=\u001b[39mencounter_key),\n\u001b[0;32m     24\u001b[0m }\n\u001b[0;32m     26\u001b[0m \u001b[38;5;66;03m# # #   master formatter step   # # #\u001b[39;00m\n\u001b[0;32m     27\u001b[0m \u001b[38;5;66;03m# merge the diagnosis booleans (just use OR logic for now)\u001b[39;00m\n\u001b[0;32m     28\u001b[0m \u001b[38;5;66;03m# make a final \"reasoning\" behind the recommendation\u001b[39;00m\n\u001b[1;32m---> 29\u001b[0m final_dict \u001b[38;5;241m=\u001b[39m merge_results(results_dict\u001b[38;5;241m=\u001b[39mresults_dict)\n\u001b[0;32m     31\u001b[0m \u001b[38;5;66;03m# feed the three reasonings to LLM to get a single summary\u001b[39;00m\n\u001b[0;32m     32\u001b[0m final_reasoning \u001b[38;5;241m=\u001b[39m llm_agent\u001b[38;5;241m.\u001b[39msummarize_reasonings(results_dict\u001b[38;5;241m=\u001b[39mresults_dict)\n",
      "File \u001b[1;32mc:\\Users\\grays\\OneDrive\\Documents\\GitHub\\DataSci210_MedicationDeprescriber\\src\\ppi_deprescribe.py:63\u001b[0m, in \u001b[0;36mmerge_results\u001b[1;34m(results_dict)\u001b[0m\n\u001b[0;32m     61\u001b[0m \u001b[38;5;28;01mif\u001b[39;00m \u001b[38;5;129;01mnot\u001b[39;00m key \u001b[38;5;241m==\u001b[39m \u001b[38;5;124m\"\u001b[39m\u001b[38;5;124mReasoning\u001b[39m\u001b[38;5;124m\"\u001b[39m:\n\u001b[0;32m     62\u001b[0m     diagnosis_bool \u001b[38;5;241m=\u001b[39m diagnosis_dict[key]\n\u001b[1;32m---> 63\u001b[0m     encounter_bool \u001b[38;5;241m=\u001b[39m encounter_dict[key]\n\u001b[0;32m     64\u001b[0m     notes_bool \u001b[38;5;241m=\u001b[39m notes_dict[key]\n\u001b[0;32m     66\u001b[0m     final_dict[key] \u001b[38;5;241m=\u001b[39m diagnosis_bool \u001b[38;5;129;01mor\u001b[39;00m encounter_bool \u001b[38;5;129;01mor\u001b[39;00m notes_bool\n",
      "\u001b[1;31mKeyError\u001b[0m: 'Mild to moderate esoophagitis'"
     ]
    }
   ],
   "source": [
    "main(groq_key=groq_key, data_path=data_path)"
   ]
  },
  {
   "cell_type": "code",
   "execution_count": null,
   "metadata": {},
   "outputs": [],
   "source": []
  },
  {
   "cell_type": "code",
   "execution_count": null,
   "metadata": {},
   "outputs": [],
   "source": []
  },
  {
   "cell_type": "code",
   "execution_count": 8,
   "metadata": {},
   "outputs": [],
   "source": [
    "llm_agent = llmAgent(groq_key=groq_key, data_path=data_path)"
   ]
  },
  {
   "cell_type": "code",
   "execution_count": 9,
   "metadata": {},
   "outputs": [
    {
     "data": {
      "text/plain": [
       "{'Mild to moderate esophagitis': False,\n",
       " 'GERD': False,\n",
       " 'Peptic Ulcer Disease': False,\n",
       " 'Upper GI symptoms': True,\n",
       " 'ICU Stress Ulcer Prophylaxis': False,\n",
       " \"Barrett's Esophagus\": False,\n",
       " 'Chronic NSAID use with bleeding risk': False,\n",
       " 'Severe esophagitis': False,\n",
       " 'Documented history of bleeding GI ulcer': True,\n",
       " 'Reasoning': 'The patient has a documented diagnosis of gastrointestinal bleeding (GIB), which indicates that they have experienced bleeding in the gastrointestinal tract. This suggests that they may have upper GI symptoms and a documented history of bleeding GI ulcer. However, there is no specific information about the other conditions listed.'}"
      ]
     },
     "execution_count": 9,
     "metadata": {},
     "output_type": "execute_result"
    }
   ],
   "source": [
    "diagnosis_json = llm_agent.extract_diagnosis(encounter_key=encounter_key)\n",
    "diagnosis_json"
   ]
  },
  {
   "cell_type": "code",
   "execution_count": 10,
   "metadata": {},
   "outputs": [
    {
     "data": {
      "text/plain": [
       "{'Mild to moderate esophagitis': False,\n",
       " 'GERD': False,\n",
       " 'Peptic Ulcer Disease': False,\n",
       " 'Upper GI symptoms': False,\n",
       " 'ICU Stress Ulcer Prophylaxis': False,\n",
       " \"Barrett's Esophagus\": False,\n",
       " 'Chronic NSAID use with bleeding risk': False,\n",
       " 'Severe esophagitis': False,\n",
       " 'Documented history of bleeding GI ulcer': True,\n",
       " 'Reasoning': \"The patient's primary diagnosis is 'Gastrointestinal hemorrhage, unspecified', which suggests that the patient has experienced bleeding in the gastrointestinal tract. However, the specific cause or underlying condition is not specified in the provided information. Therefore, we can only confirm the presence of a documented history of bleeding GI ulcer based on the primary diagnosis.\"}"
      ]
     },
     "execution_count": 10,
     "metadata": {},
     "output_type": "execute_result"
    }
   ],
   "source": [
    "encounter_json = llm_agent.extract_encounter_info(encounter_key=encounter_key)\n",
    "encounter_json"
   ]
  },
  {
   "cell_type": "code",
   "execution_count": 11,
   "metadata": {},
   "outputs": [
    {
     "data": {
      "text/plain": [
       "{'Mild to moderate esophagitis': False,\n",
       " 'GERD': False,\n",
       " 'Peptic Ulcer Disease': False,\n",
       " 'Upper GI symptoms': True,\n",
       " 'ICU Stress Ulcer Prophylaxis': False,\n",
       " \"Barrett's Esophagus\": False,\n",
       " 'Chronic NSAID use with bleeding risk': False,\n",
       " 'Severe esophagitis': False,\n",
       " 'Documented history of bleeding GI ulcer': True,\n",
       " 'Reasoning': \"The patient has a history of AVMs (arteriovenous malformations) and has undergone APC (argon plasma coagulation) procedures to treat them. The patient also has a history of slow ooze in the past, which suggests a history of bleeding GI ulcer. Additionally, the patient has been experiencing melena and anemia, which are symptoms of upper GI bleeding. However, there is no mention of esophagitis, GERD, peptic ulcer disease, Barrett's esophagus, or chronic NSAID use in the patient's notes.\"}"
      ]
     },
     "execution_count": 11,
     "metadata": {},
     "output_type": "execute_result"
    }
   ],
   "source": [
    "notes_json = llm_agent.extract_notes(encounter_key=encounter_key)\n",
    "notes_json"
   ]
  },
  {
   "cell_type": "code",
   "execution_count": 25,
   "metadata": {},
   "outputs": [
    {
     "data": {
      "text/plain": [
       "dict"
      ]
     },
     "execution_count": 25,
     "metadata": {},
     "output_type": "execute_result"
    }
   ],
   "source": [
    "type(notes_json)"
   ]
  },
  {
   "cell_type": "code",
   "execution_count": 23,
   "metadata": {},
   "outputs": [],
   "source": [
    "system = \"You are a knowledgeable medical provider who specializes in medication management.\"\n",
    "human = \"{text}\"\n",
    "prompt = ChatPromptTemplate.from_messages(\n",
    "    [(\"system\", system), (\"human\", human)]\n",
    ")\n",
    "\n",
    "chain = prompt | llm_agent.llm\n",
    "response = chain.invoke(\n",
    "    {\n",
    "        \"text\": f\"\"\"Based on the following json files, please provide a single explanation of the reasoning given by the 'Reasoning' key. Summarize given equal \n",
    "        weight to each. Do not add any additional information, only summarize what is given.\n",
    "        {diagnosis_json}\n",
    "        {encounter_json}\n",
    "        {notes_json}\"\"\"\n",
    "    }\n",
    ")"
   ]
  },
  {
   "cell_type": "code",
   "execution_count": 24,
   "metadata": {},
   "outputs": [
    {
     "name": "stdout",
     "output_type": "stream",
     "text": [
      "==================================\u001b[1m Ai Message \u001b[0m==================================\n",
      "\n",
      "The patient has a documented history of bleeding gastrointestinal (GI) ulcer, as indicated by their primary diagnosis of gastrointestinal hemorrhage or bleeding, and symptoms such as melena and anemia. The patient's medical history, including the presence of arteriovenous malformations (AVMs) and slow ooze, also supports this diagnosis. However, there is no specific information about other conditions such as esophagitis, GERD, peptic ulcer disease, Barrett's esophagus, or chronic NSAID use.\n"
     ]
    }
   ],
   "source": [
    "response.pretty_print()"
   ]
  },
  {
   "cell_type": "code",
   "execution_count": 20,
   "metadata": {},
   "outputs": [
    {
     "data": {
      "text/plain": [
       "\"Based on the provided JSON files, the reasoning behind the 'Reasoning' key can be summarized as follows:\\n\\nThe patient has a documented history of gastrointestinal bleeding (GIB) or gastrointestinal hemorrhage, which is the primary indication for a documented history of bleeding GI ulcer. This is supported by the patient's primary diagnosis, medical history, and symptoms such as melena and anemia. However, the specific cause or underlying condition of the bleeding is not specified in the provided information, and there is no mention of other conditions such as esophagitis, GERD, peptic ulcer disease, Barrett's esophagus, or chronic NSAID use. The patient's symptoms and medical history suggest the presence of upper GI symptoms, but this is not consistently confirmed across all three JSON files.\\n\\nIn terms of medication management, this information suggests that the patient may require medications to prevent future gastrointestinal bleeding, such as proton pump inhibitors (PPIs) or histamine-2 (H2) blockers. However, the specific medication regimen would depend on the underlying cause of the bleeding and the patient's individual needs.\""
      ]
     },
     "execution_count": 20,
     "metadata": {},
     "output_type": "execute_result"
    }
   ],
   "source": [
    "response.content"
   ]
  },
  {
   "cell_type": "code",
   "execution_count": null,
   "metadata": {},
   "outputs": [],
   "source": []
  },
  {
   "cell_type": "code",
   "execution_count": 12,
   "metadata": {},
   "outputs": [
    {
     "data": {
      "text/plain": [
       "{'Mild to moderate esophagitis': False,\n",
       " 'GERD': False,\n",
       " 'Peptic Ulcer Disease': False,\n",
       " 'Upper GI symptoms': True,\n",
       " 'ICU Stress Ulcer Prophylaxis': False,\n",
       " \"Barrett's Esophagus\": False,\n",
       " 'Chronic NSAID use with bleeding risk': False,\n",
       " 'Severe esophagitis': False,\n",
       " 'Documented history of bleeding GI ulcer': True}"
      ]
     },
     "execution_count": 12,
     "metadata": {},
     "output_type": "execute_result"
    }
   ],
   "source": [
    "final_dict = {}\n",
    "for key in diagnosis_json.keys():\n",
    "    #print(key)\n",
    "    if not key == \"Reasoning\":\n",
    "        diagnosis_bool = diagnosis_json[key]\n",
    "        encounter_bool = encounter_json[key]\n",
    "        notes_bool = notes_json[key]\n",
    "        \n",
    "        final_dict[key] = diagnosis_bool or encounter_bool or notes_bool\n",
    "    \n",
    "final_dict"
   ]
  },
  {
   "cell_type": "code",
   "execution_count": null,
   "metadata": {},
   "outputs": [],
   "source": []
  },
  {
   "cell_type": "code",
   "execution_count": 9,
   "metadata": {},
   "outputs": [],
   "source": [
    "# DL = DataLoader(data_path=base_path)"
   ]
  },
  {
   "cell_type": "code",
   "execution_count": 10,
   "metadata": {},
   "outputs": [],
   "source": [
    "# DL.get_label(encounter_key=encounter_key)"
   ]
  },
  {
   "cell_type": "code",
   "execution_count": 11,
   "metadata": {},
   "outputs": [],
   "source": [
    "# DL.get_diagnosis_data(encounter_key=encounter_key)"
   ]
  },
  {
   "cell_type": "code",
   "execution_count": 12,
   "metadata": {},
   "outputs": [],
   "source": [
    "# DL.get_encounter_data(encounter_key=encounter_key)"
   ]
  },
  {
   "cell_type": "code",
   "execution_count": null,
   "metadata": {},
   "outputs": [],
   "source": []
  },
  {
   "cell_type": "code",
   "execution_count": null,
   "metadata": {},
   "outputs": [],
   "source": []
  },
  {
   "cell_type": "code",
   "execution_count": null,
   "metadata": {},
   "outputs": [],
   "source": []
  }
 ],
 "metadata": {
  "kernelspec": {
   "display_name": "capstone",
   "language": "python",
   "name": "python3"
  },
  "language_info": {
   "codemirror_mode": {
    "name": "ipython",
    "version": 3
   },
   "file_extension": ".py",
   "mimetype": "text/x-python",
   "name": "python",
   "nbconvert_exporter": "python",
   "pygments_lexer": "ipython3",
   "version": "3.12.5"
  }
 },
 "nbformat": 4,
 "nbformat_minor": 2
}
