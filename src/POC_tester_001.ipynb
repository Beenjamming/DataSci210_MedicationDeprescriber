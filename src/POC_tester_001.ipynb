{
 "cells": [
  {
   "cell_type": "code",
   "execution_count": 1,
   "metadata": {},
   "outputs": [],
   "source": [
    "import pandas as pd\n",
    "import numpy as np\n",
    "from langchain_core.prompts import ChatPromptTemplate\n",
    "from langchain_groq import ChatGroq\n",
    "import os\n",
    "import json\n",
    "from pathlib import Path\n",
    "\n",
    "# define groq key\n",
    "groq_key = (\n",
    "     os.environ['groqkey']\n",
    ")"
   ]
  },
  {
   "cell_type": "code",
   "execution_count": 2,
   "metadata": {},
   "outputs": [
    {
     "name": "stderr",
     "output_type": "stream",
     "text": [
      "f:\\LangChain\\DataSci210_MedicationDeprescriber\\src\\extraction.py:11: LangChainDeprecationWarning: The class `HuggingFaceEmbeddings` was deprecated in LangChain 0.2.2 and will be removed in 1.0. An updated version of the class exists in the langchain-huggingface package and should be used instead. To use it run `pip install -U langchain-huggingface` and import as `from langchain_huggingface import HuggingFaceEmbeddings`.\n",
      "  embeddings = HuggingFaceEmbeddings(model_name=\"NeuML/pubmedbert-base-embeddings\")\n",
      "f:\\LangChain\\.venv\\lib\\site-packages\\sentence_transformers\\cross_encoder\\CrossEncoder.py:13: TqdmExperimentalWarning: Using `tqdm.autonotebook.tqdm` in notebook mode. Use `tqdm.tqdm` instead to force console mode (e.g. in jupyter console)\n",
      "  from tqdm.autonotebook import tqdm, trange\n"
     ]
    }
   ],
   "source": [
    "from extraction import llmAgent\n",
    "from query import DataLoader\n",
    "from main import main"
   ]
  },
  {
   "cell_type": "code",
   "execution_count": 3,
   "metadata": {},
   "outputs": [],
   "source": [
    "# base_path = Path(\n",
    "#     \"/Users/yarg/Library/CloudStorage/OneDrive-Personal/Documents/GitHub/DataSci210_MedicationDeprescriber/Data\"\n",
    "# )\n",
    "data_path = Path(\n",
    "    r\"F:\\LangChain\\data\"\n",
    ")"
   ]
  },
  {
   "cell_type": "code",
   "execution_count": 4,
   "metadata": {},
   "outputs": [],
   "source": [
    "encounter_key=\"D6253A5CE371EA\""
   ]
  },
  {
   "cell_type": "code",
   "execution_count": 5,
   "metadata": {},
   "outputs": [],
   "source": [
    "#main(groq_key=groq_key, data_path=data_path,key=encounter_key)"
   ]
  },
  {
   "cell_type": "code",
   "execution_count": 6,
   "metadata": {},
   "outputs": [],
   "source": [
    "llm_agent = llmAgent(groq_key=groq_key, data_path=data_path)"
   ]
  },
  {
   "cell_type": "code",
   "execution_count": 7,
   "metadata": {},
   "outputs": [
    {
     "data": {
      "text/plain": [
       "{'Mild to moderate esophagitis': False,\n",
       " 'GERD': False,\n",
       " 'Peptic Ulcer Disease': False,\n",
       " 'Upper GI symptoms': True,\n",
       " 'ICU Stress Ulcer Prophylaxis': False,\n",
       " 'Barretts Esophagus': False,\n",
       " 'Chronic NSAID use with bleeding risk': False,\n",
       " 'Severe esophagitis': False,\n",
       " 'Documented history of bleeding GI ulcer': True,\n",
       " 'Reasoning': 'The patient has a diagnosis of gastrointestinal bleeding (GIB), which indicates that they have experienced bleeding in the gastrointestinal tract. This is consistent with upper GI symptoms and a documented history of bleeding GI ulcer. However, there is no specific information about the other conditions listed, so they are marked as false.'}"
      ]
     },
     "execution_count": 7,
     "metadata": {},
     "output_type": "execute_result"
    }
   ],
   "source": [
    "diagnosis_json = llm_agent.extract_diagnosis(encounter_key=encounter_key)\n",
    "diagnosis_json"
   ]
  },
  {
   "cell_type": "code",
   "execution_count": 8,
   "metadata": {},
   "outputs": [
    {
     "data": {
      "text/plain": [
       "{'Mild to moderate esophagitis': False,\n",
       " 'GERD': False,\n",
       " 'Peptic Ulcer Disease': False,\n",
       " 'Upper GI symptoms': False,\n",
       " 'ICU Stress Ulcer Prophylaxis': False,\n",
       " 'Barretts Esophagus': False,\n",
       " 'Chronic NSAID use with bleeding risk': False,\n",
       " 'Severe esophagitis': False,\n",
       " 'Documented history of bleeding GI ulcer': True,\n",
       " 'Reasoning': \"The patient's primary diagnosis is listed as 'Gastrointestinal hemorrhage, unspecified', which suggests a history of bleeding in the gastrointestinal tract. However, there is no specific information about the other conditions listed. Therefore, we can only confirm the presence of a documented history of bleeding GI ulcer based on the provided information.\"}"
      ]
     },
     "execution_count": 8,
     "metadata": {},
     "output_type": "execute_result"
    }
   ],
   "source": [
    "encounter_json = llm_agent.extract_encounter_info(encounter_key=encounter_key)\n",
    "encounter_json"
   ]
  },
  {
   "cell_type": "code",
   "execution_count": 9,
   "metadata": {},
   "outputs": [
    {
     "data": {
      "text/plain": [
       "{'Mild to moderate esophagitis': False,\n",
       " 'GERD': False,\n",
       " 'Peptic Ulcer Disease': False,\n",
       " 'Upper GI symptoms': True,\n",
       " 'ICU Stress Ulcer Prophylaxis': False,\n",
       " 'Barretts Esophagus': False,\n",
       " 'Chronic NSAID use with bleeding risk': False,\n",
       " 'Severe esophagitis': False,\n",
       " 'Documented history of bleeding GI ulcer': True,\n",
       " 'Reasoning': \"The patient has a history of gastrointestinal bleeding and has been diagnosed with anemia. The patient's recent endoscopy and colonoscopy results show no active bleeding, but the patient's history of bleeding and anemia suggests a high risk for future bleeding. The patient's medications, including anticoagulants and antiplatelets, increase the risk of bleeding. The patient's condition requires close monitoring and management to prevent future bleeding.\"}"
      ]
     },
     "execution_count": 9,
     "metadata": {},
     "output_type": "execute_result"
    }
   ],
   "source": [
    "notes_json = llm_agent.extract_notes(encounter_key=encounter_key)\n",
    "notes_json"
   ]
  },
  {
   "cell_type": "code",
   "execution_count": null,
   "metadata": {},
   "outputs": [],
   "source": []
  },
  {
   "cell_type": "code",
   "execution_count": 10,
   "metadata": {},
   "outputs": [],
   "source": [
    "def replace_underscores_in_keys(json_obj):\n",
    "    if isinstance(json_obj, dict):\n",
    "        new_obj = {}\n",
    "        for key, value in json_obj.items():\n",
    "            new_key = key.replace('_', ' ')\n",
    "            new_obj[new_key] = replace_underscores_in_keys(value)\n",
    "        return new_obj\n",
    "    elif isinstance(json_obj, list):\n",
    "        return [replace_underscores_in_keys(item) for item in json_obj]\n",
    "    else:\n",
    "        return json_obj"
   ]
  },
  {
   "cell_type": "code",
   "execution_count": null,
   "metadata": {},
   "outputs": [],
   "source": [
    "notes_json = replace_underscores_in_keys(notes_json)\n",
    "notes_json"
   ]
  },
  {
   "cell_type": "code",
   "execution_count": 24,
   "metadata": {},
   "outputs": [],
   "source": [
    "import re\n",
    "\n",
    "def extract_json_content(response):\n",
    "    # Extract content between the curly braces\n",
    "    match = re.search(r'\\{(.*)\\}', response, re.DOTALL)\n",
    "    if match:\n",
    "        return match.group(1).strip()\n",
    "    else:\n",
    "        raise ValueError(\"No JSON content found between curly braces.\")\n",
    "\n",
    "def convert_to_json(response):\n",
    "    # Remove comments from the string\n",
    "    cleaned_response = re.sub(r'//.*', '', response)\n",
    "    # Add curly braces to form a valid JSON object\n",
    "    json_string = '{' + cleaned_response.strip() + '}'\n",
    "    # Parse the JSON string into a dictionary\n",
    "    response_dict = json.loads(json_string)\n",
    "    return response_dict\n"
   ]
  },
  {
   "cell_type": "code",
   "execution_count": null,
   "metadata": {},
   "outputs": [],
   "source": [
    "notes_json_parsed = extract_json_content(notes_json)\n",
    "final_json = convert_to_json(notes_json_parsed)"
   ]
  },
  {
   "cell_type": "code",
   "execution_count": 23,
   "metadata": {},
   "outputs": [],
   "source": [
    "system = \"You are a knowledgeable medical provider who specializes in medication management.\"\n",
    "human = \"{text}\"\n",
    "prompt = ChatPromptTemplate.from_messages(\n",
    "    [(\"system\", system), (\"human\", human)]\n",
    ")\n",
    "\n",
    "chain = prompt | llm_agent.llm\n",
    "response = chain.invoke(\n",
    "    {\n",
    "        \"text\": f\"\"\"Based on the following json files, please provide a single explanation of the reasoning given by the 'Reasoning' key. Summarize given equal \n",
    "        weight to each. Do not add any additional information, only summarize what is given.\n",
    "        {diagnosis_json}\n",
    "        {encounter_json}\n",
    "        {notes_json}\"\"\"\n",
    "    }\n",
    ")"
   ]
  },
  {
   "cell_type": "code",
   "execution_count": null,
   "metadata": {},
   "outputs": [],
   "source": [
    "response.pretty_print()"
   ]
  },
  {
   "cell_type": "code",
   "execution_count": null,
   "metadata": {},
   "outputs": [],
   "source": [
    "response.content"
   ]
  },
  {
   "cell_type": "code",
   "execution_count": 13,
   "metadata": {},
   "outputs": [],
   "source": [
    "from typing import List\n",
    "from langchain.output_parsers import PydanticOutputParser\n",
    "from langchain_core.prompts import PromptTemplate\n",
    "from langchain_core.pydantic_v1 import BaseModel, Field, validator\n",
    "class NoteResponse(BaseModel):\n",
    "            Mild_to_moderate_esoophagitis: bool = Field(description=\"Mild to moderate esoophagitis\")\n",
    "            GERD: bool = Field(description=\"GERD\")\n",
    "            Peptic_Ulcer_Disease: bool = Field(description=\"Peptic Ulcer Disease\")\n",
    "            Upper_GI_symptoms: bool = Field(description=\"Upper GI symptoms\")\n",
    "            ICU_Stress_Ulcer_Prophylaxis: bool = Field(description=\"ICU Stress Ulcer Prophylaxis\")\n",
    "            Barretts_Esophagus: bool = Field(description=\"Barrett's Esophagus\")\n",
    "            Chronic_NSAID_use_with_bleeding_risk: bool = Field(description=\"Chronic NSAID use with bleeding risk\")\n",
    "            Severe_esophagitis: bool = Field(description=\"Severe esophagitis\")\n",
    "            Documented_history_of_bleeding_GI_ulcer: bool = Field(description=\"Documented history of bleeding GI ulcer\")\n",
    "            Reasoning: str = Field(description=\"Explain the reasoning for your answer\")"
   ]
  },
  {
   "cell_type": "code",
   "execution_count": 17,
   "metadata": {},
   "outputs": [
    {
     "data": {
      "text/plain": [
       "'{\\n  \"title\": \"NoteResponse\",\\n  \"type\": \"object\",\\n  \"properties\": {\\n    \"Mild_to_moderate_esoophagitis\": {\\n      \"title\": \"Mild To Moderate Esoophagitis\",\\n      \"description\": \"Mild to moderate esoophagitis\",\\n      \"type\": \"boolean\"\\n    },\\n    \"GERD\": {\\n      \"title\": \"Gerd\",\\n      \"description\": \"GERD\",\\n      \"type\": \"boolean\"\\n    },\\n    \"Peptic_Ulcer_Disease\": {\\n      \"title\": \"Peptic Ulcer Disease\",\\n      \"description\": \"Peptic Ulcer Disease\",\\n      \"type\": \"boolean\"\\n    },\\n    \"Upper_GI_symptoms\": {\\n      \"title\": \"Upper Gi Symptoms\",\\n      \"description\": \"Upper GI symptoms\",\\n      \"type\": \"boolean\"\\n    },\\n    \"ICU_Stress_Ulcer_Prophylaxis\": {\\n      \"title\": \"Icu Stress Ulcer Prophylaxis\",\\n      \"description\": \"ICU Stress Ulcer Prophylaxis\",\\n      \"type\": \"boolean\"\\n    },\\n    \"Barretts_Esophagus\": {\\n      \"title\": \"Barretts Esophagus\",\\n      \"description\": \"Barrett\\'s Esophagus\",\\n      \"type\": \"boolean\"\\n    },\\n    \"Chronic_NSAID_use_with_bleeding_risk\": {\\n      \"title\": \"Chronic Nsaid Use With Bleeding Risk\",\\n      \"description\": \"Chronic NSAID use with bleeding risk\",\\n      \"type\": \"boolean\"\\n    },\\n    \"Severe_esophagitis\": {\\n      \"title\": \"Severe Esophagitis\",\\n      \"description\": \"Severe esophagitis\",\\n      \"type\": \"boolean\"\\n    },\\n    \"Documented_history_of_bleeding_GI_ulcer\": {\\n      \"title\": \"Documented History Of Bleeding Gi Ulcer\",\\n      \"description\": \"Documented history of bleeding GI ulcer\",\\n      \"type\": \"boolean\"\\n    },\\n    \"Reasoning\": {\\n      \"title\": \"Reasoning\",\\n      \"description\": \"Explain the reasoning for your answer\",\\n      \"type\": \"string\"\\n    }\\n  },\\n  \"required\": [\\n    \"Mild_to_moderate_esoophagitis\",\\n    \"GERD\",\\n    \"Peptic_Ulcer_Disease\",\\n    \"Upper_GI_symptoms\",\\n    \"ICU_Stress_Ulcer_Prophylaxis\",\\n    \"Barretts_Esophagus\",\\n    \"Chronic_NSAID_use_with_bleeding_risk\",\\n    \"Severe_esophagitis\",\\n    \"Documented_history_of_bleeding_GI_ulcer\",\\n    \"Reasoning\"\\n  ]\\n}'"
      ]
     },
     "execution_count": 17,
     "metadata": {},
     "output_type": "execute_result"
    }
   ],
   "source": []
  },
  {
   "cell_type": "code",
   "execution_count": null,
   "metadata": {},
   "outputs": [],
   "source": [
    "final_dict = {}\n",
    "for key in diagnosis_json.keys():\n",
    "    #print(key)\n",
    "    if not key == \"Reasoning\":\n",
    "        diagnosis_bool = diagnosis_json[key]\n",
    "        encounter_bool = encounter_json[key]\n",
    "        notes_bool = notes_json[key]\n",
    "        \n",
    "        final_dict[key] = diagnosis_bool or encounter_bool or notes_bool\n",
    "    \n",
    "final_dict"
   ]
  },
  {
   "cell_type": "code",
   "execution_count": null,
   "metadata": {},
   "outputs": [],
   "source": []
  },
  {
   "cell_type": "code",
   "execution_count": 9,
   "metadata": {},
   "outputs": [],
   "source": [
    "# DL = DataLoader(data_path=base_path)"
   ]
  },
  {
   "cell_type": "code",
   "execution_count": 10,
   "metadata": {},
   "outputs": [],
   "source": [
    "# DL.get_label(encounter_key=encounter_key)"
   ]
  },
  {
   "cell_type": "code",
   "execution_count": 11,
   "metadata": {},
   "outputs": [],
   "source": [
    "# DL.get_diagnosis_data(encounter_key=encounter_key)"
   ]
  },
  {
   "cell_type": "code",
   "execution_count": 12,
   "metadata": {},
   "outputs": [],
   "source": [
    "# DL.get_encounter_data(encounter_key=encounter_key)"
   ]
  },
  {
   "cell_type": "code",
   "execution_count": null,
   "metadata": {},
   "outputs": [],
   "source": []
  },
  {
   "cell_type": "code",
   "execution_count": null,
   "metadata": {},
   "outputs": [],
   "source": []
  },
  {
   "cell_type": "code",
   "execution_count": null,
   "metadata": {},
   "outputs": [],
   "source": []
  }
 ],
 "metadata": {
  "kernelspec": {
   "display_name": ".venv",
   "language": "python",
   "name": "python3"
  },
  "language_info": {
   "codemirror_mode": {
    "name": "ipython",
    "version": 3
   },
   "file_extension": ".py",
   "mimetype": "text/x-python",
   "name": "python",
   "nbconvert_exporter": "python",
   "pygments_lexer": "ipython3",
   "version": "3.10.10"
  }
 },
 "nbformat": 4,
 "nbformat_minor": 2
}
