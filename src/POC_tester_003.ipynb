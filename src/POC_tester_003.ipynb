{
 "cells": [
  {
   "cell_type": "code",
   "execution_count": 1,
   "metadata": {},
   "outputs": [],
   "source": [
    "import pandas as pd\n",
    "import numpy as np\n",
    "from langchain_core.prompts import ChatPromptTemplate\n",
    "from langchain_groq import ChatGroq\n",
    "import os\n",
    "import json\n",
    "from pathlib import Path\n",
    "import pprint"
   ]
  },
  {
   "cell_type": "code",
   "execution_count": 2,
   "metadata": {},
   "outputs": [],
   "source": [
    "groq_key = \"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\""
   ]
  },
  {
   "cell_type": "code",
   "execution_count": 3,
   "metadata": {},
   "outputs": [
    {
     "name": "stderr",
     "output_type": "stream",
     "text": [
      "/Users/yarg/Library/CloudStorage/OneDrive-Personal/Documents/GitHub/DataSci210_MedicationDeprescriber/src/extraction.py:16: LangChainDeprecationWarning: The class `HuggingFaceEmbeddings` was deprecated in LangChain 0.2.2 and will be removed in 1.0. An updated version of the class exists in the :class:`~langchain-huggingface package and should be used instead. To use it run `pip install -U :class:`~langchain-huggingface` and import as `from :class:`~langchain_huggingface import HuggingFaceEmbeddings``.\n",
      "  embeddings = HuggingFaceEmbeddings(model_name=\"NeuML/pubmedbert-base-embeddings\")\n",
      "/opt/anaconda3/envs/capstone/lib/python3.12/site-packages/sentence_transformers/cross_encoder/CrossEncoder.py:13: TqdmExperimentalWarning: Using `tqdm.autonotebook.tqdm` in notebook mode. Use `tqdm.tqdm` instead to force console mode (e.g. in jupyter console)\n",
      "  from tqdm.autonotebook import tqdm, trange\n"
     ]
    }
   ],
   "source": [
    "from extraction import llmAgent\n",
    "from query import DataLoader\n",
    "from main import main"
   ]
  },
  {
   "cell_type": "code",
   "execution_count": 4,
   "metadata": {},
   "outputs": [],
   "source": [
    "data_path = Path(\n",
    "    # r\"C:\\Users\\grays\\OneDrive\\Documents\\GitHub\\DataSci210_MedicationDeprescriber\\Data\"\n",
    "    \"/Users/yarg/Library/CloudStorage/OneDrive-Personal/Documents/GitHub/DataSci210_MedicationDeprescriber/Data\"\n",
    ")"
   ]
  },
  {
   "cell_type": "code",
   "execution_count": 5,
   "metadata": {},
   "outputs": [],
   "source": [
    "encounter_key = \"SyntheticPt3\""
   ]
  },
  {
   "cell_type": "code",
   "execution_count": 6,
   "metadata": {},
   "outputs": [],
   "source": [
    "final_explanation, token_usage, search_history_thus_far_list, token_count_history = (\n",
    "    main(groq_key=groq_key, data_path=data_path, encounter_key=encounter_key)\n",
    ")"
   ]
  },
  {
   "cell_type": "code",
   "execution_count": 7,
   "metadata": {},
   "outputs": [
    {
     "name": "stdout",
     "output_type": "stream",
     "text": [
      "('**Medication Management Summary**\\n'\n",
      " '\\n'\n",
      " \"Based on the patient's health information extracted from the patient \"\n",
      " 'diagnosis record, patient encounter record, and patient medical notes '\n",
      " \"history, the following recommendations are made for the patient's current \"\n",
      " 'medication regimen:\\n'\n",
      " '\\n'\n",
      " '* **Continue**: The patient is receiving Pantoprazole 40 mg daily for stress '\n",
      " 'ulcer prophylaxis due to hemodynamic instability in the ICU setting with '\n",
      " 'acute myocardial infarction and atrial fibrillation (identified in the '\n",
      " 'Patient notes history). This is consistent with standard ICU practice for '\n",
      " 'patients with hemodynamic instability.\\n'\n",
      " '* **Stop**: There is no direct evidence to support the use of a PPI for '\n",
      " 'Peptic Ulcer Disease or Gastroduodenal ulcer, Upper GI Symptoms, ICU Stress '\n",
      " 'Ulcer Prophylaxis, or Completed Heliobacter Pylori (H. Pylori) infection '\n",
      " '(identified in the Patient diagnosis record and Patient encounter record). '\n",
      " 'However, the patient is receiving Pantoprazole 40 mg daily for stress ulcer '\n",
      " 'prophylaxis, which is a valid indication.\\n'\n",
      " '* **Deprescribe**: There is no evidence to support a diagnosis of mild to '\n",
      " 'moderate esophagitis or esophageal inflammation, or treated Gastroesophageal '\n",
      " 'Reflux Disease (GERD) or reflux symptoms such as acid reflux, heartburn, or '\n",
      " 'regurgitation (identified in the Patient diagnosis record, Patient encounter '\n",
      " 'record, and Patient notes history).\\n'\n",
      " '\\n'\n",
      " \"**Recommendation**: Based on the patient's current health information, it is \"\n",
      " \"recommended to **continue** the patient's current medication regimen of \"\n",
      " 'Pantoprazole 40 mg daily for stress ulcer prophylaxis due to hemodynamic '\n",
      " 'instability in the ICU setting with acute myocardial infarction and atrial '\n",
      " \"fibrillation. However, the patient's medication regimen should be \"\n",
      " 're-evaluated once the patient is stable and no longer requires stress ulcer '\n",
      " 'prophylaxis.')\n"
     ]
    }
   ],
   "source": [
    "pprint.pprint(final_explanation)"
   ]
  },
  {
   "cell_type": "code",
   "execution_count": 8,
   "metadata": {},
   "outputs": [
    {
     "data": {
      "text/plain": [
       "9029"
      ]
     },
     "execution_count": 8,
     "metadata": {},
     "output_type": "execute_result"
    }
   ],
   "source": [
    "token_usage"
   ]
  },
  {
   "cell_type": "code",
   "execution_count": 9,
   "metadata": {},
   "outputs": [
    {
     "data": {
      "text/plain": [
       "{'diagnosis_source_continue': 692,\n",
       " 'diagnosis_source_stop': 690,\n",
       " 'diagnosis_source_deprescribe': 614,\n",
       " 'encounters_source_continue': 724,\n",
       " 'encounters_source_stop': 722,\n",
       " 'encounters_source_deprescribe': 663,\n",
       " 'notes_source_continue': 831,\n",
       " 'notes_source_stop': 790,\n",
       " 'notes_source_deprescribe': 769,\n",
       " 'final_summary': 2534}"
      ]
     },
     "execution_count": 9,
     "metadata": {},
     "output_type": "execute_result"
    }
   ],
   "source": [
    "token_count_history"
   ]
  },
  {
   "cell_type": "code",
   "execution_count": 10,
   "metadata": {},
   "outputs": [
    {
     "data": {
      "text/plain": [
       "[{'diagnosis_boolean': 'False',\n",
       "  'explanation': \"The provided information does not include any evidence of Barrett's Esophagus or esophageal cell changes, Chronic Non-Steroidal Anti Inflammatory (NSAID) use or GI prophylaxis NSAID use, Severe esophagitis including bleeding esophagitis or esophageal ulcer, or History of gastrointestinal bleeding, gastric ulcer, upper GI bleed, or peptic ulcer hemorrhage. The listed diagnoses include Urinary Tract Infection, Atrial Fibrillation, Hypertension, and Hyperlipidemia, which do not support the use of a PPI for the specified conditions.\",\n",
       "  'source': 'Patient diagnosis record',\n",
       "  'recommendation considered': 'continue',\n",
       "  'associated diagnosis list': ['Barretts Esophagus or esophageal cell changes',\n",
       "   'Chronic Non-Steroidal Anti Inflammatory (NSAID) use or GI prophylaxis NSAID use',\n",
       "   'Severe esophagitis including bleeding esophagitis or esophageal ulcer',\n",
       "   'History of gastrointestinal bleeding, gastric ulcer, upper GI bleed, or peptic ulcer hemorrhage']},\n",
       " {'diagnosis_boolean': 'False',\n",
       "  'explanation': \"The provided information does not include any diagnosis that directly supports the use of a PPI for Peptic Ulcer Disease or Gastroduodenal ulcer, Upper GI Symptoms, ICU Stress Ulcer Prophylaxis, or Completed Heliobacter Pylori (H. Pylori) infection. The patient's diagnoses include Urinary Tract Infection, Atrial Fibrillation, Hypertension, and Hyperlipidemia, but none of these conditions directly indicate the need for a PPI.\",\n",
       "  'source': 'Patient diagnosis record',\n",
       "  'recommendation considered': 'stop',\n",
       "  'associated diagnosis list': ['Peptic Ulcer Disease or Gastroduodenal ulcer treated for 2 - 12 weeks caused from H Pylori infection or NSAID use without bleeding',\n",
       "   'Upper GI Symptoms such as reflux, difficulty swallowing, nausea, or vomiting without endoscopy - asymptomatic for 3 consecutive days',\n",
       "   'ICU Stress Ulcer Prophylaxis',\n",
       "   'Completed Heliobacter Pylori (H. Pylori) infection treated for 14 days with combination therapy']},\n",
       " {'diagnosis_boolean': 'False',\n",
       "  'explanation': 'The provided information does not include any diagnosis related to esophagitis, esophageal inflammation, GERD, or reflux symptoms. The listed diagnoses include Urinary Tract Infection, Atrial Fibrillation, Hypertension, and Hyperlipidemia, but none of these conditions are directly related to the use of a PPI for esophagitis or GERD.',\n",
       "  'source': 'Patient diagnosis record',\n",
       "  'recommendation considered': 'deprescribe',\n",
       "  'associated diagnosis list': ['Mild to moderate esophagitis or esophageal inflammation',\n",
       "   'Treated Gastroesophageal Reflux Disease (GERD) or reflux symptoms such as acid reflux, heartburn, or regurgitation']},\n",
       " {'diagnosis_boolean': 'False',\n",
       "  'explanation': \"There is no evidence in the provided information to support a diagnosis of Barrett's Esophagus or esophageal cell changes, Chronic Non-Steroidal Anti Inflammatory (NSAID) use or GI prophylaxis NSAID use, Severe esophagitis including bleeding esophagitis or esophageal ulcer, or History of gastrointestinal bleeding, gastric ulcer, upper GI bleed, or peptic ulcer hemorrhage. The primary diagnosis listed is Acute myocardial infarction, which does not directly relate to the conditions typically treated with a PPI.\",\n",
       "  'source': 'Patient encounter record',\n",
       "  'recommendation considered': 'continue',\n",
       "  'associated diagnosis list': ['Barretts Esophagus or esophageal cell changes',\n",
       "   'Chronic Non-Steroidal Anti Inflammatory (NSAID) use or GI prophylaxis NSAID use',\n",
       "   'Severe esophagitis including bleeding esophagitis or esophageal ulcer',\n",
       "   'History of gastrointestinal bleeding, gastric ulcer, upper GI bleed, or peptic ulcer hemorrhage']},\n",
       " {'diagnosis_boolean': 'False',\n",
       "  'explanation': \"There is no direct evidence in the provided information to support any of the specified conditions. The primary diagnosis is listed as 'Acute myocardial infarction', but there is no mention of peptic ulcer disease, gastroduodenal ulcer, upper GI symptoms, ICU stress ulcer prophylaxis, or H. Pylori infection. Therefore, it is unclear why the patient is prescribed a PPI, and further investigation is needed to determine the appropriate course of action.\",\n",
       "  'source': 'Patient encounter record',\n",
       "  'recommendation considered': 'stop',\n",
       "  'associated diagnosis list': ['Peptic Ulcer Disease or Gastroduodenal ulcer treated for 2 - 12 weeks caused from H Pylori infection or NSAID use without bleeding',\n",
       "   'Upper GI Symptoms such as reflux, difficulty swallowing, nausea, or vomiting without endoscopy - asymptomatic for 3 consecutive days',\n",
       "   'ICU Stress Ulcer Prophylaxis',\n",
       "   'Completed Heliobacter Pylori (H. Pylori) infection treated for 14 days with combination therapy']},\n",
       " {'diagnosis_boolean': 'False',\n",
       "  'explanation': 'There is no direct evidence in the provided information to support a diagnosis of mild to moderate esophagitis or esophageal inflammation, or treated Gastroesophageal Reflux Disease (GERD) or reflux symptoms such as acid reflux, heartburn, or regurgitation. The primary diagnosis listed is Acute myocardial infarction, which does not directly relate to the conditions typically treated with a PPI.',\n",
       "  'source': 'Patient encounter record',\n",
       "  'recommendation considered': 'deprescribe',\n",
       "  'associated diagnosis list': ['Mild to moderate esophagitis or esophageal inflammation',\n",
       "   'Treated Gastroesophageal Reflux Disease (GERD) or reflux symptoms such as acid reflux, heartburn, or regurgitation']},\n",
       " {'diagnosis_boolean': 'False',\n",
       "  'explanation': \"There is no evidence in the provided context to support a diagnosis of Barrett's Esophagus or esophageal cell changes, Chronic Non-Steroidal Anti Inflammatory (NSAID) use or GI prophylaxis NSAID use, Severe esophagitis including bleeding esophagitis or esophageal ulcer, or History of gastrointestinal bleeding, gastric ulcer, upper GI bleed, or peptic ulcer hemorrhage. The patient is receiving Pantoprazole 40 mg daily for stress ulcer prophylaxis due to hemodynamic instability in the ICU setting with acute myocardial infarction and atrial fibrillation.\",\n",
       "  'source': 'Patient notes history',\n",
       "  'recommendation considered': 'continue',\n",
       "  'associated diagnosis list': ['Barretts Esophagus or esophageal cell changes',\n",
       "   'Chronic Non-Steroidal Anti Inflammatory (NSAID) use or GI prophylaxis NSAID use',\n",
       "   'Severe esophagitis including bleeding esophagitis or esophageal ulcer',\n",
       "   'History of gastrointestinal bleeding, gastric ulcer, upper GI bleed, or peptic ulcer hemorrhage']},\n",
       " {'diagnosis_boolean': 'True',\n",
       "  'explanation': 'The patient is receiving Pantoprazole 40 mg daily for stress ulcer prophylaxis, which is consistent with standard ICU practice for patients with hemodynamic instability. The patient is in an intensive care setting with acute myocardial infarction and atrial fibrillation, making stress ulcer prophylaxis a standard preventative measure.',\n",
       "  'source': 'Patient notes history',\n",
       "  'recommendation considered': 'stop',\n",
       "  'associated diagnosis list': ['Peptic Ulcer Disease or Gastroduodenal ulcer treated for 2 - 12 weeks caused from H Pylori infection or NSAID use without bleeding',\n",
       "   'Upper GI Symptoms such as reflux, difficulty swallowing, nausea, or vomiting without endoscopy - asymptomatic for 3 consecutive days',\n",
       "   'ICU Stress Ulcer Prophylaxis',\n",
       "   'Completed Heliobacter Pylori (H. Pylori) infection treated for 14 days with combination therapy']},\n",
       " {'diagnosis_boolean': 'False',\n",
       "  'explanation': 'There is no evidence in the provided context to support a diagnosis of mild to moderate esophagitis or esophageal inflammation, or treated Gastroesophageal Reflux Disease (GERD) or reflux symptoms such as acid reflux, heartburn, or regurgitation. The patient is receiving Pantoprazole 40 mg daily for stress ulcer prophylaxis due to hemodynamic instability in the ICU setting with acute myocardial infarction and atrial fibrillation.',\n",
       "  'source': 'Patient notes history',\n",
       "  'recommendation considered': 'deprescribe',\n",
       "  'associated diagnosis list': ['Mild to moderate esophagitis or esophageal inflammation',\n",
       "   'Treated Gastroesophageal Reflux Disease (GERD) or reflux symptoms such as acid reflux, heartburn, or regurgitation']}]"
      ]
     },
     "execution_count": 10,
     "metadata": {},
     "output_type": "execute_result"
    }
   ],
   "source": [
    "search_history_thus_far_list"
   ]
  },
  {
   "cell_type": "code",
   "execution_count": null,
   "metadata": {},
   "outputs": [],
   "source": []
  },
  {
   "cell_type": "code",
   "execution_count": null,
   "metadata": {},
   "outputs": [],
   "source": []
  },
  {
   "cell_type": "code",
   "execution_count": null,
   "metadata": {},
   "outputs": [],
   "source": []
  },
  {
   "cell_type": "code",
   "execution_count": null,
   "metadata": {},
   "outputs": [],
   "source": []
  },
  {
   "cell_type": "code",
   "execution_count": 8,
   "metadata": {},
   "outputs": [],
   "source": [
    "llm_agent = llmAgent(groq_key=groq_key, data_path=data_path)"
   ]
  },
  {
   "cell_type": "code",
   "execution_count": null,
   "metadata": {},
   "outputs": [],
   "source": []
  },
  {
   "cell_type": "code",
   "execution_count": 9,
   "metadata": {},
   "outputs": [
    {
     "data": {
      "text/plain": [
       "{'hospitalAcquiredDx': '[{\"EncounterKey\":\"D6253A5CE371EA\",\"DxName\":\"*Unspecified\"}]',\n",
       " 'presentOnAdmitDx': '[{\"EncounterKey\":\"D6253A5CE371EA\",\"DxName\":\"GIB (gastrointestinal bleeding)\"}]'}"
      ]
     },
     "execution_count": 9,
     "metadata": {},
     "output_type": "execute_result"
    }
   ],
   "source": [
    "diagnosis_data_dict = llm_agent.get_data(\n",
    "    encounter_key=encounter_key, source=\"diagnosis\"\n",
    ")\n",
    "diagnosis_data_dict"
   ]
  },
  {
   "cell_type": "code",
   "execution_count": null,
   "metadata": {},
   "outputs": [],
   "source": [
    "diagnosis_list = [\n",
    "    \"Barretts Esophagus\",\n",
    "    \"Chronic NSAID used with bleeding risk\",\n",
    "    \"Severe esophagitis\",\n",
    "    \"Documented history of bleeding GUI ulcer\",\n",
    "]"
   ]
  },
  {
   "cell_type": "code",
   "execution_count": null,
   "metadata": {},
   "outputs": [],
   "source": [
    "from pydantic import BaseModel, Field\n",
    "from langchain_core.output_parsers import JsonOutputParser\n",
    "\n",
    "\n",
    "class DiagnosisSearchDict(BaseModel):\n",
    "    diagnosis_boolean: str = Field(description=\"1 if the diagnosis is found, else 0\")\n",
    "    explanation: str = Field(\n",
    "        description=\"A concise explanation for how the determination of the diagnosis was made\"\n",
    "    )"
   ]
  },
  {
   "cell_type": "code",
   "execution_count": null,
   "metadata": {},
   "outputs": [],
   "source": [
    "parser = JsonOutputParser(pydantic_object=DiagnosisSearchDict)"
   ]
  },
  {
   "cell_type": "code",
   "execution_count": null,
   "metadata": {},
   "outputs": [],
   "source": [
    "from langchain_core.prompts import PromptTemplate\n",
    "\n",
    "prompt = PromptTemplate(\n",
    "    template=\"\"\"You are a knowledgeable medical provider who specializes in medication management. In the following case, your patient is prescribed\n",
    "    a PPI (proton pump inhibitor) and need to make a decision to continue, reduce, or stop the PPI. Determine if there is evidence of the specific\n",
    "    condition which will help determine whether to continue, reduce, or stop the medication on discharge.\n",
    "    # Response Format Instructions #\n",
    "    {format_instructions}\n",
    "    # Question #\n",
    "    {query}\"\"\",\n",
    "    input_variables=[\"query\"],\n",
    "    partial_variables={\"format_instructions\": parser.get_format_instructions()},\n",
    ")"
   ]
  },
  {
   "cell_type": "code",
   "execution_count": null,
   "metadata": {},
   "outputs": [],
   "source": [
    "chain = prompt | llm_agent.llm  # | parser"
   ]
  },
  {
   "cell_type": "code",
   "execution_count": null,
   "metadata": {},
   "outputs": [],
   "source": [
    "output = chain.invoke(\n",
    "    {\n",
    "        \"query\": f\"Based on the provided information here: {diagnosis_data_dict}, is there evidence of {diagnosis_list}? Do NOT assume a condition based on prescribed medication. We know all of these patients are prescribed a ppi, but we need to know why. Be very sure of a diagnosis.\"\n",
    "    }\n",
    ")"
   ]
  },
  {
   "cell_type": "code",
   "execution_count": null,
   "metadata": {},
   "outputs": [],
   "source": [
    "output.response_metadata[\"token_usage\"][\"total_tokens\"]"
   ]
  },
  {
   "cell_type": "code",
   "execution_count": null,
   "metadata": {},
   "outputs": [],
   "source": [
    "pydantic_obj = parser.parse(output.content)\n",
    "pydantic_obj"
   ]
  },
  {
   "cell_type": "code",
   "execution_count": null,
   "metadata": {},
   "outputs": [],
   "source": [
    "llm_agent.extract_diagnosis(\n",
    "    diagnosis_data_dict=diagnosis_data_dict, diagnosis=diagnosis_list\n",
    ")"
   ]
  },
  {
   "cell_type": "code",
   "execution_count": null,
   "metadata": {},
   "outputs": [],
   "source": []
  },
  {
   "cell_type": "code",
   "execution_count": null,
   "metadata": {},
   "outputs": [
    {
     "data": {
      "text/plain": [
       "'[{\"EncounterKey\":\"D6253A5CE371EA\",\"PatientKey\":\"DE3B4E1AA899F6\",\"Sex\":\"Male\",\"Age_y\":81,\"BirthDate\":\"1942-01-31\",\"PtAdmitDate\":\"2023-09-17\",\"PtDischargeDate\":\"2023-09-21\",\"DRG\":\"GASTROINTESTINAL HEMORRHAGE WITH MCC\",\"FinancialClass\":\"Medicare Advantage HMO\\\\/Senior\",\"AdmissionOrigin\":\"Transfer Center Admission\",\"AdmissionSource\":\"Transfer - Acute Hospital\",\"AdmissionType\":\"Urgent\",\"PrimaryDx\":\"Gastrointestinal hemorrhage, unspecified\",\"PresentOnAdmissionDiagnosisComboKey\":1848960,\"HospitalAcquiredDiagnosisComboKey\":-1,\"DischargeDisposition\":\"Home or Self Care\",\"DischargePatientClass\":\"Inpatient\"}]'"
      ]
     },
     "execution_count": 15,
     "metadata": {},
     "output_type": "execute_result"
    },
    {
     "ename": "",
     "evalue": "",
     "output_type": "error",
     "traceback": [
      "\u001b[1;31mThe Kernel crashed while executing code in the current cell or a previous cell. \n",
      "\u001b[1;31mPlease review the code in the cell(s) to identify a possible cause of the failure. \n",
      "\u001b[1;31mClick <a href='https://aka.ms/vscodeJupyterKernelCrash'>here</a> for more info. \n",
      "\u001b[1;31mView Jupyter <a href='command:jupyter.viewOutput'>log</a> for further details."
     ]
    }
   ],
   "source": [
    "encounters_data_dict = llm_agent.get_data(\n",
    "    encounter_key=encounter_key, source=\"encounters\"\n",
    ")\n",
    "encounters_data_dict"
   ]
  },
  {
   "cell_type": "code",
   "execution_count": null,
   "metadata": {},
   "outputs": [],
   "source": []
  },
  {
   "cell_type": "code",
   "execution_count": null,
   "metadata": {},
   "outputs": [],
   "source": []
  },
  {
   "cell_type": "code",
   "execution_count": null,
   "metadata": {},
   "outputs": [],
   "source": [
    "noteText = llm_agent.get_data(encounter_key=encounter_key, source=\"notes\")\n",
    "noteText"
   ]
  },
  {
   "cell_type": "code",
   "execution_count": null,
   "metadata": {},
   "outputs": [],
   "source": [
    "from langchain.output_parsers import PydanticOutputParser\n",
    "from langchain_community.document_loaders import DataFrameLoader\n",
    "from langchain_community.embeddings import HuggingFaceEmbeddings\n",
    "from langchain_community.vectorstores import FAISS\n",
    "from langchain_core.prompts import ChatPromptTemplate, PromptTemplate\n",
    "from langchain_core.runnables import RunnablePassthrough\n",
    "from langchain_groq import ChatGroq\n",
    "from langchain_text_splitters import RecursiveCharacterTextSplitter\n",
    "from pydantic import BaseModel, Field\n",
    "\n",
    "\n",
    "embeddings = HuggingFaceEmbeddings(model_name=\"NeuML/pubmedbert-base-embeddings\")\n",
    "text_splitter = RecursiveCharacterTextSplitter()\n",
    "\n",
    "loader = DataFrameLoader(\n",
    "    data_frame=noteText,\n",
    "    page_content_column=\"NoteText\",\n",
    "    engine=\"pandas\",\n",
    ")\n",
    "\n",
    "documents = loader.load_and_split()\n",
    "\n",
    "vector_store = FAISS.from_documents(documents, embeddings)\n",
    "\n",
    "retriever = vector_store.as_retriever(search_type=\"similarity\", k=3)\n",
    "\n",
    "parser = JsonOutputParser(pydantic_object=DiagnosisSearchDict)\n",
    "# parser = PydanticOutputParser(pydantic_object=DiagnosisSearchDict)"
   ]
  },
  {
   "cell_type": "code",
   "execution_count": null,
   "metadata": {},
   "outputs": [],
   "source": [
    "def format_docs(docs):\n",
    "    return \"\\n\\n\".join(doc.page_content for doc in docs)"
   ]
  },
  {
   "cell_type": "code",
   "execution_count": null,
   "metadata": {},
   "outputs": [],
   "source": [
    "from langchain_core.runnables import RunnablePassthrough\n",
    "\n",
    "prompt = PromptTemplate(\n",
    "    template=\"\"\"You are a knowledgeable medical provider who specializes in medication management. In the following case, your patient is prescribed a PPI (proton pump inhibitor) and need to make a decision to continue, reduce, or stop the PPI. Determine if there is evidence of the specific condition which will help determine whether to continue, reduce, or stop the medication on discharge.\n",
    "    Use the Context as information for your answer: \n",
    "    # Context #\n",
    "    {context}\n",
    "    Do NOT assume a condition based on prescribed medication. We know all of these patients are prescribed a ppi, but we need to know why. Be very sure of a diagnosis.\n",
    "    # Format Instructions #\n",
    "    {format_instructions}\n",
    "    # Question #\n",
    "    {query}\n",
    "    \"\"\",\n",
    "    input_variables=[\"context\", \"query\"],\n",
    "    partial_variables={\"format_instructions\": parser.get_format_instructions()},\n",
    ")"
   ]
  },
  {
   "cell_type": "code",
   "execution_count": null,
   "metadata": {},
   "outputs": [],
   "source": [
    "rag_chain = (\n",
    "    {\"context\": retriever | format_docs, \"query\": RunnablePassthrough()}\n",
    "    | prompt\n",
    "    | llm_agent.llm\n",
    "    # | parser\n",
    ")"
   ]
  },
  {
   "cell_type": "code",
   "execution_count": null,
   "metadata": {},
   "outputs": [],
   "source": [
    "temp_out = rag_chain.invoke(f\"Is there evidence of {diagnosis}?\")"
   ]
  },
  {
   "cell_type": "code",
   "execution_count": null,
   "metadata": {},
   "outputs": [],
   "source": [
    "temp_out.response_metadata[\"token_usage\"][\"total_tokens\"]"
   ]
  },
  {
   "cell_type": "code",
   "execution_count": null,
   "metadata": {},
   "outputs": [],
   "source": [
    "pydantic_obj_notes = parser.parse(temp_out.content)\n",
    "pydantic_obj_notes"
   ]
  },
  {
   "cell_type": "code",
   "execution_count": null,
   "metadata": {},
   "outputs": [],
   "source": []
  },
  {
   "cell_type": "code",
   "execution_count": null,
   "metadata": {},
   "outputs": [],
   "source": [
    "retriever_out = retriever.invoke(f\"Is there evidence of {diagnosis}?\")\n",
    "retriever_out = retriever_out[:3]\n",
    "retriever_out"
   ]
  },
  {
   "cell_type": "code",
   "execution_count": null,
   "metadata": {},
   "outputs": [],
   "source": [
    "retriever_out_format = format_docs(retriever_out)\n",
    "retriever_out_format"
   ]
  },
  {
   "cell_type": "code",
   "execution_count": null,
   "metadata": {},
   "outputs": [],
   "source": [
    "from langchain_core.runnables import RunnablePassthrough\n",
    "\n",
    "prompt = PromptTemplate(\n",
    "    template=\"You are a knowledgeable medical provider who specializes in medication management. In the following case, your patient is prescribed a PPI (proton pump inhibitor) and need to make a decision to continue, reduce, or stop the PPI. Determine if there is evidence of the specific condition which will help determine whether to continue, reduce, or stop the medication on discharge.\\n{format_instructions}\\nUse this information for your answer: {context}\\n{query}\\n\",\n",
    "    input_variables=[\"context\", \"query\"],\n",
    "    partial_variables={\"format_instructions\": parser.get_format_instructions()},\n",
    ")\n",
    "\n",
    "\n",
    "rag_chain = (\n",
    "    {\"context\": RunnablePassthrough(), \"query\": RunnablePassthrough()}\n",
    "    | prompt\n",
    "    | llm_agent.llm\n",
    "    # | parser\n",
    ")"
   ]
  },
  {
   "cell_type": "code",
   "execution_count": null,
   "metadata": {},
   "outputs": [],
   "source": [
    "rag_chain"
   ]
  },
  {
   "cell_type": "code",
   "execution_count": null,
   "metadata": {},
   "outputs": [],
   "source": [
    "out = rag_chain.invoke(\n",
    "    f\"Is there evidence of {diagnosis}? Use the following context for information: {retriever_out_format}. The context has ended. Do NOT assume a condition based on prescribed medication. We know all of these patients are prescribed a ppi, but we need to know why. Be very sure of a diagnosis.\"\n",
    ")\n",
    "out"
   ]
  },
  {
   "cell_type": "code",
   "execution_count": null,
   "metadata": {},
   "outputs": [],
   "source": [
    "out.response_metadata[\"token_usage\"][\"total_tokens\"]"
   ]
  },
  {
   "cell_type": "code",
   "execution_count": null,
   "metadata": {},
   "outputs": [],
   "source": [
    "pydantic_obj_notes = parser.parse(out.content)\n",
    "pydantic_obj_notes"
   ]
  },
  {
   "cell_type": "code",
   "execution_count": null,
   "metadata": {},
   "outputs": [],
   "source": []
  },
  {
   "cell_type": "code",
   "execution_count": null,
   "metadata": {},
   "outputs": [],
   "source": []
  },
  {
   "cell_type": "code",
   "execution_count": null,
   "metadata": {},
   "outputs": [],
   "source": []
  },
  {
   "cell_type": "code",
   "execution_count": null,
   "metadata": {},
   "outputs": [],
   "source": [
    "recommendation_dict = {\n",
    "    \"continue\": [\n",
    "        \"Barretts Esophagus\",\n",
    "        \"Chronic NSAID used with bleeding risk\",\n",
    "        \"Severe esophagitis\",\n",
    "        \"Documented history of bleeding GUI ulcer\",\n",
    "    ],\n",
    "    \"stop\": [\n",
    "        \"Peptic Ulcer Disease\",\n",
    "        \"Chronic NSAID use with bleeding risk\",\n",
    "        \"ICU Stress Ulcer Prophylaxis\",\n",
    "        \"H Pylori infection\",\n",
    "    ],\n",
    "    \"deprescribe\": [\n",
    "        \"Mild to moderate esophagitis\",\n",
    "        \"GERD\",\n",
    "    ],\n",
    "}"
   ]
  },
  {
   "cell_type": "code",
   "execution_count": null,
   "metadata": {},
   "outputs": [],
   "source": [
    "# track the number of tokens used\n",
    "token_usage = 0\n",
    "final_bool = False\n",
    "diagnosis_dict_dict = {}"
   ]
  },
  {
   "cell_type": "code",
   "execution_count": null,
   "metadata": {},
   "outputs": [],
   "source": [
    "for recommendation_str, diagnosis_list in recommendation_dict.items():\n",
    "    "
   ]
  },
  {
   "cell_type": "code",
   "execution_count": null,
   "metadata": {},
   "outputs": [],
   "source": []
  },
  {
   "cell_type": "code",
   "execution_count": null,
   "metadata": {},
   "outputs": [],
   "source": []
  },
  {
   "cell_type": "code",
   "execution_count": null,
   "metadata": {},
   "outputs": [],
   "source": []
  },
  {
   "cell_type": "code",
   "execution_count": null,
   "metadata": {},
   "outputs": [],
   "source": []
  },
  {
   "cell_type": "code",
   "execution_count": null,
   "metadata": {},
   "outputs": [],
   "source": []
  },
  {
   "cell_type": "code",
   "execution_count": null,
   "metadata": {},
   "outputs": [],
   "source": []
  },
  {
   "cell_type": "code",
   "execution_count": null,
   "metadata": {},
   "outputs": [],
   "source": []
  },
  {
   "cell_type": "code",
   "execution_count": null,
   "metadata": {},
   "outputs": [],
   "source": []
  },
  {
   "cell_type": "code",
   "execution_count": null,
   "metadata": {},
   "outputs": [],
   "source": []
  },
  {
   "cell_type": "code",
   "execution_count": null,
   "metadata": {},
   "outputs": [],
   "source": []
  },
  {
   "cell_type": "code",
   "execution_count": null,
   "metadata": {},
   "outputs": [],
   "source": []
  },
  {
   "cell_type": "code",
   "execution_count": null,
   "metadata": {},
   "outputs": [],
   "source": []
  },
  {
   "cell_type": "code",
   "execution_count": null,
   "metadata": {},
   "outputs": [],
   "source": []
  }
 ],
 "metadata": {
  "kernelspec": {
   "display_name": "capstone",
   "language": "python",
   "name": "python3"
  },
  "language_info": {
   "codemirror_mode": {
    "name": "ipython",
    "version": 3
   },
   "file_extension": ".py",
   "mimetype": "text/x-python",
   "name": "python",
   "nbconvert_exporter": "python",
   "pygments_lexer": "ipython3",
   "version": "3.12.5"
  }
 },
 "nbformat": 4,
 "nbformat_minor": 2
}
