{
 "cells": [
  {
   "cell_type": "code",
   "execution_count": 1,
   "metadata": {},
   "outputs": [],
   "source": [
    "#iterate through 100 encounters\n",
    "#extract notes\n",
    "# iterate through possible diagnoses\n",
    "# ask RAG model if diagnosis is present\n",
    "# store result in labled encounters df with column for each diagnosis\n",
    "\n",
    "#get encounter diagnosis and store in a column\n",
    "#get extract diagnosis and store in a column\n",
    "#save to csv"
   ]
  },
  {
   "cell_type": "code",
   "execution_count": 2,
   "metadata": {},
   "outputs": [],
   "source": [
    "from dotenv import load_dotenv\n",
    "import os\n",
    "from query import DataLoader as dl\n",
    "from pathlib import Path\n",
    "import pandas as pd\n",
    "\n",
    "load_dotenv()\n",
    "\n",
    "groq = os.getenv(\"groqkey\")\n",
    "data_path = '../Data'\n",
    "\n",
    "\n",
    "dl = dl(Path(data_path))\n",
    "\n",
    "le = dl.get_labled_encounters()\n"
   ]
  },
  {
   "cell_type": "code",
   "execution_count": 3,
   "metadata": {},
   "outputs": [],
   "source": [
    "# Get list of encounters already labeled\n",
    "labeled_encounter_keys = le['EncounterKey'].tolist()\n",
    "encounters = pd.read_csv(\"../Data/encounters.txt\", sep=\"|\")\n",
    "# Filter out already labeled encounters\n",
    "encounter_keys = [key for key in encounters['EncounterKey'].tolist() if key not in labeled_encounter_keys]"
   ]
  },
  {
   "cell_type": "code",
   "execution_count": 4,
   "metadata": {},
   "outputs": [],
   "source": [
    "encounters = pd.read_csv(Path(data_path) / \"labeled_encounters_results_reedrun.csv\")\n",
    "encounter_keys = encounters[encounters.Recommendation == 'stop'].EncounterKey.to_list()"
   ]
  },
  {
   "cell_type": "code",
   "execution_count": 5,
   "metadata": {},
   "outputs": [
    {
     "name": "stderr",
     "output_type": "stream",
     "text": [
      "/Users/reedevans/Documents/mids/DataSci210_MedicationDeprescriber/src/extraction.py:20: LangChainDeprecationWarning: The class `HuggingFaceEmbeddings` was deprecated in LangChain 0.2.2 and will be removed in 1.0. An updated version of the class exists in the :class:`~langchain-huggingface package and should be used instead. To use it run `pip install -U :class:`~langchain-huggingface` and import as `from :class:`~langchain_huggingface import HuggingFaceEmbeddings``.\n",
      "  embeddings = HuggingFaceEmbeddings(model_name=\"NeuML/pubmedbert-base-embeddings\")\n",
      "/Library/Frameworks/Python.framework/Versions/3.12/lib/python3.12/site-packages/sentence_transformers/cross_encoder/CrossEncoder.py:13: TqdmWarning: IProgress not found. Please update jupyter and ipywidgets. See https://ipywidgets.readthedocs.io/en/stable/user_install.html\n",
      "  from tqdm.autonotebook import tqdm, trange\n"
     ]
    },
    {
     "name": "stdout",
     "output_type": "stream",
     "text": [
      "Barrett's Esophagus\n",
      "no.\n",
      "\n",
      "there is no mention of barrett's esophagus in the provided notes. the patient is prescribed famotidine (pepcid), a proton pump inhibitor (ppi), but the indication for this medication is not explicitly stated. however, there is no evidence or mention of barrett's esophagus, which would typically be documented in the medical history or endoscopy reports.\n",
      "Upper GI symptoms\n",
      "yes. \n",
      "\n",
      "the patient reports \"digestive issues\" and \"bloating\" after taking potassium packets, which suggests upper gi symptoms.\n",
      "D01FCB9EFFD6D5:rec:stop,yes. \n",
      "\n",
      "the patient reports \"digestive issues\" and \"bloating\" after taking potassium packets, which suggests upper gi symptoms.\n",
      "Barrett's Esophagus\n"
     ]
    },
    {
     "name": "stderr",
     "output_type": "stream",
     "text": [
      "ERROR:root:Error raised by bedrock service: An error occurred (ThrottlingException) when calling the InvokeModel operation (reached max retries: 4): Too many requests, please wait before trying again. You have sent too many requests.  Wait before trying again.\n"
     ]
    },
    {
     "name": "stdout",
     "output_type": "stream",
     "text": [
      "ThrottlingException encountered. Waiting for 1 seconds before retrying...\n",
      "yes.\n",
      "\n",
      "the evidence of barrett's esophagus is based on the upper endoscopy report from 09/27/03, which states: \"there was salmon colored mucosa consistent with possible barrett's esophagus for a length of 3cm. multiple biopsies were obtained and sent to pathology.\"\n",
      "D03868A75BBE62:rec:continue,yes.\n",
      "\n",
      "the evidence of barrett's esophagus is based on the upper endoscopy report from 09/27/03, which states: \"there was salmon colored mucosa consistent with possible barrett's esophagus for a length of 3cm. multiple biopsies were obtained and sent to pathology.\"\n",
      "Barrett's Esophagus\n"
     ]
    },
    {
     "name": "stderr",
     "output_type": "stream",
     "text": [
      "ERROR:root:Error raised by bedrock service: An error occurred (ThrottlingException) when calling the InvokeModel operation (reached max retries: 4): Too many requests, please wait before trying again. You have sent too many requests.  Wait before trying again.\n"
     ]
    },
    {
     "name": "stdout",
     "output_type": "stream",
     "text": [
      "ThrottlingException encountered. Waiting for 1 seconds before retrying...\n"
     ]
    },
    {
     "name": "stderr",
     "output_type": "stream",
     "text": [
      "ERROR:root:Error raised by bedrock service: An error occurred (ThrottlingException) when calling the InvokeModel operation (reached max retries: 4): Too many requests, please wait before trying again. You have sent too many requests.  Wait before trying again.\n"
     ]
    },
    {
     "name": "stdout",
     "output_type": "stream",
     "text": [
      "ThrottlingException encountered. Waiting for 2 seconds before retrying...\n",
      "no.\n",
      "\n",
      "there is no direct evidence of barrett's esophagus in the provided notes. the patient has a history of gerd (gastroesophageal reflux disease) and is taking pantoprazole, but there is no mention of barrett's esophagus specifically.\n",
      "Upper GI symptoms\n"
     ]
    },
    {
     "name": "stderr",
     "output_type": "stream",
     "text": [
      "ERROR:root:Error raised by bedrock service: An error occurred (ThrottlingException) when calling the InvokeModel operation (reached max retries: 4): Too many requests, please wait before trying again. You have sent too many requests.  Wait before trying again.\n"
     ]
    },
    {
     "name": "stdout",
     "output_type": "stream",
     "text": [
      "ThrottlingException encountered. Waiting for 1 seconds before retrying...\n"
     ]
    },
    {
     "name": "stderr",
     "output_type": "stream",
     "text": [
      "ERROR:root:Error raised by bedrock service: An error occurred (ThrottlingException) when calling the InvokeModel operation (reached max retries: 4): Too many requests, please wait before trying again. You have sent too many requests.  Wait before trying again.\n"
     ]
    },
    {
     "name": "stdout",
     "output_type": "stream",
     "text": [
      "ThrottlingException encountered. Waiting for 2 seconds before retrying...\n",
      "yes, there is evidence of upper gi symptoms. the patient has a history of gerd symptoms, which is mentioned in the review of systems under gastrointestinal: \"positive for gerd symptoms (using omeprazole)\".\n",
      "D038C6CE0A2867:rec:stop,yes, there is evidence of upper gi symptoms. the patient has a history of gerd symptoms, which is mentioned in the review of systems under gastrointestinal: \"positive for gerd symptoms (using omeprazole)\".\n",
      "Results saved to ../Data/labeled_encounters_results_reedrun2.csv\n"
     ]
    }
   ],
   "source": [
    "import pandas as pd\n",
    "from extraction import llmAgent\n",
    "from pathlib import Path\n",
    "\n",
    "# Initialize the llm agent\n",
    "groq_key = groq\n",
    "data_path = Path(data_path)  # Set your data path\n",
    "agent = llmAgent(groq_key=groq_key, data_path=data_path)\n",
    "\n",
    "# Create DataFrame with additional columns for recommendations, results, diagnosis and contexts\n",
    "columns = [\n",
    "    \"EncounterKey\",\n",
    "    \"Recommendation\",\n",
    "    \"Results\",\n",
    "    \"Diagnosis\",\n",
    "    \"Relevant_Contexts\"\n",
    "]\n",
    "\n",
    "results_df = pd.DataFrame(columns=columns)\n",
    "\n",
    "# Iterate through encounters\n",
    "for encounter_key in encounter_keys[:10]:\n",
    "    # Extract information\n",
    "\n",
    "    agent.set_encounter_key(encounter_key)\n",
    "    agent.set_retriever()\n",
    "    recc, results, response, diagnosis, relevant_contexts = agent.extract_notes_individual(encounter_key)\n",
    "    \n",
    "    # Create a row dictionary\n",
    "    row_data = {\n",
    "        \"EncounterKey\": encounter_key,\n",
    "        \"Recommendation\": recc,\n",
    "        \"Results\": results,\n",
    "        \"Response\":response,\n",
    "        \"Diagnosis\": diagnosis,\n",
    "        \"Relevant_Contexts\": relevant_contexts\n",
    "    }\n",
    "    \n",
    "    # Add to DataFrame\n",
    "    results_df = pd.concat([results_df, pd.DataFrame([row_data])], ignore_index=True)\n",
    "\n",
    "# Save to CSV\n",
    "output_path = Path(data_path) / \"labeled_encounters_results_reedrun2.csv\"\n",
    "results_df.to_csv(output_path, index=False)\n",
    "print(f\"Results saved to {output_path}\")\n",
    "\n"
   ]
  },
  {
   "cell_type": "code",
   "execution_count": 6,
   "metadata": {},
   "outputs": [
    {
     "name": "stdout",
     "output_type": "stream",
     "text": [
      "Results saved to ../Data/labeled_encounters_results_reedrun.csv\n"
     ]
    }
   ],
   "source": [
    "# Save to CSV\n",
    "output_path = Path(data_path) / \"labeled_encounters_results_reedrun.csv\"\n",
    "results_df.to_csv(output_path, index=False)\n",
    "print(f\"Results saved to {output_path}\")"
   ]
  }
 ],
 "metadata": {
  "kernelspec": {
   "display_name": "Python 3",
   "language": "python",
   "name": "python3"
  },
  "language_info": {
   "codemirror_mode": {
    "name": "ipython",
    "version": 3
   },
   "file_extension": ".py",
   "mimetype": "text/x-python",
   "name": "python",
   "nbconvert_exporter": "python",
   "pygments_lexer": "ipython3",
   "version": "3.12.0"
  }
 },
 "nbformat": 4,
 "nbformat_minor": 2
}
