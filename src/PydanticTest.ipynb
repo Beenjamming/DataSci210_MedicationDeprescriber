{
 "cells": [
  {
   "cell_type": "code",
   "execution_count": 1,
   "metadata": {},
   "outputs": [
    {
     "name": "stderr",
     "output_type": "stream",
     "text": [
      "C:\\Users\\micha\\AppData\\Local\\Temp\\ipykernel_23392\\633795866.py:11: LangChainDeprecationWarning: The class `HuggingFaceEmbeddings` was deprecated in LangChain 0.2.2 and will be removed in 1.0. An updated version of the class exists in the langchain-huggingface package and should be used instead. To use it run `pip install -U langchain-huggingface` and import as `from langchain_huggingface import HuggingFaceEmbeddings`.\n",
      "  embeddings = HuggingFaceEmbeddings(model_name=\"NeuML/pubmedbert-base-embeddings\")\n",
      "f:\\LangChain\\.venv\\lib\\site-packages\\sentence_transformers\\cross_encoder\\CrossEncoder.py:13: TqdmExperimentalWarning: Using `tqdm.autonotebook.tqdm` in notebook mode. Use `tqdm.tqdm` instead to force console mode (e.g. in jupyter console)\n",
      "  from tqdm.autonotebook import tqdm, trange\n"
     ]
    }
   ],
   "source": [
    "import json\n",
    "from pathlib import Path\n",
    "import os \n",
    "from langchain_community.embeddings import HuggingFaceEmbeddings\n",
    "from langchain_core.prompts import ChatPromptTemplate\n",
    "from langchain_groq import ChatGroq\n",
    "from langchain_text_splitters import RecursiveCharacterTextSplitter\n",
    "\n",
    "from query import DataLoader\n",
    "\n",
    "embeddings = HuggingFaceEmbeddings(model_name=\"NeuML/pubmedbert-base-embeddings\")\n",
    "text_splitter = RecursiveCharacterTextSplitter()"
   ]
  },
  {
   "cell_type": "code",
   "execution_count": 5,
   "metadata": {},
   "outputs": [],
   "source": [
    "\n",
    "class llmAgent:\n",
    "    \"\"\" \"\"\"\n",
    "\n",
    "    def __init__(self, groq_key: str, data_path: Path) -> None:\n",
    "        \"\"\" \"\"\"\n",
    "        self.data_path = data_path\n",
    "        self.data_loader = DataLoader(data_path=data_path)\n",
    "\n",
    "        llama_31 = \"llama-3.1-70b-versatile\"\n",
    "        self.llm = ChatGroq(temperature=0, model=llama_31, api_key=groq_key)\n",
    "\n",
    "    @staticmethod\n",
    "    def format_docs(docs):\n",
    "        return \"\\n\\n\".join(doc.page_content for doc in docs)\n",
    "    \n",
    "    def extract_notes(self, encounter_key: str):\n",
    "        \"\"\"\n",
    "        Extraction Agent/Step 3\n",
    "\n",
    "        \"\"\"\n",
    "        noteText = self.data_loader.get_notes_data(encounter_key=encounter_key)\n",
    "\n",
    "        from langchain_community.document_loaders import DataFrameLoader\n",
    "\n",
    "        loader = DataFrameLoader(\n",
    "            data_frame=noteText,\n",
    "            page_content_column=\"NoteText\",\n",
    "            engine=\"pandas\",\n",
    "        )\n",
    "\n",
    "        documents = loader.load_and_split()\n",
    "\n",
    "        from langchain_community.vectorstores import FAISS\n",
    "\n",
    "        vector_store = FAISS.from_documents(documents, embeddings)\n",
    "\n",
    "        retriever = vector_store.as_retriever(search_type=\"similarity\", k=5)\n",
    "\n",
    "        from langchain_core.output_parsers import StrOutputParser\n",
    "        from langchain_core.runnables import RunnablePassthrough\n",
    "        from langchain.output_parsers import ResponseSchema, StructuredOutputParser\n",
    "        from langchain_core.prompts import PromptTemplate\n",
    "\n",
    "        response_schemas = [\n",
    "            ResponseSchema(name=\"Mild to moderate esophagitis\", description=\"return true or false if this diagnosis is present in the notes.\", type=\"bool\"),\n",
    "            ResponseSchema(name=\"GERD\", description=\"return true or false if this diagnosis is present in the notes.\", type=\"bool\"),\n",
    "            ResponseSchema(name=\"Peptic Ulcer Disease\", description=\"return true or false if this diagnosis is present in the notes.\", type=\"bool\"),\n",
    "            ResponseSchema(name=\"Upper GI symptoms\", description=\"return true or false if this diagnosis is present in the notes.\", type=\"bool\"),\n",
    "            ResponseSchema(name=\"ICU Stress Ulcer Prophylaxis\", description=\"return true or false if this diagnosis is present in the notes.\", type=\"bool\"),\n",
    "            ResponseSchema(name=\"Barrett's Esophagus\", description=\"return true or false if this diagnosis is present in the notes.\", type=\"bool\"),\n",
    "            ResponseSchema(name=\"Chronic NSAID use with bleeding risk\", description=\"return true or false if this diagnosis is present in the notes.\", type=\"bool\"),\n",
    "            ResponseSchema(name=\"Severe esophagitis\", description=\"return true or false if this diagnosis is present in the notes.\", type=\"bool\"),\n",
    "            ResponseSchema(name=\"Documented history of bleeding GI ulcer\", description=\"return true or false if this diagnosis is present in the notes.\", type=\"bool\"),\n",
    "            ResponseSchema(name=\"Reasoning\", description=\"return a few sentences of the reasoning for the answer boolean value diagnosis given the notes.\", type=\"str\"),\n",
    "            ]\n",
    "        output_parser = StructuredOutputParser.from_response_schemas(response_schemas)\n",
    "        format_instructions = output_parser.get_format_instructions()\n",
    "        #system = \"You are a knowledgeable medical provider who specializes in medication management. Given a list of diagnosis and some snippets from patients notes {context}, answer if the patient notes contain any of the diagnosis.\"\n",
    "        prompt = PromptTemplate(\n",
    "            template=\"answer the users input as best as possible.\\n{format_instructions}\\n{input}\",\n",
    "            #input_variables=[(\"system\", system), (\"human\", \"{input}\")],\n",
    "            input_variables=[\"input\"],\n",
    "            partial_variables={\"format_instructions\": format_instructions},\n",
    "                )\n",
    "     \n",
    "        # # #   Approach 2   # # #\n",
    "        rag_chain = (\n",
    "            RunnablePassthrough.assign(\n",
    "                context=(lambda x: llmAgent.format_docs(x[\"context\"]))\n",
    "            )\n",
    "            | prompt\n",
    "            | self.llm\n",
    "            | StrOutputParser()\n",
    "            #| output_parser\n",
    "        )\n",
    "\n",
    "        retrieve_docs = {\n",
    "            \"context\": retriever | llmAgent.format_docs,\n",
    "            \"input\": RunnablePassthrough(),\n",
    "        }\n",
    "\n",
    "        retrieve_docs = (lambda x: x[\"input\"]) | retriever\n",
    "\n",
    "        chain = RunnablePassthrough.assign(context=retrieve_docs).assign(\n",
    "            answer=rag_chain\n",
    "        )\n",
    "\n",
    "        result = chain.invoke(\n",
    "            {\n",
    "                \"input\": \"\"\"Based on the information from the note context, does the patient have any of the following:\n",
    "              1. Mild to moderate esophagitis\n",
    "              2. GERD \n",
    "              3. Peptic Ulcer Disease\n",
    "              4. Upper GI symptoms\n",
    "              5. ICU Stress Ulcer Prophylaxis\n",
    "              6. Barrett's Esophagus\n",
    "              7. Chronic NSAID use with bleeding risk\n",
    "              8. Severe esophagitis\n",
    "              9. Documented history of bleeding GI ulcer\n",
    "              10. Explain the reasoning for your answer\n",
    "            Return the answer for each of these as a formatted JSON object with the key being the condition and the value being a boolean value for the first 9.  For the final question, return a string with the reasoning for your answer.\"\"\"\n",
    "            }\n",
    "        )\n",
    "     \n",
    "        result_json = result\n",
    "   \n",
    "\n",
    "        return result_json\n"
   ]
  },
  {
   "cell_type": "code",
   "execution_count": 6,
   "metadata": {},
   "outputs": [],
   "source": [
    "groq_key = os.environ['groqkey']\n",
    "data_path = Path(\n",
    "    r\"F:\\LangChain\\data\"\n",
    ")\n",
    "llm_agent = llmAgent(groq_key=groq_key, data_path=data_path)"
   ]
  },
  {
   "cell_type": "code",
   "execution_count": 7,
   "metadata": {},
   "outputs": [],
   "source": [
    "encounter_key = \"D17AFAD1D7BB68\"\n",
    "\n",
    "notes_json = llm_agent.extract_notes(encounter_key=encounter_key)\n"
   ]
  },
  {
   "cell_type": "code",
   "execution_count": 9,
   "metadata": {},
   "outputs": [
    {
     "data": {
      "text/plain": [
       "'```json\\n{\\n\\t\"Mild to moderate esophagitis\": false  // The note context does not mention esophagitis.\\n\\t\"GERD\": false  // The note context does not mention GERD.\\n\\t\"Peptic Ulcer Disease\": false  // The note context does not mention Peptic Ulcer Disease.\\n\\t\"Upper GI symptoms\": false  // The note context does not mention Upper GI symptoms.\\n\\t\"ICU Stress Ulcer Prophylaxis\": false  // The note context does not mention ICU Stress Ulcer Prophylaxis.\\n\\t\"Barrett\\'s Esophagus\": false  // The note context does not mention Barrett\\'s Esophagus.\\n\\t\"Chronic NSAID use with bleeding risk\": false  // The note context does not mention Chronic NSAID use with bleeding risk.\\n\\t\"Severe esophagitis\": false  // The note context does not mention esophagitis.\\n\\t\"Documented history of bleeding GI ulcer\": false  // The note context does not mention a history of bleeding GI ulcer.\\n\\t\"Reasoning\": \"There is not enough information in the note context to determine the presence of any of the listed conditions. The note context is empty.\"\\n}\\n```'"
      ]
     },
     "execution_count": 9,
     "metadata": {},
     "output_type": "execute_result"
    }
   ],
   "source": [
    "notes_json[\"answer\"]"
   ]
  },
  {
   "cell_type": "code",
   "execution_count": null,
   "metadata": {},
   "outputs": [],
   "source": []
  }
 ],
 "metadata": {
  "kernelspec": {
   "display_name": ".venv",
   "language": "python",
   "name": "python3"
  },
  "language_info": {
   "codemirror_mode": {
    "name": "ipython",
    "version": 3
   },
   "file_extension": ".py",
   "mimetype": "text/x-python",
   "name": "python",
   "nbconvert_exporter": "python",
   "pygments_lexer": "ipython3",
   "version": "3.10.10"
  }
 },
 "nbformat": 4,
 "nbformat_minor": 2
}
