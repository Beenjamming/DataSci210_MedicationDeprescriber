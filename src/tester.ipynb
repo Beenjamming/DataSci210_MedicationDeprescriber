{
 "cells": [
  {
   "cell_type": "markdown",
   "metadata": {},
   "source": [
    "# Tester\n",
    "\n",
    "This notebook is used to test and view the output from a single encounter key"
   ]
  },
  {
   "cell_type": "code",
   "execution_count": 1,
   "metadata": {},
   "outputs": [],
   "source": [
    "import pandas as pd\n",
    "import numpy as np\n",
    "from langchain_core.prompts import ChatPromptTemplate\n",
    "from langchain_groq import ChatGroq\n",
    "import os\n",
    "import json\n",
    "from pathlib import Path\n",
    "import pprint"
   ]
  },
  {
   "cell_type": "code",
   "execution_count": 2,
   "metadata": {},
   "outputs": [
    {
     "name": "stderr",
     "output_type": "stream",
     "text": [
      "c:\\Users\\grays\\anaconda3\\envs\\capstone\\Lib\\site-packages\\pydantic\\_internal\\_fields.py:161: UserWarning: Field \"model_name\" has conflict with protected namespace \"model_\".\n",
      "\n",
      "You may be able to resolve this warning by setting `model_config['protected_namespaces'] = ()`.\n",
      "  warnings.warn(\n",
      "c:\\Users\\grays\\OneDrive\\Documents\\GitHub\\DataSci210_MedicationDeprescriber\\src\\extraction.py:14: LangChainDeprecationWarning: The class `HuggingFaceEmbeddings` was deprecated in LangChain 0.2.2 and will be removed in 1.0. An updated version of the class exists in the :class:`~langchain-huggingface package and should be used instead. To use it run `pip install -U :class:`~langchain-huggingface` and import as `from :class:`~langchain_huggingface import HuggingFaceEmbeddings``.\n",
      "  embeddings = HuggingFaceEmbeddings(model_name=\"NeuML/pubmedbert-base-embeddings\")\n",
      "c:\\Users\\grays\\anaconda3\\envs\\capstone\\Lib\\site-packages\\sentence_transformers\\cross_encoder\\CrossEncoder.py:13: TqdmExperimentalWarning: Using `tqdm.autonotebook.tqdm` in notebook mode. Use `tqdm.tqdm` instead to force console mode (e.g. in jupyter console)\n",
      "  from tqdm.autonotebook import tqdm, trange\n"
     ]
    }
   ],
   "source": [
    "from main import main"
   ]
  },
  {
   "cell_type": "code",
   "execution_count": 3,
   "metadata": {},
   "outputs": [],
   "source": [
    "from dotenv import load_dotenv\n",
    "load_dotenv()\n",
    "\n",
    "groq_key = os.getenv(\"groq_key\")\n",
    "\n",
    "data_path = os.getenv(\"data_path\")\n",
    "data_path = Path(data_path)"
   ]
  },
  {
   "cell_type": "code",
   "execution_count": 30,
   "metadata": {},
   "outputs": [],
   "source": [
    "encounter_key = \"SyntheticPt6\""
   ]
  },
  {
   "cell_type": "code",
   "execution_count": 31,
   "metadata": {},
   "outputs": [],
   "source": [
    "(\n",
    "    final_recommendation,\n",
    "    final_explanation,\n",
    "    token_usage,\n",
    "    search_history_thus_far_list,\n",
    "    token_count_history,\n",
    ") = main(groq_key=groq_key, data_path=data_path, encounter_key=encounter_key)"
   ]
  },
  {
   "cell_type": "code",
   "execution_count": 32,
   "metadata": {},
   "outputs": [
    {
     "data": {
      "text/plain": [
       "'deprescribe'"
      ]
     },
     "execution_count": 32,
     "metadata": {},
     "output_type": "execute_result"
    }
   ],
   "source": [
    "final_recommendation"
   ]
  },
  {
   "cell_type": "code",
   "execution_count": 33,
   "metadata": {},
   "outputs": [
    {
     "name": "stdout",
     "output_type": "stream",
     "text": [
      "('**Medication Recommendation Summary**\\n'\n",
      " '\\n'\n",
      " \"Based on the patient's diagnosis record and encounter record, a \"\n",
      " 'recommendation to deprescribe the proton pump inhibitor (PPI) has been made. '\n",
      " 'This decision was reached due to the absence of evidence supporting a '\n",
      " \"diagnosis that would necessitate PPI therapy. The patient's listed \"\n",
      " 'diagnoses, including Arthritis, Hypertension, and Hyperlipidemia, are not '\n",
      " 'directly related to the typical indications for PPI therapy. Additionally, '\n",
      " 'the primary diagnosis of Influenza A infection does not typically require '\n",
      " 'PPI therapy. As a result, the PPI medication is not deemed necessary, and '\n",
      " 'deprescription is recommended.')\n"
     ]
    }
   ],
   "source": [
    "pprint.pprint(final_explanation)"
   ]
  },
  {
   "cell_type": "code",
   "execution_count": 23,
   "metadata": {},
   "outputs": [
    {
     "name": "stdout",
     "output_type": "stream",
     "text": [
      "[{'associated diagnosis list': ['Barretts Esophagus or esophageal cell changes',\n",
      "                                'Chronic Non-Steroidal Anti Inflammatory '\n",
      "                                '(NSAID) use or GI prophylaxis NSAID use',\n",
      "                                'Severe esophagitis including bleeding '\n",
      "                                'esophagitis or esophageal ulcer',\n",
      "                                'History of gastrointestinal bleeding, gastric '\n",
      "                                'ulcer, upper GI bleed, or peptic ulcer '\n",
      "                                'hemorrhage'],\n",
      "  'diagnosis_boolean': '0',\n",
      "  'explanation': 'The provided information does not include any evidence of '\n",
      "                 \"the specified conditions. The patient's diagnoses include \"\n",
      "                 'Urinary Tract Infection, Atrial Fibrillation, Hypertension, '\n",
      "                 'and Hyperlipidemia, but none of the conditions that would '\n",
      "                 'typically require a PPI are mentioned.',\n",
      "  'recommendation considered': 'continue',\n",
      "  'source': 'Patient diagnosis record'},\n",
      " {'associated diagnosis list': ['Peptic Ulcer Disease or Gastroduodenal ulcer '\n",
      "                                'treated for 2 - 12 weeks caused from H Pylori '\n",
      "                                'infection or NSAID use without bleeding',\n",
      "                                'Upper GI Symptoms such as reflux, difficulty '\n",
      "                                'swallowing, nausea, or vomiting without '\n",
      "                                'endoscopy - asymptomatic for 3 consecutive '\n",
      "                                'days',\n",
      "                                'ICU Stress Ulcer Prophylaxis',\n",
      "                                'Completed Heliobacter Pylori (H. Pylori) '\n",
      "                                'infection treated for 14 days with '\n",
      "                                'combination therapy'],\n",
      "  'diagnosis_boolean': '0',\n",
      "  'explanation': 'There is no evidence of Peptic Ulcer Disease or '\n",
      "                 'Gastroduodenal ulcer, Upper GI Symptoms, ICU Stress Ulcer '\n",
      "                 'Prophylaxis, or Completed Heliobacter Pylori (H. Pylori) '\n",
      "                 \"infection in the provided information. The patient's \"\n",
      "                 'diagnoses include Urinary Tract Infection, Atrial '\n",
      "                 'Fibrillation, Hypertension, and Hyperlipidemia, but none of '\n",
      "                 'these conditions are directly related to the use of a PPI.',\n",
      "  'recommendation considered': 'stop',\n",
      "  'source': 'Patient diagnosis record'},\n",
      " {'associated diagnosis list': ['Mild to moderate esophagitis or esophageal '\n",
      "                                'inflammation',\n",
      "                                'Treated Gastroesophageal Reflux Disease '\n",
      "                                '(GERD) or reflux symptoms such as acid '\n",
      "                                'reflux, heartburn, or regurgitation'],\n",
      "  'diagnosis_boolean': '0',\n",
      "  'explanation': 'There is no evidence of esophagitis, esophageal '\n",
      "                 'inflammation, GERD, or reflux symptoms such as acid reflux, '\n",
      "                 'heartburn, or regurgitation in the provided information. The '\n",
      "                 'listed diagnoses include Urinary Tract Infection, Atrial '\n",
      "                 'Fibrillation, Hypertension, and Hyperlipidemia, but none of '\n",
      "                 'these conditions are directly related to the use of a PPI '\n",
      "                 'for esophagitis or GERD.',\n",
      "  'recommendation considered': 'deprescribe',\n",
      "  'source': 'Patient diagnosis record'},\n",
      " {'associated diagnosis list': ['Barretts Esophagus or esophageal cell changes',\n",
      "                                'Chronic Non-Steroidal Anti Inflammatory '\n",
      "                                '(NSAID) use or GI prophylaxis NSAID use',\n",
      "                                'Severe esophagitis including bleeding '\n",
      "                                'esophagitis or esophageal ulcer',\n",
      "                                'History of gastrointestinal bleeding, gastric '\n",
      "                                'ulcer, upper GI bleed, or peptic ulcer '\n",
      "                                'hemorrhage'],\n",
      "  'diagnosis_boolean': '0',\n",
      "  'explanation': 'There is no evidence in the provided information to support '\n",
      "                 \"a diagnosis of Barrett's Esophagus or esophageal cell \"\n",
      "                 'changes, Chronic Non-Steroidal Anti Inflammatory (NSAID) use '\n",
      "                 'or GI prophylaxis NSAID use, Severe esophagitis including '\n",
      "                 'bleeding esophagitis or esophageal ulcer, or History of '\n",
      "                 'gastrointestinal bleeding, gastric ulcer, upper GI bleed, or '\n",
      "                 'peptic ulcer hemorrhage. The primary diagnosis listed is '\n",
      "                 'Acute myocardial infarction, which does not directly relate '\n",
      "                 'to the conditions typically treated with a PPI.',\n",
      "  'recommendation considered': 'continue',\n",
      "  'source': 'Patient encounter record'},\n",
      " {'associated diagnosis list': ['Peptic Ulcer Disease or Gastroduodenal ulcer '\n",
      "                                'treated for 2 - 12 weeks caused from H Pylori '\n",
      "                                'infection or NSAID use without bleeding',\n",
      "                                'Upper GI Symptoms such as reflux, difficulty '\n",
      "                                'swallowing, nausea, or vomiting without '\n",
      "                                'endoscopy - asymptomatic for 3 consecutive '\n",
      "                                'days',\n",
      "                                'ICU Stress Ulcer Prophylaxis',\n",
      "                                'Completed Heliobacter Pylori (H. Pylori) '\n",
      "                                'infection treated for 14 days with '\n",
      "                                'combination therapy'],\n",
      "  'diagnosis_boolean': '0',\n",
      "  'explanation': 'There is no evidence in the provided information to support '\n",
      "                 'any of the specified conditions. The primary diagnosis is '\n",
      "                 \"listed as 'Acute myocardial infarction', but there is no \"\n",
      "                 'mention of peptic ulcer disease, gastroduodenal ulcer, upper '\n",
      "                 'GI symptoms, ICU stress ulcer prophylaxis, or H. Pylori '\n",
      "                 'infection. Therefore, it is unclear why the patient is '\n",
      "                 'prescribed a PPI and further investigation is needed to '\n",
      "                 'determine the appropriate course of action.',\n",
      "  'recommendation considered': 'stop',\n",
      "  'source': 'Patient encounter record'},\n",
      " {'associated diagnosis list': ['Mild to moderate esophagitis or esophageal '\n",
      "                                'inflammation',\n",
      "                                'Treated Gastroesophageal Reflux Disease '\n",
      "                                '(GERD) or reflux symptoms such as acid '\n",
      "                                'reflux, heartburn, or regurgitation'],\n",
      "  'diagnosis_boolean': '0',\n",
      "  'explanation': 'There is no direct evidence in the provided information to '\n",
      "                 \"support a diagnosis of 'Mild to moderate esophagitis or \"\n",
      "                 \"esophageal inflammation' or 'Treated Gastroesophageal Reflux \"\n",
      "                 'Disease (GERD) or reflux symptoms such as acid reflux, '\n",
      "                 \"heartburn, or regurgitation'. The primary diagnosis listed \"\n",
      "                 \"is 'Acute myocardial infarction', which does not directly \"\n",
      "                 'relate to the conditions typically treated with a PPI.',\n",
      "  'recommendation considered': 'deprescribe',\n",
      "  'source': 'Patient encounter record'},\n",
      " {'associated diagnosis list': ['Barretts Esophagus or esophageal cell changes',\n",
      "                                'Chronic Non-Steroidal Anti Inflammatory '\n",
      "                                '(NSAID) use or GI prophylaxis NSAID use',\n",
      "                                'Severe esophagitis including bleeding '\n",
      "                                'esophagitis or esophageal ulcer',\n",
      "                                'History of gastrointestinal bleeding, gastric '\n",
      "                                'ulcer, upper GI bleed, or peptic ulcer '\n",
      "                                'hemorrhage'],\n",
      "  'diagnosis_boolean': '0',\n",
      "  'explanation': \"There is no evidence of Barrett's Esophagus or esophageal \"\n",
      "                 'cell changes, Chronic Non-Steroidal Anti Inflammatory '\n",
      "                 '(NSAID) use or GI prophylaxis NSAID use, Severe esophagitis '\n",
      "                 'including bleeding esophagitis or esophageal ulcer, or '\n",
      "                 'History of gastrointestinal bleeding, gastric ulcer, upper '\n",
      "                 'GI bleed, or peptic ulcer hemorrhage. The patient is '\n",
      "                 'receiving Pantoprazole for stress ulcer prophylaxis due to '\n",
      "                 'hemodynamic instability in the ICU setting with acute '\n",
      "                 'myocardial infarction and atrial fibrillation.',\n",
      "  'recommendation considered': 'continue',\n",
      "  'source': 'Patient notes history'},\n",
      " {'associated diagnosis list': ['Peptic Ulcer Disease or Gastroduodenal ulcer '\n",
      "                                'treated for 2 - 12 weeks caused from H Pylori '\n",
      "                                'infection or NSAID use without bleeding',\n",
      "                                'Upper GI Symptoms such as reflux, difficulty '\n",
      "                                'swallowing, nausea, or vomiting without '\n",
      "                                'endoscopy - asymptomatic for 3 consecutive '\n",
      "                                'days',\n",
      "                                'ICU Stress Ulcer Prophylaxis',\n",
      "                                'Completed Heliobacter Pylori (H. Pylori) '\n",
      "                                'infection treated for 14 days with '\n",
      "                                'combination therapy'],\n",
      "  'diagnosis_boolean': '1',\n",
      "  'explanation': 'The patient is receiving Pantoprazole 40 mg daily for stress '\n",
      "                 'ulcer prophylaxis, which is consistent with standard ICU '\n",
      "                 'practice for patients with hemodynamic instability, such as '\n",
      "                 'those with acute myocardial infarction and atrial '\n",
      "                 'fibrillation. This indicates that the patient meets the '\n",
      "                 'criteria for ICU Stress Ulcer Prophylaxis.',\n",
      "  'recommendation considered': 'stop',\n",
      "  'source': 'Patient notes history'},\n",
      " {'associated diagnosis list': ['Mild to moderate esophagitis or esophageal '\n",
      "                                'inflammation',\n",
      "                                'Treated Gastroesophageal Reflux Disease '\n",
      "                                '(GERD) or reflux symptoms such as acid '\n",
      "                                'reflux, heartburn, or regurgitation'],\n",
      "  'diagnosis_boolean': '0',\n",
      "  'explanation': 'There is no evidence of mild to moderate esophagitis or '\n",
      "                 'esophageal inflammation, or treated Gastroesophageal Reflux '\n",
      "                 'Disease (GERD) or reflux symptoms such as acid reflux, '\n",
      "                 'heartburn, or regurgitation. The patient is receiving '\n",
      "                 'Pantoprazole 40 mg daily for stress ulcer prophylaxis due to '\n",
      "                 'hemodynamic instability in the ICU setting with acute '\n",
      "                 'myocardial infarction and atrial fibrillation.',\n",
      "  'recommendation considered': 'deprescribe',\n",
      "  'source': 'Patient notes history'}]\n"
     ]
    }
   ],
   "source": [
    "pprint.pprint(search_history_thus_far_list)"
   ]
  },
  {
   "cell_type": "code",
   "execution_count": 24,
   "metadata": {},
   "outputs": [
    {
     "data": {
      "text/plain": [
       "8093"
      ]
     },
     "execution_count": 24,
     "metadata": {},
     "output_type": "execute_result"
    }
   ],
   "source": [
    "token_usage"
   ]
  },
  {
   "cell_type": "code",
   "execution_count": 25,
   "metadata": {},
   "outputs": [
    {
     "name": "stdout",
     "output_type": "stream",
     "text": [
      "{'diagnosis_source_continue': 624,\n",
      " 'diagnosis_source_deprescribe': 622,\n",
      " 'diagnosis_source_stop': 683,\n",
      " 'encounters_source_continue': 724,\n",
      " 'encounters_source_deprescribe': 668,\n",
      " 'encounters_source_stop': 720,\n",
      " 'final_summary': 2113,\n",
      " 'notes_source_continue': 675,\n",
      " 'notes_source_deprescribe': 617,\n",
      " 'notes_source_stop': 647}\n"
     ]
    }
   ],
   "source": [
    "pprint.pprint(token_count_history)"
   ]
  },
  {
   "cell_type": "code",
   "execution_count": null,
   "metadata": {},
   "outputs": [],
   "source": []
  },
  {
   "cell_type": "code",
   "execution_count": null,
   "metadata": {},
   "outputs": [],
   "source": []
  },
  {
   "cell_type": "code",
   "execution_count": null,
   "metadata": {},
   "outputs": [],
   "source": []
  }
 ],
 "metadata": {
  "kernelspec": {
   "display_name": "capstone",
   "language": "python",
   "name": "python3"
  },
  "language_info": {
   "codemirror_mode": {
    "name": "ipython",
    "version": 3
   },
   "file_extension": ".py",
   "mimetype": "text/x-python",
   "name": "python",
   "nbconvert_exporter": "python",
   "pygments_lexer": "ipython3",
   "version": "3.12.5"
  }
 },
 "nbformat": 4,
 "nbformat_minor": 2
}
