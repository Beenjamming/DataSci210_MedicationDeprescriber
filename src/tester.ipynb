{
 "cells": [
  {
   "cell_type": "code",
   "execution_count": 1,
   "metadata": {},
   "outputs": [],
   "source": [
    "import pandas as pd\n",
    "import numpy as np\n",
    "from langchain_core.prompts import ChatPromptTemplate\n",
    "from langchain_groq import ChatGroq\n",
    "import os\n",
    "import json\n",
    "from pathlib import Path\n",
    "import pprint"
   ]
  },
  {
   "cell_type": "code",
   "execution_count": 2,
   "metadata": {},
   "outputs": [
    {
     "name": "stderr",
     "output_type": "stream",
     "text": [
      "/Users/yarg/Library/CloudStorage/OneDrive-Personal/Documents/GitHub/DataSci210_MedicationDeprescriber/src/extraction.py:14: LangChainDeprecationWarning: The class `HuggingFaceEmbeddings` was deprecated in LangChain 0.2.2 and will be removed in 1.0. An updated version of the class exists in the :class:`~langchain-huggingface package and should be used instead. To use it run `pip install -U :class:`~langchain-huggingface` and import as `from :class:`~langchain_huggingface import HuggingFaceEmbeddings``.\n",
      "  embeddings = HuggingFaceEmbeddings(model_name=\"NeuML/pubmedbert-base-embeddings\")\n",
      "/opt/anaconda3/envs/capstone/lib/python3.12/site-packages/sentence_transformers/cross_encoder/CrossEncoder.py:13: TqdmExperimentalWarning: Using `tqdm.autonotebook.tqdm` in notebook mode. Use `tqdm.tqdm` instead to force console mode (e.g. in jupyter console)\n",
      "  from tqdm.autonotebook import tqdm, trange\n"
     ]
    }
   ],
   "source": [
    "from main import main"
   ]
  },
  {
   "cell_type": "code",
   "execution_count": 3,
   "metadata": {},
   "outputs": [],
   "source": [
    "groq_key = \"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\""
   ]
  },
  {
   "cell_type": "code",
   "execution_count": 4,
   "metadata": {},
   "outputs": [],
   "source": [
    "data_path = Path(\n",
    "    # r\"C:\\Users\\grays\\OneDrive\\Documents\\GitHub\\DataSci210_MedicationDeprescriber\\Data\"\n",
    "    \"/Users/yarg/Library/CloudStorage/OneDrive-Personal/Documents/GitHub/DataSci210_MedicationDeprescriber/Data\"\n",
    ")"
   ]
  },
  {
   "cell_type": "code",
   "execution_count": 34,
   "metadata": {},
   "outputs": [],
   "source": [
    "encounter_key = \"SyntheticPt5\""
   ]
  },
  {
   "cell_type": "code",
   "execution_count": 35,
   "metadata": {},
   "outputs": [],
   "source": [
    "(\n",
    "    final_recommendation,\n",
    "    final_explanation,\n",
    "    token_usage,\n",
    "    search_history_thus_far_list,\n",
    "    token_count_history,\n",
    ") = main(groq_key=groq_key, data_path=data_path, encounter_key=encounter_key)"
   ]
  },
  {
   "cell_type": "code",
   "execution_count": 36,
   "metadata": {},
   "outputs": [
    {
     "data": {
      "text/plain": [
       "'deprescribe'"
      ]
     },
     "execution_count": 36,
     "metadata": {},
     "output_type": "execute_result"
    }
   ],
   "source": [
    "final_recommendation"
   ]
  },
  {
   "cell_type": "code",
   "execution_count": 37,
   "metadata": {},
   "outputs": [
    {
     "name": "stdout",
     "output_type": "stream",
     "text": [
      "('**Medication Recommendation Summary**\\n'\n",
      " '\\n'\n",
      " \"Based on the patient's health information, the recommended action for the \"\n",
      " 'Proton Pump Inhibitor (PPI) medication is to **deprescribe**.\\n'\n",
      " '\\n'\n",
      " 'The deprescription recommendation is supported by the presence of a past '\n",
      " 'medical history of Gastroesophageal Reflux Disease (GERD) and ongoing '\n",
      " \"management with esomeprazole 40 mg daily, as noted in the patient's medical \"\n",
      " 'notes history (source: notes). However, there is no direct evidence of mild '\n",
      " 'to moderate esophagitis or esophageal inflammation, which are conditions '\n",
      " 'that would warrant continued PPI use.\\n'\n",
      " '\\n'\n",
      " \"The patient's primary diagnosis of abdominal pain, as listed in the patient \"\n",
      " 'encounter record, is a non-specific symptom that does not provide sufficient '\n",
      " 'evidence to confirm the presence of esophagitis, esophageal inflammation, or '\n",
      " \"GERD. Additionally, the patient's symptoms are not typical of upper GI \"\n",
      " 'symptoms, and the patient is already being treated for GERD.\\n'\n",
      " '\\n'\n",
      " 'Therefore, based on the available information, the PPI medication can be '\n",
      " 'deprescribed.')\n"
     ]
    }
   ],
   "source": [
    "pprint.pprint(final_explanation)"
   ]
  },
  {
   "cell_type": "code",
   "execution_count": 38,
   "metadata": {},
   "outputs": [
    {
     "data": {
      "text/plain": [
       "[{'diagnosis_boolean': '0',\n",
       "  'explanation': \"The provided information does not mention Barrett's Esophagus or esophageal cell changes, Chronic Non-Steroidal Anti Inflammatory (NSAID) use or GI prophylaxis NSAID use, Severe esophagitis including bleeding esophagitis or esophageal ulcer, or History of gastrointestinal bleeding, gastric ulcer, upper GI bleed, or peptic ulcer hemorrhage. However, the patient has a diagnosis of GERD, which is a common indication for PPI use, but it is not among the specific conditions listed for consideration.\",\n",
       "  'source': 'Patient diagnosis record',\n",
       "  'recommendation considered': 'continue',\n",
       "  'associated diagnosis list': ['Barretts Esophagus or esophageal cell changes',\n",
       "   'Chronic Non-Steroidal Anti Inflammatory (NSAID) use or GI prophylaxis NSAID use',\n",
       "   'Severe esophagitis including bleeding esophagitis or esophageal ulcer',\n",
       "   'History of gastrointestinal bleeding, gastric ulcer, upper GI bleed, or peptic ulcer hemorrhage']},\n",
       " {'diagnosis_boolean': '0',\n",
       "  'explanation': 'The provided information does not include any evidence of Peptic Ulcer Disease or Gastroduodenal ulcer, Upper GI Symptoms with endoscopy results, ICU Stress Ulcer Prophylaxis, or Completed Heliobacter Pylori (H. Pylori) infection treatment. However, the patient has a diagnosis of GERD, which is a common indication for PPI use, but it is not one of the specified conditions.',\n",
       "  'source': 'Patient diagnosis record',\n",
       "  'recommendation considered': 'stop',\n",
       "  'associated diagnosis list': ['Peptic Ulcer Disease or Gastroduodenal ulcer treated for 2 - 12 weeks caused from H Pylori infection or NSAID use without bleeding',\n",
       "   'Upper GI Symptoms such as reflux, difficulty swallowing, nausea, or vomiting without endoscopy - asymptomatic for 3 consecutive days',\n",
       "   'ICU Stress Ulcer Prophylaxis',\n",
       "   'Completed Heliobacter Pylori (H. Pylori) infection treated for 14 days with combination therapy']},\n",
       " {'diagnosis_boolean': '1',\n",
       "  'explanation': 'The patient has a present on admit diagnosis of GERD, which is a condition that is commonly treated with a PPI. This suggests that the PPI was prescribed for the treatment of GERD or reflux symptoms such as acid reflux, heartburn, or regurgitation.',\n",
       "  'source': 'Patient diagnosis record',\n",
       "  'recommendation considered': 'deprescribe',\n",
       "  'associated diagnosis list': ['Mild to moderate esophagitis or esophageal inflammation',\n",
       "   'Treated Gastroesophageal Reflux Disease (GERD) or reflux symptoms such as acid reflux, heartburn, or regurgitation']},\n",
       " {'diagnosis_boolean': '0',\n",
       "  'explanation': \"There is no evidence in the provided information to support a diagnosis of Barrett's Esophagus or esophageal cell changes, Chronic Non-Steroidal Anti Inflammatory (NSAID) use or GI prophylaxis NSAID use, Severe esophagitis including bleeding esophagitis or esophageal ulcer, or History of gastrointestinal bleeding, gastric ulcer, upper GI bleed, or peptic ulcer hemorrhage. The primary diagnosis listed is 'Abdominal pain', which is a non-specific symptom and does not provide enough information to determine the need for a PPI.\",\n",
       "  'source': 'Patient encounter record',\n",
       "  'recommendation considered': 'continue',\n",
       "  'associated diagnosis list': ['Barretts Esophagus or esophageal cell changes',\n",
       "   'Chronic Non-Steroidal Anti Inflammatory (NSAID) use or GI prophylaxis NSAID use',\n",
       "   'Severe esophagitis including bleeding esophagitis or esophageal ulcer',\n",
       "   'History of gastrointestinal bleeding, gastric ulcer, upper GI bleed, or peptic ulcer hemorrhage']},\n",
       " {'diagnosis_boolean': '0',\n",
       "  'explanation': \"There is no evidence of Peptic Ulcer Disease or Gastroduodenal ulcer treated for 2 - 12 weeks caused from H Pylori infection or NSAID use without bleeding, Upper GI Symptoms such as reflux, difficulty swallowing, nausea, or vomiting without endoscopy - asymptomatic for 3 consecutive days, ICU Stress Ulcer Prophylaxis, or Completed Heliobacter Pylori (H. Pylori) infection treated for 14 days with combination therapy. The primary diagnosis is listed as 'Abdominal pain', but there is no further information to support the use of a PPI for any of the specified conditions.\",\n",
       "  'source': 'Patient encounter record',\n",
       "  'recommendation considered': 'stop',\n",
       "  'associated diagnosis list': ['Peptic Ulcer Disease or Gastroduodenal ulcer treated for 2 - 12 weeks caused from H Pylori infection or NSAID use without bleeding',\n",
       "   'Upper GI Symptoms such as reflux, difficulty swallowing, nausea, or vomiting without endoscopy - asymptomatic for 3 consecutive days',\n",
       "   'ICU Stress Ulcer Prophylaxis',\n",
       "   'Completed Heliobacter Pylori (H. Pylori) infection treated for 14 days with combination therapy']},\n",
       " {'diagnosis_boolean': '0',\n",
       "  'explanation': \"There is no direct evidence of esophagitis, esophageal inflammation, GERD, or reflux symptoms in the provided information. The primary diagnosis is listed as 'Abdominal pain', which is a non-specific symptom that could be related to various conditions, but it does not provide sufficient evidence to confirm the presence of esophagitis, esophageal inflammation, or GERD.\",\n",
       "  'source': 'Patient encounter record',\n",
       "  'recommendation considered': 'deprescribe',\n",
       "  'associated diagnosis list': ['Mild to moderate esophagitis or esophageal inflammation',\n",
       "   'Treated Gastroesophageal Reflux Disease (GERD) or reflux symptoms such as acid reflux, heartburn, or regurgitation']},\n",
       " {'diagnosis_boolean': '0',\n",
       "  'explanation': \"There is no evidence of Barrett's Esophagus or esophageal cell changes, severe esophagitis including bleeding esophagitis or esophageal ulcer, or history of gastrointestinal bleeding, gastric ulcer, upper GI bleed, or peptic ulcer hemorrhage in the provided context. However, the patient is taking ibuprofen 800 mg twice daily, which represents chronic NSAID use with potential GI bleeding risk, but this is not the primary reason for the PPI prescription as the patient has a past medical history of GERD and is currently taking esomeprazole 40 mg daily for its management.\",\n",
       "  'source': 'Patient notes history',\n",
       "  'recommendation considered': 'continue',\n",
       "  'associated diagnosis list': ['Barretts Esophagus or esophageal cell changes',\n",
       "   'Chronic Non-Steroidal Anti Inflammatory (NSAID) use or GI prophylaxis NSAID use',\n",
       "   'Severe esophagitis including bleeding esophagitis or esophageal ulcer',\n",
       "   'History of gastrointestinal bleeding, gastric ulcer, upper GI bleed, or peptic ulcer hemorrhage']},\n",
       " {'diagnosis_boolean': '0',\n",
       "  'explanation': \"There is no evidence of Peptic Ulcer Disease or Gastroduodenal ulcer treated for 2 - 12 weeks caused from H Pylori infection or NSAID use without bleeding, as the patient's abdominal pain is likely due to constipation and not related to a peptic ulcer. Additionally, there is no evidence of Upper GI Symptoms such as reflux, difficulty swallowing, nausea, or vomiting without endoscopy - asymptomatic for 3 consecutive days, as the patient's symptoms are not typical of upper GI symptoms and the patient is already being treated for GERD. There is also no evidence of ICU Stress Ulcer Prophylaxis, as the patient is not in the ICU. Lastly, there is no evidence of Completed Heliobacter Pylori (H. Pylori) infection treated for 14 days with combination therapy, as there is no mention of H. Pylori infection in the patient's history or treatment plan.\",\n",
       "  'source': 'Patient notes history',\n",
       "  'recommendation considered': 'stop',\n",
       "  'associated diagnosis list': ['Peptic Ulcer Disease or Gastroduodenal ulcer treated for 2 - 12 weeks caused from H Pylori infection or NSAID use without bleeding',\n",
       "   'Upper GI Symptoms such as reflux, difficulty swallowing, nausea, or vomiting without endoscopy - asymptomatic for 3 consecutive days',\n",
       "   'ICU Stress Ulcer Prophylaxis',\n",
       "   'Completed Heliobacter Pylori (H. Pylori) infection treated for 14 days with combination therapy']},\n",
       " {'diagnosis_boolean': '1',\n",
       "  'explanation': 'The patient has a past medical history of GERD and is currently taking esomeprazole 40 mg daily, which suggests ongoing management of GERD. Additionally, the patient presents with abdominal pain primarily located in the epigastric region, which is consistent with GERD symptoms. However, there is no direct evidence of mild to moderate esophagitis or esophageal inflammation in the provided information.',\n",
       "  'source': 'Patient notes history',\n",
       "  'recommendation considered': 'deprescribe',\n",
       "  'associated diagnosis list': ['Mild to moderate esophagitis or esophageal inflammation',\n",
       "   'Treated Gastroesophageal Reflux Disease (GERD) or reflux symptoms such as acid reflux, heartburn, or regurgitation']}]"
      ]
     },
     "execution_count": 38,
     "metadata": {},
     "output_type": "execute_result"
    }
   ],
   "source": [
    "search_history_thus_far_list"
   ]
  },
  {
   "cell_type": "code",
   "execution_count": null,
   "metadata": {},
   "outputs": [],
   "source": []
  },
  {
   "cell_type": "code",
   "execution_count": 28,
   "metadata": {},
   "outputs": [
    {
     "data": {
      "text/plain": [
       "'deprescribe'"
      ]
     },
     "execution_count": 28,
     "metadata": {},
     "output_type": "execute_result"
    }
   ],
   "source": [
    "final_recommendation"
   ]
  },
  {
   "cell_type": "code",
   "execution_count": 29,
   "metadata": {},
   "outputs": [
    {
     "name": "stdout",
     "output_type": "stream",
     "text": [
      "('**Medication Recommendation Summary**\\n'\n",
      " '\\n'\n",
      " \"Based on the patient's health information, the recommended action for the \"\n",
      " 'Proton Pump Inhibitor (PPI) medication is to **deprescribe**.\\n'\n",
      " '\\n'\n",
      " \"The recommendation to deprescribe the PPI is supported by the patient's past \"\n",
      " 'medical history of Gastroesophageal Reflux Disease (GERD) and the current '\n",
      " 'management of GERD symptoms (Source: Patient notes history). However, there '\n",
      " 'is no direct evidence of mild to moderate esophagitis or esophageal '\n",
      " 'inflammation, which are common indications for PPI use (Source: Patient '\n",
      " 'notes history).\\n'\n",
      " '\\n'\n",
      " \"Additionally, the patient's current symptoms and lab results do not indicate \"\n",
      " 'severe esophagitis or gastrointestinal bleeding, which are also common '\n",
      " 'indications for PPI use (Source: Patient notes history).\\n'\n",
      " '\\n'\n",
      " \"Overall, the patient's current health status and medical history suggest \"\n",
      " 'that the PPI medication can be safely deprescribed.')\n"
     ]
    }
   ],
   "source": [
    "pprint.pprint(final_explanation)"
   ]
  },
  {
   "cell_type": "code",
   "execution_count": null,
   "metadata": {},
   "outputs": [],
   "source": []
  },
  {
   "cell_type": "code",
   "execution_count": 21,
   "metadata": {},
   "outputs": [
    {
     "data": {
      "text/plain": [
       "'deprescribe'"
      ]
     },
     "execution_count": 21,
     "metadata": {},
     "output_type": "execute_result"
    }
   ],
   "source": [
    "final_recommendation"
   ]
  },
  {
   "cell_type": "code",
   "execution_count": 22,
   "metadata": {},
   "outputs": [
    {
     "name": "stdout",
     "output_type": "stream",
     "text": [
      "('**Medication Recommendation Summary**\\n'\n",
      " '\\n'\n",
      " \"Based on the patient's health information, the recommended action for the \"\n",
      " \"patient's proton pump inhibitor (PPI) medication is to **deprescribe**.\\n\"\n",
      " '\\n'\n",
      " \"This recommendation is supported by the patient's clinician notes, which \"\n",
      " 'mention \"Mild esophagitis\" and treatment with esomeprazole 40 mg daily '\n",
      " \"(source: Patient notes history). However, the patient's condition no longer \"\n",
      " 'requires long-term PPI use, as the associated diagnoses of \"Mild to moderate '\n",
      " 'esophagitis or esophageal inflammation\" and \"Treated Gastroesophageal Reflux '\n",
      " 'Disease (GERD) or reflux symptoms\" have been addressed (source: Patient '\n",
      " 'notes history).\\n'\n",
      " '\\n'\n",
      " \"The patient's diagnosis record, encounter record, and medical notes history \"\n",
      " 'were reviewed, and no evidence was found to support the continued use of '\n",
      " \"PPIs for conditions such as Barrett's Esophagus, peptic ulcer disease, or \"\n",
      " 'severe esophagitis. Therefore, deprescribing the PPI medication is the '\n",
      " 'recommended course of action.')\n"
     ]
    }
   ],
   "source": [
    "pprint.pprint(final_explanation)"
   ]
  },
  {
   "cell_type": "code",
   "execution_count": 23,
   "metadata": {},
   "outputs": [
    {
     "data": {
      "text/plain": [
       "11508"
      ]
     },
     "execution_count": 23,
     "metadata": {},
     "output_type": "execute_result"
    }
   ],
   "source": [
    "token_usage"
   ]
  },
  {
   "cell_type": "code",
   "execution_count": 24,
   "metadata": {},
   "outputs": [
    {
     "name": "stdout",
     "output_type": "stream",
     "text": [
      "[{'associated diagnosis list': ['Barretts Esophagus or esophageal cell changes',\n",
      "                                'Chronic Non-Steroidal Anti Inflammatory '\n",
      "                                '(NSAID) use or GI prophylaxis NSAID use',\n",
      "                                'Severe esophagitis including bleeding '\n",
      "                                'esophagitis or esophageal ulcer',\n",
      "                                'History of gastrointestinal bleeding, gastric '\n",
      "                                'ulcer, upper GI bleed, or peptic ulcer '\n",
      "                                'hemorrhage'],\n",
      "  'diagnosis_boolean': '0',\n",
      "  'explanation': \"There is no evidence of Barrett's Esophagus or esophageal \"\n",
      "                 'cell changes, Chronic Non-Steroidal Anti Inflammatory '\n",
      "                 '(NSAID) use or GI prophylaxis NSAID use, Severe esophagitis '\n",
      "                 'including bleeding esophagitis or esophageal ulcer, or '\n",
      "                 'History of gastrointestinal bleeding, gastric ulcer, upper '\n",
      "                 'GI bleed, or peptic ulcer hemorrhage in the provided '\n",
      "                 \"information. The patient's diagnoses include Type 2 Diabetes \"\n",
      "                 'Mellitus, Hypertension, Hyperlipidemia, and Obesity, but '\n",
      "                 'none of these conditions are directly related to the use of '\n",
      "                 'a PPI.',\n",
      "  'recommendation considered': 'continue',\n",
      "  'source': 'Patient diagnosis record'},\n",
      " {'associated diagnosis list': ['Peptic Ulcer Disease or Gastroduodenal ulcer '\n",
      "                                'treated for 2 - 12 weeks caused from H Pylori '\n",
      "                                'infection or NSAID use without bleeding',\n",
      "                                'Upper GI Symptoms such as reflux, difficulty '\n",
      "                                'swallowing, nausea, or vomiting without '\n",
      "                                'endoscopy - asymptomatic for 3 consecutive '\n",
      "                                'days',\n",
      "                                'ICU Stress Ulcer Prophylaxis',\n",
      "                                'Completed Heliobacter Pylori (H. Pylori) '\n",
      "                                'infection treated for 14 days with '\n",
      "                                'combination therapy'],\n",
      "  'diagnosis_boolean': '0',\n",
      "  'explanation': 'There is no evidence of Peptic Ulcer Disease or '\n",
      "                 'Gastroduodenal ulcer, Upper GI Symptoms, ICU Stress Ulcer '\n",
      "                 'Prophylaxis, or Completed Heliobacter Pylori (H. Pylori) '\n",
      "                 \"infection in the provided information. The patient's \"\n",
      "                 'diagnoses include Type 2 Diabetes Mellitus, Hypertension, '\n",
      "                 'Hyperlipidemia, and Obesity, but none of these conditions '\n",
      "                 'directly relate to the typical indications for PPI use.',\n",
      "  'recommendation considered': 'stop',\n",
      "  'source': 'Patient diagnosis record'},\n",
      " {'associated diagnosis list': ['Mild to moderate esophagitis or esophageal '\n",
      "                                'inflammation',\n",
      "                                'Treated Gastroesophageal Reflux Disease '\n",
      "                                '(GERD) or reflux symptoms such as acid '\n",
      "                                'reflux, heartburn, or regurgitation'],\n",
      "  'diagnosis_boolean': '0',\n",
      "  'explanation': 'There is no evidence of esophagitis, esophageal '\n",
      "                 'inflammation, GERD, or reflux symptoms such as acid reflux, '\n",
      "                 'heartburn, or regurgitation in the provided information. The '\n",
      "                 'listed diagnoses include Type 2 Diabetes Mellitus, '\n",
      "                 'Hypertension, Hyperlipidemia, and Obesity, but none of these '\n",
      "                 'conditions directly relate to the use of a PPI for '\n",
      "                 'esophagitis or GERD.',\n",
      "  'recommendation considered': 'deprescribe',\n",
      "  'source': 'Patient diagnosis record'},\n",
      " {'associated diagnosis list': ['Barretts Esophagus or esophageal cell changes',\n",
      "                                'Chronic Non-Steroidal Anti Inflammatory '\n",
      "                                '(NSAID) use or GI prophylaxis NSAID use',\n",
      "                                'Severe esophagitis including bleeding '\n",
      "                                'esophagitis or esophageal ulcer',\n",
      "                                'History of gastrointestinal bleeding, gastric '\n",
      "                                'ulcer, upper GI bleed, or peptic ulcer '\n",
      "                                'hemorrhage'],\n",
      "  'diagnosis_boolean': '0',\n",
      "  'explanation': 'There is no evidence in the provided information to support '\n",
      "                 \"a diagnosis of Barrett's Esophagus or esophageal cell \"\n",
      "                 'changes, Chronic Non-Steroidal Anti Inflammatory (NSAID) use '\n",
      "                 'or GI prophylaxis NSAID use, Severe esophagitis including '\n",
      "                 'bleeding esophagitis or esophageal ulcer, or History of '\n",
      "                 'gastrointestinal bleeding, gastric ulcer, upper GI bleed, or '\n",
      "                 'peptic ulcer hemorrhage. The primary diagnosis is Right knee '\n",
      "                 'cellulitis, which is unrelated to the conditions typically '\n",
      "                 'treated with PPIs.',\n",
      "  'recommendation considered': 'continue',\n",
      "  'source': 'Patient encounter record'},\n",
      " {'associated diagnosis list': ['Peptic Ulcer Disease or Gastroduodenal ulcer '\n",
      "                                'treated for 2 - 12 weeks caused from H Pylori '\n",
      "                                'infection or NSAID use without bleeding',\n",
      "                                'Upper GI Symptoms such as reflux, difficulty '\n",
      "                                'swallowing, nausea, or vomiting without '\n",
      "                                'endoscopy - asymptomatic for 3 consecutive '\n",
      "                                'days',\n",
      "                                'ICU Stress Ulcer Prophylaxis',\n",
      "                                'Completed Heliobacter Pylori (H. Pylori) '\n",
      "                                'infection treated for 14 days with '\n",
      "                                'combination therapy'],\n",
      "  'diagnosis_boolean': '0',\n",
      "  'explanation': 'There is no evidence in the provided information to support '\n",
      "                 'any of the specified conditions. The primary diagnosis is '\n",
      "                 \"'Right knee cellulitis', and there is no mention of peptic \"\n",
      "                 'ulcer disease, gastroduodenal ulcer, upper GI symptoms, ICU '\n",
      "                 'stress ulcer prophylaxis, or H. Pylori infection treatment.',\n",
      "  'recommendation considered': 'stop',\n",
      "  'source': 'Patient encounter record'},\n",
      " {'associated diagnosis list': ['Mild to moderate esophagitis or esophageal '\n",
      "                                'inflammation',\n",
      "                                'Treated Gastroesophageal Reflux Disease '\n",
      "                                '(GERD) or reflux symptoms such as acid '\n",
      "                                'reflux, heartburn, or regurgitation'],\n",
      "  'diagnosis_boolean': '0',\n",
      "  'explanation': 'There is no evidence of esophagitis, esophageal '\n",
      "                 'inflammation, GERD, or reflux symptoms such as acid reflux, '\n",
      "                 'heartburn, or regurgitation in the provided information. The '\n",
      "                 'primary diagnosis is right knee cellulitis, which is '\n",
      "                 'unrelated to the typical indications for PPI use.',\n",
      "  'recommendation considered': 'deprescribe',\n",
      "  'source': 'Patient encounter record'},\n",
      " {'associated diagnosis list': ['Barretts Esophagus or esophageal cell changes',\n",
      "                                'Chronic Non-Steroidal Anti Inflammatory '\n",
      "                                '(NSAID) use or GI prophylaxis NSAID use',\n",
      "                                'Severe esophagitis including bleeding '\n",
      "                                'esophagitis or esophageal ulcer',\n",
      "                                'History of gastrointestinal bleeding, gastric '\n",
      "                                'ulcer, upper GI bleed, or peptic ulcer '\n",
      "                                'hemorrhage'],\n",
      "  'diagnosis_boolean': '0',\n",
      "  'explanation': 'There is no evidence in the provided notes to support the '\n",
      "                 \"diagnosis of Barrett's Esophagus or esophageal cell changes, \"\n",
      "                 'Chronic Non-Steroidal Anti-Inflammatory (NSAID) use or GI '\n",
      "                 'prophylaxis NSAID use, Severe esophagitis including bleeding '\n",
      "                 'esophagitis or esophageal ulcer, or History of '\n",
      "                 'gastrointestinal bleeding, gastric ulcer, upper GI bleed, or '\n",
      "                 'peptic ulcer hemorrhage. The patient is being treated for '\n",
      "                 'mild esophagitis and GERD symptoms, but none of the '\n",
      "                 'mentioned conditions are explicitly stated in the notes.',\n",
      "  'recommendation considered': 'continue',\n",
      "  'source': 'Patient notes history'},\n",
      " {'associated diagnosis list': ['Peptic Ulcer Disease or Gastroduodenal ulcer '\n",
      "                                'treated for 2 - 12 weeks caused from H Pylori '\n",
      "                                'infection or NSAID use without bleeding',\n",
      "                                'Upper GI Symptoms such as reflux, difficulty '\n",
      "                                'swallowing, nausea, or vomiting without '\n",
      "                                'endoscopy - asymptomatic for 3 consecutive '\n",
      "                                'days',\n",
      "                                'ICU Stress Ulcer Prophylaxis',\n",
      "                                'Completed Heliobacter Pylori (H. Pylori) '\n",
      "                                'infection treated for 14 days with '\n",
      "                                'combination therapy'],\n",
      "  'diagnosis_boolean': '0',\n",
      "  'explanation': 'There is no evidence of Peptic Ulcer Disease or '\n",
      "                 'Gastroduodenal ulcer treated for 2 - 12 weeks caused from H '\n",
      "                 'Pylori infection or NSAID use without bleeding, Upper GI '\n",
      "                 'Symptoms such as reflux, difficulty swallowing, nausea, or '\n",
      "                 'vomiting without endoscopy - asymptomatic for 3 consecutive '\n",
      "                 'days, ICU Stress Ulcer Prophylaxis, or Completed Heliobacter '\n",
      "                 'Pylori (H. Pylori) infection treated for 14 days with '\n",
      "                 'combination therapy in the provided clinician notes. The '\n",
      "                 'patient is being treated for mild esophagitis and GERD '\n",
      "                 'symptoms with esomeprazole, but the specific conditions '\n",
      "                 'listed are not mentioned.',\n",
      "  'recommendation considered': 'stop',\n",
      "  'source': 'Patient notes history'},\n",
      " {'associated diagnosis list': ['Mild to moderate esophagitis or esophageal '\n",
      "                                'inflammation',\n",
      "                                'Treated Gastroesophageal Reflux Disease '\n",
      "                                '(GERD) or reflux symptoms such as acid '\n",
      "                                'reflux, heartburn, or regurgitation'],\n",
      "  'diagnosis_boolean': '1',\n",
      "  'explanation': \"There is evidence of both 'Mild to moderate esophagitis or \"\n",
      "                 \"esophageal inflammation' and 'Treated Gastroesophageal \"\n",
      "                 \"Reflux Disease (GERD) or reflux symptoms' as the patient's \"\n",
      "                 \"clinician note mentions 'Mild esophagitis' and the patient \"\n",
      "                 'is being treated with esomeprazole 40 mg daily, which is a '\n",
      "                 'proton pump inhibitor commonly used to treat GERD and manage '\n",
      "                 'acid reflux symptoms.',\n",
      "  'recommendation considered': 'deprescribe',\n",
      "  'source': 'Patient notes history'}]\n"
     ]
    }
   ],
   "source": [
    "pprint.pprint(search_history_thus_far_list)"
   ]
  },
  {
   "cell_type": "code",
   "execution_count": 25,
   "metadata": {},
   "outputs": [
    {
     "name": "stdout",
     "output_type": "stream",
     "text": [
      "{'diagnosis_source_continue': 703,\n",
      " 'diagnosis_source_deprescribe': 633,\n",
      " 'diagnosis_source_stop': 692,\n",
      " 'encounters_source_continue': 712,\n",
      " 'encounters_source_deprescribe': 634,\n",
      " 'encounters_source_stop': 690,\n",
      " 'final_summary': 2262,\n",
      " 'notes_source_continue': 1734,\n",
      " 'notes_source_deprescribe': 1674,\n",
      " 'notes_source_stop': 1774}\n"
     ]
    }
   ],
   "source": [
    "pprint.pprint(token_count_history)"
   ]
  },
  {
   "cell_type": "code",
   "execution_count": null,
   "metadata": {},
   "outputs": [],
   "source": []
  },
  {
   "cell_type": "code",
   "execution_count": null,
   "metadata": {},
   "outputs": [],
   "source": []
  },
  {
   "cell_type": "code",
   "execution_count": null,
   "metadata": {},
   "outputs": [],
   "source": []
  }
 ],
 "metadata": {
  "kernelspec": {
   "display_name": "capstone",
   "language": "python",
   "name": "python3"
  },
  "language_info": {
   "codemirror_mode": {
    "name": "ipython",
    "version": 3
   },
   "file_extension": ".py",
   "mimetype": "text/x-python",
   "name": "python",
   "nbconvert_exporter": "python",
   "pygments_lexer": "ipython3",
   "version": "3.12.5"
  }
 },
 "nbformat": 4,
 "nbformat_minor": 2
}
