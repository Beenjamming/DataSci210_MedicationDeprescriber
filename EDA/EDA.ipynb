{
 "cells": [
  {
   "cell_type": "code",
   "execution_count": 72,
   "metadata": {},
   "outputs": [],
   "source": [
    "import pandas as pd\n",
    "import numpy as np\n",
    "import matplotlib.pyplot as plt\n",
    "import seaborn as sns"
   ]
  },
  {
   "cell_type": "markdown",
   "metadata": {},
   "source": [
    "# Encounters\n",
    "Table containing encounter information"
   ]
  },
  {
   "cell_type": "code",
   "execution_count": 73,
   "metadata": {},
   "outputs": [
    {
     "name": "stdout",
     "output_type": "stream",
     "text": [
      "(522, 17)\n"
     ]
    },
    {
     "data": {
      "text/html": [
       "<div>\n",
       "<style scoped>\n",
       "    .dataframe tbody tr th:only-of-type {\n",
       "        vertical-align: middle;\n",
       "    }\n",
       "\n",
       "    .dataframe tbody tr th {\n",
       "        vertical-align: top;\n",
       "    }\n",
       "\n",
       "    .dataframe thead th {\n",
       "        text-align: right;\n",
       "    }\n",
       "</style>\n",
       "<table border=\"1\" class=\"dataframe\">\n",
       "  <thead>\n",
       "    <tr style=\"text-align: right;\">\n",
       "      <th></th>\n",
       "      <th>EncounterKey</th>\n",
       "      <th>PatientKey</th>\n",
       "      <th>Sex</th>\n",
       "      <th>Age_y</th>\n",
       "      <th>BirthDate</th>\n",
       "      <th>PtAdmitDate</th>\n",
       "      <th>PtDischargeDate</th>\n",
       "      <th>DRG</th>\n",
       "      <th>FinancialClass</th>\n",
       "      <th>AdmissionOrigin</th>\n",
       "      <th>AdmissionSource</th>\n",
       "      <th>AdmissionType</th>\n",
       "      <th>PrimaryDx</th>\n",
       "      <th>PresentOnAdmissionDiagnosisComboKey</th>\n",
       "      <th>HospitalAcquiredDiagnosisComboKey</th>\n",
       "      <th>DischargeDisposition</th>\n",
       "      <th>DischargePatientClass</th>\n",
       "    </tr>\n",
       "  </thead>\n",
       "  <tbody>\n",
       "    <tr>\n",
       "      <th>0</th>\n",
       "      <td>D009F2D78A0374</td>\n",
       "      <td>DB8B8E7C227264</td>\n",
       "      <td>Male</td>\n",
       "      <td>69</td>\n",
       "      <td>1954-06-13</td>\n",
       "      <td>2023-09-01</td>\n",
       "      <td>2023-09-26</td>\n",
       "      <td>PATHOLOGICAL FRACTURES AND MUSCULOSKELETAL AND...</td>\n",
       "      <td>Medicare</td>\n",
       "      <td>ED Admission</td>\n",
       "      <td>Self Referred (Home)</td>\n",
       "      <td>Emergency</td>\n",
       "      <td>Secondary malignant neoplasm of bone  (CMS code)</td>\n",
       "      <td>4723681</td>\n",
       "      <td>-1</td>\n",
       "      <td>Deceased</td>\n",
       "      <td>Inpatient</td>\n",
       "    </tr>\n",
       "    <tr>\n",
       "      <th>1</th>\n",
       "      <td>D00F3A8D5F43B2</td>\n",
       "      <td>D51024504C9BE5</td>\n",
       "      <td>Male</td>\n",
       "      <td>24</td>\n",
       "      <td>1998-09-12</td>\n",
       "      <td>2023-09-02</td>\n",
       "      <td>2023-09-30</td>\n",
       "      <td>OTHER DIGESTIVE SYSTEM AND ABDOMINAL PROCEDURES</td>\n",
       "      <td>Covered California Medi-Cal</td>\n",
       "      <td>Transfer Center Admission</td>\n",
       "      <td>Transfer - Outside Emer Dept</td>\n",
       "      <td>Urgent</td>\n",
       "      <td>Secondary malignant neoplasm of retroperitoneu...</td>\n",
       "      <td>111736</td>\n",
       "      <td>-1</td>\n",
       "      <td>Home or Self Care</td>\n",
       "      <td>Inpatient</td>\n",
       "    </tr>\n",
       "    <tr>\n",
       "      <th>2</th>\n",
       "      <td>D01FCB9EFFD6D5</td>\n",
       "      <td>D47F8C6663B2AC</td>\n",
       "      <td>Male</td>\n",
       "      <td>53</td>\n",
       "      <td>1970-07-23</td>\n",
       "      <td>2023-08-27</td>\n",
       "      <td>2023-09-06</td>\n",
       "      <td>PERCUTANEOUS AND OTHER INTRACARDIAC PROCEDURES...</td>\n",
       "      <td>Blue Shield</td>\n",
       "      <td>Transfer Center Admission</td>\n",
       "      <td>Clinic Referral</td>\n",
       "      <td>Urgent</td>\n",
       "      <td>Typical atrial flutter  (CMS code)</td>\n",
       "      <td>-1</td>\n",
       "      <td>-1</td>\n",
       "      <td>Home or Self Care</td>\n",
       "      <td>Inpatient</td>\n",
       "    </tr>\n",
       "    <tr>\n",
       "      <th>3</th>\n",
       "      <td>D02DC627A3743A</td>\n",
       "      <td>DDC17BF3C6B1D9</td>\n",
       "      <td>Male</td>\n",
       "      <td>87</td>\n",
       "      <td>1935-10-15</td>\n",
       "      <td>2023-09-20</td>\n",
       "      <td>2023-09-22</td>\n",
       "      <td>OTHER DIGESTIVE SYSTEM DIAGNOSES WITH CC</td>\n",
       "      <td>Medicare</td>\n",
       "      <td>ED Admission</td>\n",
       "      <td>Self Referred (Home)</td>\n",
       "      <td>Emergency</td>\n",
       "      <td>Vascular disorder of intestine, unspecified (C...</td>\n",
       "      <td>-1</td>\n",
       "      <td>-1</td>\n",
       "      <td>Home Health Care (Non UCSF)</td>\n",
       "      <td>Inpatient</td>\n",
       "    </tr>\n",
       "    <tr>\n",
       "      <th>4</th>\n",
       "      <td>D03868A75BBE62</td>\n",
       "      <td>DAE2BFBDAFD04C</td>\n",
       "      <td>Female</td>\n",
       "      <td>59</td>\n",
       "      <td>1964-04-06</td>\n",
       "      <td>2023-08-26</td>\n",
       "      <td>2023-09-11</td>\n",
       "      <td>SEPTICEMIA OR SEVERE SEPSIS WITHOUT MV &gt;96 HOU...</td>\n",
       "      <td>United Health Care</td>\n",
       "      <td>ED Admission</td>\n",
       "      <td>Self Referred (Home)</td>\n",
       "      <td>Emergency</td>\n",
       "      <td>Other specified sepsis  (CMS code)</td>\n",
       "      <td>-1</td>\n",
       "      <td>-1</td>\n",
       "      <td>Home or Self Care</td>\n",
       "      <td>Inpatient</td>\n",
       "    </tr>\n",
       "  </tbody>\n",
       "</table>\n",
       "</div>"
      ],
      "text/plain": [
       "     EncounterKey      PatientKey     Sex  Age_y   BirthDate PtAdmitDate  \\\n",
       "0  D009F2D78A0374  DB8B8E7C227264    Male     69  1954-06-13  2023-09-01   \n",
       "1  D00F3A8D5F43B2  D51024504C9BE5    Male     24  1998-09-12  2023-09-02   \n",
       "2  D01FCB9EFFD6D5  D47F8C6663B2AC    Male     53  1970-07-23  2023-08-27   \n",
       "3  D02DC627A3743A  DDC17BF3C6B1D9    Male     87  1935-10-15  2023-09-20   \n",
       "4  D03868A75BBE62  DAE2BFBDAFD04C  Female     59  1964-04-06  2023-08-26   \n",
       "\n",
       "  PtDischargeDate                                                DRG  \\\n",
       "0      2023-09-26  PATHOLOGICAL FRACTURES AND MUSCULOSKELETAL AND...   \n",
       "1      2023-09-30    OTHER DIGESTIVE SYSTEM AND ABDOMINAL PROCEDURES   \n",
       "2      2023-09-06  PERCUTANEOUS AND OTHER INTRACARDIAC PROCEDURES...   \n",
       "3      2023-09-22           OTHER DIGESTIVE SYSTEM DIAGNOSES WITH CC   \n",
       "4      2023-09-11  SEPTICEMIA OR SEVERE SEPSIS WITHOUT MV >96 HOU...   \n",
       "\n",
       "                FinancialClass            AdmissionOrigin  \\\n",
       "0                     Medicare               ED Admission   \n",
       "1  Covered California Medi-Cal  Transfer Center Admission   \n",
       "2                  Blue Shield  Transfer Center Admission   \n",
       "3                     Medicare               ED Admission   \n",
       "4           United Health Care               ED Admission   \n",
       "\n",
       "                AdmissionSource AdmissionType  \\\n",
       "0          Self Referred (Home)     Emergency   \n",
       "1  Transfer - Outside Emer Dept        Urgent   \n",
       "2               Clinic Referral        Urgent   \n",
       "3          Self Referred (Home)     Emergency   \n",
       "4          Self Referred (Home)     Emergency   \n",
       "\n",
       "                                           PrimaryDx  \\\n",
       "0   Secondary malignant neoplasm of bone  (CMS code)   \n",
       "1  Secondary malignant neoplasm of retroperitoneu...   \n",
       "2                 Typical atrial flutter  (CMS code)   \n",
       "3  Vascular disorder of intestine, unspecified (C...   \n",
       "4                 Other specified sepsis  (CMS code)   \n",
       "\n",
       "   PresentOnAdmissionDiagnosisComboKey  HospitalAcquiredDiagnosisComboKey  \\\n",
       "0                              4723681                                 -1   \n",
       "1                               111736                                 -1   \n",
       "2                                   -1                                 -1   \n",
       "3                                   -1                                 -1   \n",
       "4                                   -1                                 -1   \n",
       "\n",
       "          DischargeDisposition DischargePatientClass  \n",
       "0                     Deceased             Inpatient  \n",
       "1            Home or Self Care             Inpatient  \n",
       "2            Home or Self Care             Inpatient  \n",
       "3  Home Health Care (Non UCSF)             Inpatient  \n",
       "4            Home or Self Care             Inpatient  "
      ]
     },
     "execution_count": 73,
     "metadata": {},
     "output_type": "execute_result"
    }
   ],
   "source": [
    "encounters_df = pd.read_csv('../../Data/encounters.txt', delimiter = '|')\n",
    "print(encounters_df.shape)\n",
    "encounters_df = encounters_df[encounters_df['Age_y'] >= 18]\n",
    "encounters_df.head()"
   ]
  },
  {
   "cell_type": "code",
   "execution_count": 74,
   "metadata": {},
   "outputs": [
    {
     "name": "stdout",
     "output_type": "stream",
     "text": [
      "<class 'pandas.core.frame.DataFrame'>\n",
      "RangeIndex: 522 entries, 0 to 521\n",
      "Data columns (total 17 columns):\n",
      " #   Column                               Non-Null Count  Dtype \n",
      "---  ------                               --------------  ----- \n",
      " 0   EncounterKey                         522 non-null    object\n",
      " 1   PatientKey                           522 non-null    object\n",
      " 2   Sex                                  522 non-null    object\n",
      " 3   Age_y                                522 non-null    int64 \n",
      " 4   BirthDate                            522 non-null    object\n",
      " 5   PtAdmitDate                          522 non-null    object\n",
      " 6   PtDischargeDate                      522 non-null    object\n",
      " 7   DRG                                  522 non-null    object\n",
      " 8   FinancialClass                       522 non-null    object\n",
      " 9   AdmissionOrigin                      522 non-null    object\n",
      " 10  AdmissionSource                      522 non-null    object\n",
      " 11  AdmissionType                        522 non-null    object\n",
      " 12  PrimaryDx                            522 non-null    object\n",
      " 13  PresentOnAdmissionDiagnosisComboKey  522 non-null    int64 \n",
      " 14  HospitalAcquiredDiagnosisComboKey    522 non-null    int64 \n",
      " 15  DischargeDisposition                 522 non-null    object\n",
      " 16  DischargePatientClass                522 non-null    object\n",
      "dtypes: int64(3), object(14)\n",
      "memory usage: 69.5+ KB\n"
     ]
    }
   ],
   "source": [
    "encounters_df.info()"
   ]
  },
  {
   "cell_type": "code",
   "execution_count": 75,
   "metadata": {},
   "outputs": [
    {
     "name": "stdout",
     "output_type": "stream",
     "text": [
      "The number of unique patients are: 520\n",
      "The number of unique encounter keys are: 522\n"
     ]
    }
   ],
   "source": [
    "print(f\"The number of unique patients are: {encounters_df['PatientKey'].nunique()}\")\n",
    "print(f\"The number of unique encounter keys are: {encounters_df['EncounterKey'].nunique()}\")"
   ]
  },
  {
   "cell_type": "code",
   "execution_count": 76,
   "metadata": {},
   "outputs": [
    {
     "data": {
      "text/plain": [
       "PatientKey\n",
       "D6E9DABAB25220    2\n",
       "D1493B73F9549D    2\n",
       "DB8B8E7C227264    1\n",
       "DEF6EF8108CF7B    1\n",
       "DE8E2492FC7764    1\n",
       "                 ..\n",
       "DF999788BA1D24    1\n",
       "DB84A4E10D84B5    1\n",
       "D745D32C1AC92D    1\n",
       "D97F315164190F    1\n",
       "DF5193D6E5EE62    1\n",
       "Name: count, Length: 520, dtype: int64"
      ]
     },
     "execution_count": 76,
     "metadata": {},
     "output_type": "execute_result"
    }
   ],
   "source": [
    "encounters_df['PatientKey'].value_counts()"
   ]
  },
  {
   "cell_type": "code",
   "execution_count": 77,
   "metadata": {},
   "outputs": [
    {
     "data": {
      "image/png": "[encoded data removed]",
      "text/plain": [
       "<Figure size 640x480 with 1 Axes>"
      ]
     },
     "metadata": {},
     "output_type": "display_data"
    }
   ],
   "source": [
    "# distribution of sex\n",
    "sex_dist = encounters_df[\"Sex\"].value_counts()\n",
    "plt.figure()\n",
    "plt.bar(sex_dist.index, sex_dist)\n",
    "plt.title('Count of Male v. Female')\n",
    "plt.xlabel('Sex')\n",
    "plt.ylabel('Count')\n",
    "plt.savefig('./figs/sex.png', transparent = True)\n",
    "plt.show()"
   ]
  },
  {
   "cell_type": "code",
   "execution_count": 78,
   "metadata": {},
   "outputs": [
    {
     "data": {
      "image/png": "[encoded data removed]",
      "text/plain": [
       "<Figure size 640x480 with 1 Axes>"
      ]
     },
     "metadata": {},
     "output_type": "display_data"
    }
   ],
   "source": [
    "# distribution of age\n",
    "plt.figure()\n",
    "plt.hist(encounters_df['Age_y'], bins = 20)\n",
    "plt.title('Distribution of Age')\n",
    "plt.ylabel('Count')\n",
    "plt.xlabel('Age')\n",
    "plt.axvline(encounters_df['Age_y'].mean(), color = 'k', linestyle = '-', label = 'mean')\n",
    "plt.axvline(encounters_df['Age_y'].median(), color = 'k', linestyle = '--', label = 'median')\n",
    "plt.legend()\n",
    "plt.savefig('./figs/age.png', transparent = True)\n",
    "plt.show()"
   ]
  },
  {
   "cell_type": "code",
   "execution_count": 79,
   "metadata": {},
   "outputs": [
    {
     "data": {
      "image/png": "[encoded data removed]",
      "text/plain": [
       "<Figure size 640x480 with 1 Axes>"
      ]
     },
     "metadata": {},
     "output_type": "display_data"
    },
    {
     "data": {
      "image/png": "[encoded data removed]",
      "text/plain": [
       "<Figure size 640x480 with 1 Axes>"
      ]
     },
     "metadata": {},
     "output_type": "display_data"
    }
   ],
   "source": [
    "# patient admission date\n",
    "encounters_df[['PtAdmitDate', 'PtDischargeDate']] = encounters_df[['PtAdmitDate', 'PtDischargeDate']].apply(pd.to_datetime, format = \"%Y-%m-%d\")\n",
    "\n",
    "admission_date_counts = encounters_df['PtAdmitDate'].value_counts()\n",
    "plt.figure()\n",
    "plt.bar(admission_date_counts.index, admission_date_counts)\n",
    "plt.xticks(rotation = 90)\n",
    "plt.title('Admission Date Distribution')\n",
    "plt.xlabel('Date')\n",
    "plt.ylabel('Count')\n",
    "plt.savefig('./figs/admission_date.png', transparent = True, dpi = 300, bbox_inches = \"tight\")\n",
    "plt.show()\n",
    "\n",
    "# patient discharge date\n",
    "discharge_date_counts = encounters_df['PtDischargeDate'].value_counts()\n",
    "plt.figure()\n",
    "plt.bar(discharge_date_counts.index, discharge_date_counts)\n",
    "plt.xticks(rotation = 90)\n",
    "plt.title('Discharge Date Distribution')\n",
    "plt.xlabel('Date')\n",
    "plt.ylabel('Count')\n",
    "plt.savefig('./figs/discharge_date.png', transparent = True, dpi = 300, bbox_inches = \"tight\")\n",
    "plt.show()"
   ]
  },
  {
   "cell_type": "code",
   "execution_count": 80,
   "metadata": {},
   "outputs": [
    {
     "data": {
      "image/png": "[encoded data removed]",
      "text/plain": [
       "<Figure size 640x480 with 1 Axes>"
      ]
     },
     "metadata": {},
     "output_type": "display_data"
    }
   ],
   "source": [
    "encounters_df['length_of_stay'] = encounters_df['PtDischargeDate'] - encounters_df['PtAdmitDate']\n",
    "encounters_df['length_of_stay'] = encounters_df['length_of_stay'].apply(lambda x: x.days)\n",
    "plt.figure()\n",
    "plt.hist(encounters_df['length_of_stay'], bins = 20)\n",
    "plt.title('Length of Stay Distribution')\n",
    "plt.xlabel('Days of Hospitalization')\n",
    "plt.ylabel('Count')\n",
    "plt.axvline(encounters_df['length_of_stay'].mean(), color = 'k', linestyle = '-', label = 'mean')\n",
    "plt.axvline(encounters_df['length_of_stay'].median(), color = 'k', linestyle = '--', label = 'median')\n",
    "plt.legend()\n",
    "plt.savefig('./figs/length_of_stay.png', transparent = True, dpi = 300, bbox_inches = \"tight\")\n",
    "plt.show()\n"
   ]
  },
  {
   "cell_type": "markdown",
   "metadata": {},
   "source": [
    "## DRG Classification"
   ]
  },
  {
   "cell_type": "code",
   "execution_count": 81,
   "metadata": {},
   "outputs": [
    {
     "data": {
      "text/plain": [
       "DRG\n",
       "*Unspecified                                                                           24\n",
       "SEPTICEMIA OR SEVERE SEPSIS WITHOUT MV >96 HOURS WITH MCC                              21\n",
       "MAJOR HIP AND KNEE JOINT REPLACEMENT OR REATTACHMENT OF LOWER EXTREMITY WITHOUT MCC    15\n",
       "OTHER CHEMOTHERAPY                                                                      9\n",
       "KIDNEY TRANSPLANT                                                                       8\n",
       "                                                                                       ..\n",
       "MEDICAL BACK PROBLEMS WITH MCC                                                          1\n",
       "INTRACRANIAL HEMORRHAGE OR CEREBRAL INFARCTION WITH MCC                                 1\n",
       "COAGULATION DISORDERS                                                                   1\n",
       "OTHER DISORDERS OF NERVOUS SYSTEM WITH MCC                                              1\n",
       "SIGNS AND SYMPTOMS WITHOUT MCC                                                          1\n",
       "Name: count, Length: 276, dtype: int64"
      ]
     },
     "execution_count": 81,
     "metadata": {},
     "output_type": "execute_result"
    }
   ],
   "source": [
    "# unique counts of diagnosis-related group\n",
    "encounters_df['DRG'].value_counts()"
   ]
  },
  {
   "cell_type": "code",
   "execution_count": 82,
   "metadata": {},
   "outputs": [
    {
     "data": {
      "text/html": [
       "<div>\n",
       "<style scoped>\n",
       "    .dataframe tbody tr th:only-of-type {\n",
       "        vertical-align: middle;\n",
       "    }\n",
       "\n",
       "    .dataframe tbody tr th {\n",
       "        vertical-align: top;\n",
       "    }\n",
       "\n",
       "    .dataframe thead th {\n",
       "        text-align: right;\n",
       "    }\n",
       "</style>\n",
       "<table border=\"1\" class=\"dataframe\">\n",
       "  <thead>\n",
       "    <tr style=\"text-align: right;\">\n",
       "      <th></th>\n",
       "      <th>DRG</th>\n",
       "      <th>MDC</th>\n",
       "      <th>MS</th>\n",
       "      <th>Description</th>\n",
       "    </tr>\n",
       "  </thead>\n",
       "  <tbody>\n",
       "    <tr>\n",
       "      <th>0</th>\n",
       "      <td>1</td>\n",
       "      <td>NaN</td>\n",
       "      <td>P</td>\n",
       "      <td>HEART TRANSPLANT OR IMPLANT OF HEART ASSIST SY...</td>\n",
       "    </tr>\n",
       "    <tr>\n",
       "      <th>1</th>\n",
       "      <td>2</td>\n",
       "      <td>NaN</td>\n",
       "      <td>P</td>\n",
       "      <td>HEART TRANSPLANT OR IMPLANT OF HEART ASSIST SY...</td>\n",
       "    </tr>\n",
       "    <tr>\n",
       "      <th>2</th>\n",
       "      <td>3</td>\n",
       "      <td>NaN</td>\n",
       "      <td>P</td>\n",
       "      <td>ECMO OR TRACHEOSTOMY WITH MV &gt;96 HOURS OR PRIN...</td>\n",
       "    </tr>\n",
       "    <tr>\n",
       "      <th>3</th>\n",
       "      <td>4</td>\n",
       "      <td>NaN</td>\n",
       "      <td>P</td>\n",
       "      <td>TRACHEOSTOMY WITH MV &gt;96 HOURS OR PRINCIPAL DI...</td>\n",
       "    </tr>\n",
       "    <tr>\n",
       "      <th>4</th>\n",
       "      <td>5</td>\n",
       "      <td>NaN</td>\n",
       "      <td>P</td>\n",
       "      <td>LIVER TRANSPLANT WITH MCC OR INTESTINAL TRANSP...</td>\n",
       "    </tr>\n",
       "  </tbody>\n",
       "</table>\n",
       "</div>"
      ],
      "text/plain": [
       "   DRG  MDC MS                                        Description\n",
       "0    1  NaN  P  HEART TRANSPLANT OR IMPLANT OF HEART ASSIST SY...\n",
       "1    2  NaN  P  HEART TRANSPLANT OR IMPLANT OF HEART ASSIST SY...\n",
       "2    3  NaN  P  ECMO OR TRACHEOSTOMY WITH MV >96 HOURS OR PRIN...\n",
       "3    4  NaN  P  TRACHEOSTOMY WITH MV >96 HOURS OR PRINCIPAL DI...\n",
       "4    5  NaN  P  LIVER TRANSPLANT WITH MCC OR INTESTINAL TRANSP..."
      ]
     },
     "execution_count": 82,
     "metadata": {},
     "output_type": "execute_result"
    }
   ],
   "source": [
    "drg_df = pd.read_csv('drg_042023_092023.csv')\n",
    "drg_df.head()"
   ]
  },
  {
   "cell_type": "code",
   "execution_count": 83,
   "metadata": {},
   "outputs": [
    {
     "data": {
      "text/html": [
       "<div>\n",
       "<style scoped>\n",
       "    .dataframe tbody tr th:only-of-type {\n",
       "        vertical-align: middle;\n",
       "    }\n",
       "\n",
       "    .dataframe tbody tr th {\n",
       "        vertical-align: top;\n",
       "    }\n",
       "\n",
       "    .dataframe thead th {\n",
       "        text-align: right;\n",
       "    }\n",
       "</style>\n",
       "<table border=\"1\" class=\"dataframe\">\n",
       "  <thead>\n",
       "    <tr style=\"text-align: right;\">\n",
       "      <th></th>\n",
       "      <th>EncounterKey</th>\n",
       "      <th>PatientKey</th>\n",
       "      <th>Sex</th>\n",
       "      <th>Age_y</th>\n",
       "      <th>BirthDate</th>\n",
       "      <th>PtAdmitDate</th>\n",
       "      <th>PtDischargeDate</th>\n",
       "      <th>DRG_description</th>\n",
       "      <th>FinancialClass</th>\n",
       "      <th>AdmissionOrigin</th>\n",
       "      <th>...</th>\n",
       "      <th>PrimaryDx</th>\n",
       "      <th>PresentOnAdmissionDiagnosisComboKey</th>\n",
       "      <th>HospitalAcquiredDiagnosisComboKey</th>\n",
       "      <th>DischargeDisposition</th>\n",
       "      <th>DischargePatientClass</th>\n",
       "      <th>length_of_stay</th>\n",
       "      <th>DRG_num</th>\n",
       "      <th>MDC</th>\n",
       "      <th>MS</th>\n",
       "      <th>Description</th>\n",
       "    </tr>\n",
       "  </thead>\n",
       "  <tbody>\n",
       "    <tr>\n",
       "      <th>0</th>\n",
       "      <td>D009F2D78A0374</td>\n",
       "      <td>DB8B8E7C227264</td>\n",
       "      <td>Male</td>\n",
       "      <td>69</td>\n",
       "      <td>1954-06-13</td>\n",
       "      <td>2023-09-01</td>\n",
       "      <td>2023-09-26</td>\n",
       "      <td>PATHOLOGICAL FRACTURES AND MUSCULOSKELETAL AND...</td>\n",
       "      <td>Medicare</td>\n",
       "      <td>ED Admission</td>\n",
       "      <td>...</td>\n",
       "      <td>Secondary malignant neoplasm of bone  (CMS code)</td>\n",
       "      <td>4723681</td>\n",
       "      <td>-1</td>\n",
       "      <td>Deceased</td>\n",
       "      <td>Inpatient</td>\n",
       "      <td>25</td>\n",
       "      <td>542.0</td>\n",
       "      <td>8.0</td>\n",
       "      <td>M</td>\n",
       "      <td>PATHOLOGICAL FRACTURES AND MUSCULOSKELETAL AND...</td>\n",
       "    </tr>\n",
       "    <tr>\n",
       "      <th>1</th>\n",
       "      <td>D00F3A8D5F43B2</td>\n",
       "      <td>D51024504C9BE5</td>\n",
       "      <td>Male</td>\n",
       "      <td>24</td>\n",
       "      <td>1998-09-12</td>\n",
       "      <td>2023-09-02</td>\n",
       "      <td>2023-09-30</td>\n",
       "      <td>OTHER DIGESTIVE SYSTEM AND ABDOMINAL PROCEDURES</td>\n",
       "      <td>Covered California Medi-Cal</td>\n",
       "      <td>Transfer Center Admission</td>\n",
       "      <td>...</td>\n",
       "      <td>Secondary malignant neoplasm of retroperitoneu...</td>\n",
       "      <td>111736</td>\n",
       "      <td>-1</td>\n",
       "      <td>Home or Self Care</td>\n",
       "      <td>Inpatient</td>\n",
       "      <td>28</td>\n",
       "      <td>NaN</td>\n",
       "      <td>NaN</td>\n",
       "      <td>NaN</td>\n",
       "      <td>NaN</td>\n",
       "    </tr>\n",
       "    <tr>\n",
       "      <th>2</th>\n",
       "      <td>D01FCB9EFFD6D5</td>\n",
       "      <td>D47F8C6663B2AC</td>\n",
       "      <td>Male</td>\n",
       "      <td>53</td>\n",
       "      <td>1970-07-23</td>\n",
       "      <td>2023-08-27</td>\n",
       "      <td>2023-09-06</td>\n",
       "      <td>PERCUTANEOUS AND OTHER INTRACARDIAC PROCEDURES...</td>\n",
       "      <td>Blue Shield</td>\n",
       "      <td>Transfer Center Admission</td>\n",
       "      <td>...</td>\n",
       "      <td>Typical atrial flutter  (CMS code)</td>\n",
       "      <td>-1</td>\n",
       "      <td>-1</td>\n",
       "      <td>Home or Self Care</td>\n",
       "      <td>Inpatient</td>\n",
       "      <td>10</td>\n",
       "      <td>273.0</td>\n",
       "      <td>5.0</td>\n",
       "      <td>P</td>\n",
       "      <td>PERCUTANEOUS AND OTHER INTRACARDIAC PROCEDURES...</td>\n",
       "    </tr>\n",
       "    <tr>\n",
       "      <th>3</th>\n",
       "      <td>D02DC627A3743A</td>\n",
       "      <td>DDC17BF3C6B1D9</td>\n",
       "      <td>Male</td>\n",
       "      <td>87</td>\n",
       "      <td>1935-10-15</td>\n",
       "      <td>2023-09-20</td>\n",
       "      <td>2023-09-22</td>\n",
       "      <td>OTHER DIGESTIVE SYSTEM DIAGNOSES WITH CC</td>\n",
       "      <td>Medicare</td>\n",
       "      <td>ED Admission</td>\n",
       "      <td>...</td>\n",
       "      <td>Vascular disorder of intestine, unspecified (C...</td>\n",
       "      <td>-1</td>\n",
       "      <td>-1</td>\n",
       "      <td>Home Health Care (Non UCSF)</td>\n",
       "      <td>Inpatient</td>\n",
       "      <td>2</td>\n",
       "      <td>394.0</td>\n",
       "      <td>6.0</td>\n",
       "      <td>M</td>\n",
       "      <td>OTHER DIGESTIVE SYSTEM DIAGNOSES WITH CC</td>\n",
       "    </tr>\n",
       "    <tr>\n",
       "      <th>4</th>\n",
       "      <td>D03868A75BBE62</td>\n",
       "      <td>DAE2BFBDAFD04C</td>\n",
       "      <td>Female</td>\n",
       "      <td>59</td>\n",
       "      <td>1964-04-06</td>\n",
       "      <td>2023-08-26</td>\n",
       "      <td>2023-09-11</td>\n",
       "      <td>SEPTICEMIA OR SEVERE SEPSIS WITHOUT MV &gt;96 HOU...</td>\n",
       "      <td>United Health Care</td>\n",
       "      <td>ED Admission</td>\n",
       "      <td>...</td>\n",
       "      <td>Other specified sepsis  (CMS code)</td>\n",
       "      <td>-1</td>\n",
       "      <td>-1</td>\n",
       "      <td>Home or Self Care</td>\n",
       "      <td>Inpatient</td>\n",
       "      <td>16</td>\n",
       "      <td>871.0</td>\n",
       "      <td>18.0</td>\n",
       "      <td>M</td>\n",
       "      <td>SEPTICEMIA OR SEVERE SEPSIS WITHOUT MV &gt;96 HOU...</td>\n",
       "    </tr>\n",
       "  </tbody>\n",
       "</table>\n",
       "<p>5 rows × 22 columns</p>\n",
       "</div>"
      ],
      "text/plain": [
       "     EncounterKey      PatientKey     Sex  Age_y   BirthDate PtAdmitDate  \\\n",
       "0  D009F2D78A0374  DB8B8E7C227264    Male     69  1954-06-13  2023-09-01   \n",
       "1  D00F3A8D5F43B2  D51024504C9BE5    Male     24  1998-09-12  2023-09-02   \n",
       "2  D01FCB9EFFD6D5  D47F8C6663B2AC    Male     53  1970-07-23  2023-08-27   \n",
       "3  D02DC627A3743A  DDC17BF3C6B1D9    Male     87  1935-10-15  2023-09-20   \n",
       "4  D03868A75BBE62  DAE2BFBDAFD04C  Female     59  1964-04-06  2023-08-26   \n",
       "\n",
       "  PtDischargeDate                                    DRG_description  \\\n",
       "0      2023-09-26  PATHOLOGICAL FRACTURES AND MUSCULOSKELETAL AND...   \n",
       "1      2023-09-30    OTHER DIGESTIVE SYSTEM AND ABDOMINAL PROCEDURES   \n",
       "2      2023-09-06  PERCUTANEOUS AND OTHER INTRACARDIAC PROCEDURES...   \n",
       "3      2023-09-22           OTHER DIGESTIVE SYSTEM DIAGNOSES WITH CC   \n",
       "4      2023-09-11  SEPTICEMIA OR SEVERE SEPSIS WITHOUT MV >96 HOU...   \n",
       "\n",
       "                FinancialClass            AdmissionOrigin  ...  \\\n",
       "0                     Medicare               ED Admission  ...   \n",
       "1  Covered California Medi-Cal  Transfer Center Admission  ...   \n",
       "2                  Blue Shield  Transfer Center Admission  ...   \n",
       "3                     Medicare               ED Admission  ...   \n",
       "4           United Health Care               ED Admission  ...   \n",
       "\n",
       "                                           PrimaryDx  \\\n",
       "0   Secondary malignant neoplasm of bone  (CMS code)   \n",
       "1  Secondary malignant neoplasm of retroperitoneu...   \n",
       "2                 Typical atrial flutter  (CMS code)   \n",
       "3  Vascular disorder of intestine, unspecified (C...   \n",
       "4                 Other specified sepsis  (CMS code)   \n",
       "\n",
       "  PresentOnAdmissionDiagnosisComboKey HospitalAcquiredDiagnosisComboKey  \\\n",
       "0                             4723681                                -1   \n",
       "1                              111736                                -1   \n",
       "2                                  -1                                -1   \n",
       "3                                  -1                                -1   \n",
       "4                                  -1                                -1   \n",
       "\n",
       "          DischargeDisposition  DischargePatientClass length_of_stay DRG_num  \\\n",
       "0                     Deceased              Inpatient             25   542.0   \n",
       "1            Home or Self Care              Inpatient             28     NaN   \n",
       "2            Home or Self Care              Inpatient             10   273.0   \n",
       "3  Home Health Care (Non UCSF)              Inpatient              2   394.0   \n",
       "4            Home or Self Care              Inpatient             16   871.0   \n",
       "\n",
       "    MDC   MS                                        Description  \n",
       "0   8.0    M  PATHOLOGICAL FRACTURES AND MUSCULOSKELETAL AND...  \n",
       "1   NaN  NaN                                                NaN  \n",
       "2   5.0    P  PERCUTANEOUS AND OTHER INTRACARDIAC PROCEDURES...  \n",
       "3   6.0    M           OTHER DIGESTIVE SYSTEM DIAGNOSES WITH CC  \n",
       "4  18.0    M  SEPTICEMIA OR SEVERE SEPSIS WITHOUT MV >96 HOU...  \n",
       "\n",
       "[5 rows x 22 columns]"
      ]
     },
     "execution_count": 83,
     "metadata": {},
     "output_type": "execute_result"
    }
   ],
   "source": [
    "encounters_df = pd.merge(encounters_df, drg_df, left_on = 'DRG', right_on = 'Description', how = \"left\")\n",
    "encounters_df = encounters_df.rename(columns={'DRG_y': 'DRG_num', 'DRG_x': 'DRG_description'})\n",
    "encounters_df.head()"
   ]
  },
  {
   "cell_type": "code",
   "execution_count": 84,
   "metadata": {},
   "outputs": [
    {
     "data": {
      "text/html": [
       "<div>\n",
       "<style scoped>\n",
       "    .dataframe tbody tr th:only-of-type {\n",
       "        vertical-align: middle;\n",
       "    }\n",
       "\n",
       "    .dataframe tbody tr th {\n",
       "        vertical-align: top;\n",
       "    }\n",
       "\n",
       "    .dataframe thead th {\n",
       "        text-align: right;\n",
       "    }\n",
       "</style>\n",
       "<table border=\"1\" class=\"dataframe\">\n",
       "  <thead>\n",
       "    <tr style=\"text-align: right;\">\n",
       "      <th></th>\n",
       "      <th>EncounterKey</th>\n",
       "      <th>PatientKey</th>\n",
       "      <th>Sex</th>\n",
       "      <th>Age_y</th>\n",
       "      <th>BirthDate</th>\n",
       "      <th>PtAdmitDate</th>\n",
       "      <th>PtDischargeDate</th>\n",
       "      <th>DRG_description</th>\n",
       "      <th>FinancialClass</th>\n",
       "      <th>AdmissionOrigin</th>\n",
       "      <th>...</th>\n",
       "      <th>PrimaryDx</th>\n",
       "      <th>PresentOnAdmissionDiagnosisComboKey</th>\n",
       "      <th>HospitalAcquiredDiagnosisComboKey</th>\n",
       "      <th>DischargeDisposition</th>\n",
       "      <th>DischargePatientClass</th>\n",
       "      <th>length_of_stay</th>\n",
       "      <th>DRG_num</th>\n",
       "      <th>MDC</th>\n",
       "      <th>MS</th>\n",
       "      <th>Description</th>\n",
       "    </tr>\n",
       "  </thead>\n",
       "  <tbody>\n",
       "    <tr>\n",
       "      <th>0</th>\n",
       "      <td>D009F2D78A0374</td>\n",
       "      <td>DB8B8E7C227264</td>\n",
       "      <td>Male</td>\n",
       "      <td>69</td>\n",
       "      <td>1954-06-13</td>\n",
       "      <td>2023-09-01</td>\n",
       "      <td>2023-09-26</td>\n",
       "      <td>PATHOLOGICAL FRACTURES AND MUSCULOSKELETAL AND...</td>\n",
       "      <td>Medicare</td>\n",
       "      <td>ED Admission</td>\n",
       "      <td>...</td>\n",
       "      <td>Secondary malignant neoplasm of bone  (CMS code)</td>\n",
       "      <td>4723681</td>\n",
       "      <td>-1</td>\n",
       "      <td>Deceased</td>\n",
       "      <td>Inpatient</td>\n",
       "      <td>25</td>\n",
       "      <td>542.0</td>\n",
       "      <td>8</td>\n",
       "      <td>M</td>\n",
       "      <td>PATHOLOGICAL FRACTURES AND MUSCULOSKELETAL AND...</td>\n",
       "    </tr>\n",
       "    <tr>\n",
       "      <th>1</th>\n",
       "      <td>D00F3A8D5F43B2</td>\n",
       "      <td>D51024504C9BE5</td>\n",
       "      <td>Male</td>\n",
       "      <td>24</td>\n",
       "      <td>1998-09-12</td>\n",
       "      <td>2023-09-02</td>\n",
       "      <td>2023-09-30</td>\n",
       "      <td>OTHER DIGESTIVE SYSTEM AND ABDOMINAL PROCEDURES</td>\n",
       "      <td>Covered California Medi-Cal</td>\n",
       "      <td>Transfer Center Admission</td>\n",
       "      <td>...</td>\n",
       "      <td>Secondary malignant neoplasm of retroperitoneu...</td>\n",
       "      <td>111736</td>\n",
       "      <td>-1</td>\n",
       "      <td>Home or Self Care</td>\n",
       "      <td>Inpatient</td>\n",
       "      <td>28</td>\n",
       "      <td>NaN</td>\n",
       "      <td>None</td>\n",
       "      <td>NaN</td>\n",
       "      <td>NaN</td>\n",
       "    </tr>\n",
       "    <tr>\n",
       "      <th>2</th>\n",
       "      <td>D01FCB9EFFD6D5</td>\n",
       "      <td>D47F8C6663B2AC</td>\n",
       "      <td>Male</td>\n",
       "      <td>53</td>\n",
       "      <td>1970-07-23</td>\n",
       "      <td>2023-08-27</td>\n",
       "      <td>2023-09-06</td>\n",
       "      <td>PERCUTANEOUS AND OTHER INTRACARDIAC PROCEDURES...</td>\n",
       "      <td>Blue Shield</td>\n",
       "      <td>Transfer Center Admission</td>\n",
       "      <td>...</td>\n",
       "      <td>Typical atrial flutter  (CMS code)</td>\n",
       "      <td>-1</td>\n",
       "      <td>-1</td>\n",
       "      <td>Home or Self Care</td>\n",
       "      <td>Inpatient</td>\n",
       "      <td>10</td>\n",
       "      <td>273.0</td>\n",
       "      <td>5</td>\n",
       "      <td>P</td>\n",
       "      <td>PERCUTANEOUS AND OTHER INTRACARDIAC PROCEDURES...</td>\n",
       "    </tr>\n",
       "    <tr>\n",
       "      <th>3</th>\n",
       "      <td>D02DC627A3743A</td>\n",
       "      <td>DDC17BF3C6B1D9</td>\n",
       "      <td>Male</td>\n",
       "      <td>87</td>\n",
       "      <td>1935-10-15</td>\n",
       "      <td>2023-09-20</td>\n",
       "      <td>2023-09-22</td>\n",
       "      <td>OTHER DIGESTIVE SYSTEM DIAGNOSES WITH CC</td>\n",
       "      <td>Medicare</td>\n",
       "      <td>ED Admission</td>\n",
       "      <td>...</td>\n",
       "      <td>Vascular disorder of intestine, unspecified (C...</td>\n",
       "      <td>-1</td>\n",
       "      <td>-1</td>\n",
       "      <td>Home Health Care (Non UCSF)</td>\n",
       "      <td>Inpatient</td>\n",
       "      <td>2</td>\n",
       "      <td>394.0</td>\n",
       "      <td>6</td>\n",
       "      <td>M</td>\n",
       "      <td>OTHER DIGESTIVE SYSTEM DIAGNOSES WITH CC</td>\n",
       "    </tr>\n",
       "    <tr>\n",
       "      <th>4</th>\n",
       "      <td>D03868A75BBE62</td>\n",
       "      <td>DAE2BFBDAFD04C</td>\n",
       "      <td>Female</td>\n",
       "      <td>59</td>\n",
       "      <td>1964-04-06</td>\n",
       "      <td>2023-08-26</td>\n",
       "      <td>2023-09-11</td>\n",
       "      <td>SEPTICEMIA OR SEVERE SEPSIS WITHOUT MV &gt;96 HOU...</td>\n",
       "      <td>United Health Care</td>\n",
       "      <td>ED Admission</td>\n",
       "      <td>...</td>\n",
       "      <td>Other specified sepsis  (CMS code)</td>\n",
       "      <td>-1</td>\n",
       "      <td>-1</td>\n",
       "      <td>Home or Self Care</td>\n",
       "      <td>Inpatient</td>\n",
       "      <td>16</td>\n",
       "      <td>871.0</td>\n",
       "      <td>18</td>\n",
       "      <td>M</td>\n",
       "      <td>SEPTICEMIA OR SEVERE SEPSIS WITHOUT MV &gt;96 HOU...</td>\n",
       "    </tr>\n",
       "  </tbody>\n",
       "</table>\n",
       "<p>5 rows × 22 columns</p>\n",
       "</div>"
      ],
      "text/plain": [
       "     EncounterKey      PatientKey     Sex  Age_y   BirthDate PtAdmitDate  \\\n",
       "0  D009F2D78A0374  DB8B8E7C227264    Male     69  1954-06-13  2023-09-01   \n",
       "1  D00F3A8D5F43B2  D51024504C9BE5    Male     24  1998-09-12  2023-09-02   \n",
       "2  D01FCB9EFFD6D5  D47F8C6663B2AC    Male     53  1970-07-23  2023-08-27   \n",
       "3  D02DC627A3743A  DDC17BF3C6B1D9    Male     87  1935-10-15  2023-09-20   \n",
       "4  D03868A75BBE62  DAE2BFBDAFD04C  Female     59  1964-04-06  2023-08-26   \n",
       "\n",
       "  PtDischargeDate                                    DRG_description  \\\n",
       "0      2023-09-26  PATHOLOGICAL FRACTURES AND MUSCULOSKELETAL AND...   \n",
       "1      2023-09-30    OTHER DIGESTIVE SYSTEM AND ABDOMINAL PROCEDURES   \n",
       "2      2023-09-06  PERCUTANEOUS AND OTHER INTRACARDIAC PROCEDURES...   \n",
       "3      2023-09-22           OTHER DIGESTIVE SYSTEM DIAGNOSES WITH CC   \n",
       "4      2023-09-11  SEPTICEMIA OR SEVERE SEPSIS WITHOUT MV >96 HOU...   \n",
       "\n",
       "                FinancialClass            AdmissionOrigin  ...  \\\n",
       "0                     Medicare               ED Admission  ...   \n",
       "1  Covered California Medi-Cal  Transfer Center Admission  ...   \n",
       "2                  Blue Shield  Transfer Center Admission  ...   \n",
       "3                     Medicare               ED Admission  ...   \n",
       "4           United Health Care               ED Admission  ...   \n",
       "\n",
       "                                           PrimaryDx  \\\n",
       "0   Secondary malignant neoplasm of bone  (CMS code)   \n",
       "1  Secondary malignant neoplasm of retroperitoneu...   \n",
       "2                 Typical atrial flutter  (CMS code)   \n",
       "3  Vascular disorder of intestine, unspecified (C...   \n",
       "4                 Other specified sepsis  (CMS code)   \n",
       "\n",
       "  PresentOnAdmissionDiagnosisComboKey HospitalAcquiredDiagnosisComboKey  \\\n",
       "0                             4723681                                -1   \n",
       "1                              111736                                -1   \n",
       "2                                  -1                                -1   \n",
       "3                                  -1                                -1   \n",
       "4                                  -1                                -1   \n",
       "\n",
       "          DischargeDisposition  DischargePatientClass length_of_stay DRG_num  \\\n",
       "0                     Deceased              Inpatient             25   542.0   \n",
       "1            Home or Self Care              Inpatient             28     NaN   \n",
       "2            Home or Self Care              Inpatient             10   273.0   \n",
       "3  Home Health Care (Non UCSF)              Inpatient              2   394.0   \n",
       "4            Home or Self Care              Inpatient             16   871.0   \n",
       "\n",
       "    MDC   MS                                        Description  \n",
       "0     8    M  PATHOLOGICAL FRACTURES AND MUSCULOSKELETAL AND...  \n",
       "1  None  NaN                                                NaN  \n",
       "2     5    P  PERCUTANEOUS AND OTHER INTRACARDIAC PROCEDURES...  \n",
       "3     6    M           OTHER DIGESTIVE SYSTEM DIAGNOSES WITH CC  \n",
       "4    18    M  SEPTICEMIA OR SEVERE SEPSIS WITHOUT MV >96 HOU...  \n",
       "\n",
       "[5 rows x 22 columns]"
      ]
     },
     "execution_count": 84,
     "metadata": {},
     "output_type": "execute_result"
    }
   ],
   "source": [
    "encounters_df['MDC'] = encounters_df['MDC'].apply(lambda x: 'None' if pd.isna(x) else str(int(x)))\n",
    "encounters_df.head()"
   ]
  },
  {
   "cell_type": "code",
   "execution_count": 85,
   "metadata": {},
   "outputs": [
    {
     "data": {
      "image/png": "[encoded data removed]",
      "text/plain": [
       "<Figure size 640x480 with 1 Axes>"
      ]
     },
     "metadata": {},
     "output_type": "display_data"
    }
   ],
   "source": [
    "# MDC distribution\n",
    "mdc_count = encounters_df['MDC'].value_counts()\n",
    "plt.figure()\n",
    "plt.bar(mdc_count.index, mdc_count)\n",
    "plt.title('Count of Major Diagnostic Categories')\n",
    "plt.xlabel('Major Diagnostic Category')\n",
    "plt.ylabel('Count')\n",
    "plt.savefig('./figs/mdc.png', transparent = True)\n",
    "plt.show()"
   ]
  },
  {
   "cell_type": "code",
   "execution_count": 86,
   "metadata": {},
   "outputs": [
    {
     "data": {
      "text/plain": [
       "DRG_description\n",
       "*Unspecified                                                                           24\n",
       "SEPTICEMIA OR SEVERE SEPSIS WITHOUT MV >96 HOURS WITH MCC                              21\n",
       "MAJOR HIP AND KNEE JOINT REPLACEMENT OR REATTACHMENT OF LOWER EXTREMITY WITHOUT MCC    15\n",
       "OTHER CHEMOTHERAPY                                                                      9\n",
       "KIDNEY TRANSPLANT                                                                       8\n",
       "                                                                                       ..\n",
       "MEDICAL BACK PROBLEMS WITH MCC                                                          1\n",
       "INTRACRANIAL HEMORRHAGE OR CEREBRAL INFARCTION WITH MCC                                 1\n",
       "COAGULATION DISORDERS                                                                   1\n",
       "OTHER DISORDERS OF NERVOUS SYSTEM WITH MCC                                              1\n",
       "SIGNS AND SYMPTOMS WITHOUT MCC                                                          1\n",
       "Name: count, Length: 276, dtype: int64"
      ]
     },
     "execution_count": 86,
     "metadata": {},
     "output_type": "execute_result"
    }
   ],
   "source": [
    "encounters_df['DRG_description'].value_counts()"
   ]
  },
  {
   "cell_type": "markdown",
   "metadata": {},
   "source": [
    "## Insurance"
   ]
  },
  {
   "cell_type": "code",
   "execution_count": 87,
   "metadata": {},
   "outputs": [
    {
     "data": {
      "text/plain": [
       "array(['Medicare', 'Covered California Medi-Cal', 'Blue Shield',\n",
       "       'United Health Care', 'Blue Cross', 'Medi-Cal Managed Care',\n",
       "       'Medicare Advantage HMO/Senior', 'Partnership Managed Medi-Cal',\n",
       "       'Other Government',\n",
       "       'Partnership Covered California Managed Medi-Cal',\n",
       "       'Alameda Alliance Managed Medi-Cal', 'HealthNet', 'Cigna',\n",
       "       'Kaiser', 'Commercial', 'Covered California', 'Capitation',\n",
       "       'Medi-Cal Standard', 'Medicare Advantage', 'Aetna', 'Self-Pay',\n",
       "       'Capitation Senior',\n",
       "       'Alameda Alliance Covered California Managed Medi-Cal',\n",
       "       \"Worker's Comp\"], dtype=object)"
      ]
     },
     "execution_count": 87,
     "metadata": {},
     "output_type": "execute_result"
    }
   ],
   "source": [
    "# unique financial class (insurance)\n",
    "encounters_df['FinancialClass'].unique()"
   ]
  },
  {
   "cell_type": "markdown",
   "metadata": {},
   "source": [
    "## Admission Type"
   ]
  },
  {
   "cell_type": "code",
   "execution_count": 88,
   "metadata": {},
   "outputs": [
    {
     "data": {
      "image/png": "[encoded data removed]",
      "text/plain": [
       "<Figure size 640x480 with 1 Axes>"
      ]
     },
     "metadata": {},
     "output_type": "display_data"
    }
   ],
   "source": [
    "# patient admission origin\n",
    "admission_origin_count = encounters_df['AdmissionOrigin'].value_counts()\n",
    "plt.figure()\n",
    "plt.bar(admission_origin_count.index, admission_origin_count)\n",
    "plt.title('Admission Origin Distribution')\n",
    "plt.ylabel('Count')\n",
    "plt.xlabel('Admission Origin')\n",
    "plt.xticks(rotation = 90)\n",
    "plt.savefig('./figs/admission_origin.png', transparent = True, dpi = 300, bbox_inches = \"tight\")\n",
    "plt.show()"
   ]
  },
  {
   "cell_type": "code",
   "execution_count": 89,
   "metadata": {},
   "outputs": [
    {
     "data": {
      "image/png": "[encoded data removed]",
      "text/plain": [
       "<Figure size 640x480 with 1 Axes>"
      ]
     },
     "metadata": {},
     "output_type": "display_data"
    }
   ],
   "source": [
    "# patient admission source\n",
    "admission_source_count = encounters_df['AdmissionSource'].value_counts()\n",
    "plt.figure()\n",
    "plt.bar(admission_source_count.index, admission_source_count)\n",
    "plt.title('Admission Source Distribution')\n",
    "plt.ylabel('Count')\n",
    "plt.xlabel('Admission Source')\n",
    "plt.xticks(rotation = 90)\n",
    "plt.savefig('./figs/admission_source.png', transparent = True, dpi = 300, bbox_inches = \"tight\")\n",
    "plt.show()"
   ]
  },
  {
   "cell_type": "code",
   "execution_count": 90,
   "metadata": {},
   "outputs": [
    {
     "data": {
      "image/png": "[encoded data removed]",
      "text/plain": [
       "<Figure size 640x480 with 1 Axes>"
      ]
     },
     "metadata": {},
     "output_type": "display_data"
    }
   ],
   "source": [
    "# patient admission type\n",
    "admission_type_count = encounters_df['AdmissionType'].value_counts()\n",
    "plt.figure()\n",
    "plt.bar(admission_type_count.index, admission_type_count)\n",
    "plt.title('Admission Type Distribution')\n",
    "plt.ylabel('Count')\n",
    "plt.xlabel('Admission Type')\n",
    "plt.xticks(rotation = 90)\n",
    "plt.savefig('./figs/admission_type.png', transparent = True, dpi = 400, bbox_inches = \"tight\")\n",
    "plt.show()"
   ]
  },
  {
   "cell_type": "markdown",
   "metadata": {},
   "source": [
    "## Diagnosis Types"
   ]
  },
  {
   "cell_type": "code",
   "execution_count": 91,
   "metadata": {},
   "outputs": [
    {
     "data": {
      "text/plain": [
       "array(['Secondary malignant neoplasm of bone  (CMS code)',\n",
       "       'Secondary malignant neoplasm of retroperitoneum and peritoneum  (CMS code)',\n",
       "       'Typical atrial flutter  (CMS code)',\n",
       "       'Vascular disorder of intestine, unspecified (CMS code)',\n",
       "       'Other specified sepsis  (CMS code)',\n",
       "       'Unilateral primary osteoarthritis, left knee',\n",
       "       'Labor and delivery complicated by vasa previa, not applicable or unspecified',\n",
       "       'Other complications of liver transplant  (CMS code)',\n",
       "       'Malignant neoplasm of right lacrimal gland and duct  (CMS code)',\n",
       "       'Alcoholic cirrhosis of liver with ascites  (CMS code)',\n",
       "       'Type 2 diabetes mellitus with diabetic chronic kidney disease  (CMS code)',\n",
       "       'Angiodysplasia of colon with hemorrhage',\n",
       "       'Malignant melanoma of overlapping sites of skin  (CMS code)',\n",
       "       'Other complications of other transplanted tissue',\n",
       "       'Spondylolisthesis, lumbosacral region',\n",
       "       'Atherosclerotic heart disease of native coronary artery with unstable angina pectoris  (CMS code)',\n",
       "       'Aneurysm of the ascending aorta, ruptured  (CMS code)',\n",
       "       'ST elevation (STEMI) myocardial infarction involving left anterior descending coronary artery  (CMS code)',\n",
       "       'Adult hypertrophic pyloric stenosis',\n",
       "       'Lymphoblastic (diffuse) lymphoma, intrathoracic lymph nodes  (CMS code)',\n",
       "       'Alcohol induced acute pancreatitis without necrosis or infection',\n",
       "       'Other mechanical complication of bile duct prosthesis, initial encounter',\n",
       "       'Respiratory syncytial virus pneumonia',\n",
       "       'Alcoholic hepatitis with ascites (CMS code)',\n",
       "       'Hypertensive heart and chronic kidney disease with heart failure and stage 1 through stage 4 chronic kidney disease, or unspecified chronic kidney disease  (CMS code)',\n",
       "       'Bilateral primary osteoarthritis of knee',\n",
       "       'Other lesions of median nerve, left upper limb',\n",
       "       'First degree perineal laceration during delivery',\n",
       "       'Chronic hepatic failure without coma  (CMS code)',\n",
       "       'Diseases of the digestive system complicating pregnancy, third trimester',\n",
       "       'Other gram-negative sepsis  (CMS code)',\n",
       "       'Acute pancreatitis without necrosis or infection, unspecified',\n",
       "       'Neutropenia, unspecified (CMS code)',\n",
       "       'Sepsis, unspecified organism  (CMS code)',\n",
       "       'Irradiation cystitis with hematuria',\n",
       "       'Benign neoplasm of cranial nerves  (CMS code)',\n",
       "       'Other mechanical complication of internal left hip prosthesis, initial encounter (CMS code)',\n",
       "       'Kidney donor', 'Heart transplant rejection  (CMS code)',\n",
       "       'Other optic neuritis',\n",
       "       'Calculus of gallbladder with acute and chronic cholecystitis without obstruction',\n",
       "       'Localization-related (focal) (partial) symptomatic epilepsy and epileptic syndromes with simple partial seizures, intractable, with status epilepticus  (CMS code)',\n",
       "       '(Idiopathic) normal pressure hydrocephalus  (CMS code)',\n",
       "       'Unilateral post-traumatic osteoarthritis, left hip',\n",
       "       'Cytomegaloviral disease, unspecified  (CMS code)',\n",
       "       'Emphysema, unspecified  (CMS code)', '*Unspecified',\n",
       "       'Spinal stenosis, cervical region',\n",
       "       'Urinary tract infection, site not specified',\n",
       "       'Streptococcal sepsis, unspecified  (CMS code)',\n",
       "       'Pathological fracture in neoplastic disease, other specified site, initial encounter for fracture',\n",
       "       'Infection and inflammatory reaction due to other internal joint prosthesis, initial encounter (CMS code)',\n",
       "       'Ileus, unspecified  (CMS code)', 'Esophageal obstruction',\n",
       "       'Other mechanical complication of internal left knee prosthesis, initial encounter (CMS code)',\n",
       "       'Nonrheumatic mitral (valve) insufficiency',\n",
       "       'Encounter for antineoplastic immunotherapy',\n",
       "       'Encounter for antineoplastic chemotherapy',\n",
       "       'Other spondylosis with radiculopathy, lumbar region',\n",
       "       'Diffuse large b-cell lymphoma, extranodal and solid organ sites  (CMS code)',\n",
       "       'Recurrent and persistent immunoglobulin A nephropathy with glomerular lesion',\n",
       "       'Heart transplant failure  (CMS code)',\n",
       "       'Other pancytopenia  (CMS code)', 'Metabolic encephalopathy',\n",
       "       'Trigeminal neuralgia',\n",
       "       'Breakdown (mechanical) of aortic (bifurcation) graft (replacement), initial encounter (CMS code)',\n",
       "       'Diaphragmatic hernia without obstruction or gangrene',\n",
       "       'Other kyphosis, cervical region',\n",
       "       'Malignant neoplasm of thyroid gland  (CMS code)',\n",
       "       'Non-ST elevation (NSTEMI) myocardial infarction  (CMS code)',\n",
       "       'Infection following a procedure, organ and space surgical site, initial encounter',\n",
       "       'Malignant neoplasm of rectosigmoid junction  (CMS code)',\n",
       "       'Type 2 diabetes mellitus with diabetic autonomic (poly)neuropathy  (CMS code)',\n",
       "       'Nonrheumatic mitral (valve) stenosis', 'Other methemoglobinemias',\n",
       "       'Other complication of kidney transplant',\n",
       "       'Other osteonecrosis, right femur  (CMS code)',\n",
       "       'Other nontraumatic subarachnoid hemorrhage  (CMS code)',\n",
       "       'Orthostatic hypotension',\n",
       "       'Pathological fracture, hip, unspecified, subsequent encounter for fracture with malunion',\n",
       "       'Secondary malignant neoplasm of left ovary  (CMS code)',\n",
       "       'Diverticulitis of intestine, part unspecified, without perforation or abscess without bleeding',\n",
       "       'Acute kidney failure, unspecified (CMS code)',\n",
       "       'Incisional hernia without obstruction or gangrene',\n",
       "       'Secondary malignant neoplasm of large intestine and rectum  (CMS code)',\n",
       "       'Atherosclerotic heart disease of native coronary artery without angina pectoris',\n",
       "       'Malignant neoplasm of bladder, unspecified  (CMS code)',\n",
       "       'Neoplasm of unspecified behavior of bone, soft tissue, and skin',\n",
       "       'Cutaneous abscess of buttock',\n",
       "       'Nonrheumatic aortic (valve) stenosis',\n",
       "       'Colostomy hemorrhage  (CMS code)',\n",
       "       'End stage renal disease  (CMS code)',\n",
       "       'Acute kidney failure with tubular necrosis (CMS code)',\n",
       "       'Viral pneumonia, unspecified',\n",
       "       'Cystic fibrosis, unspecified  (CMS code)',\n",
       "       'Hyperemesis gravidarum with metabolic disturbance',\n",
       "       'Nontraumatic intracerebral hemorrhage, unspecified  (CMS code)',\n",
       "       'Secondary pulmonary arterial hypertension  (CMS code)',\n",
       "       'Other cerebrovascular disease',\n",
       "       'Bipolar disorder, current episode manic without psychotic features, mild  (CMS code)',\n",
       "       'Unilateral primary osteoarthritis, right knee',\n",
       "       'Benign carcinoid tumor of the bronchus and lung (CMS code)',\n",
       "       'Deficiency of other specified B group vitamins',\n",
       "       'Other postprocedural complications and disorders of digestive system',\n",
       "       'Hypertensive heart and chronic kidney disease with heart failure and with stage 5 chronic kidney disease, or end stage renal disease  (CMS code)',\n",
       "       'Nondisplaced comminuted fracture of shaft of left femur, initial encounter for closed fracture  (CMS code)',\n",
       "       'Dissection of ascending aorta  (CMS code)',\n",
       "       'Benign intracranial hypertension',\n",
       "       'Acute lymphoblastic leukemia not having achieved remission  (CMS code)',\n",
       "       'Hypokalemia',\n",
       "       'Laceration without foreign body, right knee, initial encounter',\n",
       "       'Cerebral infarction due to unspecified occlusion or stenosis of left carotid arteries  (CMS code)',\n",
       "       'Other encephalopathy',\n",
       "       'Hypertensive heart disease with heart failure  (CMS code)',\n",
       "       'Malignant neoplasm of cervix uteri, unspecified  (CMS code)',\n",
       "       'Malignant neoplasm of overlapping sites of brain  (CMS code)',\n",
       "       'Infection and inflammatory reaction due to internal left knee prosthesis, initial encounter (CMS code)',\n",
       "       'Type 1 diabetes mellitus with diabetic autonomic (poly)neuropathy  (CMS code)',\n",
       "       'Systemic sclerosis with lung involvement  (CMS code)',\n",
       "       'Diffuse large B-cell lymphoma, unspecified site  (CMS code)',\n",
       "       'Other mechanical complication of other cardiac and vascular devices and implants, initial encounter (CMS code)',\n",
       "       'Acute posthemorrhagic anemia',\n",
       "       'Malignant neoplasm of bladder neck  (CMS code)',\n",
       "       'Complication of immune effector cellular therapy, initial encounter',\n",
       "       'Hypertensive chronic kidney disease with stage 5 chronic kidney disease or end stage renal disease  (CMS code)',\n",
       "       'Acute myeloblastic leukemia, not having achieved remission  (CMS code)',\n",
       "       'Infection and inflammatory reaction due to internal left hip prosthesis, initial encounter (CMS code)',\n",
       "       'Unspecified fracture of lower end of left femur, initial encounter for closed fracture  (CMS code)',\n",
       "       'Displaced midcervical fracture of right femur, initial encounter for closed fracture  (CMS code)',\n",
       "       'Epilepsy, unspecified, intractable, with status epilepticus  (CMS code)',\n",
       "       'Infection following a procedure, other surgical site, initial encounter',\n",
       "       'COVID-19', 'Light chain (AL) amyloidosis  (CMS code)',\n",
       "       'Displaced supracondylar fracture without intracondylar extension of lower end of right femur, initial encounter for closed fracture  (CMS code)',\n",
       "       'Infection and inflammatory reaction due to internal right knee prosthesis, initial encounter (CMS code)',\n",
       "       'Unilateral primary osteoarthritis, right hip',\n",
       "       'Unspecified adrenocortical insufficiency (CMS code)',\n",
       "       'Encounter for aftercare following kidney transplant',\n",
       "       'Infection and inflammatory reaction due to internal right hip prosthesis, initial encounter (CMS code)',\n",
       "       'Type 2 diabetes mellitus with foot ulcer  (CMS code)',\n",
       "       'Infection and inflammatory reaction due to other cardiac and vascular devices, implants and grafts, initial encounter (CMS code)',\n",
       "       'Rheumatoid lung disease with rheumatoid arthritis of unspecified site  (CMS code)',\n",
       "       'Lung transplant rejection  (CMS code)', 'Periorbital cellulitis',\n",
       "       'Postprocedural subglottic stenosis',\n",
       "       'Tubulo-interstitial nephritis, not specified as acute or chronic',\n",
       "       'Cerebral infarction due to embolism of right middle cerebral artery  (CMS code)',\n",
       "       'Other secondary thrombocytopenia',\n",
       "       'ST elevation (STEMI) myocardial infarction involving other coronary artery of inferior wall  (CMS code)',\n",
       "       'Spondylolisthesis, lumbar region',\n",
       "       'Arteriovenous malformation of cerebral vessels',\n",
       "       'Hemorrhage from other sites in respiratory passages',\n",
       "       'Essential (primary) hypertension',\n",
       "       'Malignant neoplasm of right ovary  (CMS code)',\n",
       "       'Chronic migraine without aura, intractable, without status migrainosus',\n",
       "       \"Parkinson's disease with dyskinesia, without mention of fluctuations\",\n",
       "       'Bilateral post-traumatic osteoarthritis of knee',\n",
       "       'Other shock  (CMS code)',\n",
       "       'Nontraumatic intracerebral hemorrhage in hemisphere, cortical  (CMS code)',\n",
       "       'Benign neoplasm of cerebral meninges  (CMS code)',\n",
       "       'Unspecified bacterial pneumonia',\n",
       "       'Mechanical loosening of internal left hip prosthetic joint, initial encounter (CMS code)',\n",
       "       'Manic episode without psychotic symptoms, unspecified  (CMS code)',\n",
       "       'Gastrointestinal hemorrhage, unspecified',\n",
       "       'Calculus of gallbladder and bile duct without cholecystitis with obstruction',\n",
       "       'Cystitis, unspecified with hematuria',\n",
       "       'Kidney transplant rejection',\n",
       "       'Acute and chronic respiratory failure with hypoxia  (CMS code)',\n",
       "       'Displaced intertrochanteric fracture of right femur, initial encounter for closed fracture  (CMS code)',\n",
       "       'Multiple myeloma not having achieved remission  (CMS code)',\n",
       "       'Pneumonia due to Escherichia coli  (CMS code)',\n",
       "       'Iron deficiency anemia, unspecified',\n",
       "       'Acute respiratory failure with hypoxia  (CMS code)',\n",
       "       'Ventricular tachycardia, unspecified  (CMS code)',\n",
       "       'Malignant neoplasm of pancreas, unspecified  (CMS code)',\n",
       "       'Idiopathic pulmonary fibrosis  (CMS code)',\n",
       "       'Other overlap syndromes (CMS code)',\n",
       "       'Epilepsy, unspecified, not intractable, with status epilepticus  (CMS code)',\n",
       "       'Pain due to internal orthopedic prosthetic devices, implants and grafts, initial encounter (CMS code)',\n",
       "       'Aneurysm of carotid artery (CMS code)',\n",
       "       'Malignant neoplasm of sigmoid colon  (CMS code)',\n",
       "       'Other pulmonary embolism without acute cor pulmonale  (CMS code)',\n",
       "       'Secondary malignant neoplasm of right lung  (CMS code)',\n",
       "       'Blastic NK-cell lymphoma  (CMS code)',\n",
       "       'Nontraumatic subarachnoid hemorrhage from other intracranial arteries  (CMS code)',\n",
       "       'Liver donor',\n",
       "       'Idiopathic sleep related nonobstructive alveolar hypoventilation',\n",
       "       'Malignant neoplasm of right kidney, except renal pelvis  (CMS code)',\n",
       "       'Displaced spiral fracture of shaft of left tibia, initial encounter for closed fracture',\n",
       "       'Malignant neoplasm of ampulla of Vater  (CMS code)',\n",
       "       'Other cirrhosis of liver  (CMS code)',\n",
       "       'Somatoform disorder, unspecified',\n",
       "       'Polyarteritis with lung involvement (churg-strauss)  (CMS code)',\n",
       "       'Gastrointestinal stromal tumor of stomach  (CMS code)',\n",
       "       'Other specified local infections of the skin and subcutaneous tissue',\n",
       "       'Malignant neoplasm of pancreatic duct  (CMS code)',\n",
       "       'Atherosclerosis of native arteries of extremities with rest pain, right leg  (CMS code)',\n",
       "       'Other specified deforming dorsopathies, site unspecified',\n",
       "       'Disruption of external operation (surgical) wound, not elsewhere classified, initial encounter',\n",
       "       'Malignant neoplasm of rectum  (CMS code)',\n",
       "       'Malignant neoplasm of base of tongue  (CMS code)',\n",
       "       'Spinal stenosis, thoracic region',\n",
       "       'Type 2 diabetes mellitus with diabetic polyneuropathy  (CMS code)',\n",
       "       'Calculus of bile duct without cholangitis or cholecystitis with obstruction',\n",
       "       'Sepsis due to Escherichia coli (e. coli)  (CMS code)',\n",
       "       'Major depressive disorder, recurrent severe without psychotic features  (CMS code)',\n",
       "       'Other specified complication of vascular prosthetic devices, implants and grafts, initial encounter (CMS code)',\n",
       "       'Scoliosis, unspecified',\n",
       "       'Secondary and unspecified malignant neoplasm of lymph nodes of head, face and neck  (CMS code)',\n",
       "       'Anemia, unspecified',\n",
       "       'Peripheral vascular disease, unspecified (CMS code)',\n",
       "       'Gastric varices',\n",
       "       'Malignant poorly differentiated neuroendocrine tumors  (CMS code)',\n",
       "       'Unilateral primary osteoarthritis, left hip',\n",
       "       'Alcohol abuse with withdrawal, uncomplicated  (CMS code)',\n",
       "       'Spinal stenosis, lumbar region without neurogenic claudication',\n",
       "       'Pyogenic arthritis, unspecified  (CMS code)',\n",
       "       'Morbid (severe) obesity due to excess calories  (CMS code)',\n",
       "       'Aneurysm of vertebral artery (CMS code)',\n",
       "       'Poisoning by fentanyl or fentanyl analogs, accidental (unintentional), initial encounter  (CMS code)',\n",
       "       'Postmenopausal bleeding',\n",
       "       'Saddle embolus of pulmonary artery without acute cor pulmonale  (CMS code)',\n",
       "       'Solitary pulmonary nodule', \"Wernicke's encephalopathy\",\n",
       "       'Diaphragmatic hernia with obstruction, without gangrene',\n",
       "       'Acute embolism and thrombosis of left femoral vein  (CMS code)',\n",
       "       'Chronic gout, unspecified, with tophus (tophi)',\n",
       "       'Other displaced fracture of fifth cervical vertebra, initial encounter for closed fracture  (CMS code)',\n",
       "       'Communicating hydrocephalus  (CMS code)',\n",
       "       'Other specified disorders of brain',\n",
       "       'Diverticulum of esophagus, acquired',\n",
       "       'Encounter for attention to ileostomy  (CMS code)',\n",
       "       'Central cord syndrome at C5 level of cervical spinal cord, initial encounter  (CMS code)',\n",
       "       'Polycystic kidney, adult type',\n",
       "       'Infection and inflammatory reaction due to other internal prosthetic devices, implants and grafts, initial encounter (CMS code)',\n",
       "       \"Crohn's disease of both small and large intestine with intestinal obstruction  (CMS code)\",\n",
       "       'Calculus of gallbladder and bile duct without cholecystitis without obstruction',\n",
       "       'Wear of articular bearing surface of internal prosthetic right knee joint, initial encounter (CMS code)',\n",
       "       'Epilepsy, unspecified, not intractable, without status epilepticus  (CMS code)',\n",
       "       'Aplastic anemia, unspecified (CMS code)',\n",
       "       'Pneumonitis due to inhalation of food and vomit  (CMS code)',\n",
       "       'Unspecified psychosis not due to a substance or known physiological condition  (CMS code)',\n",
       "       'Melena',\n",
       "       'Postprocedural hematoma of a genitourinary system organ or structure following a genitourinary system procedure',\n",
       "       'Aneurysm of other precerebral arteries (CMS code)',\n",
       "       'Enterocolitis due to Clostridium difficile, not specified as recurrent',\n",
       "       'Other and unspecified ventral hernia with obstruction, without gangrene',\n",
       "       'Acute and subacute hepatic failure without coma',\n",
       "       'Displacement of other specified internal prosthetic devices, implants and grafts, initial encounter',\n",
       "       'Cerebral edema  (CMS code)',\n",
       "       'Poisoning by antiparkinsonism drugs and other central muscle-tone depressants, accidental (unintentional), initial encounter',\n",
       "       'Alcohol dependence with withdrawal, unspecified  (CMS code)',\n",
       "       'Sepsis due to methicillin susceptible Staphylococcus aureus  (CMS code)',\n",
       "       'Achalasia of cardia', 'Acute pyelonephritis',\n",
       "       'Hypertensive heart and chronic kidney disease without heart failure, with stage 5 chronic kidney disease, or end stage renal disease  (CMS code)',\n",
       "       'Pelvic and perineal pain',\n",
       "       'Other persistent atrial fibrillation  (CMS code)',\n",
       "       'Disseminated zoster',\n",
       "       'Intrahepatic bile duct carcinoma  (CMS code)',\n",
       "       'Spinal stenosis, lumbar region with neurogenic claudication',\n",
       "       'Type 2 diabetes mellitus with hyperglycemia  (CMS code)',\n",
       "       'Epileptic seizures related to external causes, not intractable, with status epilepticus  (CMS code)',\n",
       "       'Non-pressure chronic ulcer of left ankle with unspecified severity  (CMS code)',\n",
       "       'Other specified diseases of pancreas',\n",
       "       'Secondary malignant neoplasm of brain  (CMS code)',\n",
       "       'Postprocedural partial intestinal obstruction',\n",
       "       'Other specified complication of cardiac prosthetic devices, implants and grafts, initial encounter',\n",
       "       'Kidney transplant failure', 'Secundum atrial septal defect',\n",
       "       'Pseudarthrosis after fusion or arthrodesis',\n",
       "       'Cutaneous abscess of chest wall',\n",
       "       'Acute on chronic systolic (congestive) heart failure  (CMS code)',\n",
       "       'Malignant neoplasm of esophagus, unspecified  (CMS code)',\n",
       "       'Infection and inflammatory reaction due to indwelling urethral catheter, initial encounter (CMS code)',\n",
       "       'Other lesions of oral mucosa',\n",
       "       'Occlusion and stenosis of left carotid artery',\n",
       "       'Unspecified fracture of the lower end of right radius, initial encounter for closed fracture',\n",
       "       'Toxic effect of ingested mushrooms, accidental (unintentional), initial encounter',\n",
       "       'Other viral pneumonia',\n",
       "       'Spondylosis without myelopathy or radiculopathy, cervical region',\n",
       "       'Unspecified purulent endophthalmitis, left eye',\n",
       "       'Plasma cell leukemia not having achieved remission  (CMS code)',\n",
       "       'Benign neoplasm of pituitary gland  (CMS code)',\n",
       "       'Hemorrhage due to other internal prosthetic devices, implants and grafts, initial encounter',\n",
       "       'Moyamoya disease', 'Liver cell carcinoma  (CMS code)',\n",
       "       'Bloodstream infection due to central venous catheter, initial encounter',\n",
       "       'Postprocedural hemorrhage of a digestive system organ or structure following a digestive system procedure',\n",
       "       'Acute pulmonary manifestations due to radiation (CMS code)',\n",
       "       'Neoplasm of uncertain behavior of bone and articular cartilage',\n",
       "       'Unspecified convulsions  (CMS code)',\n",
       "       'Acute pancreatitis with uninfected necrosis, unspecified',\n",
       "       'Nausea with vomiting, unspecified',\n",
       "       'Laceration without foreign body of scalp, initial encounter',\n",
       "       'Other specified types of non-hodgkin lymphoma, extranodal and solid organ sites  (CMS code)',\n",
       "       'Liver transplant rejection  (CMS code)',\n",
       "       'Benign neoplasm of pelvic bones, sacrum and coccyx',\n",
       "       'ST elevation (STEMI) myocardial infarction of unspecified site  (CMS code)',\n",
       "       'Gastritis, unspecified, with bleeding',\n",
       "       'Diseases of the digestive system complicating childbirth',\n",
       "       'Other somatoform disorders',\n",
       "       'Angiodysplasia of stomach and duodenum with bleeding',\n",
       "       'Chronic or unspecified gastric ulcer with hemorrhage',\n",
       "       'Displaced fracture of lateral condyle of right tibia, initial encounter for closed fracture',\n",
       "       'Serous retinal detachment, left eye', 'Other chest pain',\n",
       "       'Mechanical loosening of internal left knee prosthetic joint, initial encounter (CMS code)',\n",
       "       'Drug induced acute pancreatitis without necrosis or infection',\n",
       "       'Rheumatic mitral stenosis',\n",
       "       'Other specified noninfective gastroenteritis and colitis',\n",
       "       'Influenza due to other identified influenza virus with the same other identified influenza virus pneumonia',\n",
       "       'Encounter for other plastic and reconstructive surgery following medical procedure or healed injury',\n",
       "       'Infection following a procedure, superficial incisional surgical site, initial encounter',\n",
       "       'Acute cystitis without hematuria',\n",
       "       'Malignant neoplasm of right ureter  (CMS code)', 'Hyperkalemia',\n",
       "       'Toxic liver disease, unspecified',\n",
       "       'Dislocation of internal right hip prosthesis, initial encounter (CMS code)',\n",
       "       'Neoplasm related pain (acute) (chronic)'], dtype=object)"
      ]
     },
     "execution_count": 91,
     "metadata": {},
     "output_type": "execute_result"
    }
   ],
   "source": [
    "encounters_df['PrimaryDx'].unique()"
   ]
  },
  {
   "cell_type": "code",
   "execution_count": 92,
   "metadata": {},
   "outputs": [
    {
     "data": {
      "text/plain": [
       "array([ 4723681,   111736,       -1, 27227372, 28154792,   301555,\n",
       "        1854984,   124480, 27428154, 27066813, 27532955,  1308916,\n",
       "       25859107, 27898590, 22642387, 27928768,   411704, 27019646,\n",
       "         224411,  1680199, 26943000,  5738063,  1405835, 27051514,\n",
       "        1461964, 10920448, 27910754,  4824839, 26605942, 26744915,\n",
       "       10689609,  3925670, 28007903,  1613930, 28036959, 27600924,\n",
       "       27596770, 27534457, 27456413,  1029141,  3938236, 28371727,\n",
       "       28162862,   525844,  1848960, 27277664,   800378, 26952762,\n",
       "        6595623, 28371337, 27033912,  5727853, 26939430,  4950022,\n",
       "        1866461, 28081933, 27458733, 27494223, 27295160, 27599848,\n",
       "         828507, 16185268,  1216170, 27544093,  1597217, 27981291,\n",
       "       27739619, 27209237,  4657086, 27388390, 26945994, 27319559,\n",
       "       27768607, 27380489,   347409, 27457658, 28014637, 26901358,\n",
       "       27519886, 26757381,  1078773, 26863054, 28085899, 26721719,\n",
       "       22571274, 19962932,  1293107, 28166428,  1302356,   638446,\n",
       "        5793074,  1456096,  1714344, 27629048,   980658, 27228640,\n",
       "       26756385,  1233984, 26880546, 26805596,  1847681,  1359046,\n",
       "       27182888,  1726610, 28210778,  1238129, 26937919])"
      ]
     },
     "execution_count": 92,
     "metadata": {},
     "output_type": "execute_result"
    }
   ],
   "source": [
    "# diagnosis combo keys\n",
    "encounters_df['PresentOnAdmissionDiagnosisComboKey'].unique()"
   ]
  },
  {
   "cell_type": "code",
   "execution_count": 93,
   "metadata": {},
   "outputs": [
    {
     "data": {
      "text/plain": [
       "array([      -1,  1628690,   596819,  1844305,  1716000, 18696409,\n",
       "        4716227, 27520393,  1453511, 26934463,  1404574, 27572782,\n",
       "        3668512, 21675435, 26953019,  3873249, 27565785, 26075603,\n",
       "       27174338, 27635581,  1308916,  2441459])"
      ]
     },
     "execution_count": 93,
     "metadata": {},
     "output_type": "execute_result"
    }
   ],
   "source": [
    "# diagnosis combo keys\n",
    "encounters_df['HospitalAcquiredDiagnosisComboKey'].unique()"
   ]
  },
  {
   "cell_type": "markdown",
   "metadata": {},
   "source": [
    "## Discharge Type"
   ]
  },
  {
   "cell_type": "code",
   "execution_count": 94,
   "metadata": {},
   "outputs": [
    {
     "data": {
      "image/png": "[encoded data removed]",
      "text/plain": [
       "<Figure size 640x480 with 1 Axes>"
      ]
     },
     "metadata": {},
     "output_type": "display_data"
    }
   ],
   "source": [
    "# patient discharge disposition\n",
    "discharge_disposition_count = encounters_df['DischargeDisposition'].value_counts()\n",
    "plt.figure()\n",
    "plt.bar(discharge_disposition_count.index, discharge_disposition_count)\n",
    "plt.title('Discharge Disposition Distribution')\n",
    "plt.ylabel('Count')\n",
    "plt.xlabel('Discharge Disposition')\n",
    "plt.xticks(rotation = 90)\n",
    "plt.savefig('./figs/discharge_disposition.png', transparent = True, dpi = 300, bbox_inches = \"tight\")\n",
    "plt.show()"
   ]
  },
  {
   "cell_type": "code",
   "execution_count": 95,
   "metadata": {},
   "outputs": [
    {
     "data": {
      "image/png": "[encoded data removed]",
      "text/plain": [
       "<Figure size 640x480 with 1 Axes>"
      ]
     },
     "metadata": {},
     "output_type": "display_data"
    }
   ],
   "source": [
    "# patient discharge class\n",
    "discharge_class_count = encounters_df['DischargePatientClass'].value_counts()\n",
    "plt.figure()\n",
    "plt.bar(discharge_class_count.index, discharge_class_count)\n",
    "plt.title('Discharge Patient Class Distribution')\n",
    "plt.ylabel('Count')\n",
    "plt.xlabel('Discharge Patient Class')\n",
    "plt.savefig('./figs/discharge_class.png', transparent = True, dpi = 300, bbox_inches = \"tight\")\n",
    "plt.show()"
   ]
  },
  {
   "cell_type": "code",
   "execution_count": 96,
   "metadata": {},
   "outputs": [],
   "source": [
    "# subset of the encounters_df\n",
    "encounters_df_subset = encounters_df[['EncounterKey', 'PatientKey', 'Sex', 'Age_y', 'length_of_stay',\n",
    "                                      'DRG_description', 'PrimaryDx', 'PresentOnAdmissionDiagnosisComboKey', 'HospitalAcquiredDiagnosisComboKey']]"
   ]
  },
  {
   "cell_type": "markdown",
   "metadata": {},
   "source": [
    "# Present on Admission Diagnosis"
   ]
  },
  {
   "cell_type": "code",
   "execution_count": 97,
   "metadata": {},
   "outputs": [
    {
     "data": {
      "text/html": [
       "<div>\n",
       "<style scoped>\n",
       "    .dataframe tbody tr th:only-of-type {\n",
       "        vertical-align: middle;\n",
       "    }\n",
       "\n",
       "    .dataframe tbody tr th {\n",
       "        vertical-align: top;\n",
       "    }\n",
       "\n",
       "    .dataframe thead th {\n",
       "        text-align: right;\n",
       "    }\n",
       "</style>\n",
       "<table border=\"1\" class=\"dataframe\">\n",
       "  <thead>\n",
       "    <tr style=\"text-align: right;\">\n",
       "      <th></th>\n",
       "      <th>EncounterKey</th>\n",
       "      <th>DxName</th>\n",
       "    </tr>\n",
       "  </thead>\n",
       "  <tbody>\n",
       "    <tr>\n",
       "      <th>1</th>\n",
       "      <td>D009F2D78A0374</td>\n",
       "      <td>Complains of low back pain</td>\n",
       "    </tr>\n",
       "    <tr>\n",
       "      <th>3</th>\n",
       "      <td>D00F3A8D5F43B2</td>\n",
       "      <td>Germ cell tumor (CMS code)</td>\n",
       "    </tr>\n",
       "    <tr>\n",
       "      <th>4</th>\n",
       "      <td>D00F3A8D5F43B2</td>\n",
       "      <td>Retroperitoneal mass</td>\n",
       "    </tr>\n",
       "    <tr>\n",
       "      <th>13</th>\n",
       "      <td>D01FCB9EFFD6D5</td>\n",
       "      <td>*Unspecified</td>\n",
       "    </tr>\n",
       "    <tr>\n",
       "      <th>39</th>\n",
       "      <td>D02DC627A3743A</td>\n",
       "      <td>*Unspecified</td>\n",
       "    </tr>\n",
       "  </tbody>\n",
       "</table>\n",
       "</div>"
      ],
      "text/plain": [
       "      EncounterKey                      DxName\n",
       "1   D009F2D78A0374  Complains of low back pain\n",
       "3   D00F3A8D5F43B2  Germ cell tumor (CMS code)\n",
       "4   D00F3A8D5F43B2        Retroperitoneal mass\n",
       "13  D01FCB9EFFD6D5                *Unspecified\n",
       "39  D02DC627A3743A                *Unspecified"
      ]
     },
     "execution_count": 97,
     "metadata": {},
     "output_type": "execute_result"
    }
   ],
   "source": [
    "unique_encounters = encounters_df['EncounterKey'].unique()\n",
    "present_on_admit_df = pd.read_csv('../../Data/presentOnAdmitDx.txt', delimiter= \"|\")\n",
    "present_on_admit_df_filtered = present_on_admit_df[present_on_admit_df['EncounterKey'].isin(unique_encounters)]\n",
    "present_on_admit_df_filtered.head()"
   ]
  },
  {
   "cell_type": "code",
   "execution_count": 98,
   "metadata": {},
   "outputs": [
    {
     "data": {
      "text/plain": [
       "1303"
      ]
     },
     "execution_count": 98,
     "metadata": {},
     "output_type": "execute_result"
    }
   ],
   "source": [
    "present_on_admit_df['EncounterKey'].nunique()"
   ]
  },
  {
   "cell_type": "code",
   "execution_count": 99,
   "metadata": {},
   "outputs": [
    {
     "name": "stdout",
     "output_type": "stream",
     "text": [
      "The number of instances of the non-filtered dataframe: 1970\n",
      "The number of instances of the filtered dataframe: 801\n"
     ]
    }
   ],
   "source": [
    "print(f\"The number of instances of the non-filtered dataframe: {len(present_on_admit_df)}\")\n",
    "print(f\"The number of instances of the filtered dataframe: {len(present_on_admit_df_filtered)}\")"
   ]
  },
  {
   "cell_type": "code",
   "execution_count": 100,
   "metadata": {},
   "outputs": [
    {
     "name": "stdout",
     "output_type": "stream",
     "text": [
      "<class 'pandas.core.frame.DataFrame'>\n",
      "Index: 801 entries, 1 to 1966\n",
      "Data columns (total 2 columns):\n",
      " #   Column        Non-Null Count  Dtype \n",
      "---  ------        --------------  ----- \n",
      " 0   EncounterKey  801 non-null    object\n",
      " 1   DxName        801 non-null    object\n",
      "dtypes: object(2)\n",
      "memory usage: 18.8+ KB\n"
     ]
    }
   ],
   "source": [
    "present_on_admit_df_filtered.info()"
   ]
  },
  {
   "cell_type": "code",
   "execution_count": 101,
   "metadata": {},
   "outputs": [
    {
     "data": {
      "text/html": [
       "<div>\n",
       "<style scoped>\n",
       "    .dataframe tbody tr th:only-of-type {\n",
       "        vertical-align: middle;\n",
       "    }\n",
       "\n",
       "    .dataframe tbody tr th {\n",
       "        vertical-align: top;\n",
       "    }\n",
       "\n",
       "    .dataframe thead th {\n",
       "        text-align: right;\n",
       "    }\n",
       "</style>\n",
       "<table border=\"1\" class=\"dataframe\">\n",
       "  <thead>\n",
       "    <tr style=\"text-align: right;\">\n",
       "      <th></th>\n",
       "      <th>EncounterKey</th>\n",
       "      <th>PatientKey</th>\n",
       "      <th>Sex</th>\n",
       "      <th>Age_y</th>\n",
       "      <th>length_of_stay</th>\n",
       "      <th>DRG_description</th>\n",
       "      <th>PrimaryDx</th>\n",
       "      <th>PresentOnAdmissionDiagnosisComboKey</th>\n",
       "      <th>HospitalAcquiredDiagnosisComboKey</th>\n",
       "      <th>DxName</th>\n",
       "    </tr>\n",
       "  </thead>\n",
       "  <tbody>\n",
       "    <tr>\n",
       "      <th>0</th>\n",
       "      <td>D009F2D78A0374</td>\n",
       "      <td>DB8B8E7C227264</td>\n",
       "      <td>Male</td>\n",
       "      <td>69</td>\n",
       "      <td>25</td>\n",
       "      <td>PATHOLOGICAL FRACTURES AND MUSCULOSKELETAL AND...</td>\n",
       "      <td>Secondary malignant neoplasm of bone  (CMS code)</td>\n",
       "      <td>4723681</td>\n",
       "      <td>-1</td>\n",
       "      <td>Complains of low back pain</td>\n",
       "    </tr>\n",
       "    <tr>\n",
       "      <th>1</th>\n",
       "      <td>D00F3A8D5F43B2</td>\n",
       "      <td>D51024504C9BE5</td>\n",
       "      <td>Male</td>\n",
       "      <td>24</td>\n",
       "      <td>28</td>\n",
       "      <td>OTHER DIGESTIVE SYSTEM AND ABDOMINAL PROCEDURES</td>\n",
       "      <td>Secondary malignant neoplasm of retroperitoneu...</td>\n",
       "      <td>111736</td>\n",
       "      <td>-1</td>\n",
       "      <td>Germ cell tumor (CMS code)</td>\n",
       "    </tr>\n",
       "    <tr>\n",
       "      <th>2</th>\n",
       "      <td>D00F3A8D5F43B2</td>\n",
       "      <td>D51024504C9BE5</td>\n",
       "      <td>Male</td>\n",
       "      <td>24</td>\n",
       "      <td>28</td>\n",
       "      <td>OTHER DIGESTIVE SYSTEM AND ABDOMINAL PROCEDURES</td>\n",
       "      <td>Secondary malignant neoplasm of retroperitoneu...</td>\n",
       "      <td>111736</td>\n",
       "      <td>-1</td>\n",
       "      <td>Retroperitoneal mass</td>\n",
       "    </tr>\n",
       "    <tr>\n",
       "      <th>3</th>\n",
       "      <td>D01FCB9EFFD6D5</td>\n",
       "      <td>D47F8C6663B2AC</td>\n",
       "      <td>Male</td>\n",
       "      <td>53</td>\n",
       "      <td>10</td>\n",
       "      <td>PERCUTANEOUS AND OTHER INTRACARDIAC PROCEDURES...</td>\n",
       "      <td>Typical atrial flutter  (CMS code)</td>\n",
       "      <td>-1</td>\n",
       "      <td>-1</td>\n",
       "      <td>*Unspecified</td>\n",
       "    </tr>\n",
       "    <tr>\n",
       "      <th>4</th>\n",
       "      <td>D02DC627A3743A</td>\n",
       "      <td>DDC17BF3C6B1D9</td>\n",
       "      <td>Male</td>\n",
       "      <td>87</td>\n",
       "      <td>2</td>\n",
       "      <td>OTHER DIGESTIVE SYSTEM DIAGNOSES WITH CC</td>\n",
       "      <td>Vascular disorder of intestine, unspecified (C...</td>\n",
       "      <td>-1</td>\n",
       "      <td>-1</td>\n",
       "      <td>*Unspecified</td>\n",
       "    </tr>\n",
       "  </tbody>\n",
       "</table>\n",
       "</div>"
      ],
      "text/plain": [
       "     EncounterKey      PatientKey   Sex  Age_y  length_of_stay  \\\n",
       "0  D009F2D78A0374  DB8B8E7C227264  Male     69              25   \n",
       "1  D00F3A8D5F43B2  D51024504C9BE5  Male     24              28   \n",
       "2  D00F3A8D5F43B2  D51024504C9BE5  Male     24              28   \n",
       "3  D01FCB9EFFD6D5  D47F8C6663B2AC  Male     53              10   \n",
       "4  D02DC627A3743A  DDC17BF3C6B1D9  Male     87               2   \n",
       "\n",
       "                                     DRG_description  \\\n",
       "0  PATHOLOGICAL FRACTURES AND MUSCULOSKELETAL AND...   \n",
       "1    OTHER DIGESTIVE SYSTEM AND ABDOMINAL PROCEDURES   \n",
       "2    OTHER DIGESTIVE SYSTEM AND ABDOMINAL PROCEDURES   \n",
       "3  PERCUTANEOUS AND OTHER INTRACARDIAC PROCEDURES...   \n",
       "4           OTHER DIGESTIVE SYSTEM DIAGNOSES WITH CC   \n",
       "\n",
       "                                           PrimaryDx  \\\n",
       "0   Secondary malignant neoplasm of bone  (CMS code)   \n",
       "1  Secondary malignant neoplasm of retroperitoneu...   \n",
       "2  Secondary malignant neoplasm of retroperitoneu...   \n",
       "3                 Typical atrial flutter  (CMS code)   \n",
       "4  Vascular disorder of intestine, unspecified (C...   \n",
       "\n",
       "   PresentOnAdmissionDiagnosisComboKey  HospitalAcquiredDiagnosisComboKey  \\\n",
       "0                              4723681                                 -1   \n",
       "1                               111736                                 -1   \n",
       "2                               111736                                 -1   \n",
       "3                                   -1                                 -1   \n",
       "4                                   -1                                 -1   \n",
       "\n",
       "                       DxName  \n",
       "0  Complains of low back pain  \n",
       "1  Germ cell tumor (CMS code)  \n",
       "2        Retroperitoneal mass  \n",
       "3                *Unspecified  \n",
       "4                *Unspecified  "
      ]
     },
     "execution_count": 101,
     "metadata": {},
     "output_type": "execute_result"
    }
   ],
   "source": [
    "admission_dx_df = pd.merge(encounters_df_subset, present_on_admit_df_filtered, how = \"left\", on = \"EncounterKey\")\n",
    "admission_dx_df.head()"
   ]
  },
  {
   "cell_type": "markdown",
   "metadata": {},
   "source": [
    "# Hospital Acquired Diagnosis\n",
    "Diagnosis during hospitalization"
   ]
  },
  {
   "cell_type": "code",
   "execution_count": 102,
   "metadata": {},
   "outputs": [
    {
     "data": {
      "text/html": [
       "<div>\n",
       "<style scoped>\n",
       "    .dataframe tbody tr th:only-of-type {\n",
       "        vertical-align: middle;\n",
       "    }\n",
       "\n",
       "    .dataframe tbody tr th {\n",
       "        vertical-align: top;\n",
       "    }\n",
       "\n",
       "    .dataframe thead th {\n",
       "        text-align: right;\n",
       "    }\n",
       "</style>\n",
       "<table border=\"1\" class=\"dataframe\">\n",
       "  <thead>\n",
       "    <tr style=\"text-align: right;\">\n",
       "      <th></th>\n",
       "      <th>EncounterKey</th>\n",
       "      <th>DxName</th>\n",
       "    </tr>\n",
       "  </thead>\n",
       "  <tbody>\n",
       "    <tr>\n",
       "      <th>0</th>\n",
       "      <td>D00142C614FA25</td>\n",
       "      <td>*Unspecified</td>\n",
       "    </tr>\n",
       "    <tr>\n",
       "      <th>1</th>\n",
       "      <td>D009F2D78A0374</td>\n",
       "      <td>*Unspecified</td>\n",
       "    </tr>\n",
       "    <tr>\n",
       "      <th>2</th>\n",
       "      <td>D00D7335431B1F</td>\n",
       "      <td>*Unspecified</td>\n",
       "    </tr>\n",
       "    <tr>\n",
       "      <th>3</th>\n",
       "      <td>D00F3A8D5F43B2</td>\n",
       "      <td>*Unspecified</td>\n",
       "    </tr>\n",
       "    <tr>\n",
       "      <th>4</th>\n",
       "      <td>D0105B1196D03B</td>\n",
       "      <td>*Unspecified</td>\n",
       "    </tr>\n",
       "  </tbody>\n",
       "</table>\n",
       "</div>"
      ],
      "text/plain": [
       "     EncounterKey        DxName\n",
       "0  D00142C614FA25  *Unspecified\n",
       "1  D009F2D78A0374  *Unspecified\n",
       "2  D00D7335431B1F  *Unspecified\n",
       "3  D00F3A8D5F43B2  *Unspecified\n",
       "4  D0105B1196D03B  *Unspecified"
      ]
     },
     "execution_count": 102,
     "metadata": {},
     "output_type": "execute_result"
    }
   ],
   "source": [
    "hospital_acquired_dx_df = pd.read_csv('../../Data/hospitalAcquiredDx.txt', delimiter = \"|\")\n",
    "hospital_acquired_dx_df_filtered = hospital_acquired_dx_df[hospital_acquired_dx_df['EncounterKey'].isin(unique_encounters)]\n",
    "hospital_acquired_dx_df.head()"
   ]
  },
  {
   "cell_type": "code",
   "execution_count": 103,
   "metadata": {},
   "outputs": [
    {
     "data": {
      "text/plain": [
       "1303"
      ]
     },
     "execution_count": 103,
     "metadata": {},
     "output_type": "execute_result"
    }
   ],
   "source": [
    "hospital_acquired_dx_df['EncounterKey'].nunique()"
   ]
  },
  {
   "cell_type": "code",
   "execution_count": 104,
   "metadata": {},
   "outputs": [
    {
     "name": "stdout",
     "output_type": "stream",
     "text": [
      "The number of instances of the non-filtered dataframe: 1356\n",
      "The number of instances of the filtered dataframe: 569\n"
     ]
    }
   ],
   "source": [
    "print(f\"The number of instances of the non-filtered dataframe: {len(hospital_acquired_dx_df)}\")\n",
    "print(f\"The number of instances of the filtered dataframe: {len(hospital_acquired_dx_df_filtered)}\")"
   ]
  },
  {
   "cell_type": "code",
   "execution_count": 105,
   "metadata": {},
   "outputs": [
    {
     "data": {
      "text/html": [
       "<div>\n",
       "<style scoped>\n",
       "    .dataframe tbody tr th:only-of-type {\n",
       "        vertical-align: middle;\n",
       "    }\n",
       "\n",
       "    .dataframe tbody tr th {\n",
       "        vertical-align: top;\n",
       "    }\n",
       "\n",
       "    .dataframe thead th {\n",
       "        text-align: right;\n",
       "    }\n",
       "</style>\n",
       "<table border=\"1\" class=\"dataframe\">\n",
       "  <thead>\n",
       "    <tr style=\"text-align: right;\">\n",
       "      <th></th>\n",
       "      <th>EncounterKey</th>\n",
       "      <th>PatientKey</th>\n",
       "      <th>Sex</th>\n",
       "      <th>Age_y</th>\n",
       "      <th>length_of_stay</th>\n",
       "      <th>DRG_description</th>\n",
       "      <th>PrimaryDx</th>\n",
       "      <th>PresentOnAdmissionDiagnosisComboKey</th>\n",
       "      <th>HospitalAcquiredDiagnosisComboKey</th>\n",
       "      <th>DxName</th>\n",
       "    </tr>\n",
       "  </thead>\n",
       "  <tbody>\n",
       "    <tr>\n",
       "      <th>0</th>\n",
       "      <td>D009F2D78A0374</td>\n",
       "      <td>DB8B8E7C227264</td>\n",
       "      <td>Male</td>\n",
       "      <td>69</td>\n",
       "      <td>25</td>\n",
       "      <td>PATHOLOGICAL FRACTURES AND MUSCULOSKELETAL AND...</td>\n",
       "      <td>Secondary malignant neoplasm of bone  (CMS code)</td>\n",
       "      <td>4723681</td>\n",
       "      <td>-1</td>\n",
       "      <td>*Unspecified</td>\n",
       "    </tr>\n",
       "    <tr>\n",
       "      <th>1</th>\n",
       "      <td>D00F3A8D5F43B2</td>\n",
       "      <td>D51024504C9BE5</td>\n",
       "      <td>Male</td>\n",
       "      <td>24</td>\n",
       "      <td>28</td>\n",
       "      <td>OTHER DIGESTIVE SYSTEM AND ABDOMINAL PROCEDURES</td>\n",
       "      <td>Secondary malignant neoplasm of retroperitoneu...</td>\n",
       "      <td>111736</td>\n",
       "      <td>-1</td>\n",
       "      <td>*Unspecified</td>\n",
       "    </tr>\n",
       "    <tr>\n",
       "      <th>2</th>\n",
       "      <td>D01FCB9EFFD6D5</td>\n",
       "      <td>D47F8C6663B2AC</td>\n",
       "      <td>Male</td>\n",
       "      <td>53</td>\n",
       "      <td>10</td>\n",
       "      <td>PERCUTANEOUS AND OTHER INTRACARDIAC PROCEDURES...</td>\n",
       "      <td>Typical atrial flutter  (CMS code)</td>\n",
       "      <td>-1</td>\n",
       "      <td>-1</td>\n",
       "      <td>*Unspecified</td>\n",
       "    </tr>\n",
       "    <tr>\n",
       "      <th>3</th>\n",
       "      <td>D02DC627A3743A</td>\n",
       "      <td>DDC17BF3C6B1D9</td>\n",
       "      <td>Male</td>\n",
       "      <td>87</td>\n",
       "      <td>2</td>\n",
       "      <td>OTHER DIGESTIVE SYSTEM DIAGNOSES WITH CC</td>\n",
       "      <td>Vascular disorder of intestine, unspecified (C...</td>\n",
       "      <td>-1</td>\n",
       "      <td>-1</td>\n",
       "      <td>*Unspecified</td>\n",
       "    </tr>\n",
       "    <tr>\n",
       "      <th>4</th>\n",
       "      <td>D03868A75BBE62</td>\n",
       "      <td>DAE2BFBDAFD04C</td>\n",
       "      <td>Female</td>\n",
       "      <td>59</td>\n",
       "      <td>16</td>\n",
       "      <td>SEPTICEMIA OR SEVERE SEPSIS WITHOUT MV &gt;96 HOU...</td>\n",
       "      <td>Other specified sepsis  (CMS code)</td>\n",
       "      <td>-1</td>\n",
       "      <td>-1</td>\n",
       "      <td>*Unspecified</td>\n",
       "    </tr>\n",
       "  </tbody>\n",
       "</table>\n",
       "</div>"
      ],
      "text/plain": [
       "     EncounterKey      PatientKey     Sex  Age_y  length_of_stay  \\\n",
       "0  D009F2D78A0374  DB8B8E7C227264    Male     69              25   \n",
       "1  D00F3A8D5F43B2  D51024504C9BE5    Male     24              28   \n",
       "2  D01FCB9EFFD6D5  D47F8C6663B2AC    Male     53              10   \n",
       "3  D02DC627A3743A  DDC17BF3C6B1D9    Male     87               2   \n",
       "4  D03868A75BBE62  DAE2BFBDAFD04C  Female     59              16   \n",
       "\n",
       "                                     DRG_description  \\\n",
       "0  PATHOLOGICAL FRACTURES AND MUSCULOSKELETAL AND...   \n",
       "1    OTHER DIGESTIVE SYSTEM AND ABDOMINAL PROCEDURES   \n",
       "2  PERCUTANEOUS AND OTHER INTRACARDIAC PROCEDURES...   \n",
       "3           OTHER DIGESTIVE SYSTEM DIAGNOSES WITH CC   \n",
       "4  SEPTICEMIA OR SEVERE SEPSIS WITHOUT MV >96 HOU...   \n",
       "\n",
       "                                           PrimaryDx  \\\n",
       "0   Secondary malignant neoplasm of bone  (CMS code)   \n",
       "1  Secondary malignant neoplasm of retroperitoneu...   \n",
       "2                 Typical atrial flutter  (CMS code)   \n",
       "3  Vascular disorder of intestine, unspecified (C...   \n",
       "4                 Other specified sepsis  (CMS code)   \n",
       "\n",
       "   PresentOnAdmissionDiagnosisComboKey  HospitalAcquiredDiagnosisComboKey  \\\n",
       "0                              4723681                                 -1   \n",
       "1                               111736                                 -1   \n",
       "2                                   -1                                 -1   \n",
       "3                                   -1                                 -1   \n",
       "4                                   -1                                 -1   \n",
       "\n",
       "         DxName  \n",
       "0  *Unspecified  \n",
       "1  *Unspecified  \n",
       "2  *Unspecified  \n",
       "3  *Unspecified  \n",
       "4  *Unspecified  "
      ]
     },
     "execution_count": 105,
     "metadata": {},
     "output_type": "execute_result"
    }
   ],
   "source": [
    "hospitalization_dx_df = pd.merge(encounters_df_subset, hospital_acquired_dx_df_filtered, how = \"left\", on = \"EncounterKey\")\n",
    "hospitalization_dx_df.head()"
   ]
  },
  {
   "cell_type": "markdown",
   "metadata": {},
   "source": [
    "# Orders"
   ]
  },
  {
   "cell_type": "code",
   "execution_count": 106,
   "metadata": {},
   "outputs": [
    {
     "data": {
      "text/html": [
       "<div>\n",
       "<style scoped>\n",
       "    .dataframe tbody tr th:only-of-type {\n",
       "        vertical-align: middle;\n",
       "    }\n",
       "\n",
       "    .dataframe tbody tr th {\n",
       "        vertical-align: top;\n",
       "    }\n",
       "\n",
       "    .dataframe thead th {\n",
       "        text-align: right;\n",
       "    }\n",
       "</style>\n",
       "<table border=\"1\" class=\"dataframe\">\n",
       "  <thead>\n",
       "    <tr style=\"text-align: right;\">\n",
       "      <th></th>\n",
       "      <th>EncounterKey</th>\n",
       "      <th>PatientKey</th>\n",
       "      <th>MedicationOrderKey</th>\n",
       "      <th>OrderDate</th>\n",
       "      <th>OrderName</th>\n",
       "      <th>Frequency</th>\n",
       "      <th>Sig</th>\n",
       "      <th>Quantity</th>\n",
       "      <th>QuantityUnit</th>\n",
       "      <th>DurationDays</th>\n",
       "      <th>...</th>\n",
       "      <th>Class</th>\n",
       "      <th>Source</th>\n",
       "      <th>DischargeOrder</th>\n",
       "      <th>Name</th>\n",
       "      <th>PharmaceuticalClass</th>\n",
       "      <th>PharmaceuticalSubclass</th>\n",
       "      <th>TherapeuticClass</th>\n",
       "      <th>AssociatedDiagnosisComboKey</th>\n",
       "      <th>AuthorizedByProviderKey</th>\n",
       "      <th>OrderDx</th>\n",
       "    </tr>\n",
       "  </thead>\n",
       "  <tbody>\n",
       "    <tr>\n",
       "      <th>0</th>\n",
       "      <td>D009F2D78A0374</td>\n",
       "      <td>DB8B8E7C227264</td>\n",
       "      <td>D5A3C242B16791</td>\n",
       "      <td>2023-09-01</td>\n",
       "      <td>lansoprazole (PREVACID SOLUTAB) rapid dissolve...</td>\n",
       "      <td>2 times daily</td>\n",
       "      <td>*Not Applicable</td>\n",
       "      <td>NaN</td>\n",
       "      <td>*Not Applicable</td>\n",
       "      <td>25.0</td>\n",
       "      <td>...</td>\n",
       "      <td>Normal</td>\n",
       "      <td>Manage Orders</td>\n",
       "      <td>0</td>\n",
       "      <td>LANSOPRAZOLE 15 MG DELAYED RELEASE,DISINTEGRAT...</td>\n",
       "      <td>PROTON-PUMP INHIBITORS</td>\n",
       "      <td>Gastric Acid Secretion Reducer - Proton Pump I...</td>\n",
       "      <td>GASTROINTESTINAL</td>\n",
       "      <td>-1</td>\n",
       "      <td>1048389</td>\n",
       "      <td>*Unspecified</td>\n",
       "    </tr>\n",
       "    <tr>\n",
       "      <th>1</th>\n",
       "      <td>D00F3A8D5F43B2</td>\n",
       "      <td>DC58231891F54A</td>\n",
       "      <td>D2A2C94480B539</td>\n",
       "      <td>2023-09-30</td>\n",
       "      <td>lansoprazole (PREVACID) capsule 30 mg</td>\n",
       "      <td>Every Morning Before Breakfast Scheduled</td>\n",
       "      <td>*Not Applicable</td>\n",
       "      <td>NaN</td>\n",
       "      <td>*Not Applicable</td>\n",
       "      <td>NaN</td>\n",
       "      <td>...</td>\n",
       "      <td>Normal</td>\n",
       "      <td>Manage Orders</td>\n",
       "      <td>0</td>\n",
       "      <td>LANSOPRAZOLE 30 MG CAPSULE,DELAYED RELEASE</td>\n",
       "      <td>PROTON-PUMP INHIBITORS</td>\n",
       "      <td>Gastric Acid Secretion Reducer - Proton Pump I...</td>\n",
       "      <td>GASTROINTESTINAL</td>\n",
       "      <td>-1</td>\n",
       "      <td>784989</td>\n",
       "      <td>*Unspecified</td>\n",
       "    </tr>\n",
       "    <tr>\n",
       "      <th>2</th>\n",
       "      <td>D00F3A8D5F43B2</td>\n",
       "      <td>DC58231891F54A</td>\n",
       "      <td>D9031523D8AC0A</td>\n",
       "      <td>2023-09-30</td>\n",
       "      <td>lansoprazole (PREVACID) 30 mg capsule</td>\n",
       "      <td>Every Morning Before Breakfast Scheduled</td>\n",
       "      <td>DEID:D5154E2D98274C</td>\n",
       "      <td>60.0</td>\n",
       "      <td>capsule</td>\n",
       "      <td>NaN</td>\n",
       "      <td>...</td>\n",
       "      <td>Normal</td>\n",
       "      <td>Ord Rec Discharge Review Orders</td>\n",
       "      <td>1</td>\n",
       "      <td>LANSOPRAZOLE 30 MG CAPSULE,DELAYED RELEASE</td>\n",
       "      <td>PROTON-PUMP INHIBITORS</td>\n",
       "      <td>Gastric Acid Secretion Reducer - Proton Pump I...</td>\n",
       "      <td>GASTROINTESTINAL</td>\n",
       "      <td>-1</td>\n",
       "      <td>784989</td>\n",
       "      <td>*Unspecified</td>\n",
       "    </tr>\n",
       "    <tr>\n",
       "      <th>3</th>\n",
       "      <td>D00F3A8D5F43B2</td>\n",
       "      <td>DC58231891F54A</td>\n",
       "      <td>D9F5CCF4A84F71</td>\n",
       "      <td>2023-09-19</td>\n",
       "      <td>pantoprazole (PROTONIX) injection 40 mg</td>\n",
       "      <td>Daily Scheduled</td>\n",
       "      <td>*Not Applicable</td>\n",
       "      <td>NaN</td>\n",
       "      <td>*Not Applicable</td>\n",
       "      <td>11.0</td>\n",
       "      <td>...</td>\n",
       "      <td>Normal</td>\n",
       "      <td>Manage Orders</td>\n",
       "      <td>0</td>\n",
       "      <td>PANTOPRAZOLE 40 MG INTRAVENOUS SOLUTION</td>\n",
       "      <td>PROTON-PUMP INHIBITORS</td>\n",
       "      <td>Gastric Acid Secretion Reducer - Proton Pump I...</td>\n",
       "      <td>GASTROINTESTINAL</td>\n",
       "      <td>-1</td>\n",
       "      <td>788285</td>\n",
       "      <td>*Unspecified</td>\n",
       "    </tr>\n",
       "    <tr>\n",
       "      <th>4</th>\n",
       "      <td>D01FCB9EFFD6D5</td>\n",
       "      <td>D6878B787D62F0</td>\n",
       "      <td>D057AC8B89333D</td>\n",
       "      <td>2023-09-01</td>\n",
       "      <td>lansoprazole (PREVACID) capsule 15 mg</td>\n",
       "      <td>Every Morning Before Breakfast Scheduled</td>\n",
       "      <td>*Not Applicable</td>\n",
       "      <td>NaN</td>\n",
       "      <td>*Not Applicable</td>\n",
       "      <td>5.0</td>\n",
       "      <td>...</td>\n",
       "      <td>Normal</td>\n",
       "      <td>Manage Orders</td>\n",
       "      <td>0</td>\n",
       "      <td>LANSOPRAZOLE 15 MG CAPSULE,DELAYED RELEASE</td>\n",
       "      <td>PROTON-PUMP INHIBITORS</td>\n",
       "      <td>Gastric Acid Secretion Reducer - Proton Pump I...</td>\n",
       "      <td>GASTROINTESTINAL</td>\n",
       "      <td>-1</td>\n",
       "      <td>782934</td>\n",
       "      <td>*Unspecified</td>\n",
       "    </tr>\n",
       "  </tbody>\n",
       "</table>\n",
       "<p>5 rows × 21 columns</p>\n",
       "</div>"
      ],
      "text/plain": [
       "     EncounterKey      PatientKey MedicationOrderKey   OrderDate  \\\n",
       "0  D009F2D78A0374  DB8B8E7C227264     D5A3C242B16791  2023-09-01   \n",
       "1  D00F3A8D5F43B2  DC58231891F54A     D2A2C94480B539  2023-09-30   \n",
       "2  D00F3A8D5F43B2  DC58231891F54A     D9031523D8AC0A  2023-09-30   \n",
       "3  D00F3A8D5F43B2  DC58231891F54A     D9F5CCF4A84F71  2023-09-19   \n",
       "4  D01FCB9EFFD6D5  D6878B787D62F0     D057AC8B89333D  2023-09-01   \n",
       "\n",
       "                                           OrderName  \\\n",
       "0  lansoprazole (PREVACID SOLUTAB) rapid dissolve...   \n",
       "1              lansoprazole (PREVACID) capsule 30 mg   \n",
       "2              lansoprazole (PREVACID) 30 mg capsule   \n",
       "3            pantoprazole (PROTONIX) injection 40 mg   \n",
       "4              lansoprazole (PREVACID) capsule 15 mg   \n",
       "\n",
       "                                  Frequency                  Sig  Quantity  \\\n",
       "0                             2 times daily      *Not Applicable       NaN   \n",
       "1  Every Morning Before Breakfast Scheduled      *Not Applicable       NaN   \n",
       "2  Every Morning Before Breakfast Scheduled  DEID:D5154E2D98274C      60.0   \n",
       "3                           Daily Scheduled      *Not Applicable       NaN   \n",
       "4  Every Morning Before Breakfast Scheduled      *Not Applicable       NaN   \n",
       "\n",
       "      QuantityUnit  DurationDays  ...   Class  \\\n",
       "0  *Not Applicable          25.0  ...  Normal   \n",
       "1  *Not Applicable           NaN  ...  Normal   \n",
       "2          capsule           NaN  ...  Normal   \n",
       "3  *Not Applicable          11.0  ...  Normal   \n",
       "4  *Not Applicable           5.0  ...  Normal   \n",
       "\n",
       "                            Source DischargeOrder  \\\n",
       "0                    Manage Orders              0   \n",
       "1                    Manage Orders              0   \n",
       "2  Ord Rec Discharge Review Orders              1   \n",
       "3                    Manage Orders              0   \n",
       "4                    Manage Orders              0   \n",
       "\n",
       "                                                Name     PharmaceuticalClass  \\\n",
       "0  LANSOPRAZOLE 15 MG DELAYED RELEASE,DISINTEGRAT...  PROTON-PUMP INHIBITORS   \n",
       "1         LANSOPRAZOLE 30 MG CAPSULE,DELAYED RELEASE  PROTON-PUMP INHIBITORS   \n",
       "2         LANSOPRAZOLE 30 MG CAPSULE,DELAYED RELEASE  PROTON-PUMP INHIBITORS   \n",
       "3            PANTOPRAZOLE 40 MG INTRAVENOUS SOLUTION  PROTON-PUMP INHIBITORS   \n",
       "4         LANSOPRAZOLE 15 MG CAPSULE,DELAYED RELEASE  PROTON-PUMP INHIBITORS   \n",
       "\n",
       "                              PharmaceuticalSubclass  TherapeuticClass  \\\n",
       "0  Gastric Acid Secretion Reducer - Proton Pump I...  GASTROINTESTINAL   \n",
       "1  Gastric Acid Secretion Reducer - Proton Pump I...  GASTROINTESTINAL   \n",
       "2  Gastric Acid Secretion Reducer - Proton Pump I...  GASTROINTESTINAL   \n",
       "3  Gastric Acid Secretion Reducer - Proton Pump I...  GASTROINTESTINAL   \n",
       "4  Gastric Acid Secretion Reducer - Proton Pump I...  GASTROINTESTINAL   \n",
       "\n",
       "  AssociatedDiagnosisComboKey  AuthorizedByProviderKey       OrderDx  \n",
       "0                          -1                  1048389  *Unspecified  \n",
       "1                          -1                   784989  *Unspecified  \n",
       "2                          -1                   784989  *Unspecified  \n",
       "3                          -1                   788285  *Unspecified  \n",
       "4                          -1                   782934  *Unspecified  \n",
       "\n",
       "[5 rows x 21 columns]"
      ]
     },
     "execution_count": 106,
     "metadata": {},
     "output_type": "execute_result"
    }
   ],
   "source": [
    "orders_df = pd.read_csv('../../Data/orders.txt', delimiter = \"|\")\n",
    "orders_df_filtered = orders_df[orders_df['EncounterKey'].isin(unique_encounters)]\n",
    "orders_df_filtered.head()"
   ]
  },
  {
   "cell_type": "code",
   "execution_count": 107,
   "metadata": {},
   "outputs": [
    {
     "name": "stdout",
     "output_type": "stream",
     "text": [
      "The number of instances of the non-filtered dataframe: 1059\n",
      "The number of instances of the filtered dataframe: 1059\n"
     ]
    }
   ],
   "source": [
    "print(f\"The number of instances of the non-filtered dataframe: {len(orders_df)}\")\n",
    "print(f\"The number of instances of the filtered dataframe: {len(orders_df_filtered)}\")"
   ]
  },
  {
   "cell_type": "code",
   "execution_count": 108,
   "metadata": {},
   "outputs": [
    {
     "name": "stdout",
     "output_type": "stream",
     "text": [
      "<class 'pandas.core.frame.DataFrame'>\n",
      "RangeIndex: 1059 entries, 0 to 1058\n",
      "Data columns (total 21 columns):\n",
      " #   Column                       Non-Null Count  Dtype  \n",
      "---  ------                       --------------  -----  \n",
      " 0   EncounterKey                 1059 non-null   object \n",
      " 1   PatientKey                   1059 non-null   object \n",
      " 2   MedicationOrderKey           1059 non-null   object \n",
      " 3   OrderDate                    1036 non-null   object \n",
      " 4   OrderName                    1059 non-null   object \n",
      " 5   Frequency                    1059 non-null   object \n",
      " 6   Sig                          1012 non-null   object \n",
      " 7   Quantity                     163 non-null    float64\n",
      " 8   QuantityUnit                 1059 non-null   object \n",
      " 9   DurationDays                 874 non-null    float64\n",
      " 10  Mode                         1059 non-null   object \n",
      " 11  Class                        1059 non-null   object \n",
      " 12  Source                       1059 non-null   object \n",
      " 13  DischargeOrder               1059 non-null   int64  \n",
      " 14  Name                         1059 non-null   object \n",
      " 15  PharmaceuticalClass          1059 non-null   object \n",
      " 16  PharmaceuticalSubclass       1059 non-null   object \n",
      " 17  TherapeuticClass             1059 non-null   object \n",
      " 18  AssociatedDiagnosisComboKey  1059 non-null   int64  \n",
      " 19  AuthorizedByProviderKey      1059 non-null   int64  \n",
      " 20  OrderDx                      1059 non-null   object \n",
      "dtypes: float64(2), int64(3), object(16)\n",
      "memory usage: 173.9+ KB\n"
     ]
    }
   ],
   "source": [
    "orders_df_filtered.info()"
   ]
  },
  {
   "cell_type": "code",
   "execution_count": 109,
   "metadata": {},
   "outputs": [
    {
     "data": {
      "text/plain": [
       "730"
      ]
     },
     "execution_count": 109,
     "metadata": {},
     "output_type": "execute_result"
    }
   ],
   "source": [
    "# the number of unique patient keys here are different than the Encounters table\n",
    "orders_df_filtered['PatientKey'].nunique()"
   ]
  },
  {
   "cell_type": "code",
   "execution_count": 110,
   "metadata": {},
   "outputs": [
    {
     "data": {
      "text/plain": [
       "1059"
      ]
     },
     "execution_count": 110,
     "metadata": {},
     "output_type": "execute_result"
    }
   ],
   "source": [
    "# all medication order keys are unique\n",
    "orders_df_filtered['MedicationOrderKey'].nunique()"
   ]
  },
  {
   "cell_type": "code",
   "execution_count": 111,
   "metadata": {},
   "outputs": [
    {
     "data": {
      "image/png": "[encoded data removed]",
      "text/plain": [
       "<Figure size 640x480 with 1 Axes>"
      ]
     },
     "metadata": {},
     "output_type": "display_data"
    }
   ],
   "source": [
    "# order date - looking at the span\n",
    "orders_df_filtered['OrderDate'] = orders_df_filtered['OrderDate'].apply(pd.to_datetime, format = \"%Y-%m-%d\")\n",
    "order_date_count = orders_df_filtered['OrderDate'].value_counts()\n",
    "plt.figure()\n",
    "plt.bar(order_date_count.index, order_date_count)\n",
    "plt.title('Order Date Distribution')\n",
    "plt.xlabel('Date')\n",
    "plt.ylabel('Count')\n",
    "plt.xticks(rotation = 90 )\n",
    "plt.show()\n"
   ]
  },
  {
   "cell_type": "code",
   "execution_count": 112,
   "metadata": {},
   "outputs": [
    {
     "data": {
      "text/plain": [
       "OrderName\n",
       "lansoprazole (PREVACID) capsule 30 mg                           401\n",
       "pantoprazole (PROTONIX) injection 40 mg                         195\n",
       "lansoprazole (PREVACID SOLUTAB) rapid dissolve tablet 30 mg     105\n",
       "lansoprazole (PREVACID) 30 mg capsule                            78\n",
       "omeprazole (PRILOSEC) 20 mg capsule                              62\n",
       "lansoprazole (PREVACID) capsule 15 mg                            56\n",
       "pantoprazole (PROTONIX) 40 mg tablet                             33\n",
       "pantoprazole (PROTONIX) injection 80 mg                          30\n",
       "omeprazole (PRILOSEC) 40 mg capsule                              26\n",
       "lansoprazole (PREVACID SOLUTAB) rapid dissolve tablet 15 mg      19\n",
       "lansoprazole (PREVACID SOLUTAB) 30 mg rapid dissolve tablet      16\n",
       "lansoprazole (PREVACID) 15 mg capsule                             9\n",
       "pantoprazole (PROTONIX) 20 mg tablet                              7\n",
       "pantoprazole (PROTONIX) 4 mg/mL injection                         4\n",
       "pantoprazole (PROTONIX) injection 20 mg                           3\n",
       "esomeprazole (NEXIUM) 40 mg capsule                               3\n",
       "lansoprazole (PREVACID SOLUTAB) 15 mg rapid dissolve tablet       3\n",
       "pantoprazole (PROTONIX) 40 mg EC tablet                           2\n",
       "esomeprazole (NEXIUM) 20 mg capsule                               1\n",
       "omeprazole (PRILOSEC) capsule 20 mg ***POM***                     1\n",
       "OMEPRAZOLE ORAL                                                   1\n",
       "esomeprazole (NEXIUM PACKET) 20 mg suspension                     1\n",
       "esomeprazole (NEXIUM) capsule 40 mg *Patient Own Medication*      1\n",
       "omeprazole (PRILOSEC) capsule 40 mg                               1\n",
       "omeprazole (PRILOSEC) 2 mg/mL suspension                          1\n",
       "Name: count, dtype: int64"
      ]
     },
     "execution_count": 112,
     "metadata": {},
     "output_type": "execute_result"
    }
   ],
   "source": [
    "# order name distribution\n",
    "orders_df_filtered['OrderName'].value_counts()"
   ]
  },
  {
   "cell_type": "code",
   "execution_count": 113,
   "metadata": {},
   "outputs": [
    {
     "data": {
      "text/plain": [
       "Frequency\n",
       "Every Morning Before Breakfast Scheduled    478\n",
       "Daily Scheduled                             308\n",
       "2 Times Daily Scheduled                     115\n",
       "2 times daily                                84\n",
       "Once                                         37\n",
       "2 Times Daily Before Meals Scheduled         15\n",
       "*Unspecified                                  4\n",
       "Daily                                         3\n",
       "2 Times Daily                                 3\n",
       "Every Morning Scheduled                       3\n",
       "Every 12 Hours                                2\n",
       "2 Times Daily With Meals Scheduled            2\n",
       "Twice Daily                                   1\n",
       "Bedtime PRN                                   1\n",
       "2 Times Daily PRN                             1\n",
       "Once PRN                                      1\n",
       "Daily PRN                                     1\n",
       "Name: count, dtype: int64"
      ]
     },
     "execution_count": 113,
     "metadata": {},
     "output_type": "execute_result"
    }
   ],
   "source": [
    "# orders frequency\n",
    "orders_df_filtered['Frequency'].value_counts()"
   ]
  },
  {
   "cell_type": "code",
   "execution_count": 114,
   "metadata": {},
   "outputs": [
    {
     "data": {
      "text/plain": [
       "Quantity\n",
       "30.0     109\n",
       "60.0      24\n",
       "90.0       9\n",
       "14.0       5\n",
       "120.0      3\n",
       "1.0        3\n",
       "180.0      2\n",
       "200.0      1\n",
       "6.0        1\n",
       "32.0       1\n",
       "15.0       1\n",
       "56.0       1\n",
       "110.0      1\n",
       "42.0       1\n",
       "100.0      1\n",
       "Name: count, dtype: int64"
      ]
     },
     "execution_count": 114,
     "metadata": {},
     "output_type": "execute_result"
    }
   ],
   "source": [
    "# order quantity\n",
    "orders_df_filtered['Quantity'].value_counts()"
   ]
  },
  {
   "cell_type": "code",
   "execution_count": 115,
   "metadata": {},
   "outputs": [
    {
     "data": {
      "text/plain": [
       "Mode\n",
       "Inpatient     812\n",
       "Outpatient    247\n",
       "Name: count, dtype: int64"
      ]
     },
     "execution_count": 115,
     "metadata": {},
     "output_type": "execute_result"
    }
   ],
   "source": [
    "# order mode\n",
    "orders_df_filtered['Mode'].value_counts()"
   ]
  },
  {
   "cell_type": "code",
   "execution_count": 116,
   "metadata": {},
   "outputs": [
    {
     "data": {
      "text/plain": [
       "Class\n",
       "Normal            965\n",
       "Historical Med     62\n",
       "No Print           31\n",
       "Print               1\n",
       "Name: count, dtype: int64"
      ]
     },
     "execution_count": 116,
     "metadata": {},
     "output_type": "execute_result"
    }
   ],
   "source": [
    "# order class\n",
    "orders_df_filtered['Class'].value_counts()"
   ]
  },
  {
   "cell_type": "code",
   "execution_count": 117,
   "metadata": {},
   "outputs": [
    {
     "data": {
      "text/plain": [
       "Source\n",
       "Manage Orders                      413\n",
       "Ord Rec Admission Reorder PTA      146\n",
       "Ord Rec Discharge Review Orders    125\n",
       "Ord Rec PreTransfer New Orders      80\n",
       "Modify from Manage Orders           79\n",
       "Ord Rec Discharge New Orders        66\n",
       "*Unspecified                        40\n",
       "Ord Rec Admission New Orders        35\n",
       "Ord Rec PreTransfer Reorder         32\n",
       "Ord Rec Admission Review PTA        29\n",
       "Haiku                               11\n",
       "Medication List                      2\n",
       "Modify from Rx Sidebar               1\n",
       "Name: count, dtype: int64"
      ]
     },
     "execution_count": 117,
     "metadata": {},
     "output_type": "execute_result"
    }
   ],
   "source": [
    "#order source\n",
    "orders_df_filtered['Source'].value_counts()"
   ]
  },
  {
   "cell_type": "code",
   "execution_count": 118,
   "metadata": {},
   "outputs": [
    {
     "data": {
      "image/png": "[encoded data removed]",
      "text/plain": [
       "<Figure size 640x480 with 1 Axes>"
      ]
     },
     "metadata": {},
     "output_type": "display_data"
    }
   ],
   "source": [
    "#order discharge\n",
    "discharge_order_yn = orders_df_filtered['DischargeOrder'].map({0: \"No\", 1: \"Yes\"})\n",
    "discharge_order_yn = discharge_order_yn.value_counts()\n",
    "plt.figure()\n",
    "plt.bar(discharge_order_yn.index, discharge_order_yn)\n",
    "plt.title('Discharge Order')\n",
    "plt.ylabel('Count')\n",
    "plt.savefig('./figs/discharge_order.png', transparent = True, dpi = 300, bbox_inches = \"tight\")\n",
    "plt.show()"
   ]
  },
  {
   "cell_type": "code",
   "execution_count": 119,
   "metadata": {},
   "outputs": [
    {
     "data": {
      "text/plain": [
       "PharmaceuticalClass\n",
       "PROTON-PUMP INHIBITORS    1059\n",
       "Name: count, dtype: int64"
      ]
     },
     "execution_count": 119,
     "metadata": {},
     "output_type": "execute_result"
    }
   ],
   "source": [
    "# order pharmaceutical class\n",
    "orders_df_filtered['PharmaceuticalClass'].value_counts()"
   ]
  },
  {
   "cell_type": "code",
   "execution_count": 120,
   "metadata": {},
   "outputs": [
    {
     "data": {
      "text/plain": [
       "PharmaceuticalSubclass\n",
       "Gastric Acid Secretion Reducer - Proton Pump Inhibitors (PPIs)    1059\n",
       "Name: count, dtype: int64"
      ]
     },
     "execution_count": 120,
     "metadata": {},
     "output_type": "execute_result"
    }
   ],
   "source": [
    "# order pharmaceutical subclass\n",
    "orders_df_filtered['PharmaceuticalSubclass'].value_counts()"
   ]
  },
  {
   "cell_type": "code",
   "execution_count": 121,
   "metadata": {},
   "outputs": [
    {
     "data": {
      "text/plain": [
       "TherapeuticClass\n",
       "GASTROINTESTINAL    1059\n",
       "Name: count, dtype: int64"
      ]
     },
     "execution_count": 121,
     "metadata": {},
     "output_type": "execute_result"
    }
   ],
   "source": [
    "# order therapeutic class\n",
    "orders_df_filtered['TherapeuticClass'].value_counts()"
   ]
  },
  {
   "cell_type": "code",
   "execution_count": 122,
   "metadata": {},
   "outputs": [
    {
     "data": {
      "text/plain": [
       "OrderDx\n",
       "*Unspecified                                                                                                                                                                    985\n",
       "Gastroesophageal reflux disease, unspecified whether esophagitis present                                                                                                          4\n",
       "Lumbar radiculopathy                                                                                                                                                              3\n",
       "Periprosthetic fracture around internal prosthetic right knee joint, initial encounter                                                                                            2\n",
       "Malignant germ cell tumor of left ovary (CMS code)                                                                                                                                2\n",
       "Aplastic anemia (CMS code)                                                                                                                                                        2\n",
       "Status post total replacement of left hip                                                                                                                                         2\n",
       "Osteoarthritis of one hip, right                                                                                                                                                  2\n",
       "Gastric perforation (CMS code)                                                                                                                                                    2\n",
       "Post-traumatic osteoarthritis of both knees                                                                                                                                       2\n",
       "S/P revision of total hip                                                                                                                                                         2\n",
       "Diverticulitis                                                                                                                                                                    2\n",
       "Malignant phyllodes tumor of breast, left (CMS code)                                                                                                                              2\n",
       "Burkitt lymphoma, unspecified body region (CMS code)                                                                                                                              2\n",
       "Metastasis to brain (CMS code)                                                                                                                                                    1\n",
       "Hematoma of right breast                                                                                                                                                          1\n",
       "Traumatic arthritis of left hip                                                                                                                                                   1\n",
       "Severe obesity (CMS code)                                                                                                                                                         1\n",
       "Status post deceased-donor kidney transplantation                                                                                                                                 1\n",
       "Morbid obesity (CMS code)                                                                                                                                                         1\n",
       "Malignant neoplasm of cervix, unspecified site (CMS code)                                                                                                                         1\n",
       "Pseudarthrosis following spinal fusion                                                                                                                                            1\n",
       "Infection of prosthetic joint, subsequent encounter                                                                                                                               1\n",
       "Multiple myeloma not having achieved remission (CMS code)                                                                                                                         1\n",
       "Zenker's (hypopharyngeal) diverticulum                                                                                                                                            1\n",
       "Sarcoma (CMS code)                                                                                                                                                                1\n",
       "Gastrointestinal hemorrhage, unspecified gastrointestinal hemorrhage type                                                                                                         1\n",
       "Cervical stenosis of spinal canal                                                                                                                                                 1\n",
       "CAD, multiple vessel                                                                                                                                                              1\n",
       "Malignant neoplasm of testicle, unspecified laterality, unspecified whether descended or undescended (CMS code)                                                                   1\n",
       "Brain tumor (CMS code)                                                                                                                                                            1\n",
       "Loosening of knee joint prosthesis, subsequent encounter                                                                                                                          1\n",
       "Zenker diverticula                                                                                                                                                                1\n",
       "Malignant neoplasm of urinary bladder, unspecified site (CMS code)                                                                                                                1\n",
       "Infection associated with internal right hip prosthesis, sequela                                                                                                                  1\n",
       "High grade osteosarcoma of vertebra (CMS code)                                                                                                                                    1\n",
       "Duodenal ulcer                                                                                                                                                                    1\n",
       "*Deleted                                                                                                                                                                          1\n",
       "Vomiting, unspecified vomiting type, unspecified whether nausea present                                                                                                           1\n",
       "ESRD (end stage renal disease) on dialysis (CMS code), Immunosuppression due to drug therapy (CMS code), Medication management, Status post liver transplantation (CMS code)      1\n",
       "Undifferentiated pleomorphic sarcoma of bone (CMS code)                                                                                                                           1\n",
       "Rheumatoid arthritis, involving unspecified site, unspecified whether rheumatoid factor present (CMS code)                                                                        1\n",
       "Infection of prosthetic joint, initial encounter (CMS code)                                                                                                                       1\n",
       "Gastroesophageal reflux disease, unspecified whether esophagitis present, Primary adenocarcinoma of right lung (CMS code)                                                         1\n",
       "At risk for opportunistic infections, Status post kidney transplant                                                                                                               1\n",
       "Malignant neoplasm of overlapping sites of right breast in female, estrogen receptor negative (CMS code), Malignant phyllodes tumor of breast, right (CMS code)                   1\n",
       "Stricture esophagus                                                                                                                                                               1\n",
       "Nausea                                                                                                                                                                            1\n",
       "Renal mass                                                                                                                                                                        1\n",
       "Renal mass, Renal mass, right                                                                                                                                                     1\n",
       "Malignant neoplasm of pancreas, unspecified location of malignancy (CMS code)                                                                                                     1\n",
       "Status post shoulder replacement, right                                                                                                                                           1\n",
       "Spinal cord mass (CMS code)                                                                                                                                                       1\n",
       "Cervical spinal stenosis                                                                                                                                                          1\n",
       "Closed displaced fracture of second cervical vertebra, unspecified fracture morphology, initial encounter (CMS code)                                                              1\n",
       "Oropharyngeal dysphagia                                                                                                                                                           1\n",
       "S/P total knee arthroplasty, left                                                                                                                                                 1\n",
       "UTUC (loc/loc adv) (upper tract urothelial CA, localized/locally advanced) (CMS code)                                                                                             1\n",
       "Failure of right total hip arthroplasty, initial encounter (CMS code)                                                                                                             1\n",
       "Name: count, dtype: int64"
      ]
     },
     "execution_count": 122,
     "metadata": {},
     "output_type": "execute_result"
    }
   ],
   "source": [
    "# order therapeutic class\n",
    "orders_df_filtered['OrderDx'].value_counts()"
   ]
  },
  {
   "cell_type": "markdown",
   "metadata": {},
   "source": [
    "# Note Concepts\n",
    "Only available at UCSF"
   ]
  },
  {
   "cell_type": "code",
   "execution_count": 123,
   "metadata": {},
   "outputs": [
    {
     "data": {
      "text/html": [
       "<div>\n",
       "<style scoped>\n",
       "    .dataframe tbody tr th:only-of-type {\n",
       "        vertical-align: middle;\n",
       "    }\n",
       "\n",
       "    .dataframe tbody tr th {\n",
       "        vertical-align: top;\n",
       "    }\n",
       "\n",
       "    .dataframe thead th {\n",
       "        text-align: right;\n",
       "    }\n",
       "</style>\n",
       "<table border=\"1\" class=\"dataframe\">\n",
       "  <thead>\n",
       "    <tr style=\"text-align: right;\">\n",
       "      <th></th>\n",
       "      <th>deid_note_key</th>\n",
       "      <th>EncounterKey</th>\n",
       "      <th>domain</th>\n",
       "      <th>confidence</th>\n",
       "      <th>canon_text</th>\n",
       "    </tr>\n",
       "  </thead>\n",
       "  <tbody>\n",
       "    <tr>\n",
       "      <th>32</th>\n",
       "      <td>D0009A32261D11</td>\n",
       "      <td>DE8E27F3F96434</td>\n",
       "      <td>signs and symptoms</td>\n",
       "      <td>1.0</td>\n",
       "      <td>abnormality</td>\n",
       "    </tr>\n",
       "    <tr>\n",
       "      <th>33</th>\n",
       "      <td>D0009A32261D11</td>\n",
       "      <td>DE8E27F3F96434</td>\n",
       "      <td>labs</td>\n",
       "      <td>1.0</td>\n",
       "      <td>Complete Blood Count</td>\n",
       "    </tr>\n",
       "    <tr>\n",
       "      <th>34</th>\n",
       "      <td>D0009A32261D11</td>\n",
       "      <td>DE8E27F3F96434</td>\n",
       "      <td>procedures</td>\n",
       "      <td>1.0</td>\n",
       "      <td>Complete Blood Count</td>\n",
       "    </tr>\n",
       "    <tr>\n",
       "      <th>35</th>\n",
       "      <td>D0009A32261D11</td>\n",
       "      <td>DE8E27F3F96434</td>\n",
       "      <td>procedures</td>\n",
       "      <td>1.0</td>\n",
       "      <td>Interventional procedure</td>\n",
       "    </tr>\n",
       "    <tr>\n",
       "      <th>36</th>\n",
       "      <td>D000B13A603105</td>\n",
       "      <td>DAF531C901EAE5</td>\n",
       "      <td>signs and symptoms</td>\n",
       "      <td>1.0</td>\n",
       "      <td>Icterus</td>\n",
       "    </tr>\n",
       "  </tbody>\n",
       "</table>\n",
       "</div>"
      ],
      "text/plain": [
       "     deid_note_key    EncounterKey              domain  confidence  \\\n",
       "32  D0009A32261D11  DE8E27F3F96434  signs and symptoms         1.0   \n",
       "33  D0009A32261D11  DE8E27F3F96434                labs         1.0   \n",
       "34  D0009A32261D11  DE8E27F3F96434          procedures         1.0   \n",
       "35  D0009A32261D11  DE8E27F3F96434          procedures         1.0   \n",
       "36  D000B13A603105  DAF531C901EAE5  signs and symptoms         1.0   \n",
       "\n",
       "                  canon_text  \n",
       "32               abnormality  \n",
       "33      Complete Blood Count  \n",
       "34      Complete Blood Count  \n",
       "35  Interventional procedure  \n",
       "36                   Icterus  "
      ]
     },
     "execution_count": 123,
     "metadata": {},
     "output_type": "execute_result"
    }
   ],
   "source": [
    "note_concepts_df = pd.read_csv('../../Data/noteConcepts.txt', delimiter = \"|\")\n",
    "note_concepts_df_filtered = note_concepts_df[note_concepts_df['EncounterKey'].isin(unique_encounters)]\n",
    "note_concepts_df_filtered.head()"
   ]
  },
  {
   "cell_type": "code",
   "execution_count": 124,
   "metadata": {},
   "outputs": [
    {
     "data": {
      "text/plain": [
       "885"
      ]
     },
     "execution_count": 124,
     "metadata": {},
     "output_type": "execute_result"
    }
   ],
   "source": [
    "note_concepts_df['EncounterKey'].nunique()"
   ]
  },
  {
   "cell_type": "code",
   "execution_count": 125,
   "metadata": {},
   "outputs": [
    {
     "data": {
      "text/plain": [
       "array(['signs and symptoms', 'medications', 'diseases', 'labs',\n",
       "       'procedures'], dtype=object)"
      ]
     },
     "execution_count": 125,
     "metadata": {},
     "output_type": "execute_result"
    }
   ],
   "source": [
    "note_concepts_df['domain'].unique()"
   ]
  },
  {
   "cell_type": "code",
   "execution_count": 126,
   "metadata": {},
   "outputs": [
    {
     "name": "stdout",
     "output_type": "stream",
     "text": [
      "The number of instances of the non-filtered dataframe: 1523562\n",
      "The number of instances of the filtered dataframe: 907492\n"
     ]
    }
   ],
   "source": [
    "print(f\"The number of instances of the non-filtered dataframe: {len(note_concepts_df)}\")\n",
    "print(f\"The number of instances of the filtered dataframe: {len(note_concepts_df_filtered)}\")"
   ]
  },
  {
   "cell_type": "code",
   "execution_count": 127,
   "metadata": {},
   "outputs": [
    {
     "data": {
      "text/plain": [
       "array(['signs and symptoms', 'labs', 'procedures', 'medications',\n",
       "       'diseases'], dtype=object)"
      ]
     },
     "execution_count": 127,
     "metadata": {},
     "output_type": "execute_result"
    }
   ],
   "source": [
    "note_concepts_df_filtered['domain'].unique()"
   ]
  },
  {
   "cell_type": "code",
   "execution_count": 128,
   "metadata": {},
   "outputs": [
    {
     "data": {
      "text/html": [
       "<div>\n",
       "<style scoped>\n",
       "    .dataframe tbody tr th:only-of-type {\n",
       "        vertical-align: middle;\n",
       "    }\n",
       "\n",
       "    .dataframe tbody tr th {\n",
       "        vertical-align: top;\n",
       "    }\n",
       "\n",
       "    .dataframe thead th {\n",
       "        text-align: right;\n",
       "    }\n",
       "</style>\n",
       "<table border=\"1\" class=\"dataframe\">\n",
       "  <thead>\n",
       "    <tr style=\"text-align: right;\">\n",
       "      <th></th>\n",
       "      <th>deid_note_key</th>\n",
       "      <th>EncounterKey</th>\n",
       "      <th>domain</th>\n",
       "      <th>confidence</th>\n",
       "      <th>canon_text</th>\n",
       "    </tr>\n",
       "  </thead>\n",
       "  <tbody>\n",
       "  </tbody>\n",
       "</table>\n",
       "</div>"
      ],
      "text/plain": [
       "Empty DataFrame\n",
       "Columns: [deid_note_key, EncounterKey, domain, confidence, canon_text]\n",
       "Index: []"
      ]
     },
     "execution_count": 128,
     "metadata": {},
     "output_type": "execute_result"
    }
   ],
   "source": [
    "note_concepts_df_filtered[note_concepts_df_filtered['deid_note_key'] == 'D00099A1236567']"
   ]
  },
  {
   "cell_type": "markdown",
   "metadata": {},
   "source": [
    "# Note Text"
   ]
  },
  {
   "cell_type": "code",
   "execution_count": 129,
   "metadata": {},
   "outputs": [
    {
     "data": {
      "text/html": [
       "<div>\n",
       "<style scoped>\n",
       "    .dataframe tbody tr th:only-of-type {\n",
       "        vertical-align: middle;\n",
       "    }\n",
       "\n",
       "    .dataframe tbody tr th {\n",
       "        vertical-align: top;\n",
       "    }\n",
       "\n",
       "    .dataframe thead th {\n",
       "        text-align: right;\n",
       "    }\n",
       "</style>\n",
       "<table border=\"1\" class=\"dataframe\">\n",
       "  <thead>\n",
       "    <tr style=\"text-align: right;\">\n",
       "      <th></th>\n",
       "      <th>index</th>\n",
       "      <th>deid_note_key</th>\n",
       "      <th>EncounterKey</th>\n",
       "      <th>NoteDate</th>\n",
       "      <th>DepartmentSpecialty</th>\n",
       "      <th>ProviderSpecialty</th>\n",
       "      <th>ProviderType</th>\n",
       "      <th>NoteText</th>\n",
       "    </tr>\n",
       "  </thead>\n",
       "  <tbody>\n",
       "    <tr>\n",
       "      <th>0</th>\n",
       "      <td>0</td>\n",
       "      <td>D00010F0E618AD</td>\n",
       "      <td>D304C167A23716</td>\n",
       "      <td>2023-09-15</td>\n",
       "      <td>Inpatient Nursing</td>\n",
       "      <td>NaN</td>\n",
       "      <td>Occupational Therapist</td>\n",
       "      <td>OCCUPATIONAL THERAPY CANCELED SESSION NOTE    ...</td>\n",
       "    </tr>\n",
       "    <tr>\n",
       "      <th>1</th>\n",
       "      <td>1</td>\n",
       "      <td>D00015E35CE5B7</td>\n",
       "      <td>DD27EC809E2A28</td>\n",
       "      <td>2023-08-25</td>\n",
       "      <td>Inpatient Nursing</td>\n",
       "      <td>UCSF</td>\n",
       "      <td>Resident</td>\n",
       "      <td>History of cardiomyopathy presumed secondary t...</td>\n",
       "    </tr>\n",
       "    <tr>\n",
       "      <th>2</th>\n",
       "      <td>2</td>\n",
       "      <td>D000253FB63C7E</td>\n",
       "      <td>D054778440C77A</td>\n",
       "      <td>2023-09-10</td>\n",
       "      <td>Inpatient Nursing</td>\n",
       "      <td>General Surgery</td>\n",
       "      <td>Physician</td>\n",
       "      <td>Procedure(s) (LRB):  KIDNEY TRANSPLANT CADAVER...</td>\n",
       "    </tr>\n",
       "    <tr>\n",
       "      <th>3</th>\n",
       "      <td>3</td>\n",
       "      <td>D0004A42F6443B</td>\n",
       "      <td>D8277269D1C037</td>\n",
       "      <td>2023-08-31</td>\n",
       "      <td>Inpatient Nursing</td>\n",
       "      <td>UCSF</td>\n",
       "      <td>Resident</td>\n",
       "      <td>NEUROSURGERY PROGRESS NOTE     Hospital Course...</td>\n",
       "    </tr>\n",
       "    <tr>\n",
       "      <th>4</th>\n",
       "      <td>4</td>\n",
       "      <td>D0005D9BF5CAF1</td>\n",
       "      <td>D5A083F15D8290</td>\n",
       "      <td>2023-09-09</td>\n",
       "      <td>Inpatient Nursing</td>\n",
       "      <td>Nephrology</td>\n",
       "      <td>Physician</td>\n",
       "      <td>TRANSPLANT NEPHROLOGY PROGRESS NOTE    Date of...</td>\n",
       "    </tr>\n",
       "  </tbody>\n",
       "</table>\n",
       "</div>"
      ],
      "text/plain": [
       "   index   deid_note_key    EncounterKey    NoteDate DepartmentSpecialty  \\\n",
       "0      0  D00010F0E618AD  D304C167A23716  2023-09-15   Inpatient Nursing   \n",
       "1      1  D00015E35CE5B7  DD27EC809E2A28  2023-08-25   Inpatient Nursing   \n",
       "2      2  D000253FB63C7E  D054778440C77A  2023-09-10   Inpatient Nursing   \n",
       "3      3  D0004A42F6443B  D8277269D1C037  2023-08-31   Inpatient Nursing   \n",
       "4      4  D0005D9BF5CAF1  D5A083F15D8290  2023-09-09   Inpatient Nursing   \n",
       "\n",
       "  ProviderSpecialty            ProviderType  \\\n",
       "0               NaN  Occupational Therapist   \n",
       "1              UCSF                Resident   \n",
       "2   General Surgery               Physician   \n",
       "3              UCSF                Resident   \n",
       "4        Nephrology               Physician   \n",
       "\n",
       "                                            NoteText  \n",
       "0  OCCUPATIONAL THERAPY CANCELED SESSION NOTE    ...  \n",
       "1  History of cardiomyopathy presumed secondary t...  \n",
       "2  Procedure(s) (LRB):  KIDNEY TRANSPLANT CADAVER...  \n",
       "3  NEUROSURGERY PROGRESS NOTE     Hospital Course...  \n",
       "4  TRANSPLANT NEPHROLOGY PROGRESS NOTE    Date of...  "
      ]
     },
     "execution_count": 129,
     "metadata": {},
     "output_type": "execute_result"
    }
   ],
   "source": [
    "note_text_df = pd.read_csv('../../Data/noteText.csv')\n",
    "note_text_df_filtered = note_text_df[note_text_df['EncounterKey'].isin(unique_encounters)].reset_index()\n",
    "note_text_df_filtered.head()"
   ]
  },
  {
   "cell_type": "code",
   "execution_count": 130,
   "metadata": {},
   "outputs": [
    {
     "name": "stdout",
     "output_type": "stream",
     "text": [
      "The number of instances of the non-filtered dataframe: 31216\n",
      "The number of instances of the filtered dataframe: 31216\n"
     ]
    }
   ],
   "source": [
    "print(f\"The number of instances of the non-filtered dataframe: {len(note_text_df)}\")\n",
    "print(f\"The number of instances of the filtered dataframe: {len(note_text_df_filtered)}\")"
   ]
  },
  {
   "cell_type": "code",
   "execution_count": 131,
   "metadata": {},
   "outputs": [
    {
     "data": {
      "text/plain": [
       "522"
      ]
     },
     "execution_count": 131,
     "metadata": {},
     "output_type": "execute_result"
    }
   ],
   "source": [
    "note_text_df['EncounterKey'].nunique()"
   ]
  },
  {
   "cell_type": "code",
   "execution_count": 132,
   "metadata": {},
   "outputs": [
    {
     "data": {
      "image/png": "[encoded data removed]",
      "text/plain": [
       "<Figure size 640x480 with 1 Axes>"
      ]
     },
     "metadata": {},
     "output_type": "display_data"
    }
   ],
   "source": [
    "total_notes_dist = note_text_df_filtered['EncounterKey'].value_counts()\n",
    "plt.figure()\n",
    "plt.hist(total_notes_dist)\n",
    "plt.title('Distribution of Total Notes Per Encounter')\n",
    "plt.ylabel('Count')\n",
    "plt.xlabel('Total Notes')\n",
    "plt.axvline(total_notes_dist.mean(), color = 'k', label = 'mean')\n",
    "plt.axvline(total_notes_dist.median(), color = 'k', linestyle = '--', label = 'median')\n",
    "plt.legend()\n",
    "plt.savefig('./figs/notes_text_dist.png', transparent = True, dpi = 300, bbox_inches = \"tight\")\n",
    "plt.show()"
   ]
  },
  {
   "cell_type": "code",
   "execution_count": 133,
   "metadata": {},
   "outputs": [],
   "source": [
    "total_notes_dist = total_notes_dist.reset_index()\n",
    "total_notes_dist.rename(columns={\"count\": \"notes_count\"}, inplace=True)"
   ]
  },
  {
   "cell_type": "code",
   "execution_count": 134,
   "metadata": {},
   "outputs": [
    {
     "data": {
      "image/png": "[encoded data removed]",
      "text/plain": [
       "<Figure size 640x480 with 1 Axes>"
      ]
     },
     "metadata": {},
     "output_type": "display_data"
    }
   ],
   "source": [
    "encounters_notes = pd.merge(encounters_df, total_notes_dist, on= 'EncounterKey')\n",
    "notes_stay_corr = encounters_notes['length_of_stay'].corr(encounters_notes['notes_count'])\n",
    "sns.regplot(x='length_of_stay', y='notes_count', data=encounters_notes)\n",
    "plt.title('Correlation between Length of Stay and Number of Notes')\n",
    "plt.xlabel('Length of Stay (days)')\n",
    "plt.ylabel('Number of Notes')\n",
    "plt.annotate(f'Correlation: {notes_stay_corr:.2f}', xy=(0.05, 0.95), xycoords='axes fraction',\n",
    "             fontsize=12, color='blue', ha='left', va='top')\n",
    "plt.savefig('./figs/notes_text_corr.png', transparent = True, dpi = 300, bbox_inches = \"tight\")\n",
    "plt.show()"
   ]
  },
  {
   "cell_type": "code",
   "execution_count": 135,
   "metadata": {},
   "outputs": [
    {
     "data": {
      "image/png": "[encoded data removed]",
      "text/plain": [
       "<Figure size 640x480 with 1 Axes>"
      ]
     },
     "metadata": {},
     "output_type": "display_data"
    }
   ],
   "source": [
    "note_text_df_filtered['note_length'] = note_text_df_filtered['NoteText'].apply(lambda x: len(str(x)))\n",
    "plt.figure()\n",
    "plt.hist(note_text_df_filtered['note_length'])\n",
    "plt.title('Length of Note (Characters)')\n",
    "plt.xlabel('Number of Characters')\n",
    "plt.ylabel('Count')\n",
    "plt.axvline(note_text_df_filtered['note_length'].mean(), color = 'k', label = 'mean')\n",
    "plt.axvline(note_text_df_filtered['note_length'].median(), color = 'k', linestyle = '--', label = 'median')\n",
    "plt.legend()\n",
    "plt.savefig('./figs/notes_len_char.png', transparent = True, dpi = 300, bbox_inches = \"tight\")\n",
    "plt.show()"
   ]
  },
  {
   "cell_type": "code",
   "execution_count": 136,
   "metadata": {},
   "outputs": [
    {
     "data": {
      "text/html": [
       "<div>\n",
       "<style scoped>\n",
       "    .dataframe tbody tr th:only-of-type {\n",
       "        vertical-align: middle;\n",
       "    }\n",
       "\n",
       "    .dataframe tbody tr th {\n",
       "        vertical-align: top;\n",
       "    }\n",
       "\n",
       "    .dataframe thead th {\n",
       "        text-align: right;\n",
       "    }\n",
       "</style>\n",
       "<table border=\"1\" class=\"dataframe\">\n",
       "  <thead>\n",
       "    <tr style=\"text-align: right;\">\n",
       "      <th></th>\n",
       "      <th>index</th>\n",
       "      <th>deid_note_key</th>\n",
       "      <th>EncounterKey</th>\n",
       "      <th>NoteDate</th>\n",
       "      <th>DepartmentSpecialty</th>\n",
       "      <th>ProviderSpecialty</th>\n",
       "      <th>ProviderType</th>\n",
       "      <th>NoteText</th>\n",
       "      <th>note_length</th>\n",
       "      <th>clean_NoteText</th>\n",
       "    </tr>\n",
       "  </thead>\n",
       "  <tbody>\n",
       "    <tr>\n",
       "      <th>0</th>\n",
       "      <td>0</td>\n",
       "      <td>D00010F0E618AD</td>\n",
       "      <td>D304C167A23716</td>\n",
       "      <td>2023-09-15</td>\n",
       "      <td>Inpatient Nursing</td>\n",
       "      <td>NaN</td>\n",
       "      <td>Occupational Therapist</td>\n",
       "      <td>OCCUPATIONAL THERAPY CANCELED SESSION NOTE    ...</td>\n",
       "      <td>310</td>\n",
       "      <td>OCCUPATIONAL THERAPY CANCELED SESSION NOTE OT ...</td>\n",
       "    </tr>\n",
       "    <tr>\n",
       "      <th>1</th>\n",
       "      <td>1</td>\n",
       "      <td>D00015E35CE5B7</td>\n",
       "      <td>DD27EC809E2A28</td>\n",
       "      <td>2023-08-25</td>\n",
       "      <td>Inpatient Nursing</td>\n",
       "      <td>UCSF</td>\n",
       "      <td>Resident</td>\n",
       "      <td>History of cardiomyopathy presumed secondary t...</td>\n",
       "      <td>335</td>\n",
       "      <td>History of cardiomyopathy presumed secondary t...</td>\n",
       "    </tr>\n",
       "    <tr>\n",
       "      <th>2</th>\n",
       "      <td>2</td>\n",
       "      <td>D000253FB63C7E</td>\n",
       "      <td>D054778440C77A</td>\n",
       "      <td>2023-09-10</td>\n",
       "      <td>Inpatient Nursing</td>\n",
       "      <td>General Surgery</td>\n",
       "      <td>Physician</td>\n",
       "      <td>Procedure(s) (LRB):  KIDNEY TRANSPLANT CADAVER...</td>\n",
       "      <td>1019</td>\n",
       "      <td>Procedure(s) (LRB): KIDNEY TRANSPLANT CADAVERI...</td>\n",
       "    </tr>\n",
       "    <tr>\n",
       "      <th>3</th>\n",
       "      <td>3</td>\n",
       "      <td>D0004A42F6443B</td>\n",
       "      <td>D8277269D1C037</td>\n",
       "      <td>2023-08-31</td>\n",
       "      <td>Inpatient Nursing</td>\n",
       "      <td>UCSF</td>\n",
       "      <td>Resident</td>\n",
       "      <td>NEUROSURGERY PROGRESS NOTE     Hospital Course...</td>\n",
       "      <td>2550</td>\n",
       "      <td>NEUROSURGERY PROGRESS NOTE Hospital Course Aug...</td>\n",
       "    </tr>\n",
       "    <tr>\n",
       "      <th>4</th>\n",
       "      <td>4</td>\n",
       "      <td>D0005D9BF5CAF1</td>\n",
       "      <td>D5A083F15D8290</td>\n",
       "      <td>2023-09-09</td>\n",
       "      <td>Inpatient Nursing</td>\n",
       "      <td>Nephrology</td>\n",
       "      <td>Physician</td>\n",
       "      <td>TRANSPLANT NEPHROLOGY PROGRESS NOTE    Date of...</td>\n",
       "      <td>1266</td>\n",
       "      <td>TRANSPLANT NEPHROLOGY PROGRESS NOTE Date of se...</td>\n",
       "    </tr>\n",
       "  </tbody>\n",
       "</table>\n",
       "</div>"
      ],
      "text/plain": [
       "   index   deid_note_key    EncounterKey    NoteDate DepartmentSpecialty  \\\n",
       "0      0  D00010F0E618AD  D304C167A23716  2023-09-15   Inpatient Nursing   \n",
       "1      1  D00015E35CE5B7  DD27EC809E2A28  2023-08-25   Inpatient Nursing   \n",
       "2      2  D000253FB63C7E  D054778440C77A  2023-09-10   Inpatient Nursing   \n",
       "3      3  D0004A42F6443B  D8277269D1C037  2023-08-31   Inpatient Nursing   \n",
       "4      4  D0005D9BF5CAF1  D5A083F15D8290  2023-09-09   Inpatient Nursing   \n",
       "\n",
       "  ProviderSpecialty            ProviderType  \\\n",
       "0               NaN  Occupational Therapist   \n",
       "1              UCSF                Resident   \n",
       "2   General Surgery               Physician   \n",
       "3              UCSF                Resident   \n",
       "4        Nephrology               Physician   \n",
       "\n",
       "                                            NoteText  note_length  \\\n",
       "0  OCCUPATIONAL THERAPY CANCELED SESSION NOTE    ...          310   \n",
       "1  History of cardiomyopathy presumed secondary t...          335   \n",
       "2  Procedure(s) (LRB):  KIDNEY TRANSPLANT CADAVER...         1019   \n",
       "3  NEUROSURGERY PROGRESS NOTE     Hospital Course...         2550   \n",
       "4  TRANSPLANT NEPHROLOGY PROGRESS NOTE    Date of...         1266   \n",
       "\n",
       "                                      clean_NoteText  \n",
       "0  OCCUPATIONAL THERAPY CANCELED SESSION NOTE OT ...  \n",
       "1  History of cardiomyopathy presumed secondary t...  \n",
       "2  Procedure(s) (LRB): KIDNEY TRANSPLANT CADAVERI...  \n",
       "3  NEUROSURGERY PROGRESS NOTE Hospital Course Aug...  \n",
       "4  TRANSPLANT NEPHROLOGY PROGRESS NOTE Date of se...  "
      ]
     },
     "execution_count": 136,
     "metadata": {},
     "output_type": "execute_result"
    }
   ],
   "source": [
    "import re\n",
    "\n",
    "def clean_text(text):\n",
    "    clean_text = re.sub(r'[^\\w\\s/():]', '', text) # removes anything that is not alphanumerical or underscore\n",
    "    clean_text = clean_text.replace('\\n', ' ').replace('\\t', ' ') # replaces new lines and tabs\n",
    "    clean_text = re.sub(r'[-–—]', '-', clean_text) # replaces hyphens with one\n",
    "    clean_text = ' '.join(clean_text.split()) # remove additional whitespaces\n",
    "    return clean_text\n",
    "\n",
    "note_text_df_filtered['clean_NoteText'] = note_text_df_filtered['NoteText'].apply(clean_text)\n",
    "note_text_df_filtered.head()\n"
   ]
  },
  {
   "cell_type": "code",
   "execution_count": 137,
   "metadata": {},
   "outputs": [
    {
     "data": {
      "image/png": "[encoded data removed]",
      "text/plain": [
       "<Figure size 640x480 with 1 Axes>"
      ]
     },
     "metadata": {},
     "output_type": "display_data"
    }
   ],
   "source": [
    "note_text_df_filtered['clean_note_length'] = note_text_df_filtered['clean_NoteText'].apply(lambda x: len(str(x)))\n",
    "plt.figure()\n",
    "plt.hist(note_text_df_filtered['clean_note_length'])\n",
    "plt.title('Length of Note (Characters)')\n",
    "plt.xlabel('Number of Characters')\n",
    "plt.ylabel('Count')\n",
    "plt.axvline(note_text_df_filtered['clean_note_length'].mean(), color = 'k', label = 'mean')\n",
    "plt.axvline(note_text_df_filtered['clean_note_length'].median(), color = 'k', linestyle = '--', label = 'median')\n",
    "plt.legend()\n",
    "plt.savefig('./figs/clean_notes_len_char.png', transparent = True, dpi = 300, bbox_inches = \"tight\")\n",
    "plt.show()"
   ]
  },
  {
   "cell_type": "code",
   "execution_count": 138,
   "metadata": {},
   "outputs": [
    {
     "data": {
      "image/png": "[encoded data removed]",
      "text/plain": [
       "<Figure size 640x480 with 1 Axes>"
      ]
     },
     "metadata": {},
     "output_type": "display_data"
    }
   ],
   "source": [
    "note_text_df_filtered['token_length'] = note_text_df_filtered['clean_NoteText'].apply(lambda x: len(x.split(' ')))\n",
    "plt.figure()\n",
    "plt.hist(note_text_df_filtered['token_length'])\n",
    "plt.title('Length of Note (Words)')\n",
    "plt.xlabel('Number of Words')\n",
    "plt.ylabel('Count')\n",
    "plt.axvline(note_text_df_filtered['token_length'].mean(), color = 'k', label = 'mean')\n",
    "plt.axvline(note_text_df_filtered['token_length'].median(), color = 'k', linestyle = '--', label = 'median')\n",
    "plt.legend()\n",
    "plt.savefig('./figs/clean_notes_len_word.png', transparent = True, dpi = 300, bbox_inches = \"tight\")\n",
    "plt.show()"
   ]
  },
  {
   "cell_type": "code",
   "execution_count": 139,
   "metadata": {},
   "outputs": [
    {
     "data": {
      "text/plain": [
       "DepartmentSpecialty\n",
       "Inpatient Nursing                 30563\n",
       "Obstetrics and Gynecology           246\n",
       "Psychiatry                          199\n",
       "Emergency Medicine                  124\n",
       "Neuro-Interventional Radiology       75\n",
       "Name: count, dtype: int64"
      ]
     },
     "execution_count": 139,
     "metadata": {},
     "output_type": "execute_result"
    }
   ],
   "source": [
    "note_text_df_filtered['DepartmentSpecialty'].value_counts()"
   ]
  },
  {
   "cell_type": "code",
   "execution_count": 140,
   "metadata": {},
   "outputs": [
    {
     "data": {
      "text/plain": [
       "array(['Occupational Therapist', 'Resident', 'Physician',\n",
       "       'Registered Nurse', 'Case Manager',\n",
       "       'Speech and Language Pathologis', 'Athletic Trainer',\n",
       "       'Nurse Practitioner', 'Nutrition Assistant', 'Physician Assistant',\n",
       "       'Physical Therapist', 'Respiratory Therapist', 'Social Worker',\n",
       "       'Pharmacist', 'Person', 'Licensed Vocational Nurse', 'Chaplain',\n",
       "       'Registered Dietitian', 'Dietetic Intern', 'Chaplain Intern',\n",
       "       'Physical Therapy Assistant', nan, 'Recreational Therapist',\n",
       "       'Medical Student', 'Pharmacy Student',\n",
       "       'Radiation Oncologist Therapist', 'Physical Therapy Student',\n",
       "       'Midwife', 'Technologist', 'Psychologist', 'APN Student',\n",
       "       'Health Care Navigator', 'Occupational Therapy Student ',\n",
       "       'Nurse Anesthetist', 'Technician', 'Music Therapist',\n",
       "       'Massage Therapist', 'Nursing Student', 'Child Life Specialist',\n",
       "       'Interpreter', 'Counselor'], dtype=object)"
      ]
     },
     "execution_count": 140,
     "metadata": {},
     "output_type": "execute_result"
    }
   ],
   "source": [
    "note_text_df_filtered['ProviderType'].unique()"
   ]
  },
  {
   "cell_type": "code",
   "execution_count": 141,
   "metadata": {},
   "outputs": [],
   "source": [
    "selected_providers = ['Resident', 'Physician', 'Registered Nurse', 'Nurse Practitioner',\n",
    "                      'Physician Assistant', 'Pharmacist', 'Licensed Vocational Nurse', \n",
    "                      'Medical Student', 'Pharmacy Student', 'Nursing Student', \n",
    "                      'Registered Dietitian', 'Dietetic Intern']\n",
    "selected_note_text_df = note_text_df_filtered[\n",
    "    note_text_df_filtered['ProviderType'].isin(selected_providers) | note_text_df_filtered['ProviderType'].isnull()\n",
    "]"
   ]
  },
  {
   "cell_type": "code",
   "execution_count": 142,
   "metadata": {},
   "outputs": [
    {
     "data": {
      "image/png": "[encoded data removed]",
      "text/plain": [
       "<Figure size 640x480 with 1 Axes>"
      ]
     },
     "metadata": {},
     "output_type": "display_data"
    }
   ],
   "source": [
    "selected_note_dist = selected_note_text_df['EncounterKey'].value_counts()\n",
    "plt.figure()\n",
    "plt.hist(selected_note_dist)\n",
    "plt.title('Distribution of Total Notes Per Encounter')\n",
    "plt.ylabel('Count')\n",
    "plt.xlabel('Total Notes')\n",
    "plt.axvline(selected_note_dist.mean(), color = 'k', label = 'mean')\n",
    "plt.axvline(selected_note_dist.median(), color = 'k', linestyle = '--', label = 'median')\n",
    "plt.legend()\n",
    "plt.savefig('./figs/selected_notes_text_dist.png', transparent = True, dpi = 300, bbox_inches = \"tight\")\n",
    "plt.show()"
   ]
  },
  {
   "cell_type": "markdown",
   "metadata": {},
   "source": [
    "Check how many notes were written after the patient has been discharged."
   ]
  },
  {
   "cell_type": "code",
   "execution_count": 163,
   "metadata": {},
   "outputs": [
    {
     "data": {
      "image/png": "[encoded data removed]",
      "text/plain": [
       "<Figure size 640x480 with 1 Axes>"
      ]
     },
     "metadata": {},
     "output_type": "display_data"
    }
   ],
   "source": [
    "past_discharge_date = {}\n",
    "for i in range(len(encounters_df)):\n",
    "    noteText_subset = note_text_df[note_text_df['EncounterKey'] == encounters_df['EncounterKey'].loc[i]]\n",
    "    note_dates = pd.to_datetime(noteText_subset['NoteDate'])\n",
    "    discharge_date = pd.to_datetime(encounters_df['PtDischargeDate'].iloc[i])\n",
    "    past_discharge_date[encounters_df['EncounterKey'].loc[i]] = sum(note_dates > discharge_date)\n",
    "\n",
    "plt.figure()\n",
    "plt.hist(past_discharge_date.values())\n",
    "plt.title('Distribution of Notes After Discharge Date')\n",
    "plt.xlabel('Number of Notes')\n",
    "plt.ylabel('Count')\n",
    "plt.show()\n"
   ]
  },
  {
   "cell_type": "code",
   "execution_count": null,
   "metadata": {},
   "outputs": [],
   "source": []
  }
 ],
 "metadata": {
  "kernelspec": {
   "display_name": "base",
   "language": "python",
   "name": "python3"
  },
  "language_info": {
   "codemirror_mode": {
    "name": "ipython",
    "version": 3
   },
   "file_extension": ".py",
   "mimetype": "text/x-python",
   "name": "python",
   "nbconvert_exporter": "python",
   "pygments_lexer": "ipython3",
   "version": "3.11.5"
  }
 },
 "nbformat": 4,
 "nbformat_minor": 2
}
