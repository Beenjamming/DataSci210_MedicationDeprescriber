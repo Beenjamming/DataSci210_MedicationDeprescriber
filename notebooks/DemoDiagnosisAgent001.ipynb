{
 "cells": [
  {
   "cell_type": "code",
   "execution_count": null,
   "metadata": {},
   "outputs": [],
   "source": []
  },
  {
   "cell_type": "code",
   "execution_count": 1,
   "metadata": {},
   "outputs": [],
   "source": [
    "import pandas as pd\n",
    "import numpy as np\n",
    "from langchain_core.prompts import ChatPromptTemplate\n",
    "from langchain_groq import ChatGroq\n",
    "import os \n",
    "import json\n",
    "from pathlib import Path\n",
    "\n",
    "#define groq key \n",
    "groq_key = \"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\" # os.environ['groqkey']"
   ]
  },
  {
   "cell_type": "code",
   "execution_count": 2,
   "metadata": {},
   "outputs": [],
   "source": [
    "#model variables\n",
    "llama_31 = 'llama-3.1-70b-versatile'\n",
    "llama_3_1 = ChatGroq(\n",
    "    temperature=0,\n",
    "    model=llama_31,\n",
    "    api_key=groq_key \n",
    ")"
   ]
  },
  {
   "cell_type": "code",
   "execution_count": 3,
   "metadata": {},
   "outputs": [
    {
     "ename": "ModuleNotFoundError",
     "evalue": "No module named 'langchain_community'",
     "output_type": "error",
     "traceback": [
      "\u001b[0;31m---------------------------------------------------------------------------\u001b[0m",
      "\u001b[0;31mModuleNotFoundError\u001b[0m                       Traceback (most recent call last)",
      "Cell \u001b[0;32mIn[3], line 1\u001b[0m\n\u001b[0;32m----> 1\u001b[0m \u001b[38;5;28;01mfrom\u001b[39;00m \u001b[38;5;21;01mlangchain_community\u001b[39;00m\u001b[38;5;21;01m.\u001b[39;00m\u001b[38;5;21;01membeddings\u001b[39;00m \u001b[38;5;28;01mimport\u001b[39;00m HuggingFaceEmbeddings\n\u001b[1;32m      2\u001b[0m \u001b[38;5;28;01mfrom\u001b[39;00m \u001b[38;5;21;01mlangchain_text_splitters\u001b[39;00m \u001b[38;5;28;01mimport\u001b[39;00m RecursiveCharacterTextSplitter\n\u001b[1;32m      3\u001b[0m base_embeddings \u001b[38;5;241m=\u001b[39m HuggingFaceEmbeddings(model_name\u001b[38;5;241m=\u001b[39m\u001b[38;5;124m\"\u001b[39m\u001b[38;5;124mNeuML/pubmedbert-base-embeddings\u001b[39m\u001b[38;5;124m\"\u001b[39m)\n",
      "\u001b[0;31mModuleNotFoundError\u001b[0m: No module named 'langchain_community'"
     ]
    }
   ],
   "source": [
    "from langchain_community.embeddings import HuggingFaceEmbeddings\n",
    "from langchain_text_splitters import RecursiveCharacterTextSplitter\n",
    "base_embeddings = HuggingFaceEmbeddings(model_name=\"NeuML/pubmedbert-base-embeddings\")\n",
    "text_splitter = RecursiveCharacterTextSplitter()"
   ]
  },
  {
   "cell_type": "code",
   "execution_count": 3,
   "metadata": {},
   "outputs": [],
   "source": [
    "base_path = Path(\"/Users/yarg/Library/CloudStorage/OneDrive-Personal/Documents/GitHub/DataSci210_MedicationDeprescriber/Data\")\n",
    "\n",
    "noteConcepts = pd.read_csv(base_path / 'noteConcepts.txt', sep=\"|\")\n",
    "encounters = pd.read_csv(base_path / 'encounters.txt', sep=\"|\")\n",
    "orders = pd.read_csv(base_path / 'orders.txt', sep=\"|\")\n",
    "hospitalAcquiredDx = pd.read_csv(base_path / 'hospitalAcquiredDx.txt', sep=\"|\")\n",
    "noteText = pd.read_csv(base_path / 'noteText.txt', sep=\"|\")\n",
    "presentOnAdmitDx = pd.read_csv(base_path / 'presentOnAdmitDx.txt', sep=\"|\")\n",
    "#select random EncounterKey\n",
    "encounterKey = encounters.sample(1)['EncounterKey'].values[0]"
   ]
  },
  {
   "cell_type": "code",
   "execution_count": 4,
   "metadata": {},
   "outputs": [],
   "source": [
    "#filter all dfs to the selected EncounterKey\n",
    "noteConcepts = noteConcepts[noteConcepts['EncounterKey'] == encounterKey]\n",
    "orders = orders[orders['EncounterKey'] == encounterKey]\n",
    "hospitalAcquiredDx = hospitalAcquiredDx[hospitalAcquiredDx['EncounterKey'] == encounterKey]\n",
    "noteText = noteText[noteText['EncounterKey'] == encounterKey]\n",
    "presentOnAdmitDx = presentOnAdmitDx[presentOnAdmitDx['EncounterKey'] == encounterKey]\n",
    "encounters = encounters[encounters['EncounterKey'] == encounterKey]"
   ]
  },
  {
   "cell_type": "code",
   "execution_count": 5,
   "metadata": {},
   "outputs": [
    {
     "data": {
      "text/html": [
       "<div>\n",
       "<style scoped>\n",
       "    .dataframe tbody tr th:only-of-type {\n",
       "        vertical-align: middle;\n",
       "    }\n",
       "\n",
       "    .dataframe tbody tr th {\n",
       "        vertical-align: top;\n",
       "    }\n",
       "\n",
       "    .dataframe thead th {\n",
       "        text-align: right;\n",
       "    }\n",
       "</style>\n",
       "<table border=\"1\" class=\"dataframe\">\n",
       "  <thead>\n",
       "    <tr style=\"text-align: right;\">\n",
       "      <th></th>\n",
       "      <th>EncounterKey</th>\n",
       "      <th>DxName</th>\n",
       "    </tr>\n",
       "  </thead>\n",
       "  <tbody>\n",
       "    <tr>\n",
       "      <th>466</th>\n",
       "      <td>D586C13398377F</td>\n",
       "      <td>*Unspecified</td>\n",
       "    </tr>\n",
       "  </tbody>\n",
       "</table>\n",
       "</div>"
      ],
      "text/plain": [
       "       EncounterKey        DxName\n",
       "466  D586C13398377F  *Unspecified"
      ]
     },
     "execution_count": 5,
     "metadata": {},
     "output_type": "execute_result"
    }
   ],
   "source": [
    "hospitalAcquiredDx"
   ]
  },
  {
   "cell_type": "code",
   "execution_count": 6,
   "metadata": {},
   "outputs": [
    {
     "data": {
      "text/html": [
       "<div>\n",
       "<style scoped>\n",
       "    .dataframe tbody tr th:only-of-type {\n",
       "        vertical-align: middle;\n",
       "    }\n",
       "\n",
       "    .dataframe tbody tr th {\n",
       "        vertical-align: top;\n",
       "    }\n",
       "\n",
       "    .dataframe thead th {\n",
       "        text-align: right;\n",
       "    }\n",
       "</style>\n",
       "<table border=\"1\" class=\"dataframe\">\n",
       "  <thead>\n",
       "    <tr style=\"text-align: right;\">\n",
       "      <th></th>\n",
       "      <th>EncounterKey</th>\n",
       "      <th>DxName</th>\n",
       "    </tr>\n",
       "  </thead>\n",
       "  <tbody>\n",
       "    <tr>\n",
       "      <th>671</th>\n",
       "      <td>D586C13398377F</td>\n",
       "      <td>*Unspecified</td>\n",
       "    </tr>\n",
       "  </tbody>\n",
       "</table>\n",
       "</div>"
      ],
      "text/plain": [
       "       EncounterKey        DxName\n",
       "671  D586C13398377F  *Unspecified"
      ]
     },
     "execution_count": 6,
     "metadata": {},
     "output_type": "execute_result"
    }
   ],
   "source": [
    "presentOnAdmitDx"
   ]
  },
  {
   "cell_type": "code",
   "execution_count": 7,
   "metadata": {},
   "outputs": [
    {
     "name": "stdout",
     "output_type": "stream",
     "text": [
      "[{\"EncounterKey\":\"D586C13398377F\",\"DxName\":\"*Unspecified\"}]\n"
     ]
    }
   ],
   "source": [
    "#change hospitalAcquiredDx to a json object\n",
    "hospitalAcquiredDx = hospitalAcquiredDx.to_json(orient=\"records\")\n",
    "print(hospitalAcquiredDx)"
   ]
  },
  {
   "cell_type": "code",
   "execution_count": 8,
   "metadata": {},
   "outputs": [
    {
     "name": "stdout",
     "output_type": "stream",
     "text": [
      "[{\"EncounterKey\":\"D586C13398377F\",\"DxName\":\"*Unspecified\"}]\n"
     ]
    }
   ],
   "source": [
    "#change presentOnAdmitDx to a json object\n",
    "presentOnAdmitDx = presentOnAdmitDx.to_json(orient=\"records\")\n",
    "print(presentOnAdmitDx)"
   ]
  },
  {
   "cell_type": "code",
   "execution_count": 23,
   "metadata": {},
   "outputs": [],
   "source": [
    "def extract_json_from_content(content):\n",
    "    # Find the JSON part within the content\n",
    "    start_index = content.find('{')\n",
    "    end_index = content.rfind('}') + 1\n",
    "    json_str = content[start_index:end_index]\n",
    "\n",
    "    # Parse the JSON string\n",
    "    parsed_json = json.loads(json_str)\n",
    "    \n",
    "    return parsed_json"
   ]
  },
  {
   "cell_type": "code",
   "execution_count": null,
   "metadata": {},
   "outputs": [],
   "source": [
    "system = \"You are a knowledgeable medical provider who specializes in medication management.\"\n",
    "human = \"{text}\"\n",
    "prompt = ChatPromptTemplate.from_messages([(\"system\", system), (\"human\", human)])\n",
    "\n",
    "chain = prompt | llama_3_1\n",
    "response = chain.invoke({\"text\": f\"\"\"Based on the information from this JSON information: {hospitalAcquiredDx}, {presentOnAdmitDx}, does the patient have any of the following:\n",
    "              1. Mild to moderate esoophagitis\n",
    "              2. GERD \n",
    "              3. Peptic Ulcer Disease\n",
    "              4. Upper GI symptoms\n",
    "              5. ICU Stress Ulcer Prophylaxis\n",
    "              6. Barrett's Esophagus\n",
    "              7. Chronic NSAID use with bleeding risk\n",
    "              8. Severe esophagitis\n",
    "              9. Documented history of bleeding GI ulcer\n",
    "              10. Explain the reasoning for your answer\n",
    "            Return the answer for each of these as a formatted JSON object with the key being the condition and the value being a boolean value for the first 9.  For the final question, return a string with the reasoning for your answer.\"\"\"})\n",
    "print(response)"
   ]
  },
  {
   "cell_type": "code",
   "execution_count": null,
   "metadata": {},
   "outputs": [],
   "source": [
    "extract_json_from_content(response.content)"
   ]
  },
  {
   "cell_type": "code",
   "execution_count": null,
   "metadata": {},
   "outputs": [],
   "source": []
  },
  {
   "cell_type": "code",
   "execution_count": null,
   "metadata": {},
   "outputs": [],
   "source": []
  },
  {
   "cell_type": "code",
   "execution_count": null,
   "metadata": {},
   "outputs": [],
   "source": []
  }
 ],
 "metadata": {
  "kernelspec": {
   "display_name": "capstone",
   "language": "python",
   "name": "python3"
  },
  "language_info": {
   "codemirror_mode": {
    "name": "ipython",
    "version": 3
   },
   "file_extension": ".py",
   "mimetype": "text/x-python",
   "name": "python",
   "nbconvert_exporter": "python",
   "pygments_lexer": "ipython3",
   "version": "3.12.5"
  }
 },
 "nbformat": 4,
 "nbformat_minor": 2
}
