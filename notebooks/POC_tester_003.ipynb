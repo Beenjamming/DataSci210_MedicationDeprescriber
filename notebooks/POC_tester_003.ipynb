{
 "cells": [
  {
   "cell_type": "code",
   "execution_count": 1,
   "metadata": {},
   "outputs": [],
   "source": [
    "import pandas as pd\n",
    "import numpy as np\n",
    "from langchain_core.prompts import ChatPromptTemplate\n",
    "from langchain_groq import ChatGroq\n",
    "import os\n",
    "import json\n",
    "from pathlib import Path"
   ]
  },
  {
   "cell_type": "code",
   "execution_count": 2,
   "metadata": {},
   "outputs": [],
   "source": [
    "groq_key = \"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\""
   ]
  },
  {
   "cell_type": "code",
   "execution_count": 3,
   "metadata": {},
   "outputs": [
    {
     "name": "stderr",
     "output_type": "stream",
     "text": [
      "c:\\Users\\grays\\anaconda3\\envs\\capstone\\Lib\\site-packages\\pydantic\\_internal\\_fields.py:161: UserWarning: Field \"model_name\" has conflict with protected namespace \"model_\".\n",
      "\n",
      "You may be able to resolve this warning by setting `model_config['protected_namespaces'] = ()`.\n",
      "  warnings.warn(\n",
      "c:\\Users\\grays\\OneDrive\\Documents\\GitHub\\DataSci210_MedicationDeprescriber\\src\\extraction.py:15: LangChainDeprecationWarning: The class `HuggingFaceEmbeddings` was deprecated in LangChain 0.2.2 and will be removed in 1.0. An updated version of the class exists in the :class:`~langchain-huggingface package and should be used instead. To use it run `pip install -U :class:`~langchain-huggingface` and import as `from :class:`~langchain_huggingface import HuggingFaceEmbeddings``.\n",
      "  embeddings = HuggingFaceEmbeddings(model_name=\"NeuML/pubmedbert-base-embeddings\")\n",
      "c:\\Users\\grays\\anaconda3\\envs\\capstone\\Lib\\site-packages\\sentence_transformers\\cross_encoder\\CrossEncoder.py:13: TqdmExperimentalWarning: Using `tqdm.autonotebook.tqdm` in notebook mode. Use `tqdm.tqdm` instead to force console mode (e.g. in jupyter console)\n",
      "  from tqdm.autonotebook import tqdm, trange\n"
     ]
    }
   ],
   "source": [
    "from extraction import ExtractionAgent\n",
    "from query import DataLoader\n",
    "from main import main"
   ]
  },
  {
   "cell_type": "code",
   "execution_count": 4,
   "metadata": {},
   "outputs": [],
   "source": [
    "data_path = Path(\n",
    "    r\"C:\\Users\\grays\\OneDrive\\Documents\\GitHub\\DataSci210_MedicationDeprescriber\\Data\"\n",
    "    # \"/Users/yarg/Library/CloudStorage/OneDrive-Personal/Documents/GitHub/DataSci210_MedicationDeprescriber/Data\"\n",
    ")"
   ]
  },
  {
   "cell_type": "code",
   "execution_count": 5,
   "metadata": {},
   "outputs": [],
   "source": [
    "encounter_key = \"D6253A5CE371EA\""
   ]
  },
  {
   "cell_type": "code",
   "execution_count": 6,
   "metadata": {},
   "outputs": [],
   "source": [
    "recommendation_dict = {\n",
    "    \"continue\": [\n",
    "        \"Barretts Esophagus\",\n",
    "        \"Chronic NSAID used with bleeding risk\",\n",
    "        \"Severe esophagitis\",\n",
    "        \"Documented history of bleeding GUI ulcer\",\n",
    "    ],\n",
    "    \"stop\": [\n",
    "        \"Peptic Ulcer Disease\",\n",
    "        \"Chronic NSAID use with bleeding risk\",\n",
    "        \"ICU Stress Ulcer Prophylaxis\",\n",
    "        \"H Pylori infection\",\n",
    "    ],\n",
    "    \"deprescribe\": [\n",
    "        \"Mild to moderate esophagitis\",\n",
    "        \"GERD\",\n",
    "    ],\n",
    "}"
   ]
  },
  {
   "cell_type": "code",
   "execution_count": null,
   "metadata": {},
   "outputs": [],
   "source": []
  },
  {
   "cell_type": "code",
   "execution_count": 7,
   "metadata": {},
   "outputs": [],
   "source": [
    "recommendation_str, final_reasoning, token_usage, search_history_so_far, token_count_history = main(\n",
    "    groq_key=groq_key,\n",
    "    data_path=data_path,\n",
    "    encounter_key=encounter_key\n",
    ")"
   ]
  },
  {
   "cell_type": "code",
   "execution_count": 10,
   "metadata": {},
   "outputs": [
    {
     "data": {
      "text/plain": [
       "'deprescribe'"
      ]
     },
     "execution_count": 10,
     "metadata": {},
     "output_type": "execute_result"
    }
   ],
   "source": [
    "recommendation_str"
   ]
  },
  {
   "cell_type": "code",
   "execution_count": 11,
   "metadata": {},
   "outputs": [
    {
     "data": {
      "text/plain": [
       "\"The recommendation is to deprescribe the medication due to a lack of evidence supporting the presence of conditions that typically warrant its use, such as esophagitis or GERD, as the patient's EGD and colonoscopy results showed a normal esophagus with no ulcers, erosions, or other abnormalities.\""
      ]
     },
     "execution_count": 11,
     "metadata": {},
     "output_type": "execute_result"
    }
   ],
   "source": [
    "final_reasoning"
   ]
  },
  {
   "cell_type": "code",
   "execution_count": 12,
   "metadata": {},
   "outputs": [
    {
     "data": {
      "text/plain": [
       "15995"
      ]
     },
     "execution_count": 12,
     "metadata": {},
     "output_type": "execute_result"
    }
   ],
   "source": [
    "token_usage"
   ]
  },
  {
   "cell_type": "code",
   "execution_count": 13,
   "metadata": {},
   "outputs": [
    {
     "data": {
      "text/plain": [
       "{'diagnosis_source_continue': 573,\n",
       " 'encounters_source_continue': 694,\n",
       " 'diagnosis_source_stop': 589,\n",
       " 'encounters_source_stop': 717,\n",
       " 'diagnosis_source_deprescribe': 546,\n",
       " 'encounters_source_deprescribe': 661,\n",
       " 'notes_source_continue': 3560,\n",
       " 'notes_source_stop': 3562,\n",
       " 'notes_source_deprescribe': 3968,\n",
       " 'final_summary': 1125}"
      ]
     },
     "execution_count": 13,
     "metadata": {},
     "output_type": "execute_result"
    }
   ],
   "source": [
    "token_count_history"
   ]
  },
  {
   "cell_type": "code",
   "execution_count": 14,
   "metadata": {},
   "outputs": [
    {
     "data": {
      "text/plain": [
       "{'diagnosis_source_continue': {'diagnosis_boolean': '0',\n",
       "  'explanation': \"There is no evidence of Barrett's Esophagus, Chronic NSAID use with bleeding risk, Severe esophagitis, or Documented history of bleeding GI ulcer in the provided information. The patient has a diagnosis of GIB (gastrointestinal bleeding) which may be the reason for the PPI prescription, but it is not explicitly listed in the conditions to check for.\"},\n",
       " 'encounters_source_continue': {'diagnosis_boolean': '0',\n",
       "  'explanation': \"Based on the provided information, there is no clear evidence of Barrett's Esophagus, Chronic NSAID use with bleeding risk, Severe esophagitis, or Documented history of bleeding GI ulcer. The primary diagnosis is listed as 'Gastrointestinal hemorrhage, unspecified', which does not provide enough information to confirm any of the specified conditions. Therefore, it is not possible to determine the reason for the PPI prescription with certainty.\"},\n",
       " 'diagnosis_source_stop': {'diagnosis_boolean': '0',\n",
       "  'explanation': \"There is no direct evidence of Peptic Ulcer Disease, Chronic NSAID use with bleeding risk, H Pylori infection, or ICU Stress Ulcer Prophylaxis in the provided information. The patient has a diagnosis of Gastrointestinal Bleeding (GIB) on admission, but the underlying cause is not specified. The hospital-acquired diagnosis is listed as 'Unspecified'. Therefore, we cannot confirm any of the conditions that would typically warrant PPI use.\"},\n",
       " 'encounters_source_stop': {'diagnosis_boolean': '0',\n",
       "  'explanation': 'There is no direct evidence of Peptic Ulcer Disease, Chronic NSAID use with bleeding risk, ICU Stress Ulcer Prophylaxis, or H Pylori infection in the provided information. The primary diagnosis is Gastrointestinal hemorrhage, unspecified, but the underlying cause is not specified.'},\n",
       " 'diagnosis_source_deprescribe': {'diagnosis_boolean': '0',\n",
       "  'explanation': \"There is no direct evidence of 'Mild to moderate esophagitis' or 'GERD' in the provided information. The patient has a diagnosis of 'GIB (gastrointestinal bleeding)' which may be related to various conditions, but it does not specifically confirm 'Mild to moderate esophagitis' or 'GERD'.\"},\n",
       " 'encounters_source_deprescribe': {'diagnosis_boolean': '0',\n",
       "  'explanation': \"There is no direct evidence of 'Mild to moderate esophagitis' or 'GERD' in the provided information. The primary diagnosis is 'Gastrointestinal hemorrhage, unspecified', which may be related to various conditions, but it does not specifically indicate esophagitis or GERD. Therefore, it is not possible to confirm these conditions based on the given data.\"},\n",
       " 'notes_source_continue': {'diagnosis_boolean': '0',\n",
       "  'explanation': \"There is no evidence of Barrett's Esophagus, Chronic NSAID use with bleeding risk, Severe esophagitis, or Documented history of bleeding GI ulcer in the provided context. The patient's EGD and colonoscopy results show mild antral erythema and a punctate area of submucosal erythema in the gastric body, but no active bleeding or severe esophagitis. The patient's history of AVMs and gastritis is noted, but there is no indication of NSAID use or Barrett's Esophagus.\"},\n",
       " 'notes_source_stop': {'diagnosis_boolean': '0',\n",
       "  'explanation': \"There is no clear evidence of Peptic Ulcer Disease, Chronic NSAID use with bleeding risk, ICU Stress Ulcer Prophylaxis, or H Pylori infection in the provided context. The patient has a history of mild gastritis and small AVMs, but the recent EGD and colonoscopy results do not indicate active bleeding or ulcers. The patient's Helicobacter pylori IgG Antibody and Antigen tests are pending, but there is no mention of NSAID use or ICU stay. Therefore, the diagnosis cannot be confirmed based on the provided information.\"},\n",
       " 'notes_source_deprescribe': {'diagnosis_boolean': '0',\n",
       "  'explanation': 'There is no evidence of esophagitis or GERD in the provided context. The esophagus was reported as normal in the EGD and colonoscopy procedures, with no ulcers, erosions, strictures, masses, or varices seen.'}}"
      ]
     },
     "execution_count": 14,
     "metadata": {},
     "output_type": "execute_result"
    }
   ],
   "source": [
    "search_history_so_far"
   ]
  },
  {
   "cell_type": "code",
   "execution_count": null,
   "metadata": {},
   "outputs": [],
   "source": []
  },
  {
   "cell_type": "code",
   "execution_count": 8,
   "metadata": {},
   "outputs": [],
   "source": [
    "llm_agent = ExtractionAgent(groq_key=groq_key, data_path=data_path)"
   ]
  },
  {
   "cell_type": "code",
   "execution_count": null,
   "metadata": {},
   "outputs": [],
   "source": []
  },
  {
   "cell_type": "code",
   "execution_count": 9,
   "metadata": {},
   "outputs": [
    {
     "data": {
      "text/plain": [
       "{'hospitalAcquiredDx': '[{\"EncounterKey\":\"D6253A5CE371EA\",\"DxName\":\"*Unspecified\"}]',\n",
       " 'presentOnAdmitDx': '[{\"EncounterKey\":\"D6253A5CE371EA\",\"DxName\":\"GIB (gastrointestinal bleeding)\"}]'}"
      ]
     },
     "execution_count": 9,
     "metadata": {},
     "output_type": "execute_result"
    }
   ],
   "source": [
    "diagnosis_data_dict = llm_agent.get_data(\n",
    "    encounter_key=encounter_key, source=\"diagnosis\"\n",
    ")\n",
    "diagnosis_data_dict"
   ]
  },
  {
   "cell_type": "code",
   "execution_count": null,
   "metadata": {},
   "outputs": [],
   "source": [
    "diagnosis_list = [\n",
    "        \"Barretts Esophagus\",\n",
    "        \"Chronic NSAID used with bleeding risk\",\n",
    "        \"Severe esophagitis\",\n",
    "        \"Documented history of bleeding GUI ulcer\",\n",
    "    ]"
   ]
  },
  {
   "cell_type": "code",
   "execution_count": null,
   "metadata": {},
   "outputs": [],
   "source": [
    "from pydantic import BaseModel, Field\n",
    "from langchain_core.output_parsers import JsonOutputParser\n",
    "\n",
    "\n",
    "class DiagnosisSearchDict(BaseModel):\n",
    "    diagnosis_boolean: str = Field(\n",
    "        description=\"1 if the diagnosis is found, else 0\"\n",
    "    )\n",
    "    explanation: str = Field(\n",
    "        description=\"A concise explanation for how the determination of the diagnosis was made\"\n",
    "    )"
   ]
  },
  {
   "cell_type": "code",
   "execution_count": null,
   "metadata": {},
   "outputs": [],
   "source": [
    "parser = JsonOutputParser(pydantic_object=DiagnosisSearchDict)"
   ]
  },
  {
   "cell_type": "code",
   "execution_count": null,
   "metadata": {},
   "outputs": [],
   "source": [
    "from langchain_core.prompts import PromptTemplate\n",
    "\n",
    "prompt = PromptTemplate(\n",
    "    template=\"\"\"You are a knowledgeable medical provider who specializes in medication management. In the following case, your patient is prescribed\n",
    "    a PPI (proton pump inhibitor) and need to make a decision to continue, reduce, or stop the PPI. Determine if there is evidence of the specific\n",
    "    condition which will help determine whether to continue, reduce, or stop the medication on discharge.\n",
    "    # Response Format Instructions #\n",
    "    {format_instructions}\n",
    "    # Question #\n",
    "    {query}\"\"\",\n",
    "    input_variables=[\"query\"],\n",
    "    partial_variables={\"format_instructions\": parser.get_format_instructions()},\n",
    ")"
   ]
  },
  {
   "cell_type": "code",
   "execution_count": null,
   "metadata": {},
   "outputs": [],
   "source": [
    "chain = prompt | llm_agent.llm # | parser"
   ]
  },
  {
   "cell_type": "code",
   "execution_count": null,
   "metadata": {},
   "outputs": [],
   "source": [
    "output = chain.invoke(\n",
    "    {\n",
    "        \"query\": f\"Based on the provided information here: {diagnosis_data_dict}, is there evidence of {diagnosis_list}? Do NOT assume a condition based on prescribed medication. We know all of these patients are prescribed a ppi, but we need to know why. Be very sure of a diagnosis.\"\n",
    "    }\n",
    ")"
   ]
  },
  {
   "cell_type": "code",
   "execution_count": null,
   "metadata": {},
   "outputs": [],
   "source": [
    "output.response_metadata[\"token_usage\"][\"total_tokens\"]"
   ]
  },
  {
   "cell_type": "code",
   "execution_count": null,
   "metadata": {},
   "outputs": [],
   "source": [
    "pydantic_obj = parser.parse(output.content)\n",
    "pydantic_obj"
   ]
  },
  {
   "cell_type": "code",
   "execution_count": null,
   "metadata": {},
   "outputs": [],
   "source": [
    "llm_agent.extract_diagnosis(diagnosis_data_dict=diagnosis_data_dict, diagnosis=diagnosis_list)"
   ]
  },
  {
   "cell_type": "code",
   "execution_count": null,
   "metadata": {},
   "outputs": [],
   "source": []
  },
  {
   "cell_type": "code",
   "execution_count": null,
   "metadata": {},
   "outputs": [
    {
     "data": {
      "text/plain": [
       "'[{\"EncounterKey\":\"D6253A5CE371EA\",\"PatientKey\":\"DE3B4E1AA899F6\",\"Sex\":\"Male\",\"Age_y\":81,\"BirthDate\":\"1942-01-31\",\"PtAdmitDate\":\"2023-09-17\",\"PtDischargeDate\":\"2023-09-21\",\"DRG\":\"GASTROINTESTINAL HEMORRHAGE WITH MCC\",\"FinancialClass\":\"Medicare Advantage HMO\\\\/Senior\",\"AdmissionOrigin\":\"Transfer Center Admission\",\"AdmissionSource\":\"Transfer - Acute Hospital\",\"AdmissionType\":\"Urgent\",\"PrimaryDx\":\"Gastrointestinal hemorrhage, unspecified\",\"PresentOnAdmissionDiagnosisComboKey\":1848960,\"HospitalAcquiredDiagnosisComboKey\":-1,\"DischargeDisposition\":\"Home or Self Care\",\"DischargePatientClass\":\"Inpatient\"}]'"
      ]
     },
     "execution_count": 15,
     "metadata": {},
     "output_type": "execute_result"
    },
    {
     "ename": "",
     "evalue": "",
     "output_type": "error",
     "traceback": [
      "\u001b[1;31mThe Kernel crashed while executing code in the current cell or a previous cell. \n",
      "\u001b[1;31mPlease review the code in the cell(s) to identify a possible cause of the failure. \n",
      "\u001b[1;31mClick <a href='https://aka.ms/vscodeJupyterKernelCrash'>here</a> for more info. \n",
      "\u001b[1;31mView Jupyter <a href='command:jupyter.viewOutput'>log</a> for further details."
     ]
    }
   ],
   "source": [
    "encounters_data_dict = llm_agent.get_data(\n",
    "    encounter_key=encounter_key, source=\"encounters\"\n",
    ")\n",
    "encounters_data_dict"
   ]
  },
  {
   "cell_type": "code",
   "execution_count": null,
   "metadata": {},
   "outputs": [],
   "source": []
  },
  {
   "cell_type": "code",
   "execution_count": null,
   "metadata": {},
   "outputs": [],
   "source": []
  },
  {
   "cell_type": "code",
   "execution_count": null,
   "metadata": {},
   "outputs": [],
   "source": [
    "noteText = llm_agent.get_data(encounter_key=encounter_key, source=\"notes\")\n",
    "noteText"
   ]
  },
  {
   "cell_type": "code",
   "execution_count": null,
   "metadata": {},
   "outputs": [],
   "source": [
    "from langchain.output_parsers import PydanticOutputParser\n",
    "from langchain_community.document_loaders import DataFrameLoader\n",
    "from langchain_community.embeddings import HuggingFaceEmbeddings\n",
    "from langchain_community.vectorstores import FAISS\n",
    "from langchain_core.prompts import ChatPromptTemplate, PromptTemplate\n",
    "from langchain_core.runnables import RunnablePassthrough\n",
    "from langchain_groq import ChatGroq\n",
    "from langchain_text_splitters import RecursiveCharacterTextSplitter\n",
    "from pydantic import BaseModel, Field\n",
    "\n",
    "\n",
    "embeddings = HuggingFaceEmbeddings(model_name=\"NeuML/pubmedbert-base-embeddings\")\n",
    "text_splitter = RecursiveCharacterTextSplitter()\n",
    "\n",
    "loader = DataFrameLoader(\n",
    "    data_frame=noteText,\n",
    "    page_content_column=\"NoteText\",\n",
    "    engine=\"pandas\",\n",
    ")\n",
    "\n",
    "documents = loader.load_and_split()\n",
    "\n",
    "vector_store = FAISS.from_documents(documents, embeddings)\n",
    "\n",
    "retriever = vector_store.as_retriever(search_type=\"similarity\", k=3)\n",
    "\n",
    "parser = JsonOutputParser(pydantic_object=DiagnosisSearchDict)\n",
    "# parser = PydanticOutputParser(pydantic_object=DiagnosisSearchDict)"
   ]
  },
  {
   "cell_type": "code",
   "execution_count": null,
   "metadata": {},
   "outputs": [],
   "source": [
    "def format_docs(docs):\n",
    "    return \"\\n\\n\".join(doc.page_content for doc in docs)"
   ]
  },
  {
   "cell_type": "code",
   "execution_count": null,
   "metadata": {},
   "outputs": [],
   "source": [
    "from langchain_core.runnables import RunnablePassthrough\n",
    "\n",
    "prompt = PromptTemplate(\n",
    "    template=\"\"\"You are a knowledgeable medical provider who specializes in medication management. In the following case, your patient is prescribed a PPI (proton pump inhibitor) and need to make a decision to continue, reduce, or stop the PPI. Determine if there is evidence of the specific condition which will help determine whether to continue, reduce, or stop the medication on discharge.\n",
    "    Use the Context as information for your answer: \n",
    "    # Context #\n",
    "    {context}\n",
    "    Do NOT assume a condition based on prescribed medication. We know all of these patients are prescribed a ppi, but we need to know why. Be very sure of a diagnosis.\n",
    "    # Format Instructions #\n",
    "    {format_instructions}\n",
    "    # Question #\n",
    "    {query}\n",
    "    \"\"\",\n",
    "    input_variables=[\"context\", \"query\"],\n",
    "    partial_variables={\"format_instructions\": parser.get_format_instructions()},\n",
    ")"
   ]
  },
  {
   "cell_type": "code",
   "execution_count": null,
   "metadata": {},
   "outputs": [],
   "source": [
    "rag_chain = (\n",
    "    {\"context\": retriever | format_docs, \"query\": RunnablePassthrough()}\n",
    "    | prompt\n",
    "    | llm_agent.llm\n",
    "    # | parser\n",
    ")"
   ]
  },
  {
   "cell_type": "code",
   "execution_count": null,
   "metadata": {},
   "outputs": [],
   "source": [
    "temp_out = rag_chain.invoke(\n",
    "    f\"Is there evidence of {diagnosis}?\"\n",
    ")"
   ]
  },
  {
   "cell_type": "code",
   "execution_count": null,
   "metadata": {},
   "outputs": [],
   "source": [
    "temp_out.response_metadata[\"token_usage\"][\"total_tokens\"]"
   ]
  },
  {
   "cell_type": "code",
   "execution_count": null,
   "metadata": {},
   "outputs": [],
   "source": [
    "pydantic_obj_notes = parser.parse(temp_out.content)\n",
    "pydantic_obj_notes"
   ]
  },
  {
   "cell_type": "code",
   "execution_count": null,
   "metadata": {},
   "outputs": [],
   "source": []
  },
  {
   "cell_type": "code",
   "execution_count": null,
   "metadata": {},
   "outputs": [],
   "source": [
    "retriever_out = retriever.invoke(f\"Is there evidence of {diagnosis}?\")\n",
    "retriever_out = retriever_out[:3]\n",
    "retriever_out"
   ]
  },
  {
   "cell_type": "code",
   "execution_count": null,
   "metadata": {},
   "outputs": [],
   "source": [
    "retriever_out_format = format_docs(retriever_out)\n",
    "retriever_out_format"
   ]
  },
  {
   "cell_type": "code",
   "execution_count": null,
   "metadata": {},
   "outputs": [],
   "source": [
    "from langchain_core.runnables import RunnablePassthrough\n",
    "\n",
    "prompt = PromptTemplate(\n",
    "    template=\"You are a knowledgeable medical provider who specializes in medication management. In the following case, your patient is prescribed a PPI (proton pump inhibitor) and need to make a decision to continue, reduce, or stop the PPI. Determine if there is evidence of the specific condition which will help determine whether to continue, reduce, or stop the medication on discharge.\\n{format_instructions}\\nUse this information for your answer: {context}\\n{query}\\n\",\n",
    "    input_variables=[\"context\", \"query\"],\n",
    "    partial_variables={\"format_instructions\": parser.get_format_instructions()},\n",
    ")\n",
    "\n",
    "\n",
    "rag_chain = (\n",
    "    {\"context\": RunnablePassthrough(), \"query\": RunnablePassthrough()}\n",
    "    | prompt\n",
    "    | llm_agent.llm\n",
    "    # | parser\n",
    ")"
   ]
  },
  {
   "cell_type": "code",
   "execution_count": null,
   "metadata": {},
   "outputs": [],
   "source": [
    "rag_chain"
   ]
  },
  {
   "cell_type": "code",
   "execution_count": null,
   "metadata": {},
   "outputs": [],
   "source": [
    "out = rag_chain.invoke(\n",
    "    f\"Is there evidence of {diagnosis}? Use the following context for information: {retriever_out_format}. The context has ended. Do NOT assume a condition based on prescribed medication. We know all of these patients are prescribed a ppi, but we need to know why. Be very sure of a diagnosis.\"\n",
    ")\n",
    "out"
   ]
  },
  {
   "cell_type": "code",
   "execution_count": null,
   "metadata": {},
   "outputs": [],
   "source": [
    "out.response_metadata[\"token_usage\"][\"total_tokens\"]"
   ]
  },
  {
   "cell_type": "code",
   "execution_count": null,
   "metadata": {},
   "outputs": [],
   "source": [
    "pydantic_obj_notes = parser.parse(out.content)\n",
    "pydantic_obj_notes"
   ]
  },
  {
   "cell_type": "code",
   "execution_count": null,
   "metadata": {},
   "outputs": [],
   "source": []
  },
  {
   "cell_type": "code",
   "execution_count": null,
   "metadata": {},
   "outputs": [],
   "source": []
  },
  {
   "cell_type": "code",
   "execution_count": null,
   "metadata": {},
   "outputs": [],
   "source": []
  },
  {
   "cell_type": "code",
   "execution_count": null,
   "metadata": {},
   "outputs": [],
   "source": [
    "recommendation_dict = {\n",
    "    \"continue\": [\n",
    "        \"Barretts Esophagus\",\n",
    "        \"Chronic NSAID used with bleeding risk\",\n",
    "        \"Severe esophagitis\",\n",
    "        \"Documented history of bleeding GUI ulcer\",\n",
    "    ],\n",
    "    \"stop\": [\n",
    "        \"Peptic Ulcer Disease\",\n",
    "        \"Chronic NSAID use with bleeding risk\",\n",
    "        \"ICU Stress Ulcer Prophylaxis\",\n",
    "        \"H Pylori infection\",\n",
    "    ],\n",
    "    \"deprescribe\": [\n",
    "        \"Mild to moderate esophagitis\",\n",
    "        \"GERD\",\n",
    "    ],\n",
    "}"
   ]
  },
  {
   "cell_type": "code",
   "execution_count": null,
   "metadata": {},
   "outputs": [],
   "source": [
    "# track the number of tokens used\n",
    "token_usage = 0\n",
    "final_bool = False\n",
    "diagnosis_dict_dict = {}"
   ]
  },
  {
   "cell_type": "code",
   "execution_count": null,
   "metadata": {},
   "outputs": [],
   "source": [
    "for recommendation_str, diagnosis_list in recommendation_dict.items():\n",
    "    "
   ]
  },
  {
   "cell_type": "code",
   "execution_count": null,
   "metadata": {},
   "outputs": [],
   "source": []
  },
  {
   "cell_type": "code",
   "execution_count": null,
   "metadata": {},
   "outputs": [],
   "source": []
  },
  {
   "cell_type": "code",
   "execution_count": null,
   "metadata": {},
   "outputs": [],
   "source": []
  },
  {
   "cell_type": "code",
   "execution_count": null,
   "metadata": {},
   "outputs": [],
   "source": []
  },
  {
   "cell_type": "code",
   "execution_count": null,
   "metadata": {},
   "outputs": [],
   "source": []
  },
  {
   "cell_type": "code",
   "execution_count": null,
   "metadata": {},
   "outputs": [],
   "source": []
  },
  {
   "cell_type": "code",
   "execution_count": null,
   "metadata": {},
   "outputs": [],
   "source": []
  },
  {
   "cell_type": "code",
   "execution_count": null,
   "metadata": {},
   "outputs": [],
   "source": []
  },
  {
   "cell_type": "code",
   "execution_count": null,
   "metadata": {},
   "outputs": [],
   "source": []
  },
  {
   "cell_type": "code",
   "execution_count": null,
   "metadata": {},
   "outputs": [],
   "source": []
  },
  {
   "cell_type": "code",
   "execution_count": null,
   "metadata": {},
   "outputs": [],
   "source": []
  },
  {
   "cell_type": "code",
   "execution_count": null,
   "metadata": {},
   "outputs": [],
   "source": []
  },
  {
   "cell_type": "code",
   "execution_count": null,
   "metadata": {},
   "outputs": [],
   "source": []
  }
 ],
 "metadata": {
  "kernelspec": {
   "display_name": "capstone",
   "language": "python",
   "name": "python3"
  },
  "language_info": {
   "codemirror_mode": {
    "name": "ipython",
    "version": 3
   },
   "file_extension": ".py",
   "mimetype": "text/x-python",
   "name": "python",
   "nbconvert_exporter": "python",
   "pygments_lexer": "ipython3",
   "version": "3.12.5"
  }
 },
 "nbformat": 4,
 "nbformat_minor": 2
}
