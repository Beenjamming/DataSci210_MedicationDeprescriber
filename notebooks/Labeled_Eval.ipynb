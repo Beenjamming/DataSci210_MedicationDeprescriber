{
 "cells": [
  {
   "cell_type": "code",
   "execution_count": 1,
   "metadata": {},
   "outputs": [
    {
     "name": "stderr",
     "output_type": "stream",
     "text": [
      "f:\\LangChain\\DataSci210_MedicationDeprescriber\\src\\extraction.py:11: LangChainDeprecationWarning: The class `HuggingFaceEmbeddings` was deprecated in LangChain 0.2.2 and will be removed in 1.0. An updated version of the class exists in the langchain-huggingface package and should be used instead. To use it run `pip install -U langchain-huggingface` and import as `from langchain_huggingface import HuggingFaceEmbeddings`.\n",
      "  embeddings = HuggingFaceEmbeddings(model_name=\"NeuML/pubmedbert-base-embeddings\")\n",
      "f:\\LangChain\\.venv\\lib\\site-packages\\sentence_transformers\\cross_encoder\\CrossEncoder.py:13: TqdmExperimentalWarning: Using `tqdm.autonotebook.tqdm` in notebook mode. Use `tqdm.tqdm` instead to force console mode (e.g. in jupyter console)\n",
      "  from tqdm.autonotebook import tqdm, trange\n"
     ]
    }
   ],
   "source": [
    "# 1. Library imports\n",
    "import pandas as pd\n",
    "from IPython.display import Markdown, display\n",
    "from extraction import ExtractionAgent\n",
    "from ppi_deprescribe import merge_results, ppi_deprescribe\n",
    "import os \n",
    "from pathlib import Path \n"
   ]
  },
  {
   "cell_type": "code",
   "execution_count": 2,
   "metadata": {},
   "outputs": [],
   "source": [
    "\n",
    "path = Path('F:/LangChain/data')\n",
    "groq = os.environ['groqkey']\n",
    "pd.set_option('display.max_colwidth', None)"
   ]
  },
  {
   "cell_type": "code",
   "execution_count": 3,
   "metadata": {},
   "outputs": [],
   "source": [
    "\n",
    "def deprescribe(key):\n",
    "    # extract information\n",
    "    llm_agent = ExtractionAgent(groq_key=groq, data_path=path)\n",
    "\n",
    "    results_dict = {\n",
    "        \"diagnosis_dict\": llm_agent.extract_diagnosis(encounter_key=key),\n",
    "        \"encounter_dict\": llm_agent.extract_encounter_info(encounter_key=key),\n",
    "        # Is the reasoning in the json or sepearte?\n",
    "        # Should the reasoning be included in any of them or just the diangosis with the reasoning seperate?\n",
    "        \"notes_dict\": llm_agent.extract_notes(encounter_key=key),\n",
    "    }\n",
    "    print(results_dict['notes_dict'])\n",
    "    # # #   master formatter step   # # #\n",
    "    # merge the diagnosis booleans (just use OR logic for now)\n",
    "    # make a final \"reasoning\" behind the recommendation\n",
    "    final_dict = merge_results(results_dict=results_dict)\n",
    "\n",
    "    # feed the three reasonings to LLM to get a single summary\n",
    "    final_reasoning = llm_agent.summarize_reasonings(results_dict=results_dict)\n",
    "\n",
    "    # # #   get recommendation from PPI algorithm   # # #\n",
    "    recommendation_str = ppi_deprescribe(patient_diagnosis=final_dict)\n",
    "    return recommendation_str, final_reasoning\n",
    "    "
   ]
  },
  {
   "cell_type": "code",
   "execution_count": null,
   "metadata": {},
   "outputs": [],
   "source": [
    "enc_key = 'D8017C77BA15FA'"
   ]
  },
  {
   "cell_type": "code",
   "execution_count": 4,
   "metadata": {},
   "outputs": [
    {
     "data": {
      "text/html": [
       "<div>\n",
       "<style scoped>\n",
       "    .dataframe tbody tr th:only-of-type {\n",
       "        vertical-align: middle;\n",
       "    }\n",
       "\n",
       "    .dataframe tbody tr th {\n",
       "        vertical-align: top;\n",
       "    }\n",
       "\n",
       "    .dataframe thead th {\n",
       "        text-align: right;\n",
       "    }\n",
       "</style>\n",
       "<table border=\"1\" class=\"dataframe\">\n",
       "  <thead>\n",
       "    <tr style=\"text-align: right;\">\n",
       "      <th></th>\n",
       "      <th>key</th>\n",
       "      <th>reason</th>\n",
       "      <th>recommendation</th>\n",
       "      <th>GS_response</th>\n",
       "      <th>Note</th>\n",
       "    </tr>\n",
       "  </thead>\n",
       "  <tbody>\n",
       "    <tr>\n",
       "      <th>0</th>\n",
       "      <td>D6253A5CE371EA</td>\n",
       "      <td>example with gastrointestinal bleed should continue PPI</td>\n",
       "      <td>continue</td>\n",
       "      <td>This patient has a history of a gastrointestinal bleeding which was present on the admission diagnosis.  The pantoprazole 20mg taken twice daily should be continued.  The GI bleed is mentioned in the note from 09/14/2023, on 09/17/2023, and on 09/20/2023.</td>\n",
       "      <td>NaN</td>\n",
       "    </tr>\n",
       "  </tbody>\n",
       "</table>\n",
       "</div>"
      ],
      "text/plain": [
       "              key                                                   reason  \\\n",
       "0  D6253A5CE371EA  example with gastrointestinal bleed should continue PPI   \n",
       "\n",
       "  recommendation  \\\n",
       "0       continue   \n",
       "\n",
       "                                                                                                                                                                                                                                                       GS_response  \\\n",
       "0  This patient has a history of a gastrointestinal bleeding which was present on the admission diagnosis.  The pantoprazole 20mg taken twice daily should be continued.  The GI bleed is mentioned in the note from 09/14/2023, on 09/17/2023, and on 09/20/2023.   \n",
       "\n",
       "  Note  \n",
       "0  NaN  "
      ]
     },
     "execution_count": 4,
     "metadata": {},
     "output_type": "execute_result"
    }
   ],
   "source": [
    "labeled_data = pd.read_csv('F:/LangChain/data/LabeledResponses.csv')\n",
    "labeled_data = labeled_data.head(1)\n",
    "labeled_data.head()"
   ]
  },
  {
   "cell_type": "code",
   "execution_count": 5,
   "metadata": {},
   "outputs": [
    {
     "name": "stdout",
     "output_type": "stream",
     "text": [
      "{'Mild to moderate esophagitis': False, 'GERD': False, 'Peptic Ulcer Disease': False, 'Upper GI symptoms': False, 'ICU Stress Ulcer Prophylaxis': False, 'Barretts Esophagus': False, 'Chronic NSAID use with bleeding risk': False, 'Severe esophagitis': False, 'Documented history of bleeding GI ulcer': True, 'H pylori infection': False, 'Reasoning': \"The patient has a history of mild gastritis and small AVMs, but no active bleeding was found during the endoscopy. The patient's recent stroke and SAH make them a high-risk candidate for anesthesia and endoscopy. The patient's AC has been limited by slow ooze in the past, but it is recommended to restart necessary AC and AP under close observation.\"}\n"
     ]
    }
   ],
   "source": [
    "def apply_deprescribe(row):\n",
    "    try:\n",
    "        recommendation_str, final_reasoning = deprescribe(row['key'])\n",
    "        return pd.Series([recommendation_str, final_reasoning])\n",
    "    except:\n",
    "        return pd.Series([None, None])\n",
    "\n",
    "labeled_data[['Rec_Returned', 'Reasoning']] = labeled_data.apply(apply_deprescribe, axis=1)"
   ]
  },
  {
   "cell_type": "code",
   "execution_count": 6,
   "metadata": {},
   "outputs": [
    {
     "data": {
      "text/html": [
       "<div>\n",
       "<style scoped>\n",
       "    .dataframe tbody tr th:only-of-type {\n",
       "        vertical-align: middle;\n",
       "    }\n",
       "\n",
       "    .dataframe tbody tr th {\n",
       "        vertical-align: top;\n",
       "    }\n",
       "\n",
       "    .dataframe thead th {\n",
       "        text-align: right;\n",
       "    }\n",
       "</style>\n",
       "<table border=\"1\" class=\"dataframe\">\n",
       "  <thead>\n",
       "    <tr style=\"text-align: right;\">\n",
       "      <th></th>\n",
       "      <th>key</th>\n",
       "      <th>reason</th>\n",
       "      <th>recommendation</th>\n",
       "      <th>GS_response</th>\n",
       "      <th>Note</th>\n",
       "      <th>Rec_Returned</th>\n",
       "      <th>Reasoning</th>\n",
       "    </tr>\n",
       "  </thead>\n",
       "  <tbody>\n",
       "    <tr>\n",
       "      <th>0</th>\n",
       "      <td>D6253A5CE371EA</td>\n",
       "      <td>example with gastrointestinal bleed should continue PPI</td>\n",
       "      <td>continue</td>\n",
       "      <td>This patient has a history of a gastrointestinal bleeding which was present on the admission diagnosis.  The pantoprazole 20mg taken twice daily should be continued.  The GI bleed is mentioned in the note from 09/14/2023, on 09/17/2023, and on 09/20/2023.</td>\n",
       "      <td>NaN</td>\n",
       "      <td>continue</td>\n",
       "      <td>The patient has a documented history of gastrointestinal bleeding (GIB) or gastrointestinal hemorrhage, which suggests a history of bleeding GI ulcer. There is no specific information provided about other conditions such as esophagitis, GERD, Peptic Ulcer Disease, Barrett's Esophagus, or H pylori infection, so they are marked as false. The patient's medical history, including recent stroke and SAH, and presence of small AVMs, may suggest a higher risk for certain conditions, but without further information, these conditions cannot be confirmed.</td>\n",
       "    </tr>\n",
       "  </tbody>\n",
       "</table>\n",
       "</div>"
      ],
      "text/plain": [
       "              key                                                   reason  \\\n",
       "0  D6253A5CE371EA  example with gastrointestinal bleed should continue PPI   \n",
       "\n",
       "  recommendation  \\\n",
       "0       continue   \n",
       "\n",
       "                                                                                                                                                                                                                                                       GS_response  \\\n",
       "0  This patient has a history of a gastrointestinal bleeding which was present on the admission diagnosis.  The pantoprazole 20mg taken twice daily should be continued.  The GI bleed is mentioned in the note from 09/14/2023, on 09/17/2023, and on 09/20/2023.   \n",
       "\n",
       "  Note Rec_Returned  \\\n",
       "0  NaN     continue   \n",
       "\n",
       "                                                                                                                                                                                                                                                                                                                                                                                                                                                                                                                                                                Reasoning  \n",
       "0  The patient has a documented history of gastrointestinal bleeding (GIB) or gastrointestinal hemorrhage, which suggests a history of bleeding GI ulcer. There is no specific information provided about other conditions such as esophagitis, GERD, Peptic Ulcer Disease, Barrett's Esophagus, or H pylori infection, so they are marked as false. The patient's medical history, including recent stroke and SAH, and presence of small AVMs, may suggest a higher risk for certain conditions, but without further information, these conditions cannot be confirmed.  "
      ]
     },
     "execution_count": 6,
     "metadata": {},
     "output_type": "execute_result"
    }
   ],
   "source": [
    "labeled_data.head()"
   ]
  },
  {
   "cell_type": "code",
   "execution_count": 7,
   "metadata": {},
   "outputs": [],
   "source": [
    "labeled_data.to_csv('F:/LangChain/data/LabeledResponses_ReturnedResponse.csv', index=False)"
   ]
  },
  {
   "cell_type": "code",
   "execution_count": null,
   "metadata": {},
   "outputs": [],
   "source": []
  }
 ],
 "metadata": {
  "kernelspec": {
   "display_name": ".venv",
   "language": "python",
   "name": "python3"
  },
  "language_info": {
   "codemirror_mode": {
    "name": "ipython",
    "version": 3
   },
   "file_extension": ".py",
   "mimetype": "text/x-python",
   "name": "python",
   "nbconvert_exporter": "python",
   "pygments_lexer": "ipython3",
   "version": "3.10.10"
  }
 },
 "nbformat": 4,
 "nbformat_minor": 2
}
