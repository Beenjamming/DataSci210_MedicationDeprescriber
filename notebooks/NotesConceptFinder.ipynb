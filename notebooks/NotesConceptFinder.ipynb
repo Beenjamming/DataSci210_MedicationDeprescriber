{
 "cells": [
  {
   "cell_type": "code",
   "execution_count": 1,
   "metadata": {},
   "outputs": [],
   "source": [
    "#%pip install pandas\n",
    "#%pip install numpy\n",
    "#%pip install langchain\n",
    "#%pip install langchain-community\n",
    "#%pip install langchain-groq\n",
    "#%pip install sentence-transformers\n",
    "#%pip install -U langchain-community faiss-cpu langchain-openai tiktoken"
   ]
  },
  {
   "cell_type": "code",
   "execution_count": 2,
   "metadata": {},
   "outputs": [],
   "source": [
    "#D6253A5CE371EA- example with gastrointestinal bleed should continue PPI \n",
    "#DFAFED1811B871- example with a documented history of a GI bleed should continue PPI\n",
    "#D4865B8BBB294E- example with GI bleeding that occurred during inpatient stay should continue PPI\n",
    "#D00F3A8D5F43B2- example with symptoms of heartburn (upper GI symptoms) evaluate for endoscopy to determine if PPI is needed\n",
    "#D8017C77BA15FA- 14d h pylori treatment if pt treated for 2wks and asymptomatic, stop PPI\n",
    "#DA15CCF42ACF8B- Barrett's esophagus, continue PPI\n",
    "#D45728A2EFD315- example with esophagitis, continue PPI\n",
    "#DFB07E6B8F0957- example with chronic NSAID use and pharmacist deprescribing note to evaluate for PPI\n",
    "#D1BD3665C06499- example where pt should be on due to history of surgery and chronic GERD symptoms\n",
    "#D068E26FFF9F43- example where pt came in on and no clear reason to continue\n",
    "#D0E44FD0BBD96F- example where pt came in on and no clear reason to continue\n",
    "#D17AFAD1D7BB68- should stop PPI based on Fundoplication being performed while pt was in surgery\n",
    "#DF7052FF1CE151- example where the pt has GERD and has been marked to continue PPI\n"
   ]
  },
  {
   "cell_type": "code",
   "execution_count": 3,
   "metadata": {},
   "outputs": [],
   "source": [
    "import pandas as pd\n",
    "import numpy as np\n",
    "from langchain_core.prompts import ChatPromptTemplate\n",
    "from langchain_groq import ChatGroq\n",
    "import os \n",
    "import json\n",
    "from langchain_core.runnables import RunnablePassthrough\n",
    "\n",
    "#define groq key \n",
    "groq_key = os.environ['groqkey']\n"
   ]
  },
  {
   "cell_type": "code",
   "execution_count": 4,
   "metadata": {},
   "outputs": [],
   "source": [
    "#model variables\n",
    "llama_70 = 'llama3-70b-8192'\n",
    "llama_31 = 'llama-3.1-70b-versatile'\n",
    "mixtral = \"mixtral-8x7b-32768\"\n",
    "gemma_2 = 'gemma2-9b-it'\n",
    "llama_tool_70 = 'llama3-groq-70b-8192-tool-use-preview'\n",
    "\n",
    "gemma = ChatGroq(\n",
    "    temperature=0,\n",
    "    model=gemma_2,\n",
    "    api_key=groq_key \n",
    ")\n",
    "\n",
    "mixtral = ChatGroq(\n",
    "    temperature=0,\n",
    "    model=mixtral,\n",
    "    api_key=groq_key \n",
    ")\n",
    "\n",
    "llama3 = ChatGroq(\n",
    "    temperature=0,\n",
    "    model=llama_70,\n",
    "    api_key=groq_key \n",
    ")\n",
    "\n",
    "llama_tool = ChatGroq(\n",
    "    temperature=0,\n",
    "    model=llama_70,\n",
    "    api_key=groq_key \n",
    ")\n",
    "\n",
    "llama_3_1 = ChatGroq(\n",
    "    temperature=0,\n",
    "    model=llama_31,\n",
    "    api_key=groq_key \n",
    ")"
   ]
  },
  {
   "cell_type": "code",
   "execution_count": 5,
   "metadata": {},
   "outputs": [
    {
     "data": {
      "text/plain": [
       "AIMessage(content=\"When considering PPI (Proton Pump Inhibitor) deprescribing for a patient at discharge, several factors should be evaluated to ensure safe and effective discontinuation. Here are the key considerations:\\n\\n1. **Indication for PPI use**: Review the original reason for starting the PPI. If the indication was for a short-term condition, such as gastroesophageal reflux disease (GERD) or peptic ulcer disease, and the condition has resolved, deprescribing may be appropriate.\\n2. **Duration of PPI use**: Assess the length of time the patient has been taking the PPI. Patients who have been on PPIs for less than 8 weeks are generally considered low-risk for rebound acid hypersecretion and may be more likely to tolerate discontinuation.\\n3. **Dose and frequency**: Evaluate the dose and frequency of the PPI. Patients on higher doses or more frequent dosing may require a more gradual taper to minimize rebound symptoms.\\n4. **Symptom control**: Assess the patient's current symptoms and whether they are well-controlled on the PPI. If symptoms are well-controlled, deprescribing may be considered.\\n5. **Risk of rebound acid hypersecretion**: Consider the patient's risk of rebound acid hypersecretion, which can occur after PPI discontinuation. Patients with a history of severe GERD, peptic ulcer disease, or those who have been on PPIs for an extended period may be at higher risk.\\n6. **Alternative treatments**: Evaluate alternative treatments for the patient's condition, such as histamine-2 (H2) blockers or antacids, which may be suitable for long-term use.\\n7. **Patient education and monitoring**: Educate the patient on the risks and benefits of PPI deprescribing and the importance of monitoring for rebound symptoms. Schedule follow-up appointments to assess the patient's response to deprescribing.\\n8. **Gradual taper**: Consider a gradual taper of the PPI dose to minimize rebound symptoms. A common tapering schedule is to reduce the dose by 50% every 1-2 weeks until the patient is off the PPI.\\n9. **Patient comorbidities**: Consider the patient's comorbidities, such as osteoporosis, kidney disease, or cardiovascular disease, which may be affected by PPI use or discontinuation.\\n10. **Medication interactions**: Evaluate potential interactions between the PPI and other medications the patient is taking, which may be affected by PPI deprescribing.\\n\\nBy carefully evaluating these factors, healthcare providers can safely and effectively deprescribe PPIs for patients at discharge, minimizing the risk of rebound symptoms and promoting optimal medication management.\", response_metadata={'token_usage': {'completion_tokens': 548, 'prompt_tokens': 65, 'total_tokens': 613, 'completion_time': 2.240329263, 'prompt_time': 0.015511181, 'queue_time': 0.005500745, 'total_time': 2.255840444}, 'model_name': 'llama-3.1-70b-versatile', 'system_fingerprint': 'fp_b6828be2c9', 'finish_reason': 'stop', 'logprobs': None}, id='run-43a92643-4d9d-41e4-832b-b89648df0cff-0', usage_metadata={'input_tokens': 65, 'output_tokens': 548, 'total_tokens': 613})"
      ]
     },
     "execution_count": 5,
     "metadata": {},
     "output_type": "execute_result"
    }
   ],
   "source": [
    "system = \"You are a knowledgeable medical provider who specializes in medication management.\"\n",
    "human = \"{text}\"\n",
    "prompt = ChatPromptTemplate.from_messages([(\"system\", system), (\"human\", human)])\n",
    "\n",
    "chain = prompt | llama_3_1\n",
    "chain.invoke({\"text\": \"Explain what should be evaluated for PPI deprescribing for a patient at discharge.\"})"
   ]
  },
  {
   "cell_type": "code",
   "execution_count": 6,
   "metadata": {},
   "outputs": [],
   "source": [
    "from langchain_community.embeddings import HuggingFaceEmbeddings\n",
    "from langchain_text_splitters import RecursiveCharacterTextSplitter\n",
    "#embeddings = HuggingFaceEmbeddings(model_name=\"NeuML/pubmedbert-base-embeddings\")\n",
    "text_splitter = RecursiveCharacterTextSplitter()"
   ]
  },
  {
   "cell_type": "code",
   "execution_count": 7,
   "metadata": {},
   "outputs": [],
   "source": [
    "#from transformers import AutoTokenizer, AutoModel\n",
    "#import torch\n",
    "#\n",
    "#class ClinicalBERTEmbeddings:\n",
    "#    def __init__(self, model_name=\"emilyalsentzer/Bio_ClinicalBERT\"):\n",
    "#        self.tokenizer = AutoTokenizer.from_pretrained(model_name)\n",
    "#        self.model = AutoModel.from_pretrained(model_name)\n",
    "#\n",
    "#    def embed(self, text):\n",
    "#        inputs = self.tokenizer(text, return_tensors=\"pt\", truncation=True, padding=True)\n",
    "#        with torch.no_grad():\n",
    "#            outputs = self.model(**inputs)\n",
    "#            embeddings = outputs.last_hidden_state[:, 0, :]  # Use the [CLS] token's embedding\n",
    "#        return embeddings\n",
    "\n",
    "# Example usage\n",
    "#embedding_model = ClinicalBERTEmbeddings()"
   ]
  },
  {
   "cell_type": "code",
   "execution_count": 8,
   "metadata": {},
   "outputs": [
    {
     "name": "stderr",
     "output_type": "stream",
     "text": [
      "C:\\Users\\micha\\AppData\\Local\\Temp\\ipykernel_18892\\1720670115.py:1: LangChainDeprecationWarning: The class `HuggingFaceEmbeddings` was deprecated in LangChain 0.2.2 and will be removed in 1.0. An updated version of the class exists in the langchain-huggingface package and should be used instead. To use it run `pip install -U langchain-huggingface` and import as `from langchain_huggingface import HuggingFaceEmbeddings`.\n",
      "  embeddings = HuggingFaceEmbeddings(model_name=\"emilyalsentzer/Bio_ClinicalBERT\")\n",
      "f:\\LangChain\\.venv\\lib\\site-packages\\sentence_transformers\\cross_encoder\\CrossEncoder.py:13: TqdmWarning: IProgress not found. Please update jupyter and ipywidgets. See https://ipywidgets.readthedocs.io/en/stable/user_install.html\n",
      "  from tqdm.autonotebook import tqdm, trange\n",
      "No sentence-transformers model found with name emilyalsentzer/Bio_ClinicalBERT. Creating a new one with mean pooling.\n",
      "f:\\LangChain\\.venv\\lib\\site-packages\\transformers\\tokenization_utils_base.py:1601: FutureWarning: `clean_up_tokenization_spaces` was not set. It will be set to `True` by default. This behavior will be depracted in transformers v4.45, and will be then set to `False` by default. For more details check this issue: https://github.com/huggingface/transformers/issues/31884\n",
      "  warnings.warn(\n"
     ]
    }
   ],
   "source": [
    "embeddings = HuggingFaceEmbeddings(model_name=\"emilyalsentzer/Bio_ClinicalBERT\")"
   ]
  },
  {
   "cell_type": "code",
   "execution_count": 9,
   "metadata": {},
   "outputs": [],
   "source": [
    "def extract_json_from_content(content):\n",
    "    # Find the JSON part within the content\n",
    "    start_index = content.find('{')\n",
    "    end_index = content.rfind('}') + 1\n",
    "    json_str = content[start_index:end_index]\n",
    "\n",
    "    # Parse the JSON string\n",
    "    parsed_json = json.loads(json_str)\n",
    "    \n",
    "    return parsed_json"
   ]
  },
  {
   "cell_type": "code",
   "execution_count": 10,
   "metadata": {},
   "outputs": [],
   "source": [
    "base_path = \"F:/LangChain/data/\"\n",
    "#noteConcepts = pd.read_csv(base_path + 'noteConcepts.txt', sep=\"|\")\n",
    "encounters = pd.read_csv(base_path + 'encounters.txt', sep=\"|\")\n",
    "#orders = pd.read_csv(base_path + 'orders.txt', sep=\"|\")\n",
    "#hospitalAcquiredDx = pd.read_csv(base_path + 'hospitalAcquiredDx.txt', sep=\"|\")\n",
    "#noteText = pd.read_csv(base_path + 'noteText.txt', sep=\"|\")\n",
    "#presentOnAdmitDx = pd.read_csv(base_path + 'presentOnAdmitDx.txt', sep=\"|\")\n",
    "#select random EncounterKey\n",
    "noteText = pd.read_csv(base_path + 'noteText.csv')\n",
    "encounterKey = 'DA15CCF42ACF8B'\n",
    "#encounterKey = encounters.sample(1)['EncounterKey'].values[0]"
   ]
  },
  {
   "cell_type": "code",
   "execution_count": 11,
   "metadata": {},
   "outputs": [],
   "source": [
    "#select 30 random encounterKeys\n",
    "\n",
    "encounterKeys = encounters.sample(30)['EncounterKey'].values"
   ]
  },
  {
   "cell_type": "code",
   "execution_count": 12,
   "metadata": {},
   "outputs": [],
   "source": [
    "#filter noteText for encounterKey\n",
    "noteText = noteText[noteText['EncounterKey'].isin(encounterKeys)]"
   ]
  },
  {
   "cell_type": "code",
   "execution_count": 11,
   "metadata": {},
   "outputs": [],
   "source": [
    "#filter all dfs to the selected EncounterKey\n",
    "#noteConcepts = noteConcepts[noteConcepts['EncounterKey'] == encounterKey]\n",
    "#orders = orders[orders['EncounterKey'] == encounterKey]\n",
    "#hospitalAcquiredDx = hospitalAcquiredDx[hospitalAcquiredDx['EncounterKey'] == encounterKey]\n",
    "#noteText = noteText[noteText['EncounterKey'] == encounterKey]\n",
    "#presentOnAdmitDx = presentOnAdmitDx[presentOnAdmitDx['EncounterKey'] == encounterKey]\n",
    "#encounters = encounters[encounters['EncounterKey'] == encounterKey]"
   ]
  },
  {
   "cell_type": "code",
   "execution_count": 15,
   "metadata": {},
   "outputs": [
    {
     "data": {
      "text/html": [
       "<div>\n",
       "<style scoped>\n",
       "    .dataframe tbody tr th:only-of-type {\n",
       "        vertical-align: middle;\n",
       "    }\n",
       "\n",
       "    .dataframe tbody tr th {\n",
       "        vertical-align: top;\n",
       "    }\n",
       "\n",
       "    .dataframe thead th {\n",
       "        text-align: right;\n",
       "    }\n",
       "</style>\n",
       "<table border=\"1\" class=\"dataframe\">\n",
       "  <thead>\n",
       "    <tr style=\"text-align: right;\">\n",
       "      <th></th>\n",
       "      <th>deid_note_key</th>\n",
       "      <th>EncounterKey</th>\n",
       "      <th>NoteDate</th>\n",
       "      <th>DepartmentSpecialty</th>\n",
       "      <th>ProviderSpecialty</th>\n",
       "      <th>ProviderType</th>\n",
       "      <th>NoteText</th>\n",
       "    </tr>\n",
       "  </thead>\n",
       "  <tbody>\n",
       "    <tr>\n",
       "      <th>count</th>\n",
       "      <td>1364</td>\n",
       "      <td>1364</td>\n",
       "      <td>1364</td>\n",
       "      <td>1364</td>\n",
       "      <td>938</td>\n",
       "      <td>1364</td>\n",
       "      <td>1364</td>\n",
       "    </tr>\n",
       "    <tr>\n",
       "      <th>unique</th>\n",
       "      <td>1364</td>\n",
       "      <td>30</td>\n",
       "      <td>51</td>\n",
       "      <td>2</td>\n",
       "      <td>39</td>\n",
       "      <td>8</td>\n",
       "      <td>1253</td>\n",
       "    </tr>\n",
       "    <tr>\n",
       "      <th>top</th>\n",
       "      <td>D001B80289FDF7</td>\n",
       "      <td>D671A9D60DED51</td>\n",
       "      <td>2023-09-19</td>\n",
       "      <td>Inpatient Nursing</td>\n",
       "      <td>UCSF</td>\n",
       "      <td>Physician</td>\n",
       "      <td>The following orders were created for panel or...</td>\n",
       "    </tr>\n",
       "    <tr>\n",
       "      <th>freq</th>\n",
       "      <td>1</td>\n",
       "      <td>160</td>\n",
       "      <td>87</td>\n",
       "      <td>1346</td>\n",
       "      <td>317</td>\n",
       "      <td>426</td>\n",
       "      <td>31</td>\n",
       "    </tr>\n",
       "  </tbody>\n",
       "</table>\n",
       "</div>"
      ],
      "text/plain": [
       "         deid_note_key    EncounterKey    NoteDate DepartmentSpecialty  \\\n",
       "count             1364            1364        1364                1364   \n",
       "unique            1364              30          51                   2   \n",
       "top     D001B80289FDF7  D671A9D60DED51  2023-09-19   Inpatient Nursing   \n",
       "freq                 1             160          87                1346   \n",
       "\n",
       "       ProviderSpecialty ProviderType  \\\n",
       "count                938         1364   \n",
       "unique                39            8   \n",
       "top                 UCSF    Physician   \n",
       "freq                 317          426   \n",
       "\n",
       "                                                 NoteText  \n",
       "count                                                1364  \n",
       "unique                                               1253  \n",
       "top     The following orders were created for panel or...  \n",
       "freq                                                   31  "
      ]
     },
     "execution_count": 15,
     "metadata": {},
     "output_type": "execute_result"
    }
   ],
   "source": [
    "noteText.describe()\n",
    "#noteText.head()"
   ]
  },
  {
   "cell_type": "code",
   "execution_count": 14,
   "metadata": {},
   "outputs": [],
   "source": [
    "#filter noteTest to only include ProviderType in ['Resident', 'Physician', 'Registered Nurse', 'Nurse Practitioner',  'Physician Assistant', 'Pharmacist', 'Licensed Vocational Nurse', 'Medical Student', 'Pharmacy Student', 'Nursing Student', ’'Registered Dietitian', 'Dietetic Intern'\n",
    "noteText = noteText[noteText['ProviderType'].isin(['Resident', 'Physician', 'Registered Nurse', 'Nurse Practitioner',  'Physician Assistant', 'Pharmacist', 'Licensed Vocational Nurse', 'Medical Student', 'Pharmacy Student', 'Nursing Student', 'Registered Dietitian', 'Dietetic Intern'])]"
   ]
  },
  {
   "cell_type": "code",
   "execution_count": 16,
   "metadata": {},
   "outputs": [],
   "source": [
    "from langchain_community.document_loaders import DataFrameLoader\n",
    "loader = DataFrameLoader(\n",
    " data_frame = noteText,\n",
    " page_content_column = \"NoteText\",\n",
    " engine=\"pandas\",\n",
    ")\n",
    "\n",
    "documents = loader.load_and_split()"
   ]
  },
  {
   "cell_type": "code",
   "execution_count": 17,
   "metadata": {},
   "outputs": [
    {
     "name": "stdout",
     "output_type": "stream",
     "text": [
      "page_content='Advance Care Planning     Discussed with: ***** ***** ***** ***** ***** *****    Summary of discussion:   In the setting of his overall stable illness Mr. ***** shared that he would be interested in all life-saving measures such as chest compressions and intubation. He shares that although this has been a challenging year given his pneumonia and car accident he leads a happy life overall. In particular he enjoys walking along a ***** with a view of the ***** ***** ***** at *****'s End. He shares that he has a positive relationship with his ***** year-old son who lives with him part-time and his first wife whom he trusts to make medical decisions for him should he be unable to. When asked about life-prolonging measures he asks that we do \"\"anything that gives me five more years.\"\"    Surrogate decision maker:   Identified as:   Name: ***** ***** (*****-*****-*****)  Relationship to patient: Former wife  Surrogate is aware that they are designated surrogate? Unknown    ***** sustaining treatment preferences (i.e. Code): Full       \"' metadata={'deid_note_key': 'D0132628032FB0', 'EncounterKey': 'DD952F0D84745E', 'NoteDate': '2023-09-19', 'DepartmentSpecialty': 'Inpatient Nursing', 'ProviderSpecialty': 'UCSF', 'ProviderType': 'Resident'}\n",
      "2658\n"
     ]
    }
   ],
   "source": [
    "print(documents[10])\n",
    "print(len(documents))\n"
   ]
  },
  {
   "cell_type": "code",
   "execution_count": 18,
   "metadata": {},
   "outputs": [],
   "source": [
    "import faiss\n",
    "from langchain_community.docstore.in_memory import InMemoryDocstore\n",
    "from langchain_community.vectorstores import FAISS\n",
    "\n",
    "\n",
    "vector_store = FAISS.from_documents(documents, embeddings)\n",
    "#vecor_store = FAISS.from_documents(documents, embedding_model)"
   ]
  },
  {
   "cell_type": "code",
   "execution_count": 50,
   "metadata": {},
   "outputs": [],
   "source": [
    "results = vector_store.similarity_search_with_score(\"Does this patient have severe esophagitis?\",k=10)\n",
    "    #,search_type=\"similarity_score_threshold\",\n",
    "    #search_kwargs={'score_threshold': 0.99})"
   ]
  },
  {
   "cell_type": "code",
   "execution_count": 51,
   "metadata": {},
   "outputs": [
    {
     "name": "stdout",
     "output_type": "stream",
     "text": [
      "* [SIM=30.535692] that would be treated by IV antibiotics at this point recommend stopping antibiotics and monitoring. It sounds like her encephalopathy began with lack of access to lactulose and of course this would set her up for aspiration.    #Leukocytosis now resolved    Dx  - follow up \" [{'deid_note_key': 'DABCCB7FDDF21B', 'EncounterKey': 'D671A9D60DED51', 'NoteDate': '2023-09-01', 'DepartmentSpecialty': 'Inpatient Nursing', 'ProviderSpecialty': 'Hospital Medicine', 'ProviderType': 'Physician'}]\n",
      "* [SIM=32.456718] headache meningismus sinus pain fevers and hypotension concerning for infectious meningitis. Source could be bacterial viral or fungal given recent liver transplant and immunosuppression. Could also have overlapping bile leak and infected biloma. Differential also \" [{'deid_note_key': 'DD0D1854C965E2', 'EncounterKey': 'D8D46ABC7D3697', 'NoteDate': '2023-09-04', 'DepartmentSpecialty': 'Inpatient Nursing', 'ProviderSpecialty': 'General Surgery', 'ProviderType': 'Physician'}]\n",
      "* [SIM=32.918732] cirrhosis s/p TIPS APLS not on AC d/t prior spontaneous SDH aplastic anemia spontaneous coronary artery dissection with STEMI esophageal dysphagia and multiple SSTIs who presented originally on August 11 as a referral from her PCP for R thigh mass since fth R PTX and \" pneumomediastinum with apical consolidations. The pulmonary team was asked to evaluate for the utility of bronchoscopy in order to obtain a sputum sample to further characterize apical consolidations without cough induction d/t pneumomediastinum.    On review of imaging with radiology apical consolidations developed rapidly. Pt endorses significant dysphagia with coughing and choking induced by eating or drinking. When reviewing imaging there does not appear to be an underlying lung disease process responsible for spontaneous pneumomediastinum and PTX. Combining pt hx and temporal relationship of consolidation process most likely explanation for severe cough and worsening consolidations is aspiration event with very low c/f TB (previous negative ***** rapidly developing process). Coughing d/t aspiration likely caused pneumomediastinum and PTX through barotrauma. Current antibiotic regimen will cover a bacterial PNA. We feel comfortable based on this assessment in not pursuing further workup of consolidations.    Recommendations:  - Aspiration precautions  - No plans for bronchoscopy      Code Status: FULL    ***** ***** MS4  08/15/2023      \" [{'deid_note_key': 'DA41DA11FA757F', 'EncounterKey': 'D671A9D60DED51', 'NoteDate': '2023-08-15', 'DepartmentSpecialty': 'Inpatient Nursing', 'ProviderSpecialty': nan, 'ProviderType': 'Medical Student'}]\n",
      "* [SIM=33.065208] cholecystitis s/p cholecystectomy adrenal insufficiency hypothyroid central hernia s/p bowel resection gastritis LGI bleed admitted on 08/17/23 with a right soft tissue infection course c/b pneumothorax/pneumomediastinum AKI demand ischemia acute hypoxic respiratory failure \" requiring intubation (August 17-August 22) now w/ ongoing complaints of pain though appears improved since re-initiating home methadone inpatient.     RECOMMENDATIONS     - Would not initiate ketamine in setting unclear acute pain issue  - Continue home methadone 2.5mg BID  - If concern for poorly controlled pain would trial oxycodone PRN order rather than titrating home methadone       Thank you for this consult and allowing us to participate in the care of this patient.   Please page the Chronic Pain Service at *****.***** with any questions or concerns.  During daytime hours this author may also be available on Voalte.   \" [{'deid_note_key': 'D4A706D508FB30', 'EncounterKey': 'D671A9D60DED51', 'NoteDate': '2023-08-25', 'DepartmentSpecialty': 'Inpatient Nursing', 'ProviderSpecialty': 'UCSF', 'ProviderType': 'Resident'}]\n",
      "* [SIM=33.495792] AKI in the setting of urine infection possible transplant pyelonephritis and rejection  On Abx and anti rejection medication     \" [{'deid_note_key': 'D049E266B31846', 'EncounterKey': 'DAE337BCA890E4', 'NoteDate': '2023-09-19', 'DepartmentSpecialty': 'Inpatient Nursing', 'ProviderSpecialty': 'UCSF', 'ProviderType': 'Resident'}]\n",
      "* [SIM=33.931190] THORACIC SURGERY INITIAL CONSULT NOTE     Consult requested by Dr. ***** of the Medicine service for evaluation of R pneumothorax R mediastinum.    History of Present Illness  Ms. ***** is a 38W with short telomere syndrome decompensated cryptogenic cirrhosis s/p TIPS APLS (not on AC due to history of spontaneous SDH) aplastic anemia spontaneous coronary artery dissection & STEMI  aplastic anemia esophageal dysphagia prior small bowel obstruction requiring resection and multiple SSTIs who presents with a number of concerns including a palpable right leg mass concerning for abscess vs hematoma multiple recent falls and chronic cough abdominal and chest pain.  She was also found to have a RLE hematoma and blood cx +GPRs for which she was started on empiric vanc/zosyn.   CT A/P revealed a partially visualized pneumothorax and ***** concerning for possible esophageal perforation.  CT esophagram pending.     Currently reports pain \"\"all over\"\" but specifically in throat area. Was able to tolerate po yesterday without issues. No recent vomiting but pt has had a persistent cough overnight. Subq emphysema noted in the R clavicular area on CXR.     Per chart review pt has had hx of dysphagia to solids and odynophagia since September 2022 followed by ***** ***** motility. She has hx of long standing abdominal complaints likely from *****/gastritis ascites. There is mention of prior esophageal perforation in multiple notes but no further details about what was done at the time.      CT esophagram 11/13/2022 No esophageal perforation or leak.     EGD/manometry 11/22/2022 The lower esophageal sphincter was hypertensive and deglutitive relaxation was abnormal with elevated integrated residual pressure and distal ***** pressurization which persists in upright position. Primary peristalsis was seen with 100 % of wet swallows and the distal contractile integral distal latency and contraction pattern \" were normal. Multiple rapid swallow maneuver was consistent with normal motor reserve. Normal swallows in upright position. Impedance showed complete bolus transit with 100 % of swallows. Upper esophageal sphincter function appeared unremarkable.     EGD 06/14/2023 with findings of erosive gastritis and duodenal symptoms of celiac disease.     Past Medical History:   Diagnosis Date    Antiphospholipid antibody positive     Not on anticoagulation due to spontaneous SDH    Aplastic anemia (CMS code)     Consanguinity     ***** are fist *****    Coronary artery dissection     Esophageal varices (CMS code)     Liver cirrhosis (CMS code)     Cryptogenic complicated by hepatic encephalopathy s/p TIPS    Pancytopenia (CMS code) 09/26/2013    Pericardial effusion     STEMI (ST elevation myocardial infarction) (CMS code)     s/p mid-LAD thrombectomy and LAD dissection    Subdural hematoma (CMS code)     Spontaneous thought to be due to hypercoagulability    Umbilical hernia     hx of incarceration now repaired     Past Surgical History:   Procedure Laterality Date    BONE MARROW BIOPSY  2009    BONE MARROW BIOPSY  2011    COLONOSCOPY  May 2020    EXPLORATORY LAPAROTOMY  09/16/2020    s/p exploratory laparotomy. control of hemorrhage lysis of adhesions subtotal cholecystectomy & vicryl mesh underlay (intra-peritoneal)  by Dr. ***** and Dr. *****    ***** ***** REVISION W/STENT (ORDERABLE BY IR SERVICE ONLY)  05/12/2021    ***** TIPS REVISION W/STENT (ORDERABLE BY IR SERVICE ONLY) 05/12/2021 ***** ***** ***** MD RAD IR PARN    LIVER BIOPSY      molar extraction  06/21/2017    PARACENTESIS  2015    December 2014 January 2015 February 2015    percutaneous cholecystostomy tube      ***** ***** VHR  07/16/2020    Dr. *****    small bowel resection primary ***** hernia  09/29/2019    SMALL INTESTINE SURGERY  04/26/2017    SBO with *****     SMALL INTESTINE SURGERY  2015    TIPS PROCEDURE      UMBILICAL HERNIA REPAIR      05/05/15-05/20/15 \" after incarcerated umbilical hernia repair; 05/28/16-06/02/16 with strangulated recurrent ventral hernia with 3 cm small [{'deid_note_key': 'DD1A9542ED7AFB', 'EncounterKey': 'D671A9D60DED51', 'NoteDate': '2023-08-12', 'DepartmentSpecialty': 'Inpatient Nursing', 'ProviderSpecialty': nan, 'ProviderType': 'Physician Assistant'}]\n",
      "* [SIM=34.003510] and Biomedical Imaging     Assessment and Recommendations  ***** year old woman with a history of short telomere syndrome (without an identifiable genetic cause) cryptogenic cirrhosis s/p TIPS on cefpodoxime SBP prophylaxis APLS c/b prior STEMI aplastic anemia esophageal dysphagia spontaneous \" coronary artery dissection prior SBO requiring resection who presented to the ED August 11 with a R leg mass and fevers/chills in the setting of recent falls found to have possible RLE abscess and + blood cultures for Weissella cibaria confusa (November 29).  Also found to have pneumomediastinum but no findings consistent with esophageal leak on CT esophagram. CT chest also shows findings c/w aspiration vs PNA vs alveolar hemorrhage (lower lobe findings c/w aspiration but upper lobe distribution would be atypical for this). On exam she has a fluid collection in her R lateral thigh (+ satellite collections in her medial thigh) c/w possible superinfected (vs sterile) hematoma or abscess. Weissella cibaria confusa is a rare human pathogen but has been described as causing disease including bacteremia particularly in immunocompromised hosts.  It is unclear in this case if this is contaminant or true pathogen but given multiple possible foci of infection she is being covered regardless with antibiotics.  Optimal antimicrobial has not been established but it is intrinsically resistant to vancomycin. Piperacillin/tazobactam and carbapenems should be active.    Since admission she has had persistent cough chest pain and worsening hypoxia and consolidations in the upper lobes.  The appearance of the upper lobe findings is potentially consistent with aspiration but the distribution would be atypical.  She may be at risk for opportunistic infections in the setting of short telomere syndrome although her infections in the past have been with typical organisms.  The appearance is atypical for TB as is the rapid progression but given epidemiologic risk factors (lived in ***** to teach English previously although ***** gold in January was negative) recommend rule out for TB although suspicion is low.     Dx:  - Follow up repeat BCx  - Agree with ultrasound-guided drainage of the lateral thigh fluid collection for sampling   - Please send \" bacterial fungal AFB cultures  - follow up pending ID tests as above  - R/o for TB with sputum AFB x 3 MTB PCR x 2  - Send sputum fungal/bacterial/legionella culture  - If ongoing worsening consider pulm consult for evaluation include consideration of bronchoscopy    Tx:  - Continue vancomycin goal trough 15-20  - continue meropenem ***** ***** ***** *****   - Continue doxycyline  - ***** need home SBP prophylaxis restarted once broad spectrum therapy is completed    We will continue to follow with you.  Please contact Consult ID General ***** (*****) via Voalte with questions.        I spent a total time of 50 minutes in this episode of care preparing to see the patient obtaining and/or reviewing separately obtained history performing a medically appropriate examination and/or evaluation counseling and educating patient/family/caregiver ordering and reviewing medications tests or procedures referring and communicating with other health care professionals documenting clinical information in the electronic or other health record and communicating results to the patient/family/caregiver and/or other care coordination.      ***** ***** M.D.   Infectious Disease Attending      \" [{'deid_note_key': 'D7EEED4FC7CAD9', 'EncounterKey': 'D671A9D60DED51', 'NoteDate': '2023-08-15', 'DepartmentSpecialty': 'Inpatient Nursing', 'ProviderSpecialty': 'Infectious Diseases', 'ProviderType': 'Physician'}]\n",
      "* [SIM=34.039532] atrial pressure of 3 mmHg.  Aorta: Aortic root dimension is normal.  Pericardium: No pericardial effusion noted.  Other: A left pleural effusion is noted.    Assessment and Recommendations  ***** year old woman with a history of short telomere syndrome (without an identifiable genetic cause) cryptogenic cirrhosis s/p TIPS on cefpodoxime SBP prophylaxis APLS c/b prior STEMI \" aplastic anemia esophageal dysphagia spontaneous coronary artery dissection prior SBO requiring resection who presented to the ED August 11 with a R leg mass and fevers/chills in the setting of recent falls found to have possible RLE abscess and + blood cultures for Weissella cibaria confusa (November 29).  Also found to have pneumomediastinum but no findings consistent with esophageal leak on CT esophagram. CT chest also shows findings c/w aspiration vs PNA vs alveolar hemorrhage.     She may be at risk for opportunistic infections in the setting of short telomere syndrome although her infections in the past have been with typical organisms and currently there is no evidence of atypical   The appearance is atypical for TB as is the rapid progression but given epidemiologic risk factors (lived in ***** to teach English previously although ***** gold in January was negative) initially recommend rule out for TB although suspicion is low.  She is not producing sputum so we have been unable to do this and given evidence of barotrauma causing pneumothorax/pneumomediastinum I do not think inducing would be worth the risk when suspicion is so low.  Ok to stop r/o and take off airborne.    Pulm involved and reviewed imaging with radiology noting apical consolidations developed rapidly. In pulm reviewing imaging there does not appear to be an underlying lung disease process responsible for spontaneous pneumomediastinum and PTX. Combining pt hx and temporal relationship of consolidation process pulm thinks likely explanation for severe cough and worsening consolidations is aspiration event with very low c/f TB (previous negative ***** rapidly developing process). Coughing d/t aspiration likely caused pneumomediastinum and PTX through barotrauma. Current antibiotic regimen will cover a bacterial PNA. They do not recommend bronch.  She had an acute event with worsening hypoxemic respiratory failure in setting of epistaxis and \" imaging shows worsening of pulm pathology all consistent with new and significant aspiration.  We can follow up pending ID tests but overall this is consistent with aspiration pneumonia.      On imaging she had a fluid collection in her R lateral thigh (+ satellite collections in her medial thigh) c/w possible superinfected (vs sterile) hematoma or abscess. On exam it looks more like a hematoma but we should drain this and culture.  It could be related to the Weissella bcx.  If drained and looks infected could treat for 5-7 days from drainage.      Weissella cibaria confusa is a rare human pathogen but has been described as causing disease including bacteremia particularly in immunocompromised hosts.  It can also be present in the GI track so given her underlying liver pathology and immunocompromised state she could have transient bacteremia causing this.  TTE negative and repeat bcx NGTD.  I would treat this for 7 days with option to extend to 10 if patient slow to respond.  Another option is this could be a contaminant but I prefer to treat.  Optimal antimicrobial has not been established but it is intrinsically resistant to vancomycin. Piperacillin/tazobactam and carbapenems should be active.  Low MICs have been noted for penicillin ampicillin tetracycline clindamycin erythromycin ciprofloxacin daptomycin imipenem fluoroquinolones (levofloxacin moxifloxacin) amoxicillin-clavulanate ampicillin-sulbactam piperacillin-tazobactam and doripenem. W. confusa exhibits a high level of resistance to ceftazidime cotrimoxazole rifampin metronidazole teicoplanin and trimethoprim/*****.     # Weissella cibaria confusa bacteremia  - Follow up repeat BCx [{'deid_note_key': 'DF743592FF0E1B', 'EncounterKey': 'D671A9D60DED51', 'NoteDate': '2023-08-17', 'DepartmentSpecialty': 'Inpatient Nursing', 'ProviderSpecialty': 'Infectious Diseases', 'ProviderType': 'Physician'}]\n",
      "* [SIM=34.188431] and search for source query if related to the RLE fluid collections versus other source. Etiology unclear.  Tx:   1g I.V. Vanc q12h (August 11- )/ zosyn 4.5g (August 11-August 14) meropenem (August 14- )/Doxy (August 12-) to cover for atypical PNA given worsening consolidation on CXR     #Abdominal pain  Pt has diffuse stabbing abdominal pain of unclear time course (endorses 1 day to primary team several weeks to consultant and ED). Also has extensive history of admissions for abdominal pain due to peritonitis soft tissue infections obstruction and multiple prior surgeries including exlap small bowel resection. History of hemorrhagic cholecystitis in September 2020 w/ perforation c/b ESBL E coli bacteremia and refractory ascites had subtotal cholecystectomy. Abd is soft non-distended upon palpation however diffusely tender. Has prior history of SBP (mid 2019) as well as secondary bacterial peritonitis in *****-*****. C/f SBP given h/o cirrhosis intermittent AMS and abdominal pain. Also possible would be hepatobiliary pathology iso elevated LFTs although this is attributable to cirrhosis.   Less likely obstruction/constipation given pt has loose Bms regularly.  Least likely AAA or perforation given HDS and exam without rebound or guarding.  Dx:   - CTAP August 12 showing PTX pneumomediastinum no acute abdominal pathology  Tx:  -1g I.V. Vanc q12h (August 11- )/ zosyn 4.5g (August 11-August 14) meropenem (August 14- )/Doxy (August 12-) to cover for atypical PNA given worsening consolidation on CXR   - IV pantoprazole 40mg BID     Chronic Issues:   #Cryptogenic cirrhosis c/b ascites hepatic encephalopathy   Unclear etiology was last seen by hepatology 05/13/23 etiologies considered autoimmune hepatitis or steatohepatitis. Not currently listed for transplant.  - Resume home lactulose rifaximin  - Continued lasix 100mg BID and spironolactone 50mg daily for edema nadolol 20 bid for portal pressures  V - admitted for VOL July \" [{'deid_note_key': 'DD0620164CC911', 'EncounterKey': 'D671A9D60DED51', 'NoteDate': '2023-08-16', 'DepartmentSpecialty': 'Inpatient Nursing', 'ProviderSpecialty': nan, 'ProviderType': 'Registered Nurse'}]\n",
      "* [SIM=34.208427] Nplate was started following this with good response  [ ] restart Nplate if staying longer than 08/15/23  [ ] follow up head CT  - will hold DVT ppx for today     #Chart history of antiphospholipid syndrome  Has positive antiphospholipid Ab in 2005 however on repeat testing in 2014 antiphospholipid panel was negative. Some notes on chart review attribute her cirrhosis to this as well as some attribution of prior STEMI to this however unclear what the initial suspicion was will continue to chart review.  -CTM     #Aplastic anemia  Last BM Bx 06/19/13 at ***** w/ hypocellular marrow \" [{'deid_note_key': 'D3447E49E19950', 'EncounterKey': 'D671A9D60DED51', 'NoteDate': '2023-08-15', 'DepartmentSpecialty': 'Inpatient Nursing', 'ProviderSpecialty': nan, 'ProviderType': 'Registered Nurse'}]\n"
     ]
    }
   ],
   "source": [
    "for doc, score in results: \n",
    "    print(f\"* [SIM={score:3f}] {doc.page_content} [{doc.metadata}]\")"
   ]
  },
  {
   "cell_type": "code",
   "execution_count": 23,
   "metadata": {},
   "outputs": [],
   "source": [
    "def format_docs(docs):\n",
    "    return \"\\n\\n\".join(doc.page_content for doc in docs)"
   ]
  },
  {
   "cell_type": "code",
   "execution_count": 24,
   "metadata": {},
   "outputs": [],
   "source": [
    "retriever = vector_store.as_retriever(search_type=\"similarity\", k=10)"
   ]
  },
  {
   "cell_type": "code",
   "execution_count": 25,
   "metadata": {},
   "outputs": [
    {
     "name": "stdout",
     "output_type": "stream",
     "text": [
      "================================\u001b[1m System Message \u001b[0m================================\n",
      "\n",
      "You are a knowledgeable medical provider who specializes in medication management. Given a list of diagnosis and some snippets from patients notes \u001b[33;1m\u001b[1;3m{context}\u001b[0m, answer if the patient notes contain any of the diagnosis.\n",
      "\n",
      "================================\u001b[1m Human Message \u001b[0m=================================\n",
      "\n",
      "\u001b[33;1m\u001b[1;3m{input}\u001b[0m\n"
     ]
    }
   ],
   "source": [
    "system = \"You are a knowledgeable medical provider who specializes in medication management. Given a list of diagnosis and some snippets from patients notes {context}, answer if the patient notes contain any of the diagnosis.\"\n",
    "prompt = ChatPromptTemplate.from_messages(\n",
    "        [\n",
    "        (\"system\", system), (\"human\", \"{input}\")\n",
    "        ])\n",
    "prompt.pretty_print()"
   ]
  },
  {
   "cell_type": "code",
   "execution_count": 26,
   "metadata": {},
   "outputs": [],
   "source": [
    "from langchain_core.documents import Document\n",
    "from langchain_core.output_parsers import StrOutputParser\n",
    "from langchain_core.runnables import RunnablePassthrough"
   ]
  },
  {
   "cell_type": "code",
   "execution_count": 38,
   "metadata": {},
   "outputs": [],
   "source": [
    "rag_chain = (\n",
    "        RunnablePassthrough.assign(context=(lambda x: format_docs(x[\"context\"])))\n",
    "        | prompt \n",
    "        | llama_3_1\n",
    "        | StrOutputParser()\n",
    ")\n",
    "\n",
    "\n",
    "retrieve_docs =  {\"context\": retriever | format_docs,\n",
    "                \"input\": RunnablePassthrough()}\n",
    "\n",
    "retrieve_docs = (lambda x: x[\"input\"]) | retriever\n",
    "\n",
    "chain = RunnablePassthrough.assign(context=retrieve_docs).assign(\n",
    "    answer=rag_chain\n",
    ")"
   ]
  },
  {
   "cell_type": "code",
   "execution_count": 47,
   "metadata": {},
   "outputs": [
    {
     "name": "stdout",
     "output_type": "stream",
     "text": [
      "Based on the information provided in the patient notes, there are several indications that suggest the patient may benefit from continuing a proton pump inhibitor (PPI). These include:\n",
      "\n",
      "1. Gastritis: The patient has a history of gastritis, which is a condition characterized by inflammation of the stomach lining. PPIs are commonly used to treat gastritis by reducing stomach acid production.\n",
      "2. LGI bleed: The patient has a history of a lower gastrointestinal (LGI) bleed, which may be related to gastrointestinal ulcers or other conditions that can be managed with PPIs.\n",
      "3. Cholecystitis s/p cholecystectomy: The patient has a history of cholecystitis (inflammation of the gallbladder) and has undergone a cholecystectomy (removal of the gallbladder). PPIs may be used to manage symptoms of bile reflux or other gastrointestinal conditions that may occur after cholecystectomy.\n",
      "\n",
      "Given these indications, it is likely that the patient would benefit from continuing a PPI to manage their gastrointestinal symptoms and prevent further complications.\n"
     ]
    }
   ],
   "source": [
    "result = chain.invoke({\"input\":\"\"\"Based on the information from the note context, if a patient has a clear indication to continue a proton pump inhibitor PPI.\"\"\"})\n",
    "print(result[\"answer\"])"
   ]
  },
  {
   "cell_type": "code",
   "execution_count": 48,
   "metadata": {},
   "outputs": [
    {
     "name": "stdout",
     "output_type": "stream",
     "text": [
      "dict_keys(['input', 'context', 'answer'])\n"
     ]
    }
   ],
   "source": [
    "print(result.keys())"
   ]
  },
  {
   "cell_type": "code",
   "execution_count": 49,
   "metadata": {},
   "outputs": [
    {
     "data": {
      "text/plain": [
       "[Document(metadata={'deid_note_key': 'DABCCB7FDDF21B', 'EncounterKey': 'D671A9D60DED51', 'NoteDate': '2023-09-01', 'DepartmentSpecialty': 'Inpatient Nursing', 'ProviderSpecialty': 'Hospital Medicine', 'ProviderType': 'Physician'}, page_content='that would be treated by IV antibiotics at this point recommend stopping antibiotics and monitoring. It sounds like her encephalopathy began with lack of access to lactulose and of course this would set her up for aspiration.    #Leukocytosis now resolved    Dx  - follow up \"'),\n",
       " Document(metadata={'deid_note_key': 'D35A9A9003CFEB', 'EncounterKey': 'D079332799772C', 'NoteDate': '2023-09-15', 'DepartmentSpecialty': 'Inpatient Nursing', 'ProviderSpecialty': 'Nurse Practitioner', 'ProviderType': 'Nurse Practitioner'}, page_content='When you presented to the emergency department you were found to have an acute cardiac event called an ST elevation myocardial infarction and went to the cardiac catheterization lab.  There you had a left heart catheterization and were found to have significant blockages in your left anterior descending ***** 2 and left circumflex arteries.  It was decided that intervention would not be an your best interest and was not performed.  After being able to wean off of dobutamine you transferred to the floor with the cardiology team.  After discussion of the prognosis going forward being poor and discussion with yourself/family you have opted to pursue hospice care upon discharge home.  -There have been some medication adjustments that are included in your discharge packet please make sure to adhere to these new medication changes  -You only have 1 day remaining on your antibiotic course this will be amoxicillin 3 times a day for a 1 g dose each time  -You are being discharged on hospice care at home please coordinate your care going forward with the hospice agency and your primary care provider    It has been a pleasure being part of your care team and the cardiology team wishes you the best of luck going forward  \"'),\n",
       " Document(metadata={'deid_note_key': 'D4A706D508FB30', 'EncounterKey': 'D671A9D60DED51', 'NoteDate': '2023-08-25', 'DepartmentSpecialty': 'Inpatient Nursing', 'ProviderSpecialty': 'UCSF', 'ProviderType': 'Resident'}, page_content='cholecystitis s/p cholecystectomy adrenal insufficiency hypothyroid central hernia s/p bowel resection gastritis LGI bleed admitted on 08/17/23 with a right soft tissue infection course c/b pneumothorax/pneumomediastinum AKI demand ischemia acute hypoxic respiratory failure \" requiring intubation (August 17-August 22) now w/ ongoing complaints of pain though appears improved since re-initiating home methadone inpatient.     RECOMMENDATIONS     - Would not initiate ketamine in setting unclear acute pain issue  - Continue home methadone 2.5mg BID  - If concern for poorly controlled pain would trial oxycodone PRN order rather than titrating home methadone       Thank you for this consult and allowing us to participate in the care of this patient.   Please page the Chronic Pain Service at *****.***** with any questions or concerns.  During daytime hours this author may also be available on Voalte.   \"'),\n",
       " Document(metadata={'deid_note_key': 'D53F12DF85A0DC', 'EncounterKey': 'D671A9D60DED51', 'NoteDate': '2023-08-12', 'DepartmentSpecialty': 'Inpatient Nursing', 'ProviderSpecialty': 'Infectious Diseases', 'ProviderType': 'Physician'}, page_content='no findings consistent with esophageal leak on CT esophagram. Weissella cibaria confusa is a rare human pathogen but has been described as causing disease including bacteremia.  It is unclear in this case if this is contaminant or true pathogen but given systemic symptoms of infection (subjective fevers and chills) and possible soft tissue abscess agree with continuing antibiotics including coverage for this for now.  Optimal antimicrobial has not been established but it is intrinsically resistant to vancomycin.  Piperacillin/tazobactam is likely active. \"     Dx:  - Repeat BCx  - Agree with ultrasound-guided drainage of the lateral thigh fluid collection    Tx:  - Continue vancomycin and piperacillin/tazobactam -if clinical decompensation changed to daptomycin plus meropenem (alternate Weissella coverage meropenem given recent hx of ESBL infection)      We will continue to follow with you.  Please contact Consult ID General ***** (*****) via Voalte with questions.    ***** ***** MD  08/12/2023        ***** spent a total time of 75 minutes in this episode of care preparing to see the patient obtaining and/or reviewing separately obtained history performing a medically appropriate examination and/or evaluation counseling and educating patient/family/caregiver ordering and reviewing medications tests or procedures referring and communicating with other health care professionals documenting clinical information in the electronic or other health record and communicating results to the patient/family/caregiver and/or other care coordination.    \"')]"
      ]
     },
     "execution_count": 49,
     "metadata": {},
     "output_type": "execute_result"
    }
   ],
   "source": [
    "result[\"context\"]"
   ]
  },
  {
   "cell_type": "code",
   "execution_count": null,
   "metadata": {},
   "outputs": [],
   "source": []
  }
 ],
 "metadata": {
  "kernelspec": {
   "display_name": ".venv",
   "language": "python",
   "name": "python3"
  },
  "language_info": {
   "codemirror_mode": {
    "name": "ipython",
    "version": 3
   },
   "file_extension": ".py",
   "mimetype": "text/x-python",
   "name": "python",
   "nbconvert_exporter": "python",
   "pygments_lexer": "ipython3",
   "version": "3.10.10"
  }
 },
 "nbformat": 4,
 "nbformat_minor": 2
}
