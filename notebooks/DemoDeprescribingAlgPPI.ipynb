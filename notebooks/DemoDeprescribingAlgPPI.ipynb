{
 "cells": [
  {
   "cell_type": "code",
   "execution_count": 2,
   "metadata": {},
   "outputs": [],
   "source": [
    "import pandas as pd\n",
    "import numpy as np\n",
    "from langchain_core.prompts import ChatPromptTemplate\n",
    "from langchain_groq import ChatGroq\n",
    "import os \n",
    "import json\n",
    "from pathlib import Path\n"
   ]
  },
  {
   "cell_type": "markdown",
   "metadata": {},
   "source": [
    "# Deprescribing Algorithm for Proton Pump Inhibitor (PPI)\n",
    "\n",
    "Source: https://deprescribing.org/wp-content/uploads/2018/08/ppi-deprescribing-algorithm_2018_En.pdf"
   ]
  },
  {
   "cell_type": "markdown",
   "metadata": {},
   "source": [
    "# Questions\n",
    "How should we handle the stopping criteria: \"Uncomplicated H. pylori treated z 2 weeks and asymptomatic\"?"
   ]
  },
  {
   "cell_type": "code",
   "execution_count": 5,
   "metadata": {},
   "outputs": [],
   "source": [
    "example_json = {\n",
    "    'Mild to moderate esophagitis': False,\n",
    "    'GERD': False,\n",
    "    'Peptic Ulcer Disease': False,\n",
    "    'Upper GI symptoms': False,\n",
    "    'ICU Stress Ulcer Prophylaxis': False,\n",
    "    \"Barrett's Esophagus\": False,\n",
    "    'Chronic NSAID use with bleeding risk': False,\n",
    "    'Severe esophagitis': False,\n",
    "    'Documented history of bleeding GI ulcer': False,\n",
    "    'Reasoning': \"The provided JSON information does not explicitly mention any of the listed conditions. The primary diagnosis is 'Other chronic pancreatitis', which is related to the pancreas, not the esophagus or stomach. The DRG (Diagnosis-Related Group) is 'MAJOR PANCREAS, LIVER AND SHUNT PROCEDURES', which also suggests that the patient's condition is related to the pancreas and liver, rather than the esophagus or stomach. Therefore, based on the available information, it is not possible to confirm the presence of any of the listed conditions.\"\n",
    "}"
   ]
  },
  {
   "cell_type": "code",
   "execution_count": 8,
   "metadata": {},
   "outputs": [],
   "source": [
    "def PPIDeprescribe(patient_diagnosis: dict):\n",
    "    \"\"\"Given a patient diagnosis dictionary, recommend that the PPI be continued, decreased at a lower dose, or stopped.\n",
    "    \n",
    "    Inputs:\n",
    "        patient_diagnosis: dict\n",
    "            dictionary of patient diagnosis booleans\n",
    "    Returns:\n",
    "        recommendation: str\n",
    "            recommendation in the form of a string: \"continue\", \"decrease\", \"stop\"\n",
    "    \n",
    "    \"\"\"\n",
    "    recommendation_dict = [\"continue\", \"deprescribe\", \"stop\"]\n",
    "    recommendation = -1\n",
    "    \n",
    "    # check for continue PPI criteria\n",
    "    if patient_diagnosis[\"Barrett's Esophagus\"]:\n",
    "        recommendation = 0\n",
    "    if patient_diagnosis['Chronic NSAID use with bleeding risk']:\n",
    "        recommendation = 0\n",
    "    if patient_diagnosis['Severe esophagitis']:\n",
    "        recommendation = 0 \n",
    "    if patient_diagnosis['Documented history of bleeding GI ulcer']:\n",
    "        recommendation = 0 \n",
    "        \n",
    "    # Check for decrease but continue PPI criteria\n",
    "    if patient_diagnosis['Mild to moderate esophagitis']:\n",
    "        recommendation = 1 \n",
    "    if patient_diagnosis['GERD']:\n",
    "        recommendation = 1 \n",
    "        \n",
    "    # check for stop PPI criteria\n",
    "    if patient_diagnosis['Peptic Ulcer Disease']:\n",
    "        recommendation = 2\n",
    "    if patient_diagnosis['Chronic NSAID use with bleeding risk']:\n",
    "        recommendation = 2 \n",
    "    if patient_diagnosis['ICU Stress Ulcer Prophylaxis']:\n",
    "        recommendation = 2 \n",
    "        \n",
    "    # if PPI cause is still unknown, recommend decrease\n",
    "    if recommendation == -1:\n",
    "        recommendation = 1\n",
    "\n",
    "    return recommendation_dict[recommendation]"
   ]
  },
  {
   "cell_type": "code",
   "execution_count": 9,
   "metadata": {},
   "outputs": [
    {
     "data": {
      "text/plain": [
       "'decrease'"
      ]
     },
     "execution_count": 9,
     "metadata": {},
     "output_type": "execute_result"
    }
   ],
   "source": [
    "PPIDeprescribe(patient_diagnosis=example_json)"
   ]
  },
  {
   "cell_type": "code",
   "execution_count": null,
   "metadata": {},
   "outputs": [],
   "source": []
  },
  {
   "cell_type": "code",
   "execution_count": null,
   "metadata": {},
   "outputs": [],
   "source": []
  },
  {
   "cell_type": "code",
   "execution_count": null,
   "metadata": {},
   "outputs": [],
   "source": []
  },
  {
   "cell_type": "code",
   "execution_count": null,
   "metadata": {},
   "outputs": [],
   "source": []
  },
  {
   "cell_type": "code",
   "execution_count": null,
   "metadata": {},
   "outputs": [],
   "source": []
  },
  {
   "cell_type": "code",
   "execution_count": null,
   "metadata": {},
   "outputs": [],
   "source": []
  },
  {
   "cell_type": "code",
   "execution_count": null,
   "metadata": {},
   "outputs": [],
   "source": []
  },
  {
   "cell_type": "code",
   "execution_count": null,
   "metadata": {},
   "outputs": [],
   "source": []
  },
  {
   "cell_type": "code",
   "execution_count": null,
   "metadata": {},
   "outputs": [],
   "source": []
  }
 ],
 "metadata": {
  "kernelspec": {
   "display_name": "capstone",
   "language": "python",
   "name": "python3"
  },
  "language_info": {
   "codemirror_mode": {
    "name": "ipython",
    "version": 3
   },
   "file_extension": ".py",
   "mimetype": "text/x-python",
   "name": "python",
   "nbconvert_exporter": "python",
   "pygments_lexer": "ipython3",
   "version": "3.12.5"
  }
 },
 "nbformat": 4,
 "nbformat_minor": 2
}
