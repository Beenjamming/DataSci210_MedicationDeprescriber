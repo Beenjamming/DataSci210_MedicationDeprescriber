{
 "cells": [
  {
   "cell_type": "code",
   "execution_count": 1,
   "metadata": {},
   "outputs": [],
   "source": [
    "import pandas as pd\n",
    "import numpy as np\n",
    "import matplotlib.pyplot as plt"
   ]
  },
  {
   "cell_type": "markdown",
   "metadata": {},
   "source": [
    "# Encounters\n",
    "Table containing encounter information"
   ]
  },
  {
   "cell_type": "code",
   "execution_count": 2,
   "metadata": {},
   "outputs": [
    {
     "data": {
      "text/html": [
       "<div>\n",
       "<style scoped>\n",
       "    .dataframe tbody tr th:only-of-type {\n",
       "        vertical-align: middle;\n",
       "    }\n",
       "\n",
       "    .dataframe tbody tr th {\n",
       "        vertical-align: top;\n",
       "    }\n",
       "\n",
       "    .dataframe thead th {\n",
       "        text-align: right;\n",
       "    }\n",
       "</style>\n",
       "<table border=\"1\" class=\"dataframe\">\n",
       "  <thead>\n",
       "    <tr style=\"text-align: right;\">\n",
       "      <th></th>\n",
       "      <th>EncounterKey</th>\n",
       "      <th>PatientKey</th>\n",
       "      <th>Sex</th>\n",
       "      <th>Age_y</th>\n",
       "      <th>BirthDate</th>\n",
       "      <th>PtAdmitDate</th>\n",
       "      <th>PtDischargeDate</th>\n",
       "      <th>DRG</th>\n",
       "      <th>FinancialClass</th>\n",
       "      <th>AdmissionOrigin</th>\n",
       "      <th>AdmissionSource</th>\n",
       "      <th>AdmissionType</th>\n",
       "      <th>PrimaryDx</th>\n",
       "      <th>PresentOnAdmissionDiagnosisComboKey</th>\n",
       "      <th>HospitalAcquiredDiagnosisComboKey</th>\n",
       "      <th>DischargeDisposition</th>\n",
       "      <th>DischargePatientClass</th>\n",
       "    </tr>\n",
       "  </thead>\n",
       "  <tbody>\n",
       "    <tr>\n",
       "      <th>0</th>\n",
       "      <td>DC0E8447DFE13A</td>\n",
       "      <td>DDA421589DC15F</td>\n",
       "      <td>Female</td>\n",
       "      <td>45</td>\n",
       "      <td>1978-01-14</td>\n",
       "      <td>2023-09-24</td>\n",
       "      <td>2023-09-25</td>\n",
       "      <td>O.R. PROCEDURES FOR OBESITY WITHOUT CC/MCC</td>\n",
       "      <td>Medicare</td>\n",
       "      <td>OR Admission</td>\n",
       "      <td>Self Referred (Home)</td>\n",
       "      <td>Routine/Elective</td>\n",
       "      <td>Morbid (severe) obesity due to excess calories...</td>\n",
       "      <td>-1</td>\n",
       "      <td>-1</td>\n",
       "      <td>Home or Self Care</td>\n",
       "      <td>Inpatient</td>\n",
       "    </tr>\n",
       "    <tr>\n",
       "      <th>1</th>\n",
       "      <td>D91E787AE2C10E</td>\n",
       "      <td>DE2E02D9604A25</td>\n",
       "      <td>Female</td>\n",
       "      <td>26</td>\n",
       "      <td>1996-09-30</td>\n",
       "      <td>2023-09-18</td>\n",
       "      <td>2023-09-19</td>\n",
       "      <td>O.R. PROCEDURES FOR OBESITY WITH CC</td>\n",
       "      <td>Blue Cross</td>\n",
       "      <td>OR Admission</td>\n",
       "      <td>Physician Referral</td>\n",
       "      <td>Routine/Elective</td>\n",
       "      <td>Morbid (severe) obesity due to excess calories...</td>\n",
       "      <td>-1</td>\n",
       "      <td>-1</td>\n",
       "      <td>Home or Self Care</td>\n",
       "      <td>Inpatient</td>\n",
       "    </tr>\n",
       "    <tr>\n",
       "      <th>3</th>\n",
       "      <td>DB99C1A453AA17</td>\n",
       "      <td>D285E636334BC8</td>\n",
       "      <td>Female</td>\n",
       "      <td>39</td>\n",
       "      <td>1984-04-09</td>\n",
       "      <td>2023-09-09</td>\n",
       "      <td>2023-09-21</td>\n",
       "      <td>LIVER TRANSPLANT WITH MCC OR INTESTINAL TRANSP...</td>\n",
       "      <td>Other Government</td>\n",
       "      <td>Transfer Center Admission</td>\n",
       "      <td>Transfer - Outside Emer Dept</td>\n",
       "      <td>Urgent</td>\n",
       "      <td>Alcoholic cirrhosis of liver with ascites  (CM...</td>\n",
       "      <td>26757381</td>\n",
       "      <td>-1</td>\n",
       "      <td>Home or Self Care</td>\n",
       "      <td>Inpatient</td>\n",
       "    </tr>\n",
       "    <tr>\n",
       "      <th>4</th>\n",
       "      <td>D04A352A03602A</td>\n",
       "      <td>D374AD9E35B5BA</td>\n",
       "      <td>Male</td>\n",
       "      <td>61</td>\n",
       "      <td>1961-09-18</td>\n",
       "      <td>2023-08-28</td>\n",
       "      <td>2023-09-20</td>\n",
       "      <td>LIVER TRANSPLANT AND/OR INTESTINAL TRANSPLANT</td>\n",
       "      <td>Medi-Cal Managed Care</td>\n",
       "      <td>ED Admission</td>\n",
       "      <td>Clinic Referral</td>\n",
       "      <td>Emergency</td>\n",
       "      <td>Alcoholic cirrhosis of liver with ascites  (CM...</td>\n",
       "      <td>301555</td>\n",
       "      <td>-1</td>\n",
       "      <td>Home Health Care (Non UCSF)</td>\n",
       "      <td>Inpatient</td>\n",
       "    </tr>\n",
       "    <tr>\n",
       "      <th>5</th>\n",
       "      <td>D3F8CA2E50DD9D</td>\n",
       "      <td>DC4A8D580423DB</td>\n",
       "      <td>Male</td>\n",
       "      <td>53</td>\n",
       "      <td>1969-10-26</td>\n",
       "      <td>2023-09-24</td>\n",
       "      <td>2023-09-30</td>\n",
       "      <td>LIVER TRANSPLANT WITHOUT MCC</td>\n",
       "      <td>Covered California</td>\n",
       "      <td>Transfer Center Admission</td>\n",
       "      <td>Physician Referral</td>\n",
       "      <td>Urgent</td>\n",
       "      <td>Alcoholic cirrhosis of liver with ascites  (CM...</td>\n",
       "      <td>28036959</td>\n",
       "      <td>-1</td>\n",
       "      <td>Home Health Care (Non UCSF)</td>\n",
       "      <td>Inpatient</td>\n",
       "    </tr>\n",
       "  </tbody>\n",
       "</table>\n",
       "</div>"
      ],
      "text/plain": [
       "     EncounterKey      PatientKey     Sex  Age_y   BirthDate PtAdmitDate  \\\n",
       "0  DC0E8447DFE13A  DDA421589DC15F  Female     45  1978-01-14  2023-09-24   \n",
       "1  D91E787AE2C10E  DE2E02D9604A25  Female     26  1996-09-30  2023-09-18   \n",
       "3  DB99C1A453AA17  D285E636334BC8  Female     39  1984-04-09  2023-09-09   \n",
       "4  D04A352A03602A  D374AD9E35B5BA    Male     61  1961-09-18  2023-08-28   \n",
       "5  D3F8CA2E50DD9D  DC4A8D580423DB    Male     53  1969-10-26  2023-09-24   \n",
       "\n",
       "  PtDischargeDate                                                DRG  \\\n",
       "0      2023-09-25         O.R. PROCEDURES FOR OBESITY WITHOUT CC/MCC   \n",
       "1      2023-09-19                O.R. PROCEDURES FOR OBESITY WITH CC   \n",
       "3      2023-09-21  LIVER TRANSPLANT WITH MCC OR INTESTINAL TRANSP...   \n",
       "4      2023-09-20      LIVER TRANSPLANT AND/OR INTESTINAL TRANSPLANT   \n",
       "5      2023-09-30                       LIVER TRANSPLANT WITHOUT MCC   \n",
       "\n",
       "          FinancialClass            AdmissionOrigin  \\\n",
       "0               Medicare               OR Admission   \n",
       "1             Blue Cross               OR Admission   \n",
       "3       Other Government  Transfer Center Admission   \n",
       "4  Medi-Cal Managed Care               ED Admission   \n",
       "5     Covered California  Transfer Center Admission   \n",
       "\n",
       "                AdmissionSource     AdmissionType  \\\n",
       "0          Self Referred (Home)  Routine/Elective   \n",
       "1            Physician Referral  Routine/Elective   \n",
       "3  Transfer - Outside Emer Dept            Urgent   \n",
       "4               Clinic Referral         Emergency   \n",
       "5            Physician Referral            Urgent   \n",
       "\n",
       "                                           PrimaryDx  \\\n",
       "0  Morbid (severe) obesity due to excess calories...   \n",
       "1  Morbid (severe) obesity due to excess calories...   \n",
       "3  Alcoholic cirrhosis of liver with ascites  (CM...   \n",
       "4  Alcoholic cirrhosis of liver with ascites  (CM...   \n",
       "5  Alcoholic cirrhosis of liver with ascites  (CM...   \n",
       "\n",
       "   PresentOnAdmissionDiagnosisComboKey  HospitalAcquiredDiagnosisComboKey  \\\n",
       "0                                   -1                                 -1   \n",
       "1                                   -1                                 -1   \n",
       "3                             26757381                                 -1   \n",
       "4                               301555                                 -1   \n",
       "5                             28036959                                 -1   \n",
       "\n",
       "          DischargeDisposition DischargePatientClass  \n",
       "0            Home or Self Care             Inpatient  \n",
       "1            Home or Self Care             Inpatient  \n",
       "3            Home or Self Care             Inpatient  \n",
       "4  Home Health Care (Non UCSF)             Inpatient  \n",
       "5  Home Health Care (Non UCSF)             Inpatient  "
      ]
     },
     "execution_count": 2,
     "metadata": {},
     "output_type": "execute_result"
    }
   ],
   "source": [
    "encounters_df = pd.read_csv('../../Data/encounters.txt', delimiter = '|')\n",
    "encounters_df = encounters_df[encounters_df['Age_y'] >= 18]\n",
    "encounters_df.head()"
   ]
  },
  {
   "cell_type": "code",
   "execution_count": 3,
   "metadata": {},
   "outputs": [
    {
     "name": "stdout",
     "output_type": "stream",
     "text": [
      "<class 'pandas.core.frame.DataFrame'>\n",
      "Index: 160 entries, 0 to 181\n",
      "Data columns (total 17 columns):\n",
      " #   Column                               Non-Null Count  Dtype \n",
      "---  ------                               --------------  ----- \n",
      " 0   EncounterKey                         160 non-null    object\n",
      " 1   PatientKey                           160 non-null    object\n",
      " 2   Sex                                  160 non-null    object\n",
      " 3   Age_y                                160 non-null    int64 \n",
      " 4   BirthDate                            160 non-null    object\n",
      " 5   PtAdmitDate                          160 non-null    object\n",
      " 6   PtDischargeDate                      160 non-null    object\n",
      " 7   DRG                                  160 non-null    object\n",
      " 8   FinancialClass                       160 non-null    object\n",
      " 9   AdmissionOrigin                      160 non-null    object\n",
      " 10  AdmissionSource                      160 non-null    object\n",
      " 11  AdmissionType                        160 non-null    object\n",
      " 12  PrimaryDx                            160 non-null    object\n",
      " 13  PresentOnAdmissionDiagnosisComboKey  160 non-null    int64 \n",
      " 14  HospitalAcquiredDiagnosisComboKey    160 non-null    int64 \n",
      " 15  DischargeDisposition                 160 non-null    object\n",
      " 16  DischargePatientClass                160 non-null    object\n",
      "dtypes: int64(3), object(14)\n",
      "memory usage: 22.5+ KB\n"
     ]
    }
   ],
   "source": [
    "encounters_df.info()"
   ]
  },
  {
   "cell_type": "code",
   "execution_count": 4,
   "metadata": {},
   "outputs": [
    {
     "name": "stdout",
     "output_type": "stream",
     "text": [
      "The number of unique patients are: 160\n",
      "The number of unique encounter keys are: 160\n"
     ]
    }
   ],
   "source": [
    "print(f\"The number of unique patients are: {encounters_df['PatientKey'].nunique()}\")\n",
    "print(f\"The number of unique encounter keys are: {encounters_df['EncounterKey'].nunique()}\")"
   ]
  },
  {
   "cell_type": "code",
   "execution_count": 5,
   "metadata": {},
   "outputs": [
    {
     "data": {
      "image/png": "[encoded data removed]",
      "text/plain": [
       "<Figure size 640x480 with 1 Axes>"
      ]
     },
     "metadata": {},
     "output_type": "display_data"
    }
   ],
   "source": [
    "# distribution of sex\n",
    "sex_dist = encounters_df[\"Sex\"].value_counts()\n",
    "plt.figure()\n",
    "plt.bar(sex_dist.index, sex_dist)\n",
    "plt.title('Count of Male v. Female')\n",
    "plt.xlabel('Sex')\n",
    "plt.ylabel('Count')\n",
    "plt.savefig('./figs/sex.png', transparent = True)\n",
    "plt.show()"
   ]
  },
  {
   "cell_type": "code",
   "execution_count": 6,
   "metadata": {},
   "outputs": [
    {
     "data": {
      "image/png": "[encoded data removed]",
      "text/plain": [
       "<Figure size 640x480 with 1 Axes>"
      ]
     },
     "metadata": {},
     "output_type": "display_data"
    }
   ],
   "source": [
    "# distribution of age\n",
    "plt.figure()\n",
    "plt.hist(encounters_df['Age_y'], bins = 20)\n",
    "plt.title('Distribution of Age')\n",
    "plt.ylabel('Count')\n",
    "plt.xlabel('Age')\n",
    "plt.savefig('./figs/age.png', transparent = True)\n",
    "plt.show()"
   ]
  },
  {
   "cell_type": "code",
   "execution_count": 63,
   "metadata": {},
   "outputs": [
    {
     "data": {
      "image/png": "[encoded data removed]",
      "text/plain": [
       "<Figure size 640x480 with 1 Axes>"
      ]
     },
     "metadata": {},
     "output_type": "display_data"
    },
    {
     "data": {
      "image/png": "[encoded data removed]",
      "text/plain": [
       "<Figure size 640x480 with 1 Axes>"
      ]
     },
     "metadata": {},
     "output_type": "display_data"
    }
   ],
   "source": [
    "# patient admission date\n",
    "encounters_df[['PtAdmitDate', 'PtDischargeDate']] = encounters_df[['PtAdmitDate', 'PtDischargeDate']].apply(pd.to_datetime, format = \"%Y-%m-%d\")\n",
    "\n",
    "admission_date_counts = encounters_df['PtAdmitDate'].value_counts()\n",
    "plt.figure()\n",
    "plt.bar(admission_date_counts.index, admission_date_counts)\n",
    "plt.xticks(rotation = 90)\n",
    "plt.title('Admission Date Distribution')\n",
    "plt.xlabel('Date')\n",
    "plt.ylabel('Count')\n",
    "plt.savefig('./figs/admission_date.png', transparent = True, dpi = 300, bbox_inches = \"tight\")\n",
    "plt.show()\n",
    "\n",
    "# patient discharge date\n",
    "discharge_date_counts = encounters_df['PtDischargeDate'].value_counts()\n",
    "plt.figure()\n",
    "plt.bar(discharge_date_counts.index, discharge_date_counts)\n",
    "plt.xticks(rotation = 90)\n",
    "plt.title('Discharge Date Distribution')\n",
    "plt.xlabel('Date')\n",
    "plt.ylabel('Count')\n",
    "plt.savefig('./figs/discharge_date.png', transparent = True, dpi = 300, bbox_inches = \"tight\")\n",
    "plt.show()"
   ]
  },
  {
   "cell_type": "code",
   "execution_count": 61,
   "metadata": {},
   "outputs": [
    {
     "data": {
      "image/png": "[encoded data removed]",
      "text/plain": [
       "<Figure size 640x480 with 1 Axes>"
      ]
     },
     "metadata": {},
     "output_type": "display_data"
    }
   ],
   "source": [
    "encounters_df['length_of_stay'] = encounters_df['PtDischargeDate'] - encounters_df['PtAdmitDate']\n",
    "encounters_df['length_of_stay'] = encounters_df['length_of_stay'].apply(lambda x: x.days)\n",
    "plt.figure()\n",
    "plt.hist(encounters_df['length_of_stay'], bins = 20)\n",
    "plt.title('Length of Stay Distribution')\n",
    "plt.xlabel('Days of Hospitalization')\n",
    "plt.ylabel('Count')\n",
    "plt.savefig('./figs/length_of_stay.png', transparent = True, dpi = 300, bbox_inches = \"tight\")\n",
    "plt.show()\n"
   ]
  },
  {
   "cell_type": "markdown",
   "metadata": {},
   "source": [
    "## DRG Classification"
   ]
  },
  {
   "cell_type": "code",
   "execution_count": 8,
   "metadata": {},
   "outputs": [
    {
     "data": {
      "text/plain": [
       "DRG\n",
       "*Unspecified                                                                           8\n",
       "KIDNEY TRANSPLANT                                                                      8\n",
       "MAJOR HIP AND KNEE JOINT REPLACEMENT OR REATTACHMENT OF LOWER EXTREMITY WITHOUT MCC    7\n",
       "SEPTICEMIA OR SEVERE SEPSIS WITHOUT MV >96 HOURS WITH MCC                              6\n",
       "KIDNEY TRANSPLANT WITH HEMODIALYSIS WITHOUT MCC                                        4\n",
       "                                                                                      ..\n",
       "DIGESTIVE MALIGNANCY                                                                   1\n",
       "OPIOID ABUSE AND DEPENDENCE                                                            1\n",
       "DISORDERS OF PANCREAS EXCEPT MALIGNANCY                                                1\n",
       "CELLULITIS WITHOUT MCC                                                                 1\n",
       "OTHER HEART ASSIST SYSTEM IMPLANT                                                      1\n",
       "Name: count, Length: 100, dtype: int64"
      ]
     },
     "execution_count": 8,
     "metadata": {},
     "output_type": "execute_result"
    }
   ],
   "source": [
    "# unique counts of diagnosis-related group\n",
    "encounters_df['DRG'].value_counts()"
   ]
  },
  {
   "cell_type": "code",
   "execution_count": 9,
   "metadata": {},
   "outputs": [
    {
     "data": {
      "text/html": [
       "<div>\n",
       "<style scoped>\n",
       "    .dataframe tbody tr th:only-of-type {\n",
       "        vertical-align: middle;\n",
       "    }\n",
       "\n",
       "    .dataframe tbody tr th {\n",
       "        vertical-align: top;\n",
       "    }\n",
       "\n",
       "    .dataframe thead th {\n",
       "        text-align: right;\n",
       "    }\n",
       "</style>\n",
       "<table border=\"1\" class=\"dataframe\">\n",
       "  <thead>\n",
       "    <tr style=\"text-align: right;\">\n",
       "      <th></th>\n",
       "      <th>DRG</th>\n",
       "      <th>MDC</th>\n",
       "      <th>MS</th>\n",
       "      <th>Description</th>\n",
       "    </tr>\n",
       "  </thead>\n",
       "  <tbody>\n",
       "    <tr>\n",
       "      <th>0</th>\n",
       "      <td>1</td>\n",
       "      <td>NaN</td>\n",
       "      <td>P</td>\n",
       "      <td>HEART TRANSPLANT OR IMPLANT OF HEART ASSIST SY...</td>\n",
       "    </tr>\n",
       "    <tr>\n",
       "      <th>1</th>\n",
       "      <td>2</td>\n",
       "      <td>NaN</td>\n",
       "      <td>P</td>\n",
       "      <td>HEART TRANSPLANT OR IMPLANT OF HEART ASSIST SY...</td>\n",
       "    </tr>\n",
       "    <tr>\n",
       "      <th>2</th>\n",
       "      <td>3</td>\n",
       "      <td>NaN</td>\n",
       "      <td>P</td>\n",
       "      <td>ECMO OR TRACHEOSTOMY WITH MV &gt;96 HOURS OR PRIN...</td>\n",
       "    </tr>\n",
       "    <tr>\n",
       "      <th>3</th>\n",
       "      <td>4</td>\n",
       "      <td>NaN</td>\n",
       "      <td>P</td>\n",
       "      <td>TRACHEOSTOMY WITH MV &gt;96 HOURS OR PRINCIPAL DI...</td>\n",
       "    </tr>\n",
       "    <tr>\n",
       "      <th>4</th>\n",
       "      <td>5</td>\n",
       "      <td>NaN</td>\n",
       "      <td>P</td>\n",
       "      <td>LIVER TRANSPLANT WITH MCC OR INTESTINAL TRANSP...</td>\n",
       "    </tr>\n",
       "  </tbody>\n",
       "</table>\n",
       "</div>"
      ],
      "text/plain": [
       "   DRG  MDC MS                                        Description\n",
       "0    1  NaN  P  HEART TRANSPLANT OR IMPLANT OF HEART ASSIST SY...\n",
       "1    2  NaN  P  HEART TRANSPLANT OR IMPLANT OF HEART ASSIST SY...\n",
       "2    3  NaN  P  ECMO OR TRACHEOSTOMY WITH MV >96 HOURS OR PRIN...\n",
       "3    4  NaN  P  TRACHEOSTOMY WITH MV >96 HOURS OR PRINCIPAL DI...\n",
       "4    5  NaN  P  LIVER TRANSPLANT WITH MCC OR INTESTINAL TRANSP..."
      ]
     },
     "execution_count": 9,
     "metadata": {},
     "output_type": "execute_result"
    }
   ],
   "source": [
    "drg_df = pd.read_csv('drg_042023_092023.csv')\n",
    "drg_df.head()"
   ]
  },
  {
   "cell_type": "code",
   "execution_count": 10,
   "metadata": {},
   "outputs": [
    {
     "data": {
      "text/html": [
       "<div>\n",
       "<style scoped>\n",
       "    .dataframe tbody tr th:only-of-type {\n",
       "        vertical-align: middle;\n",
       "    }\n",
       "\n",
       "    .dataframe tbody tr th {\n",
       "        vertical-align: top;\n",
       "    }\n",
       "\n",
       "    .dataframe thead th {\n",
       "        text-align: right;\n",
       "    }\n",
       "</style>\n",
       "<table border=\"1\" class=\"dataframe\">\n",
       "  <thead>\n",
       "    <tr style=\"text-align: right;\">\n",
       "      <th></th>\n",
       "      <th>EncounterKey</th>\n",
       "      <th>PatientKey</th>\n",
       "      <th>Sex</th>\n",
       "      <th>Age_y</th>\n",
       "      <th>BirthDate</th>\n",
       "      <th>PtAdmitDate</th>\n",
       "      <th>PtDischargeDate</th>\n",
       "      <th>DRG_description</th>\n",
       "      <th>FinancialClass</th>\n",
       "      <th>AdmissionOrigin</th>\n",
       "      <th>...</th>\n",
       "      <th>PrimaryDx</th>\n",
       "      <th>PresentOnAdmissionDiagnosisComboKey</th>\n",
       "      <th>HospitalAcquiredDiagnosisComboKey</th>\n",
       "      <th>DischargeDisposition</th>\n",
       "      <th>DischargePatientClass</th>\n",
       "      <th>length_of_stay</th>\n",
       "      <th>DRG_num</th>\n",
       "      <th>MDC</th>\n",
       "      <th>MS</th>\n",
       "      <th>Description</th>\n",
       "    </tr>\n",
       "  </thead>\n",
       "  <tbody>\n",
       "    <tr>\n",
       "      <th>0</th>\n",
       "      <td>DC0E8447DFE13A</td>\n",
       "      <td>DDA421589DC15F</td>\n",
       "      <td>Female</td>\n",
       "      <td>45</td>\n",
       "      <td>1978-01-14</td>\n",
       "      <td>2023-09-24</td>\n",
       "      <td>2023-09-25</td>\n",
       "      <td>O.R. PROCEDURES FOR OBESITY WITHOUT CC/MCC</td>\n",
       "      <td>Medicare</td>\n",
       "      <td>OR Admission</td>\n",
       "      <td>...</td>\n",
       "      <td>Morbid (severe) obesity due to excess calories...</td>\n",
       "      <td>-1</td>\n",
       "      <td>-1</td>\n",
       "      <td>Home or Self Care</td>\n",
       "      <td>Inpatient</td>\n",
       "      <td>1</td>\n",
       "      <td>621.0</td>\n",
       "      <td>10.0</td>\n",
       "      <td>P</td>\n",
       "      <td>O.R. PROCEDURES FOR OBESITY WITHOUT CC/MCC</td>\n",
       "    </tr>\n",
       "    <tr>\n",
       "      <th>1</th>\n",
       "      <td>D91E787AE2C10E</td>\n",
       "      <td>DE2E02D9604A25</td>\n",
       "      <td>Female</td>\n",
       "      <td>26</td>\n",
       "      <td>1996-09-30</td>\n",
       "      <td>2023-09-18</td>\n",
       "      <td>2023-09-19</td>\n",
       "      <td>O.R. PROCEDURES FOR OBESITY WITH CC</td>\n",
       "      <td>Blue Cross</td>\n",
       "      <td>OR Admission</td>\n",
       "      <td>...</td>\n",
       "      <td>Morbid (severe) obesity due to excess calories...</td>\n",
       "      <td>-1</td>\n",
       "      <td>-1</td>\n",
       "      <td>Home or Self Care</td>\n",
       "      <td>Inpatient</td>\n",
       "      <td>1</td>\n",
       "      <td>620.0</td>\n",
       "      <td>10.0</td>\n",
       "      <td>P</td>\n",
       "      <td>O.R. PROCEDURES FOR OBESITY WITH CC</td>\n",
       "    </tr>\n",
       "    <tr>\n",
       "      <th>2</th>\n",
       "      <td>DB99C1A453AA17</td>\n",
       "      <td>D285E636334BC8</td>\n",
       "      <td>Female</td>\n",
       "      <td>39</td>\n",
       "      <td>1984-04-09</td>\n",
       "      <td>2023-09-09</td>\n",
       "      <td>2023-09-21</td>\n",
       "      <td>LIVER TRANSPLANT WITH MCC OR INTESTINAL TRANSP...</td>\n",
       "      <td>Other Government</td>\n",
       "      <td>Transfer Center Admission</td>\n",
       "      <td>...</td>\n",
       "      <td>Alcoholic cirrhosis of liver with ascites  (CM...</td>\n",
       "      <td>26757381</td>\n",
       "      <td>-1</td>\n",
       "      <td>Home or Self Care</td>\n",
       "      <td>Inpatient</td>\n",
       "      <td>12</td>\n",
       "      <td>5.0</td>\n",
       "      <td>NaN</td>\n",
       "      <td>P</td>\n",
       "      <td>LIVER TRANSPLANT WITH MCC OR INTESTINAL TRANSP...</td>\n",
       "    </tr>\n",
       "    <tr>\n",
       "      <th>3</th>\n",
       "      <td>D04A352A03602A</td>\n",
       "      <td>D374AD9E35B5BA</td>\n",
       "      <td>Male</td>\n",
       "      <td>61</td>\n",
       "      <td>1961-09-18</td>\n",
       "      <td>2023-08-28</td>\n",
       "      <td>2023-09-20</td>\n",
       "      <td>LIVER TRANSPLANT AND/OR INTESTINAL TRANSPLANT</td>\n",
       "      <td>Medi-Cal Managed Care</td>\n",
       "      <td>ED Admission</td>\n",
       "      <td>...</td>\n",
       "      <td>Alcoholic cirrhosis of liver with ascites  (CM...</td>\n",
       "      <td>301555</td>\n",
       "      <td>-1</td>\n",
       "      <td>Home Health Care (Non UCSF)</td>\n",
       "      <td>Inpatient</td>\n",
       "      <td>23</td>\n",
       "      <td>NaN</td>\n",
       "      <td>NaN</td>\n",
       "      <td>NaN</td>\n",
       "      <td>NaN</td>\n",
       "    </tr>\n",
       "    <tr>\n",
       "      <th>4</th>\n",
       "      <td>D3F8CA2E50DD9D</td>\n",
       "      <td>DC4A8D580423DB</td>\n",
       "      <td>Male</td>\n",
       "      <td>53</td>\n",
       "      <td>1969-10-26</td>\n",
       "      <td>2023-09-24</td>\n",
       "      <td>2023-09-30</td>\n",
       "      <td>LIVER TRANSPLANT WITHOUT MCC</td>\n",
       "      <td>Covered California</td>\n",
       "      <td>Transfer Center Admission</td>\n",
       "      <td>...</td>\n",
       "      <td>Alcoholic cirrhosis of liver with ascites  (CM...</td>\n",
       "      <td>28036959</td>\n",
       "      <td>-1</td>\n",
       "      <td>Home Health Care (Non UCSF)</td>\n",
       "      <td>Inpatient</td>\n",
       "      <td>6</td>\n",
       "      <td>6.0</td>\n",
       "      <td>NaN</td>\n",
       "      <td>P</td>\n",
       "      <td>LIVER TRANSPLANT WITHOUT MCC</td>\n",
       "    </tr>\n",
       "  </tbody>\n",
       "</table>\n",
       "<p>5 rows × 22 columns</p>\n",
       "</div>"
      ],
      "text/plain": [
       "     EncounterKey      PatientKey     Sex  Age_y   BirthDate PtAdmitDate  \\\n",
       "0  DC0E8447DFE13A  DDA421589DC15F  Female     45  1978-01-14  2023-09-24   \n",
       "1  D91E787AE2C10E  DE2E02D9604A25  Female     26  1996-09-30  2023-09-18   \n",
       "2  DB99C1A453AA17  D285E636334BC8  Female     39  1984-04-09  2023-09-09   \n",
       "3  D04A352A03602A  D374AD9E35B5BA    Male     61  1961-09-18  2023-08-28   \n",
       "4  D3F8CA2E50DD9D  DC4A8D580423DB    Male     53  1969-10-26  2023-09-24   \n",
       "\n",
       "  PtDischargeDate                                    DRG_description  \\\n",
       "0      2023-09-25         O.R. PROCEDURES FOR OBESITY WITHOUT CC/MCC   \n",
       "1      2023-09-19                O.R. PROCEDURES FOR OBESITY WITH CC   \n",
       "2      2023-09-21  LIVER TRANSPLANT WITH MCC OR INTESTINAL TRANSP...   \n",
       "3      2023-09-20      LIVER TRANSPLANT AND/OR INTESTINAL TRANSPLANT   \n",
       "4      2023-09-30                       LIVER TRANSPLANT WITHOUT MCC   \n",
       "\n",
       "          FinancialClass            AdmissionOrigin  ...  \\\n",
       "0               Medicare               OR Admission  ...   \n",
       "1             Blue Cross               OR Admission  ...   \n",
       "2       Other Government  Transfer Center Admission  ...   \n",
       "3  Medi-Cal Managed Care               ED Admission  ...   \n",
       "4     Covered California  Transfer Center Admission  ...   \n",
       "\n",
       "                                           PrimaryDx  \\\n",
       "0  Morbid (severe) obesity due to excess calories...   \n",
       "1  Morbid (severe) obesity due to excess calories...   \n",
       "2  Alcoholic cirrhosis of liver with ascites  (CM...   \n",
       "3  Alcoholic cirrhosis of liver with ascites  (CM...   \n",
       "4  Alcoholic cirrhosis of liver with ascites  (CM...   \n",
       "\n",
       "  PresentOnAdmissionDiagnosisComboKey HospitalAcquiredDiagnosisComboKey  \\\n",
       "0                                  -1                                -1   \n",
       "1                                  -1                                -1   \n",
       "2                            26757381                                -1   \n",
       "3                              301555                                -1   \n",
       "4                            28036959                                -1   \n",
       "\n",
       "          DischargeDisposition  DischargePatientClass length_of_stay DRG_num  \\\n",
       "0            Home or Self Care              Inpatient              1   621.0   \n",
       "1            Home or Self Care              Inpatient              1   620.0   \n",
       "2            Home or Self Care              Inpatient             12     5.0   \n",
       "3  Home Health Care (Non UCSF)              Inpatient             23     NaN   \n",
       "4  Home Health Care (Non UCSF)              Inpatient              6     6.0   \n",
       "\n",
       "    MDC   MS                                        Description  \n",
       "0  10.0    P         O.R. PROCEDURES FOR OBESITY WITHOUT CC/MCC  \n",
       "1  10.0    P                O.R. PROCEDURES FOR OBESITY WITH CC  \n",
       "2   NaN    P  LIVER TRANSPLANT WITH MCC OR INTESTINAL TRANSP...  \n",
       "3   NaN  NaN                                                NaN  \n",
       "4   NaN    P                       LIVER TRANSPLANT WITHOUT MCC  \n",
       "\n",
       "[5 rows x 22 columns]"
      ]
     },
     "execution_count": 10,
     "metadata": {},
     "output_type": "execute_result"
    }
   ],
   "source": [
    "encounters_df = pd.merge(encounters_df, drg_df, left_on = 'DRG', right_on = 'Description', how = \"left\")\n",
    "encounters_df = encounters_df.rename(columns={'DRG_y': 'DRG_num', 'DRG_x': 'DRG_description'})\n",
    "encounters_df.head()"
   ]
  },
  {
   "cell_type": "code",
   "execution_count": 11,
   "metadata": {},
   "outputs": [
    {
     "data": {
      "text/html": [
       "<div>\n",
       "<style scoped>\n",
       "    .dataframe tbody tr th:only-of-type {\n",
       "        vertical-align: middle;\n",
       "    }\n",
       "\n",
       "    .dataframe tbody tr th {\n",
       "        vertical-align: top;\n",
       "    }\n",
       "\n",
       "    .dataframe thead th {\n",
       "        text-align: right;\n",
       "    }\n",
       "</style>\n",
       "<table border=\"1\" class=\"dataframe\">\n",
       "  <thead>\n",
       "    <tr style=\"text-align: right;\">\n",
       "      <th></th>\n",
       "      <th>EncounterKey</th>\n",
       "      <th>PatientKey</th>\n",
       "      <th>Sex</th>\n",
       "      <th>Age_y</th>\n",
       "      <th>BirthDate</th>\n",
       "      <th>PtAdmitDate</th>\n",
       "      <th>PtDischargeDate</th>\n",
       "      <th>DRG_description</th>\n",
       "      <th>FinancialClass</th>\n",
       "      <th>AdmissionOrigin</th>\n",
       "      <th>...</th>\n",
       "      <th>PrimaryDx</th>\n",
       "      <th>PresentOnAdmissionDiagnosisComboKey</th>\n",
       "      <th>HospitalAcquiredDiagnosisComboKey</th>\n",
       "      <th>DischargeDisposition</th>\n",
       "      <th>DischargePatientClass</th>\n",
       "      <th>length_of_stay</th>\n",
       "      <th>DRG_num</th>\n",
       "      <th>MDC</th>\n",
       "      <th>MS</th>\n",
       "      <th>Description</th>\n",
       "    </tr>\n",
       "  </thead>\n",
       "  <tbody>\n",
       "    <tr>\n",
       "      <th>0</th>\n",
       "      <td>DC0E8447DFE13A</td>\n",
       "      <td>DDA421589DC15F</td>\n",
       "      <td>Female</td>\n",
       "      <td>45</td>\n",
       "      <td>1978-01-14</td>\n",
       "      <td>2023-09-24</td>\n",
       "      <td>2023-09-25</td>\n",
       "      <td>O.R. PROCEDURES FOR OBESITY WITHOUT CC/MCC</td>\n",
       "      <td>Medicare</td>\n",
       "      <td>OR Admission</td>\n",
       "      <td>...</td>\n",
       "      <td>Morbid (severe) obesity due to excess calories...</td>\n",
       "      <td>-1</td>\n",
       "      <td>-1</td>\n",
       "      <td>Home or Self Care</td>\n",
       "      <td>Inpatient</td>\n",
       "      <td>1</td>\n",
       "      <td>621.0</td>\n",
       "      <td>10</td>\n",
       "      <td>P</td>\n",
       "      <td>O.R. PROCEDURES FOR OBESITY WITHOUT CC/MCC</td>\n",
       "    </tr>\n",
       "    <tr>\n",
       "      <th>1</th>\n",
       "      <td>D91E787AE2C10E</td>\n",
       "      <td>DE2E02D9604A25</td>\n",
       "      <td>Female</td>\n",
       "      <td>26</td>\n",
       "      <td>1996-09-30</td>\n",
       "      <td>2023-09-18</td>\n",
       "      <td>2023-09-19</td>\n",
       "      <td>O.R. PROCEDURES FOR OBESITY WITH CC</td>\n",
       "      <td>Blue Cross</td>\n",
       "      <td>OR Admission</td>\n",
       "      <td>...</td>\n",
       "      <td>Morbid (severe) obesity due to excess calories...</td>\n",
       "      <td>-1</td>\n",
       "      <td>-1</td>\n",
       "      <td>Home or Self Care</td>\n",
       "      <td>Inpatient</td>\n",
       "      <td>1</td>\n",
       "      <td>620.0</td>\n",
       "      <td>10</td>\n",
       "      <td>P</td>\n",
       "      <td>O.R. PROCEDURES FOR OBESITY WITH CC</td>\n",
       "    </tr>\n",
       "    <tr>\n",
       "      <th>2</th>\n",
       "      <td>DB99C1A453AA17</td>\n",
       "      <td>D285E636334BC8</td>\n",
       "      <td>Female</td>\n",
       "      <td>39</td>\n",
       "      <td>1984-04-09</td>\n",
       "      <td>2023-09-09</td>\n",
       "      <td>2023-09-21</td>\n",
       "      <td>LIVER TRANSPLANT WITH MCC OR INTESTINAL TRANSP...</td>\n",
       "      <td>Other Government</td>\n",
       "      <td>Transfer Center Admission</td>\n",
       "      <td>...</td>\n",
       "      <td>Alcoholic cirrhosis of liver with ascites  (CM...</td>\n",
       "      <td>26757381</td>\n",
       "      <td>-1</td>\n",
       "      <td>Home or Self Care</td>\n",
       "      <td>Inpatient</td>\n",
       "      <td>12</td>\n",
       "      <td>5.0</td>\n",
       "      <td>None</td>\n",
       "      <td>P</td>\n",
       "      <td>LIVER TRANSPLANT WITH MCC OR INTESTINAL TRANSP...</td>\n",
       "    </tr>\n",
       "    <tr>\n",
       "      <th>3</th>\n",
       "      <td>D04A352A03602A</td>\n",
       "      <td>D374AD9E35B5BA</td>\n",
       "      <td>Male</td>\n",
       "      <td>61</td>\n",
       "      <td>1961-09-18</td>\n",
       "      <td>2023-08-28</td>\n",
       "      <td>2023-09-20</td>\n",
       "      <td>LIVER TRANSPLANT AND/OR INTESTINAL TRANSPLANT</td>\n",
       "      <td>Medi-Cal Managed Care</td>\n",
       "      <td>ED Admission</td>\n",
       "      <td>...</td>\n",
       "      <td>Alcoholic cirrhosis of liver with ascites  (CM...</td>\n",
       "      <td>301555</td>\n",
       "      <td>-1</td>\n",
       "      <td>Home Health Care (Non UCSF)</td>\n",
       "      <td>Inpatient</td>\n",
       "      <td>23</td>\n",
       "      <td>NaN</td>\n",
       "      <td>None</td>\n",
       "      <td>NaN</td>\n",
       "      <td>NaN</td>\n",
       "    </tr>\n",
       "    <tr>\n",
       "      <th>4</th>\n",
       "      <td>D3F8CA2E50DD9D</td>\n",
       "      <td>DC4A8D580423DB</td>\n",
       "      <td>Male</td>\n",
       "      <td>53</td>\n",
       "      <td>1969-10-26</td>\n",
       "      <td>2023-09-24</td>\n",
       "      <td>2023-09-30</td>\n",
       "      <td>LIVER TRANSPLANT WITHOUT MCC</td>\n",
       "      <td>Covered California</td>\n",
       "      <td>Transfer Center Admission</td>\n",
       "      <td>...</td>\n",
       "      <td>Alcoholic cirrhosis of liver with ascites  (CM...</td>\n",
       "      <td>28036959</td>\n",
       "      <td>-1</td>\n",
       "      <td>Home Health Care (Non UCSF)</td>\n",
       "      <td>Inpatient</td>\n",
       "      <td>6</td>\n",
       "      <td>6.0</td>\n",
       "      <td>None</td>\n",
       "      <td>P</td>\n",
       "      <td>LIVER TRANSPLANT WITHOUT MCC</td>\n",
       "    </tr>\n",
       "  </tbody>\n",
       "</table>\n",
       "<p>5 rows × 22 columns</p>\n",
       "</div>"
      ],
      "text/plain": [
       "     EncounterKey      PatientKey     Sex  Age_y   BirthDate PtAdmitDate  \\\n",
       "0  DC0E8447DFE13A  DDA421589DC15F  Female     45  1978-01-14  2023-09-24   \n",
       "1  D91E787AE2C10E  DE2E02D9604A25  Female     26  1996-09-30  2023-09-18   \n",
       "2  DB99C1A453AA17  D285E636334BC8  Female     39  1984-04-09  2023-09-09   \n",
       "3  D04A352A03602A  D374AD9E35B5BA    Male     61  1961-09-18  2023-08-28   \n",
       "4  D3F8CA2E50DD9D  DC4A8D580423DB    Male     53  1969-10-26  2023-09-24   \n",
       "\n",
       "  PtDischargeDate                                    DRG_description  \\\n",
       "0      2023-09-25         O.R. PROCEDURES FOR OBESITY WITHOUT CC/MCC   \n",
       "1      2023-09-19                O.R. PROCEDURES FOR OBESITY WITH CC   \n",
       "2      2023-09-21  LIVER TRANSPLANT WITH MCC OR INTESTINAL TRANSP...   \n",
       "3      2023-09-20      LIVER TRANSPLANT AND/OR INTESTINAL TRANSPLANT   \n",
       "4      2023-09-30                       LIVER TRANSPLANT WITHOUT MCC   \n",
       "\n",
       "          FinancialClass            AdmissionOrigin  ...  \\\n",
       "0               Medicare               OR Admission  ...   \n",
       "1             Blue Cross               OR Admission  ...   \n",
       "2       Other Government  Transfer Center Admission  ...   \n",
       "3  Medi-Cal Managed Care               ED Admission  ...   \n",
       "4     Covered California  Transfer Center Admission  ...   \n",
       "\n",
       "                                           PrimaryDx  \\\n",
       "0  Morbid (severe) obesity due to excess calories...   \n",
       "1  Morbid (severe) obesity due to excess calories...   \n",
       "2  Alcoholic cirrhosis of liver with ascites  (CM...   \n",
       "3  Alcoholic cirrhosis of liver with ascites  (CM...   \n",
       "4  Alcoholic cirrhosis of liver with ascites  (CM...   \n",
       "\n",
       "  PresentOnAdmissionDiagnosisComboKey HospitalAcquiredDiagnosisComboKey  \\\n",
       "0                                  -1                                -1   \n",
       "1                                  -1                                -1   \n",
       "2                            26757381                                -1   \n",
       "3                              301555                                -1   \n",
       "4                            28036959                                -1   \n",
       "\n",
       "          DischargeDisposition  DischargePatientClass length_of_stay DRG_num  \\\n",
       "0            Home or Self Care              Inpatient              1   621.0   \n",
       "1            Home or Self Care              Inpatient              1   620.0   \n",
       "2            Home or Self Care              Inpatient             12     5.0   \n",
       "3  Home Health Care (Non UCSF)              Inpatient             23     NaN   \n",
       "4  Home Health Care (Non UCSF)              Inpatient              6     6.0   \n",
       "\n",
       "    MDC   MS                                        Description  \n",
       "0    10    P         O.R. PROCEDURES FOR OBESITY WITHOUT CC/MCC  \n",
       "1    10    P                O.R. PROCEDURES FOR OBESITY WITH CC  \n",
       "2  None    P  LIVER TRANSPLANT WITH MCC OR INTESTINAL TRANSP...  \n",
       "3  None  NaN                                                NaN  \n",
       "4  None    P                       LIVER TRANSPLANT WITHOUT MCC  \n",
       "\n",
       "[5 rows x 22 columns]"
      ]
     },
     "execution_count": 11,
     "metadata": {},
     "output_type": "execute_result"
    }
   ],
   "source": [
    "encounters_df['MDC'] = encounters_df['MDC'].apply(lambda x: 'None' if pd.isna(x) else str(int(x)))\n",
    "encounters_df.head()"
   ]
  },
  {
   "cell_type": "code",
   "execution_count": 12,
   "metadata": {},
   "outputs": [
    {
     "data": {
      "image/png": "[encoded data removed]",
      "text/plain": [
       "<Figure size 640x480 with 1 Axes>"
      ]
     },
     "metadata": {},
     "output_type": "display_data"
    }
   ],
   "source": [
    "# MDC distribution\n",
    "mdc_count = encounters_df['MDC'].value_counts()\n",
    "plt.figure()\n",
    "plt.bar(mdc_count.index, mdc_count)\n",
    "plt.title('Count of Major Diagnostic Categories')\n",
    "plt.xlabel('Major Diagnostic Category')\n",
    "plt.ylabel('Count')\n",
    "plt.savefig('./figs/mdc.png', transparent = True)\n",
    "plt.show()"
   ]
  },
  {
   "cell_type": "code",
   "execution_count": 13,
   "metadata": {},
   "outputs": [
    {
     "data": {
      "text/plain": [
       "DRG_description\n",
       "*Unspecified                                                                           8\n",
       "KIDNEY TRANSPLANT                                                                      8\n",
       "MAJOR HIP AND KNEE JOINT REPLACEMENT OR REATTACHMENT OF LOWER EXTREMITY WITHOUT MCC    7\n",
       "SEPTICEMIA OR SEVERE SEPSIS WITHOUT MV >96 HOURS WITH MCC                              6\n",
       "KIDNEY TRANSPLANT WITH HEMODIALYSIS WITHOUT MCC                                        4\n",
       "                                                                                      ..\n",
       "DIGESTIVE MALIGNANCY                                                                   1\n",
       "OPIOID ABUSE AND DEPENDENCE                                                            1\n",
       "DISORDERS OF PANCREAS EXCEPT MALIGNANCY                                                1\n",
       "CELLULITIS WITHOUT MCC                                                                 1\n",
       "OTHER HEART ASSIST SYSTEM IMPLANT                                                      1\n",
       "Name: count, Length: 100, dtype: int64"
      ]
     },
     "execution_count": 13,
     "metadata": {},
     "output_type": "execute_result"
    }
   ],
   "source": [
    "encounters_df['DRG_description'].value_counts()"
   ]
  },
  {
   "cell_type": "markdown",
   "metadata": {},
   "source": [
    "## Insurance"
   ]
  },
  {
   "cell_type": "code",
   "execution_count": 14,
   "metadata": {},
   "outputs": [
    {
     "data": {
      "text/plain": [
       "array(['Medicare', 'Blue Cross', 'Other Government',\n",
       "       'Medi-Cal Managed Care', 'Covered California',\n",
       "       'Covered California Medi-Cal', 'Blue Shield', 'Medicare Advantage',\n",
       "       'Partnership Managed Medi-Cal', 'Commercial', 'Aetna',\n",
       "       'Medicare Advantage HMO/Senior', 'Medi-Cal Standard', 'Kaiser',\n",
       "       \"Worker's Comp\", 'Alameda Alliance Managed Medi-Cal',\n",
       "       'United Health Care', 'Capitation', 'Cigna',\n",
       "       'Partnership Covered California Managed Medi-Cal', 'HealthNet'],\n",
       "      dtype=object)"
      ]
     },
     "execution_count": 14,
     "metadata": {},
     "output_type": "execute_result"
    }
   ],
   "source": [
    "# unique financial class (insurance)\n",
    "encounters_df['FinancialClass'].unique()"
   ]
  },
  {
   "cell_type": "markdown",
   "metadata": {},
   "source": [
    "## Admission Type"
   ]
  },
  {
   "cell_type": "code",
   "execution_count": 15,
   "metadata": {},
   "outputs": [
    {
     "data": {
      "image/png": "[encoded data removed]",
      "text/plain": [
       "<Figure size 640x480 with 1 Axes>"
      ]
     },
     "metadata": {},
     "output_type": "display_data"
    }
   ],
   "source": [
    "# patient admission origin\n",
    "admission_origin_count = encounters_df['AdmissionOrigin'].value_counts()\n",
    "plt.figure()\n",
    "plt.bar(admission_origin_count.index, admission_origin_count)\n",
    "plt.title('Admission Origin Distribution')\n",
    "plt.ylabel('Count')\n",
    "plt.xlabel('Admission Origin')\n",
    "plt.xticks(rotation = 90)\n",
    "plt.savefig('./figs/admission_origin.png', transparent = True, dpi = 300, bbox_inches = \"tight\")\n",
    "plt.show()"
   ]
  },
  {
   "cell_type": "code",
   "execution_count": 16,
   "metadata": {},
   "outputs": [
    {
     "data": {
      "image/png": "[encoded data removed]",
      "text/plain": [
       "<Figure size 640x480 with 1 Axes>"
      ]
     },
     "metadata": {},
     "output_type": "display_data"
    }
   ],
   "source": [
    "# patient admission source\n",
    "admission_source_count = encounters_df['AdmissionSource'].value_counts()\n",
    "plt.figure()\n",
    "plt.bar(admission_source_count.index, admission_source_count)\n",
    "plt.title('Admission Source Distribution')\n",
    "plt.ylabel('Count')\n",
    "plt.xlabel('Admission Source')\n",
    "plt.xticks(rotation = 90)\n",
    "plt.savefig('./figs/admission_source.png', transparent = True, dpi = 300, bbox_inches = \"tight\")\n",
    "plt.show()"
   ]
  },
  {
   "cell_type": "code",
   "execution_count": 17,
   "metadata": {},
   "outputs": [
    {
     "data": {
      "image/png": "[encoded data removed]",
      "text/plain": [
       "<Figure size 640x480 with 1 Axes>"
      ]
     },
     "metadata": {},
     "output_type": "display_data"
    }
   ],
   "source": [
    "# patient admission type\n",
    "admission_type_count = encounters_df['AdmissionType'].value_counts()\n",
    "plt.figure()\n",
    "plt.bar(admission_type_count.index, admission_type_count)\n",
    "plt.title('Admission Type Distribution')\n",
    "plt.ylabel('Count')\n",
    "plt.xlabel('Admission Type')\n",
    "plt.xticks(rotation = 90)\n",
    "plt.savefig('./figs/admission_type.png', transparent = True, dpi = 300, bbox_inches = \"tight\")\n",
    "plt.show()"
   ]
  },
  {
   "cell_type": "markdown",
   "metadata": {},
   "source": [
    "## Diagnosis Types"
   ]
  },
  {
   "cell_type": "code",
   "execution_count": 18,
   "metadata": {},
   "outputs": [
    {
     "data": {
      "text/plain": [
       "array(['Morbid (severe) obesity due to excess calories  (CMS code)',\n",
       "       'Alcoholic cirrhosis of liver with ascites  (CMS code)',\n",
       "       'Other persistent atrial fibrillation  (CMS code)',\n",
       "       'Unilateral primary osteoarthritis, right knee',\n",
       "       'Lung transplant rejection  (CMS code)',\n",
       "       'Sepsis due to methicillin susceptible Staphylococcus aureus  (CMS code)',\n",
       "       'Aneurysm of vertebral artery (CMS code)',\n",
       "       'Alcoholic hepatitis with ascites (CMS code)',\n",
       "       'Other displaced fracture of fifth cervical vertebra, initial encounter for closed fracture  (CMS code)',\n",
       "       'Benign neoplasm of cerebral meninges  (CMS code)',\n",
       "       'Acute respiratory failure with hypoxia  (CMS code)',\n",
       "       'Malignant neoplasm of bladder, unspecified  (CMS code)',\n",
       "       'Unilateral primary osteoarthritis, right hip',\n",
       "       'Other postprocedural complications and disorders of digestive system',\n",
       "       '*Unspecified', 'Other cerebrovascular disease',\n",
       "       'Unilateral primary osteoarthritis, left knee',\n",
       "       'Respiratory syncytial virus pneumonia',\n",
       "       'Infection and inflammatory reaction due to internal left hip prosthesis, initial encounter (CMS code)',\n",
       "       'Type 2 diabetes mellitus with diabetic autonomic (poly)neuropathy  (CMS code)',\n",
       "       'Displaced fracture of lateral condyle of right tibia, initial encounter for closed fracture',\n",
       "       'Aneurysm of the ascending aorta, ruptured  (CMS code)',\n",
       "       'ST elevation (STEMI) myocardial infarction of unspecified site  (CMS code)',\n",
       "       'Bilateral post-traumatic osteoarthritis of knee',\n",
       "       'Gastrointestinal hemorrhage, unspecified',\n",
       "       'Other overlap syndromes (CMS code)',\n",
       "       'Other mechanical complication of bile duct prosthesis, initial encounter',\n",
       "       'Chronic hepatic failure without coma  (CMS code)',\n",
       "       'Recurrent and persistent immunoglobulin A nephropathy with glomerular lesion',\n",
       "       'Other pancytopenia  (CMS code)',\n",
       "       'Displaced spiral fracture of shaft of left tibia, initial encounter for closed fracture',\n",
       "       'Aplastic anemia, unspecified (CMS code)',\n",
       "       'Periorbital cellulitis',\n",
       "       'Alcohol induced acute pancreatitis without necrosis or infection',\n",
       "       'Drug induced acute pancreatitis without necrosis or infection',\n",
       "       'Type 2 diabetes mellitus with diabetic chronic kidney disease  (CMS code)',\n",
       "       'Diaphragmatic hernia without obstruction or gangrene',\n",
       "       'Ventricular tachycardia, unspecified  (CMS code)',\n",
       "       'ST elevation (STEMI) myocardial infarction involving other coronary artery of inferior wall  (CMS code)',\n",
       "       'Alcohol abuse with withdrawal, uncomplicated  (CMS code)',\n",
       "       'Diffuse large b-cell lymphoma, extranodal and solid organ sites  (CMS code)',\n",
       "       'Other complications of other transplanted tissue',\n",
       "       'Malignant neoplasm of esophagus, unspecified  (CMS code)',\n",
       "       'Kidney transplant failure',\n",
       "       'Dislocation of internal right hip prosthesis, initial encounter (CMS code)',\n",
       "       'Secondary malignant neoplasm of right lung  (CMS code)',\n",
       "       'Encounter for antineoplastic immunotherapy',\n",
       "       'Diverticulum of esophagus, acquired',\n",
       "       'Poisoning by antiparkinsonism drugs and other central muscle-tone depressants, accidental (unintentional), initial encounter',\n",
       "       'Nonrheumatic mitral (valve) stenosis',\n",
       "       'Other somatoform disorders',\n",
       "       'Nontraumatic intracerebral hemorrhage, unspecified  (CMS code)',\n",
       "       'Urinary tract infection, site not specified',\n",
       "       'Achalasia of cardia',\n",
       "       'Type 1 diabetes mellitus with diabetic autonomic (poly)neuropathy  (CMS code)',\n",
       "       'Unilateral primary osteoarthritis, left hip',\n",
       "       'Light chain (AL) amyloidosis  (CMS code)',\n",
       "       'Postprocedural partial intestinal obstruction',\n",
       "       'Other mechanical complication of internal left hip prosthesis, initial encounter (CMS code)',\n",
       "       'Sepsis, unspecified organism  (CMS code)',\n",
       "       'Unspecified bacterial pneumonia',\n",
       "       'Infection and inflammatory reaction due to internal right hip prosthesis, initial encounter (CMS code)',\n",
       "       'Non-ST elevation (NSTEMI) myocardial infarction  (CMS code)',\n",
       "       'Plasma cell leukemia not having achieved remission  (CMS code)',\n",
       "       'Major depressive disorder, recurrent severe without psychotic features  (CMS code)',\n",
       "       'Other cirrhosis of liver  (CMS code)',\n",
       "       'Rheumatoid lung disease with rheumatoid arthritis of unspecified site  (CMS code)',\n",
       "       '(Idiopathic) normal pressure hydrocephalus  (CMS code)',\n",
       "       'Hypertensive chronic kidney disease with stage 5 chronic kidney disease or end stage renal disease  (CMS code)',\n",
       "       'Other secondary thrombocytopenia',\n",
       "       'Mechanical loosening of internal left knee prosthetic joint, initial encounter (CMS code)',\n",
       "       'Chronic or unspecified gastric ulcer with hemorrhage',\n",
       "       'Malignant neoplasm of pancreas, unspecified  (CMS code)',\n",
       "       'Secondary malignant neoplasm of retroperitoneum and peritoneum  (CMS code)',\n",
       "       'Orthostatic hypotension', 'Spinal stenosis, cervical region',\n",
       "       'Other specified sepsis  (CMS code)',\n",
       "       'Wear of articular bearing surface of internal prosthetic right knee joint, initial encounter (CMS code)',\n",
       "       'Blastic NK-cell lymphoma  (CMS code)',\n",
       "       'Angiodysplasia of stomach and duodenum with bleeding',\n",
       "       'Pathological fracture, hip, unspecified, subsequent encounter for fracture with malunion',\n",
       "       'Trigeminal neuralgia',\n",
       "       'Acute lymphoblastic leukemia not having achieved remission  (CMS code)',\n",
       "       'Acute and chronic respiratory failure with hypoxia  (CMS code)',\n",
       "       'Sepsis due to Escherichia coli (e. coli)  (CMS code)',\n",
       "       'Atherosclerotic heart disease of native coronary artery with unstable angina pectoris  (CMS code)',\n",
       "       'Localization-related (focal) (partial) symptomatic epilepsy and epileptic syndromes with simple partial seizures, intractable, with status epilepticus  (CMS code)',\n",
       "       'Benign neoplasm of pituitary gland  (CMS code)',\n",
       "       'Hypertensive heart and chronic kidney disease without heart failure, with stage 5 chronic kidney disease, or end stage renal disease  (CMS code)',\n",
       "       'Heart transplant rejection  (CMS code)',\n",
       "       'Other complications of liver transplant  (CMS code)',\n",
       "       'Calculus of gallbladder and bile duct without cholecystitis with obstruction',\n",
       "       'Diaphragmatic hernia with obstruction, without gangrene',\n",
       "       'Adult hypertrophic pyloric stenosis', 'Esophageal obstruction',\n",
       "       'Unilateral post-traumatic osteoarthritis, left hip',\n",
       "       'Nonrheumatic mitral (valve) insufficiency',\n",
       "       'Heart transplant failure  (CMS code)',\n",
       "       'Other specified noninfective gastroenteritis and colitis',\n",
       "       'Secondary malignant neoplasm of bone  (CMS code)',\n",
       "       'End stage renal disease  (CMS code)',\n",
       "       'Streptococcal sepsis, unspecified  (CMS code)',\n",
       "       'Type 2 diabetes mellitus with diabetic polyneuropathy  (CMS code)',\n",
       "       'Other kyphosis, cervical region',\n",
       "       'Central cord syndrome at C5 level of cervical spinal cord, initial encounter  (CMS code)',\n",
       "       'Breakdown (mechanical) of aortic (bifurcation) graft (replacement), initial encounter (CMS code)',\n",
       "       'Peripheral vascular disease, unspecified (CMS code)',\n",
       "       'Metabolic encephalopathy',\n",
       "       'Mechanical loosening of internal left hip prosthetic joint, initial encounter (CMS code)',\n",
       "       'Pathological fracture in neoplastic disease, other specified site, initial encounter for fracture',\n",
       "       'Polycystic kidney, adult type',\n",
       "       'Idiopathic pulmonary fibrosis  (CMS code)',\n",
       "       'Infection following a procedure, other surgical site, initial encounter',\n",
       "       'Hypertensive heart and chronic kidney disease with heart failure and stage 1 through stage 4 chronic kidney disease, or unspecified chronic kidney disease  (CMS code)',\n",
       "       'ST elevation (STEMI) myocardial infarction involving left anterior descending coronary artery  (CMS code)',\n",
       "       'Infection and inflammatory reaction due to other internal prosthetic devices, implants and grafts, initial encounter (CMS code)',\n",
       "       'Acute myeloblastic leukemia, not having achieved remission  (CMS code)',\n",
       "       'Nontraumatic intracerebral hemorrhage in hemisphere, cortical  (CMS code)',\n",
       "       'Iron deficiency anemia, unspecified',\n",
       "       'Hypertensive heart disease with heart failure  (CMS code)'],\n",
       "      dtype=object)"
      ]
     },
     "execution_count": 18,
     "metadata": {},
     "output_type": "execute_result"
    }
   ],
   "source": [
    "encounters_df['PrimaryDx'].unique()"
   ]
  },
  {
   "cell_type": "code",
   "execution_count": 19,
   "metadata": {},
   "outputs": [
    {
     "data": {
      "text/plain": [
       "array([      -1, 26757381,   301555, 28036959, 27629048,  5727853,\n",
       "       28007903,   411704, 28371727,  1726610,  1848960,  1597217,\n",
       "       26943000, 27494223,  1029141, 27532955,   124480, 27066813,\n",
       "       22571274, 27295160,  4824839, 22642387,   525844,  1216170,\n",
       "       27519886, 27033912, 27534457, 27544093, 26721719, 26880546,\n",
       "       27051514,  3938236,  1866461,   111736,  1233984,  1613930,\n",
       "       26901358, 28154792,   224411, 26605942,   828507, 26945994,\n",
       "       26939430, 28162862])"
      ]
     },
     "execution_count": 19,
     "metadata": {},
     "output_type": "execute_result"
    }
   ],
   "source": [
    "# diagnosis combo keys\n",
    "encounters_df['PresentOnAdmissionDiagnosisComboKey'].unique()"
   ]
  },
  {
   "cell_type": "code",
   "execution_count": 20,
   "metadata": {},
   "outputs": [
    {
     "data": {
      "text/plain": [
       "array([      -1, 27635581,  1453511, 18696409,  1844305, 27572782,\n",
       "         596819,  1628690, 27174338,  3668512, 27520393, 21675435,\n",
       "       26075603, 27565785,  4716227, 26953019])"
      ]
     },
     "execution_count": 20,
     "metadata": {},
     "output_type": "execute_result"
    }
   ],
   "source": [
    "# diagnosis combo keys\n",
    "encounters_df['HospitalAcquiredDiagnosisComboKey'].unique()"
   ]
  },
  {
   "cell_type": "markdown",
   "metadata": {},
   "source": [
    "## Discharge Type"
   ]
  },
  {
   "cell_type": "code",
   "execution_count": 21,
   "metadata": {},
   "outputs": [
    {
     "data": {
      "image/png": "[encoded data removed]",
      "text/plain": [
       "<Figure size 640x480 with 1 Axes>"
      ]
     },
     "metadata": {},
     "output_type": "display_data"
    }
   ],
   "source": [
    "# patient discharge disposition\n",
    "discharge_disposition_count = encounters_df['DischargeDisposition'].value_counts()\n",
    "plt.figure()\n",
    "plt.bar(discharge_disposition_count.index, discharge_disposition_count)\n",
    "plt.title('Discharge Disposition Distribution')\n",
    "plt.ylabel('Count')\n",
    "plt.xlabel('Discharge Disposition')\n",
    "plt.xticks(rotation = 90)\n",
    "plt.savefig('./figs/discharge_disposition.png', transparent = True, dpi = 300, bbox_inches = \"tight\")\n",
    "plt.show()"
   ]
  },
  {
   "cell_type": "code",
   "execution_count": 22,
   "metadata": {},
   "outputs": [
    {
     "data": {
      "image/png": "[encoded data removed]",
      "text/plain": [
       "<Figure size 640x480 with 1 Axes>"
      ]
     },
     "metadata": {},
     "output_type": "display_data"
    }
   ],
   "source": [
    "# patient discharge class\n",
    "discharge_class_count = encounters_df['DischargePatientClass'].value_counts()\n",
    "plt.figure()\n",
    "plt.bar(discharge_class_count.index, discharge_class_count)\n",
    "plt.title('Discharge Patient Class Distribution')\n",
    "plt.ylabel('Count')\n",
    "plt.xlabel('Discharge Patient Class')\n",
    "plt.savefig('./figs/discharge_class.png', transparent = True, dpi = 300, bbox_inches = \"tight\")\n",
    "plt.show()"
   ]
  },
  {
   "cell_type": "code",
   "execution_count": 23,
   "metadata": {},
   "outputs": [],
   "source": [
    "# subset of the encounters_df\n",
    "encounters_df_subset = encounters_df[['EncounterKey', 'PatientKey', 'Sex', 'Age_y', 'length_of_stay',\n",
    "                                      'DRG_description', 'PrimaryDx', 'PresentOnAdmissionDiagnosisComboKey', 'HospitalAcquiredDiagnosisComboKey']]"
   ]
  },
  {
   "cell_type": "markdown",
   "metadata": {},
   "source": [
    "# Present on Admission Diagnosis"
   ]
  },
  {
   "cell_type": "code",
   "execution_count": 24,
   "metadata": {},
   "outputs": [
    {
     "data": {
      "text/html": [
       "<div>\n",
       "<style scoped>\n",
       "    .dataframe tbody tr th:only-of-type {\n",
       "        vertical-align: middle;\n",
       "    }\n",
       "\n",
       "    .dataframe tbody tr th {\n",
       "        vertical-align: top;\n",
       "    }\n",
       "\n",
       "    .dataframe thead th {\n",
       "        text-align: right;\n",
       "    }\n",
       "</style>\n",
       "<table border=\"1\" class=\"dataframe\">\n",
       "  <thead>\n",
       "    <tr style=\"text-align: right;\">\n",
       "      <th></th>\n",
       "      <th>EncounterKey</th>\n",
       "      <th>DeidLds</th>\n",
       "      <th>DiagnosisKey</th>\n",
       "      <th>DiagnosisEpicId</th>\n",
       "      <th>Name</th>\n",
       "      <th>EmergencyCareNeededNotPreventablePercentage</th>\n",
       "      <th>EmergencyCareNeededPreventablePercentage</th>\n",
       "      <th>EmergencyPrimaryCareTreatablePercentage</th>\n",
       "      <th>EmergencyNonEmergentPercentage</th>\n",
       "      <th>EmergencyAlcoholUsePercentage</th>\n",
       "      <th>EmergencyDrugUsePercentage</th>\n",
       "      <th>EmergencyInjuryPercentage</th>\n",
       "      <th>EmergencyPsychPercentage</th>\n",
       "      <th>EmergencyUnclassifiedPercentage</th>\n",
       "    </tr>\n",
       "  </thead>\n",
       "  <tbody>\n",
       "    <tr>\n",
       "      <th>4</th>\n",
       "      <td>D00F3A8D5F43B2</td>\n",
       "      <td>deid</td>\n",
       "      <td>126346</td>\n",
       "      <td>211602</td>\n",
       "      <td>Germ cell tumor (CMS code)</td>\n",
       "      <td>NaN</td>\n",
       "      <td>NaN</td>\n",
       "      <td>NaN</td>\n",
       "      <td>NaN</td>\n",
       "      <td>NaN</td>\n",
       "      <td>NaN</td>\n",
       "      <td>NaN</td>\n",
       "      <td>NaN</td>\n",
       "      <td>NaN</td>\n",
       "    </tr>\n",
       "    <tr>\n",
       "      <th>5</th>\n",
       "      <td>D00F3A8D5F43B2</td>\n",
       "      <td>deid</td>\n",
       "      <td>196992</td>\n",
       "      <td>71791</td>\n",
       "      <td>Retroperitoneal mass</td>\n",
       "      <td>NaN</td>\n",
       "      <td>NaN</td>\n",
       "      <td>NaN</td>\n",
       "      <td>NaN</td>\n",
       "      <td>NaN</td>\n",
       "      <td>NaN</td>\n",
       "      <td>NaN</td>\n",
       "      <td>NaN</td>\n",
       "      <td>NaN</td>\n",
       "    </tr>\n",
       "    <tr>\n",
       "      <th>52</th>\n",
       "      <td>D03868A75BBE62</td>\n",
       "      <td>deid</td>\n",
       "      <td>-1</td>\n",
       "      <td>*Unspecified</td>\n",
       "      <td>*Unspecified</td>\n",
       "      <td>NaN</td>\n",
       "      <td>NaN</td>\n",
       "      <td>NaN</td>\n",
       "      <td>NaN</td>\n",
       "      <td>NaN</td>\n",
       "      <td>NaN</td>\n",
       "      <td>NaN</td>\n",
       "      <td>NaN</td>\n",
       "      <td>NaN</td>\n",
       "    </tr>\n",
       "    <tr>\n",
       "      <th>65</th>\n",
       "      <td>D03F9F35A76C47</td>\n",
       "      <td>deid</td>\n",
       "      <td>253241</td>\n",
       "      <td>288271</td>\n",
       "      <td>At risk for opportunistic infections</td>\n",
       "      <td>NaN</td>\n",
       "      <td>NaN</td>\n",
       "      <td>NaN</td>\n",
       "      <td>NaN</td>\n",
       "      <td>NaN</td>\n",
       "      <td>NaN</td>\n",
       "      <td>NaN</td>\n",
       "      <td>NaN</td>\n",
       "      <td>NaN</td>\n",
       "    </tr>\n",
       "    <tr>\n",
       "      <th>66</th>\n",
       "      <td>D03F9F35A76C47</td>\n",
       "      <td>deid</td>\n",
       "      <td>552197</td>\n",
       "      <td>203477</td>\n",
       "      <td>Chronic abdominal pain</td>\n",
       "      <td>NaN</td>\n",
       "      <td>NaN</td>\n",
       "      <td>NaN</td>\n",
       "      <td>NaN</td>\n",
       "      <td>NaN</td>\n",
       "      <td>NaN</td>\n",
       "      <td>NaN</td>\n",
       "      <td>NaN</td>\n",
       "      <td>NaN</td>\n",
       "    </tr>\n",
       "  </tbody>\n",
       "</table>\n",
       "</div>"
      ],
      "text/plain": [
       "      EncounterKey DeidLds  DiagnosisKey DiagnosisEpicId  \\\n",
       "4   D00F3A8D5F43B2    deid        126346          211602   \n",
       "5   D00F3A8D5F43B2    deid        196992           71791   \n",
       "52  D03868A75BBE62    deid            -1    *Unspecified   \n",
       "65  D03F9F35A76C47    deid        253241          288271   \n",
       "66  D03F9F35A76C47    deid        552197          203477   \n",
       "\n",
       "                                    Name  \\\n",
       "4             Germ cell tumor (CMS code)   \n",
       "5                   Retroperitoneal mass   \n",
       "52                          *Unspecified   \n",
       "65  At risk for opportunistic infections   \n",
       "66                Chronic abdominal pain   \n",
       "\n",
       "    EmergencyCareNeededNotPreventablePercentage  \\\n",
       "4                                           NaN   \n",
       "5                                           NaN   \n",
       "52                                          NaN   \n",
       "65                                          NaN   \n",
       "66                                          NaN   \n",
       "\n",
       "    EmergencyCareNeededPreventablePercentage  \\\n",
       "4                                        NaN   \n",
       "5                                        NaN   \n",
       "52                                       NaN   \n",
       "65                                       NaN   \n",
       "66                                       NaN   \n",
       "\n",
       "    EmergencyPrimaryCareTreatablePercentage  EmergencyNonEmergentPercentage  \\\n",
       "4                                       NaN                             NaN   \n",
       "5                                       NaN                             NaN   \n",
       "52                                      NaN                             NaN   \n",
       "65                                      NaN                             NaN   \n",
       "66                                      NaN                             NaN   \n",
       "\n",
       "    EmergencyAlcoholUsePercentage  EmergencyDrugUsePercentage  \\\n",
       "4                             NaN                         NaN   \n",
       "5                             NaN                         NaN   \n",
       "52                            NaN                         NaN   \n",
       "65                            NaN                         NaN   \n",
       "66                            NaN                         NaN   \n",
       "\n",
       "    EmergencyInjuryPercentage  EmergencyPsychPercentage  \\\n",
       "4                         NaN                       NaN   \n",
       "5                         NaN                       NaN   \n",
       "52                        NaN                       NaN   \n",
       "65                        NaN                       NaN   \n",
       "66                        NaN                       NaN   \n",
       "\n",
       "    EmergencyUnclassifiedPercentage  \n",
       "4                               NaN  \n",
       "5                               NaN  \n",
       "52                              NaN  \n",
       "65                              NaN  \n",
       "66                              NaN  "
      ]
     },
     "execution_count": 24,
     "metadata": {},
     "output_type": "execute_result"
    }
   ],
   "source": [
    "unique_encounters = encounters_df['EncounterKey'].unique()\n",
    "present_on_admit_df = pd.read_csv('../../Data/presentOnAdmitDx.txt', delimiter= \"|\")\n",
    "present_on_admit_df_filtered = present_on_admit_df[present_on_admit_df['EncounterKey'].isin(unique_encounters)]\n",
    "present_on_admit_df_filtered.head()"
   ]
  },
  {
   "cell_type": "code",
   "execution_count": 25,
   "metadata": {},
   "outputs": [
    {
     "name": "stdout",
     "output_type": "stream",
     "text": [
      "The number of instances of the non-filtered dataframe: 3187\n",
      "The number of instances of the filtered dataframe: 263\n"
     ]
    }
   ],
   "source": [
    "print(f\"The number of instances of the non-filtered dataframe: {len(present_on_admit_df)}\")\n",
    "print(f\"The number of instances of the filtered dataframe: {len(present_on_admit_df_filtered)}\")"
   ]
  },
  {
   "cell_type": "code",
   "execution_count": 26,
   "metadata": {},
   "outputs": [
    {
     "data": {
      "text/plain": [
       "array(['deid'], dtype=object)"
      ]
     },
     "execution_count": 26,
     "metadata": {},
     "output_type": "execute_result"
    }
   ],
   "source": [
    "# deidLds are all the same\n",
    "present_on_admit_df_filtered['DeidLds'].unique()"
   ]
  },
  {
   "cell_type": "code",
   "execution_count": 27,
   "metadata": {},
   "outputs": [
    {
     "name": "stdout",
     "output_type": "stream",
     "text": [
      "<class 'pandas.core.frame.DataFrame'>\n",
      "Index: 263 entries, 4 to 3172\n",
      "Data columns (total 14 columns):\n",
      " #   Column                                       Non-Null Count  Dtype  \n",
      "---  ------                                       --------------  -----  \n",
      " 0   EncounterKey                                 263 non-null    object \n",
      " 1   DeidLds                                      263 non-null    object \n",
      " 2   DiagnosisKey                                 263 non-null    int64  \n",
      " 3   DiagnosisEpicId                              263 non-null    object \n",
      " 4   Name                                         263 non-null    object \n",
      " 5   EmergencyCareNeededNotPreventablePercentage  0 non-null      float64\n",
      " 6   EmergencyCareNeededPreventablePercentage     0 non-null      float64\n",
      " 7   EmergencyPrimaryCareTreatablePercentage      0 non-null      float64\n",
      " 8   EmergencyNonEmergentPercentage               0 non-null      float64\n",
      " 9   EmergencyAlcoholUsePercentage                0 non-null      float64\n",
      " 10  EmergencyDrugUsePercentage                   0 non-null      float64\n",
      " 11  EmergencyInjuryPercentage                    0 non-null      float64\n",
      " 12  EmergencyPsychPercentage                     0 non-null      float64\n",
      " 13  EmergencyUnclassifiedPercentage              0 non-null      float64\n",
      "dtypes: float64(9), int64(1), object(4)\n",
      "memory usage: 30.8+ KB\n"
     ]
    }
   ],
   "source": [
    "present_on_admit_df_filtered.info()"
   ]
  },
  {
   "cell_type": "code",
   "execution_count": 28,
   "metadata": {},
   "outputs": [],
   "source": [
    "# subsetting only necessary columns\n",
    "present_on_admit_df_filtered = present_on_admit_df_filtered[['EncounterKey', 'DiagnosisKey', 'Name']]"
   ]
  },
  {
   "cell_type": "code",
   "execution_count": 37,
   "metadata": {},
   "outputs": [
    {
     "data": {
      "text/html": [
       "<div>\n",
       "<style scoped>\n",
       "    .dataframe tbody tr th:only-of-type {\n",
       "        vertical-align: middle;\n",
       "    }\n",
       "\n",
       "    .dataframe tbody tr th {\n",
       "        vertical-align: top;\n",
       "    }\n",
       "\n",
       "    .dataframe thead th {\n",
       "        text-align: right;\n",
       "    }\n",
       "</style>\n",
       "<table border=\"1\" class=\"dataframe\">\n",
       "  <thead>\n",
       "    <tr style=\"text-align: right;\">\n",
       "      <th></th>\n",
       "      <th>EncounterKey</th>\n",
       "      <th>PatientKey</th>\n",
       "      <th>Sex</th>\n",
       "      <th>Age_y</th>\n",
       "      <th>length_of_stay</th>\n",
       "      <th>DRG_description</th>\n",
       "      <th>PrimaryDx</th>\n",
       "      <th>PresentOnAdmissionDiagnosisComboKey</th>\n",
       "      <th>HospitalAcquiredDiagnosisComboKey</th>\n",
       "      <th>Admission_Dx_Key</th>\n",
       "      <th>Admission_Dx_Name</th>\n",
       "    </tr>\n",
       "  </thead>\n",
       "  <tbody>\n",
       "    <tr>\n",
       "      <th>0</th>\n",
       "      <td>DC0E8447DFE13A</td>\n",
       "      <td>DDA421589DC15F</td>\n",
       "      <td>Female</td>\n",
       "      <td>45</td>\n",
       "      <td>1</td>\n",
       "      <td>O.R. PROCEDURES FOR OBESITY WITHOUT CC/MCC</td>\n",
       "      <td>Morbid (severe) obesity due to excess calories...</td>\n",
       "      <td>-1</td>\n",
       "      <td>-1</td>\n",
       "      <td>-1</td>\n",
       "      <td>*Unspecified</td>\n",
       "    </tr>\n",
       "    <tr>\n",
       "      <th>1</th>\n",
       "      <td>D91E787AE2C10E</td>\n",
       "      <td>DE2E02D9604A25</td>\n",
       "      <td>Female</td>\n",
       "      <td>26</td>\n",
       "      <td>1</td>\n",
       "      <td>O.R. PROCEDURES FOR OBESITY WITH CC</td>\n",
       "      <td>Morbid (severe) obesity due to excess calories...</td>\n",
       "      <td>-1</td>\n",
       "      <td>-1</td>\n",
       "      <td>-1</td>\n",
       "      <td>*Unspecified</td>\n",
       "    </tr>\n",
       "    <tr>\n",
       "      <th>2</th>\n",
       "      <td>DB99C1A453AA17</td>\n",
       "      <td>D285E636334BC8</td>\n",
       "      <td>Female</td>\n",
       "      <td>39</td>\n",
       "      <td>12</td>\n",
       "      <td>LIVER TRANSPLANT WITH MCC OR INTESTINAL TRANSP...</td>\n",
       "      <td>Alcoholic cirrhosis of liver with ascites  (CM...</td>\n",
       "      <td>26757381</td>\n",
       "      <td>-1</td>\n",
       "      <td>253241</td>\n",
       "      <td>At risk for opportunistic infections</td>\n",
       "    </tr>\n",
       "    <tr>\n",
       "      <th>3</th>\n",
       "      <td>DB99C1A453AA17</td>\n",
       "      <td>D285E636334BC8</td>\n",
       "      <td>Female</td>\n",
       "      <td>39</td>\n",
       "      <td>12</td>\n",
       "      <td>LIVER TRANSPLANT WITH MCC OR INTESTINAL TRANSP...</td>\n",
       "      <td>Alcoholic cirrhosis of liver with ascites  (CM...</td>\n",
       "      <td>26757381</td>\n",
       "      <td>-1</td>\n",
       "      <td>292202</td>\n",
       "      <td>Cirrhosis of liver (CMS code)</td>\n",
       "    </tr>\n",
       "    <tr>\n",
       "      <th>4</th>\n",
       "      <td>D04A352A03602A</td>\n",
       "      <td>D374AD9E35B5BA</td>\n",
       "      <td>Male</td>\n",
       "      <td>61</td>\n",
       "      <td>23</td>\n",
       "      <td>LIVER TRANSPLANT AND/OR INTESTINAL TRANSPLANT</td>\n",
       "      <td>Alcoholic cirrhosis of liver with ascites  (CM...</td>\n",
       "      <td>301555</td>\n",
       "      <td>-1</td>\n",
       "      <td>167113</td>\n",
       "      <td>Hyperbilirubinemia</td>\n",
       "    </tr>\n",
       "  </tbody>\n",
       "</table>\n",
       "</div>"
      ],
      "text/plain": [
       "     EncounterKey      PatientKey     Sex  Age_y  length_of_stay  \\\n",
       "0  DC0E8447DFE13A  DDA421589DC15F  Female     45               1   \n",
       "1  D91E787AE2C10E  DE2E02D9604A25  Female     26               1   \n",
       "2  DB99C1A453AA17  D285E636334BC8  Female     39              12   \n",
       "3  DB99C1A453AA17  D285E636334BC8  Female     39              12   \n",
       "4  D04A352A03602A  D374AD9E35B5BA    Male     61              23   \n",
       "\n",
       "                                     DRG_description  \\\n",
       "0         O.R. PROCEDURES FOR OBESITY WITHOUT CC/MCC   \n",
       "1                O.R. PROCEDURES FOR OBESITY WITH CC   \n",
       "2  LIVER TRANSPLANT WITH MCC OR INTESTINAL TRANSP...   \n",
       "3  LIVER TRANSPLANT WITH MCC OR INTESTINAL TRANSP...   \n",
       "4      LIVER TRANSPLANT AND/OR INTESTINAL TRANSPLANT   \n",
       "\n",
       "                                           PrimaryDx  \\\n",
       "0  Morbid (severe) obesity due to excess calories...   \n",
       "1  Morbid (severe) obesity due to excess calories...   \n",
       "2  Alcoholic cirrhosis of liver with ascites  (CM...   \n",
       "3  Alcoholic cirrhosis of liver with ascites  (CM...   \n",
       "4  Alcoholic cirrhosis of liver with ascites  (CM...   \n",
       "\n",
       "   PresentOnAdmissionDiagnosisComboKey  HospitalAcquiredDiagnosisComboKey  \\\n",
       "0                                   -1                                 -1   \n",
       "1                                   -1                                 -1   \n",
       "2                             26757381                                 -1   \n",
       "3                             26757381                                 -1   \n",
       "4                               301555                                 -1   \n",
       "\n",
       "   Admission_Dx_Key                     Admission_Dx_Name  \n",
       "0                -1                          *Unspecified  \n",
       "1                -1                          *Unspecified  \n",
       "2            253241  At risk for opportunistic infections  \n",
       "3            292202         Cirrhosis of liver (CMS code)  \n",
       "4            167113                    Hyperbilirubinemia  "
      ]
     },
     "execution_count": 37,
     "metadata": {},
     "output_type": "execute_result"
    }
   ],
   "source": [
    "admission_dx_df = pd.merge(encounters_df_subset, present_on_admit_df_filtered, how = \"left\", on = \"EncounterKey\")\n",
    "admission_dx_df = admission_dx_df.rename(columns = {'Name': 'Admission_Dx_Name', 'DiagnosisKey': 'Admission_Dx_Key'})\n",
    "admission_dx_df.head()"
   ]
  },
  {
   "cell_type": "markdown",
   "metadata": {},
   "source": [
    "# Hospital Acquired Diagnosis\n",
    "Diagnosis during hospitalization"
   ]
  },
  {
   "cell_type": "code",
   "execution_count": 34,
   "metadata": {},
   "outputs": [
    {
     "data": {
      "text/html": [
       "<div>\n",
       "<style scoped>\n",
       "    .dataframe tbody tr th:only-of-type {\n",
       "        vertical-align: middle;\n",
       "    }\n",
       "\n",
       "    .dataframe tbody tr th {\n",
       "        vertical-align: top;\n",
       "    }\n",
       "\n",
       "    .dataframe thead th {\n",
       "        text-align: right;\n",
       "    }\n",
       "</style>\n",
       "<table border=\"1\" class=\"dataframe\">\n",
       "  <thead>\n",
       "    <tr style=\"text-align: right;\">\n",
       "      <th></th>\n",
       "      <th>EncounterKey</th>\n",
       "      <th>DeidLds</th>\n",
       "      <th>DiagnosisKey</th>\n",
       "      <th>DiagnosisEpicId</th>\n",
       "      <th>Name</th>\n",
       "      <th>EmergencyCareNeededNotPreventablePercentage</th>\n",
       "      <th>EmergencyCareNeededPreventablePercentage</th>\n",
       "      <th>EmergencyPrimaryCareTreatablePercentage</th>\n",
       "      <th>EmergencyNonEmergentPercentage</th>\n",
       "      <th>EmergencyAlcoholUsePercentage</th>\n",
       "      <th>EmergencyDrugUsePercentage</th>\n",
       "      <th>EmergencyInjuryPercentage</th>\n",
       "      <th>EmergencyPsychPercentage</th>\n",
       "      <th>EmergencyUnclassifiedPercentage</th>\n",
       "    </tr>\n",
       "  </thead>\n",
       "  <tbody>\n",
       "    <tr>\n",
       "      <th>0</th>\n",
       "      <td>D00142C614FA25</td>\n",
       "      <td>deid</td>\n",
       "      <td>-1</td>\n",
       "      <td>*Unspecified</td>\n",
       "      <td>*Unspecified</td>\n",
       "      <td>NaN</td>\n",
       "      <td>NaN</td>\n",
       "      <td>NaN</td>\n",
       "      <td>NaN</td>\n",
       "      <td>NaN</td>\n",
       "      <td>NaN</td>\n",
       "      <td>NaN</td>\n",
       "      <td>NaN</td>\n",
       "      <td>NaN</td>\n",
       "    </tr>\n",
       "    <tr>\n",
       "      <th>1</th>\n",
       "      <td>D009F2D78A0374</td>\n",
       "      <td>deid</td>\n",
       "      <td>-1</td>\n",
       "      <td>*Unspecified</td>\n",
       "      <td>*Unspecified</td>\n",
       "      <td>NaN</td>\n",
       "      <td>NaN</td>\n",
       "      <td>NaN</td>\n",
       "      <td>NaN</td>\n",
       "      <td>NaN</td>\n",
       "      <td>NaN</td>\n",
       "      <td>NaN</td>\n",
       "      <td>NaN</td>\n",
       "      <td>NaN</td>\n",
       "    </tr>\n",
       "    <tr>\n",
       "      <th>2</th>\n",
       "      <td>D00A78CB35BC4F</td>\n",
       "      <td>deid</td>\n",
       "      <td>-1</td>\n",
       "      <td>*Unspecified</td>\n",
       "      <td>*Unspecified</td>\n",
       "      <td>NaN</td>\n",
       "      <td>NaN</td>\n",
       "      <td>NaN</td>\n",
       "      <td>NaN</td>\n",
       "      <td>NaN</td>\n",
       "      <td>NaN</td>\n",
       "      <td>NaN</td>\n",
       "      <td>NaN</td>\n",
       "      <td>NaN</td>\n",
       "    </tr>\n",
       "    <tr>\n",
       "      <th>3</th>\n",
       "      <td>D00D7335431B1F</td>\n",
       "      <td>deid</td>\n",
       "      <td>-1</td>\n",
       "      <td>*Unspecified</td>\n",
       "      <td>*Unspecified</td>\n",
       "      <td>NaN</td>\n",
       "      <td>NaN</td>\n",
       "      <td>NaN</td>\n",
       "      <td>NaN</td>\n",
       "      <td>NaN</td>\n",
       "      <td>NaN</td>\n",
       "      <td>NaN</td>\n",
       "      <td>NaN</td>\n",
       "      <td>NaN</td>\n",
       "    </tr>\n",
       "    <tr>\n",
       "      <th>4</th>\n",
       "      <td>D00F3A8D5F43B2</td>\n",
       "      <td>deid</td>\n",
       "      <td>-1</td>\n",
       "      <td>*Unspecified</td>\n",
       "      <td>*Unspecified</td>\n",
       "      <td>NaN</td>\n",
       "      <td>NaN</td>\n",
       "      <td>NaN</td>\n",
       "      <td>NaN</td>\n",
       "      <td>NaN</td>\n",
       "      <td>NaN</td>\n",
       "      <td>NaN</td>\n",
       "      <td>NaN</td>\n",
       "      <td>NaN</td>\n",
       "    </tr>\n",
       "  </tbody>\n",
       "</table>\n",
       "</div>"
      ],
      "text/plain": [
       "     EncounterKey DeidLds  DiagnosisKey DiagnosisEpicId          Name  \\\n",
       "0  D00142C614FA25    deid            -1    *Unspecified  *Unspecified   \n",
       "1  D009F2D78A0374    deid            -1    *Unspecified  *Unspecified   \n",
       "2  D00A78CB35BC4F    deid            -1    *Unspecified  *Unspecified   \n",
       "3  D00D7335431B1F    deid            -1    *Unspecified  *Unspecified   \n",
       "4  D00F3A8D5F43B2    deid            -1    *Unspecified  *Unspecified   \n",
       "\n",
       "   EmergencyCareNeededNotPreventablePercentage  \\\n",
       "0                                          NaN   \n",
       "1                                          NaN   \n",
       "2                                          NaN   \n",
       "3                                          NaN   \n",
       "4                                          NaN   \n",
       "\n",
       "   EmergencyCareNeededPreventablePercentage  \\\n",
       "0                                       NaN   \n",
       "1                                       NaN   \n",
       "2                                       NaN   \n",
       "3                                       NaN   \n",
       "4                                       NaN   \n",
       "\n",
       "   EmergencyPrimaryCareTreatablePercentage  EmergencyNonEmergentPercentage  \\\n",
       "0                                      NaN                             NaN   \n",
       "1                                      NaN                             NaN   \n",
       "2                                      NaN                             NaN   \n",
       "3                                      NaN                             NaN   \n",
       "4                                      NaN                             NaN   \n",
       "\n",
       "   EmergencyAlcoholUsePercentage  EmergencyDrugUsePercentage  \\\n",
       "0                            NaN                         NaN   \n",
       "1                            NaN                         NaN   \n",
       "2                            NaN                         NaN   \n",
       "3                            NaN                         NaN   \n",
       "4                            NaN                         NaN   \n",
       "\n",
       "   EmergencyInjuryPercentage  EmergencyPsychPercentage  \\\n",
       "0                        NaN                       NaN   \n",
       "1                        NaN                       NaN   \n",
       "2                        NaN                       NaN   \n",
       "3                        NaN                       NaN   \n",
       "4                        NaN                       NaN   \n",
       "\n",
       "   EmergencyUnclassifiedPercentage  \n",
       "0                              NaN  \n",
       "1                              NaN  \n",
       "2                              NaN  \n",
       "3                              NaN  \n",
       "4                              NaN  "
      ]
     },
     "execution_count": 34,
     "metadata": {},
     "output_type": "execute_result"
    }
   ],
   "source": [
    "hospital_acquired_dx_df = pd.read_csv('../../Data/hospitalAcquiredDx.txt', delimiter = \"|\")\n",
    "hospital_acquired_dx_df_filtered = hospital_acquired_dx_df[hospital_acquired_dx_df['EncounterKey'].isin(unique_encounters)]\n",
    "hospital_acquired_dx_df.head()"
   ]
  },
  {
   "cell_type": "code",
   "execution_count": 35,
   "metadata": {},
   "outputs": [
    {
     "name": "stdout",
     "output_type": "stream",
     "text": [
      "The number of instances of the non-filtered dataframe: 2036\n",
      "The number of instances of the filtered dataframe: 204\n"
     ]
    }
   ],
   "source": [
    "print(f\"The number of instances of the non-filtered dataframe: {len(hospital_acquired_dx_df)}\")\n",
    "print(f\"The number of instances of the filtered dataframe: {len(hospital_acquired_dx_df_filtered)}\")"
   ]
  },
  {
   "cell_type": "code",
   "execution_count": 36,
   "metadata": {},
   "outputs": [],
   "source": [
    "hospital_acquired_dx_df_filtered = hospital_acquired_dx_df_filtered[['EncounterKey', 'DiagnosisKey', 'Name']]\n",
    "hospital_acquired_dx_df_filtered = hospital_acquired_dx_df_filtered.rename(columns = {'Name': 'HospitalAcquired_Dx_Name', \n",
    "                                                                                      'DiagnosisKey': 'HospitalAcquired_Dx_Key'})"
   ]
  },
  {
   "cell_type": "code",
   "execution_count": 39,
   "metadata": {},
   "outputs": [
    {
     "data": {
      "text/html": [
       "<div>\n",
       "<style scoped>\n",
       "    .dataframe tbody tr th:only-of-type {\n",
       "        vertical-align: middle;\n",
       "    }\n",
       "\n",
       "    .dataframe tbody tr th {\n",
       "        vertical-align: top;\n",
       "    }\n",
       "\n",
       "    .dataframe thead th {\n",
       "        text-align: right;\n",
       "    }\n",
       "</style>\n",
       "<table border=\"1\" class=\"dataframe\">\n",
       "  <thead>\n",
       "    <tr style=\"text-align: right;\">\n",
       "      <th></th>\n",
       "      <th>EncounterKey</th>\n",
       "      <th>PatientKey</th>\n",
       "      <th>Sex</th>\n",
       "      <th>Age_y</th>\n",
       "      <th>length_of_stay</th>\n",
       "      <th>DRG_description</th>\n",
       "      <th>PrimaryDx</th>\n",
       "      <th>PresentOnAdmissionDiagnosisComboKey</th>\n",
       "      <th>HospitalAcquiredDiagnosisComboKey</th>\n",
       "      <th>HospitalAcquired_Dx_Key</th>\n",
       "      <th>HospitalAcquired_Dx_Name</th>\n",
       "    </tr>\n",
       "  </thead>\n",
       "  <tbody>\n",
       "    <tr>\n",
       "      <th>0</th>\n",
       "      <td>DC0E8447DFE13A</td>\n",
       "      <td>DDA421589DC15F</td>\n",
       "      <td>Female</td>\n",
       "      <td>45</td>\n",
       "      <td>1</td>\n",
       "      <td>O.R. PROCEDURES FOR OBESITY WITHOUT CC/MCC</td>\n",
       "      <td>Morbid (severe) obesity due to excess calories...</td>\n",
       "      <td>-1</td>\n",
       "      <td>-1</td>\n",
       "      <td>-1</td>\n",
       "      <td>*Unspecified</td>\n",
       "    </tr>\n",
       "    <tr>\n",
       "      <th>1</th>\n",
       "      <td>D91E787AE2C10E</td>\n",
       "      <td>DE2E02D9604A25</td>\n",
       "      <td>Female</td>\n",
       "      <td>26</td>\n",
       "      <td>1</td>\n",
       "      <td>O.R. PROCEDURES FOR OBESITY WITH CC</td>\n",
       "      <td>Morbid (severe) obesity due to excess calories...</td>\n",
       "      <td>-1</td>\n",
       "      <td>-1</td>\n",
       "      <td>-1</td>\n",
       "      <td>*Unspecified</td>\n",
       "    </tr>\n",
       "    <tr>\n",
       "      <th>2</th>\n",
       "      <td>DB99C1A453AA17</td>\n",
       "      <td>D285E636334BC8</td>\n",
       "      <td>Female</td>\n",
       "      <td>39</td>\n",
       "      <td>12</td>\n",
       "      <td>LIVER TRANSPLANT WITH MCC OR INTESTINAL TRANSP...</td>\n",
       "      <td>Alcoholic cirrhosis of liver with ascites  (CM...</td>\n",
       "      <td>26757381</td>\n",
       "      <td>-1</td>\n",
       "      <td>-1</td>\n",
       "      <td>*Unspecified</td>\n",
       "    </tr>\n",
       "    <tr>\n",
       "      <th>3</th>\n",
       "      <td>D04A352A03602A</td>\n",
       "      <td>D374AD9E35B5BA</td>\n",
       "      <td>Male</td>\n",
       "      <td>61</td>\n",
       "      <td>23</td>\n",
       "      <td>LIVER TRANSPLANT AND/OR INTESTINAL TRANSPLANT</td>\n",
       "      <td>Alcoholic cirrhosis of liver with ascites  (CM...</td>\n",
       "      <td>301555</td>\n",
       "      <td>-1</td>\n",
       "      <td>-1</td>\n",
       "      <td>*Unspecified</td>\n",
       "    </tr>\n",
       "    <tr>\n",
       "      <th>4</th>\n",
       "      <td>D3F8CA2E50DD9D</td>\n",
       "      <td>DC4A8D580423DB</td>\n",
       "      <td>Male</td>\n",
       "      <td>53</td>\n",
       "      <td>6</td>\n",
       "      <td>LIVER TRANSPLANT WITHOUT MCC</td>\n",
       "      <td>Alcoholic cirrhosis of liver with ascites  (CM...</td>\n",
       "      <td>28036959</td>\n",
       "      <td>-1</td>\n",
       "      <td>-1</td>\n",
       "      <td>*Unspecified</td>\n",
       "    </tr>\n",
       "  </tbody>\n",
       "</table>\n",
       "</div>"
      ],
      "text/plain": [
       "     EncounterKey      PatientKey     Sex  Age_y  length_of_stay  \\\n",
       "0  DC0E8447DFE13A  DDA421589DC15F  Female     45               1   \n",
       "1  D91E787AE2C10E  DE2E02D9604A25  Female     26               1   \n",
       "2  DB99C1A453AA17  D285E636334BC8  Female     39              12   \n",
       "3  D04A352A03602A  D374AD9E35B5BA    Male     61              23   \n",
       "4  D3F8CA2E50DD9D  DC4A8D580423DB    Male     53               6   \n",
       "\n",
       "                                     DRG_description  \\\n",
       "0         O.R. PROCEDURES FOR OBESITY WITHOUT CC/MCC   \n",
       "1                O.R. PROCEDURES FOR OBESITY WITH CC   \n",
       "2  LIVER TRANSPLANT WITH MCC OR INTESTINAL TRANSP...   \n",
       "3      LIVER TRANSPLANT AND/OR INTESTINAL TRANSPLANT   \n",
       "4                       LIVER TRANSPLANT WITHOUT MCC   \n",
       "\n",
       "                                           PrimaryDx  \\\n",
       "0  Morbid (severe) obesity due to excess calories...   \n",
       "1  Morbid (severe) obesity due to excess calories...   \n",
       "2  Alcoholic cirrhosis of liver with ascites  (CM...   \n",
       "3  Alcoholic cirrhosis of liver with ascites  (CM...   \n",
       "4  Alcoholic cirrhosis of liver with ascites  (CM...   \n",
       "\n",
       "   PresentOnAdmissionDiagnosisComboKey  HospitalAcquiredDiagnosisComboKey  \\\n",
       "0                                   -1                                 -1   \n",
       "1                                   -1                                 -1   \n",
       "2                             26757381                                 -1   \n",
       "3                               301555                                 -1   \n",
       "4                             28036959                                 -1   \n",
       "\n",
       "   HospitalAcquired_Dx_Key HospitalAcquired_Dx_Name  \n",
       "0                       -1             *Unspecified  \n",
       "1                       -1             *Unspecified  \n",
       "2                       -1             *Unspecified  \n",
       "3                       -1             *Unspecified  \n",
       "4                       -1             *Unspecified  "
      ]
     },
     "execution_count": 39,
     "metadata": {},
     "output_type": "execute_result"
    }
   ],
   "source": [
    "hospitalization_dx_df = pd.merge(encounters_df_subset, hospital_acquired_dx_df_filtered, how = \"left\", on = \"EncounterKey\")\n",
    "hospitalization_dx_df.head()"
   ]
  },
  {
   "cell_type": "markdown",
   "metadata": {},
   "source": [
    "# Orders"
   ]
  },
  {
   "cell_type": "code",
   "execution_count": 47,
   "metadata": {},
   "outputs": [
    {
     "data": {
      "text/html": [
       "<div>\n",
       "<style scoped>\n",
       "    .dataframe tbody tr th:only-of-type {\n",
       "        vertical-align: middle;\n",
       "    }\n",
       "\n",
       "    .dataframe tbody tr th {\n",
       "        vertical-align: top;\n",
       "    }\n",
       "\n",
       "    .dataframe thead th {\n",
       "        text-align: right;\n",
       "    }\n",
       "</style>\n",
       "<table border=\"1\" class=\"dataframe\">\n",
       "  <thead>\n",
       "    <tr style=\"text-align: right;\">\n",
       "      <th></th>\n",
       "      <th>EncounterKey</th>\n",
       "      <th>PatientKey</th>\n",
       "      <th>MedicationOrderKey</th>\n",
       "      <th>OrderDate</th>\n",
       "      <th>OrderName</th>\n",
       "      <th>Frequency</th>\n",
       "      <th>Sig</th>\n",
       "      <th>Quantity</th>\n",
       "      <th>QuantityUnit</th>\n",
       "      <th>DurationDays</th>\n",
       "      <th>Mode</th>\n",
       "      <th>Class</th>\n",
       "      <th>Source</th>\n",
       "      <th>DischargeOrder</th>\n",
       "      <th>Name</th>\n",
       "      <th>PharmaceuticalClass</th>\n",
       "      <th>PharmaceuticalSubclass</th>\n",
       "      <th>TherapeuticClass</th>\n",
       "      <th>AssociatedDiagnosisComboKey</th>\n",
       "      <th>OrderDx</th>\n",
       "    </tr>\n",
       "  </thead>\n",
       "  <tbody>\n",
       "    <tr>\n",
       "      <th>0</th>\n",
       "      <td>D2112F417796CA</td>\n",
       "      <td>D57D16AAE2BEBF</td>\n",
       "      <td>DD7D0486C6D752</td>\n",
       "      <td>2023-09-26</td>\n",
       "      <td>lansoprazole (PREVACID) 30 mg capsule</td>\n",
       "      <td>Daily Scheduled</td>\n",
       "      <td>Take 1 capsule (30 mg total) by mouth daily</td>\n",
       "      <td>90.0</td>\n",
       "      <td>capsule</td>\n",
       "      <td>0.0</td>\n",
       "      <td>Outpatient</td>\n",
       "      <td>Normal</td>\n",
       "      <td>Ord Rec Discharge Review Orders</td>\n",
       "      <td>1</td>\n",
       "      <td>LANSOPRAZOLE 30 MG CAPSULE,DELAYED RELEASE</td>\n",
       "      <td>PROTON-PUMP INHIBITORS</td>\n",
       "      <td>Gastric Acid Secretion Reducer - Proton Pump I...</td>\n",
       "      <td>GASTROINTESTINAL</td>\n",
       "      <td>-1</td>\n",
       "      <td>*Unspecified</td>\n",
       "    </tr>\n",
       "    <tr>\n",
       "      <th>1</th>\n",
       "      <td>D25D83C47005E9</td>\n",
       "      <td>D8B4300A7DEB15</td>\n",
       "      <td>D1E677027D578B</td>\n",
       "      <td>2023-09-26</td>\n",
       "      <td>lansoprazole (PREVACID SOLUTAB) 30 mg rapid di...</td>\n",
       "      <td>2 Times Daily Before Meals Scheduled</td>\n",
       "      <td>DEID:D9E3D3FA527815</td>\n",
       "      <td>60.0</td>\n",
       "      <td>tablet</td>\n",
       "      <td>0.0</td>\n",
       "      <td>Outpatient</td>\n",
       "      <td>Normal</td>\n",
       "      <td>Ord Rec Discharge Review Orders</td>\n",
       "      <td>1</td>\n",
       "      <td>LANSOPRAZOLE 30 MG DELAYED RELEASE,DISINTEGRAT...</td>\n",
       "      <td>PROTON-PUMP INHIBITORS</td>\n",
       "      <td>Gastric Acid Secretion Reducer - Proton Pump I...</td>\n",
       "      <td>GASTROINTESTINAL</td>\n",
       "      <td>-1</td>\n",
       "      <td>*Unspecified</td>\n",
       "    </tr>\n",
       "    <tr>\n",
       "      <th>2</th>\n",
       "      <td>D25D83C47005E9</td>\n",
       "      <td>D8B4300A7DEB15</td>\n",
       "      <td>DEFCA4E7C0E886</td>\n",
       "      <td>2023-09-26</td>\n",
       "      <td>lansoprazole (PREVACID SOLUTAB) rapid dissolve...</td>\n",
       "      <td>2 Times Daily Before Meals Scheduled</td>\n",
       "      <td>*Not Applicable</td>\n",
       "      <td>NaN</td>\n",
       "      <td>*Not Applicable</td>\n",
       "      <td>0.0</td>\n",
       "      <td>Inpatient</td>\n",
       "      <td>Normal</td>\n",
       "      <td>Manage Orders</td>\n",
       "      <td>0</td>\n",
       "      <td>LANSOPRAZOLE 30 MG DELAYED RELEASE,DISINTEGRAT...</td>\n",
       "      <td>PROTON-PUMP INHIBITORS</td>\n",
       "      <td>Gastric Acid Secretion Reducer - Proton Pump I...</td>\n",
       "      <td>GASTROINTESTINAL</td>\n",
       "      <td>-1</td>\n",
       "      <td>*Unspecified</td>\n",
       "    </tr>\n",
       "    <tr>\n",
       "      <th>3</th>\n",
       "      <td>D25D83C47005E9</td>\n",
       "      <td>D8B4300A7DEB15</td>\n",
       "      <td>D7937B21260880</td>\n",
       "      <td>2023-09-26</td>\n",
       "      <td>lansoprazole (PREVACID SOLUTAB) 30 mg rapid di...</td>\n",
       "      <td>2 Times Daily Before Meals Scheduled</td>\n",
       "      <td>DEID:D9E3D3FA527815</td>\n",
       "      <td>60.0</td>\n",
       "      <td>tablet</td>\n",
       "      <td>0.0</td>\n",
       "      <td>Outpatient</td>\n",
       "      <td>Normal</td>\n",
       "      <td>Ord Rec Discharge Review Orders</td>\n",
       "      <td>1</td>\n",
       "      <td>LANSOPRAZOLE 30 MG DELAYED RELEASE,DISINTEGRAT...</td>\n",
       "      <td>PROTON-PUMP INHIBITORS</td>\n",
       "      <td>Gastric Acid Secretion Reducer - Proton Pump I...</td>\n",
       "      <td>GASTROINTESTINAL</td>\n",
       "      <td>-1</td>\n",
       "      <td>*Unspecified</td>\n",
       "    </tr>\n",
       "    <tr>\n",
       "      <th>4</th>\n",
       "      <td>DC56E4B13440F4</td>\n",
       "      <td>DCEE4AB5177C06</td>\n",
       "      <td>D1810CE5042577</td>\n",
       "      <td>2023-09-28</td>\n",
       "      <td>pantoprazole (PROTONIX) injection 80 mg</td>\n",
       "      <td>Once</td>\n",
       "      <td>*Not Applicable</td>\n",
       "      <td>NaN</td>\n",
       "      <td>*Not Applicable</td>\n",
       "      <td>0.0</td>\n",
       "      <td>Inpatient</td>\n",
       "      <td>Normal</td>\n",
       "      <td>Manage Orders</td>\n",
       "      <td>0</td>\n",
       "      <td>PANTOPRAZOLE 40 MG INTRAVENOUS SOLUTION</td>\n",
       "      <td>PROTON-PUMP INHIBITORS</td>\n",
       "      <td>Gastric Acid Secretion Reducer - Proton Pump I...</td>\n",
       "      <td>GASTROINTESTINAL</td>\n",
       "      <td>-1</td>\n",
       "      <td>*Unspecified</td>\n",
       "    </tr>\n",
       "  </tbody>\n",
       "</table>\n",
       "</div>"
      ],
      "text/plain": [
       "     EncounterKey      PatientKey MedicationOrderKey   OrderDate  \\\n",
       "0  D2112F417796CA  D57D16AAE2BEBF     DD7D0486C6D752  2023-09-26   \n",
       "1  D25D83C47005E9  D8B4300A7DEB15     D1E677027D578B  2023-09-26   \n",
       "2  D25D83C47005E9  D8B4300A7DEB15     DEFCA4E7C0E886  2023-09-26   \n",
       "3  D25D83C47005E9  D8B4300A7DEB15     D7937B21260880  2023-09-26   \n",
       "4  DC56E4B13440F4  DCEE4AB5177C06     D1810CE5042577  2023-09-28   \n",
       "\n",
       "                                           OrderName  \\\n",
       "0              lansoprazole (PREVACID) 30 mg capsule   \n",
       "1  lansoprazole (PREVACID SOLUTAB) 30 mg rapid di...   \n",
       "2  lansoprazole (PREVACID SOLUTAB) rapid dissolve...   \n",
       "3  lansoprazole (PREVACID SOLUTAB) 30 mg rapid di...   \n",
       "4            pantoprazole (PROTONIX) injection 80 mg   \n",
       "\n",
       "                              Frequency  \\\n",
       "0                       Daily Scheduled   \n",
       "1  2 Times Daily Before Meals Scheduled   \n",
       "2  2 Times Daily Before Meals Scheduled   \n",
       "3  2 Times Daily Before Meals Scheduled   \n",
       "4                                  Once   \n",
       "\n",
       "                                           Sig  Quantity     QuantityUnit  \\\n",
       "0  Take 1 capsule (30 mg total) by mouth daily      90.0          capsule   \n",
       "1                          DEID:D9E3D3FA527815      60.0           tablet   \n",
       "2                              *Not Applicable       NaN  *Not Applicable   \n",
       "3                          DEID:D9E3D3FA527815      60.0           tablet   \n",
       "4                              *Not Applicable       NaN  *Not Applicable   \n",
       "\n",
       "   DurationDays        Mode   Class                           Source  \\\n",
       "0           0.0  Outpatient  Normal  Ord Rec Discharge Review Orders   \n",
       "1           0.0  Outpatient  Normal  Ord Rec Discharge Review Orders   \n",
       "2           0.0   Inpatient  Normal                    Manage Orders   \n",
       "3           0.0  Outpatient  Normal  Ord Rec Discharge Review Orders   \n",
       "4           0.0   Inpatient  Normal                    Manage Orders   \n",
       "\n",
       "   DischargeOrder                                               Name  \\\n",
       "0               1         LANSOPRAZOLE 30 MG CAPSULE,DELAYED RELEASE   \n",
       "1               1  LANSOPRAZOLE 30 MG DELAYED RELEASE,DISINTEGRAT...   \n",
       "2               0  LANSOPRAZOLE 30 MG DELAYED RELEASE,DISINTEGRAT...   \n",
       "3               1  LANSOPRAZOLE 30 MG DELAYED RELEASE,DISINTEGRAT...   \n",
       "4               0            PANTOPRAZOLE 40 MG INTRAVENOUS SOLUTION   \n",
       "\n",
       "      PharmaceuticalClass                             PharmaceuticalSubclass  \\\n",
       "0  PROTON-PUMP INHIBITORS  Gastric Acid Secretion Reducer - Proton Pump I...   \n",
       "1  PROTON-PUMP INHIBITORS  Gastric Acid Secretion Reducer - Proton Pump I...   \n",
       "2  PROTON-PUMP INHIBITORS  Gastric Acid Secretion Reducer - Proton Pump I...   \n",
       "3  PROTON-PUMP INHIBITORS  Gastric Acid Secretion Reducer - Proton Pump I...   \n",
       "4  PROTON-PUMP INHIBITORS  Gastric Acid Secretion Reducer - Proton Pump I...   \n",
       "\n",
       "   TherapeuticClass  AssociatedDiagnosisComboKey       OrderDx  \n",
       "0  GASTROINTESTINAL                           -1  *Unspecified  \n",
       "1  GASTROINTESTINAL                           -1  *Unspecified  \n",
       "2  GASTROINTESTINAL                           -1  *Unspecified  \n",
       "3  GASTROINTESTINAL                           -1  *Unspecified  \n",
       "4  GASTROINTESTINAL                           -1  *Unspecified  "
      ]
     },
     "execution_count": 47,
     "metadata": {},
     "output_type": "execute_result"
    }
   ],
   "source": [
    "orders_df = pd.read_csv('../../Data/orders.txt', delimiter = \"|\")\n",
    "orders_df_filtered = orders_df[orders_df['EncounterKey'].isin(unique_encounters)]\n",
    "orders_df_filtered.head()"
   ]
  },
  {
   "cell_type": "code",
   "execution_count": 46,
   "metadata": {},
   "outputs": [
    {
     "name": "stdout",
     "output_type": "stream",
     "text": [
      "The number of instances of the non-filtered dataframe: 569\n",
      "The number of instances of the filtered dataframe: 506\n"
     ]
    }
   ],
   "source": [
    "print(f\"The number of instances of the non-filtered dataframe: {len(orders_df)}\")\n",
    "print(f\"The number of instances of the filtered dataframe: {len(orders_df_filtered)}\")"
   ]
  },
  {
   "cell_type": "code",
   "execution_count": 48,
   "metadata": {},
   "outputs": [
    {
     "name": "stdout",
     "output_type": "stream",
     "text": [
      "<class 'pandas.core.frame.DataFrame'>\n",
      "Index: 506 entries, 0 to 568\n",
      "Data columns (total 20 columns):\n",
      " #   Column                       Non-Null Count  Dtype  \n",
      "---  ------                       --------------  -----  \n",
      " 0   EncounterKey                 506 non-null    object \n",
      " 1   PatientKey                   506 non-null    object \n",
      " 2   MedicationOrderKey           506 non-null    object \n",
      " 3   OrderDate                    492 non-null    object \n",
      " 4   OrderName                    506 non-null    object \n",
      " 5   Frequency                    506 non-null    object \n",
      " 6   Sig                          464 non-null    object \n",
      " 7   Quantity                     163 non-null    float64\n",
      " 8   QuantityUnit                 506 non-null    object \n",
      " 9   DurationDays                 387 non-null    float64\n",
      " 10  Mode                         506 non-null    object \n",
      " 11  Class                        506 non-null    object \n",
      " 12  Source                       506 non-null    object \n",
      " 13  DischargeOrder               506 non-null    int64  \n",
      " 14  Name                         506 non-null    object \n",
      " 15  PharmaceuticalClass          506 non-null    object \n",
      " 16  PharmaceuticalSubclass       506 non-null    object \n",
      " 17  TherapeuticClass             506 non-null    object \n",
      " 18  AssociatedDiagnosisComboKey  506 non-null    int64  \n",
      " 19  OrderDx                      506 non-null    object \n",
      "dtypes: float64(2), int64(2), object(16)\n",
      "memory usage: 83.0+ KB\n"
     ]
    }
   ],
   "source": [
    "orders_df_filtered.info()"
   ]
  },
  {
   "cell_type": "code",
   "execution_count": 52,
   "metadata": {},
   "outputs": [
    {
     "data": {
      "text/plain": [
       "310"
      ]
     },
     "execution_count": 52,
     "metadata": {},
     "output_type": "execute_result"
    }
   ],
   "source": [
    "# the number of unique patient keys here are different than the Encounters table\n",
    "orders_df_filtered['PatientKey'].nunique()"
   ]
  },
  {
   "cell_type": "code",
   "execution_count": 53,
   "metadata": {},
   "outputs": [
    {
     "data": {
      "text/plain": [
       "506"
      ]
     },
     "execution_count": 53,
     "metadata": {},
     "output_type": "execute_result"
    }
   ],
   "source": [
    "# all medication order keys are unique\n",
    "orders_df_filtered['MedicationOrderKey'].nunique()"
   ]
  },
  {
   "cell_type": "code",
   "execution_count": 56,
   "metadata": {},
   "outputs": [
    {
     "name": "stderr",
     "output_type": "stream",
     "text": [
      "/var/folders/wg/np04l4k14h174_2s7j_7h5kw0000gn/T/ipykernel_31516/3797419098.py:2: SettingWithCopyWarning: \n",
      "A value is trying to be set on a copy of a slice from a DataFrame.\n",
      "Try using .loc[row_indexer,col_indexer] = value instead\n",
      "\n",
      "See the caveats in the documentation: https://pandas.pydata.org/pandas-docs/stable/user_guide/indexing.html#returning-a-view-versus-a-copy\n",
      "  orders_df_filtered['OrderDate'] = orders_df_filtered['OrderDate'].apply(pd.to_datetime, format = \"%Y-%m-%d\")\n"
     ]
    },
    {
     "data": {
      "image/png": "[encoded data removed]",
      "text/plain": [
       "<Figure size 640x480 with 1 Axes>"
      ]
     },
     "metadata": {},
     "output_type": "display_data"
    }
   ],
   "source": [
    "# order date - looking at the span\n",
    "orders_df_filtered['OrderDate'] = orders_df_filtered['OrderDate'].apply(pd.to_datetime, format = \"%Y-%m-%d\")\n",
    "order_date_count = orders_df_filtered['OrderDate'].value_counts()\n",
    "plt.figure()\n",
    "plt.bar(order_date_count.index, order_date_count)\n",
    "plt.title('Order Date Distribution')\n",
    "plt.xlabel('Date')\n",
    "plt.ylabel('Count')\n",
    "plt.xticks(rotation = 90 )\n",
    "plt.show()\n"
   ]
  },
  {
   "cell_type": "code",
   "execution_count": 64,
   "metadata": {},
   "outputs": [
    {
     "data": {
      "text/plain": [
       "OrderName\n",
       "lansoprazole (PREVACID) capsule 30 mg                          134\n",
       "pantoprazole (PROTONIX) injection 40 mg                         87\n",
       "lansoprazole (PREVACID) 30 mg capsule                           77\n",
       "omeprazole (PRILOSEC) 20 mg capsule                             50\n",
       "lansoprazole (PREVACID SOLUTAB) rapid dissolve tablet 30 mg     47\n",
       "pantoprazole (PROTONIX) injection 80 mg                         18\n",
       "pantoprazole (PROTONIX) 40 mg tablet                            17\n",
       "omeprazole (PRILOSEC) 40 mg capsule                             16\n",
       "lansoprazole (PREVACID SOLUTAB) 30 mg rapid dissolve tablet     16\n",
       "lansoprazole (PREVACID) capsule 15 mg                           11\n",
       "lansoprazole (PREVACID) 15 mg capsule                            9\n",
       "lansoprazole (PREVACID SOLUTAB) rapid dissolve tablet 15 mg      6\n",
       "pantoprazole (PROTONIX) 20 mg tablet                             5\n",
       "pantoprazole (PROTONIX) 4 mg/mL injection                        4\n",
       "pantoprazole (PROTONIX) 40 mg EC tablet                          2\n",
       "lansoprazole (PREVACID SOLUTAB) 15 mg rapid dissolve tablet      2\n",
       "omeprazole (PRILOSEC) 2 mg/mL suspension                         1\n",
       "esomeprazole (NEXIUM PACKET) 20 mg suspension                    1\n",
       "pantoprazole (PROTONIX) injection 20 mg                          1\n",
       "omeprazole (PRILOSEC) capsule 40 mg                              1\n",
       "esomeprazole (NEXIUM) 40 mg capsule                              1\n",
       "Name: count, dtype: int64"
      ]
     },
     "execution_count": 64,
     "metadata": {},
     "output_type": "execute_result"
    }
   ],
   "source": [
    "# order name distribution\n",
    "orders_df_filtered['OrderName'].value_counts()"
   ]
  },
  {
   "cell_type": "code",
   "execution_count": 65,
   "metadata": {},
   "outputs": [
    {
     "data": {
      "text/plain": [
       "Frequency\n",
       "Every Morning Before Breakfast Scheduled    188\n",
       "Daily Scheduled                             165\n",
       "2 Times Daily Scheduled                      70\n",
       "2 times daily                                46\n",
       "Once                                         19\n",
       "2 Times Daily Before Meals Scheduled         12\n",
       "*Unspecified                                  3\n",
       "Twice Daily                                   1\n",
       "Every Morning Scheduled                       1\n",
       "2 Times Daily                                 1\n",
       "Name: count, dtype: int64"
      ]
     },
     "execution_count": 65,
     "metadata": {},
     "output_type": "execute_result"
    }
   ],
   "source": [
    "# orders frequency\n",
    "orders_df_filtered['Frequency'].value_counts()"
   ]
  },
  {
   "cell_type": "code",
   "execution_count": 66,
   "metadata": {},
   "outputs": [
    {
     "data": {
      "text/plain": [
       "Quantity\n",
       "30.0     109\n",
       "60.0      24\n",
       "90.0       9\n",
       "14.0       5\n",
       "1.0        3\n",
       "120.0      3\n",
       "180.0      2\n",
       "42.0       1\n",
       "200.0      1\n",
       "6.0        1\n",
       "100.0      1\n",
       "32.0       1\n",
       "56.0       1\n",
       "15.0       1\n",
       "110.0      1\n",
       "Name: count, dtype: int64"
      ]
     },
     "execution_count": 66,
     "metadata": {},
     "output_type": "execute_result"
    }
   ],
   "source": [
    "# order quantity\n",
    "orders_df_filtered['Quantity'].value_counts()"
   ]
  },
  {
   "cell_type": "code",
   "execution_count": 73,
   "metadata": {},
   "outputs": [
    {
     "data": {
      "text/plain": [
       "Mode\n",
       "Inpatient     305\n",
       "Outpatient    201\n",
       "Name: count, dtype: int64"
      ]
     },
     "execution_count": 73,
     "metadata": {},
     "output_type": "execute_result"
    }
   ],
   "source": [
    "# order mode\n",
    "orders_df_filtered['Mode'].value_counts()"
   ]
  },
  {
   "cell_type": "code",
   "execution_count": 74,
   "metadata": {},
   "outputs": [
    {
     "data": {
      "text/plain": [
       "Class\n",
       "Normal            458\n",
       "No Print           31\n",
       "Historical Med     16\n",
       "Print               1\n",
       "Name: count, dtype: int64"
      ]
     },
     "execution_count": 74,
     "metadata": {},
     "output_type": "execute_result"
    }
   ],
   "source": [
    "# order class\n",
    "orders_df_filtered['Class'].value_counts()"
   ]
  },
  {
   "cell_type": "code",
   "execution_count": 68,
   "metadata": {},
   "outputs": [
    {
     "data": {
      "text/plain": [
       "Source\n",
       "Manage Orders                      169\n",
       "Ord Rec Discharge Review Orders    125\n",
       "Ord Rec Discharge New Orders        66\n",
       "Ord Rec PreTransfer New Orders      56\n",
       "Modify from Manage Orders           41\n",
       "Ord Rec Admission New Orders        14\n",
       "Ord Rec Admission Reorder PTA       14\n",
       "Ord Rec Admission Review PTA         8\n",
       "Haiku                                7\n",
       "*Unspecified                         3\n",
       "Ord Rec PreTransfer Reorder          2\n",
       "Medication List                      1\n",
       "Name: count, dtype: int64"
      ]
     },
     "execution_count": 68,
     "metadata": {},
     "output_type": "execute_result"
    }
   ],
   "source": [
    "#order source\n",
    "orders_df_filtered['Source'].value_counts()"
   ]
  },
  {
   "cell_type": "code",
   "execution_count": 71,
   "metadata": {},
   "outputs": [
    {
     "data": {
      "image/png": "[encoded data removed]",
      "text/plain": [
       "<Figure size 640x480 with 1 Axes>"
      ]
     },
     "metadata": {},
     "output_type": "display_data"
    }
   ],
   "source": [
    "#order discharge\n",
    "discharge_order_yn = orders_df_filtered['DischargeOrder'].map({0: \"No\", 1: \"Yes\"})\n",
    "discharge_order_yn = discharge_order_yn.value_counts()\n",
    "plt.figure()\n",
    "plt.bar(discharge_order_yn.index, discharge_order_yn)\n",
    "plt.title('Discharge Order')\n",
    "plt.ylabel('Count')\n",
    "plt.savefig('./figs/discharge_order.png', transparent = True, dpi = 300, bbox_inches = \"tight\")\n",
    "plt.show()"
   ]
  },
  {
   "cell_type": "code",
   "execution_count": 75,
   "metadata": {},
   "outputs": [
    {
     "data": {
      "text/plain": [
       "PharmaceuticalClass\n",
       "PROTON-PUMP INHIBITORS    506\n",
       "Name: count, dtype: int64"
      ]
     },
     "execution_count": 75,
     "metadata": {},
     "output_type": "execute_result"
    }
   ],
   "source": [
    "# order pharmaceutical class\n",
    "orders_df_filtered['PharmaceuticalClass'].value_counts()"
   ]
  },
  {
   "cell_type": "code",
   "execution_count": 77,
   "metadata": {},
   "outputs": [
    {
     "data": {
      "text/plain": [
       "PharmaceuticalSubclass\n",
       "Gastric Acid Secretion Reducer - Proton Pump Inhibitors (PPIs)    506\n",
       "Name: count, dtype: int64"
      ]
     },
     "execution_count": 77,
     "metadata": {},
     "output_type": "execute_result"
    }
   ],
   "source": [
    "# order pharmaceutical subclass\n",
    "orders_df_filtered['PharmaceuticalSubclass'].value_counts()"
   ]
  },
  {
   "cell_type": "code",
   "execution_count": 78,
   "metadata": {},
   "outputs": [
    {
     "data": {
      "text/plain": [
       "TherapeuticClass\n",
       "GASTROINTESTINAL    506\n",
       "Name: count, dtype: int64"
      ]
     },
     "execution_count": 78,
     "metadata": {},
     "output_type": "execute_result"
    }
   ],
   "source": [
    "# order therapeutic class\n",
    "orders_df_filtered['TherapeuticClass'].value_counts()"
   ]
  },
  {
   "cell_type": "code",
   "execution_count": 80,
   "metadata": {},
   "outputs": [
    {
     "data": {
      "text/plain": [
       "OrderDx\n",
       "*Unspecified                                                                                                                                                                    464\n",
       "Gastroesophageal reflux disease, unspecified whether esophagitis present                                                                                                          3\n",
       "Status post total replacement of left hip                                                                                                                                         2\n",
       "S/P revision of total hip                                                                                                                                                         2\n",
       "Gastric perforation (CMS code)                                                                                                                                                    2\n",
       "Aplastic anemia (CMS code)                                                                                                                                                        2\n",
       "Post-traumatic osteoarthritis of both knees                                                                                                                                       2\n",
       "Osteoarthritis of one hip, right                                                                                                                                                  2\n",
       "Rheumatoid arthritis, involving unspecified site, unspecified whether rheumatoid factor present (CMS code)                                                                        1\n",
       "Infection of prosthetic joint, subsequent encounter                                                                                                                               1\n",
       "Duodenal ulcer                                                                                                                                                                    1\n",
       "Zenker diverticula                                                                                                                                                                1\n",
       "Severe obesity (CMS code)                                                                                                                                                         1\n",
       "Morbid obesity (CMS code)                                                                                                                                                         1\n",
       "Oropharyngeal dysphagia                                                                                                                                                           1\n",
       "*Deleted                                                                                                                                                                          1\n",
       "CAD, multiple vessel                                                                                                                                                              1\n",
       "ESRD (end stage renal disease) on dialysis (CMS code), Immunosuppression due to drug therapy (CMS code), Medication management, Status post liver transplantation (CMS code)      1\n",
       "Failure of right total hip arthroplasty, initial encounter (CMS code)                                                                                                             1\n",
       "Status post deceased-donor kidney transplantation                                                                                                                                 1\n",
       "Brain tumor (CMS code)                                                                                                                                                            1\n",
       "Spinal cord mass (CMS code)                                                                                                                                                       1\n",
       "S/P total knee arthroplasty, left                                                                                                                                                 1\n",
       "Loosening of knee joint prosthesis, subsequent encounter                                                                                                                          1\n",
       "Zenker's (hypopharyngeal) diverticulum                                                                                                                                            1\n",
       "Metastasis to brain (CMS code)                                                                                                                                                    1\n",
       "At risk for opportunistic infections, Status post kidney transplant                                                                                                               1\n",
       "Nausea                                                                                                                                                                            1\n",
       "Gastroesophageal reflux disease, unspecified whether esophagitis present, Primary adenocarcinoma of right lung (CMS code)                                                         1\n",
       "Traumatic arthritis of left hip                                                                                                                                                   1\n",
       "Stricture esophagus                                                                                                                                                               1\n",
       "Vomiting, unspecified vomiting type, unspecified whether nausea present                                                                                                           1\n",
       "Malignant neoplasm of cervix, unspecified site (CMS code)                                                                                                                         1\n",
       "Closed displaced fracture of second cervical vertebra, unspecified fracture morphology, initial encounter (CMS code)                                                              1\n",
       "Infection of prosthetic joint, initial encounter (CMS code)                                                                                                                       1\n",
       "Name: count, dtype: int64"
      ]
     },
     "execution_count": 80,
     "metadata": {},
     "output_type": "execute_result"
    }
   ],
   "source": [
    "# order therapeutic class\n",
    "orders_df_filtered['OrderDx'].value_counts()"
   ]
  },
  {
   "cell_type": "markdown",
   "metadata": {},
   "source": [
    "# Note Concepts\n",
    "Only available at UCSF"
   ]
  },
  {
   "cell_type": "code",
   "execution_count": 88,
   "metadata": {},
   "outputs": [
    {
     "data": {
      "text/html": [
       "<div>\n",
       "<style scoped>\n",
       "    .dataframe tbody tr th:only-of-type {\n",
       "        vertical-align: middle;\n",
       "    }\n",
       "\n",
       "    .dataframe tbody tr th {\n",
       "        vertical-align: top;\n",
       "    }\n",
       "\n",
       "    .dataframe thead th {\n",
       "        text-align: right;\n",
       "    }\n",
       "</style>\n",
       "<table border=\"1\" class=\"dataframe\">\n",
       "  <thead>\n",
       "    <tr style=\"text-align: right;\">\n",
       "      <th></th>\n",
       "      <th>deid_note_key</th>\n",
       "      <th>EncounterKey</th>\n",
       "      <th>domain</th>\n",
       "      <th>confidence</th>\n",
       "      <th>canon_text</th>\n",
       "    </tr>\n",
       "  </thead>\n",
       "  <tbody>\n",
       "    <tr>\n",
       "      <th>363</th>\n",
       "      <td>D003E527D9D2CB</td>\n",
       "      <td>D4518370C5E32E</td>\n",
       "      <td>signs and symptoms</td>\n",
       "      <td>1.0</td>\n",
       "      <td>In care (finding)</td>\n",
       "    </tr>\n",
       "    <tr>\n",
       "      <th>364</th>\n",
       "      <td>D003E527D9D2CB</td>\n",
       "      <td>D4518370C5E32E</td>\n",
       "      <td>signs and symptoms</td>\n",
       "      <td>1.0</td>\n",
       "      <td>Falls</td>\n",
       "    </tr>\n",
       "    <tr>\n",
       "      <th>365</th>\n",
       "      <td>D003E527D9D2CB</td>\n",
       "      <td>D4518370C5E32E</td>\n",
       "      <td>signs and symptoms</td>\n",
       "      <td>1.0</td>\n",
       "      <td>Chronic pain</td>\n",
       "    </tr>\n",
       "    <tr>\n",
       "      <th>366</th>\n",
       "      <td>D003E527D9D2CB</td>\n",
       "      <td>D4518370C5E32E</td>\n",
       "      <td>signs and symptoms</td>\n",
       "      <td>1.0</td>\n",
       "      <td>Chronic pain</td>\n",
       "    </tr>\n",
       "    <tr>\n",
       "      <th>367</th>\n",
       "      <td>D003E527D9D2CB</td>\n",
       "      <td>D4518370C5E32E</td>\n",
       "      <td>signs and symptoms</td>\n",
       "      <td>1.0</td>\n",
       "      <td>Acute onset pain</td>\n",
       "    </tr>\n",
       "  </tbody>\n",
       "</table>\n",
       "</div>"
      ],
      "text/plain": [
       "      deid_note_key    EncounterKey              domain  confidence  \\\n",
       "363  D003E527D9D2CB  D4518370C5E32E  signs and symptoms         1.0   \n",
       "364  D003E527D9D2CB  D4518370C5E32E  signs and symptoms         1.0   \n",
       "365  D003E527D9D2CB  D4518370C5E32E  signs and symptoms         1.0   \n",
       "366  D003E527D9D2CB  D4518370C5E32E  signs and symptoms         1.0   \n",
       "367  D003E527D9D2CB  D4518370C5E32E  signs and symptoms         1.0   \n",
       "\n",
       "            canon_text  \n",
       "363  In care (finding)  \n",
       "364              Falls  \n",
       "365       Chronic pain  \n",
       "366       Chronic pain  \n",
       "367   Acute onset pain  "
      ]
     },
     "execution_count": 88,
     "metadata": {},
     "output_type": "execute_result"
    }
   ],
   "source": [
    "note_concepts_df = pd.read_csv('../../Data/noteConcepts.txt', delimiter = \"|\")\n",
    "note_concepts_df_filtered = note_concepts_df[note_concepts_df['EncounterKey'].isin(unique_encounters)]\n",
    "note_concepts_df_filtered.head()"
   ]
  },
  {
   "cell_type": "code",
   "execution_count": 89,
   "metadata": {},
   "outputs": [
    {
     "name": "stdout",
     "output_type": "stream",
     "text": [
      "The number of instances of the non-filtered dataframe: 396979\n",
      "The number of instances of the filtered dataframe: 7742\n"
     ]
    }
   ],
   "source": [
    "print(f\"The number of instances of the non-filtered dataframe: {len(note_concepts_df)}\")\n",
    "print(f\"The number of instances of the filtered dataframe: {len(note_concepts_df_filtered)}\")"
   ]
  },
  {
   "cell_type": "markdown",
   "metadata": {},
   "source": [
    "# Note Text"
   ]
  },
  {
   "cell_type": "code",
   "execution_count": 83,
   "metadata": {},
   "outputs": [
    {
     "data": {
      "text/html": [
       "<div>\n",
       "<style scoped>\n",
       "    .dataframe tbody tr th:only-of-type {\n",
       "        vertical-align: middle;\n",
       "    }\n",
       "\n",
       "    .dataframe tbody tr th {\n",
       "        vertical-align: top;\n",
       "    }\n",
       "\n",
       "    .dataframe thead th {\n",
       "        text-align: right;\n",
       "    }\n",
       "</style>\n",
       "<table border=\"1\" class=\"dataframe\">\n",
       "  <thead>\n",
       "    <tr style=\"text-align: right;\">\n",
       "      <th></th>\n",
       "      <th>deid_note_key</th>\n",
       "      <th>EncounterKey</th>\n",
       "      <th>NoteText</th>\n",
       "    </tr>\n",
       "  </thead>\n",
       "  <tbody>\n",
       "    <tr>\n",
       "      <th>2</th>\n",
       "      <td>D00015E35CE5B7</td>\n",
       "      <td>DD27EC809E2A28</td>\n",
       "      <td>History of cardiomyopathy presumed secondary t...</td>\n",
       "    </tr>\n",
       "    <tr>\n",
       "      <th>60</th>\n",
       "      <td>D000EDBAB41110</td>\n",
       "      <td>D193A58053DE94</td>\n",
       "      <td>ELECTROPHYSIOLOGY CONSULT PROGRESS NOTE     24...</td>\n",
       "    </tr>\n",
       "    <tr>\n",
       "      <th>162</th>\n",
       "      <td>D00181CD3DE36F</td>\n",
       "      <td>DE910DFC57730C</td>\n",
       "      <td>Treatment Note    Interval History  Interval H...</td>\n",
       "    </tr>\n",
       "    <tr>\n",
       "      <th>173</th>\n",
       "      <td>D001C2CB94B223</td>\n",
       "      <td>D70969A027A062</td>\n",
       "      <td>NEUROLOGY SERVICE PROGRESS NOTE    Interpreter...</td>\n",
       "    </tr>\n",
       "    <tr>\n",
       "      <th>472</th>\n",
       "      <td>D00214CCC88914</td>\n",
       "      <td>D70969A027A062</td>\n",
       "      <td>ADVANCED LUNG DISEASE   FOLLOW-UP CONSULT NOTE...</td>\n",
       "    </tr>\n",
       "  </tbody>\n",
       "</table>\n",
       "</div>"
      ],
      "text/plain": [
       "      deid_note_key    EncounterKey  \\\n",
       "2    D00015E35CE5B7  DD27EC809E2A28   \n",
       "60   D000EDBAB41110  D193A58053DE94   \n",
       "162  D00181CD3DE36F  DE910DFC57730C   \n",
       "173  D001C2CB94B223  D70969A027A062   \n",
       "472  D00214CCC88914  D70969A027A062   \n",
       "\n",
       "                                              NoteText  \n",
       "2    History of cardiomyopathy presumed secondary t...  \n",
       "60   ELECTROPHYSIOLOGY CONSULT PROGRESS NOTE     24...  \n",
       "162  Treatment Note    Interval History  Interval H...  \n",
       "173  NEUROLOGY SERVICE PROGRESS NOTE    Interpreter...  \n",
       "472  ADVANCED LUNG DISEASE   FOLLOW-UP CONSULT NOTE...  "
      ]
     },
     "execution_count": 83,
     "metadata": {},
     "output_type": "execute_result"
    }
   ],
   "source": [
    "note_text_df = pd.read_csv('../../Data/noteText.txt', delimiter = \"|\")\n",
    "note_text_df_filtered = note_text_df[note_text_df['EncounterKey'].isin(unique_encounters)]\n",
    "note_text_df_filtered.head()"
   ]
  },
  {
   "cell_type": "code",
   "execution_count": 87,
   "metadata": {},
   "outputs": [
    {
     "name": "stdout",
     "output_type": "stream",
     "text": [
      "The number of instances of the non-filtered dataframe: 555249\n",
      "The number of instances of the filtered dataframe: 9825\n"
     ]
    }
   ],
   "source": [
    "print(f\"The number of instances of the non-filtered dataframe: {len(note_text_df)}\")\n",
    "print(f\"The number of instances of the filtered dataframe: {len(note_text_df_filtered)}\")"
   ]
  },
  {
   "cell_type": "code",
   "execution_count": 91,
   "metadata": {},
   "outputs": [
    {
     "data": {
      "image/png": "[encoded data removed]",
      "text/plain": [
       "<Figure size 640x480 with 1 Axes>"
      ]
     },
     "metadata": {},
     "output_type": "display_data"
    }
   ],
   "source": [
    "total_notes_dist = note_text_df_filtered['EncounterKey'].value_counts()\n",
    "plt.figure()\n",
    "plt.hist(total_notes_dist)\n",
    "plt.title('Distribution of Total Notes Per Encounter')\n",
    "plt.ylabel('Count')\n",
    "plt.xlabel('Total Notes')\n",
    "plt.savefig('./figs/notes_text_dist.png', transparent = True, dpi = 300, bbox_inches = \"tight\")\n",
    "plt.show()"
   ]
  },
  {
   "cell_type": "code",
   "execution_count": null,
   "metadata": {},
   "outputs": [],
   "source": []
  }
 ],
 "metadata": {
  "kernelspec": {
   "display_name": "base",
   "language": "python",
   "name": "python3"
  },
  "language_info": {
   "codemirror_mode": {
    "name": "ipython",
    "version": 3
   },
   "file_extension": ".py",
   "mimetype": "text/x-python",
   "name": "python",
   "nbconvert_exporter": "python",
   "pygments_lexer": "ipython3",
   "version": "3.11.5"
  }
 },
 "nbformat": 4,
 "nbformat_minor": 2
}
