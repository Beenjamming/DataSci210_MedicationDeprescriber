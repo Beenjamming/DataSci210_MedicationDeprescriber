{
 "cells": [
  {
   "cell_type": "code",
   "execution_count": 1,
   "metadata": {},
   "outputs": [],
   "source": [
    "#%pip install pandas\n",
    "#%pip install numpy\n",
    "#%pip install langchain\n",
    "#%pip install langchain-community\n",
    "#%pip install langchain-groq\n",
    "#%pip install sentence-transformers\n",
    "#%pip install -U langchain-community faiss-cpu langchain-openai tiktoken"
   ]
  },
  {
   "cell_type": "code",
   "execution_count": null,
   "metadata": {},
   "outputs": [],
   "source": [
    "#D6253A5CE371EA- example with gastrointestinal bleed should continue PPI \n",
    "#DFAFED1811B871- example with a documented history of a GI bleed should continue PPI\n",
    "#D4865B8BBB294E- example with GI bleeding that occurred during inpatient stay should continue PPI\n",
    "#D00F3A8D5F43B2- example with symptoms of heartburn (upper GI symptoms) evaluate for endoscopy to determine if PPI is needed\n",
    "#D8017C77BA15FA- 14d h pylori treatment if pt treated for 2wks and asymptomatic, stop PPI\n",
    "#DA15CCF42ACF8B- Barrett's esophagus, continue PPI\n",
    "#D45728A2EFD315- example with esophagitis, continue PPI\n",
    "#DFB07E6B8F0957- example with chronic NSAID use and pharmacist deprescribing note to evaluate for PPI\n",
    "#D1BD3665C06499- example where pt should be on due to history of surgery and chronic GERD symptoms\n",
    "#D068E26FFF9F43- example where pt came in on and no clear reason to continue\n",
    "#D0E44FD0BBD96F- example where pt came in on and no clear reason to continue\n",
    "#D17AFAD1D7BB68- should stop PPI based on Fundoplication being performed while pt was in surgery"
   ]
  },
  {
   "cell_type": "code",
   "execution_count": 1,
   "metadata": {},
   "outputs": [],
   "source": [
    "import pandas as pd\n",
    "import numpy as np\n",
    "from langchain_core.prompts import ChatPromptTemplate\n",
    "from langchain_groq import ChatGroq\n",
    "import os \n",
    "import json\n",
    "from langchain_core.runnables import RunnablePassthrough\n",
    "\n",
    "#define groq key \n",
    "groq_key = os.environ['groqkey']\n"
   ]
  },
  {
   "cell_type": "code",
   "execution_count": 2,
   "metadata": {},
   "outputs": [],
   "source": [
    "#model variables\n",
    "llama_70 = 'llama3-70b-8192'\n",
    "llama_31 = 'llama-3.1-70b-versatile'\n",
    "mixtral = \"mixtral-8x7b-32768\"\n",
    "gemma_2 = 'gemma2-9b-it'\n",
    "llama_tool_70 = 'llama3-groq-70b-8192-tool-use-preview'\n",
    "\n",
    "gemma = ChatGroq(\n",
    "    temperature=0,\n",
    "    model=gemma_2,\n",
    "    api_key=groq_key \n",
    ")\n",
    "\n",
    "mixtral = ChatGroq(\n",
    "    temperature=0,\n",
    "    model=mixtral,\n",
    "    api_key=groq_key \n",
    ")\n",
    "\n",
    "llama3 = ChatGroq(\n",
    "    temperature=0,\n",
    "    model=llama_70,\n",
    "    api_key=groq_key \n",
    ")\n",
    "\n",
    "llama_tool = ChatGroq(\n",
    "    temperature=0,\n",
    "    model=llama_70,\n",
    "    api_key=groq_key \n",
    ")\n",
    "\n",
    "llama_3_1 = ChatGroq(\n",
    "    temperature=0,\n",
    "    model=llama_31,\n",
    "    api_key=groq_key \n",
    ")"
   ]
  },
  {
   "cell_type": "code",
   "execution_count": 3,
   "metadata": {},
   "outputs": [
    {
     "data": {
      "text/plain": [
       "AIMessage(content=\"When considering PPI (Proton Pump Inhibitor) deprescribing for a patient at discharge, several factors should be evaluated to ensure safe and effective discontinuation. Here are the key considerations:\\n\\n1. **Indication for PPI use**: Review the original reason for starting the PPI. If the indication was for a short-term condition, such as gastroesophageal reflux disease (GERD) or peptic ulcer disease, and the condition has resolved, deprescribing may be appropriate.\\n2. **Duration of PPI use**: Assess the length of time the patient has been taking the PPI. Patients who have been on PPIs for less than 8 weeks are generally considered low-risk for rebound acid hypersecretion and may be more likely to tolerate discontinuation.\\n3. **Dose and frequency**: Evaluate the dose and frequency of the PPI. Patients on lower doses or less frequent dosing regimens may be more likely to tolerate discontinuation.\\n4. **Symptom control**: Assess the patient's current symptoms. If symptoms are well-controlled, and the patient is asymptomatic, deprescribing may be considered.\\n5. **Risk of rebound acid hypersecretion**: Consider the patient's risk of rebound acid hypersecretion, a condition where the stomach produces more acid after PPI discontinuation. Patients with a history of GERD, peptic ulcer disease, or those who have been on PPIs for an extended period are at higher risk.\\n6. **Alternative treatments**: Evaluate alternative treatments for the patient's condition, such as histamine-2 (H2) blockers or antacids, which may be used to manage symptoms after PPI discontinuation.\\n7. **Patient education and monitoring**: Educate the patient on the risks and benefits of PPI deprescribing and the importance of monitoring for symptoms after discontinuation. Schedule follow-up appointments to assess the patient's response to deprescribing.\\n8. **Concomitant medications**: Review the patient's concomitant medications, as some medications, such as nonsteroidal anti-inflammatory drugs (NSAIDs), may increase the risk of gastrointestinal complications after PPI discontinuation.\\n9. **Patient preferences and values**: Consider the patient's preferences and values regarding PPI use and deprescribing. Some patients may be motivated to discontinue PPIs due to concerns about long-term side effects or medication burden.\\n\\nBy evaluating these factors, healthcare providers can make informed decisions about PPI deprescribing and ensure a safe and effective transition for patients at discharge.\", response_metadata={'token_usage': {'completion_tokens': 516, 'prompt_tokens': 65, 'total_tokens': 581, 'completion_time': 2.064, 'prompt_time': 0.015122677, 'queue_time': 0.005109068999999999, 'total_time': 2.079122677}, 'model_name': 'llama-3.1-70b-versatile', 'system_fingerprint': 'fp_b3ae7e594e', 'finish_reason': 'stop', 'logprobs': None}, id='run-87aebeeb-5493-4152-898d-eace2b8ddb34-0', usage_metadata={'input_tokens': 65, 'output_tokens': 516, 'total_tokens': 581})"
      ]
     },
     "execution_count": 3,
     "metadata": {},
     "output_type": "execute_result"
    }
   ],
   "source": [
    "system = \"You are a knowledgeable medical provider who specializes in medication management.\"\n",
    "human = \"{text}\"\n",
    "prompt = ChatPromptTemplate.from_messages([(\"system\", system), (\"human\", human)])\n",
    "\n",
    "chain = prompt | llama_3_1\n",
    "chain.invoke({\"text\": \"Explain what should be evaluated for PPI deprescribing for a patient at discharge.\"})"
   ]
  },
  {
   "cell_type": "code",
   "execution_count": 4,
   "metadata": {},
   "outputs": [
    {
     "name": "stderr",
     "output_type": "stream",
     "text": [
      "C:\\Users\\micha\\AppData\\Local\\Temp\\ipykernel_4472\\2916397355.py:3: LangChainDeprecationWarning: The class `HuggingFaceEmbeddings` was deprecated in LangChain 0.2.2 and will be removed in 1.0. An updated version of the class exists in the langchain-huggingface package and should be used instead. To use it run `pip install -U langchain-huggingface` and import as `from langchain_huggingface import HuggingFaceEmbeddings`.\n",
      "  embeddings = HuggingFaceEmbeddings(model_name=\"NeuML/pubmedbert-base-embeddings\")\n",
      "f:\\LangChain\\.venv\\lib\\site-packages\\sentence_transformers\\cross_encoder\\CrossEncoder.py:13: TqdmWarning: IProgress not found. Please update jupyter and ipywidgets. See https://ipywidgets.readthedocs.io/en/stable/user_install.html\n",
      "  from tqdm.autonotebook import tqdm, trange\n"
     ]
    }
   ],
   "source": [
    "from langchain_community.embeddings import HuggingFaceEmbeddings\n",
    "from langchain_text_splitters import RecursiveCharacterTextSplitter\n",
    "embeddings = HuggingFaceEmbeddings(model_name=\"NeuML/pubmedbert-base-embeddings\")\n",
    "text_splitter = RecursiveCharacterTextSplitter()"
   ]
  },
  {
   "cell_type": "code",
   "execution_count": 5,
   "metadata": {},
   "outputs": [],
   "source": [
    "def extract_json_from_content(content):\n",
    "    # Find the JSON part within the content\n",
    "    start_index = content.find('{')\n",
    "    end_index = content.rfind('}') + 1\n",
    "    json_str = content[start_index:end_index]\n",
    "\n",
    "    # Parse the JSON string\n",
    "    parsed_json = json.loads(json_str)\n",
    "    \n",
    "    return parsed_json"
   ]
  },
  {
   "cell_type": "code",
   "execution_count": 6,
   "metadata": {},
   "outputs": [],
   "source": [
    "base_path = \"F:/LangChain/data/\"\n",
    "#noteConcepts = pd.read_csv(base_path + 'noteConcepts.txt', sep=\"|\")\n",
    "encounters = pd.read_csv(base_path + 'encounters.txt', sep=\"|\")\n",
    "#orders = pd.read_csv(base_path + 'orders.txt', sep=\"|\")\n",
    "#hospitalAcquiredDx = pd.read_csv(base_path + 'hospitalAcquiredDx.txt', sep=\"|\")\n",
    "#noteText = pd.read_csv(base_path + 'noteText.txt', sep=\"|\")\n",
    "#presentOnAdmitDx = pd.read_csv(base_path + 'presentOnAdmitDx.txt', sep=\"|\")\n",
    "#select random EncounterKey\n",
    "noteText = pd.read_csv(base_path + 'noteText.csv')\n",
    "encounterKey = 'DA15CCF42ACF8B'\n",
    "#encounterKey = encounters.sample(1)['EncounterKey'].values[0]"
   ]
  },
  {
   "cell_type": "code",
   "execution_count": 7,
   "metadata": {},
   "outputs": [],
   "source": [
    "#filter all dfs to the selected EncounterKey\n",
    "#noteConcepts = noteConcepts[noteConcepts['EncounterKey'] == encounterKey]\n",
    "#orders = orders[orders['EncounterKey'] == encounterKey]\n",
    "#hospitalAcquiredDx = hospitalAcquiredDx[hospitalAcquiredDx['EncounterKey'] == encounterKey]\n",
    "noteText = noteText[noteText['EncounterKey'] == encounterKey]\n",
    "#presentOnAdmitDx = presentOnAdmitDx[presentOnAdmitDx['EncounterKey'] == encounterKey]\n",
    "#encounters = encounters[encounters['EncounterKey'] == encounterKey]"
   ]
  },
  {
   "cell_type": "code",
   "execution_count": 8,
   "metadata": {},
   "outputs": [
    {
     "name": "stdout",
     "output_type": "stream",
     "text": [
      "         deid_note_key    EncounterKey    NoteDate DepartmentSpecialty  \\\n",
      "count               28              28          28                  28   \n",
      "unique              28               1           5                   1   \n",
      "top     D01E5762A11718  DA15CCF42ACF8B  2023-09-04   Inpatient Nursing   \n",
      "freq                 1              28          10                  28   \n",
      "\n",
      "        ProviderSpecialty ProviderType  \\\n",
      "count                  13           27   \n",
      "unique                  3           10   \n",
      "top     Hospital Medicine    Physician   \n",
      "freq                    7            8   \n",
      "\n",
      "                                                 NoteText  \n",
      "count                                                  28  \n",
      "unique                                                 28  \n",
      "top           CASE MANAGEMENT DISCHARGE     CASE MANAG...  \n",
      "freq                                                    1  \n"
     ]
    },
    {
     "data": {
      "text/html": [
       "<div>\n",
       "<style scoped>\n",
       "    .dataframe tbody tr th:only-of-type {\n",
       "        vertical-align: middle;\n",
       "    }\n",
       "\n",
       "    .dataframe tbody tr th {\n",
       "        vertical-align: top;\n",
       "    }\n",
       "\n",
       "    .dataframe thead th {\n",
       "        text-align: right;\n",
       "    }\n",
       "</style>\n",
       "<table border=\"1\" class=\"dataframe\">\n",
       "  <thead>\n",
       "    <tr style=\"text-align: right;\">\n",
       "      <th></th>\n",
       "      <th>deid_note_key</th>\n",
       "      <th>EncounterKey</th>\n",
       "      <th>NoteDate</th>\n",
       "      <th>DepartmentSpecialty</th>\n",
       "      <th>ProviderSpecialty</th>\n",
       "      <th>ProviderType</th>\n",
       "      <th>NoteText</th>\n",
       "    </tr>\n",
       "  </thead>\n",
       "  <tbody>\n",
       "    <tr>\n",
       "      <th>276</th>\n",
       "      <td>D01E5762A11718</td>\n",
       "      <td>DA15CCF42ACF8B</td>\n",
       "      <td>2023-09-05</td>\n",
       "      <td>Inpatient Nursing</td>\n",
       "      <td>NaN</td>\n",
       "      <td>Case Manager</td>\n",
       "      <td>CASE MANAGEMENT DISCHARGE     CASE MANAG...</td>\n",
       "    </tr>\n",
       "    <tr>\n",
       "      <th>639</th>\n",
       "      <td>D04D08F4BD461D</td>\n",
       "      <td>DA15CCF42ACF8B</td>\n",
       "      <td>2023-09-01</td>\n",
       "      <td>Inpatient Nursing</td>\n",
       "      <td>Emergency Medicine</td>\n",
       "      <td>Physician</td>\n",
       "      <td>XR KNEE 3 VIEWS LEFT    09/01/2023 9:51 PM\"   ...</td>\n",
       "    </tr>\n",
       "    <tr>\n",
       "      <th>665</th>\n",
       "      <td>D0501204CCC1D5</td>\n",
       "      <td>DA15CCF42ACF8B</td>\n",
       "      <td>2023-09-02</td>\n",
       "      <td>Inpatient Nursing</td>\n",
       "      <td>NaN</td>\n",
       "      <td>Nurse Practitioner</td>\n",
       "      <td>GERIATRICS ED CONSULT NOTE     The *****/GED (...</td>\n",
       "    </tr>\n",
       "    <tr>\n",
       "      <th>870</th>\n",
       "      <td>D06A180EC8A930</td>\n",
       "      <td>DA15CCF42ACF8B</td>\n",
       "      <td>2023-09-04</td>\n",
       "      <td>Inpatient Nursing</td>\n",
       "      <td>NaN</td>\n",
       "      <td>Physical Therapist</td>\n",
       "      <td>PHYSICAL THERAPY INITIAL EVALUATION    PT rele...</td>\n",
       "    </tr>\n",
       "    <tr>\n",
       "      <th>5537</th>\n",
       "      <td>D2D253B7F254E0</td>\n",
       "      <td>DA15CCF42ACF8B</td>\n",
       "      <td>2023-09-05</td>\n",
       "      <td>Inpatient Nursing</td>\n",
       "      <td>Hospital Medicine</td>\n",
       "      <td>Physician</td>\n",
       "      <td>Dear ***** *****    You were admitted for Pulm...</td>\n",
       "    </tr>\n",
       "  </tbody>\n",
       "</table>\n",
       "</div>"
      ],
      "text/plain": [
       "       deid_note_key    EncounterKey    NoteDate DepartmentSpecialty  \\\n",
       "276   D01E5762A11718  DA15CCF42ACF8B  2023-09-05   Inpatient Nursing   \n",
       "639   D04D08F4BD461D  DA15CCF42ACF8B  2023-09-01   Inpatient Nursing   \n",
       "665   D0501204CCC1D5  DA15CCF42ACF8B  2023-09-02   Inpatient Nursing   \n",
       "870   D06A180EC8A930  DA15CCF42ACF8B  2023-09-04   Inpatient Nursing   \n",
       "5537  D2D253B7F254E0  DA15CCF42ACF8B  2023-09-05   Inpatient Nursing   \n",
       "\n",
       "       ProviderSpecialty        ProviderType  \\\n",
       "276                  NaN        Case Manager   \n",
       "639   Emergency Medicine           Physician   \n",
       "665                  NaN  Nurse Practitioner   \n",
       "870                  NaN  Physical Therapist   \n",
       "5537   Hospital Medicine           Physician   \n",
       "\n",
       "                                               NoteText  \n",
       "276         CASE MANAGEMENT DISCHARGE     CASE MANAG...  \n",
       "639   XR KNEE 3 VIEWS LEFT    09/01/2023 9:51 PM\"   ...  \n",
       "665   GERIATRICS ED CONSULT NOTE     The *****/GED (...  \n",
       "870   PHYSICAL THERAPY INITIAL EVALUATION    PT rele...  \n",
       "5537  Dear ***** *****    You were admitted for Pulm...  "
      ]
     },
     "execution_count": 8,
     "metadata": {},
     "output_type": "execute_result"
    }
   ],
   "source": [
    "print(noteText.describe())\n",
    "\n",
    "noteText.head()"
   ]
  },
  {
   "cell_type": "code",
   "execution_count": 9,
   "metadata": {},
   "outputs": [],
   "source": [
    "from langchain_community.document_loaders import DataFrameLoader\n",
    "loader = DataFrameLoader(\n",
    " data_frame = noteText,\n",
    " page_content_column = \"NoteText\",\n",
    " engine=\"pandas\",\n",
    ")\n",
    "\n",
    "documents = loader.load_and_split()"
   ]
  },
  {
   "cell_type": "code",
   "execution_count": 10,
   "metadata": {},
   "outputs": [
    {
     "name": "stdout",
     "output_type": "stream",
     "text": [
      "page_content='Patient Demographics     Address  ***** *****. ***** ***** ***** ***** *****  ***** ***** ***** ***** Phone  *****-*****-***** (Home) *****Preferred*****  *****-*****-***** (Mobile) E-mail Address  *****@*****.*****      Cover Sheet      Discharge Attending *****  ***** Attending: ***** ***** ***** MD  Office Phone: *****-*****-*****  Pager: ***** ***** ***** Md  Note: These phone numbers may not be answered or checked 24/7. If you do not receive a response please call *****-*****-***** and ask the operator to page ***** ***** ***** MD or the covering physician.  The patient's Primary Care Physician may also be able to assist with questions regarding long term management. Primary Care Provider  Name: ***** ***** ***** *****  Address:No address on file  Phone:None  Fax:415-353-2703     Emergency Contact  Extended Emergency Contact Information  Primary Emergency Contact: **********  ***** Phone: *****-*****-*****  Relation: Mother   Discharge Case Manager  Name:  ***** *****  *****: *****-*****-*****   Booked UCSF Appointments     Advanced Care Planning    Code Status: Full Code  POLST:NO POLST document on file    AD: NO advanced directive on file    Active Health Care Agents    There are no active Health Care Agents on file.       Advanced Care Planning Note: Yes. The UCSF Medical Record contains additional advanced care planning documentation for this patient that should be contained within this packet or as part of the discharge summary. If not please contact the discharging attending ***** ***** ***** ***** that documentation.    High Risk Medication in ***** ***** *****  Anticoagulant:None    Opiate:None    Antipsychotic:None    Hypoglycemic:None    Diuretic:None    Benzodiazepine or Muscle relaxant: None     ***** Functional LImitations:   ***** in ***** and IADLs using SPC for community mobility.  Physical Therapist Global Assessment of Mobility:  Activity Achieved: Walking/Wheelchair 5-200ft with any level of \" Dose: Stopped (09/03/23 0143)  Start: 09/02/23 2345   End: 09/03/23 0143     0031 (400 mg)-New Bag     0143-Ended            4 Day History From ***** - Discontinued Medications  Medications 09/02/23 09/03/23 09/04/23 09/05/23       0.9% sodium chloride flush injection syringe 3 mL  Dose: 3 mL  Freq: PRN Route: IV  PRN Reason: Line Care  PRN Comment: line flush after each use  Start: 09/02/23 1930   End: 09/02/23 1935    1935-D/C'd           0.9% sodium chloride flush injection syringe 3 mL  Dose: 3 mL  Freq: Every 12 Hours Scheduled Route: IV  Start: 09/02/23 2100   End: 09/02/23 1935    1935-D/C'd           enoxaparin (LOVENOX) injection syringe 80 mg  Dose: 1 mg/kg  Weight Dosing Info: 85.8 kg  Freq: Every 12 Hours Scheduled Route: Subcut  Indications of Use: VTE Treatment  Start: 09/02/23 0900   End: 09/02/23 1929    1024 (80 mg)-Given [C]     1929-D/C'd          HYDROcodone-acetaminophen (NORCO) 10-325 mg tablet 1 tablet  Dose: 1 tablet  Freq: Once Route: Oral  Start: 09/02/23 0100   End: 09/02/23 0055    0055-D/C'd           influenza vaccine (age >/= 65 yrs) (PF) (FLUZONE HIGH-DOSE) injection syringe 0.7 mL  Dose: 0.7 mL  Freq: Once Route: IM  Start: 09/05/23 1230   End: 09/05/23 1204       1204-D/C'd        metoprolol tartrate (LOPRESSOR) tablet 100 mg  Dose: 100 mg  Freq: 2 Times Daily Scheduled Route: Oral  Start: 09/02/23 0245   End: 09/02/23 1930    0335 (100 mg)-Given     0804 (100 mg)-Given       1930-D/C'd                \" assistance with or without assist device  Activity Recommendations:   Up to chair for meals with L LE elevated as patient tolerates  Inpatient Rehab Assistive Device Recommendation:   Sit-to-stand device (non-powered)   Activity *****:   Up to chair for meals with L LE elevated as patient tolerates  Precautions and Weight Bearing Status:   fall risk   Social and Support Systems:  Preferred language: English  Interpreter Needed? No  Prior Living Environment:  Lives alone in an apartment. No STE and elevator accessible inside. Walk in shower.  Social Support:  none' metadata={'deid_note_key': 'D3C482E12E3C66', 'EncounterKey': 'DA15CCF42ACF8B', 'NoteDate': '2023-09-05', 'DepartmentSpecialty': 'Inpatient Nursing', 'ProviderSpecialty': nan, 'ProviderType': nan}\n",
      "51\n"
     ]
    }
   ],
   "source": [
    "print(documents[10])\n",
    "print(len(documents))\n"
   ]
  },
  {
   "cell_type": "code",
   "execution_count": 11,
   "metadata": {},
   "outputs": [],
   "source": [
    "import faiss\n",
    "from langchain_community.docstore.in_memory import InMemoryDocstore\n",
    "from langchain_community.vectorstores import FAISS\n",
    "\n",
    "\n",
    "vector_store = FAISS.from_documents(documents, embeddings)"
   ]
  },
  {
   "cell_type": "code",
   "execution_count": 12,
   "metadata": {},
   "outputs": [
    {
     "data": {
      "text/plain": [
       "[(Document(metadata={'deid_note_key': 'D0501204CCC1D5', 'EncounterKey': 'DA15CCF42ACF8B', 'NoteDate': '2023-09-02', 'DepartmentSpecialty': 'Inpatient Nursing', 'ProviderSpecialty': nan, 'ProviderType': 'Nurse Practitioner'}, page_content='GERIATRICS ED CONSULT NOTE     The *****/GED (Age-friendly emergency department or Geriatric ED) Consult Service assessed this patient as part of our older adult care pathway. The following is a summary and the details can be found in the A/P. This note will be routed to the PCP and any care recommendations will be shared with ED providers and staff and inpatient services as appropriate.    My date of service is 09/02/2023.    Geriatrics ED consult requested by ***** ***** ***** of the Emergency Medicine service for evaluation of geriatric syndromes.    AGE FRIENDLY Emergency Department Consult Note (Geriatrics)  Assessment and Plan Summary    The *****/GED (Age-friendly emergency department or Geriatric ED) Consult Service evaluated the patient at ***** (***** Campus) as part of our older adult care pathway. The following is a summary and the details can be found in the A/P.    Screening Concern  Comments   Delirium or cognitive impairment risk or mood disorder concerns No    Function or mobility or sensory impairment concerns Yes Independent ADLs/iADLs. Requires single cane. Hx falls. Has OA and chronic back pain. ***** - precontemplative.    Medication concerns Yes Needs refills for blood thinners.    ***** abuse/Self-Neglect concerns No    Home safety concerns No    Caregiver Stress/Social Isolation concerns No    Translation Needed No    Advanced Directive No    Nutrition/Food Security No    Referrals Yes Recommend ***** follow up for PCP linkage   Other       Feel free to access this resource for deprescribing in older adults.  Resources for Clinicians - US Deprescribing Research Network    I communicated with the following as part of this consultation: ***** ***** *****      History of Present Illness  Mr. ***** ***** is a ***** y.o. independent male with HTN SVT PE DVT on Eliquis DM EtOH abuse OA s/p total knee replacement ankylosing spondylitis on chronic prednisone and hx homelessness p/w \" left posterior leg pain worse around his knee within last couple of days.    Patient recently moved to ***** ***** ***** ***** 3 months ago. He has not found a PCP yet but not interested in primary care resources at the moment. While he has refills on most of his medications he did run out of Eliquis; he reported to ED that he was in process of transitioning to warfarin d/t prednisone interaction and decreased efficacy of Eliquis. He has stable housing. He does not drive but relies on MUNI. He is independent ADLs/iADLs. He ambulates with a cane. Chart review indicated multiple ED admissions and hospitalizations sometimes average *****-3x per month. Most recently pt was ***** to ***** ***** in May 2023 for ***** s/p heavy EtOH use; ***** ***** completed shelter referral and taxi voucher to go to ***** Navigation Center.    Past Medical History:   Diagnosis Date   • Diabetes (CMS code)    • Diabetes mellitus (CMS code)    • GERD (gastroesophageal reflux disease)     Barretts appearing mucosa but not dysplasia on path   • Hypertension    • Obesity     BMI 35   • Orchitis    • Polymyalgia rheumatica (CMS code)    • Prostate cancer (CMS code)    • SVT (supraventricular tachycardia)    • Urinary tract infection    • Vascular disease      Past Surgical History:   Procedure Laterality Date   • KNEE SURGERY      ACL repair   • PROSTATE SURGERY  2013   • SHOULDER SURGERY      rotator cuff arthroscopy   • TOTAL KNEE ARTHROPLASTY  2011    Lt knee       Allergies: Patient has no known allergies.     Geriatric Review of Symptoms  *****      Date/Time ***** Score AWOL Score ***** Delirium Risk Nu-DESC Score Stratify Score Who   09/02/23 1259 -- 0 Low 0 -- *****   09/02/23 0800 1 -- -- -- -- *****   09/02/23 0759 -- -- -- -- 1 CM           ***** *****-***** *****  All scores + if =/> 2 (all +s show in red)     STEADI      Date/Time ***** in last yr Unsteady stand/walk Worries about falling Who   09/02/23 1255 Yes Yes No CK           STEADI  Yes to any is \" positive     Activities of Daily Living (ADL)    Bathing: Independent  Dressing:'),\n",
       "  215.4978),\n",
       " (Document(metadata={'deid_note_key': 'D0501204CCC1D5', 'EncounterKey': 'DA15CCF42ACF8B', 'NoteDate': '2023-09-02', 'DepartmentSpecialty': 'Inpatient Nursing', 'ProviderSpecialty': nan, 'ProviderType': 'Nurse Practitioner'}, page_content='last yr Unsteady stand/walk Worries about falling Who   09/02/23 1255 Yes Yes No CK           STEADI  Yes to any is \" positive     Activities of Daily Living (ADL)    Bathing: Independent  Dressing: Independent  Toileting: Independent  Transferring: Independent  Continence: Independent  Feeding: Independent  Walking: Independent  Assistive devices used: walking cane  Score: 14    Instrumental Activities of Daily Living (IADL)    Cooking: Independent  Cleaning: Independent  Shopping: Independent  Managing Finances: Independent  Taking Medications: Independent  Telephone: Independent  Using transportation such as car or bus: Independent  takes MUNI  Score: 14    *****      Date/Time AM-PAC Score Mini-Cog Asmt Nutrition Score EASI Loneliness Who   09/02/23 1259 -- -- -- Negative -- *****   09/02/23 1256 -- Normal -- -- -- CK           Nutrition Screen  0-7 malnourished  May 03 at risk  September 05 normal    ***** Abuse Screen  Positive = Yes on any Q2-6  Negative = No on Q2-6  -- = incomplete    Mini-Cog  0-2 is positive out of 5  ***** value = 2  Reads as + or -     *****      Date/Time ***** Dementia Score PHQ-2 Score ***** Score ***** Score Who   09/02/23 1257 -- 0 -- Negative *****           ***** cognitive screen  2+ is positive    ***** Caregiver Stress *****  >30/50 correlates with stress and strain    *****-Delirium  Positive = yes in Q1  Q2>1  Q3>***** ***** ***** any error              Geriatric ROS  Driving:   Does not drive.  Safety:  Feels safe at home: Yes.   Falls:  Has fallen in the last year. no fear of falling. no concerns about balance. unstable gait.  Memory:  Is not forgetful.  Polypharmacy:  Takes more than four medications each day. does not have difficulty taking medications. Medication Assistance: None  Sensory:  No hearing aids. no difficulty hearing. no glasses (distance). glasses (reading). no dentures.  Sleep:  Has difficulty falling asleep. has difficulty staying asleep . takes medication for sleep.      Review of Systems   Constitutional:  Negative for chills and fever.   Respiratory:  Negative for hemoptysis and shortness of \" breath.    Cardiovascular:  Positive for leg swelling. Negative for chest pain.   Musculoskeletal:  Positive for joint pain.        Left knee swelling.    Neurological:  Negative for dizziness.        No numbness.   Psychiatric/Behavioral:  Negative for depression and memory loss.        Healthcare Resource Access:  Are you comfortable accessing and utilizing healthcare resources and your health information? Yes    Continence:        Do you ever leak urine while coughing sneezing laughing or exercising?  No       Do you feel like you have to urinate but are unable to make it to the bathroom in time? No    Food Security:        Do you ever have any difficulty accessing or preparing food?  No    Advanced Care Planning:        I have reviewed the Prior to Admission Medication list as well as the current inpatient medication list: Yes    Current Outpatient Medications   Medication Instructions   • calcium carbonate 200 mg 2 Times Daily With Meals Scheduled   • HYDROcodone-acetaminophen (NORCO) 5-325 mg tablet 1 tablet Every 6 Hours PRN   • metoprolol tartrate (LOPRESSOR) 100 mg Oral Twice Daily   • omeprazole (PRILOSEC) 40 mg Daily Scheduled   • predniSONE (DELTASONE) 10 mg Oral Daily Scheduled       Social History     Socioeconomic History   • Marital status: Single   Tobacco Use   • Smoking status: Former   • Smokeless tobacco: Former     Quit date: 01/04/1980   Substance and Sexual Activity   • Alcohol use: Yes     Alcohol/week: 1.0 standard drink of alcohol     Types: 1 Shots of liquor per week     Comment: occasionally    • Drug use: No   Social History Narrative    Disability        09/02/23: Patient is disabled. He currently lives alone and remains independent ADLs/iADLs. Previously divorced w/o kids. Was living in ***** *****. Prior to becoming disabled he worked briefly as a substitute teacher but did not receive his teaching credentials. He holds a ***** in'),\n",
       "  217.7792),\n",
       " (Document(metadata={'deid_note_key': 'DFAD37CC214410', 'EncounterKey': 'DA15CCF42ACF8B', 'NoteDate': '2023-09-03', 'DepartmentSpecialty': 'Inpatient Nursing', 'ProviderSpecialty': nan, 'ProviderType': 'Social Worker'}, page_content='AGE-FRIENDLY EMERGENCY DEPARTMENT   SOCIAL WORK ASSESSMENT     Your older adult patient was evaluated in the UCSF ***** ***** by our Age-Friendly ED Pathway social worker on 09/01/2023. ***** ***** is a ***** y.o. male who was seen in the ED for Knee Pain (Acute on  chronic left knee pain reports hx of dvt. ). Age-Friendly Emergency Department Social Work was consulted for ***** social worker. The details of the assessment and plan are documented below and will be routed to the PCP for their review.    Data:     Referral Source:   Referral Source: Medical Care Team  Referral Name: ***** ***** ***** *****-C    Presenting Concerns: Psychosocial assessment    Mode of Contact: *****-*****    Source of Information: Patient    Interpreter Needed? No        PCP: None Per Patient Provider     Insurance: Payor: MEDICARE / Plan: PART A&B MCARE / Product Type: Medicare /     Advance Care Planning   Advance Health Care Directive: The patient does not have an Advance Health Care Directive but reported if he completed the form he would name ***** ***** ***** ***** as his proxy. The purpose of an Advance Health Care Directive was reviewed with the patient and he was provided with the UCSF Advance Health Care Directive form. The patient agreed that if he completes the document he will provide a copy to UCSF for inclusion in his medical record.      Current Residence: Apartment/ *****  Lives with: Alone    Home Accessibility: No steps to enter    Activities of Daily Living:   Activities of Daily Living (ADL)    Bathing: Independent  Dressing: Independent  Toileting: Independent  Transferring: Independent  Continence: Independent  Feeding: Independent  Walking: Independent  Assistive devices used: walking cane  Score: 14    Instrumental Activities of Daily Living (IADL)    Cooking: Independent  Cleaning: Independent  Shopping: Independent  Managing Finances: Independent  Taking Medications: Independent  Telephone: \" Independent  Using transportation such as car or bus: Independent  takes MUNI  Score: 14     Transportation: Public Transportation  Disability placard?      Support System: Parent(s)/Legal Guardian    Community Contacts/Providers/Services: None    Work History: Disabled Special Ed teacher assistant    Education History: ***** graduate    Special Learning Needs:      Veteran?:    Uses VA benefits?        Income Source: Social Security Administration (SSA) Supplemental Security Income (SSI)    Mental Health History:   Current Mental Status: Alert oriented x3    Cognition/Memory Impairment: None    Substance Use History:   Patient has history of substance use?: Yes  Substances : Alcohol    Assessment:     ***** with pt at bedside for assessment.  Pt was ***** he was cooperative however was a bit agitated when speaking to this writer.  Pt originally from ***** ***** and moved to ***** ***** 3 months ago.  Pt initially homeless and now living at ***** *****.  Pt reports to be independent with adl\\'s and iadl\\'s prior to hospitalization.  Pt has not established primary care in *****; encouraged pt to do so as he reported running out of medication.  He shares that he has attempted ***** ***** ***** for Medi-Cal insurance however he has not been successful and is awaiting a call back from county.  Provided information re: IHSS and how to sign up if he is needing more long term support; he is unclear at this time if he will return to ***** ***** was open to the information.      Interventions/Plan:     -Psychosocial assessment completed  -Resources to be placed in *****  -Plan for admission; inpatient team to follow    Thank you for involving us with the care of this patient.    Community Resources - Admitted Since 09/01/2023       Service Provider Selected Services Address Phone Fax    In-Home Supportive Services (IHSS) - ***** ***** ***** Assistance   Government Benefits ***** ***** ***** ***** ***** ***** ***** \" *****-*****-***** --    Human Services Agency of ***** ***** - Medi-Cal Government Benefits ***** ***** *****. ***** ***** *****'),\n",
       "  233.20294),\n",
       " (Document(metadata={'deid_note_key': 'D0501204CCC1D5', 'EncounterKey': 'DA15CCF42ACF8B', 'NoteDate': '2023-09-02', 'DepartmentSpecialty': 'Inpatient Nursing', 'ProviderSpecialty': nan, 'ProviderType': 'Nurse Practitioner'}, page_content='on MiniCog. His memory seems to be intact with respect to his medical history and basic orientation questions.   - Monitor    #Frequent ED admissions  #Alcohol use disorder  Concerning given hx EtOH abuse and homelessness. Currently pt reports to me that he has stable housing. While he denies recreational drug use or cigarette use when I \" query how many alcoholic drinks he has weekly he dodges my question by saying that he does not keep track. It would appear that he is remains precontemplative regarding his drinking behaviors. He has also declined community dental and primary care resources at this time.  - Recommend ***** for discharge follow up given risks for ED readmission. Patient also needs to be linked to a primary care for regular medication adjustments and refills  - If patient is amenable recommend ED substance abuse navigator SW resources      I spent a total time of 80 minutes in this episode of care preparing to see the patient obtaining and/or reviewing separately obtained history performing a medically appropriate examination and/or evaluation counseling and educating patient/family/caregiver ordering and reviewing medications tests or procedures referring and communicating with other health care professionals documenting clinical information in the electronic or other health record and communicating results to the patient/family/caregiver and/or other care coordination.    Code Status: FULL    ***** ***** ***** NP  09/02/2023    Referral via secure email was forwarded to the community-based organization(s) noted below with the minimum information required for continuity of healthcare on behalf of the patient and/or caregiver. The agency may not be HIPAA compliant but the patient and/or family caregiver agreed to the referral.     Referral Acknowledgement Comments   UCSF Health Memory and Aging Center Not applicable Formal Cognitive Assessment    ***** ***** Integrative Medicine Not applicable Formal Geriatric Outpatient Assessment    On ***** Connected Care Not applicable Community Resource Needs Planning   ***** Family Caregiver ***** Not applicable Community Resource Needs Planning   ***** ADRC Referral Center Not applicable Community Resource Needs Planning   Project Open Hand  Not applicable Community Resource Needs \" Planning   UCSF ***** Program Not applicable UCSF Population Health Discharge Follow-up   Other Not applicable      \"'),\n",
       "  233.65373),\n",
       " (Document(metadata={'deid_note_key': 'DFDE7DEE8FF399', 'EncounterKey': 'DA15CCF42ACF8B', 'NoteDate': '2023-09-05', 'DepartmentSpecialty': 'Inpatient Nursing', 'ProviderSpecialty': 'Hospital Medicine', 'ProviderType': 'Physician'}, page_content='equipment or existing home modifications:  spc shower ***** grab bars in \" shower  Prior functional limitations:  ***** in ***** and IADLs using SPC for community mobility.  Rehab potential:  Patient participates well in therapy and progressing towards goals  Discharge Activity comments:  Up to chair for meals with L LE elevated as patient tolerates    Functional Assessment at *****/Activity Goals  Patient has had the following changes from baseline functional status: unable to walk normally from L l eg pain.    Special comment on risk of falls in this patient:    This patient is at risk for functional decline or falls and may benefit from continued home physical therapy and referral to community based services (such as community based ***** ***** yoga or walking services). Other supportive care (such as a podiatry and ophthalmology evaluations) may also be useful.    This patient may also benefit from vitamin D 800IU daily to reduce risk of fracture and serious injury.  In some cases calcium supplementation may also be appropriate.      Allergies and Medications at *****    Allergies: Patient has no known allergies.    Your Medications at the End of This Hospitalization               acetaminophen (TYLENOL) 325 mg tablet Take 2 tablets (650 mg total) by mouth every 4 (four) hours as needed for Pain    apixaban (ELIQUIS) 5 mg tablet Take 1 tablet (5 mg total) by mouth 2 (two) times daily    calcium carbonate 260 mg calcium (648 mg) TAB tablet Take 200 mg by mouth 2 (two) times daily with meals.    meTOPROLOL tartrate (LOPRESSOR) 50 mg tablet Take 1 tablet (50 mg total) by mouth in the morning and 1 tablet (50 mg total) in the evening.    omeprazole (PRILOSEC) 40 mg capsule Take 1 capsule (40 mg total) by mouth daily    predniSONE (DELTASONE) 5 mg tablet Take 4 tablets (20 mg total) by mouth daily    rivaroxaban (XARELTO) 15 mg tablet Take 1 tablet (15 mg total) by mouth in the morning and 1 tablet (15 mg total) in the evening. Take with meals. Do all this for 20 days.    \" rivaroxaban (XARELTO) 20 mg tablet Starting on 09/23/2023. Take 1 tablet (20 mg total) by mouth daily with dinner Start after completing the 15mg twice a day dosing.    thiamine mononitrate vit B1 100 mg tablet Starting on 09/06/2023. Take 1 tablet (100 mg total) by mouth daily          Immunizations Administered for This Admission       Name *****    HIGH DOSE INFLUENZA    Incomplete               Pending Tests   Pending Labs       Order Current Status    Bacterial Culture Normally Sterile Sites With Gram Stain Preliminary result            Outside Follow-up   Contact information for after-discharge care       Destination       ***** ***** ACUTE .    Service: Skilled Nursing  Contact information  ***** ***** *****  ***** ***** ***** *****  *****-*****-*****                     Community Resources       Human Services Agency of ***** ***** - Medi-Cal .    Service: Government Benefits  Contact information  ***** ***** *****.  ***** ***** ***** *****  *****-*****-*****  Additional information:  Medical coverage for people who are low-income disabled pregnant seniors & children in ***** care or former ***** youth <27yrs. Mon-Fri 8am-5pm (drop-in) & 9am-5pm(office)             In-Home Supportive Services (IHSS) - ***** ***** .    Services: Household Assistance Government Benefits  Contact information  ***** ***** *****  ***** ***** ***** *****  *****-*****-*****  Additional information:  Home health aide emergency-next or 3-4 week wait. M-F 8AM-5PM. English ***** Chinese ***** Vietnamese Filipino                                       Booked UCSF Appointments  No future appointments.    Pending UCSF Referrals  None    Case Management Services Arranged  Case Management Services Arranged: (all recorded)       Outside Services Arranged For You       ***** Name         SNF/Subacute    Authorization # --    MD to MD discussion completed Yes    RN to RN report phone number (*****) *****-*****    \" Services Arranged Physical Therapy;Occupational Therapy    SNF Waiver'),\n",
       "  234.77951)]"
      ]
     },
     "execution_count": 12,
     "metadata": {},
     "output_type": "execute_result"
    }
   ],
   "source": [
    "vector_store.similarity_search_with_score(\"how old is the patient?\", search_type=\"similarity\", k=5)"
   ]
  },
  {
   "cell_type": "code",
   "execution_count": 13,
   "metadata": {},
   "outputs": [],
   "source": [
    "def format_docs(docs):\n",
    "    return \"\\n\\n\".join(doc.page_content for doc in docs)"
   ]
  },
  {
   "cell_type": "code",
   "execution_count": 14,
   "metadata": {},
   "outputs": [],
   "source": [
    "retriever = vector_store.as_retriever(search_type=\"similarity\", k=5)"
   ]
  },
  {
   "cell_type": "code",
   "execution_count": 15,
   "metadata": {},
   "outputs": [
    {
     "name": "stdout",
     "output_type": "stream",
     "text": [
      "================================\u001b[1m System Message \u001b[0m================================\n",
      "\n",
      "You are a knowledgeable medical provider who specializes in medication management. Given a list of diagnosis and some snippets from patients notes \u001b[33;1m\u001b[1;3m{context}\u001b[0m, answer if the patient notes contain any of the diagnosis.\n",
      "\n",
      "================================\u001b[1m Human Message \u001b[0m=================================\n",
      "\n",
      "\u001b[33;1m\u001b[1;3m{input}\u001b[0m\n"
     ]
    }
   ],
   "source": [
    "system = \"You are a knowledgeable medical provider who specializes in medication management. Given a list of diagnosis and some snippets from patients notes {context}, answer if the patient notes contain any of the diagnosis.\"\n",
    "prompt = ChatPromptTemplate.from_messages(\n",
    "        [\n",
    "        (\"system\", system), (\"human\", \"{input}\")\n",
    "        ])\n",
    "prompt.pretty_print()"
   ]
  },
  {
   "cell_type": "code",
   "execution_count": 16,
   "metadata": {},
   "outputs": [],
   "source": [
    "from langchain_core.documents import Document\n",
    "from langchain_core.output_parsers import StrOutputParser\n",
    "from langchain_core.runnables import RunnablePassthrough"
   ]
  },
  {
   "cell_type": "code",
   "execution_count": 17,
   "metadata": {},
   "outputs": [],
   "source": [
    "rag_chain = (\n",
    "        {\"context\": retriever | format_docs,\n",
    "         \"input\": RunnablePassthrough()}\n",
    "        | prompt \n",
    "        | llama_3_1\n",
    "        | StrOutputParser()\n",
    ")\n"
   ]
  },
  {
   "cell_type": "code",
   "execution_count": 18,
   "metadata": {},
   "outputs": [
    {
     "name": "stdout",
     "output_type": "stream",
     "text": [
      "```json\n",
      "{\n",
      "  \"1. Mild to moderate esoophagitis\": false,\n",
      "  \"2. GERD\": true,\n",
      "  \"3. Peptic Ulcer Disease\": false,\n",
      "  \"4. Upper GI symptoms\": false,\n",
      "  \"5. ICU Stress Ulcer Prophylaxis\": false,\n",
      "  \"6. Barrett's Esophagus\": true,\n",
      "  \"7. Chronic NSAID use with bleeding risk\": false,\n",
      "  \"8. Severe esophagitis\": false,\n",
      "  \"9. Documented history of bleeding GI ulcer\": false,\n",
      "  \"10. Reasoning\": \"The patient's medical history indicates that they have GERD (gastroesophageal reflux disease) and Barrett's esophagus, which is a complication of GERD. However, there is no mention of mild to moderate esophagitis, peptic ulcer disease, upper GI symptoms, ICU stress ulcer prophylaxis, severe esophagitis, or a documented history of bleeding GI ulcer. Additionally, there is no indication of chronic NSAID use with bleeding risk.\"\n",
      "}\n",
      "```\n",
      "\n",
      "Note: The patient is taking omeprazole (PRILOSEC) which is a proton pump inhibitor (PPI) commonly used to treat GERD and other acid-related disorders. This further supports the presence of GERD in the patient's medical history.\n"
     ]
    }
   ],
   "source": [
    "response = rag_chain.invoke(\"\"\"Based on the information from the note context, does the patient have any of the following:\n",
    "              1. Mild to moderate esoophagitis\n",
    "              2. GERD \n",
    "              3. Peptic Ulcer Disease\n",
    "              4. Upper GI symptoms\n",
    "              5. ICU Stress Ulcer Prophylaxis\n",
    "              6. Barrett's Esophagus\n",
    "              7. Chronic NSAID use with bleeding risk\n",
    "              8. Severe esophagitis\n",
    "              9. Documented history of bleeding GI ulcer\n",
    "              10. Explain the reasoning for your answer\n",
    "            Return the answer for each of these as a formatted JSON object with the key being the condition and the value being a boolean value for the first 9.  For the final question, return a string with the reasoning for your answer.\"\"\")\n",
    "print(response)"
   ]
  },
  {
   "cell_type": "code",
   "execution_count": 47,
   "metadata": {},
   "outputs": [],
   "source": [
    "rag_chain = (\n",
    "        RunnablePassthrough.assign(context=(lambda x: format_docs(x[\"context\"])))\n",
    "        | prompt \n",
    "        | llama_3_1\n",
    "        | StrOutputParser()\n",
    ")\n",
    "\n",
    "\n",
    "retrieve_docs =  {\"context\": retriever | format_docs,\n",
    "                \"input\": RunnablePassthrough()}\n",
    "\n",
    "retrieve_docs = (lambda x: x[\"input\"]) | retriever\n",
    "\n",
    "chain = RunnablePassthrough.assign(context=retrieve_docs).assign(\n",
    "    answer=rag_chain\n",
    ")"
   ]
  },
  {
   "cell_type": "code",
   "execution_count": 48,
   "metadata": {},
   "outputs": [
    {
     "name": "stdout",
     "output_type": "stream",
     "text": [
      "{'input': \"Based on the information from the note context, does the patient have any of the following:\\n              1. Mild to moderate esoophagitis\\n              2. GERD \\n              3. Peptic Ulcer Disease\\n              4. Upper GI symptoms\\n              5. ICU Stress Ulcer Prophylaxis\\n              6. Barrett's Esophagus\\n              7. Chronic NSAID use with bleeding risk\\n              8. Severe esophagitis\\n              9. Documented history of bleeding GI ulcer\\n              10. Explain the reasoning for your answer\\n            Return the answer for each of these as a formatted JSON object with the key being the condition and the value being a boolean value for the first 9.  For the final question, return a string with the reasoning for your answer.\", 'context': [Document(metadata={'deid_note_key': 'D4924D4A405D5E', 'EncounterKey': 'DA15CCF42ACF8B', 'NoteDate': '2023-09-02', 'DepartmentSpecialty': 'Inpatient Nursing', 'ProviderSpecialty': 'UCSF', 'ProviderType': 'Nurse Practitioner'}, page_content='EMERGENCY DEPARTMENT PHYSICIAN NOTE      ED Attending(s): ***** ***** ***** 09/02/23 00:14; ***** ***** 09/02/23 01:02    Chief Complaint   Patient presents with    Knee Pain     Acute on  chronic left knee pain reports hx of dvt.        HISTORY     Interpreter used? (Optional):     ***** ***** is a ***** y.o. old male with hx of HTN SVT PE DVT on Eliquis DM total knee replacement ankylosing spondylitis on chronic prednisone presented here with left posterior leg pain worse around his knee symptom is acute on chronic worse the last couple days.  No new trauma or *****.  Also admits not taking his Eliquis for the last month as he ran out of prescription.  Recently moved to ***** ***** from ***** *****.  He was in the process of transitioning to warfarin due to prednisone interaction and subsequent decreasing efficacy of Eliquis.  Pain is described as achy/sharp aggravated with movement ambulates with a cane at baseline no radiation.  Reports that his knee has been more swelling than usual.  No fever or chills.  No numbness or tingling.  Denies any chest pain shortness of breath hemoptysis.  No dizziness.    Allergies/Contraindications  No Known Allergies      Medical History    Past Medical History   Diagnosis Date    Diabetes     Diabetes mellitus     GERD (gastroesophageal reflux disease)     Barretts appearing mucosa but not dysplasia on path    Hypertension     Obesity     BMI 35    Orchitis     Polymyalgia rheumatica     Prostate cancer     SVT (supraventricular tachycardia)     Urinary tract infection     Vascular disease               Surgical History    Past Surgical History:   Procedure Laterality Date    KNEE SURGERY      ACL repair    PROSTATE SURGERY  2013    SHOULDER SURGERY      rotator cuff arthroscopy    TOTAL KNEE ARTHROPLASTY  2011    Lt knee              Family History    Family History   Problem Relation Name Age of Onset    Cancer Father      Tuberculosis Father      \" Hiatal hernia Mother      Scoliosis Mother      Cancer Brother          prostate cancer    Anesth problems Neg Hx               Social History     Socioeconomic History    Marital status: Single   Tobacco Use    Smoking status: Former    Smokeless tobacco: Former     Quit date: 01/04/1980   Substance and Sexual Activity    Alcohol use: Yes     Alcohol/week: 1.0 standard drink of alcohol     Types: 1 Shots of liquor per week     Comment: occasionally     Drug use: No   Social History Narrative    Disability           PHYSICAL EXAM     Triage Vital Signs:  BP: (!) 147/81 Pulse: 90 Pulse - Palpated/Pleth: 87 Temp: 36.9 °C (98.5 °*****) *****Resp: 16 SpO2: 98 %    Physical Exam  Constitutional:       Appearance: Normal appearance.   HENT:      Head: Normocephalic.      Mouth/Throat:      Mouth: Mucous membranes are moist.      Pharynx: Oropharynx is clear.   Eyes:      Conjunctiva/sclera: Conjunctivae normal.   Cardiovascular:      Rate and Rhythm: Normal rate.   Pulmonary:      Effort: Pulmonary effort is normal.      Breath sounds: Normal breath sounds.   Abdominal:      General: Abdomen is flat. Bowel sounds are normal. There is no distension.      Palpations: Abdomen is soft.      Tenderness: There is no abdominal tenderness.   Musculoskeletal:      Cervical back: Normal range of motion.      Comments: Some left knee effusion noted sporadic  raised erythematous rash noted no warmth range of motion limited due to pain +2 DP/PT pulses distal CMS intact able to bear weight   Skin:     General: Skin is warm and dry.   Neurological:      General: No focal deficit present.      Mental Status: He is alert.   Psychiatric:         Mood and Affect: Mood normal.         Medical Decision Making           Medical Decision Making  *****-year-old male presenting here with acute on chronic knee pain exam showed no signs of neurovascular compromise he does have knee effusion as well as some erythematous rash decreased range of \" motion due to pain knee tap was done fluid sent for analysis.    Has not taken his Eliquis for the last month currently no chest'), Document(metadata={'deid_note_key': 'DACA355EE188B2', 'EncounterKey': 'DA15CCF42ACF8B', 'NoteDate': '2023-09-02', 'DepartmentSpecialty': 'Inpatient Nursing', 'ProviderSpecialty': 'UCSF', 'ProviderType': 'Resident'}, page_content='HEMATOLOGY CONSULT INITIAL NOTE   Date of consult: 09/02/23  Consulting team: ED    Consult Question/Chief Complaint:  anticoagulation    History of Presenting Illness:  ***** ***** is a ***** y.o. male with a history of recurrent VTE who presents with L leg pain and found to have recurrent PE.    See below for complete thrombosis history. Patient denied any history of clot prior to July 2023. While on apixaban he reports easy bruising but no serious bleeding episodes no epistaxis or bloody stools. Currently he reports L leg pain denies shortness of breath.      Thrombosis History  07/31/22: LLE VTE underwent thrombectomy and stent placement 08/01/23  December 2022: PE (admitted for EtOH withdrawal per patient had not been taking apixaban consistently around this time)  02/07/23: Negative cardiolipin Ab IgG/IgM beta-2-glycoprotein IgG/M negative *****  09/02/23: acute PE one month since last apixaban    Past Medical and Surgical History  Past Medical History:   Diagnosis Date   • Diabetes    • Diabetes mellitus    • GERD (gastroesophageal reflux disease)     Barretts appearing mucosa but not dysplasia on path   • Hypertension    • Obesity     BMI 35   • Orchitis    • Polymyalgia rheumatica    • Prostate cancer    • SVT (supraventricular tachycardia)    • Urinary tract infection    • Vascular disease      Past Surgical History:   Procedure Laterality Date   • KNEE SURGERY      ACL repair   • PROSTATE SURGERY  2013   • SHOULDER SURGERY      rotator cuff arthroscopy   • TOTAL KNEE ARTHROPLASTY  2011    Lt knee     Past medical and surgical history reviewed no additional history.     Medications  Current Outpatient Medications   Medication Instructions   • calcium carbonate 200 mg 2 Times Daily With Meals Scheduled   • HYDROcodone-acetaminophen (NORCO) 5-325 mg tablet 1 tablet Every 6 Hours PRN   • metoprolol tartrate (LOPRESSOR) 100 mg Oral Twice Daily   • omeprazole (PRILOSEC) 40 mg Daily Scheduled   • predniSONE \" (DELTASONE) 10 mg Oral Daily Scheduled       Scheduled Meds:  • 0.9% sodium chloride flush  3 mL Intravenous Q12H SCH   • enoxaparin  1 mg/kg (Dosing Weight) Subcutaneous Q12H SCH   • lansoprazole  30 mg Oral Q AM Before Breakfast SCH   • metoprolol tartrate  100 mg Oral BID SCH   • predniSONE  20 mg Oral Daily SCH     Continuous Infusions:  PRN Meds:  • 0.9% sodium chloride flush  3 mL Intravenous PRN   • acetaminophen  650 mg Oral Q4H PRN   • ondansetron  4 mg Oral Q8H PRN    Or   • ondansetron  4 mg Intravenous Q8H PRN       Social History  Social History     Social History Narrative    Disability     Tobacco: no   EtOH: yes  IDU: no    Recently moved to ***** in the process of setting up with PCP      Family History  Family History       Relation Problem Comments    Mother (Alive) Hiatal hernia    Scoliosis        Father (Deceased) Cancer    Tuberculosis        Brother (Alive) Cancer prostate cancer             Family History was reviewed and is non-contributory to this illness.    Review of Systems  Review of Systems   HENT:  Negative for nosebleeds.    Respiratory:  Negative for hemoptysis.    Cardiovascular:  Positive for leg swelling.   Gastrointestinal:  Negative for blood in stool and *****.   Skin:  Negative for rash.   Endo/Heme/Allergies:  Bruises/bleeds easily.   All other systems reviewed and are negative.      Physical Exam  BP 131/85 (BP Location: Left upper arm Patient Position: Lying)   Pulse 72   Temp 36.9 °C (98.5 °F) (Oral)   Resp 16   SpO2 96%   Physical Exam   General: well appearing in no acute distress  HENT: normocephalic normal conjunctiva  Respiratory: normal respiratory effort no audible *****  Abdomen: non-distended  Extremities: bilateral pitting edema L>R  Skin: no visible rashes or bruises  Neuro: oriented to situation face symmetric moving extremities  Psych: appropriate      Laboratory  Recent Labs     09/01/23  2253   WBC 10.4*****   HGB 10.7*****   MCV 83   PLT 306 \"     Recent Labs     09/01/23  2253   PT 12.6   INR 1.0     Recent Labs     09/01/23  2253   NA 143   K 4.2   CREAT'), Document(metadata={'deid_note_key': 'D0501204CCC1D5', 'EncounterKey': 'DA15CCF42ACF8B', 'NoteDate': '2023-09-02', 'DepartmentSpecialty': 'Inpatient Nursing', 'ProviderSpecialty': nan, 'ProviderType': 'Nurse Practitioner'}, page_content='Previously divorced w/o kids. Was living in ***** *****. Prior to becoming disabled he worked briefly as a substitute teacher but did not receive his teaching credentials. He holds a ***** in international relations from *****. He \" reports that he is planning on going back to graduate school here in the ***** *****. He denies cigarette use or illicit drug use; when asked about EtOH he replies \"\"not much\"\" and on \"\"day of the game\"\" but declines to specify how many drinks he normally would have on a weekly basis.       Family History   Problem Relation Name Age of Onset   • Cancer Father     • Tuberculosis Father     • Hiatal hernia Mother     • Scoliosis Mother     • Cancer Brother          prostate cancer   • Anesth problems Neg Hx         Vitals  Temp:  [36.4 °C (97.5 °F)-36.9 °C (98.5 °F)] 36.4 °C (97.5 °F)  Pulse:  [66-97] 66  *****Resp:  [16-18] 18  BP: (117-147)/(72-87) 147/87  SpO2:  [93 %-100 %] 100 %    Physical Exam  Constitutional:       General: He is not in acute distress.     Appearance: Normal appearance. He is not ill-appearing.      Comments: Appearing slightly disheveled.   HENT:      Head: Normocephalic.      Nose: Nose normal.      Mouth/Throat:      Mouth: Mucous membranes are moist.      Pharynx: Oropharynx is clear.   Eyes:      Pupils: Pupils are equal round and reactive to light.      Comments: Artificial lens bil.   Cardiovascular:      Rate and Rhythm: Normal rate and regular rhythm.      Comments: Asymmetric dorsal pedal pulse +2 on right foot unable to feel pulse on left foot.   Pulmonary:      Effort: Pulmonary effort is normal.      Breath sounds: Normal breath sounds.   Abdominal:      General: Abdomen is flat. Bowel sounds are normal. There is no distension.      Palpations: Abdomen is soft. There is no mass.      Tenderness: There is no abdominal tenderness. There is no guarding.   Musculoskeletal:      Right lower leg: Edema present.      Left lower leg: Edema present.      Comments: +1 pitting edema *****. Left knee is covered in ***** bandage.   Skin:     Comments: Multiple scattered purpuric lesions and scabs on forearms and dorsal aspects of hands. Feet are pink w/o dusky coloration.   Neurological:      General: No \" focal deficit present.      Mental Status: He is alert and oriented to person place and time. Mental status is at baseline.      Comments: Oriented to person date location and situation. Able to spell ***** forward and backwards. Recalled October 26 words after delay.   Psychiatric:         Mood and Affect: Mood normal.         Behavior: Behavior normal.      Comments: Slightly guarded.         Cognitive Evaluation  Mini-Cog  ***** Draw: Normal  Three-item recall: 2   Normal (09/02/23 1256)                Lab Results    I have personally reviewed the laboratory and microbiology studies: Yes    Pertinent results include: CBC with diff shows normocytic anemia Hgb 10.7/Hct 37.2 (slightly decreased from previous values Hgb 12.2/Hct 41.4 06/19/23) slightly increased WBC 10.4. BMP wnl. D-dimer elevated 2946.    Radiology Results    I have personally reviewed the radiology studies: Yes    Pertinent results include: US doppler left lower extremity venous shows acute non-occlusive thrombus in left femoral vein extending through tibioperoneal trunk; no right DVT in *****.    Assessment and Recommendations    ***** ***** is a ***** y.o. male with HTN SVT PE DVT on Eliquis DM EtOH abuse OA s/p total knee replacement ankylosing spondylitis on chronic prednisone and hx homelessness p/w left posterior leg pain worse around his knee within last couple of days.    The patient has the following conditions or concerns:    #Delirium assessment  #Memory assessment  No e/o delirium. Patient is linear in thought and screened negatively on ***** delirium measures. He also scored within normal limits on MiniCog. His memory seems to be intact with respect to his medical history and basic orientation questions.   - Monitor    #Frequent ED admissions  #Alcohol use disorder  Concerning given hx EtOH'), Document(metadata={'deid_note_key': 'D0501204CCC1D5', 'EncounterKey': 'DA15CCF42ACF8B', 'NoteDate': '2023-09-02', 'DepartmentSpecialty': 'Inpatient Nursing', 'ProviderSpecialty': nan, 'ProviderType': 'Nurse Practitioner'}, page_content='GERIATRICS ED CONSULT NOTE     The *****/GED (Age-friendly emergency department or Geriatric ED) Consult Service assessed this patient as part of our older adult care pathway. The following is a summary and the details can be found in the A/P. This note will be routed to the PCP and any care recommendations will be shared with ED providers and staff and inpatient services as appropriate.    My date of service is 09/02/2023.    Geriatrics ED consult requested by ***** ***** ***** of the Emergency Medicine service for evaluation of geriatric syndromes.    AGE FRIENDLY Emergency Department Consult Note (Geriatrics)  Assessment and Plan Summary    The *****/GED (Age-friendly emergency department or Geriatric ED) Consult Service evaluated the patient at ***** (***** Campus) as part of our older adult care pathway. The following is a summary and the details can be found in the A/P.    Screening Concern  Comments   Delirium or cognitive impairment risk or mood disorder concerns No    Function or mobility or sensory impairment concerns Yes Independent ADLs/iADLs. Requires single cane. Hx falls. Has OA and chronic back pain. ***** - precontemplative.    Medication concerns Yes Needs refills for blood thinners.    ***** abuse/Self-Neglect concerns No    Home safety concerns No    Caregiver Stress/Social Isolation concerns No    Translation Needed No    Advanced Directive No    Nutrition/Food Security No    Referrals Yes Recommend ***** follow up for PCP linkage   Other       Feel free to access this resource for deprescribing in older adults.  Resources for Clinicians - US Deprescribing Research Network    I communicated with the following as part of this consultation: ***** ***** *****      History of Present Illness  Mr. ***** ***** is a ***** y.o. independent male with HTN SVT PE DVT on Eliquis DM EtOH abuse OA s/p total knee replacement ankylosing spondylitis on chronic prednisone and hx homelessness p/w \" left posterior leg pain worse around his knee within last couple of days.    Patient recently moved to ***** ***** ***** ***** 3 months ago. He has not found a PCP yet but not interested in primary care resources at the moment. While he has refills on most of his medications he did run out of Eliquis; he reported to ED that he was in process of transitioning to warfarin d/t prednisone interaction and decreased efficacy of Eliquis. He has stable housing. He does not drive but relies on MUNI. He is independent ADLs/iADLs. He ambulates with a cane. Chart review indicated multiple ED admissions and hospitalizations sometimes average *****-3x per month. Most recently pt was ***** to ***** ***** in May 2023 for ***** s/p heavy EtOH use; ***** ***** completed shelter referral and taxi voucher to go to ***** Navigation Center.    Past Medical History:   Diagnosis Date   • Diabetes (CMS code)    • Diabetes mellitus (CMS code)    • GERD (gastroesophageal reflux disease)     Barretts appearing mucosa but not dysplasia on path   • Hypertension    • Obesity     BMI 35   • Orchitis    • Polymyalgia rheumatica (CMS code)    • Prostate cancer (CMS code)    • SVT (supraventricular tachycardia)    • Urinary tract infection    • Vascular disease      Past Surgical History:   Procedure Laterality Date   • KNEE SURGERY      ACL repair   • PROSTATE SURGERY  2013   • SHOULDER SURGERY      rotator cuff arthroscopy   • TOTAL KNEE ARTHROPLASTY  2011    Lt knee       Allergies: Patient has no known allergies.     Geriatric Review of Symptoms  *****      Date/Time ***** Score AWOL Score ***** Delirium Risk Nu-DESC Score Stratify Score Who   09/02/23 1259 -- 0 Low 0 -- *****   09/02/23 0800 1 -- -- -- -- *****   09/02/23 0759 -- -- -- -- 1 CM           ***** *****-***** *****  All scores + if =/> 2 (all +s show in red)     STEADI      Date/Time ***** in last yr Unsteady stand/walk Worries about falling Who   09/02/23 1255 Yes Yes No CK           STEADI  Yes to any is \" positive     Activities of Daily Living (ADL)    Bathing: Independent  Dressing:')], 'answer': '```json\\n{\\n  \"1. Mild to moderate esoophagitis\": false,\\n  \"2. GERD\": true,\\n  \"3. Peptic Ulcer Disease\": false,\\n  \"4. Upper GI symptoms\": false,\\n  \"5. ICU Stress Ulcer Prophylaxis\": false,\\n  \"6. Barrett\\'s Esophagus\": true,\\n  \"7. Chronic NSAID use with bleeding risk\": false,\\n  \"8. Severe esophagitis\": false,\\n  \"9. Documented history of bleeding GI ulcer\": false,\\n  \"10. Reasoning\": \"The patient\\'s medical history indicates that they have GERD (gastroesophageal reflux disease) and Barrett\\'s esophagus, which is a complication of GERD. However, there is no mention of mild to moderate esophagitis, peptic ulcer disease, upper GI symptoms, ICU stress ulcer prophylaxis, severe esophagitis, or a documented history of bleeding GI ulcer. Additionally, there is no indication of chronic NSAID use with bleeding risk.\"\\n}\\n```\\n\\nNote: The patient is taking omeprazole (PRILOSEC) which is a proton pump inhibitor (PPI) commonly used to treat GERD and Barrett\\'s esophagus.'}\n"
     ]
    }
   ],
   "source": [
    "result = chain.invoke({\"input\":\"\"\"Based on the information from the note context, does the patient have any of the following:\n",
    "              1. Mild to moderate esophagitis\n",
    "              2. GERD \n",
    "              3. Peptic Ulcer Disease\n",
    "              4. Upper GI symptoms\n",
    "              5. ICU Stress Ulcer Prophylaxis\n",
    "              6. Barrett's Esophagus\n",
    "              7. Chronic NSAID use with bleeding risk\n",
    "              8. Severe esophagitis\n",
    "              9. Documented history of bleeding GI ulcer\n",
    "              10. Explain the reasoning for your answer\n",
    "            Return the answer for each of these as a formatted JSON object with the key being the condition and the value being a boolean value for the first 9.  For the final question, return a string with the reasoning for your answer.\"\"\"})\n",
    "print(result)"
   ]
  },
  {
   "cell_type": "code",
   "execution_count": 49,
   "metadata": {},
   "outputs": [
    {
     "name": "stdout",
     "output_type": "stream",
     "text": [
      "dict_keys(['input', 'context', 'answer'])\n"
     ]
    }
   ],
   "source": [
    "print(result.keys())"
   ]
  },
  {
   "cell_type": "code",
   "execution_count": 50,
   "metadata": {},
   "outputs": [
    {
     "data": {
      "text/plain": [
       "{'1. Mild to moderate esoophagitis': False,\n",
       " '2. GERD': True,\n",
       " '3. Peptic Ulcer Disease': False,\n",
       " '4. Upper GI symptoms': False,\n",
       " '5. ICU Stress Ulcer Prophylaxis': False,\n",
       " \"6. Barrett's Esophagus\": True,\n",
       " '7. Chronic NSAID use with bleeding risk': False,\n",
       " '8. Severe esophagitis': False,\n",
       " '9. Documented history of bleeding GI ulcer': False,\n",
       " '10. Reasoning': \"The patient's medical history indicates that they have GERD (gastroesophageal reflux disease) and Barrett's esophagus, which is a complication of GERD. However, there is no mention of mild to moderate esophagitis, peptic ulcer disease, upper GI symptoms, ICU stress ulcer prophylaxis, severe esophagitis, or a documented history of bleeding GI ulcer. Additionally, there is no indication of chronic NSAID use with bleeding risk.\"}"
      ]
     },
     "execution_count": 50,
     "metadata": {},
     "output_type": "execute_result"
    }
   ],
   "source": [
    "extract_json_from_content(result[\"answer\"])"
   ]
  },
  {
   "cell_type": "code",
   "execution_count": 51,
   "metadata": {},
   "outputs": [
    {
     "name": "stdout",
     "output_type": "stream",
     "text": [
      "The patient's medical history indicates that they have GERD (gastroesophageal reflux disease) and Barrett's esophagus, which is a complication of GERD. However, there is no mention of mild to moderate esophagitis, peptic ulcer disease, upper GI symptoms, ICU stress ulcer prophylaxis, severe esophagitis, or a documented history of bleeding GI ulcer. Additionally, there is no indication of chronic NSAID use with bleeding risk.\n"
     ]
    }
   ],
   "source": [
    "#from the result[\"answer\"] extract only #10. Reasoning key value pair\n",
    "reasoning = extract_json_from_content(result[\"answer\"])[\"10. Reasoning\"]\n",
    "print(reasoning)"
   ]
  },
  {
   "cell_type": "code",
   "execution_count": 52,
   "metadata": {},
   "outputs": [
    {
     "data": {
      "text/plain": [
       "[Document(metadata={'deid_note_key': 'D4924D4A405D5E', 'EncounterKey': 'DA15CCF42ACF8B', 'NoteDate': '2023-09-02', 'DepartmentSpecialty': 'Inpatient Nursing', 'ProviderSpecialty': 'UCSF', 'ProviderType': 'Nurse Practitioner'}, page_content='EMERGENCY DEPARTMENT PHYSICIAN NOTE      ED Attending(s): ***** ***** ***** 09/02/23 00:14; ***** ***** 09/02/23 01:02    Chief Complaint   Patient presents with    Knee Pain     Acute on  chronic left knee pain reports hx of dvt.        HISTORY     Interpreter used? (Optional):     ***** ***** is a ***** y.o. old male with hx of HTN SVT PE DVT on Eliquis DM total knee replacement ankylosing spondylitis on chronic prednisone presented here with left posterior leg pain worse around his knee symptom is acute on chronic worse the last couple days.  No new trauma or *****.  Also admits not taking his Eliquis for the last month as he ran out of prescription.  Recently moved to ***** ***** from ***** *****.  He was in the process of transitioning to warfarin due to prednisone interaction and subsequent decreasing efficacy of Eliquis.  Pain is described as achy/sharp aggravated with movement ambulates with a cane at baseline no radiation.  Reports that his knee has been more swelling than usual.  No fever or chills.  No numbness or tingling.  Denies any chest pain shortness of breath hemoptysis.  No dizziness.    Allergies/Contraindications  No Known Allergies      Medical History    Past Medical History   Diagnosis Date    Diabetes     Diabetes mellitus     GERD (gastroesophageal reflux disease)     Barretts appearing mucosa but not dysplasia on path    Hypertension     Obesity     BMI 35    Orchitis     Polymyalgia rheumatica     Prostate cancer     SVT (supraventricular tachycardia)     Urinary tract infection     Vascular disease               Surgical History    Past Surgical History:   Procedure Laterality Date    KNEE SURGERY      ACL repair    PROSTATE SURGERY  2013    SHOULDER SURGERY      rotator cuff arthroscopy    TOTAL KNEE ARTHROPLASTY  2011    Lt knee              Family History    Family History   Problem Relation Name Age of Onset    Cancer Father      Tuberculosis Father      \" Hiatal hernia Mother      Scoliosis Mother      Cancer Brother          prostate cancer    Anesth problems Neg Hx               Social History     Socioeconomic History    Marital status: Single   Tobacco Use    Smoking status: Former    Smokeless tobacco: Former     Quit date: 01/04/1980   Substance and Sexual Activity    Alcohol use: Yes     Alcohol/week: 1.0 standard drink of alcohol     Types: 1 Shots of liquor per week     Comment: occasionally     Drug use: No   Social History Narrative    Disability           PHYSICAL EXAM     Triage Vital Signs:  BP: (!) 147/81 Pulse: 90 Pulse - Palpated/Pleth: 87 Temp: 36.9 °C (98.5 °*****) *****Resp: 16 SpO2: 98 %    Physical Exam  Constitutional:       Appearance: Normal appearance.   HENT:      Head: Normocephalic.      Mouth/Throat:      Mouth: Mucous membranes are moist.      Pharynx: Oropharynx is clear.   Eyes:      Conjunctiva/sclera: Conjunctivae normal.   Cardiovascular:      Rate and Rhythm: Normal rate.   Pulmonary:      Effort: Pulmonary effort is normal.      Breath sounds: Normal breath sounds.   Abdominal:      General: Abdomen is flat. Bowel sounds are normal. There is no distension.      Palpations: Abdomen is soft.      Tenderness: There is no abdominal tenderness.   Musculoskeletal:      Cervical back: Normal range of motion.      Comments: Some left knee effusion noted sporadic  raised erythematous rash noted no warmth range of motion limited due to pain +2 DP/PT pulses distal CMS intact able to bear weight   Skin:     General: Skin is warm and dry.   Neurological:      General: No focal deficit present.      Mental Status: He is alert.   Psychiatric:         Mood and Affect: Mood normal.         Medical Decision Making           Medical Decision Making  *****-year-old male presenting here with acute on chronic knee pain exam showed no signs of neurovascular compromise he does have knee effusion as well as some erythematous rash decreased range of \" motion due to pain knee tap was done fluid sent for analysis.    Has not taken his Eliquis for the last month currently no chest'),\n",
       " Document(metadata={'deid_note_key': 'DACA355EE188B2', 'EncounterKey': 'DA15CCF42ACF8B', 'NoteDate': '2023-09-02', 'DepartmentSpecialty': 'Inpatient Nursing', 'ProviderSpecialty': 'UCSF', 'ProviderType': 'Resident'}, page_content='HEMATOLOGY CONSULT INITIAL NOTE   Date of consult: 09/02/23  Consulting team: ED    Consult Question/Chief Complaint:  anticoagulation    History of Presenting Illness:  ***** ***** is a ***** y.o. male with a history of recurrent VTE who presents with L leg pain and found to have recurrent PE.    See below for complete thrombosis history. Patient denied any history of clot prior to July 2023. While on apixaban he reports easy bruising but no serious bleeding episodes no epistaxis or bloody stools. Currently he reports L leg pain denies shortness of breath.      Thrombosis History  07/31/22: LLE VTE underwent thrombectomy and stent placement 08/01/23  December 2022: PE (admitted for EtOH withdrawal per patient had not been taking apixaban consistently around this time)  02/07/23: Negative cardiolipin Ab IgG/IgM beta-2-glycoprotein IgG/M negative *****  09/02/23: acute PE one month since last apixaban    Past Medical and Surgical History  Past Medical History:   Diagnosis Date   • Diabetes    • Diabetes mellitus    • GERD (gastroesophageal reflux disease)     Barretts appearing mucosa but not dysplasia on path   • Hypertension    • Obesity     BMI 35   • Orchitis    • Polymyalgia rheumatica    • Prostate cancer    • SVT (supraventricular tachycardia)    • Urinary tract infection    • Vascular disease      Past Surgical History:   Procedure Laterality Date   • KNEE SURGERY      ACL repair   • PROSTATE SURGERY  2013   • SHOULDER SURGERY      rotator cuff arthroscopy   • TOTAL KNEE ARTHROPLASTY  2011    Lt knee     Past medical and surgical history reviewed no additional history.     Medications  Current Outpatient Medications   Medication Instructions   • calcium carbonate 200 mg 2 Times Daily With Meals Scheduled   • HYDROcodone-acetaminophen (NORCO) 5-325 mg tablet 1 tablet Every 6 Hours PRN   • metoprolol tartrate (LOPRESSOR) 100 mg Oral Twice Daily   • omeprazole (PRILOSEC) 40 mg Daily Scheduled   • predniSONE \" (DELTASONE) 10 mg Oral Daily Scheduled       Scheduled Meds:  • 0.9% sodium chloride flush  3 mL Intravenous Q12H SCH   • enoxaparin  1 mg/kg (Dosing Weight) Subcutaneous Q12H SCH   • lansoprazole  30 mg Oral Q AM Before Breakfast SCH   • metoprolol tartrate  100 mg Oral BID SCH   • predniSONE  20 mg Oral Daily SCH     Continuous Infusions:  PRN Meds:  • 0.9% sodium chloride flush  3 mL Intravenous PRN   • acetaminophen  650 mg Oral Q4H PRN   • ondansetron  4 mg Oral Q8H PRN    Or   • ondansetron  4 mg Intravenous Q8H PRN       Social History  Social History     Social History Narrative    Disability     Tobacco: no   EtOH: yes  IDU: no    Recently moved to ***** in the process of setting up with PCP      Family History  Family History       Relation Problem Comments    Mother (Alive) Hiatal hernia    Scoliosis        Father (Deceased) Cancer    Tuberculosis        Brother (Alive) Cancer prostate cancer             Family History was reviewed and is non-contributory to this illness.    Review of Systems  Review of Systems   HENT:  Negative for nosebleeds.    Respiratory:  Negative for hemoptysis.    Cardiovascular:  Positive for leg swelling.   Gastrointestinal:  Negative for blood in stool and *****.   Skin:  Negative for rash.   Endo/Heme/Allergies:  Bruises/bleeds easily.   All other systems reviewed and are negative.      Physical Exam  BP 131/85 (BP Location: Left upper arm Patient Position: Lying)   Pulse 72   Temp 36.9 °C (98.5 °F) (Oral)   Resp 16   SpO2 96%   Physical Exam   General: well appearing in no acute distress  HENT: normocephalic normal conjunctiva  Respiratory: normal respiratory effort no audible *****  Abdomen: non-distended  Extremities: bilateral pitting edema L>R  Skin: no visible rashes or bruises  Neuro: oriented to situation face symmetric moving extremities  Psych: appropriate      Laboratory  Recent Labs     09/01/23  2253   WBC 10.4*****   HGB 10.7*****   MCV 83   PLT 306 \"     Recent Labs     09/01/23  2253   PT 12.6   INR 1.0     Recent Labs     09/01/23  2253   NA 143   K 4.2   CREAT'),\n",
       " Document(metadata={'deid_note_key': 'D0501204CCC1D5', 'EncounterKey': 'DA15CCF42ACF8B', 'NoteDate': '2023-09-02', 'DepartmentSpecialty': 'Inpatient Nursing', 'ProviderSpecialty': nan, 'ProviderType': 'Nurse Practitioner'}, page_content='Previously divorced w/o kids. Was living in ***** *****. Prior to becoming disabled he worked briefly as a substitute teacher but did not receive his teaching credentials. He holds a ***** in international relations from *****. He \" reports that he is planning on going back to graduate school here in the ***** *****. He denies cigarette use or illicit drug use; when asked about EtOH he replies \"\"not much\"\" and on \"\"day of the game\"\" but declines to specify how many drinks he normally would have on a weekly basis.       Family History   Problem Relation Name Age of Onset   • Cancer Father     • Tuberculosis Father     • Hiatal hernia Mother     • Scoliosis Mother     • Cancer Brother          prostate cancer   • Anesth problems Neg Hx         Vitals  Temp:  [36.4 °C (97.5 °F)-36.9 °C (98.5 °F)] 36.4 °C (97.5 °F)  Pulse:  [66-97] 66  *****Resp:  [16-18] 18  BP: (117-147)/(72-87) 147/87  SpO2:  [93 %-100 %] 100 %    Physical Exam  Constitutional:       General: He is not in acute distress.     Appearance: Normal appearance. He is not ill-appearing.      Comments: Appearing slightly disheveled.   HENT:      Head: Normocephalic.      Nose: Nose normal.      Mouth/Throat:      Mouth: Mucous membranes are moist.      Pharynx: Oropharynx is clear.   Eyes:      Pupils: Pupils are equal round and reactive to light.      Comments: Artificial lens bil.   Cardiovascular:      Rate and Rhythm: Normal rate and regular rhythm.      Comments: Asymmetric dorsal pedal pulse +2 on right foot unable to feel pulse on left foot.   Pulmonary:      Effort: Pulmonary effort is normal.      Breath sounds: Normal breath sounds.   Abdominal:      General: Abdomen is flat. Bowel sounds are normal. There is no distension.      Palpations: Abdomen is soft. There is no mass.      Tenderness: There is no abdominal tenderness. There is no guarding.   Musculoskeletal:      Right lower leg: Edema present.      Left lower leg: Edema present.      Comments: +1 pitting edema *****. Left knee is covered in ***** bandage.   Skin:     Comments: Multiple scattered purpuric lesions and scabs on forearms and dorsal aspects of hands. Feet are pink w/o dusky coloration.   Neurological:      General: No \" focal deficit present.      Mental Status: He is alert and oriented to person place and time. Mental status is at baseline.      Comments: Oriented to person date location and situation. Able to spell ***** forward and backwards. Recalled October 26 words after delay.   Psychiatric:         Mood and Affect: Mood normal.         Behavior: Behavior normal.      Comments: Slightly guarded.         Cognitive Evaluation  Mini-Cog  ***** Draw: Normal  Three-item recall: 2   Normal (09/02/23 1256)                Lab Results    I have personally reviewed the laboratory and microbiology studies: Yes    Pertinent results include: CBC with diff shows normocytic anemia Hgb 10.7/Hct 37.2 (slightly decreased from previous values Hgb 12.2/Hct 41.4 06/19/23) slightly increased WBC 10.4. BMP wnl. D-dimer elevated 2946.    Radiology Results    I have personally reviewed the radiology studies: Yes    Pertinent results include: US doppler left lower extremity venous shows acute non-occlusive thrombus in left femoral vein extending through tibioperoneal trunk; no right DVT in *****.    Assessment and Recommendations    ***** ***** is a ***** y.o. male with HTN SVT PE DVT on Eliquis DM EtOH abuse OA s/p total knee replacement ankylosing spondylitis on chronic prednisone and hx homelessness p/w left posterior leg pain worse around his knee within last couple of days.    The patient has the following conditions or concerns:    #Delirium assessment  #Memory assessment  No e/o delirium. Patient is linear in thought and screened negatively on ***** delirium measures. He also scored within normal limits on MiniCog. His memory seems to be intact with respect to his medical history and basic orientation questions.   - Monitor    #Frequent ED admissions  #Alcohol use disorder  Concerning given hx EtOH'),\n",
       " Document(metadata={'deid_note_key': 'D0501204CCC1D5', 'EncounterKey': 'DA15CCF42ACF8B', 'NoteDate': '2023-09-02', 'DepartmentSpecialty': 'Inpatient Nursing', 'ProviderSpecialty': nan, 'ProviderType': 'Nurse Practitioner'}, page_content='GERIATRICS ED CONSULT NOTE     The *****/GED (Age-friendly emergency department or Geriatric ED) Consult Service assessed this patient as part of our older adult care pathway. The following is a summary and the details can be found in the A/P. This note will be routed to the PCP and any care recommendations will be shared with ED providers and staff and inpatient services as appropriate.    My date of service is 09/02/2023.    Geriatrics ED consult requested by ***** ***** ***** of the Emergency Medicine service for evaluation of geriatric syndromes.    AGE FRIENDLY Emergency Department Consult Note (Geriatrics)  Assessment and Plan Summary    The *****/GED (Age-friendly emergency department or Geriatric ED) Consult Service evaluated the patient at ***** (***** Campus) as part of our older adult care pathway. The following is a summary and the details can be found in the A/P.    Screening Concern  Comments   Delirium or cognitive impairment risk or mood disorder concerns No    Function or mobility or sensory impairment concerns Yes Independent ADLs/iADLs. Requires single cane. Hx falls. Has OA and chronic back pain. ***** - precontemplative.    Medication concerns Yes Needs refills for blood thinners.    ***** abuse/Self-Neglect concerns No    Home safety concerns No    Caregiver Stress/Social Isolation concerns No    Translation Needed No    Advanced Directive No    Nutrition/Food Security No    Referrals Yes Recommend ***** follow up for PCP linkage   Other       Feel free to access this resource for deprescribing in older adults.  Resources for Clinicians - US Deprescribing Research Network    I communicated with the following as part of this consultation: ***** ***** *****      History of Present Illness  Mr. ***** ***** is a ***** y.o. independent male with HTN SVT PE DVT on Eliquis DM EtOH abuse OA s/p total knee replacement ankylosing spondylitis on chronic prednisone and hx homelessness p/w \" left posterior leg pain worse around his knee within last couple of days.    Patient recently moved to ***** ***** ***** ***** 3 months ago. He has not found a PCP yet but not interested in primary care resources at the moment. While he has refills on most of his medications he did run out of Eliquis; he reported to ED that he was in process of transitioning to warfarin d/t prednisone interaction and decreased efficacy of Eliquis. He has stable housing. He does not drive but relies on MUNI. He is independent ADLs/iADLs. He ambulates with a cane. Chart review indicated multiple ED admissions and hospitalizations sometimes average *****-3x per month. Most recently pt was ***** to ***** ***** in May 2023 for ***** s/p heavy EtOH use; ***** ***** completed shelter referral and taxi voucher to go to ***** Navigation Center.    Past Medical History:   Diagnosis Date   • Diabetes (CMS code)    • Diabetes mellitus (CMS code)    • GERD (gastroesophageal reflux disease)     Barretts appearing mucosa but not dysplasia on path   • Hypertension    • Obesity     BMI 35   • Orchitis    • Polymyalgia rheumatica (CMS code)    • Prostate cancer (CMS code)    • SVT (supraventricular tachycardia)    • Urinary tract infection    • Vascular disease      Past Surgical History:   Procedure Laterality Date   • KNEE SURGERY      ACL repair   • PROSTATE SURGERY  2013   • SHOULDER SURGERY      rotator cuff arthroscopy   • TOTAL KNEE ARTHROPLASTY  2011    Lt knee       Allergies: Patient has no known allergies.     Geriatric Review of Symptoms  *****      Date/Time ***** Score AWOL Score ***** Delirium Risk Nu-DESC Score Stratify Score Who   09/02/23 1259 -- 0 Low 0 -- *****   09/02/23 0800 1 -- -- -- -- *****   09/02/23 0759 -- -- -- -- 1 CM           ***** *****-***** *****  All scores + if =/> 2 (all +s show in red)     STEADI      Date/Time ***** in last yr Unsteady stand/walk Worries about falling Who   09/02/23 1255 Yes Yes No CK           STEADI  Yes to any is \" positive     Activities of Daily Living (ADL)    Bathing: Independent  Dressing:')]"
      ]
     },
     "execution_count": 52,
     "metadata": {},
     "output_type": "execute_result"
    }
   ],
   "source": [
    "result[\"context\"]"
   ]
  },
  {
   "cell_type": "code",
   "execution_count": 63,
   "metadata": {},
   "outputs": [
    {
     "name": "stdout",
     "output_type": "stream",
     "text": [
      "================================\u001b[1m System Message \u001b[0m================================\n",
      "\n",
      "You are a knowledgeable medical provider who specializes in medication management. \n",
      "Given a list of note context, explain the reasoning with cited parts of the note that support this answer: The patient's medical history indicates that they have GERD (gastroesophageal reflux disease) and Barrett's esophagus, which is a complication of GERD. However, there is no mention of mild to moderate esophagitis, peptic ulcer disease, upper GI symptoms, ICU stress ulcer prophylaxis, severe esophagitis, or a documented history of bleeding GI ulcer. Additionally, there is no indication of chronic NSAID use with bleeding risk..\n",
      "\n",
      "An example response would be in this format:\n",
      "\n",
      "The patient has severe esophagitis. This is supported by the following parts of the note:\n",
      "\n",
      "\"The patient has been experiencing severe heartburn for the past 3 weeks.\" from the note on 2022-01-01 by the Provider Type Resident.\n",
      "\n",
      "\n",
      "\n",
      "\n",
      "================================\u001b[1m Human Message \u001b[0m=================================\n",
      "\n",
      "\u001b[33;1m\u001b[1;3m{input}\u001b[0m\n"
     ]
    }
   ],
   "source": [
    "system = f\"\"\"You are a knowledgeable medical provider who specializes in medication management. \n",
    "Given a list of note context, explain the reasoning with cited parts of the note that support this answer: {reasoning}.\n",
    "\n",
    "An example response would be in this format:\n",
    "\n",
    "The patient has severe esophagitis. This is supported by the following parts of the note:\n",
    "\n",
    "\"The patient has been experiencing severe heartburn for the past 3 weeks.\" from the note on 2022-01-01 by the Provider Type Resident.\n",
    "\n",
    "\n",
    "\"\"\"\n",
    "mstr_prompt = ChatPromptTemplate.from_messages(\n",
    "        [\n",
    "        (\"system\", system), (\"human\", \"{input}\")\n",
    "        ])\n",
    "mstr_prompt.pretty_print()"
   ]
  },
  {
   "cell_type": "code",
   "execution_count": 64,
   "metadata": {},
   "outputs": [
    {
     "name": "stdout",
     "output_type": "stream",
     "text": [
      "{'input': [Document(metadata={'deid_note_key': 'D4924D4A405D5E', 'EncounterKey': 'DA15CCF42ACF8B', 'NoteDate': '2023-09-02', 'DepartmentSpecialty': 'Inpatient Nursing', 'ProviderSpecialty': 'UCSF', 'ProviderType': 'Nurse Practitioner'}, page_content='EMERGENCY DEPARTMENT PHYSICIAN NOTE      ED Attending(s): ***** ***** ***** 09/02/23 00:14; ***** ***** 09/02/23 01:02    Chief Complaint   Patient presents with    Knee Pain     Acute on  chronic left knee pain reports hx of dvt.        HISTORY     Interpreter used? (Optional):     ***** ***** is a ***** y.o. old male with hx of HTN SVT PE DVT on Eliquis DM total knee replacement ankylosing spondylitis on chronic prednisone presented here with left posterior leg pain worse around his knee symptom is acute on chronic worse the last couple days.  No new trauma or *****.  Also admits not taking his Eliquis for the last month as he ran out of prescription.  Recently moved to ***** ***** from ***** *****.  He was in the process of transitioning to warfarin due to prednisone interaction and subsequent decreasing efficacy of Eliquis.  Pain is described as achy/sharp aggravated with movement ambulates with a cane at baseline no radiation.  Reports that his knee has been more swelling than usual.  No fever or chills.  No numbness or tingling.  Denies any chest pain shortness of breath hemoptysis.  No dizziness.    Allergies/Contraindications  No Known Allergies      Medical History    Past Medical History   Diagnosis Date    Diabetes     Diabetes mellitus     GERD (gastroesophageal reflux disease)     Barretts appearing mucosa but not dysplasia on path    Hypertension     Obesity     BMI 35    Orchitis     Polymyalgia rheumatica     Prostate cancer     SVT (supraventricular tachycardia)     Urinary tract infection     Vascular disease               Surgical History    Past Surgical History:   Procedure Laterality Date    KNEE SURGERY      ACL repair    PROSTATE SURGERY  2013    SHOULDER SURGERY      rotator cuff arthroscopy    TOTAL KNEE ARTHROPLASTY  2011    Lt knee              Family History    Family History   Problem Relation Name Age of Onset    Cancer Father      Tuberculosis Father      \" Hiatal hernia Mother      Scoliosis Mother      Cancer Brother          prostate cancer    Anesth problems Neg Hx               Social History     Socioeconomic History    Marital status: Single   Tobacco Use    Smoking status: Former    Smokeless tobacco: Former     Quit date: 01/04/1980   Substance and Sexual Activity    Alcohol use: Yes     Alcohol/week: 1.0 standard drink of alcohol     Types: 1 Shots of liquor per week     Comment: occasionally     Drug use: No   Social History Narrative    Disability           PHYSICAL EXAM     Triage Vital Signs:  BP: (!) 147/81 Pulse: 90 Pulse - Palpated/Pleth: 87 Temp: 36.9 °C (98.5 °*****) *****Resp: 16 SpO2: 98 %    Physical Exam  Constitutional:       Appearance: Normal appearance.   HENT:      Head: Normocephalic.      Mouth/Throat:      Mouth: Mucous membranes are moist.      Pharynx: Oropharynx is clear.   Eyes:      Conjunctiva/sclera: Conjunctivae normal.   Cardiovascular:      Rate and Rhythm: Normal rate.   Pulmonary:      Effort: Pulmonary effort is normal.      Breath sounds: Normal breath sounds.   Abdominal:      General: Abdomen is flat. Bowel sounds are normal. There is no distension.      Palpations: Abdomen is soft.      Tenderness: There is no abdominal tenderness.   Musculoskeletal:      Cervical back: Normal range of motion.      Comments: Some left knee effusion noted sporadic  raised erythematous rash noted no warmth range of motion limited due to pain +2 DP/PT pulses distal CMS intact able to bear weight   Skin:     General: Skin is warm and dry.   Neurological:      General: No focal deficit present.      Mental Status: He is alert.   Psychiatric:         Mood and Affect: Mood normal.         Medical Decision Making           Medical Decision Making  *****-year-old male presenting here with acute on chronic knee pain exam showed no signs of neurovascular compromise he does have knee effusion as well as some erythematous rash decreased range of \" motion due to pain knee tap was done fluid sent for analysis.    Has not taken his Eliquis for the last month currently no chest'), Document(metadata={'deid_note_key': 'DACA355EE188B2', 'EncounterKey': 'DA15CCF42ACF8B', 'NoteDate': '2023-09-02', 'DepartmentSpecialty': 'Inpatient Nursing', 'ProviderSpecialty': 'UCSF', 'ProviderType': 'Resident'}, page_content='HEMATOLOGY CONSULT INITIAL NOTE   Date of consult: 09/02/23  Consulting team: ED    Consult Question/Chief Complaint:  anticoagulation    History of Presenting Illness:  ***** ***** is a ***** y.o. male with a history of recurrent VTE who presents with L leg pain and found to have recurrent PE.    See below for complete thrombosis history. Patient denied any history of clot prior to July 2023. While on apixaban he reports easy bruising but no serious bleeding episodes no epistaxis or bloody stools. Currently he reports L leg pain denies shortness of breath.      Thrombosis History  07/31/22: LLE VTE underwent thrombectomy and stent placement 08/01/23  December 2022: PE (admitted for EtOH withdrawal per patient had not been taking apixaban consistently around this time)  02/07/23: Negative cardiolipin Ab IgG/IgM beta-2-glycoprotein IgG/M negative *****  09/02/23: acute PE one month since last apixaban    Past Medical and Surgical History  Past Medical History:   Diagnosis Date   • Diabetes    • Diabetes mellitus    • GERD (gastroesophageal reflux disease)     Barretts appearing mucosa but not dysplasia on path   • Hypertension    • Obesity     BMI 35   • Orchitis    • Polymyalgia rheumatica    • Prostate cancer    • SVT (supraventricular tachycardia)    • Urinary tract infection    • Vascular disease      Past Surgical History:   Procedure Laterality Date   • KNEE SURGERY      ACL repair   • PROSTATE SURGERY  2013   • SHOULDER SURGERY      rotator cuff arthroscopy   • TOTAL KNEE ARTHROPLASTY  2011    Lt knee     Past medical and surgical history reviewed no additional history.     Medications  Current Outpatient Medications   Medication Instructions   • calcium carbonate 200 mg 2 Times Daily With Meals Scheduled   • HYDROcodone-acetaminophen (NORCO) 5-325 mg tablet 1 tablet Every 6 Hours PRN   • metoprolol tartrate (LOPRESSOR) 100 mg Oral Twice Daily   • omeprazole (PRILOSEC) 40 mg Daily Scheduled   • predniSONE \" (DELTASONE) 10 mg Oral Daily Scheduled       Scheduled Meds:  • 0.9% sodium chloride flush  3 mL Intravenous Q12H SCH   • enoxaparin  1 mg/kg (Dosing Weight) Subcutaneous Q12H SCH   • lansoprazole  30 mg Oral Q AM Before Breakfast SCH   • metoprolol tartrate  100 mg Oral BID SCH   • predniSONE  20 mg Oral Daily SCH     Continuous Infusions:  PRN Meds:  • 0.9% sodium chloride flush  3 mL Intravenous PRN   • acetaminophen  650 mg Oral Q4H PRN   • ondansetron  4 mg Oral Q8H PRN    Or   • ondansetron  4 mg Intravenous Q8H PRN       Social History  Social History     Social History Narrative    Disability     Tobacco: no   EtOH: yes  IDU: no    Recently moved to ***** in the process of setting up with PCP      Family History  Family History       Relation Problem Comments    Mother (Alive) Hiatal hernia    Scoliosis        Father (Deceased) Cancer    Tuberculosis        Brother (Alive) Cancer prostate cancer             Family History was reviewed and is non-contributory to this illness.    Review of Systems  Review of Systems   HENT:  Negative for nosebleeds.    Respiratory:  Negative for hemoptysis.    Cardiovascular:  Positive for leg swelling.   Gastrointestinal:  Negative for blood in stool and *****.   Skin:  Negative for rash.   Endo/Heme/Allergies:  Bruises/bleeds easily.   All other systems reviewed and are negative.      Physical Exam  BP 131/85 (BP Location: Left upper arm Patient Position: Lying)   Pulse 72   Temp 36.9 °C (98.5 °F) (Oral)   Resp 16   SpO2 96%   Physical Exam   General: well appearing in no acute distress  HENT: normocephalic normal conjunctiva  Respiratory: normal respiratory effort no audible *****  Abdomen: non-distended  Extremities: bilateral pitting edema L>R  Skin: no visible rashes or bruises  Neuro: oriented to situation face symmetric moving extremities  Psych: appropriate      Laboratory  Recent Labs     09/01/23  2253   WBC 10.4*****   HGB 10.7*****   MCV 83   PLT 306 \"     Recent Labs     09/01/23  2253   PT 12.6   INR 1.0     Recent Labs     09/01/23  2253   NA 143   K 4.2   CREAT'), Document(metadata={'deid_note_key': 'D0501204CCC1D5', 'EncounterKey': 'DA15CCF42ACF8B', 'NoteDate': '2023-09-02', 'DepartmentSpecialty': 'Inpatient Nursing', 'ProviderSpecialty': nan, 'ProviderType': 'Nurse Practitioner'}, page_content='Previously divorced w/o kids. Was living in ***** *****. Prior to becoming disabled he worked briefly as a substitute teacher but did not receive his teaching credentials. He holds a ***** in international relations from *****. He \" reports that he is planning on going back to graduate school here in the ***** *****. He denies cigarette use or illicit drug use; when asked about EtOH he replies \"\"not much\"\" and on \"\"day of the game\"\" but declines to specify how many drinks he normally would have on a weekly basis.       Family History   Problem Relation Name Age of Onset   • Cancer Father     • Tuberculosis Father     • Hiatal hernia Mother     • Scoliosis Mother     • Cancer Brother          prostate cancer   • Anesth problems Neg Hx         Vitals  Temp:  [36.4 °C (97.5 °F)-36.9 °C (98.5 °F)] 36.4 °C (97.5 °F)  Pulse:  [66-97] 66  *****Resp:  [16-18] 18  BP: (117-147)/(72-87) 147/87  SpO2:  [93 %-100 %] 100 %    Physical Exam  Constitutional:       General: He is not in acute distress.     Appearance: Normal appearance. He is not ill-appearing.      Comments: Appearing slightly disheveled.   HENT:      Head: Normocephalic.      Nose: Nose normal.      Mouth/Throat:      Mouth: Mucous membranes are moist.      Pharynx: Oropharynx is clear.   Eyes:      Pupils: Pupils are equal round and reactive to light.      Comments: Artificial lens bil.   Cardiovascular:      Rate and Rhythm: Normal rate and regular rhythm.      Comments: Asymmetric dorsal pedal pulse +2 on right foot unable to feel pulse on left foot.   Pulmonary:      Effort: Pulmonary effort is normal.      Breath sounds: Normal breath sounds.   Abdominal:      General: Abdomen is flat. Bowel sounds are normal. There is no distension.      Palpations: Abdomen is soft. There is no mass.      Tenderness: There is no abdominal tenderness. There is no guarding.   Musculoskeletal:      Right lower leg: Edema present.      Left lower leg: Edema present.      Comments: +1 pitting edema *****. Left knee is covered in ***** bandage.   Skin:     Comments: Multiple scattered purpuric lesions and scabs on forearms and dorsal aspects of hands. Feet are pink w/o dusky coloration.   Neurological:      General: No \" focal deficit present.      Mental Status: He is alert and oriented to person place and time. Mental status is at baseline.      Comments: Oriented to person date location and situation. Able to spell ***** forward and backwards. Recalled October 26 words after delay.   Psychiatric:         Mood and Affect: Mood normal.         Behavior: Behavior normal.      Comments: Slightly guarded.         Cognitive Evaluation  Mini-Cog  ***** Draw: Normal  Three-item recall: 2   Normal (09/02/23 1256)                Lab Results    I have personally reviewed the laboratory and microbiology studies: Yes    Pertinent results include: CBC with diff shows normocytic anemia Hgb 10.7/Hct 37.2 (slightly decreased from previous values Hgb 12.2/Hct 41.4 06/19/23) slightly increased WBC 10.4. BMP wnl. D-dimer elevated 2946.    Radiology Results    I have personally reviewed the radiology studies: Yes    Pertinent results include: US doppler left lower extremity venous shows acute non-occlusive thrombus in left femoral vein extending through tibioperoneal trunk; no right DVT in *****.    Assessment and Recommendations    ***** ***** is a ***** y.o. male with HTN SVT PE DVT on Eliquis DM EtOH abuse OA s/p total knee replacement ankylosing spondylitis on chronic prednisone and hx homelessness p/w left posterior leg pain worse around his knee within last couple of days.    The patient has the following conditions or concerns:    #Delirium assessment  #Memory assessment  No e/o delirium. Patient is linear in thought and screened negatively on ***** delirium measures. He also scored within normal limits on MiniCog. His memory seems to be intact with respect to his medical history and basic orientation questions.   - Monitor    #Frequent ED admissions  #Alcohol use disorder  Concerning given hx EtOH'), Document(metadata={'deid_note_key': 'D0501204CCC1D5', 'EncounterKey': 'DA15CCF42ACF8B', 'NoteDate': '2023-09-02', 'DepartmentSpecialty': 'Inpatient Nursing', 'ProviderSpecialty': nan, 'ProviderType': 'Nurse Practitioner'}, page_content='GERIATRICS ED CONSULT NOTE     The *****/GED (Age-friendly emergency department or Geriatric ED) Consult Service assessed this patient as part of our older adult care pathway. The following is a summary and the details can be found in the A/P. This note will be routed to the PCP and any care recommendations will be shared with ED providers and staff and inpatient services as appropriate.    My date of service is 09/02/2023.    Geriatrics ED consult requested by ***** ***** ***** of the Emergency Medicine service for evaluation of geriatric syndromes.    AGE FRIENDLY Emergency Department Consult Note (Geriatrics)  Assessment and Plan Summary    The *****/GED (Age-friendly emergency department or Geriatric ED) Consult Service evaluated the patient at ***** (***** Campus) as part of our older adult care pathway. The following is a summary and the details can be found in the A/P.    Screening Concern  Comments   Delirium or cognitive impairment risk or mood disorder concerns No    Function or mobility or sensory impairment concerns Yes Independent ADLs/iADLs. Requires single cane. Hx falls. Has OA and chronic back pain. ***** - precontemplative.    Medication concerns Yes Needs refills for blood thinners.    ***** abuse/Self-Neglect concerns No    Home safety concerns No    Caregiver Stress/Social Isolation concerns No    Translation Needed No    Advanced Directive No    Nutrition/Food Security No    Referrals Yes Recommend ***** follow up for PCP linkage   Other       Feel free to access this resource for deprescribing in older adults.  Resources for Clinicians - US Deprescribing Research Network    I communicated with the following as part of this consultation: ***** ***** *****      History of Present Illness  Mr. ***** ***** is a ***** y.o. independent male with HTN SVT PE DVT on Eliquis DM EtOH abuse OA s/p total knee replacement ankylosing spondylitis on chronic prednisone and hx homelessness p/w \" left posterior leg pain worse around his knee within last couple of days.    Patient recently moved to ***** ***** ***** ***** 3 months ago. He has not found a PCP yet but not interested in primary care resources at the moment. While he has refills on most of his medications he did run out of Eliquis; he reported to ED that he was in process of transitioning to warfarin d/t prednisone interaction and decreased efficacy of Eliquis. He has stable housing. He does not drive but relies on MUNI. He is independent ADLs/iADLs. He ambulates with a cane. Chart review indicated multiple ED admissions and hospitalizations sometimes average *****-3x per month. Most recently pt was ***** to ***** ***** in May 2023 for ***** s/p heavy EtOH use; ***** ***** completed shelter referral and taxi voucher to go to ***** Navigation Center.    Past Medical History:   Diagnosis Date   • Diabetes (CMS code)    • Diabetes mellitus (CMS code)    • GERD (gastroesophageal reflux disease)     Barretts appearing mucosa but not dysplasia on path   • Hypertension    • Obesity     BMI 35   • Orchitis    • Polymyalgia rheumatica (CMS code)    • Prostate cancer (CMS code)    • SVT (supraventricular tachycardia)    • Urinary tract infection    • Vascular disease      Past Surgical History:   Procedure Laterality Date   • KNEE SURGERY      ACL repair   • PROSTATE SURGERY  2013   • SHOULDER SURGERY      rotator cuff arthroscopy   • TOTAL KNEE ARTHROPLASTY  2011    Lt knee       Allergies: Patient has no known allergies.     Geriatric Review of Symptoms  *****      Date/Time ***** Score AWOL Score ***** Delirium Risk Nu-DESC Score Stratify Score Who   09/02/23 1259 -- 0 Low 0 -- *****   09/02/23 0800 1 -- -- -- -- *****   09/02/23 0759 -- -- -- -- 1 CM           ***** *****-***** *****  All scores + if =/> 2 (all +s show in red)     STEADI      Date/Time ***** in last yr Unsteady stand/walk Worries about falling Who   09/02/23 1255 Yes Yes No CK           STEADI  Yes to any is \" positive     Activities of Daily Living (ADL)    Bathing: Independent  Dressing:')]}\n"
     ]
    }
   ],
   "source": [
    "print({\"input\":result[\"context\"]})"
   ]
  },
  {
   "cell_type": "code",
   "execution_count": 65,
   "metadata": {},
   "outputs": [
    {
     "name": "stdout",
     "output_type": "stream",
     "text": [
      "The patient does not have mild to moderate esophagitis, peptic ulcer disease, upper GI symptoms, ICU stress ulcer prophylaxis, severe esophagitis, or a documented history of bleeding GI ulcer. Additionally, there is no indication of chronic NSAID use with bleeding risk.\n",
      "\n",
      "This is supported by the following parts of the note:\n",
      "\n",
      "* \"Gastrointestinal: Negative for blood in stool and *****.\" from the note on 2023-09-02 by the Provider Type Resident.\n",
      "* \"Abdominal: General: Abdomen is flat. Bowel sounds are normal. There is no distension. Palpations: Abdomen is soft. There is no mass. Tenderness: There is no abdominal tenderness. There is no guarding.\" from the note on 2023-09-02 by the Provider Type Nurse Practitioner.\n",
      "* \"Past Medical History: Diagnosis Date • GERD (gastroesophageal reflux disease) Barretts appearing mucosa but not dysplasia on path\" from the note on 2023-09-02 by the Provider Type Resident, which indicates that the patient has GERD and Barrett's esophagus, but no mention of esophagitis or peptic ulcer disease.\n",
      "* \"Medications Current Outpatient Medications Medication Instructions • omeprazole (PRILOSEC) 40 mg Daily Scheduled\" from the note on 2023-09-02 by the Provider Type Resident, which indicates that the patient is taking omeprazole, a proton pump inhibitor, for GERD, but there is no mention of NSAID use.\n",
      "* \"Allergies/Contraindications No Known Allergies\" from the note on 2023-09-02 by the Provider Type Nurse Practitioner, which indicates that the patient has no known allergies, including no allergy to NSAIDs.\n"
     ]
    }
   ],
   "source": [
    "mstr_chain = (\n",
    "        {\"input\": RunnablePassthrough()}\n",
    "        | mstr_prompt \n",
    "        | llama_3_1\n",
    "        | StrOutputParser()\n",
    ")\n",
    "\n",
    "mstr_answer = mstr_chain.invoke({\"input\":result[\"context\"]})\n",
    "print(mstr_answer)"
   ]
  },
  {
   "cell_type": "code",
   "execution_count": null,
   "metadata": {},
   "outputs": [],
   "source": []
  }
 ],
 "metadata": {
  "kernelspec": {
   "display_name": ".venv",
   "language": "python",
   "name": "python3"
  },
  "language_info": {
   "codemirror_mode": {
    "name": "ipython",
    "version": 3
   },
   "file_extension": ".py",
   "mimetype": "text/x-python",
   "name": "python",
   "nbconvert_exporter": "python",
   "pygments_lexer": "ipython3",
   "version": "3.10.10"
  }
 },
 "nbformat": 4,
 "nbformat_minor": 2
}
